{
 "cells": [
  {
   "cell_type": "markdown",
   "metadata": {},
   "source": [
    "# Clustering\n",
    "\n",
    "## Spectral Clustering\n",
    "\n",
    "#### **Code Overview**\n",
    "\n",
    "```\n",
    "n_neighbors = 3\n",
    "n_clusters = 20\n",
    "```\n",
    "\n",
    "**Option 1**: Can feed original data to clustering algorithm (with `affinity='nearest_neighbors'`) and ask it to cluster the data using nearest neighbors \n",
    "\n",
    "```\n",
    "spc = SpectralClustering(n_clusters=n_clusters, n_neighbors=n_neighbors, affinity='nearest_neighbors', random_state=42)\n",
    "labels = spc.fit_predict(X) \n",
    "```\n",
    "\n",
    "**Option 2**: Alternately, we can split this up into 2 (or possibly 3) steps where we use the original data to compute a graph first (which uses knearest neighbors method) and then feed the graph to the clustering algorithm (with `affinity='precomputed'`) instead of feeding the data directly. \n",
    "\n",
    "* You can feed X directly to `kneighbors_graph` or create a `BallTree` with X first and feed the `BallTree` to `kneighbors_graph`\n",
    "* `BallTree` ([click here](https://scikit-learn.org/stable/modules/generated/sklearn.neighbors.BallTree.html)) is essentially returning a structure where you can query the nearest nodes to a particular node and their distances.\n",
    "* Difference between `BallTree` and `kneighbors_graph`\n",
    "    - `BallTree` gives the ability to say \"Give me the 2 closest neighbors\" or \"Give me the 5 closest neighbors\" (see detailed section below for how this is queried)\n",
    "    - `kneighbors_graph` is computed for a single value of n_neighbors\n",
    "\n",
    "```\n",
    "from sklearn.neighbors import BallTree\n",
    "from sklearn.neighbors import kneighbors_graph\n",
    "from sklearn.cluster import SpectralClustering\n",
    "\n",
    "tree = BallTree(X, leaf_size=2)\n",
    "A3 = kneighbors_graph(tree, n_neighbors=n_neighbors, mode='connectivity', include_self=True)\n",
    "spc = SpectralClustering(n_clusters=n_clusters, affinity='precomputed', random_state=42)\n",
    "labels = spc.fit_predict(A3) \n",
    "```\n",
    "\n",
    "**Option 3**: While Option 1 and 2 are essentially doing the same thing, we can use a variant of option 1 by using a different affinity (`affinity='rbf'`). \n",
    "\n",
    "### Sometimes, you have the graph (or [affinity matrix](https://deepai.org/machine-learning-glossary-and-terms/affinity-matrix)) available. In that case, you can still cluster the graph by using option 2 directly See below as per [scikit documentation](https://scikit-learn.org/stable/modules/clustering.html).\n",
    "\n",
    "```\n",
    "2.3.5.2. Spectral Clustering Graphs\n",
    "\n",
    "Spectral Clustering can also be used to partition graphs via their spectral embeddings. In this case, the affinity matrix is the adjacency matrix of the graph, and SpectralClustering is initialized with affinity='precomputed':\n",
    "\n",
    "```"
   ]
  },
  {
   "cell_type": "code",
   "execution_count": 1,
   "metadata": {},
   "outputs": [
    {
     "data": {
      "text/plain": [
       "array([[1, 1, 1, 0, 0, 0, 0],\n",
       "       [1, 0, 1, 0, 0, 0, 0],\n",
       "       [1, 1, 1, 0, 0, 0, 0],\n",
       "       [0, 0, 0, 1, 1, 1, 1],\n",
       "       [0, 0, 0, 1, 1, 1, 1],\n",
       "       [0, 0, 0, 1, 1, 3, 3],\n",
       "       [0, 0, 0, 1, 1, 3, 3]])"
      ]
     },
     "execution_count": 1,
     "metadata": {},
     "output_type": "execute_result"
    }
   ],
   "source": [
    "import warnings\n",
    "warnings.filterwarnings('ignore')\n",
    "import numpy as np\n",
    "\n",
    "X = [\n",
    "    [1,1,1,0,0,0,0],\n",
    "    [1,0,1,0,0,0,0],\n",
    "    [1,1,1,0,0,0,0],\n",
    "    [0,0,0,1,1,1,1],\n",
    "    [0,0,0,1,1,1,1],\n",
    "    [0,0,0,1,1,3,3],\n",
    "    [0,0,0,1,1,3,3]\n",
    "]\n",
    "X = np.asarray(X)\n",
    "X"
   ]
  },
  {
   "cell_type": "markdown",
   "metadata": {},
   "source": [
    "#### What the BallTree and kneighbors_graph is doing is basically defining the nearest `n_neighbors` to each observation \n",
    "\n",
    "Example below shows the graph with 2 nearest neighbors.\n",
    "Observation 1 is closest to itself and observation 3.\n",
    "Observation 3 is closest to itself and observation 1.\n",
    "Observation 2 is closest to itself and observation 1\n",
    "\n",
    "**Note that this may or may not be symmetic. Example observation 1 is closest to observation 3 and vice versa, but that is not the case for observation 1 ansd 2. Observation 2 is closest to observation 1 but observation 1 is not closest to observation 2.**\n"
   ]
  },
  {
   "cell_type": "code",
   "execution_count": 2,
   "metadata": {},
   "outputs": [
    {
     "data": {
      "text/plain": [
       "array([[1., 0., 1., 0., 0., 0., 0.],\n",
       "       [1., 1., 0., 0., 0., 0., 0.],\n",
       "       [1., 0., 1., 0., 0., 0., 0.],\n",
       "       [0., 0., 0., 1., 1., 0., 0.],\n",
       "       [0., 0., 0., 1., 1., 0., 0.],\n",
       "       [0., 0., 0., 0., 0., 1., 1.],\n",
       "       [0., 0., 0., 0., 0., 1., 1.]])"
      ]
     },
     "execution_count": 2,
     "metadata": {},
     "output_type": "execute_result"
    }
   ],
   "source": [
    "from sklearn.neighbors import BallTree\n",
    "from sklearn.neighbors import kneighbors_graph\n",
    "from sklearn.cluster import SpectralClustering\n",
    "\n",
    "tree = BallTree(X, leaf_size=2)\n",
    "graph = kneighbors_graph(tree, n_neighbors=2, mode='connectivity', include_self=True)\n",
    "graph.toarray()"
   ]
  },
  {
   "cell_type": "markdown",
   "metadata": {},
   "source": [
    "**Same example as above with n_neighbors=3**"
   ]
  },
  {
   "cell_type": "code",
   "execution_count": 3,
   "metadata": {},
   "outputs": [
    {
     "data": {
      "text/plain": [
       "array([[1., 1., 1., 0., 0., 0., 0.],\n",
       "       [1., 1., 1., 0., 0., 0., 0.],\n",
       "       [1., 1., 1., 0., 0., 0., 0.],\n",
       "       [0., 1., 0., 1., 1., 0., 0.],\n",
       "       [0., 1., 0., 1., 1., 0., 0.],\n",
       "       [0., 0., 0., 1., 0., 1., 1.],\n",
       "       [0., 0., 0., 1., 0., 1., 1.]])"
      ]
     },
     "execution_count": 3,
     "metadata": {},
     "output_type": "execute_result"
    }
   ],
   "source": [
    "tree = BallTree(X, leaf_size=2)\n",
    "graph = kneighbors_graph(tree, n_neighbors=3, mode='connectivity', include_self=True)\n",
    "graph.toarray()"
   ]
  },
  {
   "cell_type": "markdown",
   "metadata": {},
   "source": [
    "**Once we have deinfed the graph, we can use it to cluster.**\n",
    "\n",
    "So if we take n_neighbors=2 and ask for 3 clusters.\n",
    "\n",
    "* Clustering\n",
    "    - It clubs obs 1 and 3 --> (1,3)\n",
    "    - It clubs obs 6 and 7 --> (6,7)\n",
    "    - It clubs obs 4 and 5 --> (4,5)\n",
    "    - Obs 2 is left. It is closest to obs 1 so we put it in that cluster. Final clusters\n",
    "\n",
    "**Final Clusters**\n",
    "\n",
    "* Cluster 1: Obs (1,3,2)\n",
    "* Cluster 2: Obs (6,7)\n",
    "* Cluster 3: Obs (4,5)"
   ]
  },
  {
   "cell_type": "code",
   "execution_count": 4,
   "metadata": {},
   "outputs": [
    {
     "name": "stdout",
     "output_type": "stream",
     "text": [
      "Assigned Labels: [1 1 1 0 0 2 2]\n"
     ]
    }
   ],
   "source": [
    "tree = BallTree(X, leaf_size=2)\n",
    "graph = kneighbors_graph(tree, n_neighbors=2, mode='connectivity', include_self=True)\n",
    "spc = SpectralClustering(n_clusters=3, affinity='precomputed', random_state=42)\n",
    "labels = spc.fit_predict(graph) \n",
    "print(f\"Assigned Labels: {labels}\")"
   ]
  },
  {
   "cell_type": "markdown",
   "metadata": {},
   "source": [
    "#### **Ofcourse, this was a simple example, and I choose n_neighbors and n_clusters based on prior knowlege of how these should be clustered. But in reality we are looking at an unsupervised probelem. So we dont know how many neighbors to use and how many clusters to build, so we use a grid search approach as below.**\n",
    "\n",
    "#### **The problem with this approach is that each combination of hyperparameters can give a different set of clustering (see below). So we will eventually need some sort of ensemble approach to pick the most likely clusters based on concensus or some other means.**"
   ]
  },
  {
   "cell_type": "code",
   "execution_count": 5,
   "metadata": {},
   "outputs": [
    {
     "name": "stdout",
     "output_type": "stream",
     "text": [
      "\n",
      "n_clusters: 2\n",
      "n_neighbors: 2 | Assigned Labels: [1 1 1 0 0 1 1]\n",
      "n_neighbors: 3 | Assigned Labels: [1 1 1 0 0 0 0]\n",
      "n_neighbors: 4 | Assigned Labels: [1 1 1 0 1 0 0]\n",
      "n_neighbors: 5 | Assigned Labels: [0 0 0 0 0 1 1]\n",
      "n_neighbors: 6 | Assigned Labels: [0 0 0 0 0 1 1]\n",
      "\n",
      "n_clusters: 3\n",
      "n_neighbors: 2 | Assigned Labels: [1 1 1 0 0 2 2]\n",
      "n_neighbors: 3 | Assigned Labels: [1 1 1 0 0 2 2]\n",
      "n_neighbors: 4 | Assigned Labels: [2 2 2 0 0 1 1]\n",
      "n_neighbors: 5 | Assigned Labels: [1 1 1 0 1 2 2]\n",
      "n_neighbors: 6 | Assigned Labels: [1 1 1 0 0 0 2]\n"
     ]
    }
   ],
   "source": [
    "for n_clusters in np.arange(2,4):\n",
    "    print(f\"\\nn_clusters: {n_clusters}\")\n",
    "    for n_neighbors in np.arange(2,7):\n",
    "        tree = BallTree(X, leaf_size=2)\n",
    "        graph = kneighbors_graph(tree, n_neighbors=n_neighbors, mode='connectivity', include_self=True)\n",
    "        spc = SpectralClustering(n_clusters=n_clusters, affinity='precomputed', random_state=42)\n",
    "        labels = spc.fit_predict(graph) \n",
    "        print(f\"n_neighbors: {n_neighbors} | Assigned Labels: {labels}\")"
   ]
  },
  {
   "cell_type": "markdown",
   "metadata": {},
   "source": [
    "#### **For simplicity, the above steps can also be condensed into 1 single call to Spectral Clustering as shown below.**"
   ]
  },
  {
   "cell_type": "code",
   "execution_count": 6,
   "metadata": {},
   "outputs": [
    {
     "name": "stdout",
     "output_type": "stream",
     "text": [
      "\n",
      "n_clusters: 2\n",
      "n_neighbors: 2 | Assigned Labels: [1 1 1 0 0 1 1]\n",
      "n_neighbors: 3 | Assigned Labels: [1 1 1 0 0 0 0]\n",
      "n_neighbors: 4 | Assigned Labels: [1 1 1 1 0 0 0]\n",
      "n_neighbors: 5 | Assigned Labels: [0 0 0 0 0 1 1]\n",
      "n_neighbors: 6 | Assigned Labels: [0 0 0 0 0 1 1]\n",
      "\n",
      "n_clusters: 3\n",
      "n_neighbors: 2 | Assigned Labels: [1 1 1 0 0 2 2]\n",
      "n_neighbors: 3 | Assigned Labels: [1 1 1 0 0 2 2]\n",
      "n_neighbors: 4 | Assigned Labels: [1 1 1 0 0 2 2]\n",
      "n_neighbors: 5 | Assigned Labels: [1 1 1 0 1 2 2]\n",
      "n_neighbors: 6 | Assigned Labels: [0 0 2 0 0 1 1]\n"
     ]
    }
   ],
   "source": [
    "for n_clusters in np.arange(2,4):\n",
    "    print(f\"\\nn_clusters: {n_clusters}\")\n",
    "    for n_neighbors in np.arange(2,7):\n",
    "        spc = SpectralClustering(n_clusters=n_clusters, n_neighbors=n_neighbors, affinity='nearest_neighbors', random_state=42)\n",
    "        labels = spc.fit_predict(X) \n",
    "        print(f\"n_neighbors: {n_neighbors} | Assigned Labels: {labels}\")"
   ]
  },
  {
   "cell_type": "markdown",
   "metadata": {},
   "source": [
    "# ________________________________________________________________\n",
    "\n",
    "# More Details"
   ]
  },
  {
   "cell_type": "markdown",
   "metadata": {},
   "source": [
    "## K Neighbor Graph"
   ]
  },
  {
   "cell_type": "code",
   "execution_count": 7,
   "metadata": {},
   "outputs": [],
   "source": [
    "from sklearn.neighbors import kneighbors_graph"
   ]
  },
  {
   "cell_type": "code",
   "execution_count": 8,
   "metadata": {},
   "outputs": [
    {
     "data": {
      "text/plain": [
       "[[0], [3], [1]]"
      ]
     },
     "execution_count": 8,
     "metadata": {},
     "output_type": "execute_result"
    }
   ],
   "source": [
    "X = [[0], [3], [1]]\n",
    "X"
   ]
  },
  {
   "cell_type": "code",
   "execution_count": 9,
   "metadata": {},
   "outputs": [
    {
     "data": {
      "text/plain": [
       "array([[1., 0., 1.],\n",
       "       [0., 1., 1.],\n",
       "       [1., 0., 1.]])"
      ]
     },
     "execution_count": 9,
     "metadata": {},
     "output_type": "execute_result"
    }
   ],
   "source": [
    "A = kneighbors_graph(X, n_neighbors=2, mode='connectivity', include_self=True)\n",
    "A.toarray()"
   ]
  },
  {
   "cell_type": "code",
   "execution_count": 10,
   "metadata": {},
   "outputs": [],
   "source": [
    "# ?kneighbors_graph"
   ]
  },
  {
   "cell_type": "markdown",
   "metadata": {},
   "source": [
    "## Ball Tree "
   ]
  },
  {
   "cell_type": "code",
   "execution_count": 11,
   "metadata": {},
   "outputs": [],
   "source": [
    "import numpy as np\n",
    "from sklearn.neighbors import BallTree"
   ]
  },
  {
   "cell_type": "code",
   "execution_count": 12,
   "metadata": {},
   "outputs": [
    {
     "data": {
      "text/plain": [
       "array([[0.5488135 , 0.71518937, 0.60276338],\n",
       "       [0.54488318, 0.4236548 , 0.64589411],\n",
       "       [0.43758721, 0.891773  , 0.96366276],\n",
       "       [0.38344152, 0.79172504, 0.52889492],\n",
       "       [0.56804456, 0.92559664, 0.07103606],\n",
       "       [0.0871293 , 0.0202184 , 0.83261985],\n",
       "       [0.77815675, 0.87001215, 0.97861834],\n",
       "       [0.79915856, 0.46147936, 0.78052918],\n",
       "       [0.11827443, 0.63992102, 0.14335329],\n",
       "       [0.94466892, 0.52184832, 0.41466194]])"
      ]
     },
     "execution_count": 12,
     "metadata": {},
     "output_type": "execute_result"
    }
   ],
   "source": [
    "rng = np.random.RandomState(0)\n",
    "X = rng.random_sample((10, 3))  # 10 points in 3 dimensions\n",
    "X"
   ]
  },
  {
   "cell_type": "code",
   "execution_count": 13,
   "metadata": {},
   "outputs": [],
   "source": [
    "tree = BallTree(X, leaf_size=2)              "
   ]
  },
  {
   "cell_type": "code",
   "execution_count": 14,
   "metadata": {},
   "outputs": [
    {
     "data": {
      "text/plain": [
       "array([[0.5488135 , 0.71518937, 0.60276338]])"
      ]
     },
     "execution_count": 14,
     "metadata": {},
     "output_type": "execute_result"
    }
   ],
   "source": [
    "# First Row\n",
    "X[:1]"
   ]
  },
  {
   "cell_type": "code",
   "execution_count": 15,
   "metadata": {},
   "outputs": [
    {
     "name": "stdout",
     "output_type": "stream",
     "text": [
      "[[0 3 1]]\n",
      "[[0.         0.19662693 0.29473397]]\n"
     ]
    }
   ],
   "source": [
    "# Finds the 3 closest neighbors to the 1st observation (including self)\n",
    "dist, ind = tree.query(X[:1], k=3)           \n",
    "print(ind)  # indices of 3 closest neighbors\n",
    "print(dist)  # distances to 3 closest neighbors"
   ]
  },
  {
   "cell_type": "code",
   "execution_count": 16,
   "metadata": {},
   "outputs": [
    {
     "name": "stdout",
     "output_type": "stream",
     "text": [
      "[[0 3 1]\n",
      " [1 7 0]\n",
      " [2 6 0]\n",
      " [3 0 1]\n",
      " [4 3 8]\n",
      " [5 1 7]\n",
      " [6 2 7]\n",
      " [7 1 0]\n",
      " [8 3 4]\n",
      " [9 7 1]]\n"
     ]
    }
   ],
   "source": [
    "# Finds the 3 closest neighbors to the all observations (including self)\n",
    "dist, ind = tree.query(X, k=3)           \n",
    "print(ind)  # indices of 3 closest neighbors"
   ]
  },
  {
   "cell_type": "markdown",
   "metadata": {},
   "source": [
    "#### This means that \n",
    "* for the first observation (index 0), the closest neighbors are the 1st one (self, index 0), the second one (index 1) and the 4th one (index 3)\n",
    "* for the second observation (index 1), the closest neighbors are the 2nd one (self, index 1), the first one (index 0) and the 8th one (index 7)"
   ]
  },
  {
   "cell_type": "code",
   "execution_count": 17,
   "metadata": {},
   "outputs": [],
   "source": [
    "# ?tree.query"
   ]
  },
  {
   "cell_type": "markdown",
   "metadata": {},
   "source": [
    "### **Does it scale to larger matrices?**\n",
    "\n",
    "#### **In my experiments, it works well for 100 x 100, but was very slow for 10,000 x 10,000**"
   ]
  },
  {
   "cell_type": "code",
   "execution_count": 18,
   "metadata": {},
   "outputs": [
    {
     "data": {
      "text/plain": [
       "(100, 100)"
      ]
     },
     "execution_count": 18,
     "metadata": {},
     "output_type": "execute_result"
    }
   ],
   "source": [
    "rng = np.random.RandomState(0)\n",
    "X = rng.random_sample((100, 100))  # NxN dimensions (connectivity type)\n",
    "X.shape"
   ]
  },
  {
   "cell_type": "code",
   "execution_count": 19,
   "metadata": {},
   "outputs": [],
   "source": [
    "tree = BallTree(X, leaf_size=2)"
   ]
  },
  {
   "cell_type": "code",
   "execution_count": 20,
   "metadata": {},
   "outputs": [
    {
     "name": "stdout",
     "output_type": "stream",
     "text": [
      "[[ 0 31 69]]\n"
     ]
    }
   ],
   "source": [
    "# Finds the 3 closest neighbors to the all observations (including self)\n",
    "dist, ind = tree.query(X[:1], k=3)           \n",
    "print(ind)  # indices of 3 closest neighbors"
   ]
  },
  {
   "cell_type": "code",
   "execution_count": 21,
   "metadata": {},
   "outputs": [
    {
     "name": "stdout",
     "output_type": "stream",
     "text": [
      "Indices: [[ 1 85]]\n",
      "Distance: [[0.         3.50543674]]\n",
      "Indices: [[ 1 85 70]]\n",
      "Distance: [[0.         3.50543674 3.67952152]]\n",
      "Indices: [[ 1 85 70 25]]\n",
      "Distance: [[0.         3.50543674 3.67952152 3.70423425]]\n",
      "Indices: [[ 1 85 70 25 83]]\n",
      "Distance: [[0.         3.50543674 3.67952152 3.70423425 3.71372323]]\n",
      "Indices: [[ 1 85 70 25 83 50]]\n",
      "Distance: [[0.         3.50543674 3.67952152 3.70423425 3.71372323 3.71752065]]\n"
     ]
    }
   ],
   "source": [
    "obs = 1\n",
    "neighbors = np.arange(2,7,1)\n",
    "for neighbor in neighbors:\n",
    "    dist, ind = tree.query(X[obs:(obs+1),:], k=neighbor)\n",
    "    print(f\"Indices: {ind}\")\n",
    "    print(f\"Distance: {dist}\")"
   ]
  },
  {
   "cell_type": "code",
   "execution_count": 22,
   "metadata": {},
   "outputs": [
    {
     "name": "stdout",
     "output_type": "stream",
     "text": [
      "Indices: [[85 23]]\n",
      "Distance: [[0.         3.43533837]]\n",
      "Indices: [[85 23 48]]\n",
      "Distance: [[0.         3.43533837 3.45639274]]\n",
      "Indices: [[85 23 48 20]]\n",
      "Distance: [[0.         3.43533837 3.45639274 3.47689528]]\n",
      "Indices: [[85 23 48 20 93]]\n",
      "Distance: [[0.         3.43533837 3.45639274 3.47689528 3.48340549]]\n",
      "Indices: [[85 23 48 20 93  1]]\n",
      "Distance: [[0.         3.43533837 3.45639274 3.47689528 3.48340549 3.50543674]]\n"
     ]
    }
   ],
   "source": [
    "obs = 85\n",
    "neighbors = np.arange(2,7,1)\n",
    "for neighbor in neighbors:\n",
    "    dist, ind = tree.query(X[obs:(obs+1),:], k=neighbor)\n",
    "    print(f\"Indices: {ind}\")\n",
    "    print(f\"Distance: {dist}\")    "
   ]
  },
  {
   "cell_type": "markdown",
   "metadata": {},
   "source": [
    "#### <font color=red>**From above, note an inportant point that the distance metric is not symmetric. 1 is closest to 85 bt that does not mean 85 is closest to 1. In fact it is closest to 23 in the above example.**</font>"
   ]
  },
  {
   "cell_type": "markdown",
   "metadata": {},
   "source": [
    "## Ball Tree --> Neighbor Graph \n",
    "\n",
    "#### You can feed the ball tree object to the kneighbors graphs which will basically query this ball tree to find the nearest points and cluster them accordingly.\n",
    "\n",
    "#### **2 neighbors**"
   ]
  },
  {
   "cell_type": "code",
   "execution_count": 23,
   "metadata": {},
   "outputs": [],
   "source": [
    "graph2 = kneighbors_graph(tree, 2, mode='connectivity', include_self=True)"
   ]
  },
  {
   "cell_type": "code",
   "execution_count": 24,
   "metadata": {},
   "outputs": [
    {
     "data": {
      "text/plain": [
       "array([0., 1., 0., 0., 0., 0., 0., 0., 0., 0., 0., 0., 0., 0., 0., 0., 0.,\n",
       "       0., 0., 0., 0., 0., 0., 0., 0., 0., 0., 0., 0., 0., 0., 0., 0., 0.,\n",
       "       0., 0., 0., 0., 0., 0., 0., 0., 0., 0., 0., 0., 0., 0., 0., 0., 0.,\n",
       "       0., 0., 0., 0., 0., 0., 0., 0., 0., 0., 0., 0., 0., 0., 0., 0., 0.,\n",
       "       0., 0., 0., 0., 0., 0., 0., 0., 0., 0., 0., 0., 0., 0., 0., 0., 0.,\n",
       "       1., 0., 0., 0., 0., 0., 0., 0., 0., 0., 0., 0., 0., 0., 0.])"
      ]
     },
     "execution_count": 24,
     "metadata": {},
     "output_type": "execute_result"
    }
   ],
   "source": [
    "graph2.toarray()[1]  ## Looks like index 1 and index 85 are the closest to each other (also seen in tree.query above)."
   ]
  },
  {
   "cell_type": "code",
   "execution_count": 25,
   "metadata": {},
   "outputs": [
    {
     "data": {
      "text/plain": [
       "array([0., 0., 0., 0., 0., 0., 0., 0., 0., 0., 0., 0., 0., 0., 0., 0., 0.,\n",
       "       0., 0., 0., 0., 0., 0., 1., 0., 0., 0., 0., 0., 0., 0., 0., 0., 0.,\n",
       "       0., 0., 0., 0., 0., 0., 0., 0., 0., 0., 0., 0., 0., 0., 0., 0., 0.,\n",
       "       0., 0., 0., 0., 0., 0., 0., 0., 0., 0., 0., 0., 0., 0., 0., 0., 0.,\n",
       "       0., 0., 0., 0., 0., 0., 0., 0., 0., 0., 0., 0., 0., 0., 0., 0., 0.,\n",
       "       1., 0., 0., 0., 0., 0., 0., 0., 0., 0., 0., 0., 0., 0., 0.])"
      ]
     },
     "execution_count": 25,
     "metadata": {},
     "output_type": "execute_result"
    }
   ],
   "source": [
    "graph2.toarray()[85]  # yes confirmed, the matrix is symmetric"
   ]
  },
  {
   "cell_type": "markdown",
   "metadata": {},
   "source": [
    "#### **3 neighbors**"
   ]
  },
  {
   "cell_type": "code",
   "execution_count": 26,
   "metadata": {},
   "outputs": [],
   "source": [
    "graph3 = kneighbors_graph(tree, 3, mode='connectivity', include_self=True)"
   ]
  },
  {
   "cell_type": "code",
   "execution_count": 27,
   "metadata": {},
   "outputs": [
    {
     "data": {
      "text/plain": [
       "array([0., 1., 0., 0., 0., 0., 0., 0., 0., 0., 0., 0., 0., 0., 0., 0., 0.,\n",
       "       0., 0., 0., 0., 0., 0., 0., 0., 0., 0., 0., 0., 0., 0., 0., 0., 0.,\n",
       "       0., 0., 0., 0., 0., 0., 0., 0., 0., 0., 0., 0., 0., 0., 0., 0., 0.,\n",
       "       0., 0., 0., 0., 0., 0., 0., 0., 0., 0., 0., 0., 0., 0., 0., 0., 0.,\n",
       "       0., 0., 1., 0., 0., 0., 0., 0., 0., 0., 0., 0., 0., 0., 0., 0., 0.,\n",
       "       1., 0., 0., 0., 0., 0., 0., 0., 0., 0., 0., 0., 0., 0., 0.])"
      ]
     },
     "execution_count": 27,
     "metadata": {},
     "output_type": "execute_result"
    }
   ],
   "source": [
    "graph3.toarray()[1]  ## Looks like index 1, 85, and 70 are the closest to each other (also seen in tree.query above)."
   ]
  },
  {
   "cell_type": "code",
   "execution_count": 28,
   "metadata": {},
   "outputs": [],
   "source": [
    "n_clusters = 20"
   ]
  },
  {
   "cell_type": "markdown",
   "metadata": {},
   "source": [
    "## Clustering based on Ball Tree and K-Nearest Graph\n",
    "\n",
    "### Note that the clusters depend highly on the the value of K used in the K-nearest Graph as was shown in the introductory section above"
   ]
  },
  {
   "cell_type": "markdown",
   "metadata": {},
   "source": [
    "### Using 2 neighbors"
   ]
  },
  {
   "cell_type": "code",
   "execution_count": 29,
   "metadata": {},
   "outputs": [
    {
     "data": {
      "text/plain": [
       "array([ 0, 13, 10,  0,  9,  0,  9,  9,  0,  2, 11,  8, 11,  2, 15,  0,  1,\n",
       "        0,  7,  0,  0,  0,  1,  1,  4,  1, 11,  1,  0,  0,  0,  0,  6,  1,\n",
       "       18,  0,  0,  0,  1,  8,  4,  0,  0,  0,  0,  0,  8,  0,  1,  1,  8,\n",
       "        0,  2,  0,  0,  0,  1,  0, 12,  1,  1,  0,  0,  0,  4,  4,  0,  0,\n",
       "        0,  0, 17,  0,  0,  3,  0,  0,  0, 14,  0,  1,  0,  1,  7, 14, 17,\n",
       "        1,  0,  0, 16,  0, 18,  5,  0,  0,  0,  0, 18,  3, 19,  6])"
      ]
     },
     "execution_count": 29,
     "metadata": {},
     "output_type": "execute_result"
    }
   ],
   "source": [
    "## Using Precomputed Tree\n",
    "from sklearn.cluster import SpectralClustering\n",
    "spc = SpectralClustering(n_clusters=n_clusters, affinity='precomputed', random_state=42)\n",
    "labels = spc.fit_predict(graph2) \n",
    "labels"
   ]
  },
  {
   "cell_type": "markdown",
   "metadata": {},
   "source": [
    "### Using 3 neighbors\n",
    "\n",
    "#### Using Precomputed Tree"
   ]
  },
  {
   "cell_type": "code",
   "execution_count": 30,
   "metadata": {},
   "outputs": [
    {
     "data": {
      "text/plain": [
       "array([ 3,  8,  6,  0,  1, 15,  1,  1, 12,  7, 13,  5,  1,  7, 19, 17, 11,\n",
       "        2, 15,  3,  4,  2,  4, 16, 10,  4,  1, 12, 10,  4,  9,  3, 13,  9,\n",
       "        4, 18, 17,  0, 14,  0,  8,  2, 18,  0,  8,  8,  0, 16, 12,  7,  0,\n",
       "        2,  7,  8,  2, 19, 12,  5, 16,  4, 14,  9, 17,  5,  8,  5,  5, 18,\n",
       "        2,  3,  8, 12, 12,  9,  6,  2, 19, 11, 16, 14, 19, 11, 15, 11,  7,\n",
       "       16,  6, 17, 15,  6,  4,  8,  8,  2,  5, 17,  4,  9,  4, 13])"
      ]
     },
     "execution_count": 30,
     "metadata": {},
     "output_type": "execute_result"
    }
   ],
   "source": [
    "from sklearn.cluster import SpectralClustering\n",
    "spc = SpectralClustering(n_clusters=n_clusters, affinity='precomputed', random_state=42)\n",
    "labels = spc.fit_predict(graph3) \n",
    "labels"
   ]
  },
  {
   "cell_type": "markdown",
   "metadata": {},
   "source": [
    "#### Alternate: Using original data with n_neighbors=3 instead of creating a nearest neighbor graph first (**results same as above**)"
   ]
  },
  {
   "cell_type": "code",
   "execution_count": 31,
   "metadata": {},
   "outputs": [
    {
     "data": {
      "text/plain": [
       "array([ 3,  8,  6,  0,  1, 15,  1,  1, 12,  7, 13,  5,  1,  7, 19, 17, 11,\n",
       "        2, 15,  3,  4,  2,  4, 16, 10,  4,  1, 12, 10,  4,  9,  3, 13,  9,\n",
       "        4, 18, 17,  0, 14,  0,  8,  2, 18,  0,  8,  8,  0, 16, 12,  7,  0,\n",
       "        2,  7,  8,  2, 19, 12,  5, 16,  4, 14,  9, 17,  5,  8,  5,  5, 18,\n",
       "        2,  3,  8, 12, 12,  9,  6,  2, 19, 11, 16, 14, 19, 11, 15, 11,  7,\n",
       "       16,  6, 17, 15,  6,  4,  8,  8,  2,  5, 17,  4,  9,  4, 13])"
      ]
     },
     "execution_count": 31,
     "metadata": {},
     "output_type": "execute_result"
    }
   ],
   "source": [
    "spc = SpectralClustering(n_clusters=n_clusters, n_neighbors=3, affinity='nearest_neighbors', random_state=42)\n",
    "labels = spc.fit_predict(X) \n",
    "labels"
   ]
  },
  {
   "cell_type": "markdown",
   "metadata": {},
   "source": [
    "## **Checking distribution of cluster sizes based on n_neighbors in the graph**\n",
    "\n",
    "#### **Again as observed above, the number of points in each cluster can vary a lot depending on the value of n_neighbors**"
   ]
  },
  {
   "cell_type": "code",
   "execution_count": 32,
   "metadata": {},
   "outputs": [],
   "source": [
    "import matplotlib.pyplot as plt\n",
    "%matplotlib inline\n",
    "import pandas as pd"
   ]
  },
  {
   "cell_type": "code",
   "execution_count": 33,
   "metadata": {},
   "outputs": [
    {
     "name": "stdout",
     "output_type": "stream",
     "text": [
      "==================================================\n",
      "Neighbors = 2\n",
      "Count of observations in each cluster (sorted): [48, 15, 4, 4, 3, 3, 3, 3, 2, 2, 2, 2, 2, 1, 1, 1, 1, 1, 1, 1]\n"
     ]
    },
    {
     "data": {
      "image/png": "[encoded data removed]",
      "text/plain": [
       "<Figure size 432x288 with 1 Axes>"
      ]
     },
     "metadata": {
      "needs_background": "light"
     },
     "output_type": "display_data"
    },
    {
     "name": "stdout",
     "output_type": "stream",
     "text": [
      "==================================================\n",
      "Neighbors = 3\n",
      "Count of observations in each cluster (sorted): [9, 9, 8, 6, 6, 6, 5, 5, 5, 5, 5, 4, 4, 4, 4, 4, 3, 3, 3, 2]\n"
     ]
    },
    {
     "data": {
      "image/png": "[encoded data removed]",
      "text/plain": [
       "<Figure size 432x288 with 1 Axes>"
      ]
     },
     "metadata": {
      "needs_background": "light"
     },
     "output_type": "display_data"
    },
    {
     "name": "stdout",
     "output_type": "stream",
     "text": [
      "==================================================\n",
      "Neighbors = 4\n",
      "Count of observations in each cluster (sorted): [10, 9, 9, 8, 7, 7, 6, 5, 4, 4, 4, 4, 4, 4, 3, 3, 3, 2, 2, 2]\n"
     ]
    },
    {
     "data": {
      "image/png": "[encoded data removed]",
      "text/plain": [
       "<Figure size 432x288 with 1 Axes>"
      ]
     },
     "metadata": {
      "needs_background": "light"
     },
     "output_type": "display_data"
    },
    {
     "name": "stdout",
     "output_type": "stream",
     "text": [
      "==================================================\n",
      "Neighbors = 5\n",
      "Count of observations in each cluster (sorted): [10, 8, 7, 7, 7, 6, 6, 6, 5, 5, 5, 4, 4, 3, 3, 3, 3, 3, 3, 2]\n"
     ]
    },
    {
     "data": {
      "image/png": "[encoded data removed]",
      "text/plain": [
       "<Figure size 432x288 with 1 Axes>"
      ]
     },
     "metadata": {
      "needs_background": "light"
     },
     "output_type": "display_data"
    },
    {
     "name": "stdout",
     "output_type": "stream",
     "text": [
      "==================================================\n",
      "Neighbors = 6\n",
      "Count of observations in each cluster (sorted): [10, 9, 8, 8, 6, 6, 5, 5, 5, 5, 4, 4, 4, 3, 3, 3, 3, 3, 3, 3]\n"
     ]
    },
    {
     "data": {
      "image/png": "[encoded data removed]",
      "text/plain": [
       "<Figure size 432x288 with 1 Axes>"
      ]
     },
     "metadata": {
      "needs_background": "light"
     },
     "output_type": "display_data"
    },
    {
     "data": {
      "text/html": [
       "<div>\n",
       "<style scoped>\n",
       "    .dataframe tbody tr th:only-of-type {\n",
       "        vertical-align: middle;\n",
       "    }\n",
       "\n",
       "    .dataframe tbody tr th {\n",
       "        vertical-align: top;\n",
       "    }\n",
       "\n",
       "    .dataframe thead th {\n",
       "        text-align: right;\n",
       "    }\n",
       "</style>\n",
       "<table border=\"1\" class=\"dataframe\">\n",
       "  <thead>\n",
       "    <tr style=\"text-align: right;\">\n",
       "      <th></th>\n",
       "      <th>0</th>\n",
       "      <th>1</th>\n",
       "      <th>2</th>\n",
       "      <th>3</th>\n",
       "      <th>4</th>\n",
       "      <th>5</th>\n",
       "      <th>6</th>\n",
       "      <th>7</th>\n",
       "      <th>8</th>\n",
       "      <th>9</th>\n",
       "      <th>10</th>\n",
       "      <th>11</th>\n",
       "      <th>12</th>\n",
       "      <th>13</th>\n",
       "      <th>14</th>\n",
       "      <th>15</th>\n",
       "      <th>16</th>\n",
       "      <th>17</th>\n",
       "      <th>18</th>\n",
       "      <th>19</th>\n",
       "    </tr>\n",
       "  </thead>\n",
       "  <tbody>\n",
       "    <tr>\n",
       "      <td>0</td>\n",
       "      <td>48</td>\n",
       "      <td>15</td>\n",
       "      <td>4</td>\n",
       "      <td>4</td>\n",
       "      <td>3</td>\n",
       "      <td>3</td>\n",
       "      <td>3</td>\n",
       "      <td>3</td>\n",
       "      <td>2</td>\n",
       "      <td>2</td>\n",
       "      <td>2</td>\n",
       "      <td>2</td>\n",
       "      <td>2</td>\n",
       "      <td>1</td>\n",
       "      <td>1</td>\n",
       "      <td>1</td>\n",
       "      <td>1</td>\n",
       "      <td>1</td>\n",
       "      <td>1</td>\n",
       "      <td>1</td>\n",
       "    </tr>\n",
       "    <tr>\n",
       "      <td>1</td>\n",
       "      <td>9</td>\n",
       "      <td>9</td>\n",
       "      <td>8</td>\n",
       "      <td>6</td>\n",
       "      <td>6</td>\n",
       "      <td>6</td>\n",
       "      <td>5</td>\n",
       "      <td>5</td>\n",
       "      <td>5</td>\n",
       "      <td>5</td>\n",
       "      <td>5</td>\n",
       "      <td>4</td>\n",
       "      <td>4</td>\n",
       "      <td>4</td>\n",
       "      <td>4</td>\n",
       "      <td>4</td>\n",
       "      <td>3</td>\n",
       "      <td>3</td>\n",
       "      <td>3</td>\n",
       "      <td>2</td>\n",
       "    </tr>\n",
       "    <tr>\n",
       "      <td>2</td>\n",
       "      <td>10</td>\n",
       "      <td>9</td>\n",
       "      <td>9</td>\n",
       "      <td>8</td>\n",
       "      <td>7</td>\n",
       "      <td>7</td>\n",
       "      <td>6</td>\n",
       "      <td>5</td>\n",
       "      <td>4</td>\n",
       "      <td>4</td>\n",
       "      <td>4</td>\n",
       "      <td>4</td>\n",
       "      <td>4</td>\n",
       "      <td>4</td>\n",
       "      <td>3</td>\n",
       "      <td>3</td>\n",
       "      <td>3</td>\n",
       "      <td>2</td>\n",
       "      <td>2</td>\n",
       "      <td>2</td>\n",
       "    </tr>\n",
       "    <tr>\n",
       "      <td>3</td>\n",
       "      <td>10</td>\n",
       "      <td>8</td>\n",
       "      <td>7</td>\n",
       "      <td>7</td>\n",
       "      <td>7</td>\n",
       "      <td>6</td>\n",
       "      <td>6</td>\n",
       "      <td>6</td>\n",
       "      <td>5</td>\n",
       "      <td>5</td>\n",
       "      <td>5</td>\n",
       "      <td>4</td>\n",
       "      <td>4</td>\n",
       "      <td>3</td>\n",
       "      <td>3</td>\n",
       "      <td>3</td>\n",
       "      <td>3</td>\n",
       "      <td>3</td>\n",
       "      <td>3</td>\n",
       "      <td>2</td>\n",
       "    </tr>\n",
       "    <tr>\n",
       "      <td>4</td>\n",
       "      <td>10</td>\n",
       "      <td>9</td>\n",
       "      <td>8</td>\n",
       "      <td>8</td>\n",
       "      <td>6</td>\n",
       "      <td>6</td>\n",
       "      <td>5</td>\n",
       "      <td>5</td>\n",
       "      <td>5</td>\n",
       "      <td>5</td>\n",
       "      <td>4</td>\n",
       "      <td>4</td>\n",
       "      <td>4</td>\n",
       "      <td>3</td>\n",
       "      <td>3</td>\n",
       "      <td>3</td>\n",
       "      <td>3</td>\n",
       "      <td>3</td>\n",
       "      <td>3</td>\n",
       "      <td>3</td>\n",
       "    </tr>\n",
       "  </tbody>\n",
       "</table>\n",
       "</div>"
      ],
      "text/plain": [
       "    0   1  2  3  4  5  6  7  8  9  10  11  12  13  14  15  16  17  18  19\n",
       "0  48  15  4  4  3  3  3  3  2  2   2   2   2   1   1   1   1   1   1   1\n",
       "1   9   9  8  6  6  6  5  5  5  5   5   4   4   4   4   4   3   3   3   2\n",
       "2  10   9  9  8  7  7  6  5  4  4   4   4   4   4   3   3   3   2   2   2\n",
       "3  10   8  7  7  7  6  6  6  5  5   5   4   4   3   3   3   3   3   3   2\n",
       "4  10   9  8  8  6  6  5  5  5  5   4   4   4   3   3   3   3   3   3   3"
      ]
     },
     "execution_count": 33,
     "metadata": {},
     "output_type": "execute_result"
    }
   ],
   "source": [
    "arr = []\n",
    "for n_neighbors in np.arange(2,7):\n",
    "    graph = kneighbors_graph(tree, n_neighbors=n_neighbors, mode='connectivity', include_self=True)\n",
    "    spc = SpectralClustering(n_clusters=n_clusters, affinity='precomputed', random_state=42)\n",
    "    labels = spc.fit_predict(graph) \n",
    "    \n",
    "    print(\"=\"*50)\n",
    "    print(f\"Neighbors = {n_neighbors}\")\n",
    "    \n",
    "    count_labels = []\n",
    "    for i in np.arange(n_clusters):\n",
    "        # print(f\"Label: {i}, Count: {np.count_nonzero(labels==i)}\")\n",
    "        count_labels.append(np.count_nonzero(labels==i))\n",
    "    \n",
    "    sorted_labels = sorted(count_labels, reverse=True)\n",
    "    print(f\"Count of observations in each cluster (sorted): {sorted_labels}\")\n",
    "    arr.append(sorted_labels)\n",
    "    plt.hist(labels, bins=n_clusters)\n",
    "    plt.show()       \n",
    "    \n",
    "arr = np.asarray(arr)\n",
    "pd.DataFrame(arr)"
   ]
  },
  {
   "cell_type": "code",
   "execution_count": null,
   "metadata": {},
   "outputs": [],
   "source": []
  }
 ],
 "metadata": {
  "kernelspec": {
   "display_name": "Python 3",
   "language": "python",
   "name": "python3"
  },
  "language_info": {
   "codemirror_mode": {
    "name": "ipython",
    "version": 3
   },
   "file_extension": ".py",
   "mimetype": "text/x-python",
   "name": "python",
   "nbconvert_exporter": "python",
   "pygments_lexer": "ipython3",
   "version": "3.6.9"
  }
 },
 "nbformat": 4,
 "nbformat_minor": 4
}
