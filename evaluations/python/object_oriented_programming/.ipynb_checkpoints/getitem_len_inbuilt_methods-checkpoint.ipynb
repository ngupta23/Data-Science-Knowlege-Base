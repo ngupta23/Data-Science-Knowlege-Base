{
 "cells": [
  {
   "cell_type": "markdown",
   "metadata": {},
   "source": [
    "# __getitem__ and __len__"
   ]
  },
  {
   "cell_type": "markdown",
   "metadata": {},
   "source": [
    "### https://stackoverflow.com/questions/43627405/understanding-getitem-method"
   ]
  },
  {
   "cell_type": "code",
   "execution_count": 28,
   "metadata": {},
   "outputs": [
    {
     "name": "stdout",
     "output_type": "stream",
     "text": [
      "DEF Inc\n",
      "None\n"
     ]
    }
   ],
   "source": [
    "# Implementation using class methods\n",
    "class Building(object):\n",
    "    def __init__(self, floors):\n",
    "        self._floors = [None]*floors\n",
    "    def occupy(self, floor_number, data):\n",
    "        self._floors[floor_number] = data\n",
    "    def get_floor_data(self, floor_number):\n",
    "        return self._floors[floor_number]\n",
    "\n",
    "building1 = Building(4) # Construct a building with 4 floors\n",
    "building1.occupy(0, 'Reception')\n",
    "building1.occupy(1, 'ABC Corp')\n",
    "building1.occupy(2, 'DEF Inc')\n",
    "print( building1.get_floor_data(2) )\n",
    "print( building1.get_floor_data(3) )"
   ]
  },
  {
   "cell_type": "code",
   "execution_count": 27,
   "metadata": {},
   "outputs": [
    {
     "name": "stdout",
     "output_type": "stream",
     "text": [
      "DEF Inc\n",
      "None\n",
      "4\n"
     ]
    }
   ],
   "source": [
    "# Implementation using __setitem__ and _getitem__\n",
    "# Also shows the implementation of __len__ \n",
    "class Building(object):\n",
    "    def __init__(self, floors):\n",
    "        self._floors = [None]*floors\n",
    "    def __setitem__(self, floor_number, data):\n",
    "        self._floors[floor_number] = data\n",
    "    def __getitem__(self, floor_number):\n",
    "        return self._floors[floor_number]\n",
    "    def __len__(self):\n",
    "        return(len(self._floors))\n",
    "\n",
    "building1 = Building(4) # Construct a building with 4 floors\n",
    "building1[0] = 'Reception'\n",
    "building1[1] = 'ABC Corp'\n",
    "building1[2] = 'DEF Inc'\n",
    "print( building1[2] )\n",
    "print( building1[3] )\n",
    "print(len(building1))"
   ]
  }
 ],
 "metadata": {
  "kernelspec": {
   "display_name": "Python 3",
   "language": "python",
   "name": "python3"
  },
  "language_info": {
   "codemirror_mode": {
    "name": "ipython",
    "version": 3
   },
   "file_extension": ".py",
   "mimetype": "text/x-python",
   "name": "python",
   "nbconvert_exporter": "python",
   "pygments_lexer": "ipython3",
   "version": "3.6.9"
  }
 },
 "nbformat": 4,
 "nbformat_minor": 2
}
