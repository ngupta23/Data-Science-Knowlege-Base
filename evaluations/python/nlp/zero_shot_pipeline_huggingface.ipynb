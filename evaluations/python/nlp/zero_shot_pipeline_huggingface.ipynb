{
  "nbformat": 4,
  "nbformat_minor": 0,
  "metadata": {
    "kernelspec": {
      "display_name": "Python 3",
      "language": "python",
      "name": "python3"
    },
    "language_info": {
      "codemirror_mode": {
        "name": "ipython",
        "version": 2
      },
      "file_extension": ".py",
      "mimetype": "text/x-python",
      "name": "python",
      "nbconvert_exporter": "python",
      "pygments_lexer": "ipython2",
      "version": "2.7.6"
    },
    "colab": {
      "name": "zero-shot-pipeline-sentiment.ipynb",
      "provenance": [],
      "collapsed_sections": [],
      "include_colab_link": true
    },
    "accelerator": "GPU",
    "widgets": {
      "application/vnd.jupyter.widget-state+json": {
        "657dbddd2f5841ea834c907a19e68352": {
          "model_module": "@jupyter-widgets/controls",
          "model_name": "HBoxModel",
          "state": {
            "_view_name": "HBoxView",
            "_dom_classes": [],
            "_model_name": "HBoxModel",
            "_view_module": "@jupyter-widgets/controls",
            "_model_module_version": "1.5.0",
            "_view_count": null,
            "_view_module_version": "1.5.0",
            "box_style": "",
            "layout": "IPY_MODEL_e82bfe697645421e84f9db708ace897c",
            "_model_module": "@jupyter-widgets/controls",
            "children": [
              "IPY_MODEL_ed7f806de83e4398aa09726f9392b78f",
              "IPY_MODEL_afd923c5029440a1878b7e8d338fd0eb"
            ]
          }
        },
        "e82bfe697645421e84f9db708ace897c": {
          "model_module": "@jupyter-widgets/base",
          "model_name": "LayoutModel",
          "state": {
            "_view_name": "LayoutView",
            "grid_template_rows": null,
            "right": null,
            "justify_content": null,
            "_view_module": "@jupyter-widgets/base",
            "overflow": null,
            "_model_module_version": "1.2.0",
            "_view_count": null,
            "flex_flow": null,
            "width": null,
            "min_width": null,
            "border": null,
            "align_items": null,
            "bottom": null,
            "_model_module": "@jupyter-widgets/base",
            "top": null,
            "grid_column": null,
            "overflow_y": null,
            "overflow_x": null,
            "grid_auto_flow": null,
            "grid_area": null,
            "grid_template_columns": null,
            "flex": null,
            "_model_name": "LayoutModel",
            "justify_items": null,
            "grid_row": null,
            "max_height": null,
            "align_content": null,
            "visibility": null,
            "align_self": null,
            "height": null,
            "min_height": null,
            "padding": null,
            "grid_auto_rows": null,
            "grid_gap": null,
            "max_width": null,
            "order": null,
            "_view_module_version": "1.2.0",
            "grid_template_areas": null,
            "object_position": null,
            "object_fit": null,
            "grid_auto_columns": null,
            "margin": null,
            "display": null,
            "left": null
          }
        },
        "ed7f806de83e4398aa09726f9392b78f": {
          "model_module": "@jupyter-widgets/controls",
          "model_name": "FloatProgressModel",
          "state": {
            "_view_name": "ProgressView",
            "style": "IPY_MODEL_cf7e7a98a1dd4f3aa3f984e8cf550728",
            "_dom_classes": [],
            "description": "Downloading: 100%",
            "_model_name": "FloatProgressModel",
            "bar_style": "success",
            "max": 998,
            "_view_module": "@jupyter-widgets/controls",
            "_model_module_version": "1.5.0",
            "value": 998,
            "_view_count": null,
            "_view_module_version": "1.5.0",
            "orientation": "horizontal",
            "min": 0,
            "description_tooltip": null,
            "_model_module": "@jupyter-widgets/controls",
            "layout": "IPY_MODEL_c88a44a8dfd744409e9b06308e1725e1"
          }
        },
        "afd923c5029440a1878b7e8d338fd0eb": {
          "model_module": "@jupyter-widgets/controls",
          "model_name": "HTMLModel",
          "state": {
            "_view_name": "HTMLView",
            "style": "IPY_MODEL_047498cc3cf34e9fbec7396298dd825a",
            "_dom_classes": [],
            "description": "",
            "_model_name": "HTMLModel",
            "placeholder": "​",
            "_view_module": "@jupyter-widgets/controls",
            "_model_module_version": "1.5.0",
            "value": " 998/998 [00:02&lt;00:00, 416B/s]",
            "_view_count": null,
            "_view_module_version": "1.5.0",
            "description_tooltip": null,
            "_model_module": "@jupyter-widgets/controls",
            "layout": "IPY_MODEL_48ca5b42dc07456584982fe08dafb54e"
          }
        },
        "cf7e7a98a1dd4f3aa3f984e8cf550728": {
          "model_module": "@jupyter-widgets/controls",
          "model_name": "ProgressStyleModel",
          "state": {
            "_view_name": "StyleView",
            "_model_name": "ProgressStyleModel",
            "description_width": "initial",
            "_view_module": "@jupyter-widgets/base",
            "_model_module_version": "1.5.0",
            "_view_count": null,
            "_view_module_version": "1.2.0",
            "bar_color": null,
            "_model_module": "@jupyter-widgets/controls"
          }
        },
        "c88a44a8dfd744409e9b06308e1725e1": {
          "model_module": "@jupyter-widgets/base",
          "model_name": "LayoutModel",
          "state": {
            "_view_name": "LayoutView",
            "grid_template_rows": null,
            "right": null,
            "justify_content": null,
            "_view_module": "@jupyter-widgets/base",
            "overflow": null,
            "_model_module_version": "1.2.0",
            "_view_count": null,
            "flex_flow": null,
            "width": null,
            "min_width": null,
            "border": null,
            "align_items": null,
            "bottom": null,
            "_model_module": "@jupyter-widgets/base",
            "top": null,
            "grid_column": null,
            "overflow_y": null,
            "overflow_x": null,
            "grid_auto_flow": null,
            "grid_area": null,
            "grid_template_columns": null,
            "flex": null,
            "_model_name": "LayoutModel",
            "justify_items": null,
            "grid_row": null,
            "max_height": null,
            "align_content": null,
            "visibility": null,
            "align_self": null,
            "height": null,
            "min_height": null,
            "padding": null,
            "grid_auto_rows": null,
            "grid_gap": null,
            "max_width": null,
            "order": null,
            "_view_module_version": "1.2.0",
            "grid_template_areas": null,
            "object_position": null,
            "object_fit": null,
            "grid_auto_columns": null,
            "margin": null,
            "display": null,
            "left": null
          }
        },
        "047498cc3cf34e9fbec7396298dd825a": {
          "model_module": "@jupyter-widgets/controls",
          "model_name": "DescriptionStyleModel",
          "state": {
            "_view_name": "StyleView",
            "_model_name": "DescriptionStyleModel",
            "description_width": "",
            "_view_module": "@jupyter-widgets/base",
            "_model_module_version": "1.5.0",
            "_view_count": null,
            "_view_module_version": "1.2.0",
            "_model_module": "@jupyter-widgets/controls"
          }
        },
        "48ca5b42dc07456584982fe08dafb54e": {
          "model_module": "@jupyter-widgets/base",
          "model_name": "LayoutModel",
          "state": {
            "_view_name": "LayoutView",
            "grid_template_rows": null,
            "right": null,
            "justify_content": null,
            "_view_module": "@jupyter-widgets/base",
            "overflow": null,
            "_model_module_version": "1.2.0",
            "_view_count": null,
            "flex_flow": null,
            "width": null,
            "min_width": null,
            "border": null,
            "align_items": null,
            "bottom": null,
            "_model_module": "@jupyter-widgets/base",
            "top": null,
            "grid_column": null,
            "overflow_y": null,
            "overflow_x": null,
            "grid_auto_flow": null,
            "grid_area": null,
            "grid_template_columns": null,
            "flex": null,
            "_model_name": "LayoutModel",
            "justify_items": null,
            "grid_row": null,
            "max_height": null,
            "align_content": null,
            "visibility": null,
            "align_self": null,
            "height": null,
            "min_height": null,
            "padding": null,
            "grid_auto_rows": null,
            "grid_gap": null,
            "max_width": null,
            "order": null,
            "_view_module_version": "1.2.0",
            "grid_template_areas": null,
            "object_position": null,
            "object_fit": null,
            "grid_auto_columns": null,
            "margin": null,
            "display": null,
            "left": null
          }
        },
        "678a870e0c5c47b6ac9d408c1b911712": {
          "model_module": "@jupyter-widgets/controls",
          "model_name": "HBoxModel",
          "state": {
            "_view_name": "HBoxView",
            "_dom_classes": [],
            "_model_name": "HBoxModel",
            "_view_module": "@jupyter-widgets/controls",
            "_model_module_version": "1.5.0",
            "_view_count": null,
            "_view_module_version": "1.5.0",
            "box_style": "",
            "layout": "IPY_MODEL_2a8ca69cc1ea4d8caf2fe23d773c2ff7",
            "_model_module": "@jupyter-widgets/controls",
            "children": [
              "IPY_MODEL_c861dc843118492e918712522fd73a0c",
              "IPY_MODEL_fd692d8976c74d35852c30217c38413c"
            ]
          }
        },
        "2a8ca69cc1ea4d8caf2fe23d773c2ff7": {
          "model_module": "@jupyter-widgets/base",
          "model_name": "LayoutModel",
          "state": {
            "_view_name": "LayoutView",
            "grid_template_rows": null,
            "right": null,
            "justify_content": null,
            "_view_module": "@jupyter-widgets/base",
            "overflow": null,
            "_model_module_version": "1.2.0",
            "_view_count": null,
            "flex_flow": null,
            "width": null,
            "min_width": null,
            "border": null,
            "align_items": null,
            "bottom": null,
            "_model_module": "@jupyter-widgets/base",
            "top": null,
            "grid_column": null,
            "overflow_y": null,
            "overflow_x": null,
            "grid_auto_flow": null,
            "grid_area": null,
            "grid_template_columns": null,
            "flex": null,
            "_model_name": "LayoutModel",
            "justify_items": null,
            "grid_row": null,
            "max_height": null,
            "align_content": null,
            "visibility": null,
            "align_self": null,
            "height": null,
            "min_height": null,
            "padding": null,
            "grid_auto_rows": null,
            "grid_gap": null,
            "max_width": null,
            "order": null,
            "_view_module_version": "1.2.0",
            "grid_template_areas": null,
            "object_position": null,
            "object_fit": null,
            "grid_auto_columns": null,
            "margin": null,
            "display": null,
            "left": null
          }
        },
        "c861dc843118492e918712522fd73a0c": {
          "model_module": "@jupyter-widgets/controls",
          "model_name": "FloatProgressModel",
          "state": {
            "_view_name": "ProgressView",
            "style": "IPY_MODEL_f5e1ace641cc4ae6a39616dc6ff5cf7c",
            "_dom_classes": [],
            "description": "Downloading: 100%",
            "_model_name": "FloatProgressModel",
            "bar_style": "success",
            "max": 213450,
            "_view_module": "@jupyter-widgets/controls",
            "_model_module_version": "1.5.0",
            "value": 213450,
            "_view_count": null,
            "_view_module_version": "1.5.0",
            "orientation": "horizontal",
            "min": 0,
            "description_tooltip": null,
            "_model_module": "@jupyter-widgets/controls",
            "layout": "IPY_MODEL_ea5e266448a14eafab651cf89d6dad52"
          }
        },
        "fd692d8976c74d35852c30217c38413c": {
          "model_module": "@jupyter-widgets/controls",
          "model_name": "HTMLModel",
          "state": {
            "_view_name": "HTMLView",
            "style": "IPY_MODEL_0984f736c2284898b16057710cce772e",
            "_dom_classes": [],
            "description": "",
            "_model_name": "HTMLModel",
            "placeholder": "​",
            "_view_module": "@jupyter-widgets/controls",
            "_model_module_version": "1.5.0",
            "value": " 213k/213k [00:01&lt;00:00, 147kB/s]",
            "_view_count": null,
            "_view_module_version": "1.5.0",
            "description_tooltip": null,
            "_model_module": "@jupyter-widgets/controls",
            "layout": "IPY_MODEL_34dd2c61238a42109c85692939c078ce"
          }
        },
        "f5e1ace641cc4ae6a39616dc6ff5cf7c": {
          "model_module": "@jupyter-widgets/controls",
          "model_name": "ProgressStyleModel",
          "state": {
            "_view_name": "StyleView",
            "_model_name": "ProgressStyleModel",
            "description_width": "initial",
            "_view_module": "@jupyter-widgets/base",
            "_model_module_version": "1.5.0",
            "_view_count": null,
            "_view_module_version": "1.2.0",
            "bar_color": null,
            "_model_module": "@jupyter-widgets/controls"
          }
        },
        "ea5e266448a14eafab651cf89d6dad52": {
          "model_module": "@jupyter-widgets/base",
          "model_name": "LayoutModel",
          "state": {
            "_view_name": "LayoutView",
            "grid_template_rows": null,
            "right": null,
            "justify_content": null,
            "_view_module": "@jupyter-widgets/base",
            "overflow": null,
            "_model_module_version": "1.2.0",
            "_view_count": null,
            "flex_flow": null,
            "width": null,
            "min_width": null,
            "border": null,
            "align_items": null,
            "bottom": null,
            "_model_module": "@jupyter-widgets/base",
            "top": null,
            "grid_column": null,
            "overflow_y": null,
            "overflow_x": null,
            "grid_auto_flow": null,
            "grid_area": null,
            "grid_template_columns": null,
            "flex": null,
            "_model_name": "LayoutModel",
            "justify_items": null,
            "grid_row": null,
            "max_height": null,
            "align_content": null,
            "visibility": null,
            "align_self": null,
            "height": null,
            "min_height": null,
            "padding": null,
            "grid_auto_rows": null,
            "grid_gap": null,
            "max_width": null,
            "order": null,
            "_view_module_version": "1.2.0",
            "grid_template_areas": null,
            "object_position": null,
            "object_fit": null,
            "grid_auto_columns": null,
            "margin": null,
            "display": null,
            "left": null
          }
        },
        "0984f736c2284898b16057710cce772e": {
          "model_module": "@jupyter-widgets/controls",
          "model_name": "DescriptionStyleModel",
          "state": {
            "_view_name": "StyleView",
            "_model_name": "DescriptionStyleModel",
            "description_width": "",
            "_view_module": "@jupyter-widgets/base",
            "_model_module_version": "1.5.0",
            "_view_count": null,
            "_view_module_version": "1.2.0",
            "_model_module": "@jupyter-widgets/controls"
          }
        },
        "34dd2c61238a42109c85692939c078ce": {
          "model_module": "@jupyter-widgets/base",
          "model_name": "LayoutModel",
          "state": {
            "_view_name": "LayoutView",
            "grid_template_rows": null,
            "right": null,
            "justify_content": null,
            "_view_module": "@jupyter-widgets/base",
            "overflow": null,
            "_model_module_version": "1.2.0",
            "_view_count": null,
            "flex_flow": null,
            "width": null,
            "min_width": null,
            "border": null,
            "align_items": null,
            "bottom": null,
            "_model_module": "@jupyter-widgets/base",
            "top": null,
            "grid_column": null,
            "overflow_y": null,
            "overflow_x": null,
            "grid_auto_flow": null,
            "grid_area": null,
            "grid_template_columns": null,
            "flex": null,
            "_model_name": "LayoutModel",
            "justify_items": null,
            "grid_row": null,
            "max_height": null,
            "align_content": null,
            "visibility": null,
            "align_self": null,
            "height": null,
            "min_height": null,
            "padding": null,
            "grid_auto_rows": null,
            "grid_gap": null,
            "max_width": null,
            "order": null,
            "_view_module_version": "1.2.0",
            "grid_template_areas": null,
            "object_position": null,
            "object_fit": null,
            "grid_auto_columns": null,
            "margin": null,
            "display": null,
            "left": null
          }
        },
        "30ce486ec7d948c2941e7670f160af20": {
          "model_module": "@jupyter-widgets/controls",
          "model_name": "HBoxModel",
          "state": {
            "_view_name": "HBoxView",
            "_dom_classes": [],
            "_model_name": "HBoxModel",
            "_view_module": "@jupyter-widgets/controls",
            "_model_module_version": "1.5.0",
            "_view_count": null,
            "_view_module_version": "1.5.0",
            "box_style": "",
            "layout": "IPY_MODEL_a94a07321f1e4822bb70685a7f591900",
            "_model_module": "@jupyter-widgets/controls",
            "children": [
              "IPY_MODEL_1245dbb7913b4e0d9ebe962cdfae4211",
              "IPY_MODEL_d0b7a0f5cd0f4be888c1448e385ddfc2"
            ]
          }
        },
        "a94a07321f1e4822bb70685a7f591900": {
          "model_module": "@jupyter-widgets/base",
          "model_name": "LayoutModel",
          "state": {
            "_view_name": "LayoutView",
            "grid_template_rows": null,
            "right": null,
            "justify_content": null,
            "_view_module": "@jupyter-widgets/base",
            "overflow": null,
            "_model_module_version": "1.2.0",
            "_view_count": null,
            "flex_flow": null,
            "width": null,
            "min_width": null,
            "border": null,
            "align_items": null,
            "bottom": null,
            "_model_module": "@jupyter-widgets/base",
            "top": null,
            "grid_column": null,
            "overflow_y": null,
            "overflow_x": null,
            "grid_auto_flow": null,
            "grid_area": null,
            "grid_template_columns": null,
            "flex": null,
            "_model_name": "LayoutModel",
            "justify_items": null,
            "grid_row": null,
            "max_height": null,
            "align_content": null,
            "visibility": null,
            "align_self": null,
            "height": null,
            "min_height": null,
            "padding": null,
            "grid_auto_rows": null,
            "grid_gap": null,
            "max_width": null,
            "order": null,
            "_view_module_version": "1.2.0",
            "grid_template_areas": null,
            "object_position": null,
            "object_fit": null,
            "grid_auto_columns": null,
            "margin": null,
            "display": null,
            "left": null
          }
        },
        "1245dbb7913b4e0d9ebe962cdfae4211": {
          "model_module": "@jupyter-widgets/controls",
          "model_name": "FloatProgressModel",
          "state": {
            "_view_name": "ProgressView",
            "style": "IPY_MODEL_0e76de6e2fde4e92ae01ccf5f8681a2e",
            "_dom_classes": [],
            "description": "Downloading: 100%",
            "_model_name": "FloatProgressModel",
            "bar_style": "success",
            "max": 60,
            "_view_module": "@jupyter-widgets/controls",
            "_model_module_version": "1.5.0",
            "value": 60,
            "_view_count": null,
            "_view_module_version": "1.5.0",
            "orientation": "horizontal",
            "min": 0,
            "description_tooltip": null,
            "_model_module": "@jupyter-widgets/controls",
            "layout": "IPY_MODEL_99e10cab15164267b3afbc4b42e71b59"
          }
        },
        "d0b7a0f5cd0f4be888c1448e385ddfc2": {
          "model_module": "@jupyter-widgets/controls",
          "model_name": "HTMLModel",
          "state": {
            "_view_name": "HTMLView",
            "style": "IPY_MODEL_3bec26e51b7d4436b5a4dff882feda5f",
            "_dom_classes": [],
            "description": "",
            "_model_name": "HTMLModel",
            "placeholder": "​",
            "_view_module": "@jupyter-widgets/controls",
            "_model_module_version": "1.5.0",
            "value": " 60.0/60.0 [00:00&lt;00:00, 190B/s]",
            "_view_count": null,
            "_view_module_version": "1.5.0",
            "description_tooltip": null,
            "_model_module": "@jupyter-widgets/controls",
            "layout": "IPY_MODEL_01ce8d022445431db9020fadf1050070"
          }
        },
        "0e76de6e2fde4e92ae01ccf5f8681a2e": {
          "model_module": "@jupyter-widgets/controls",
          "model_name": "ProgressStyleModel",
          "state": {
            "_view_name": "StyleView",
            "_model_name": "ProgressStyleModel",
            "description_width": "initial",
            "_view_module": "@jupyter-widgets/base",
            "_model_module_version": "1.5.0",
            "_view_count": null,
            "_view_module_version": "1.2.0",
            "bar_color": null,
            "_model_module": "@jupyter-widgets/controls"
          }
        },
        "99e10cab15164267b3afbc4b42e71b59": {
          "model_module": "@jupyter-widgets/base",
          "model_name": "LayoutModel",
          "state": {
            "_view_name": "LayoutView",
            "grid_template_rows": null,
            "right": null,
            "justify_content": null,
            "_view_module": "@jupyter-widgets/base",
            "overflow": null,
            "_model_module_version": "1.2.0",
            "_view_count": null,
            "flex_flow": null,
            "width": null,
            "min_width": null,
            "border": null,
            "align_items": null,
            "bottom": null,
            "_model_module": "@jupyter-widgets/base",
            "top": null,
            "grid_column": null,
            "overflow_y": null,
            "overflow_x": null,
            "grid_auto_flow": null,
            "grid_area": null,
            "grid_template_columns": null,
            "flex": null,
            "_model_name": "LayoutModel",
            "justify_items": null,
            "grid_row": null,
            "max_height": null,
            "align_content": null,
            "visibility": null,
            "align_self": null,
            "height": null,
            "min_height": null,
            "padding": null,
            "grid_auto_rows": null,
            "grid_gap": null,
            "max_width": null,
            "order": null,
            "_view_module_version": "1.2.0",
            "grid_template_areas": null,
            "object_position": null,
            "object_fit": null,
            "grid_auto_columns": null,
            "margin": null,
            "display": null,
            "left": null
          }
        },
        "3bec26e51b7d4436b5a4dff882feda5f": {
          "model_module": "@jupyter-widgets/controls",
          "model_name": "DescriptionStyleModel",
          "state": {
            "_view_name": "StyleView",
            "_model_name": "DescriptionStyleModel",
            "description_width": "",
            "_view_module": "@jupyter-widgets/base",
            "_model_module_version": "1.5.0",
            "_view_count": null,
            "_view_module_version": "1.2.0",
            "_model_module": "@jupyter-widgets/controls"
          }
        },
        "01ce8d022445431db9020fadf1050070": {
          "model_module": "@jupyter-widgets/base",
          "model_name": "LayoutModel",
          "state": {
            "_view_name": "LayoutView",
            "grid_template_rows": null,
            "right": null,
            "justify_content": null,
            "_view_module": "@jupyter-widgets/base",
            "overflow": null,
            "_model_module_version": "1.2.0",
            "_view_count": null,
            "flex_flow": null,
            "width": null,
            "min_width": null,
            "border": null,
            "align_items": null,
            "bottom": null,
            "_model_module": "@jupyter-widgets/base",
            "top": null,
            "grid_column": null,
            "overflow_y": null,
            "overflow_x": null,
            "grid_auto_flow": null,
            "grid_area": null,
            "grid_template_columns": null,
            "flex": null,
            "_model_name": "LayoutModel",
            "justify_items": null,
            "grid_row": null,
            "max_height": null,
            "align_content": null,
            "visibility": null,
            "align_self": null,
            "height": null,
            "min_height": null,
            "padding": null,
            "grid_auto_rows": null,
            "grid_gap": null,
            "max_width": null,
            "order": null,
            "_view_module_version": "1.2.0",
            "grid_template_areas": null,
            "object_position": null,
            "object_fit": null,
            "grid_auto_columns": null,
            "margin": null,
            "display": null,
            "left": null
          }
        },
        "2197ace782c743faa0de35d838567b6e": {
          "model_module": "@jupyter-widgets/controls",
          "model_name": "HBoxModel",
          "state": {
            "_view_name": "HBoxView",
            "_dom_classes": [],
            "_model_name": "HBoxModel",
            "_view_module": "@jupyter-widgets/controls",
            "_model_module_version": "1.5.0",
            "_view_count": null,
            "_view_module_version": "1.5.0",
            "box_style": "",
            "layout": "IPY_MODEL_39a701264d324de790fad4ad422563c9",
            "_model_module": "@jupyter-widgets/controls",
            "children": [
              "IPY_MODEL_9ed371519b8f4232828dbef4c1d84053",
              "IPY_MODEL_50f77c9db3d1494192654a7d8cf1025d"
            ]
          }
        },
        "39a701264d324de790fad4ad422563c9": {
          "model_module": "@jupyter-widgets/base",
          "model_name": "LayoutModel",
          "state": {
            "_view_name": "LayoutView",
            "grid_template_rows": null,
            "right": null,
            "justify_content": null,
            "_view_module": "@jupyter-widgets/base",
            "overflow": null,
            "_model_module_version": "1.2.0",
            "_view_count": null,
            "flex_flow": null,
            "width": null,
            "min_width": null,
            "border": null,
            "align_items": null,
            "bottom": null,
            "_model_module": "@jupyter-widgets/base",
            "top": null,
            "grid_column": null,
            "overflow_y": null,
            "overflow_x": null,
            "grid_auto_flow": null,
            "grid_area": null,
            "grid_template_columns": null,
            "flex": null,
            "_model_name": "LayoutModel",
            "justify_items": null,
            "grid_row": null,
            "max_height": null,
            "align_content": null,
            "visibility": null,
            "align_self": null,
            "height": null,
            "min_height": null,
            "padding": null,
            "grid_auto_rows": null,
            "grid_gap": null,
            "max_width": null,
            "order": null,
            "_view_module_version": "1.2.0",
            "grid_template_areas": null,
            "object_position": null,
            "object_fit": null,
            "grid_auto_columns": null,
            "margin": null,
            "display": null,
            "left": null
          }
        },
        "9ed371519b8f4232828dbef4c1d84053": {
          "model_module": "@jupyter-widgets/controls",
          "model_name": "FloatProgressModel",
          "state": {
            "_view_name": "ProgressView",
            "style": "IPY_MODEL_95572069c1664b0da7a41e568fc8a3b6",
            "_dom_classes": [],
            "description": "Downloading: 100%",
            "_model_name": "FloatProgressModel",
            "bar_style": "success",
            "max": 230,
            "_view_module": "@jupyter-widgets/controls",
            "_model_module_version": "1.5.0",
            "value": 230,
            "_view_count": null,
            "_view_module_version": "1.5.0",
            "orientation": "horizontal",
            "min": 0,
            "description_tooltip": null,
            "_model_module": "@jupyter-widgets/controls",
            "layout": "IPY_MODEL_23ed9d1d68ed4053b45f13dd6da314af"
          }
        },
        "50f77c9db3d1494192654a7d8cf1025d": {
          "model_module": "@jupyter-widgets/controls",
          "model_name": "HTMLModel",
          "state": {
            "_view_name": "HTMLView",
            "style": "IPY_MODEL_6f904cbb154d4ff7b2c56ee508307541",
            "_dom_classes": [],
            "description": "",
            "_model_name": "HTMLModel",
            "placeholder": "​",
            "_view_module": "@jupyter-widgets/controls",
            "_model_module_version": "1.5.0",
            "value": " 230/230 [00:25&lt;00:00, 9.13B/s]",
            "_view_count": null,
            "_view_module_version": "1.5.0",
            "description_tooltip": null,
            "_model_module": "@jupyter-widgets/controls",
            "layout": "IPY_MODEL_7af7921171374988a5634fbb6f03e6d1"
          }
        },
        "95572069c1664b0da7a41e568fc8a3b6": {
          "model_module": "@jupyter-widgets/controls",
          "model_name": "ProgressStyleModel",
          "state": {
            "_view_name": "StyleView",
            "_model_name": "ProgressStyleModel",
            "description_width": "initial",
            "_view_module": "@jupyter-widgets/base",
            "_model_module_version": "1.5.0",
            "_view_count": null,
            "_view_module_version": "1.2.0",
            "bar_color": null,
            "_model_module": "@jupyter-widgets/controls"
          }
        },
        "23ed9d1d68ed4053b45f13dd6da314af": {
          "model_module": "@jupyter-widgets/base",
          "model_name": "LayoutModel",
          "state": {
            "_view_name": "LayoutView",
            "grid_template_rows": null,
            "right": null,
            "justify_content": null,
            "_view_module": "@jupyter-widgets/base",
            "overflow": null,
            "_model_module_version": "1.2.0",
            "_view_count": null,
            "flex_flow": null,
            "width": null,
            "min_width": null,
            "border": null,
            "align_items": null,
            "bottom": null,
            "_model_module": "@jupyter-widgets/base",
            "top": null,
            "grid_column": null,
            "overflow_y": null,
            "overflow_x": null,
            "grid_auto_flow": null,
            "grid_area": null,
            "grid_template_columns": null,
            "flex": null,
            "_model_name": "LayoutModel",
            "justify_items": null,
            "grid_row": null,
            "max_height": null,
            "align_content": null,
            "visibility": null,
            "align_self": null,
            "height": null,
            "min_height": null,
            "padding": null,
            "grid_auto_rows": null,
            "grid_gap": null,
            "max_width": null,
            "order": null,
            "_view_module_version": "1.2.0",
            "grid_template_areas": null,
            "object_position": null,
            "object_fit": null,
            "grid_auto_columns": null,
            "margin": null,
            "display": null,
            "left": null
          }
        },
        "6f904cbb154d4ff7b2c56ee508307541": {
          "model_module": "@jupyter-widgets/controls",
          "model_name": "DescriptionStyleModel",
          "state": {
            "_view_name": "StyleView",
            "_model_name": "DescriptionStyleModel",
            "description_width": "",
            "_view_module": "@jupyter-widgets/base",
            "_model_module_version": "1.5.0",
            "_view_count": null,
            "_view_module_version": "1.2.0",
            "_model_module": "@jupyter-widgets/controls"
          }
        },
        "7af7921171374988a5634fbb6f03e6d1": {
          "model_module": "@jupyter-widgets/base",
          "model_name": "LayoutModel",
          "state": {
            "_view_name": "LayoutView",
            "grid_template_rows": null,
            "right": null,
            "justify_content": null,
            "_view_module": "@jupyter-widgets/base",
            "overflow": null,
            "_model_module_version": "1.2.0",
            "_view_count": null,
            "flex_flow": null,
            "width": null,
            "min_width": null,
            "border": null,
            "align_items": null,
            "bottom": null,
            "_model_module": "@jupyter-widgets/base",
            "top": null,
            "grid_column": null,
            "overflow_y": null,
            "overflow_x": null,
            "grid_auto_flow": null,
            "grid_area": null,
            "grid_template_columns": null,
            "flex": null,
            "_model_name": "LayoutModel",
            "justify_items": null,
            "grid_row": null,
            "max_height": null,
            "align_content": null,
            "visibility": null,
            "align_self": null,
            "height": null,
            "min_height": null,
            "padding": null,
            "grid_auto_rows": null,
            "grid_gap": null,
            "max_width": null,
            "order": null,
            "_view_module_version": "1.2.0",
            "grid_template_areas": null,
            "object_position": null,
            "object_fit": null,
            "grid_auto_columns": null,
            "margin": null,
            "display": null,
            "left": null
          }
        },
        "b0682f87f31c4c28af6616000d70f46e": {
          "model_module": "@jupyter-widgets/controls",
          "model_name": "HBoxModel",
          "state": {
            "_view_name": "HBoxView",
            "_dom_classes": [],
            "_model_name": "HBoxModel",
            "_view_module": "@jupyter-widgets/controls",
            "_model_module_version": "1.5.0",
            "_view_count": null,
            "_view_module_version": "1.5.0",
            "box_style": "",
            "layout": "IPY_MODEL_56a12a3144bc44dd8e3fffcd5267d895",
            "_model_module": "@jupyter-widgets/controls",
            "children": [
              "IPY_MODEL_7b3fb6b986e74ad39ea5104488ce52cc",
              "IPY_MODEL_006d4791a4fb4c5095492168276b7db9"
            ]
          }
        },
        "56a12a3144bc44dd8e3fffcd5267d895": {
          "model_module": "@jupyter-widgets/base",
          "model_name": "LayoutModel",
          "state": {
            "_view_name": "LayoutView",
            "grid_template_rows": null,
            "right": null,
            "justify_content": null,
            "_view_module": "@jupyter-widgets/base",
            "overflow": null,
            "_model_module_version": "1.2.0",
            "_view_count": null,
            "flex_flow": null,
            "width": null,
            "min_width": null,
            "border": null,
            "align_items": null,
            "bottom": null,
            "_model_module": "@jupyter-widgets/base",
            "top": null,
            "grid_column": null,
            "overflow_y": null,
            "overflow_x": null,
            "grid_auto_flow": null,
            "grid_area": null,
            "grid_template_columns": null,
            "flex": null,
            "_model_name": "LayoutModel",
            "justify_items": null,
            "grid_row": null,
            "max_height": null,
            "align_content": null,
            "visibility": null,
            "align_self": null,
            "height": null,
            "min_height": null,
            "padding": null,
            "grid_auto_rows": null,
            "grid_gap": null,
            "max_width": null,
            "order": null,
            "_view_module_version": "1.2.0",
            "grid_template_areas": null,
            "object_position": null,
            "object_fit": null,
            "grid_auto_columns": null,
            "margin": null,
            "display": null,
            "left": null
          }
        },
        "7b3fb6b986e74ad39ea5104488ce52cc": {
          "model_module": "@jupyter-widgets/controls",
          "model_name": "FloatProgressModel",
          "state": {
            "_view_name": "ProgressView",
            "style": "IPY_MODEL_9cbf1aeda2ef4ea5a9c4df9e0434d042",
            "_dom_classes": [],
            "description": "Downloading: 100%",
            "_model_name": "FloatProgressModel",
            "bar_style": "success",
            "max": 1334448817,
            "_view_module": "@jupyter-widgets/controls",
            "_model_module_version": "1.5.0",
            "value": 1334448817,
            "_view_count": null,
            "_view_module_version": "1.5.0",
            "orientation": "horizontal",
            "min": 0,
            "description_tooltip": null,
            "_model_module": "@jupyter-widgets/controls",
            "layout": "IPY_MODEL_84fcdd2474774c3b896253225b13dd71"
          }
        },
        "006d4791a4fb4c5095492168276b7db9": {
          "model_module": "@jupyter-widgets/controls",
          "model_name": "HTMLModel",
          "state": {
            "_view_name": "HTMLView",
            "style": "IPY_MODEL_ffe2a038f47141779ce4ab2d61f36237",
            "_dom_classes": [],
            "description": "",
            "_model_name": "HTMLModel",
            "placeholder": "​",
            "_view_module": "@jupyter-widgets/controls",
            "_model_module_version": "1.5.0",
            "value": " 1.33G/1.33G [00:24&lt;00:00, 54.2MB/s]",
            "_view_count": null,
            "_view_module_version": "1.5.0",
            "description_tooltip": null,
            "_model_module": "@jupyter-widgets/controls",
            "layout": "IPY_MODEL_a218417e440742deb98a492e5a1a1bfa"
          }
        },
        "9cbf1aeda2ef4ea5a9c4df9e0434d042": {
          "model_module": "@jupyter-widgets/controls",
          "model_name": "ProgressStyleModel",
          "state": {
            "_view_name": "StyleView",
            "_model_name": "ProgressStyleModel",
            "description_width": "initial",
            "_view_module": "@jupyter-widgets/base",
            "_model_module_version": "1.5.0",
            "_view_count": null,
            "_view_module_version": "1.2.0",
            "bar_color": null,
            "_model_module": "@jupyter-widgets/controls"
          }
        },
        "84fcdd2474774c3b896253225b13dd71": {
          "model_module": "@jupyter-widgets/base",
          "model_name": "LayoutModel",
          "state": {
            "_view_name": "LayoutView",
            "grid_template_rows": null,
            "right": null,
            "justify_content": null,
            "_view_module": "@jupyter-widgets/base",
            "overflow": null,
            "_model_module_version": "1.2.0",
            "_view_count": null,
            "flex_flow": null,
            "width": null,
            "min_width": null,
            "border": null,
            "align_items": null,
            "bottom": null,
            "_model_module": "@jupyter-widgets/base",
            "top": null,
            "grid_column": null,
            "overflow_y": null,
            "overflow_x": null,
            "grid_auto_flow": null,
            "grid_area": null,
            "grid_template_columns": null,
            "flex": null,
            "_model_name": "LayoutModel",
            "justify_items": null,
            "grid_row": null,
            "max_height": null,
            "align_content": null,
            "visibility": null,
            "align_self": null,
            "height": null,
            "min_height": null,
            "padding": null,
            "grid_auto_rows": null,
            "grid_gap": null,
            "max_width": null,
            "order": null,
            "_view_module_version": "1.2.0",
            "grid_template_areas": null,
            "object_position": null,
            "object_fit": null,
            "grid_auto_columns": null,
            "margin": null,
            "display": null,
            "left": null
          }
        },
        "ffe2a038f47141779ce4ab2d61f36237": {
          "model_module": "@jupyter-widgets/controls",
          "model_name": "DescriptionStyleModel",
          "state": {
            "_view_name": "StyleView",
            "_model_name": "DescriptionStyleModel",
            "description_width": "",
            "_view_module": "@jupyter-widgets/base",
            "_model_module_version": "1.5.0",
            "_view_count": null,
            "_view_module_version": "1.2.0",
            "_model_module": "@jupyter-widgets/controls"
          }
        },
        "a218417e440742deb98a492e5a1a1bfa": {
          "model_module": "@jupyter-widgets/base",
          "model_name": "LayoutModel",
          "state": {
            "_view_name": "LayoutView",
            "grid_template_rows": null,
            "right": null,
            "justify_content": null,
            "_view_module": "@jupyter-widgets/base",
            "overflow": null,
            "_model_module_version": "1.2.0",
            "_view_count": null,
            "flex_flow": null,
            "width": null,
            "min_width": null,
            "border": null,
            "align_items": null,
            "bottom": null,
            "_model_module": "@jupyter-widgets/base",
            "top": null,
            "grid_column": null,
            "overflow_y": null,
            "overflow_x": null,
            "grid_auto_flow": null,
            "grid_area": null,
            "grid_template_columns": null,
            "flex": null,
            "_model_name": "LayoutModel",
            "justify_items": null,
            "grid_row": null,
            "max_height": null,
            "align_content": null,
            "visibility": null,
            "align_self": null,
            "height": null,
            "min_height": null,
            "padding": null,
            "grid_auto_rows": null,
            "grid_gap": null,
            "max_width": null,
            "order": null,
            "_view_module_version": "1.2.0",
            "grid_template_areas": null,
            "object_position": null,
            "object_fit": null,
            "grid_auto_columns": null,
            "margin": null,
            "display": null,
            "left": null
          }
        },
        "1e3e544a3e994d5ea2012d978ecfe623": {
          "model_module": "@jupyter-widgets/controls",
          "model_name": "HBoxModel",
          "state": {
            "_view_name": "HBoxView",
            "_dom_classes": [],
            "_model_name": "HBoxModel",
            "_view_module": "@jupyter-widgets/controls",
            "_model_module_version": "1.5.0",
            "_view_count": null,
            "_view_module_version": "1.5.0",
            "box_style": "",
            "layout": "IPY_MODEL_4dee6aa548c14fbda1931ae567fc06f4",
            "_model_module": "@jupyter-widgets/controls",
            "children": [
              "IPY_MODEL_f76ab1d4627841b4bd47f70dc212fe5f",
              "IPY_MODEL_329efa98bfbc4e378194b4a7c3b2fa7f"
            ]
          }
        },
        "4dee6aa548c14fbda1931ae567fc06f4": {
          "model_module": "@jupyter-widgets/base",
          "model_name": "LayoutModel",
          "state": {
            "_view_name": "LayoutView",
            "grid_template_rows": null,
            "right": null,
            "justify_content": null,
            "_view_module": "@jupyter-widgets/base",
            "overflow": null,
            "_model_module_version": "1.2.0",
            "_view_count": null,
            "flex_flow": null,
            "width": null,
            "min_width": null,
            "border": null,
            "align_items": null,
            "bottom": null,
            "_model_module": "@jupyter-widgets/base",
            "top": null,
            "grid_column": null,
            "overflow_y": null,
            "overflow_x": null,
            "grid_auto_flow": null,
            "grid_area": null,
            "grid_template_columns": null,
            "flex": null,
            "_model_name": "LayoutModel",
            "justify_items": null,
            "grid_row": null,
            "max_height": null,
            "align_content": null,
            "visibility": null,
            "align_self": null,
            "height": null,
            "min_height": null,
            "padding": null,
            "grid_auto_rows": null,
            "grid_gap": null,
            "max_width": null,
            "order": null,
            "_view_module_version": "1.2.0",
            "grid_template_areas": null,
            "object_position": null,
            "object_fit": null,
            "grid_auto_columns": null,
            "margin": null,
            "display": null,
            "left": null
          }
        },
        "f76ab1d4627841b4bd47f70dc212fe5f": {
          "model_module": "@jupyter-widgets/controls",
          "model_name": "FloatProgressModel",
          "state": {
            "_view_name": "ProgressView",
            "style": "IPY_MODEL_04fb214405064886b2872ecb13da6223",
            "_dom_classes": [],
            "description": "Downloading: 100%",
            "_model_name": "FloatProgressModel",
            "bar_style": "success",
            "max": 629,
            "_view_module": "@jupyter-widgets/controls",
            "_model_module_version": "1.5.0",
            "value": 629,
            "_view_count": null,
            "_view_module_version": "1.5.0",
            "orientation": "horizontal",
            "min": 0,
            "description_tooltip": null,
            "_model_module": "@jupyter-widgets/controls",
            "layout": "IPY_MODEL_e9819e37db494bbba75300647f93c374"
          }
        },
        "329efa98bfbc4e378194b4a7c3b2fa7f": {
          "model_module": "@jupyter-widgets/controls",
          "model_name": "HTMLModel",
          "state": {
            "_view_name": "HTMLView",
            "style": "IPY_MODEL_c2eadc2bbcd74fa1b861421337a3029e",
            "_dom_classes": [],
            "description": "",
            "_model_name": "HTMLModel",
            "placeholder": "​",
            "_view_module": "@jupyter-widgets/controls",
            "_model_module_version": "1.5.0",
            "value": " 629/629 [00:00&lt;00:00, 963B/s]",
            "_view_count": null,
            "_view_module_version": "1.5.0",
            "description_tooltip": null,
            "_model_module": "@jupyter-widgets/controls",
            "layout": "IPY_MODEL_fdc72baee1c9460da0b912de6299c237"
          }
        },
        "04fb214405064886b2872ecb13da6223": {
          "model_module": "@jupyter-widgets/controls",
          "model_name": "ProgressStyleModel",
          "state": {
            "_view_name": "StyleView",
            "_model_name": "ProgressStyleModel",
            "description_width": "initial",
            "_view_module": "@jupyter-widgets/base",
            "_model_module_version": "1.5.0",
            "_view_count": null,
            "_view_module_version": "1.2.0",
            "bar_color": null,
            "_model_module": "@jupyter-widgets/controls"
          }
        },
        "e9819e37db494bbba75300647f93c374": {
          "model_module": "@jupyter-widgets/base",
          "model_name": "LayoutModel",
          "state": {
            "_view_name": "LayoutView",
            "grid_template_rows": null,
            "right": null,
            "justify_content": null,
            "_view_module": "@jupyter-widgets/base",
            "overflow": null,
            "_model_module_version": "1.2.0",
            "_view_count": null,
            "flex_flow": null,
            "width": null,
            "min_width": null,
            "border": null,
            "align_items": null,
            "bottom": null,
            "_model_module": "@jupyter-widgets/base",
            "top": null,
            "grid_column": null,
            "overflow_y": null,
            "overflow_x": null,
            "grid_auto_flow": null,
            "grid_area": null,
            "grid_template_columns": null,
            "flex": null,
            "_model_name": "LayoutModel",
            "justify_items": null,
            "grid_row": null,
            "max_height": null,
            "align_content": null,
            "visibility": null,
            "align_self": null,
            "height": null,
            "min_height": null,
            "padding": null,
            "grid_auto_rows": null,
            "grid_gap": null,
            "max_width": null,
            "order": null,
            "_view_module_version": "1.2.0",
            "grid_template_areas": null,
            "object_position": null,
            "object_fit": null,
            "grid_auto_columns": null,
            "margin": null,
            "display": null,
            "left": null
          }
        },
        "c2eadc2bbcd74fa1b861421337a3029e": {
          "model_module": "@jupyter-widgets/controls",
          "model_name": "DescriptionStyleModel",
          "state": {
            "_view_name": "StyleView",
            "_model_name": "DescriptionStyleModel",
            "description_width": "",
            "_view_module": "@jupyter-widgets/base",
            "_model_module_version": "1.5.0",
            "_view_count": null,
            "_view_module_version": "1.2.0",
            "_model_module": "@jupyter-widgets/controls"
          }
        },
        "fdc72baee1c9460da0b912de6299c237": {
          "model_module": "@jupyter-widgets/base",
          "model_name": "LayoutModel",
          "state": {
            "_view_name": "LayoutView",
            "grid_template_rows": null,
            "right": null,
            "justify_content": null,
            "_view_module": "@jupyter-widgets/base",
            "overflow": null,
            "_model_module_version": "1.2.0",
            "_view_count": null,
            "flex_flow": null,
            "width": null,
            "min_width": null,
            "border": null,
            "align_items": null,
            "bottom": null,
            "_model_module": "@jupyter-widgets/base",
            "top": null,
            "grid_column": null,
            "overflow_y": null,
            "overflow_x": null,
            "grid_auto_flow": null,
            "grid_area": null,
            "grid_template_columns": null,
            "flex": null,
            "_model_name": "LayoutModel",
            "justify_items": null,
            "grid_row": null,
            "max_height": null,
            "align_content": null,
            "visibility": null,
            "align_self": null,
            "height": null,
            "min_height": null,
            "padding": null,
            "grid_auto_rows": null,
            "grid_gap": null,
            "max_width": null,
            "order": null,
            "_view_module_version": "1.2.0",
            "grid_template_areas": null,
            "object_position": null,
            "object_fit": null,
            "grid_auto_columns": null,
            "margin": null,
            "display": null,
            "left": null
          }
        },
        "0da3366ca0c945de952a3936351078f4": {
          "model_module": "@jupyter-widgets/controls",
          "model_name": "HBoxModel",
          "state": {
            "_view_name": "HBoxView",
            "_dom_classes": [],
            "_model_name": "HBoxModel",
            "_view_module": "@jupyter-widgets/controls",
            "_model_module_version": "1.5.0",
            "_view_count": null,
            "_view_module_version": "1.5.0",
            "box_style": "",
            "layout": "IPY_MODEL_bb17ef719efd4270811ea4d43222a7da",
            "_model_module": "@jupyter-widgets/controls",
            "children": [
              "IPY_MODEL_ff6b06b26cfe443fa3acf2e4d568e3ca",
              "IPY_MODEL_6a5dae437cc44d98824947ee87c85825"
            ]
          }
        },
        "bb17ef719efd4270811ea4d43222a7da": {
          "model_module": "@jupyter-widgets/base",
          "model_name": "LayoutModel",
          "state": {
            "_view_name": "LayoutView",
            "grid_template_rows": null,
            "right": null,
            "justify_content": null,
            "_view_module": "@jupyter-widgets/base",
            "overflow": null,
            "_model_module_version": "1.2.0",
            "_view_count": null,
            "flex_flow": null,
            "width": null,
            "min_width": null,
            "border": null,
            "align_items": null,
            "bottom": null,
            "_model_module": "@jupyter-widgets/base",
            "top": null,
            "grid_column": null,
            "overflow_y": null,
            "overflow_x": null,
            "grid_auto_flow": null,
            "grid_area": null,
            "grid_template_columns": null,
            "flex": null,
            "_model_name": "LayoutModel",
            "justify_items": null,
            "grid_row": null,
            "max_height": null,
            "align_content": null,
            "visibility": null,
            "align_self": null,
            "height": null,
            "min_height": null,
            "padding": null,
            "grid_auto_rows": null,
            "grid_gap": null,
            "max_width": null,
            "order": null,
            "_view_module_version": "1.2.0",
            "grid_template_areas": null,
            "object_position": null,
            "object_fit": null,
            "grid_auto_columns": null,
            "margin": null,
            "display": null,
            "left": null
          }
        },
        "ff6b06b26cfe443fa3acf2e4d568e3ca": {
          "model_module": "@jupyter-widgets/controls",
          "model_name": "FloatProgressModel",
          "state": {
            "_view_name": "ProgressView",
            "style": "IPY_MODEL_fb7546fa857347ba916e3857a016c33e",
            "_dom_classes": [],
            "description": "Downloading: 100%",
            "_model_name": "FloatProgressModel",
            "bar_style": "success",
            "max": 231508,
            "_view_module": "@jupyter-widgets/controls",
            "_model_module_version": "1.5.0",
            "value": 231508,
            "_view_count": null,
            "_view_module_version": "1.5.0",
            "orientation": "horizontal",
            "min": 0,
            "description_tooltip": null,
            "_model_module": "@jupyter-widgets/controls",
            "layout": "IPY_MODEL_4ecfa5d522ec4b25b2d24ae537326f41"
          }
        },
        "6a5dae437cc44d98824947ee87c85825": {
          "model_module": "@jupyter-widgets/controls",
          "model_name": "HTMLModel",
          "state": {
            "_view_name": "HTMLView",
            "style": "IPY_MODEL_2ed41a71a72743f488571f6a28fd85f2",
            "_dom_classes": [],
            "description": "",
            "_model_name": "HTMLModel",
            "placeholder": "​",
            "_view_module": "@jupyter-widgets/controls",
            "_model_module_version": "1.5.0",
            "value": " 232k/232k [00:01&lt;00:00, 164kB/s]",
            "_view_count": null,
            "_view_module_version": "1.5.0",
            "description_tooltip": null,
            "_model_module": "@jupyter-widgets/controls",
            "layout": "IPY_MODEL_64f9c8cc0169437bbc759e959e7cc467"
          }
        },
        "fb7546fa857347ba916e3857a016c33e": {
          "model_module": "@jupyter-widgets/controls",
          "model_name": "ProgressStyleModel",
          "state": {
            "_view_name": "StyleView",
            "_model_name": "ProgressStyleModel",
            "description_width": "initial",
            "_view_module": "@jupyter-widgets/base",
            "_model_module_version": "1.5.0",
            "_view_count": null,
            "_view_module_version": "1.2.0",
            "bar_color": null,
            "_model_module": "@jupyter-widgets/controls"
          }
        },
        "4ecfa5d522ec4b25b2d24ae537326f41": {
          "model_module": "@jupyter-widgets/base",
          "model_name": "LayoutModel",
          "state": {
            "_view_name": "LayoutView",
            "grid_template_rows": null,
            "right": null,
            "justify_content": null,
            "_view_module": "@jupyter-widgets/base",
            "overflow": null,
            "_model_module_version": "1.2.0",
            "_view_count": null,
            "flex_flow": null,
            "width": null,
            "min_width": null,
            "border": null,
            "align_items": null,
            "bottom": null,
            "_model_module": "@jupyter-widgets/base",
            "top": null,
            "grid_column": null,
            "overflow_y": null,
            "overflow_x": null,
            "grid_auto_flow": null,
            "grid_area": null,
            "grid_template_columns": null,
            "flex": null,
            "_model_name": "LayoutModel",
            "justify_items": null,
            "grid_row": null,
            "max_height": null,
            "align_content": null,
            "visibility": null,
            "align_self": null,
            "height": null,
            "min_height": null,
            "padding": null,
            "grid_auto_rows": null,
            "grid_gap": null,
            "max_width": null,
            "order": null,
            "_view_module_version": "1.2.0",
            "grid_template_areas": null,
            "object_position": null,
            "object_fit": null,
            "grid_auto_columns": null,
            "margin": null,
            "display": null,
            "left": null
          }
        },
        "2ed41a71a72743f488571f6a28fd85f2": {
          "model_module": "@jupyter-widgets/controls",
          "model_name": "DescriptionStyleModel",
          "state": {
            "_view_name": "StyleView",
            "_model_name": "DescriptionStyleModel",
            "description_width": "",
            "_view_module": "@jupyter-widgets/base",
            "_model_module_version": "1.5.0",
            "_view_count": null,
            "_view_module_version": "1.2.0",
            "_model_module": "@jupyter-widgets/controls"
          }
        },
        "64f9c8cc0169437bbc759e959e7cc467": {
          "model_module": "@jupyter-widgets/base",
          "model_name": "LayoutModel",
          "state": {
            "_view_name": "LayoutView",
            "grid_template_rows": null,
            "right": null,
            "justify_content": null,
            "_view_module": "@jupyter-widgets/base",
            "overflow": null,
            "_model_module_version": "1.2.0",
            "_view_count": null,
            "flex_flow": null,
            "width": null,
            "min_width": null,
            "border": null,
            "align_items": null,
            "bottom": null,
            "_model_module": "@jupyter-widgets/base",
            "top": null,
            "grid_column": null,
            "overflow_y": null,
            "overflow_x": null,
            "grid_auto_flow": null,
            "grid_area": null,
            "grid_template_columns": null,
            "flex": null,
            "_model_name": "LayoutModel",
            "justify_items": null,
            "grid_row": null,
            "max_height": null,
            "align_content": null,
            "visibility": null,
            "align_self": null,
            "height": null,
            "min_height": null,
            "padding": null,
            "grid_auto_rows": null,
            "grid_gap": null,
            "max_width": null,
            "order": null,
            "_view_module_version": "1.2.0",
            "grid_template_areas": null,
            "object_position": null,
            "object_fit": null,
            "grid_auto_columns": null,
            "margin": null,
            "display": null,
            "left": null
          }
        },
        "b3bdc06e517e42fd9a0523715c015542": {
          "model_module": "@jupyter-widgets/controls",
          "model_name": "HBoxModel",
          "state": {
            "_view_name": "HBoxView",
            "_dom_classes": [],
            "_model_name": "HBoxModel",
            "_view_module": "@jupyter-widgets/controls",
            "_model_module_version": "1.5.0",
            "_view_count": null,
            "_view_module_version": "1.5.0",
            "box_style": "",
            "layout": "IPY_MODEL_6d3ccd86f89f48569c611eb2a68d3cf2",
            "_model_module": "@jupyter-widgets/controls",
            "children": [
              "IPY_MODEL_598af51bf7fc47c79cce3f5ee003aec0",
              "IPY_MODEL_025b8bf252ec41c68994b66f94db8ad5"
            ]
          }
        },
        "6d3ccd86f89f48569c611eb2a68d3cf2": {
          "model_module": "@jupyter-widgets/base",
          "model_name": "LayoutModel",
          "state": {
            "_view_name": "LayoutView",
            "grid_template_rows": null,
            "right": null,
            "justify_content": null,
            "_view_module": "@jupyter-widgets/base",
            "overflow": null,
            "_model_module_version": "1.2.0",
            "_view_count": null,
            "flex_flow": null,
            "width": null,
            "min_width": null,
            "border": null,
            "align_items": null,
            "bottom": null,
            "_model_module": "@jupyter-widgets/base",
            "top": null,
            "grid_column": null,
            "overflow_y": null,
            "overflow_x": null,
            "grid_auto_flow": null,
            "grid_area": null,
            "grid_template_columns": null,
            "flex": null,
            "_model_name": "LayoutModel",
            "justify_items": null,
            "grid_row": null,
            "max_height": null,
            "align_content": null,
            "visibility": null,
            "align_self": null,
            "height": null,
            "min_height": null,
            "padding": null,
            "grid_auto_rows": null,
            "grid_gap": null,
            "max_width": null,
            "order": null,
            "_view_module_version": "1.2.0",
            "grid_template_areas": null,
            "object_position": null,
            "object_fit": null,
            "grid_auto_columns": null,
            "margin": null,
            "display": null,
            "left": null
          }
        },
        "598af51bf7fc47c79cce3f5ee003aec0": {
          "model_module": "@jupyter-widgets/controls",
          "model_name": "FloatProgressModel",
          "state": {
            "_view_name": "ProgressView",
            "style": "IPY_MODEL_6c2d0d1220284dd78d6370e0cc240ec5",
            "_dom_classes": [],
            "description": "Downloading: 100%",
            "_model_name": "FloatProgressModel",
            "bar_style": "success",
            "max": 230,
            "_view_module": "@jupyter-widgets/controls",
            "_model_module_version": "1.5.0",
            "value": 230,
            "_view_count": null,
            "_view_module_version": "1.5.0",
            "orientation": "horizontal",
            "min": 0,
            "description_tooltip": null,
            "_model_module": "@jupyter-widgets/controls",
            "layout": "IPY_MODEL_b1bea35b23ae4f4292254f5e33500678"
          }
        },
        "025b8bf252ec41c68994b66f94db8ad5": {
          "model_module": "@jupyter-widgets/controls",
          "model_name": "HTMLModel",
          "state": {
            "_view_name": "HTMLView",
            "style": "IPY_MODEL_33a24e8f8874494e83512375e94cfd9b",
            "_dom_classes": [],
            "description": "",
            "_model_name": "HTMLModel",
            "placeholder": "​",
            "_view_module": "@jupyter-widgets/controls",
            "_model_module_version": "1.5.0",
            "value": " 230/230 [00:06&lt;00:00, 36.3B/s]",
            "_view_count": null,
            "_view_module_version": "1.5.0",
            "description_tooltip": null,
            "_model_module": "@jupyter-widgets/controls",
            "layout": "IPY_MODEL_c9459ec2121b49f78c98f39f25dee3b9"
          }
        },
        "6c2d0d1220284dd78d6370e0cc240ec5": {
          "model_module": "@jupyter-widgets/controls",
          "model_name": "ProgressStyleModel",
          "state": {
            "_view_name": "StyleView",
            "_model_name": "ProgressStyleModel",
            "description_width": "initial",
            "_view_module": "@jupyter-widgets/base",
            "_model_module_version": "1.5.0",
            "_view_count": null,
            "_view_module_version": "1.2.0",
            "bar_color": null,
            "_model_module": "@jupyter-widgets/controls"
          }
        },
        "b1bea35b23ae4f4292254f5e33500678": {
          "model_module": "@jupyter-widgets/base",
          "model_name": "LayoutModel",
          "state": {
            "_view_name": "LayoutView",
            "grid_template_rows": null,
            "right": null,
            "justify_content": null,
            "_view_module": "@jupyter-widgets/base",
            "overflow": null,
            "_model_module_version": "1.2.0",
            "_view_count": null,
            "flex_flow": null,
            "width": null,
            "min_width": null,
            "border": null,
            "align_items": null,
            "bottom": null,
            "_model_module": "@jupyter-widgets/base",
            "top": null,
            "grid_column": null,
            "overflow_y": null,
            "overflow_x": null,
            "grid_auto_flow": null,
            "grid_area": null,
            "grid_template_columns": null,
            "flex": null,
            "_model_name": "LayoutModel",
            "justify_items": null,
            "grid_row": null,
            "max_height": null,
            "align_content": null,
            "visibility": null,
            "align_self": null,
            "height": null,
            "min_height": null,
            "padding": null,
            "grid_auto_rows": null,
            "grid_gap": null,
            "max_width": null,
            "order": null,
            "_view_module_version": "1.2.0",
            "grid_template_areas": null,
            "object_position": null,
            "object_fit": null,
            "grid_auto_columns": null,
            "margin": null,
            "display": null,
            "left": null
          }
        },
        "33a24e8f8874494e83512375e94cfd9b": {
          "model_module": "@jupyter-widgets/controls",
          "model_name": "DescriptionStyleModel",
          "state": {
            "_view_name": "StyleView",
            "_model_name": "DescriptionStyleModel",
            "description_width": "",
            "_view_module": "@jupyter-widgets/base",
            "_model_module_version": "1.5.0",
            "_view_count": null,
            "_view_module_version": "1.2.0",
            "_model_module": "@jupyter-widgets/controls"
          }
        },
        "c9459ec2121b49f78c98f39f25dee3b9": {
          "model_module": "@jupyter-widgets/base",
          "model_name": "LayoutModel",
          "state": {
            "_view_name": "LayoutView",
            "grid_template_rows": null,
            "right": null,
            "justify_content": null,
            "_view_module": "@jupyter-widgets/base",
            "overflow": null,
            "_model_module_version": "1.2.0",
            "_view_count": null,
            "flex_flow": null,
            "width": null,
            "min_width": null,
            "border": null,
            "align_items": null,
            "bottom": null,
            "_model_module": "@jupyter-widgets/base",
            "top": null,
            "grid_column": null,
            "overflow_y": null,
            "overflow_x": null,
            "grid_auto_flow": null,
            "grid_area": null,
            "grid_template_columns": null,
            "flex": null,
            "_model_name": "LayoutModel",
            "justify_items": null,
            "grid_row": null,
            "max_height": null,
            "align_content": null,
            "visibility": null,
            "align_self": null,
            "height": null,
            "min_height": null,
            "padding": null,
            "grid_auto_rows": null,
            "grid_gap": null,
            "max_width": null,
            "order": null,
            "_view_module_version": "1.2.0",
            "grid_template_areas": null,
            "object_position": null,
            "object_fit": null,
            "grid_auto_columns": null,
            "margin": null,
            "display": null,
            "left": null
          }
        },
        "fab95f6573054a7ebcab588266c723d2": {
          "model_module": "@jupyter-widgets/controls",
          "model_name": "HBoxModel",
          "state": {
            "_view_name": "HBoxView",
            "_dom_classes": [],
            "_model_name": "HBoxModel",
            "_view_module": "@jupyter-widgets/controls",
            "_model_module_version": "1.5.0",
            "_view_count": null,
            "_view_module_version": "1.5.0",
            "box_style": "",
            "layout": "IPY_MODEL_bf9dc40757794a53b7d1319e8696127c",
            "_model_module": "@jupyter-widgets/controls",
            "children": [
              "IPY_MODEL_baaf76e229054114b4a6e62cd43d8fa3",
              "IPY_MODEL_c0c8708dc89a4e99b3b0997c84d8a197"
            ]
          }
        },
        "bf9dc40757794a53b7d1319e8696127c": {
          "model_module": "@jupyter-widgets/base",
          "model_name": "LayoutModel",
          "state": {
            "_view_name": "LayoutView",
            "grid_template_rows": null,
            "right": null,
            "justify_content": null,
            "_view_module": "@jupyter-widgets/base",
            "overflow": null,
            "_model_module_version": "1.2.0",
            "_view_count": null,
            "flex_flow": null,
            "width": null,
            "min_width": null,
            "border": null,
            "align_items": null,
            "bottom": null,
            "_model_module": "@jupyter-widgets/base",
            "top": null,
            "grid_column": null,
            "overflow_y": null,
            "overflow_x": null,
            "grid_auto_flow": null,
            "grid_area": null,
            "grid_template_columns": null,
            "flex": null,
            "_model_name": "LayoutModel",
            "justify_items": null,
            "grid_row": null,
            "max_height": null,
            "align_content": null,
            "visibility": null,
            "align_self": null,
            "height": null,
            "min_height": null,
            "padding": null,
            "grid_auto_rows": null,
            "grid_gap": null,
            "max_width": null,
            "order": null,
            "_view_module_version": "1.2.0",
            "grid_template_areas": null,
            "object_position": null,
            "object_fit": null,
            "grid_auto_columns": null,
            "margin": null,
            "display": null,
            "left": null
          }
        },
        "baaf76e229054114b4a6e62cd43d8fa3": {
          "model_module": "@jupyter-widgets/controls",
          "model_name": "FloatProgressModel",
          "state": {
            "_view_name": "ProgressView",
            "style": "IPY_MODEL_7c412ce704954c0fa7c37551a536a39e",
            "_dom_classes": [],
            "description": "Downloading: 100%",
            "_model_name": "FloatProgressModel",
            "bar_style": "success",
            "max": 267844284,
            "_view_module": "@jupyter-widgets/controls",
            "_model_module_version": "1.5.0",
            "value": 267844284,
            "_view_count": null,
            "_view_module_version": "1.5.0",
            "orientation": "horizontal",
            "min": 0,
            "description_tooltip": null,
            "_model_module": "@jupyter-widgets/controls",
            "layout": "IPY_MODEL_10b7cd2f77474c6a845299c0c52ff307"
          }
        },
        "c0c8708dc89a4e99b3b0997c84d8a197": {
          "model_module": "@jupyter-widgets/controls",
          "model_name": "HTMLModel",
          "state": {
            "_view_name": "HTMLView",
            "style": "IPY_MODEL_2673551ae63b4b7f984528fe4e873748",
            "_dom_classes": [],
            "description": "",
            "_model_name": "HTMLModel",
            "placeholder": "​",
            "_view_module": "@jupyter-widgets/controls",
            "_model_module_version": "1.5.0",
            "value": " 268M/268M [00:05&lt;00:00, 45.3MB/s]",
            "_view_count": null,
            "_view_module_version": "1.5.0",
            "description_tooltip": null,
            "_model_module": "@jupyter-widgets/controls",
            "layout": "IPY_MODEL_7aed27e76ed844fa973a05225325de20"
          }
        },
        "7c412ce704954c0fa7c37551a536a39e": {
          "model_module": "@jupyter-widgets/controls",
          "model_name": "ProgressStyleModel",
          "state": {
            "_view_name": "StyleView",
            "_model_name": "ProgressStyleModel",
            "description_width": "initial",
            "_view_module": "@jupyter-widgets/base",
            "_model_module_version": "1.5.0",
            "_view_count": null,
            "_view_module_version": "1.2.0",
            "bar_color": null,
            "_model_module": "@jupyter-widgets/controls"
          }
        },
        "10b7cd2f77474c6a845299c0c52ff307": {
          "model_module": "@jupyter-widgets/base",
          "model_name": "LayoutModel",
          "state": {
            "_view_name": "LayoutView",
            "grid_template_rows": null,
            "right": null,
            "justify_content": null,
            "_view_module": "@jupyter-widgets/base",
            "overflow": null,
            "_model_module_version": "1.2.0",
            "_view_count": null,
            "flex_flow": null,
            "width": null,
            "min_width": null,
            "border": null,
            "align_items": null,
            "bottom": null,
            "_model_module": "@jupyter-widgets/base",
            "top": null,
            "grid_column": null,
            "overflow_y": null,
            "overflow_x": null,
            "grid_auto_flow": null,
            "grid_area": null,
            "grid_template_columns": null,
            "flex": null,
            "_model_name": "LayoutModel",
            "justify_items": null,
            "grid_row": null,
            "max_height": null,
            "align_content": null,
            "visibility": null,
            "align_self": null,
            "height": null,
            "min_height": null,
            "padding": null,
            "grid_auto_rows": null,
            "grid_gap": null,
            "max_width": null,
            "order": null,
            "_view_module_version": "1.2.0",
            "grid_template_areas": null,
            "object_position": null,
            "object_fit": null,
            "grid_auto_columns": null,
            "margin": null,
            "display": null,
            "left": null
          }
        },
        "2673551ae63b4b7f984528fe4e873748": {
          "model_module": "@jupyter-widgets/controls",
          "model_name": "DescriptionStyleModel",
          "state": {
            "_view_name": "StyleView",
            "_model_name": "DescriptionStyleModel",
            "description_width": "",
            "_view_module": "@jupyter-widgets/base",
            "_model_module_version": "1.5.0",
            "_view_count": null,
            "_view_module_version": "1.2.0",
            "_model_module": "@jupyter-widgets/controls"
          }
        },
        "7aed27e76ed844fa973a05225325de20": {
          "model_module": "@jupyter-widgets/base",
          "model_name": "LayoutModel",
          "state": {
            "_view_name": "LayoutView",
            "grid_template_rows": null,
            "right": null,
            "justify_content": null,
            "_view_module": "@jupyter-widgets/base",
            "overflow": null,
            "_model_module_version": "1.2.0",
            "_view_count": null,
            "flex_flow": null,
            "width": null,
            "min_width": null,
            "border": null,
            "align_items": null,
            "bottom": null,
            "_model_module": "@jupyter-widgets/base",
            "top": null,
            "grid_column": null,
            "overflow_y": null,
            "overflow_x": null,
            "grid_auto_flow": null,
            "grid_area": null,
            "grid_template_columns": null,
            "flex": null,
            "_model_name": "LayoutModel",
            "justify_items": null,
            "grid_row": null,
            "max_height": null,
            "align_content": null,
            "visibility": null,
            "align_self": null,
            "height": null,
            "min_height": null,
            "padding": null,
            "grid_auto_rows": null,
            "grid_gap": null,
            "max_width": null,
            "order": null,
            "_view_module_version": "1.2.0",
            "grid_template_areas": null,
            "object_position": null,
            "object_fit": null,
            "grid_auto_columns": null,
            "margin": null,
            "display": null,
            "left": null
          }
        },
        "ee5f6e753ebc4ea1ba733c06207704f9": {
          "model_module": "@jupyter-widgets/controls",
          "model_name": "HBoxModel",
          "state": {
            "_view_name": "HBoxView",
            "_dom_classes": [],
            "_model_name": "HBoxModel",
            "_view_module": "@jupyter-widgets/controls",
            "_model_module_version": "1.5.0",
            "_view_count": null,
            "_view_module_version": "1.5.0",
            "box_style": "",
            "layout": "IPY_MODEL_7001224c90a440b796221cfd96e12282",
            "_model_module": "@jupyter-widgets/controls",
            "children": [
              "IPY_MODEL_2b68547a176848e6b566c74387ecf389",
              "IPY_MODEL_70febf120bdf400a838ce737478a1054"
            ]
          }
        },
        "7001224c90a440b796221cfd96e12282": {
          "model_module": "@jupyter-widgets/base",
          "model_name": "LayoutModel",
          "state": {
            "_view_name": "LayoutView",
            "grid_template_rows": null,
            "right": null,
            "justify_content": null,
            "_view_module": "@jupyter-widgets/base",
            "overflow": null,
            "_model_module_version": "1.2.0",
            "_view_count": null,
            "flex_flow": null,
            "width": null,
            "min_width": null,
            "border": null,
            "align_items": null,
            "bottom": null,
            "_model_module": "@jupyter-widgets/base",
            "top": null,
            "grid_column": null,
            "overflow_y": null,
            "overflow_x": null,
            "grid_auto_flow": null,
            "grid_area": null,
            "grid_template_columns": null,
            "flex": null,
            "_model_name": "LayoutModel",
            "justify_items": null,
            "grid_row": null,
            "max_height": null,
            "align_content": null,
            "visibility": null,
            "align_self": null,
            "height": null,
            "min_height": null,
            "padding": null,
            "grid_auto_rows": null,
            "grid_gap": null,
            "max_width": null,
            "order": null,
            "_view_module_version": "1.2.0",
            "grid_template_areas": null,
            "object_position": null,
            "object_fit": null,
            "grid_auto_columns": null,
            "margin": null,
            "display": null,
            "left": null
          }
        },
        "2b68547a176848e6b566c74387ecf389": {
          "model_module": "@jupyter-widgets/controls",
          "model_name": "FloatProgressModel",
          "state": {
            "_view_name": "ProgressView",
            "style": "IPY_MODEL_98976faa3420411f9aa2a46e410c0adf",
            "_dom_classes": [],
            "description": "Downloading: 100%",
            "_model_name": "FloatProgressModel",
            "bar_style": "success",
            "max": 411,
            "_view_module": "@jupyter-widgets/controls",
            "_model_module_version": "1.5.0",
            "value": 411,
            "_view_count": null,
            "_view_module_version": "1.5.0",
            "orientation": "horizontal",
            "min": 0,
            "description_tooltip": null,
            "_model_module": "@jupyter-widgets/controls",
            "layout": "IPY_MODEL_52f8dab752204e7fa7620e3881d0d2cd"
          }
        },
        "70febf120bdf400a838ce737478a1054": {
          "model_module": "@jupyter-widgets/controls",
          "model_name": "HTMLModel",
          "state": {
            "_view_name": "HTMLView",
            "style": "IPY_MODEL_111bf126be66468bb6fbe1d0b1688890",
            "_dom_classes": [],
            "description": "",
            "_model_name": "HTMLModel",
            "placeholder": "​",
            "_view_module": "@jupyter-widgets/controls",
            "_model_module_version": "1.5.0",
            "value": " 411/411 [00:00&lt;00:00, 447B/s]",
            "_view_count": null,
            "_view_module_version": "1.5.0",
            "description_tooltip": null,
            "_model_module": "@jupyter-widgets/controls",
            "layout": "IPY_MODEL_985b497ad9fb4c4cad0dc72eb1e44320"
          }
        },
        "98976faa3420411f9aa2a46e410c0adf": {
          "model_module": "@jupyter-widgets/controls",
          "model_name": "ProgressStyleModel",
          "state": {
            "_view_name": "StyleView",
            "_model_name": "ProgressStyleModel",
            "description_width": "initial",
            "_view_module": "@jupyter-widgets/base",
            "_model_module_version": "1.5.0",
            "_view_count": null,
            "_view_module_version": "1.2.0",
            "bar_color": null,
            "_model_module": "@jupyter-widgets/controls"
          }
        },
        "52f8dab752204e7fa7620e3881d0d2cd": {
          "model_module": "@jupyter-widgets/base",
          "model_name": "LayoutModel",
          "state": {
            "_view_name": "LayoutView",
            "grid_template_rows": null,
            "right": null,
            "justify_content": null,
            "_view_module": "@jupyter-widgets/base",
            "overflow": null,
            "_model_module_version": "1.2.0",
            "_view_count": null,
            "flex_flow": null,
            "width": null,
            "min_width": null,
            "border": null,
            "align_items": null,
            "bottom": null,
            "_model_module": "@jupyter-widgets/base",
            "top": null,
            "grid_column": null,
            "overflow_y": null,
            "overflow_x": null,
            "grid_auto_flow": null,
            "grid_area": null,
            "grid_template_columns": null,
            "flex": null,
            "_model_name": "LayoutModel",
            "justify_items": null,
            "grid_row": null,
            "max_height": null,
            "align_content": null,
            "visibility": null,
            "align_self": null,
            "height": null,
            "min_height": null,
            "padding": null,
            "grid_auto_rows": null,
            "grid_gap": null,
            "max_width": null,
            "order": null,
            "_view_module_version": "1.2.0",
            "grid_template_areas": null,
            "object_position": null,
            "object_fit": null,
            "grid_auto_columns": null,
            "margin": null,
            "display": null,
            "left": null
          }
        },
        "111bf126be66468bb6fbe1d0b1688890": {
          "model_module": "@jupyter-widgets/controls",
          "model_name": "DescriptionStyleModel",
          "state": {
            "_view_name": "StyleView",
            "_model_name": "DescriptionStyleModel",
            "description_width": "",
            "_view_module": "@jupyter-widgets/base",
            "_model_module_version": "1.5.0",
            "_view_count": null,
            "_view_module_version": "1.2.0",
            "_model_module": "@jupyter-widgets/controls"
          }
        },
        "985b497ad9fb4c4cad0dc72eb1e44320": {
          "model_module": "@jupyter-widgets/base",
          "model_name": "LayoutModel",
          "state": {
            "_view_name": "LayoutView",
            "grid_template_rows": null,
            "right": null,
            "justify_content": null,
            "_view_module": "@jupyter-widgets/base",
            "overflow": null,
            "_model_module_version": "1.2.0",
            "_view_count": null,
            "flex_flow": null,
            "width": null,
            "min_width": null,
            "border": null,
            "align_items": null,
            "bottom": null,
            "_model_module": "@jupyter-widgets/base",
            "top": null,
            "grid_column": null,
            "overflow_y": null,
            "overflow_x": null,
            "grid_auto_flow": null,
            "grid_area": null,
            "grid_template_columns": null,
            "flex": null,
            "_model_name": "LayoutModel",
            "justify_items": null,
            "grid_row": null,
            "max_height": null,
            "align_content": null,
            "visibility": null,
            "align_self": null,
            "height": null,
            "min_height": null,
            "padding": null,
            "grid_auto_rows": null,
            "grid_gap": null,
            "max_width": null,
            "order": null,
            "_view_module_version": "1.2.0",
            "grid_template_areas": null,
            "object_position": null,
            "object_fit": null,
            "grid_auto_columns": null,
            "margin": null,
            "display": null,
            "left": null
          }
        },
        "7d3e93b6f11146e2b4c9f0a2d7981434": {
          "model_module": "@jupyter-widgets/controls",
          "model_name": "HBoxModel",
          "state": {
            "_view_name": "HBoxView",
            "_dom_classes": [],
            "_model_name": "HBoxModel",
            "_view_module": "@jupyter-widgets/controls",
            "_model_module_version": "1.5.0",
            "_view_count": null,
            "_view_module_version": "1.5.0",
            "box_style": "",
            "layout": "IPY_MODEL_0e9adc7120d84c93b93a323cd5da297a",
            "_model_module": "@jupyter-widgets/controls",
            "children": [
              "IPY_MODEL_c6aaa3e1fb9f4a7c9ee1866c6ecd8560",
              "IPY_MODEL_0e34448e6db74c0c8faf226a1c2d9014"
            ]
          }
        },
        "0e9adc7120d84c93b93a323cd5da297a": {
          "model_module": "@jupyter-widgets/base",
          "model_name": "LayoutModel",
          "state": {
            "_view_name": "LayoutView",
            "grid_template_rows": null,
            "right": null,
            "justify_content": null,
            "_view_module": "@jupyter-widgets/base",
            "overflow": null,
            "_model_module_version": "1.2.0",
            "_view_count": null,
            "flex_flow": null,
            "width": null,
            "min_width": null,
            "border": null,
            "align_items": null,
            "bottom": null,
            "_model_module": "@jupyter-widgets/base",
            "top": null,
            "grid_column": null,
            "overflow_y": null,
            "overflow_x": null,
            "grid_auto_flow": null,
            "grid_area": null,
            "grid_template_columns": null,
            "flex": null,
            "_model_name": "LayoutModel",
            "justify_items": null,
            "grid_row": null,
            "max_height": null,
            "align_content": null,
            "visibility": null,
            "align_self": null,
            "height": null,
            "min_height": null,
            "padding": null,
            "grid_auto_rows": null,
            "grid_gap": null,
            "max_width": null,
            "order": null,
            "_view_module_version": "1.2.0",
            "grid_template_areas": null,
            "object_position": null,
            "object_fit": null,
            "grid_auto_columns": null,
            "margin": null,
            "display": null,
            "left": null
          }
        },
        "c6aaa3e1fb9f4a7c9ee1866c6ecd8560": {
          "model_module": "@jupyter-widgets/controls",
          "model_name": "FloatProgressModel",
          "state": {
            "_view_name": "ProgressView",
            "style": "IPY_MODEL_1034d040f4f64482932e9ef4a021a040",
            "_dom_classes": [],
            "description": "Downloading: 100%",
            "_model_name": "FloatProgressModel",
            "bar_style": "success",
            "max": 213450,
            "_view_module": "@jupyter-widgets/controls",
            "_model_module_version": "1.5.0",
            "value": 213450,
            "_view_count": null,
            "_view_module_version": "1.5.0",
            "orientation": "horizontal",
            "min": 0,
            "description_tooltip": null,
            "_model_module": "@jupyter-widgets/controls",
            "layout": "IPY_MODEL_6d921369099945dfbb83df641910bc32"
          }
        },
        "0e34448e6db74c0c8faf226a1c2d9014": {
          "model_module": "@jupyter-widgets/controls",
          "model_name": "HTMLModel",
          "state": {
            "_view_name": "HTMLView",
            "style": "IPY_MODEL_06afb6d92ec147f090451e1d5267b4f9",
            "_dom_classes": [],
            "description": "",
            "_model_name": "HTMLModel",
            "placeholder": "​",
            "_view_module": "@jupyter-widgets/controls",
            "_model_module_version": "1.5.0",
            "value": " 213k/213k [00:00&lt;00:00, 850kB/s]",
            "_view_count": null,
            "_view_module_version": "1.5.0",
            "description_tooltip": null,
            "_model_module": "@jupyter-widgets/controls",
            "layout": "IPY_MODEL_7aa88394cd7649e2ade9af0e330602d0"
          }
        },
        "1034d040f4f64482932e9ef4a021a040": {
          "model_module": "@jupyter-widgets/controls",
          "model_name": "ProgressStyleModel",
          "state": {
            "_view_name": "StyleView",
            "_model_name": "ProgressStyleModel",
            "description_width": "initial",
            "_view_module": "@jupyter-widgets/base",
            "_model_module_version": "1.5.0",
            "_view_count": null,
            "_view_module_version": "1.2.0",
            "bar_color": null,
            "_model_module": "@jupyter-widgets/controls"
          }
        },
        "6d921369099945dfbb83df641910bc32": {
          "model_module": "@jupyter-widgets/base",
          "model_name": "LayoutModel",
          "state": {
            "_view_name": "LayoutView",
            "grid_template_rows": null,
            "right": null,
            "justify_content": null,
            "_view_module": "@jupyter-widgets/base",
            "overflow": null,
            "_model_module_version": "1.2.0",
            "_view_count": null,
            "flex_flow": null,
            "width": null,
            "min_width": null,
            "border": null,
            "align_items": null,
            "bottom": null,
            "_model_module": "@jupyter-widgets/base",
            "top": null,
            "grid_column": null,
            "overflow_y": null,
            "overflow_x": null,
            "grid_auto_flow": null,
            "grid_area": null,
            "grid_template_columns": null,
            "flex": null,
            "_model_name": "LayoutModel",
            "justify_items": null,
            "grid_row": null,
            "max_height": null,
            "align_content": null,
            "visibility": null,
            "align_self": null,
            "height": null,
            "min_height": null,
            "padding": null,
            "grid_auto_rows": null,
            "grid_gap": null,
            "max_width": null,
            "order": null,
            "_view_module_version": "1.2.0",
            "grid_template_areas": null,
            "object_position": null,
            "object_fit": null,
            "grid_auto_columns": null,
            "margin": null,
            "display": null,
            "left": null
          }
        },
        "06afb6d92ec147f090451e1d5267b4f9": {
          "model_module": "@jupyter-widgets/controls",
          "model_name": "DescriptionStyleModel",
          "state": {
            "_view_name": "StyleView",
            "_model_name": "DescriptionStyleModel",
            "description_width": "",
            "_view_module": "@jupyter-widgets/base",
            "_model_module_version": "1.5.0",
            "_view_count": null,
            "_view_module_version": "1.2.0",
            "_model_module": "@jupyter-widgets/controls"
          }
        },
        "7aa88394cd7649e2ade9af0e330602d0": {
          "model_module": "@jupyter-widgets/base",
          "model_name": "LayoutModel",
          "state": {
            "_view_name": "LayoutView",
            "grid_template_rows": null,
            "right": null,
            "justify_content": null,
            "_view_module": "@jupyter-widgets/base",
            "overflow": null,
            "_model_module_version": "1.2.0",
            "_view_count": null,
            "flex_flow": null,
            "width": null,
            "min_width": null,
            "border": null,
            "align_items": null,
            "bottom": null,
            "_model_module": "@jupyter-widgets/base",
            "top": null,
            "grid_column": null,
            "overflow_y": null,
            "overflow_x": null,
            "grid_auto_flow": null,
            "grid_area": null,
            "grid_template_columns": null,
            "flex": null,
            "_model_name": "LayoutModel",
            "justify_items": null,
            "grid_row": null,
            "max_height": null,
            "align_content": null,
            "visibility": null,
            "align_self": null,
            "height": null,
            "min_height": null,
            "padding": null,
            "grid_auto_rows": null,
            "grid_gap": null,
            "max_width": null,
            "order": null,
            "_view_module_version": "1.2.0",
            "grid_template_areas": null,
            "object_position": null,
            "object_fit": null,
            "grid_auto_columns": null,
            "margin": null,
            "display": null,
            "left": null
          }
        },
        "0de73a5507c84f898d6b64a17b9d221c": {
          "model_module": "@jupyter-widgets/controls",
          "model_name": "HBoxModel",
          "state": {
            "_view_name": "HBoxView",
            "_dom_classes": [],
            "_model_name": "HBoxModel",
            "_view_module": "@jupyter-widgets/controls",
            "_model_module_version": "1.5.0",
            "_view_count": null,
            "_view_module_version": "1.5.0",
            "box_style": "",
            "layout": "IPY_MODEL_8a046d897e6f4f41ad4ce0905b44bc7a",
            "_model_module": "@jupyter-widgets/controls",
            "children": [
              "IPY_MODEL_481a5b35021d4c37976901ebfbfe991d",
              "IPY_MODEL_5fa422c815b549af91898499873d76cb"
            ]
          }
        },
        "8a046d897e6f4f41ad4ce0905b44bc7a": {
          "model_module": "@jupyter-widgets/base",
          "model_name": "LayoutModel",
          "state": {
            "_view_name": "LayoutView",
            "grid_template_rows": null,
            "right": null,
            "justify_content": null,
            "_view_module": "@jupyter-widgets/base",
            "overflow": null,
            "_model_module_version": "1.2.0",
            "_view_count": null,
            "flex_flow": null,
            "width": null,
            "min_width": null,
            "border": null,
            "align_items": null,
            "bottom": null,
            "_model_module": "@jupyter-widgets/base",
            "top": null,
            "grid_column": null,
            "overflow_y": null,
            "overflow_x": null,
            "grid_auto_flow": null,
            "grid_area": null,
            "grid_template_columns": null,
            "flex": null,
            "_model_name": "LayoutModel",
            "justify_items": null,
            "grid_row": null,
            "max_height": null,
            "align_content": null,
            "visibility": null,
            "align_self": null,
            "height": null,
            "min_height": null,
            "padding": null,
            "grid_auto_rows": null,
            "grid_gap": null,
            "max_width": null,
            "order": null,
            "_view_module_version": "1.2.0",
            "grid_template_areas": null,
            "object_position": null,
            "object_fit": null,
            "grid_auto_columns": null,
            "margin": null,
            "display": null,
            "left": null
          }
        },
        "481a5b35021d4c37976901ebfbfe991d": {
          "model_module": "@jupyter-widgets/controls",
          "model_name": "FloatProgressModel",
          "state": {
            "_view_name": "ProgressView",
            "style": "IPY_MODEL_9b7c2f8d97454d94b93aeec12e53a317",
            "_dom_classes": [],
            "description": "Downloading: 100%",
            "_model_name": "FloatProgressModel",
            "bar_style": "success",
            "max": 230,
            "_view_module": "@jupyter-widgets/controls",
            "_model_module_version": "1.5.0",
            "value": 230,
            "_view_count": null,
            "_view_module_version": "1.5.0",
            "orientation": "horizontal",
            "min": 0,
            "description_tooltip": null,
            "_model_module": "@jupyter-widgets/controls",
            "layout": "IPY_MODEL_2e679f18d7b74dc2a117298d2f0972c3"
          }
        },
        "5fa422c815b549af91898499873d76cb": {
          "model_module": "@jupyter-widgets/controls",
          "model_name": "HTMLModel",
          "state": {
            "_view_name": "HTMLView",
            "style": "IPY_MODEL_91602394b19e46bcbafe7e4731af0638",
            "_dom_classes": [],
            "description": "",
            "_model_name": "HTMLModel",
            "placeholder": "​",
            "_view_module": "@jupyter-widgets/controls",
            "_model_module_version": "1.5.0",
            "value": " 230/230 [00:04&lt;00:00, 55.0B/s]",
            "_view_count": null,
            "_view_module_version": "1.5.0",
            "description_tooltip": null,
            "_model_module": "@jupyter-widgets/controls",
            "layout": "IPY_MODEL_56dc93dcca7844e2a6628bdd5d5db371"
          }
        },
        "9b7c2f8d97454d94b93aeec12e53a317": {
          "model_module": "@jupyter-widgets/controls",
          "model_name": "ProgressStyleModel",
          "state": {
            "_view_name": "StyleView",
            "_model_name": "ProgressStyleModel",
            "description_width": "initial",
            "_view_module": "@jupyter-widgets/base",
            "_model_module_version": "1.5.0",
            "_view_count": null,
            "_view_module_version": "1.2.0",
            "bar_color": null,
            "_model_module": "@jupyter-widgets/controls"
          }
        },
        "2e679f18d7b74dc2a117298d2f0972c3": {
          "model_module": "@jupyter-widgets/base",
          "model_name": "LayoutModel",
          "state": {
            "_view_name": "LayoutView",
            "grid_template_rows": null,
            "right": null,
            "justify_content": null,
            "_view_module": "@jupyter-widgets/base",
            "overflow": null,
            "_model_module_version": "1.2.0",
            "_view_count": null,
            "flex_flow": null,
            "width": null,
            "min_width": null,
            "border": null,
            "align_items": null,
            "bottom": null,
            "_model_module": "@jupyter-widgets/base",
            "top": null,
            "grid_column": null,
            "overflow_y": null,
            "overflow_x": null,
            "grid_auto_flow": null,
            "grid_area": null,
            "grid_template_columns": null,
            "flex": null,
            "_model_name": "LayoutModel",
            "justify_items": null,
            "grid_row": null,
            "max_height": null,
            "align_content": null,
            "visibility": null,
            "align_self": null,
            "height": null,
            "min_height": null,
            "padding": null,
            "grid_auto_rows": null,
            "grid_gap": null,
            "max_width": null,
            "order": null,
            "_view_module_version": "1.2.0",
            "grid_template_areas": null,
            "object_position": null,
            "object_fit": null,
            "grid_auto_columns": null,
            "margin": null,
            "display": null,
            "left": null
          }
        },
        "91602394b19e46bcbafe7e4731af0638": {
          "model_module": "@jupyter-widgets/controls",
          "model_name": "DescriptionStyleModel",
          "state": {
            "_view_name": "StyleView",
            "_model_name": "DescriptionStyleModel",
            "description_width": "",
            "_view_module": "@jupyter-widgets/base",
            "_model_module_version": "1.5.0",
            "_view_count": null,
            "_view_module_version": "1.2.0",
            "_model_module": "@jupyter-widgets/controls"
          }
        },
        "56dc93dcca7844e2a6628bdd5d5db371": {
          "model_module": "@jupyter-widgets/base",
          "model_name": "LayoutModel",
          "state": {
            "_view_name": "LayoutView",
            "grid_template_rows": null,
            "right": null,
            "justify_content": null,
            "_view_module": "@jupyter-widgets/base",
            "overflow": null,
            "_model_module_version": "1.2.0",
            "_view_count": null,
            "flex_flow": null,
            "width": null,
            "min_width": null,
            "border": null,
            "align_items": null,
            "bottom": null,
            "_model_module": "@jupyter-widgets/base",
            "top": null,
            "grid_column": null,
            "overflow_y": null,
            "overflow_x": null,
            "grid_auto_flow": null,
            "grid_area": null,
            "grid_template_columns": null,
            "flex": null,
            "_model_name": "LayoutModel",
            "justify_items": null,
            "grid_row": null,
            "max_height": null,
            "align_content": null,
            "visibility": null,
            "align_self": null,
            "height": null,
            "min_height": null,
            "padding": null,
            "grid_auto_rows": null,
            "grid_gap": null,
            "max_width": null,
            "order": null,
            "_view_module_version": "1.2.0",
            "grid_template_areas": null,
            "object_position": null,
            "object_fit": null,
            "grid_auto_columns": null,
            "margin": null,
            "display": null,
            "left": null
          }
        },
        "fb070c2c2d57400882ffa39033289a4c": {
          "model_module": "@jupyter-widgets/controls",
          "model_name": "HBoxModel",
          "state": {
            "_view_name": "HBoxView",
            "_dom_classes": [],
            "_model_name": "HBoxModel",
            "_view_module": "@jupyter-widgets/controls",
            "_model_module_version": "1.5.0",
            "_view_count": null,
            "_view_module_version": "1.5.0",
            "box_style": "",
            "layout": "IPY_MODEL_085bff34eaf84f8e8be77882f03ede91",
            "_model_module": "@jupyter-widgets/controls",
            "children": [
              "IPY_MODEL_21da3b441cf24431b7fd69faa275095d",
              "IPY_MODEL_f206b205897f436bb8f0458e3299a957"
            ]
          }
        },
        "085bff34eaf84f8e8be77882f03ede91": {
          "model_module": "@jupyter-widgets/base",
          "model_name": "LayoutModel",
          "state": {
            "_view_name": "LayoutView",
            "grid_template_rows": null,
            "right": null,
            "justify_content": null,
            "_view_module": "@jupyter-widgets/base",
            "overflow": null,
            "_model_module_version": "1.2.0",
            "_view_count": null,
            "flex_flow": null,
            "width": null,
            "min_width": null,
            "border": null,
            "align_items": null,
            "bottom": null,
            "_model_module": "@jupyter-widgets/base",
            "top": null,
            "grid_column": null,
            "overflow_y": null,
            "overflow_x": null,
            "grid_auto_flow": null,
            "grid_area": null,
            "grid_template_columns": null,
            "flex": null,
            "_model_name": "LayoutModel",
            "justify_items": null,
            "grid_row": null,
            "max_height": null,
            "align_content": null,
            "visibility": null,
            "align_self": null,
            "height": null,
            "min_height": null,
            "padding": null,
            "grid_auto_rows": null,
            "grid_gap": null,
            "max_width": null,
            "order": null,
            "_view_module_version": "1.2.0",
            "grid_template_areas": null,
            "object_position": null,
            "object_fit": null,
            "grid_auto_columns": null,
            "margin": null,
            "display": null,
            "left": null
          }
        },
        "21da3b441cf24431b7fd69faa275095d": {
          "model_module": "@jupyter-widgets/controls",
          "model_name": "FloatProgressModel",
          "state": {
            "_view_name": "ProgressView",
            "style": "IPY_MODEL_b91308bc3f014dd1add11382b74eb524",
            "_dom_classes": [],
            "description": "Downloading: 100%",
            "_model_name": "FloatProgressModel",
            "bar_style": "success",
            "max": 263273408,
            "_view_module": "@jupyter-widgets/controls",
            "_model_module_version": "1.5.0",
            "value": 263273408,
            "_view_count": null,
            "_view_module_version": "1.5.0",
            "orientation": "horizontal",
            "min": 0,
            "description_tooltip": null,
            "_model_module": "@jupyter-widgets/controls",
            "layout": "IPY_MODEL_1436e9c6937f4763811e22af7ceccc7d"
          }
        },
        "f206b205897f436bb8f0458e3299a957": {
          "model_module": "@jupyter-widgets/controls",
          "model_name": "HTMLModel",
          "state": {
            "_view_name": "HTMLView",
            "style": "IPY_MODEL_9558c80354dc4d0b98ddbda2a32a5e31",
            "_dom_classes": [],
            "description": "",
            "_model_name": "HTMLModel",
            "placeholder": "​",
            "_view_module": "@jupyter-widgets/controls",
            "_model_module_version": "1.5.0",
            "value": " 263M/263M [00:03&lt;00:00, 71.3MB/s]",
            "_view_count": null,
            "_view_module_version": "1.5.0",
            "description_tooltip": null,
            "_model_module": "@jupyter-widgets/controls",
            "layout": "IPY_MODEL_8f96705d47df4aa295645949ee3898ac"
          }
        },
        "b91308bc3f014dd1add11382b74eb524": {
          "model_module": "@jupyter-widgets/controls",
          "model_name": "ProgressStyleModel",
          "state": {
            "_view_name": "StyleView",
            "_model_name": "ProgressStyleModel",
            "description_width": "initial",
            "_view_module": "@jupyter-widgets/base",
            "_model_module_version": "1.5.0",
            "_view_count": null,
            "_view_module_version": "1.2.0",
            "bar_color": null,
            "_model_module": "@jupyter-widgets/controls"
          }
        },
        "1436e9c6937f4763811e22af7ceccc7d": {
          "model_module": "@jupyter-widgets/base",
          "model_name": "LayoutModel",
          "state": {
            "_view_name": "LayoutView",
            "grid_template_rows": null,
            "right": null,
            "justify_content": null,
            "_view_module": "@jupyter-widgets/base",
            "overflow": null,
            "_model_module_version": "1.2.0",
            "_view_count": null,
            "flex_flow": null,
            "width": null,
            "min_width": null,
            "border": null,
            "align_items": null,
            "bottom": null,
            "_model_module": "@jupyter-widgets/base",
            "top": null,
            "grid_column": null,
            "overflow_y": null,
            "overflow_x": null,
            "grid_auto_flow": null,
            "grid_area": null,
            "grid_template_columns": null,
            "flex": null,
            "_model_name": "LayoutModel",
            "justify_items": null,
            "grid_row": null,
            "max_height": null,
            "align_content": null,
            "visibility": null,
            "align_self": null,
            "height": null,
            "min_height": null,
            "padding": null,
            "grid_auto_rows": null,
            "grid_gap": null,
            "max_width": null,
            "order": null,
            "_view_module_version": "1.2.0",
            "grid_template_areas": null,
            "object_position": null,
            "object_fit": null,
            "grid_auto_columns": null,
            "margin": null,
            "display": null,
            "left": null
          }
        },
        "9558c80354dc4d0b98ddbda2a32a5e31": {
          "model_module": "@jupyter-widgets/controls",
          "model_name": "DescriptionStyleModel",
          "state": {
            "_view_name": "StyleView",
            "_model_name": "DescriptionStyleModel",
            "description_width": "",
            "_view_module": "@jupyter-widgets/base",
            "_model_module_version": "1.5.0",
            "_view_count": null,
            "_view_module_version": "1.2.0",
            "_model_module": "@jupyter-widgets/controls"
          }
        },
        "8f96705d47df4aa295645949ee3898ac": {
          "model_module": "@jupyter-widgets/base",
          "model_name": "LayoutModel",
          "state": {
            "_view_name": "LayoutView",
            "grid_template_rows": null,
            "right": null,
            "justify_content": null,
            "_view_module": "@jupyter-widgets/base",
            "overflow": null,
            "_model_module_version": "1.2.0",
            "_view_count": null,
            "flex_flow": null,
            "width": null,
            "min_width": null,
            "border": null,
            "align_items": null,
            "bottom": null,
            "_model_module": "@jupyter-widgets/base",
            "top": null,
            "grid_column": null,
            "overflow_y": null,
            "overflow_x": null,
            "grid_auto_flow": null,
            "grid_area": null,
            "grid_template_columns": null,
            "flex": null,
            "_model_name": "LayoutModel",
            "justify_items": null,
            "grid_row": null,
            "max_height": null,
            "align_content": null,
            "visibility": null,
            "align_self": null,
            "height": null,
            "min_height": null,
            "padding": null,
            "grid_auto_rows": null,
            "grid_gap": null,
            "max_width": null,
            "order": null,
            "_view_module_version": "1.2.0",
            "grid_template_areas": null,
            "object_position": null,
            "object_fit": null,
            "grid_auto_columns": null,
            "margin": null,
            "display": null,
            "left": null
          }
        },
        "1a5b19553c7f4e8fa2a6590b1d5fd15f": {
          "model_module": "@jupyter-widgets/controls",
          "model_name": "HBoxModel",
          "state": {
            "_view_name": "HBoxView",
            "_dom_classes": [],
            "_model_name": "HBoxModel",
            "_view_module": "@jupyter-widgets/controls",
            "_model_module_version": "1.5.0",
            "_view_count": null,
            "_view_module_version": "1.5.0",
            "box_style": "",
            "layout": "IPY_MODEL_3f14e754d5e84b2d8e2e02dd18a6e2e4",
            "_model_module": "@jupyter-widgets/controls",
            "children": [
              "IPY_MODEL_2472b64dedf44c9a9e951449c6d0c570",
              "IPY_MODEL_425ec9a1e8bc4a9d8e3cb8d354e03604"
            ]
          }
        },
        "3f14e754d5e84b2d8e2e02dd18a6e2e4": {
          "model_module": "@jupyter-widgets/base",
          "model_name": "LayoutModel",
          "state": {
            "_view_name": "LayoutView",
            "grid_template_rows": null,
            "right": null,
            "justify_content": null,
            "_view_module": "@jupyter-widgets/base",
            "overflow": null,
            "_model_module_version": "1.2.0",
            "_view_count": null,
            "flex_flow": null,
            "width": null,
            "min_width": null,
            "border": null,
            "align_items": null,
            "bottom": null,
            "_model_module": "@jupyter-widgets/base",
            "top": null,
            "grid_column": null,
            "overflow_y": null,
            "overflow_x": null,
            "grid_auto_flow": null,
            "grid_area": null,
            "grid_template_columns": null,
            "flex": null,
            "_model_name": "LayoutModel",
            "justify_items": null,
            "grid_row": null,
            "max_height": null,
            "align_content": null,
            "visibility": null,
            "align_self": null,
            "height": null,
            "min_height": null,
            "padding": null,
            "grid_auto_rows": null,
            "grid_gap": null,
            "max_width": null,
            "order": null,
            "_view_module_version": "1.2.0",
            "grid_template_areas": null,
            "object_position": null,
            "object_fit": null,
            "grid_auto_columns": null,
            "margin": null,
            "display": null,
            "left": null
          }
        },
        "2472b64dedf44c9a9e951449c6d0c570": {
          "model_module": "@jupyter-widgets/controls",
          "model_name": "FloatProgressModel",
          "state": {
            "_view_name": "ProgressView",
            "style": "IPY_MODEL_0c75c022f4a74600be482ff5bf5d8e5d",
            "_dom_classes": [],
            "description": "Downloading: 100%",
            "_model_name": "FloatProgressModel",
            "bar_style": "success",
            "max": 1621,
            "_view_module": "@jupyter-widgets/controls",
            "_model_module_version": "1.5.0",
            "value": 1621,
            "_view_count": null,
            "_view_module_version": "1.5.0",
            "orientation": "horizontal",
            "min": 0,
            "description_tooltip": null,
            "_model_module": "@jupyter-widgets/controls",
            "layout": "IPY_MODEL_64788cd57d1548cb9848e973eb0e7894"
          }
        },
        "425ec9a1e8bc4a9d8e3cb8d354e03604": {
          "model_module": "@jupyter-widgets/controls",
          "model_name": "HTMLModel",
          "state": {
            "_view_name": "HTMLView",
            "style": "IPY_MODEL_1a9c8bb9dfb34ac998f48105f73ea1f0",
            "_dom_classes": [],
            "description": "",
            "_model_name": "HTMLModel",
            "placeholder": "​",
            "_view_module": "@jupyter-widgets/controls",
            "_model_module_version": "1.5.0",
            "value": " 1.62k/1.62k [00:03&lt;00:00, 440B/s]",
            "_view_count": null,
            "_view_module_version": "1.5.0",
            "description_tooltip": null,
            "_model_module": "@jupyter-widgets/controls",
            "layout": "IPY_MODEL_46882153c60a4a9fa86ea48d68c7bf2b"
          }
        },
        "0c75c022f4a74600be482ff5bf5d8e5d": {
          "model_module": "@jupyter-widgets/controls",
          "model_name": "ProgressStyleModel",
          "state": {
            "_view_name": "StyleView",
            "_model_name": "ProgressStyleModel",
            "description_width": "initial",
            "_view_module": "@jupyter-widgets/base",
            "_model_module_version": "1.5.0",
            "_view_count": null,
            "_view_module_version": "1.2.0",
            "bar_color": null,
            "_model_module": "@jupyter-widgets/controls"
          }
        },
        "64788cd57d1548cb9848e973eb0e7894": {
          "model_module": "@jupyter-widgets/base",
          "model_name": "LayoutModel",
          "state": {
            "_view_name": "LayoutView",
            "grid_template_rows": null,
            "right": null,
            "justify_content": null,
            "_view_module": "@jupyter-widgets/base",
            "overflow": null,
            "_model_module_version": "1.2.0",
            "_view_count": null,
            "flex_flow": null,
            "width": null,
            "min_width": null,
            "border": null,
            "align_items": null,
            "bottom": null,
            "_model_module": "@jupyter-widgets/base",
            "top": null,
            "grid_column": null,
            "overflow_y": null,
            "overflow_x": null,
            "grid_auto_flow": null,
            "grid_area": null,
            "grid_template_columns": null,
            "flex": null,
            "_model_name": "LayoutModel",
            "justify_items": null,
            "grid_row": null,
            "max_height": null,
            "align_content": null,
            "visibility": null,
            "align_self": null,
            "height": null,
            "min_height": null,
            "padding": null,
            "grid_auto_rows": null,
            "grid_gap": null,
            "max_width": null,
            "order": null,
            "_view_module_version": "1.2.0",
            "grid_template_areas": null,
            "object_position": null,
            "object_fit": null,
            "grid_auto_columns": null,
            "margin": null,
            "display": null,
            "left": null
          }
        },
        "1a9c8bb9dfb34ac998f48105f73ea1f0": {
          "model_module": "@jupyter-widgets/controls",
          "model_name": "DescriptionStyleModel",
          "state": {
            "_view_name": "StyleView",
            "_model_name": "DescriptionStyleModel",
            "description_width": "",
            "_view_module": "@jupyter-widgets/base",
            "_model_module_version": "1.5.0",
            "_view_count": null,
            "_view_module_version": "1.2.0",
            "_model_module": "@jupyter-widgets/controls"
          }
        },
        "46882153c60a4a9fa86ea48d68c7bf2b": {
          "model_module": "@jupyter-widgets/base",
          "model_name": "LayoutModel",
          "state": {
            "_view_name": "LayoutView",
            "grid_template_rows": null,
            "right": null,
            "justify_content": null,
            "_view_module": "@jupyter-widgets/base",
            "overflow": null,
            "_model_module_version": "1.2.0",
            "_view_count": null,
            "flex_flow": null,
            "width": null,
            "min_width": null,
            "border": null,
            "align_items": null,
            "bottom": null,
            "_model_module": "@jupyter-widgets/base",
            "top": null,
            "grid_column": null,
            "overflow_y": null,
            "overflow_x": null,
            "grid_auto_flow": null,
            "grid_area": null,
            "grid_template_columns": null,
            "flex": null,
            "_model_name": "LayoutModel",
            "justify_items": null,
            "grid_row": null,
            "max_height": null,
            "align_content": null,
            "visibility": null,
            "align_self": null,
            "height": null,
            "min_height": null,
            "padding": null,
            "grid_auto_rows": null,
            "grid_gap": null,
            "max_width": null,
            "order": null,
            "_view_module_version": "1.2.0",
            "grid_template_areas": null,
            "object_position": null,
            "object_fit": null,
            "grid_auto_columns": null,
            "margin": null,
            "display": null,
            "left": null
          }
        },
        "13397ec8663749d7b7e3c6f07c430f1e": {
          "model_module": "@jupyter-widgets/controls",
          "model_name": "HBoxModel",
          "state": {
            "_view_name": "HBoxView",
            "_dom_classes": [],
            "_model_name": "HBoxModel",
            "_view_module": "@jupyter-widgets/controls",
            "_model_module_version": "1.5.0",
            "_view_count": null,
            "_view_module_version": "1.5.0",
            "box_style": "",
            "layout": "IPY_MODEL_d286346a048d45a4b76ef97feff3609e",
            "_model_module": "@jupyter-widgets/controls",
            "children": [
              "IPY_MODEL_da9a7e8418db463cbfc42b141f06288f",
              "IPY_MODEL_39e0cfcf2aec4caa9f6e0acbee5edd17"
            ]
          }
        },
        "d286346a048d45a4b76ef97feff3609e": {
          "model_module": "@jupyter-widgets/base",
          "model_name": "LayoutModel",
          "state": {
            "_view_name": "LayoutView",
            "grid_template_rows": null,
            "right": null,
            "justify_content": null,
            "_view_module": "@jupyter-widgets/base",
            "overflow": null,
            "_model_module_version": "1.2.0",
            "_view_count": null,
            "flex_flow": null,
            "width": null,
            "min_width": null,
            "border": null,
            "align_items": null,
            "bottom": null,
            "_model_module": "@jupyter-widgets/base",
            "top": null,
            "grid_column": null,
            "overflow_y": null,
            "overflow_x": null,
            "grid_auto_flow": null,
            "grid_area": null,
            "grid_template_columns": null,
            "flex": null,
            "_model_name": "LayoutModel",
            "justify_items": null,
            "grid_row": null,
            "max_height": null,
            "align_content": null,
            "visibility": null,
            "align_self": null,
            "height": null,
            "min_height": null,
            "padding": null,
            "grid_auto_rows": null,
            "grid_gap": null,
            "max_width": null,
            "order": null,
            "_view_module_version": "1.2.0",
            "grid_template_areas": null,
            "object_position": null,
            "object_fit": null,
            "grid_auto_columns": null,
            "margin": null,
            "display": null,
            "left": null
          }
        },
        "da9a7e8418db463cbfc42b141f06288f": {
          "model_module": "@jupyter-widgets/controls",
          "model_name": "FloatProgressModel",
          "state": {
            "_view_name": "ProgressView",
            "style": "IPY_MODEL_985ca0f4ab9b4457b922b39f43e25ad2",
            "_dom_classes": [],
            "description": "Downloading: 100%",
            "_model_name": "FloatProgressModel",
            "bar_style": "success",
            "max": 898822,
            "_view_module": "@jupyter-widgets/controls",
            "_model_module_version": "1.5.0",
            "value": 898822,
            "_view_count": null,
            "_view_module_version": "1.5.0",
            "orientation": "horizontal",
            "min": 0,
            "description_tooltip": null,
            "_model_module": "@jupyter-widgets/controls",
            "layout": "IPY_MODEL_ad234f0c4a564bd5b3cf34ef6bd53ee0"
          }
        },
        "39e0cfcf2aec4caa9f6e0acbee5edd17": {
          "model_module": "@jupyter-widgets/controls",
          "model_name": "HTMLModel",
          "state": {
            "_view_name": "HTMLView",
            "style": "IPY_MODEL_92059c1f632e4142a36eef9403c756c8",
            "_dom_classes": [],
            "description": "",
            "_model_name": "HTMLModel",
            "placeholder": "​",
            "_view_module": "@jupyter-widgets/controls",
            "_model_module_version": "1.5.0",
            "value": " 899k/899k [00:02&lt;00:00, 351kB/s]",
            "_view_count": null,
            "_view_module_version": "1.5.0",
            "description_tooltip": null,
            "_model_module": "@jupyter-widgets/controls",
            "layout": "IPY_MODEL_f3f54e48f8d54502a88c1d1d5ed27ba2"
          }
        },
        "985ca0f4ab9b4457b922b39f43e25ad2": {
          "model_module": "@jupyter-widgets/controls",
          "model_name": "ProgressStyleModel",
          "state": {
            "_view_name": "StyleView",
            "_model_name": "ProgressStyleModel",
            "description_width": "initial",
            "_view_module": "@jupyter-widgets/base",
            "_model_module_version": "1.5.0",
            "_view_count": null,
            "_view_module_version": "1.2.0",
            "bar_color": null,
            "_model_module": "@jupyter-widgets/controls"
          }
        },
        "ad234f0c4a564bd5b3cf34ef6bd53ee0": {
          "model_module": "@jupyter-widgets/base",
          "model_name": "LayoutModel",
          "state": {
            "_view_name": "LayoutView",
            "grid_template_rows": null,
            "right": null,
            "justify_content": null,
            "_view_module": "@jupyter-widgets/base",
            "overflow": null,
            "_model_module_version": "1.2.0",
            "_view_count": null,
            "flex_flow": null,
            "width": null,
            "min_width": null,
            "border": null,
            "align_items": null,
            "bottom": null,
            "_model_module": "@jupyter-widgets/base",
            "top": null,
            "grid_column": null,
            "overflow_y": null,
            "overflow_x": null,
            "grid_auto_flow": null,
            "grid_area": null,
            "grid_template_columns": null,
            "flex": null,
            "_model_name": "LayoutModel",
            "justify_items": null,
            "grid_row": null,
            "max_height": null,
            "align_content": null,
            "visibility": null,
            "align_self": null,
            "height": null,
            "min_height": null,
            "padding": null,
            "grid_auto_rows": null,
            "grid_gap": null,
            "max_width": null,
            "order": null,
            "_view_module_version": "1.2.0",
            "grid_template_areas": null,
            "object_position": null,
            "object_fit": null,
            "grid_auto_columns": null,
            "margin": null,
            "display": null,
            "left": null
          }
        },
        "92059c1f632e4142a36eef9403c756c8": {
          "model_module": "@jupyter-widgets/controls",
          "model_name": "DescriptionStyleModel",
          "state": {
            "_view_name": "StyleView",
            "_model_name": "DescriptionStyleModel",
            "description_width": "",
            "_view_module": "@jupyter-widgets/base",
            "_model_module_version": "1.5.0",
            "_view_count": null,
            "_view_module_version": "1.2.0",
            "_model_module": "@jupyter-widgets/controls"
          }
        },
        "f3f54e48f8d54502a88c1d1d5ed27ba2": {
          "model_module": "@jupyter-widgets/base",
          "model_name": "LayoutModel",
          "state": {
            "_view_name": "LayoutView",
            "grid_template_rows": null,
            "right": null,
            "justify_content": null,
            "_view_module": "@jupyter-widgets/base",
            "overflow": null,
            "_model_module_version": "1.2.0",
            "_view_count": null,
            "flex_flow": null,
            "width": null,
            "min_width": null,
            "border": null,
            "align_items": null,
            "bottom": null,
            "_model_module": "@jupyter-widgets/base",
            "top": null,
            "grid_column": null,
            "overflow_y": null,
            "overflow_x": null,
            "grid_auto_flow": null,
            "grid_area": null,
            "grid_template_columns": null,
            "flex": null,
            "_model_name": "LayoutModel",
            "justify_items": null,
            "grid_row": null,
            "max_height": null,
            "align_content": null,
            "visibility": null,
            "align_self": null,
            "height": null,
            "min_height": null,
            "padding": null,
            "grid_auto_rows": null,
            "grid_gap": null,
            "max_width": null,
            "order": null,
            "_view_module_version": "1.2.0",
            "grid_template_areas": null,
            "object_position": null,
            "object_fit": null,
            "grid_auto_columns": null,
            "margin": null,
            "display": null,
            "left": null
          }
        },
        "00336863c5fa4e548ee9689913dc4586": {
          "model_module": "@jupyter-widgets/controls",
          "model_name": "HBoxModel",
          "state": {
            "_view_name": "HBoxView",
            "_dom_classes": [],
            "_model_name": "HBoxModel",
            "_view_module": "@jupyter-widgets/controls",
            "_model_module_version": "1.5.0",
            "_view_count": null,
            "_view_module_version": "1.5.0",
            "box_style": "",
            "layout": "IPY_MODEL_3065da5fb5d94a12975298e706e2fd27",
            "_model_module": "@jupyter-widgets/controls",
            "children": [
              "IPY_MODEL_837d4ff16c6c43abb7d47cae87ad09fb",
              "IPY_MODEL_dee0314d6814487b869d947189d2410e"
            ]
          }
        },
        "3065da5fb5d94a12975298e706e2fd27": {
          "model_module": "@jupyter-widgets/base",
          "model_name": "LayoutModel",
          "state": {
            "_view_name": "LayoutView",
            "grid_template_rows": null,
            "right": null,
            "justify_content": null,
            "_view_module": "@jupyter-widgets/base",
            "overflow": null,
            "_model_module_version": "1.2.0",
            "_view_count": null,
            "flex_flow": null,
            "width": null,
            "min_width": null,
            "border": null,
            "align_items": null,
            "bottom": null,
            "_model_module": "@jupyter-widgets/base",
            "top": null,
            "grid_column": null,
            "overflow_y": null,
            "overflow_x": null,
            "grid_auto_flow": null,
            "grid_area": null,
            "grid_template_columns": null,
            "flex": null,
            "_model_name": "LayoutModel",
            "justify_items": null,
            "grid_row": null,
            "max_height": null,
            "align_content": null,
            "visibility": null,
            "align_self": null,
            "height": null,
            "min_height": null,
            "padding": null,
            "grid_auto_rows": null,
            "grid_gap": null,
            "max_width": null,
            "order": null,
            "_view_module_version": "1.2.0",
            "grid_template_areas": null,
            "object_position": null,
            "object_fit": null,
            "grid_auto_columns": null,
            "margin": null,
            "display": null,
            "left": null
          }
        },
        "837d4ff16c6c43abb7d47cae87ad09fb": {
          "model_module": "@jupyter-widgets/controls",
          "model_name": "FloatProgressModel",
          "state": {
            "_view_name": "ProgressView",
            "style": "IPY_MODEL_0f487969d6be4c1e82d23cacf47d3855",
            "_dom_classes": [],
            "description": "Downloading: 100%",
            "_model_name": "FloatProgressModel",
            "bar_style": "success",
            "max": 456318,
            "_view_module": "@jupyter-widgets/controls",
            "_model_module_version": "1.5.0",
            "value": 456318,
            "_view_count": null,
            "_view_module_version": "1.5.0",
            "orientation": "horizontal",
            "min": 0,
            "description_tooltip": null,
            "_model_module": "@jupyter-widgets/controls",
            "layout": "IPY_MODEL_7c9b5119c3734bb49e4b3614b1295357"
          }
        },
        "dee0314d6814487b869d947189d2410e": {
          "model_module": "@jupyter-widgets/controls",
          "model_name": "HTMLModel",
          "state": {
            "_view_name": "HTMLView",
            "style": "IPY_MODEL_08f6fa688c9e4d1d8a028ee79e2f448f",
            "_dom_classes": [],
            "description": "",
            "_model_name": "HTMLModel",
            "placeholder": "​",
            "_view_module": "@jupyter-widgets/controls",
            "_model_module_version": "1.5.0",
            "value": " 456k/456k [00:01&lt;00:00, 295kB/s]",
            "_view_count": null,
            "_view_module_version": "1.5.0",
            "description_tooltip": null,
            "_model_module": "@jupyter-widgets/controls",
            "layout": "IPY_MODEL_0f2ca31359a14431bfdd33fb61dca5b7"
          }
        },
        "0f487969d6be4c1e82d23cacf47d3855": {
          "model_module": "@jupyter-widgets/controls",
          "model_name": "ProgressStyleModel",
          "state": {
            "_view_name": "StyleView",
            "_model_name": "ProgressStyleModel",
            "description_width": "initial",
            "_view_module": "@jupyter-widgets/base",
            "_model_module_version": "1.5.0",
            "_view_count": null,
            "_view_module_version": "1.2.0",
            "bar_color": null,
            "_model_module": "@jupyter-widgets/controls"
          }
        },
        "7c9b5119c3734bb49e4b3614b1295357": {
          "model_module": "@jupyter-widgets/base",
          "model_name": "LayoutModel",
          "state": {
            "_view_name": "LayoutView",
            "grid_template_rows": null,
            "right": null,
            "justify_content": null,
            "_view_module": "@jupyter-widgets/base",
            "overflow": null,
            "_model_module_version": "1.2.0",
            "_view_count": null,
            "flex_flow": null,
            "width": null,
            "min_width": null,
            "border": null,
            "align_items": null,
            "bottom": null,
            "_model_module": "@jupyter-widgets/base",
            "top": null,
            "grid_column": null,
            "overflow_y": null,
            "overflow_x": null,
            "grid_auto_flow": null,
            "grid_area": null,
            "grid_template_columns": null,
            "flex": null,
            "_model_name": "LayoutModel",
            "justify_items": null,
            "grid_row": null,
            "max_height": null,
            "align_content": null,
            "visibility": null,
            "align_self": null,
            "height": null,
            "min_height": null,
            "padding": null,
            "grid_auto_rows": null,
            "grid_gap": null,
            "max_width": null,
            "order": null,
            "_view_module_version": "1.2.0",
            "grid_template_areas": null,
            "object_position": null,
            "object_fit": null,
            "grid_auto_columns": null,
            "margin": null,
            "display": null,
            "left": null
          }
        },
        "08f6fa688c9e4d1d8a028ee79e2f448f": {
          "model_module": "@jupyter-widgets/controls",
          "model_name": "DescriptionStyleModel",
          "state": {
            "_view_name": "StyleView",
            "_model_name": "DescriptionStyleModel",
            "description_width": "",
            "_view_module": "@jupyter-widgets/base",
            "_model_module_version": "1.5.0",
            "_view_count": null,
            "_view_module_version": "1.2.0",
            "_model_module": "@jupyter-widgets/controls"
          }
        },
        "0f2ca31359a14431bfdd33fb61dca5b7": {
          "model_module": "@jupyter-widgets/base",
          "model_name": "LayoutModel",
          "state": {
            "_view_name": "LayoutView",
            "grid_template_rows": null,
            "right": null,
            "justify_content": null,
            "_view_module": "@jupyter-widgets/base",
            "overflow": null,
            "_model_module_version": "1.2.0",
            "_view_count": null,
            "flex_flow": null,
            "width": null,
            "min_width": null,
            "border": null,
            "align_items": null,
            "bottom": null,
            "_model_module": "@jupyter-widgets/base",
            "top": null,
            "grid_column": null,
            "overflow_y": null,
            "overflow_x": null,
            "grid_auto_flow": null,
            "grid_area": null,
            "grid_template_columns": null,
            "flex": null,
            "_model_name": "LayoutModel",
            "justify_items": null,
            "grid_row": null,
            "max_height": null,
            "align_content": null,
            "visibility": null,
            "align_self": null,
            "height": null,
            "min_height": null,
            "padding": null,
            "grid_auto_rows": null,
            "grid_gap": null,
            "max_width": null,
            "order": null,
            "_view_module_version": "1.2.0",
            "grid_template_areas": null,
            "object_position": null,
            "object_fit": null,
            "grid_auto_columns": null,
            "margin": null,
            "display": null,
            "left": null
          }
        },
        "ed0ca5a15d894059bf7a33035576d41b": {
          "model_module": "@jupyter-widgets/controls",
          "model_name": "HBoxModel",
          "state": {
            "_view_name": "HBoxView",
            "_dom_classes": [],
            "_model_name": "HBoxModel",
            "_view_module": "@jupyter-widgets/controls",
            "_model_module_version": "1.5.0",
            "_view_count": null,
            "_view_module_version": "1.5.0",
            "box_style": "",
            "layout": "IPY_MODEL_fdb684c1977b499495981715cb27c571",
            "_model_module": "@jupyter-widgets/controls",
            "children": [
              "IPY_MODEL_6098ebcf4049424dbc3a61a2c364e102",
              "IPY_MODEL_f0075ead180744be989e0bc90343eca3"
            ]
          }
        },
        "fdb684c1977b499495981715cb27c571": {
          "model_module": "@jupyter-widgets/base",
          "model_name": "LayoutModel",
          "state": {
            "_view_name": "LayoutView",
            "grid_template_rows": null,
            "right": null,
            "justify_content": null,
            "_view_module": "@jupyter-widgets/base",
            "overflow": null,
            "_model_module_version": "1.2.0",
            "_view_count": null,
            "flex_flow": null,
            "width": null,
            "min_width": null,
            "border": null,
            "align_items": null,
            "bottom": null,
            "_model_module": "@jupyter-widgets/base",
            "top": null,
            "grid_column": null,
            "overflow_y": null,
            "overflow_x": null,
            "grid_auto_flow": null,
            "grid_area": null,
            "grid_template_columns": null,
            "flex": null,
            "_model_name": "LayoutModel",
            "justify_items": null,
            "grid_row": null,
            "max_height": null,
            "align_content": null,
            "visibility": null,
            "align_self": null,
            "height": null,
            "min_height": null,
            "padding": null,
            "grid_auto_rows": null,
            "grid_gap": null,
            "max_width": null,
            "order": null,
            "_view_module_version": "1.2.0",
            "grid_template_areas": null,
            "object_position": null,
            "object_fit": null,
            "grid_auto_columns": null,
            "margin": null,
            "display": null,
            "left": null
          }
        },
        "6098ebcf4049424dbc3a61a2c364e102": {
          "model_module": "@jupyter-widgets/controls",
          "model_name": "FloatProgressModel",
          "state": {
            "_view_name": "ProgressView",
            "style": "IPY_MODEL_67fd92ff68054de2a6215ed467784325",
            "_dom_classes": [],
            "description": "Downloading: 100%",
            "_model_name": "FloatProgressModel",
            "bar_style": "success",
            "max": 26,
            "_view_module": "@jupyter-widgets/controls",
            "_model_module_version": "1.5.0",
            "value": 26,
            "_view_count": null,
            "_view_module_version": "1.5.0",
            "orientation": "horizontal",
            "min": 0,
            "description_tooltip": null,
            "_model_module": "@jupyter-widgets/controls",
            "layout": "IPY_MODEL_e2765ce6f6334128a41c11cbcd6823ee"
          }
        },
        "f0075ead180744be989e0bc90343eca3": {
          "model_module": "@jupyter-widgets/controls",
          "model_name": "HTMLModel",
          "state": {
            "_view_name": "HTMLView",
            "style": "IPY_MODEL_b9aeed46c99540d69945b9394abd578d",
            "_dom_classes": [],
            "description": "",
            "_model_name": "HTMLModel",
            "placeholder": "​",
            "_view_module": "@jupyter-widgets/controls",
            "_model_module_version": "1.5.0",
            "value": " 26.0/26.0 [00:00&lt;00:00, 67.9B/s]",
            "_view_count": null,
            "_view_module_version": "1.5.0",
            "description_tooltip": null,
            "_model_module": "@jupyter-widgets/controls",
            "layout": "IPY_MODEL_ecc9e800b44e48d98d09e27617377893"
          }
        },
        "67fd92ff68054de2a6215ed467784325": {
          "model_module": "@jupyter-widgets/controls",
          "model_name": "ProgressStyleModel",
          "state": {
            "_view_name": "StyleView",
            "_model_name": "ProgressStyleModel",
            "description_width": "initial",
            "_view_module": "@jupyter-widgets/base",
            "_model_module_version": "1.5.0",
            "_view_count": null,
            "_view_module_version": "1.2.0",
            "bar_color": null,
            "_model_module": "@jupyter-widgets/controls"
          }
        },
        "e2765ce6f6334128a41c11cbcd6823ee": {
          "model_module": "@jupyter-widgets/base",
          "model_name": "LayoutModel",
          "state": {
            "_view_name": "LayoutView",
            "grid_template_rows": null,
            "right": null,
            "justify_content": null,
            "_view_module": "@jupyter-widgets/base",
            "overflow": null,
            "_model_module_version": "1.2.0",
            "_view_count": null,
            "flex_flow": null,
            "width": null,
            "min_width": null,
            "border": null,
            "align_items": null,
            "bottom": null,
            "_model_module": "@jupyter-widgets/base",
            "top": null,
            "grid_column": null,
            "overflow_y": null,
            "overflow_x": null,
            "grid_auto_flow": null,
            "grid_area": null,
            "grid_template_columns": null,
            "flex": null,
            "_model_name": "LayoutModel",
            "justify_items": null,
            "grid_row": null,
            "max_height": null,
            "align_content": null,
            "visibility": null,
            "align_self": null,
            "height": null,
            "min_height": null,
            "padding": null,
            "grid_auto_rows": null,
            "grid_gap": null,
            "max_width": null,
            "order": null,
            "_view_module_version": "1.2.0",
            "grid_template_areas": null,
            "object_position": null,
            "object_fit": null,
            "grid_auto_columns": null,
            "margin": null,
            "display": null,
            "left": null
          }
        },
        "b9aeed46c99540d69945b9394abd578d": {
          "model_module": "@jupyter-widgets/controls",
          "model_name": "DescriptionStyleModel",
          "state": {
            "_view_name": "StyleView",
            "_model_name": "DescriptionStyleModel",
            "description_width": "",
            "_view_module": "@jupyter-widgets/base",
            "_model_module_version": "1.5.0",
            "_view_count": null,
            "_view_module_version": "1.2.0",
            "_model_module": "@jupyter-widgets/controls"
          }
        },
        "ecc9e800b44e48d98d09e27617377893": {
          "model_module": "@jupyter-widgets/base",
          "model_name": "LayoutModel",
          "state": {
            "_view_name": "LayoutView",
            "grid_template_rows": null,
            "right": null,
            "justify_content": null,
            "_view_module": "@jupyter-widgets/base",
            "overflow": null,
            "_model_module_version": "1.2.0",
            "_view_count": null,
            "flex_flow": null,
            "width": null,
            "min_width": null,
            "border": null,
            "align_items": null,
            "bottom": null,
            "_model_module": "@jupyter-widgets/base",
            "top": null,
            "grid_column": null,
            "overflow_y": null,
            "overflow_x": null,
            "grid_auto_flow": null,
            "grid_area": null,
            "grid_template_columns": null,
            "flex": null,
            "_model_name": "LayoutModel",
            "justify_items": null,
            "grid_row": null,
            "max_height": null,
            "align_content": null,
            "visibility": null,
            "align_self": null,
            "height": null,
            "min_height": null,
            "padding": null,
            "grid_auto_rows": null,
            "grid_gap": null,
            "max_width": null,
            "order": null,
            "_view_module_version": "1.2.0",
            "grid_template_areas": null,
            "object_position": null,
            "object_fit": null,
            "grid_auto_columns": null,
            "margin": null,
            "display": null,
            "left": null
          }
        },
        "a25ce9a2caa5437898b057c7ba065713": {
          "model_module": "@jupyter-widgets/controls",
          "model_name": "HBoxModel",
          "state": {
            "_view_name": "HBoxView",
            "_dom_classes": [],
            "_model_name": "HBoxModel",
            "_view_module": "@jupyter-widgets/controls",
            "_model_module_version": "1.5.0",
            "_view_count": null,
            "_view_module_version": "1.5.0",
            "box_style": "",
            "layout": "IPY_MODEL_02b5850cc1194e6cb48cab7b5a04e302",
            "_model_module": "@jupyter-widgets/controls",
            "children": [
              "IPY_MODEL_13dcb10064f54281a76b9bde7f42c584",
              "IPY_MODEL_f7589dae49d441ffad94edd425f1ff66"
            ]
          }
        },
        "02b5850cc1194e6cb48cab7b5a04e302": {
          "model_module": "@jupyter-widgets/base",
          "model_name": "LayoutModel",
          "state": {
            "_view_name": "LayoutView",
            "grid_template_rows": null,
            "right": null,
            "justify_content": null,
            "_view_module": "@jupyter-widgets/base",
            "overflow": null,
            "_model_module_version": "1.2.0",
            "_view_count": null,
            "flex_flow": null,
            "width": null,
            "min_width": null,
            "border": null,
            "align_items": null,
            "bottom": null,
            "_model_module": "@jupyter-widgets/base",
            "top": null,
            "grid_column": null,
            "overflow_y": null,
            "overflow_x": null,
            "grid_auto_flow": null,
            "grid_area": null,
            "grid_template_columns": null,
            "flex": null,
            "_model_name": "LayoutModel",
            "justify_items": null,
            "grid_row": null,
            "max_height": null,
            "align_content": null,
            "visibility": null,
            "align_self": null,
            "height": null,
            "min_height": null,
            "padding": null,
            "grid_auto_rows": null,
            "grid_gap": null,
            "max_width": null,
            "order": null,
            "_view_module_version": "1.2.0",
            "grid_template_areas": null,
            "object_position": null,
            "object_fit": null,
            "grid_auto_columns": null,
            "margin": null,
            "display": null,
            "left": null
          }
        },
        "13dcb10064f54281a76b9bde7f42c584": {
          "model_module": "@jupyter-widgets/controls",
          "model_name": "FloatProgressModel",
          "state": {
            "_view_name": "ProgressView",
            "style": "IPY_MODEL_ba3fa1a78d7a460aa35695f05e3b6f3b",
            "_dom_classes": [],
            "description": "Downloading: 100%",
            "_model_name": "FloatProgressModel",
            "bar_style": "success",
            "max": 1222317369,
            "_view_module": "@jupyter-widgets/controls",
            "_model_module_version": "1.5.0",
            "value": 1222317369,
            "_view_count": null,
            "_view_module_version": "1.5.0",
            "orientation": "horizontal",
            "min": 0,
            "description_tooltip": null,
            "_model_module": "@jupyter-widgets/controls",
            "layout": "IPY_MODEL_d8a95142d3a7452cb5d3b65eb02d1c16"
          }
        },
        "f7589dae49d441ffad94edd425f1ff66": {
          "model_module": "@jupyter-widgets/controls",
          "model_name": "HTMLModel",
          "state": {
            "_view_name": "HTMLView",
            "style": "IPY_MODEL_113197f856294cc0baec5a083ae858a1",
            "_dom_classes": [],
            "description": "",
            "_model_name": "HTMLModel",
            "placeholder": "​",
            "_view_module": "@jupyter-widgets/controls",
            "_model_module_version": "1.5.0",
            "value": " 1.22G/1.22G [00:46&lt;00:00, 26.3MB/s]",
            "_view_count": null,
            "_view_module_version": "1.5.0",
            "description_tooltip": null,
            "_model_module": "@jupyter-widgets/controls",
            "layout": "IPY_MODEL_4a1f2caeb8304bca9c878dd93e0028d9"
          }
        },
        "ba3fa1a78d7a460aa35695f05e3b6f3b": {
          "model_module": "@jupyter-widgets/controls",
          "model_name": "ProgressStyleModel",
          "state": {
            "_view_name": "StyleView",
            "_model_name": "ProgressStyleModel",
            "description_width": "initial",
            "_view_module": "@jupyter-widgets/base",
            "_model_module_version": "1.5.0",
            "_view_count": null,
            "_view_module_version": "1.2.0",
            "bar_color": null,
            "_model_module": "@jupyter-widgets/controls"
          }
        },
        "d8a95142d3a7452cb5d3b65eb02d1c16": {
          "model_module": "@jupyter-widgets/base",
          "model_name": "LayoutModel",
          "state": {
            "_view_name": "LayoutView",
            "grid_template_rows": null,
            "right": null,
            "justify_content": null,
            "_view_module": "@jupyter-widgets/base",
            "overflow": null,
            "_model_module_version": "1.2.0",
            "_view_count": null,
            "flex_flow": null,
            "width": null,
            "min_width": null,
            "border": null,
            "align_items": null,
            "bottom": null,
            "_model_module": "@jupyter-widgets/base",
            "top": null,
            "grid_column": null,
            "overflow_y": null,
            "overflow_x": null,
            "grid_auto_flow": null,
            "grid_area": null,
            "grid_template_columns": null,
            "flex": null,
            "_model_name": "LayoutModel",
            "justify_items": null,
            "grid_row": null,
            "max_height": null,
            "align_content": null,
            "visibility": null,
            "align_self": null,
            "height": null,
            "min_height": null,
            "padding": null,
            "grid_auto_rows": null,
            "grid_gap": null,
            "max_width": null,
            "order": null,
            "_view_module_version": "1.2.0",
            "grid_template_areas": null,
            "object_position": null,
            "object_fit": null,
            "grid_auto_columns": null,
            "margin": null,
            "display": null,
            "left": null
          }
        },
        "113197f856294cc0baec5a083ae858a1": {
          "model_module": "@jupyter-widgets/controls",
          "model_name": "DescriptionStyleModel",
          "state": {
            "_view_name": "StyleView",
            "_model_name": "DescriptionStyleModel",
            "description_width": "",
            "_view_module": "@jupyter-widgets/base",
            "_model_module_version": "1.5.0",
            "_view_count": null,
            "_view_module_version": "1.2.0",
            "_model_module": "@jupyter-widgets/controls"
          }
        },
        "4a1f2caeb8304bca9c878dd93e0028d9": {
          "model_module": "@jupyter-widgets/base",
          "model_name": "LayoutModel",
          "state": {
            "_view_name": "LayoutView",
            "grid_template_rows": null,
            "right": null,
            "justify_content": null,
            "_view_module": "@jupyter-widgets/base",
            "overflow": null,
            "_model_module_version": "1.2.0",
            "_view_count": null,
            "flex_flow": null,
            "width": null,
            "min_width": null,
            "border": null,
            "align_items": null,
            "bottom": null,
            "_model_module": "@jupyter-widgets/base",
            "top": null,
            "grid_column": null,
            "overflow_y": null,
            "overflow_x": null,
            "grid_auto_flow": null,
            "grid_area": null,
            "grid_template_columns": null,
            "flex": null,
            "_model_name": "LayoutModel",
            "justify_items": null,
            "grid_row": null,
            "max_height": null,
            "align_content": null,
            "visibility": null,
            "align_self": null,
            "height": null,
            "min_height": null,
            "padding": null,
            "grid_auto_rows": null,
            "grid_gap": null,
            "max_width": null,
            "order": null,
            "_view_module_version": "1.2.0",
            "grid_template_areas": null,
            "object_position": null,
            "object_fit": null,
            "grid_auto_columns": null,
            "margin": null,
            "display": null,
            "left": null
          }
        }
      }
    }
  },
  "cells": [
    {
      "cell_type": "markdown",
      "metadata": {
        "id": "view-in-github",
        "colab_type": "text"
      },
      "source": [
        "<a href=\"https://colab.research.google.com/github/ngupta23/gre/blob/master/evaluations/python/nlp/zero_shot_pipeline_huggingface.ipynb\" target=\"_parent\"><img src=\"https://colab.research.google.com/assets/colab-badge.svg\" alt=\"Open In Colab\"/></a>"
      ]
    },
    {
      "cell_type": "code",
      "metadata": {
        "id": "vpcrCcBx5tlJ",
        "colab_type": "code",
        "colab": {}
      },
      "source": [
        "?pipeline"
      ],
      "execution_count": 26,
      "outputs": []
    },
    {
      "cell_type": "code",
      "metadata": {
        "id": "-_siC10Hfjvb",
        "colab_type": "code",
        "colab": {
          "base_uri": "https://localhost:8080/",
          "height": 717
        },
        "outputId": "7750e8cd-0169-4ff3-fea5-0fd0c4c754d5"
      },
      "source": [
        "!pip install git+https://github.com/huggingface/transformers.git"
      ],
      "execution_count": 1,
      "outputs": [
        {
          "output_type": "stream",
          "text": [
            "Collecting git+https://github.com/huggingface/transformers.git\n",
            "  Cloning https://github.com/huggingface/transformers.git to /tmp/pip-req-build-awjingec\n",
            "  Running command git clone -q https://github.com/huggingface/transformers.git /tmp/pip-req-build-awjingec\n",
            "Requirement already satisfied: numpy in /usr/local/lib/python3.6/dist-packages (from transformers==3.0.2) (1.18.5)\n",
            "Collecting tokenizers==0.8.1.rc2\n",
            "\u001b[?25l  Downloading https://files.pythonhosted.org/packages/80/83/8b9fccb9e48eeb575ee19179e2bdde0ee9a1904f97de5f02d19016b8804f/tokenizers-0.8.1rc2-cp36-cp36m-manylinux1_x86_64.whl (3.0MB)\n",
            "\u001b[K     |████████████████████████████████| 3.0MB 4.8MB/s \n",
            "\u001b[?25hRequirement already satisfied: packaging in /usr/local/lib/python3.6/dist-packages (from transformers==3.0.2) (20.4)\n",
            "Requirement already satisfied: filelock in /usr/local/lib/python3.6/dist-packages (from transformers==3.0.2) (3.0.12)\n",
            "Requirement already satisfied: requests in /usr/local/lib/python3.6/dist-packages (from transformers==3.0.2) (2.23.0)\n",
            "Requirement already satisfied: tqdm>=4.27 in /usr/local/lib/python3.6/dist-packages (from transformers==3.0.2) (4.41.1)\n",
            "Requirement already satisfied: regex!=2019.12.17 in /usr/local/lib/python3.6/dist-packages (from transformers==3.0.2) (2019.12.20)\n",
            "Collecting sentencepiece!=0.1.92\n",
            "\u001b[?25l  Downloading https://files.pythonhosted.org/packages/d4/a4/d0a884c4300004a78cca907a6ff9a5e9fe4f090f5d95ab341c53d28cbc58/sentencepiece-0.1.91-cp36-cp36m-manylinux1_x86_64.whl (1.1MB)\n",
            "\u001b[K     |████████████████████████████████| 1.1MB 60.7MB/s \n",
            "\u001b[?25hCollecting sacremoses\n",
            "\u001b[?25l  Downloading https://files.pythonhosted.org/packages/7d/34/09d19aff26edcc8eb2a01bed8e98f13a1537005d31e95233fd48216eed10/sacremoses-0.0.43.tar.gz (883kB)\n",
            "\u001b[K     |████████████████████████████████| 890kB 59.3MB/s \n",
            "\u001b[?25hRequirement already satisfied: dataclasses in /usr/local/lib/python3.6/dist-packages (from transformers==3.0.2) (0.7)\n",
            "Requirement already satisfied: six in /usr/local/lib/python3.6/dist-packages (from packaging->transformers==3.0.2) (1.15.0)\n",
            "Requirement already satisfied: pyparsing>=2.0.2 in /usr/local/lib/python3.6/dist-packages (from packaging->transformers==3.0.2) (2.4.7)\n",
            "Requirement already satisfied: chardet<4,>=3.0.2 in /usr/local/lib/python3.6/dist-packages (from requests->transformers==3.0.2) (3.0.4)\n",
            "Requirement already satisfied: idna<3,>=2.5 in /usr/local/lib/python3.6/dist-packages (from requests->transformers==3.0.2) (2.10)\n",
            "Requirement already satisfied: certifi>=2017.4.17 in /usr/local/lib/python3.6/dist-packages (from requests->transformers==3.0.2) (2020.6.20)\n",
            "Requirement already satisfied: urllib3!=1.25.0,!=1.25.1,<1.26,>=1.21.1 in /usr/local/lib/python3.6/dist-packages (from requests->transformers==3.0.2) (1.24.3)\n",
            "Requirement already satisfied: click in /usr/local/lib/python3.6/dist-packages (from sacremoses->transformers==3.0.2) (7.1.2)\n",
            "Requirement already satisfied: joblib in /usr/local/lib/python3.6/dist-packages (from sacremoses->transformers==3.0.2) (0.16.0)\n",
            "Building wheels for collected packages: transformers, sacremoses\n",
            "  Building wheel for transformers (setup.py) ... \u001b[?25l\u001b[?25hdone\n",
            "  Created wheel for transformers: filename=transformers-3.0.2-cp36-none-any.whl size=868795 sha256=b52844a5797a9ca15cb8ca5831d86cb4987e72ad3975137842bf4a026e8f4fd3\n",
            "  Stored in directory: /tmp/pip-ephem-wheel-cache-1je6747v/wheels/33/eb/3b/4bf5dd835e865e472d4fc0754f35ac0edb08fe852e8f21655f\n",
            "  Building wheel for sacremoses (setup.py) ... \u001b[?25l\u001b[?25hdone\n",
            "  Created wheel for sacremoses: filename=sacremoses-0.0.43-cp36-none-any.whl size=893260 sha256=06e6b202487505869d08bebc9280f04f2cbc4bc8cd178523fee522a4275d9f42\n",
            "  Stored in directory: /root/.cache/pip/wheels/29/3c/fd/7ce5c3f0666dab31a50123635e6fb5e19ceb42ce38d4e58f45\n",
            "Successfully built transformers sacremoses\n",
            "Installing collected packages: tokenizers, sentencepiece, sacremoses, transformers\n",
            "Successfully installed sacremoses-0.0.43 sentencepiece-0.1.91 tokenizers-0.8.1rc2 transformers-3.0.2\n"
          ],
          "name": "stdout"
        }
      ]
    },
    {
      "cell_type": "code",
      "metadata": {
        "id": "J1Zx_W9ZfKI7",
        "colab_type": "code",
        "colab": {}
      },
      "source": [
        "import pandas as pd\n",
        "from transformers import pipeline"
      ],
      "execution_count": 2,
      "outputs": []
    },
    {
      "cell_type": "code",
      "metadata": {
        "id": "MGEaTbH5g_jP",
        "colab_type": "code",
        "colab": {
          "base_uri": "https://localhost:8080/",
          "height": 36
        },
        "outputId": "5691bc21-f006-4c03-d71d-bb56c7e84548"
      },
      "source": [
        "import transformers\n",
        "transformers.__version__"
      ],
      "execution_count": 3,
      "outputs": [
        {
          "output_type": "execute_result",
          "data": {
            "application/vnd.google.colaboratory.intrinsic+json": {
              "type": "string"
            },
            "text/plain": [
              "'3.0.2'"
            ]
          },
          "metadata": {
            "tags": []
          },
          "execution_count": 3
        }
      ]
    },
    {
      "cell_type": "markdown",
      "metadata": {
        "id": "I44YUOVsiqqi",
        "colab_type": "text"
      },
      "source": [
        "# Named Entity Recognition using Hugging Face"
      ]
    },
    {
      "cell_type": "code",
      "metadata": {
        "pycharm": {
          "name": "#%%\n"
        },
        "id": "SeGFv_dgfKI_",
        "colab_type": "code",
        "colab": {
          "base_uri": "https://localhost:8080/",
          "height": 269,
          "referenced_widgets": [
            "657dbddd2f5841ea834c907a19e68352",
            "e82bfe697645421e84f9db708ace897c",
            "ed7f806de83e4398aa09726f9392b78f",
            "afd923c5029440a1878b7e8d338fd0eb",
            "cf7e7a98a1dd4f3aa3f984e8cf550728",
            "c88a44a8dfd744409e9b06308e1725e1",
            "047498cc3cf34e9fbec7396298dd825a",
            "48ca5b42dc07456584982fe08dafb54e",
            "678a870e0c5c47b6ac9d408c1b911712",
            "2a8ca69cc1ea4d8caf2fe23d773c2ff7",
            "c861dc843118492e918712522fd73a0c",
            "fd692d8976c74d35852c30217c38413c",
            "f5e1ace641cc4ae6a39616dc6ff5cf7c",
            "ea5e266448a14eafab651cf89d6dad52",
            "0984f736c2284898b16057710cce772e",
            "34dd2c61238a42109c85692939c078ce",
            "30ce486ec7d948c2941e7670f160af20",
            "a94a07321f1e4822bb70685a7f591900",
            "1245dbb7913b4e0d9ebe962cdfae4211",
            "d0b7a0f5cd0f4be888c1448e385ddfc2",
            "0e76de6e2fde4e92ae01ccf5f8681a2e",
            "99e10cab15164267b3afbc4b42e71b59",
            "3bec26e51b7d4436b5a4dff882feda5f",
            "01ce8d022445431db9020fadf1050070",
            "2197ace782c743faa0de35d838567b6e",
            "39a701264d324de790fad4ad422563c9",
            "9ed371519b8f4232828dbef4c1d84053",
            "50f77c9db3d1494192654a7d8cf1025d",
            "95572069c1664b0da7a41e568fc8a3b6",
            "23ed9d1d68ed4053b45f13dd6da314af",
            "6f904cbb154d4ff7b2c56ee508307541",
            "7af7921171374988a5634fbb6f03e6d1",
            "b0682f87f31c4c28af6616000d70f46e",
            "56a12a3144bc44dd8e3fffcd5267d895",
            "7b3fb6b986e74ad39ea5104488ce52cc",
            "006d4791a4fb4c5095492168276b7db9",
            "9cbf1aeda2ef4ea5a9c4df9e0434d042",
            "84fcdd2474774c3b896253225b13dd71",
            "ffe2a038f47141779ce4ab2d61f36237",
            "a218417e440742deb98a492e5a1a1bfa"
          ]
        },
        "outputId": "03e448ec-ee62-4626-cacb-c0417f37ae42"
      },
      "source": [
        "ner = pipeline(\"ner\")"
      ],
      "execution_count": 4,
      "outputs": [
        {
          "output_type": "display_data",
          "data": {
            "application/vnd.jupyter.widget-view+json": {
              "model_id": "657dbddd2f5841ea834c907a19e68352",
              "version_minor": 0,
              "version_major": 2
            },
            "text/plain": [
              "HBox(children=(FloatProgress(value=0.0, description='Downloading', max=998.0, style=ProgressStyle(description_…"
            ]
          },
          "metadata": {
            "tags": []
          }
        },
        {
          "output_type": "stream",
          "text": [
            "\n"
          ],
          "name": "stdout"
        },
        {
          "output_type": "display_data",
          "data": {
            "application/vnd.jupyter.widget-view+json": {
              "model_id": "678a870e0c5c47b6ac9d408c1b911712",
              "version_minor": 0,
              "version_major": 2
            },
            "text/plain": [
              "HBox(children=(FloatProgress(value=0.0, description='Downloading', max=213450.0, style=ProgressStyle(descripti…"
            ]
          },
          "metadata": {
            "tags": []
          }
        },
        {
          "output_type": "stream",
          "text": [
            "\n"
          ],
          "name": "stdout"
        },
        {
          "output_type": "display_data",
          "data": {
            "application/vnd.jupyter.widget-view+json": {
              "model_id": "30ce486ec7d948c2941e7670f160af20",
              "version_minor": 0,
              "version_major": 2
            },
            "text/plain": [
              "HBox(children=(FloatProgress(value=0.0, description='Downloading', max=60.0, style=ProgressStyle(description_w…"
            ]
          },
          "metadata": {
            "tags": []
          }
        },
        {
          "output_type": "stream",
          "text": [
            "\n"
          ],
          "name": "stdout"
        },
        {
          "output_type": "display_data",
          "data": {
            "application/vnd.jupyter.widget-view+json": {
              "model_id": "2197ace782c743faa0de35d838567b6e",
              "version_minor": 0,
              "version_major": 2
            },
            "text/plain": [
              "HBox(children=(FloatProgress(value=0.0, description='Downloading', max=230.0, style=ProgressStyle(description_…"
            ]
          },
          "metadata": {
            "tags": []
          }
        },
        {
          "output_type": "stream",
          "text": [
            "\n"
          ],
          "name": "stdout"
        },
        {
          "output_type": "display_data",
          "data": {
            "application/vnd.jupyter.widget-view+json": {
              "model_id": "b0682f87f31c4c28af6616000d70f46e",
              "version_minor": 0,
              "version_major": 2
            },
            "text/plain": [
              "HBox(children=(FloatProgress(value=0.0, description='Downloading', max=1334448817.0, style=ProgressStyle(descr…"
            ]
          },
          "metadata": {
            "tags": []
          }
        },
        {
          "output_type": "stream",
          "text": [
            "\n"
          ],
          "name": "stdout"
        }
      ]
    },
    {
      "cell_type": "code",
      "metadata": {
        "id": "8_rl_e6IkGjC",
        "colab_type": "code",
        "colab": {}
      },
      "source": [
        "sent = \"Donald Trump and Barack Obama were the last two presidents of the United States.\"\n",
        "result = ner(sent)"
      ],
      "execution_count": 5,
      "outputs": []
    },
    {
      "cell_type": "code",
      "metadata": {
        "pycharm": {
          "name": "#%%\n"
        },
        "id": "lqxUtcbPfKJQ",
        "colab_type": "code",
        "colab": {
          "base_uri": "https://localhost:8080/",
          "height": 238
        },
        "outputId": "bf8a2244-36dc-44d9-d44d-331c38b2933c"
      },
      "source": [
        "pd.json_normalize(result)"
      ],
      "execution_count": 6,
      "outputs": [
        {
          "output_type": "execute_result",
          "data": {
            "text/html": [
              "<div>\n",
              "<style scoped>\n",
              "    .dataframe tbody tr th:only-of-type {\n",
              "        vertical-align: middle;\n",
              "    }\n",
              "\n",
              "    .dataframe tbody tr th {\n",
              "        vertical-align: top;\n",
              "    }\n",
              "\n",
              "    .dataframe thead th {\n",
              "        text-align: right;\n",
              "    }\n",
              "</style>\n",
              "<table border=\"1\" class=\"dataframe\">\n",
              "  <thead>\n",
              "    <tr style=\"text-align: right;\">\n",
              "      <th></th>\n",
              "      <th>word</th>\n",
              "      <th>score</th>\n",
              "      <th>entity</th>\n",
              "      <th>index</th>\n",
              "    </tr>\n",
              "  </thead>\n",
              "  <tbody>\n",
              "    <tr>\n",
              "      <th>0</th>\n",
              "      <td>Donald</td>\n",
              "      <td>0.998942</td>\n",
              "      <td>I-PER</td>\n",
              "      <td>1</td>\n",
              "    </tr>\n",
              "    <tr>\n",
              "      <th>1</th>\n",
              "      <td>Trump</td>\n",
              "      <td>0.999473</td>\n",
              "      <td>I-PER</td>\n",
              "      <td>2</td>\n",
              "    </tr>\n",
              "    <tr>\n",
              "      <th>2</th>\n",
              "      <td>Barack</td>\n",
              "      <td>0.998756</td>\n",
              "      <td>I-PER</td>\n",
              "      <td>4</td>\n",
              "    </tr>\n",
              "    <tr>\n",
              "      <th>3</th>\n",
              "      <td>Obama</td>\n",
              "      <td>0.999408</td>\n",
              "      <td>I-PER</td>\n",
              "      <td>5</td>\n",
              "    </tr>\n",
              "    <tr>\n",
              "      <th>4</th>\n",
              "      <td>United</td>\n",
              "      <td>0.999495</td>\n",
              "      <td>I-LOC</td>\n",
              "      <td>13</td>\n",
              "    </tr>\n",
              "    <tr>\n",
              "      <th>5</th>\n",
              "      <td>States</td>\n",
              "      <td>0.999028</td>\n",
              "      <td>I-LOC</td>\n",
              "      <td>14</td>\n",
              "    </tr>\n",
              "  </tbody>\n",
              "</table>\n",
              "</div>"
            ],
            "text/plain": [
              "     word     score entity  index\n",
              "0  Donald  0.998942  I-PER      1\n",
              "1   Trump  0.999473  I-PER      2\n",
              "2  Barack  0.998756  I-PER      4\n",
              "3   Obama  0.999408  I-PER      5\n",
              "4  United  0.999495  I-LOC     13\n",
              "5  States  0.999028  I-LOC     14"
            ]
          },
          "metadata": {
            "tags": []
          },
          "execution_count": 6
        }
      ]
    },
    {
      "cell_type": "markdown",
      "metadata": {
        "id": "BXRzk-CM4F1v",
        "colab_type": "text"
      },
      "source": [
        "# Sentiment Analysis"
      ]
    },
    {
      "cell_type": "code",
      "metadata": {
        "id": "Bzzh7Jd14TfG",
        "colab_type": "code",
        "colab": {
          "base_uri": "https://localhost:8080/",
          "height": 218,
          "referenced_widgets": [
            "1e3e544a3e994d5ea2012d978ecfe623",
            "4dee6aa548c14fbda1931ae567fc06f4",
            "f76ab1d4627841b4bd47f70dc212fe5f",
            "329efa98bfbc4e378194b4a7c3b2fa7f",
            "04fb214405064886b2872ecb13da6223",
            "e9819e37db494bbba75300647f93c374",
            "c2eadc2bbcd74fa1b861421337a3029e",
            "fdc72baee1c9460da0b912de6299c237",
            "0da3366ca0c945de952a3936351078f4",
            "bb17ef719efd4270811ea4d43222a7da",
            "ff6b06b26cfe443fa3acf2e4d568e3ca",
            "6a5dae437cc44d98824947ee87c85825",
            "fb7546fa857347ba916e3857a016c33e",
            "4ecfa5d522ec4b25b2d24ae537326f41",
            "2ed41a71a72743f488571f6a28fd85f2",
            "64f9c8cc0169437bbc759e959e7cc467",
            "b3bdc06e517e42fd9a0523715c015542",
            "6d3ccd86f89f48569c611eb2a68d3cf2",
            "598af51bf7fc47c79cce3f5ee003aec0",
            "025b8bf252ec41c68994b66f94db8ad5",
            "6c2d0d1220284dd78d6370e0cc240ec5",
            "b1bea35b23ae4f4292254f5e33500678",
            "33a24e8f8874494e83512375e94cfd9b",
            "c9459ec2121b49f78c98f39f25dee3b9",
            "fab95f6573054a7ebcab588266c723d2",
            "bf9dc40757794a53b7d1319e8696127c",
            "baaf76e229054114b4a6e62cd43d8fa3",
            "c0c8708dc89a4e99b3b0997c84d8a197",
            "7c412ce704954c0fa7c37551a536a39e",
            "10b7cd2f77474c6a845299c0c52ff307",
            "2673551ae63b4b7f984528fe4e873748",
            "7aed27e76ed844fa973a05225325de20"
          ]
        },
        "outputId": "14e6bc15-7a99-47ab-c58d-d53c234ac140"
      },
      "source": [
        "sentiment = pipeline(\"sentiment-analysis\")"
      ],
      "execution_count": 8,
      "outputs": [
        {
          "output_type": "display_data",
          "data": {
            "application/vnd.jupyter.widget-view+json": {
              "model_id": "1e3e544a3e994d5ea2012d978ecfe623",
              "version_minor": 0,
              "version_major": 2
            },
            "text/plain": [
              "HBox(children=(FloatProgress(value=0.0, description='Downloading', max=629.0, style=ProgressStyle(description_…"
            ]
          },
          "metadata": {
            "tags": []
          }
        },
        {
          "output_type": "stream",
          "text": [
            "\n"
          ],
          "name": "stdout"
        },
        {
          "output_type": "display_data",
          "data": {
            "application/vnd.jupyter.widget-view+json": {
              "model_id": "0da3366ca0c945de952a3936351078f4",
              "version_minor": 0,
              "version_major": 2
            },
            "text/plain": [
              "HBox(children=(FloatProgress(value=0.0, description='Downloading', max=231508.0, style=ProgressStyle(descripti…"
            ]
          },
          "metadata": {
            "tags": []
          }
        },
        {
          "output_type": "stream",
          "text": [
            "\n"
          ],
          "name": "stdout"
        },
        {
          "output_type": "display_data",
          "data": {
            "application/vnd.jupyter.widget-view+json": {
              "model_id": "b3bdc06e517e42fd9a0523715c015542",
              "version_minor": 0,
              "version_major": 2
            },
            "text/plain": [
              "HBox(children=(FloatProgress(value=0.0, description='Downloading', max=230.0, style=ProgressStyle(description_…"
            ]
          },
          "metadata": {
            "tags": []
          }
        },
        {
          "output_type": "stream",
          "text": [
            "\n"
          ],
          "name": "stdout"
        },
        {
          "output_type": "display_data",
          "data": {
            "application/vnd.jupyter.widget-view+json": {
              "model_id": "fab95f6573054a7ebcab588266c723d2",
              "version_minor": 0,
              "version_major": 2
            },
            "text/plain": [
              "HBox(children=(FloatProgress(value=0.0, description='Downloading', max=267844284.0, style=ProgressStyle(descri…"
            ]
          },
          "metadata": {
            "tags": []
          }
        },
        {
          "output_type": "stream",
          "text": [
            "\n"
          ],
          "name": "stdout"
        }
      ]
    },
    {
      "cell_type": "code",
      "metadata": {
        "id": "Wf6_mPm-45iG",
        "colab_type": "code",
        "colab": {}
      },
      "source": [
        "sentences = [\n",
        "             \"Donald Trump and Barack Obama were the last two presidents of the United States.\",\n",
        "             \"He is not a nice person.\",\n",
        "             \"I went for a walk.\",\n",
        "             \"The walk was fun.\",\n",
        "             \"I went for a walk. The walk was fun.\",\n",
        "             \"I went for a walk. The walk was fun. Just kidding. It was not. It was too tiring.\",\n",
        "\n",
        "]"
      ],
      "execution_count": 24,
      "outputs": []
    },
    {
      "cell_type": "code",
      "metadata": {
        "id": "8nycN_fE4_E3",
        "colab_type": "code",
        "colab": {
          "base_uri": "https://localhost:8080/",
          "height": 127
        },
        "outputId": "f3c36c88-f562-440a-8bfe-55d83db6c488"
      },
      "source": [
        "sentiment(sentences)"
      ],
      "execution_count": 25,
      "outputs": [
        {
          "output_type": "execute_result",
          "data": {
            "text/plain": [
              "[{'label': 'POSITIVE', 'score': 0.995557427406311},\n",
              " {'label': 'NEGATIVE', 'score': 0.9997329115867615},\n",
              " {'label': 'NEGATIVE', 'score': 0.8091042637825012},\n",
              " {'label': 'POSITIVE', 'score': 0.9998639822006226},\n",
              " {'label': 'POSITIVE', 'score': 0.9998635053634644},\n",
              " {'label': 'NEGATIVE', 'score': 0.9686330556869507}]"
            ]
          },
          "metadata": {
            "tags": []
          },
          "execution_count": 25
        }
      ]
    },
    {
      "cell_type": "markdown",
      "metadata": {
        "id": "pY56797u4HiP",
        "colab_type": "text"
      },
      "source": [
        "# Feature Extraction\n",
        "\n",
        "This can be used for downstream tasks"
      ]
    },
    {
      "cell_type": "code",
      "metadata": {
        "id": "Uqamc2EB4HHo",
        "colab_type": "code",
        "colab": {
          "base_uri": "https://localhost:8080/",
          "height": 218,
          "referenced_widgets": [
            "ee5f6e753ebc4ea1ba733c06207704f9",
            "7001224c90a440b796221cfd96e12282",
            "2b68547a176848e6b566c74387ecf389",
            "70febf120bdf400a838ce737478a1054",
            "98976faa3420411f9aa2a46e410c0adf",
            "52f8dab752204e7fa7620e3881d0d2cd",
            "111bf126be66468bb6fbe1d0b1688890",
            "985b497ad9fb4c4cad0dc72eb1e44320",
            "7d3e93b6f11146e2b4c9f0a2d7981434",
            "0e9adc7120d84c93b93a323cd5da297a",
            "c6aaa3e1fb9f4a7c9ee1866c6ecd8560",
            "0e34448e6db74c0c8faf226a1c2d9014",
            "1034d040f4f64482932e9ef4a021a040",
            "6d921369099945dfbb83df641910bc32",
            "06afb6d92ec147f090451e1d5267b4f9",
            "7aa88394cd7649e2ade9af0e330602d0",
            "0de73a5507c84f898d6b64a17b9d221c",
            "8a046d897e6f4f41ad4ce0905b44bc7a",
            "481a5b35021d4c37976901ebfbfe991d",
            "5fa422c815b549af91898499873d76cb",
            "9b7c2f8d97454d94b93aeec12e53a317",
            "2e679f18d7b74dc2a117298d2f0972c3",
            "91602394b19e46bcbafe7e4731af0638",
            "56dc93dcca7844e2a6628bdd5d5db371",
            "fb070c2c2d57400882ffa39033289a4c",
            "085bff34eaf84f8e8be77882f03ede91",
            "21da3b441cf24431b7fd69faa275095d",
            "f206b205897f436bb8f0458e3299a957",
            "b91308bc3f014dd1add11382b74eb524",
            "1436e9c6937f4763811e22af7ceccc7d",
            "9558c80354dc4d0b98ddbda2a32a5e31",
            "8f96705d47df4aa295645949ee3898ac"
          ]
        },
        "outputId": "6f5559ea-5d91-4616-d116-9cff5557f56e"
      },
      "source": [
        "features = pipeline(\"feature-extraction\")"
      ],
      "execution_count": 27,
      "outputs": [
        {
          "output_type": "display_data",
          "data": {
            "application/vnd.jupyter.widget-view+json": {
              "model_id": "ee5f6e753ebc4ea1ba733c06207704f9",
              "version_minor": 0,
              "version_major": 2
            },
            "text/plain": [
              "HBox(children=(FloatProgress(value=0.0, description='Downloading', max=411.0, style=ProgressStyle(description_…"
            ]
          },
          "metadata": {
            "tags": []
          }
        },
        {
          "output_type": "stream",
          "text": [
            "\n"
          ],
          "name": "stdout"
        },
        {
          "output_type": "display_data",
          "data": {
            "application/vnd.jupyter.widget-view+json": {
              "model_id": "7d3e93b6f11146e2b4c9f0a2d7981434",
              "version_minor": 0,
              "version_major": 2
            },
            "text/plain": [
              "HBox(children=(FloatProgress(value=0.0, description='Downloading', max=213450.0, style=ProgressStyle(descripti…"
            ]
          },
          "metadata": {
            "tags": []
          }
        },
        {
          "output_type": "stream",
          "text": [
            "\n"
          ],
          "name": "stdout"
        },
        {
          "output_type": "display_data",
          "data": {
            "application/vnd.jupyter.widget-view+json": {
              "model_id": "0de73a5507c84f898d6b64a17b9d221c",
              "version_minor": 0,
              "version_major": 2
            },
            "text/plain": [
              "HBox(children=(FloatProgress(value=0.0, description='Downloading', max=230.0, style=ProgressStyle(description_…"
            ]
          },
          "metadata": {
            "tags": []
          }
        },
        {
          "output_type": "stream",
          "text": [
            "\n"
          ],
          "name": "stdout"
        },
        {
          "output_type": "display_data",
          "data": {
            "application/vnd.jupyter.widget-view+json": {
              "model_id": "fb070c2c2d57400882ffa39033289a4c",
              "version_minor": 0,
              "version_major": 2
            },
            "text/plain": [
              "HBox(children=(FloatProgress(value=0.0, description='Downloading', max=263273408.0, style=ProgressStyle(descri…"
            ]
          },
          "metadata": {
            "tags": []
          }
        },
        {
          "output_type": "stream",
          "text": [
            "\n"
          ],
          "name": "stdout"
        }
      ]
    },
    {
      "cell_type": "code",
      "metadata": {
        "id": "MhcIPiInk0Yw",
        "colab_type": "code",
        "colab": {}
      },
      "source": [
        "results = features(sentences)"
      ],
      "execution_count": 28,
      "outputs": []
    },
    {
      "cell_type": "code",
      "metadata": {
        "id": "hiAYvpYH5-_J",
        "colab_type": "code",
        "colab": {
          "base_uri": "https://localhost:8080/",
          "height": 515
        },
        "outputId": "c6dfa634-95bc-48d5-ed73-4e6f89524df6"
      },
      "source": [
        "sentence_no = 0\n",
        "for i in range(len(results[sentence_no])):\n",
        "  print(f\"Word {i} --> Embedding {results[sentence_no][i]}\")\n",
        "\n",
        "# Each PAS has a different embedding since BERT uses positional encoding as well."
      ],
      "execution_count": 38,
      "outputs": [
        {
          "output_type": "stream",
          "text": [
            "Word 0 --> Embedding [0.2678475081920624, -0.07355058938264847, -0.12267589569091797, -0.13016416132450104, -0.2880170941352844, -0.08466681838035583, 0.36893635988235474, -0.05302417650818825, 0.02035793662071228, -1.153303623199463, -0.15763430297374725, -0.02084031142294407, -0.1405172049999237, -0.022853093221783638, -0.1961570382118225, 0.17572325468063354, 0.15582287311553955, 0.04625003784894943, -0.07196536660194397, -0.28322264552116394, -0.08771812915802002, -0.185523122549057, 0.45797035098075867, -0.1917639523744583, 0.3711216449737549, 0.012720632366836071, 0.23897196352481842, 0.2468944638967514, -0.21757639944553375, 0.42239540815353394, -0.0938078835606575, 0.2973720133304596, -0.09291862696409225, 0.03715745359659195, -0.12821325659751892, 0.145587757229805, 0.026575639843940735, -0.325323224067688, 0.10411900281906128, -0.05164533108472824, -0.6074653267860413, 0.23954708874225616, 0.6417302489280701, -0.028072722256183624, 0.16204194724559784, -0.32228970527648926, 0.3242817223072052, 0.16209997236728668, -0.0020603251177817583, 0.14142188429832458, -0.06519563496112823, 0.15522713959217072, -0.002355795120820403, 0.07552330940961838, 0.28378939628601074, 0.14284302294254303, -0.10199830681085587, 0.024805570021271706, -0.28592103719711304, 0.28548839688301086, 0.2397833913564682, 0.0842321589589119, 0.2733750343322754, 0.025669049471616745, 0.006549863610416651, 0.2060183435678482, 0.20867829024791718, 0.08242937922477722, -0.38190168142318726, -0.10128526389598846, -0.39827802777290344, 0.27252739667892456, 0.3777216970920563, 1.0483438968658447, 0.2869701385498047, -0.4932292401790619, 0.4662323296070099, 0.04014340043067932, -0.07722117006778717, -0.1967463344335556, 0.15807358920574188, -0.1978917121887207, -0.2879405915737152, 0.11150795221328735, 0.2300095111131668, -0.40151530504226685, -0.11167784035205841, 0.0925741195678711, -0.048488225787878036, 0.18240635097026825, -0.12365482747554779, -0.20178945362567902, -0.24232687056064606, -0.043368831276893616, 0.040304508060216904, 0.07167958468198776, 0.20417238771915436, 0.0380384624004364, 6.523458480834961, -0.17665790021419525, -0.13049417734146118, 0.026375163346529007, 0.1342555731534958, 0.17762145400047302, 0.34924259781837463, -0.4067577123641968, -0.13200056552886963, -0.07592044025659561, 0.15821467339992523, 0.36247482895851135, 0.6126986742019653, -0.06659137457609177, -0.057441409677267075, -0.16424205899238586, -0.12137432396411896, -0.37316450476646423, 0.01828417368233204, 0.04398000240325928, 0.15642781555652618, -0.3838263750076294, -0.021088507026433945, -0.07155787944793701, 1.0720252990722656, 0.17523176968097687, -0.20622453093528748, 0.02979472279548645, -0.15324248373508453, 0.014034444466233253, 0.284376859664917, -0.22648964822292328, -0.6143055558204651, -0.19714012742042542, -0.04199616611003876, 0.10496951639652252, 0.16282348334789276, 0.10829875618219376, -0.3173038065433502, 0.14442093670368195, -0.7719641923904419, 0.07845663279294968, 0.07550832629203796, -0.19997045397758484, -0.008080980740487576, -0.22941504418849945, -0.2977027893066406, 2.8321189880371094, 0.10028742998838425, -0.11878065019845963, -0.1393844038248062, 0.010356209240853786, -0.0013263019500300288, -0.31382063031196594, -0.09865308552980423, 0.2421303242444992, -0.1889469474554062, -0.33624163269996643, 0.0836852490901947, 0.25707459449768066, -0.07859975844621658, 0.07118197530508041, -0.9492237567901611, 0.1252681314945221, -0.05997737869620323, 0.40924376249313354, -0.11522998660802841, -0.4906078577041626, 0.25067272782325745, -0.7356604933738708, 0.1328951120376587, 0.4205974340438843, -0.009851316921412945, -0.11244232207536697, -2.366880178451538, 0.19137486815452576, 0.30030447244644165, 0.00314858159981668, 0.15926949679851532, 0.2226564884185791, 0.1635996699333191, -0.10404159128665924, -0.04664710536599159, 0.28553348779678345, 0.04542967677116394, 0.30117011070251465, -0.13037098944187164, -0.015121139585971832, -0.020101353526115417, 0.12012188881635666, -0.16231940686702728, 0.08327274024486542, -0.11760526895523071, -0.4629459083080292, 0.13327297568321228, -0.007558268494904041, 0.22073985636234283, 0.03477009758353233, 0.10293003916740417, -0.2549206614494324, -0.011924747377634048, 0.14995643496513367, -0.04123477265238762, -0.04705464467406273, -0.31330886483192444, 0.13417008519172668, 0.4919731616973877, 0.04209652170538902, 0.01764291524887085, 0.07471755892038345, 0.1430109441280365, 0.1208677813410759, -0.0975160226225853, -0.0030268358532339334, 0.14326633512973785, 0.5585340857505798, 0.5413992404937744, -0.35428422689437866, -0.1740446239709854, 0.071732297539711, 0.06613533943891525, 0.005919239018112421, -0.1389731913805008, 0.2315000742673874, -0.24825887382030487, 0.11489017307758331, 0.1455046832561493, -0.0851723775267601, 0.014261476695537567, 0.1779775470495224, 0.08329719305038452, -0.3169814348220825, 0.15553763508796692, -0.08453552424907684, 0.11122120171785355, 0.013698908500373363, -0.10142937302589417, -0.15726110339164734, -0.31464874744415283, 0.07139889150857925, -0.06045205891132355, 0.31062889099121094, 0.01921256259083748, -0.12599213421344757, 0.32883065938949585, 0.0840914398431778, 0.024256359785795212, 0.07668203860521317, 0.5567048788070679, 0.2272859811782837, 0.1170998215675354, -0.0040802303701639175, 0.8599517345428467, 0.2425968050956726, -0.165730282664299, -0.05949968844652176, -0.4804573953151703, -0.03725869208574295, -0.06799834221601486, -1.5513890981674194, -0.26656585931777954, -0.09351091086864471, -0.06371159106492996, -2.9898033142089844, 0.31864213943481445, 0.10640526562929153, -0.04877201095223427, -0.17926184833049774, 0.36935773491859436, -0.06999862939119339, -0.3417999744415283, 0.00646683806553483, -0.4843231439590454, -0.1640813946723938, -0.7709593772888184, 0.09491553157567978, -0.026272151619195938, -0.04223207011818886, -0.2634858787059784, 0.048238933086395264, -0.1394716054201126, -0.3516320586204529, -0.13357652723789215, 0.20198920369148254, -0.16854484379291534, 0.22711871564388275, -0.13976095616817474, 0.2929988503456116, 0.031659141182899475, 0.2095383107662201, 0.17721349000930786, 3.935521125793457, 0.25607603788375854, -0.29014673829078674, 0.2490437626838684, -0.21444888412952423, -0.0988909974694252, 0.16476881504058838, -0.48018011450767517, 0.22456490993499756, 0.3117748498916626, 0.21295541524887085, -0.10016056150197983, 0.11329887062311172, -0.6337602734565735, -0.12115011364221573, -0.3281489908695221, 0.028912004083395004, 0.002884060610085726, 0.3086246848106384, -0.6026556491851807, -0.04505939409136772, 0.11240899562835693, 0.16296029090881348, -0.06292321532964706, -0.05188770219683647, -0.1748145967721939, -0.11679401993751526, -0.32128870487213135, 0.7144716382026672, 0.3452744781970978, -1.0187106132507324, 0.11596331745386124, 0.1306687444448471, -0.21632415056228638, -0.14685337245464325, 0.0161247868090868, -0.057238295674324036, -0.02343858778476715, -0.23936252295970917, -0.07063055783510208, -0.00674794428050518, -0.32287338376045227, -0.09286973625421524, -0.6541711688041687, -0.14669865369796753, 0.04622744396328926, -0.037581201642751694, -0.11212603002786636, 0.21824109554290771, -0.04222205653786659, 0.037094973027706146, -0.2699664831161499, -0.06745203584432602, -0.303216814994812, 0.30130109190940857, 0.4075333774089813, 0.17788371443748474, 0.17888589203357697, -0.1612609326839447, -0.07950085401535034, -0.11769711971282959, 0.24555091559886932, -0.04858911782503128, -0.0830516666173935, 0.22869335114955902, -0.13646075129508972, 0.010310515761375427, -0.1393778771162033, -0.3767414689064026, 0.1473299115896225, -0.06506063044071198, -0.20359545946121216, -2.1202311515808105, 0.2510657012462616, 0.22820188105106354, -0.22833968698978424, 0.013893773779273033, -0.1720850020647049, -0.19822555780410767, 0.12166108191013336, 0.4159238338470459, 0.1454409658908844, -0.1338435858488083, 0.25412091612815857, 0.09422217309474945, -0.5841503143310547, 0.2295607477426529, 0.17608138918876648, 0.616080105304718, 0.1299029439687729, -0.5071067810058594, -0.3636375367641449, -0.028803763911128044, -0.09568542242050171, -0.07159072160720825, -0.09780151396989822, 0.07598766684532166, 0.03670823201537132, -0.332518994808197, 0.08052323758602142, -0.08693745732307434, 0.30998024344444275, -0.14323173463344574, 0.05879634991288185, -0.259925901889801, -0.09373543411493301, 0.08255144953727722, -0.02372734062373638, 0.02387150377035141, 0.17628410458564758, -0.2609197497367859, -0.1428404003381729, 0.19624465703964233, -0.06468309462070465, 0.058924600481987, -0.06732943654060364, -0.07504747807979584, -0.04790272191166878, -0.2605258822441101, -1.649921178817749, -0.12342087924480438, 0.13383719325065613, -0.26904425024986267, -0.07150828838348389, 0.13562805950641632, 0.2563971281051636, 0.09679736942052841, 0.09079016745090485, 0.2622062563896179, 0.176643967628479, 0.24308544397354126, 0.12137795239686966, 0.03728344663977623, 0.003790886141359806, -0.032266948372125626, 0.03253231570124626, 0.32158902287483215, -0.24881674349308014, -0.08617042005062103, 0.06450177729129791, 0.10693830996751785, -0.45782706141471863, -0.1968182623386383, 0.046167679131031036, -0.42690032720565796, -0.02550940401852131, -0.18240995705127716, -0.013781043700873852, -0.11961641162633896, -0.16590864956378937, 5.3202924728393555, -0.40599820017814636, 0.39660385251045227, 0.03686126321554184, 0.05098031461238861, -0.18899095058441162, 0.27972161769866943, -0.2741408050060272, 0.6673859357833862, 0.03212783858180046, -0.24899613857269287, -0.296048104763031, 0.15375539660453796, -0.03328993543982506, -0.2983672618865967, 0.32329249382019043, -0.08148763328790665, -0.05914943292737007, -0.17904974520206451, -0.16565808653831482, -0.03866944462060928, -0.03196186199784279, 0.19609583914279938, -0.36278653144836426, 0.10975631326436996, 0.18126308917999268, -0.10269375890493393, -0.15232567489147186, -0.04269308224320412, -0.08250091969966888, -0.46922990679740906, 0.09620742499828339, 0.19185800850391388, 0.18871748447418213, -0.13105735182762146, -0.2158103585243225, 0.34610122442245483, -0.0023710685782134533, 0.2810252606868744, 0.13802868127822876, 0.30100321769714355, 0.21981856226921082, 0.9717279076576233, 0.06401565670967102, 0.3432610034942627, 0.23469579219818115, -0.04718921706080437, -0.21049296855926514, 0.47278115153312683, 0.16414502263069153, 0.04258459433913231, 0.09069040417671204, 0.35593822598457336, -0.34093090891838074, 0.27549442648887634, -0.07977858930826187, 0.07589096575975418, 0.023169269785284996, -0.07801666110754013, -0.0012548648519441485, -0.20304103195667267, -0.18323595821857452, -0.08107367157936096, -0.1472609043121338, 0.11781659722328186, -0.01643797568976879, 0.2454160749912262, -0.11809852719306946, -0.25304651260375977, -0.16433735191822052, -0.38963553309440613, 0.0617809072136879, -0.34749332070350647, 0.20555506646633148, 0.15500405430793762, 0.06878796219825745, -0.5536637902259827, 0.030795851722359657, 0.16926853358745575, -0.15101130306720734, -0.26684993505477905, -0.011334276758134365, -0.06622209399938583, -0.28316155076026917, 0.12396802753210068, 0.12402236461639404, -0.5358695983886719, -0.3619190454483032, -0.12046489864587784, 0.1951199173927307, 0.20019325613975525, -0.2372458428144455, 0.038726478815078735, -0.2218191921710968, -0.12053190916776657, 0.16942153871059418, -0.1519629955291748, 0.054904673248529434, -0.1950015127658844, 0.3227195739746094, 0.4397093951702118, 0.14661486446857452, 0.02167733758687973, 0.030410228297114372, -0.116659015417099, 0.058634109795093536, -0.3633597791194916, 0.01797204650938511, -0.36730965971946716, 0.02580145187675953, 0.3464232087135315, 0.23251000046730042, 0.3446981608867645, 0.10391952842473984, -0.2212226241827011, 0.1876462697982788, -0.0015860835555940866, -0.46606624126434326, -6.762447357177734, 0.16006003320217133, 0.041688594967126846, 0.09754939377307892, -0.29117727279663086, -0.32051241397857666, 0.16901831328868866, 0.05312184989452362, 0.11942318081855774, 0.047260526567697525, -0.36559075117111206, -0.12451226264238358, -2.108227252960205, 0.15743178129196167, -0.013711079955101013, 0.08931513130664825, 0.028685200959444046, -0.6845476627349854, -0.13461507856845856, 0.24940146505832672, -0.3084806501865387, 0.17532065510749817, 0.2570134401321411, 0.3453851640224457, 0.3051826059818268, 0.0928323045372963, 0.14020319283008575, 0.088518425822258, 0.04313554987311363, -0.146724671125412, 0.026372890919446945, -0.1263316571712494, 0.49097076058387756, -0.11076477915048599, -0.020412053912878036, -0.2244112193584442, 0.12223630398511887, -0.12787388265132904, 0.3222362697124481, -0.24403931200504303, 0.10179461538791656, 0.13166196644306183, -0.017238223925232887, 0.1901458501815796, -0.633516788482666, -0.4176422655582428, -0.3747740089893341, -2.482271194458008, 0.07614870369434357, -0.04403765872120857, 0.35693496465682983, 0.03105517104268074, -0.26142609119415283, -0.0873689204454422, -0.32381314039230347, 0.14590594172477722, 0.05927683040499687, -0.29478710889816284, 0.20390604436397552, 0.007052131462842226, -0.2533380687236786, -0.17120668292045593, 0.16226179897785187, 0.1314515471458435, -0.1106191948056221, 0.12943625450134277, -0.34014058113098145, -0.12405099719762802, -0.20834438502788544, -0.23520489037036896, -0.1615513265132904, -0.0739157497882843, -0.3710010051727295, 0.16858793795108795, 0.20758208632469177, 0.2512231469154358, -0.2514537274837494, 0.037177860736846924, -0.08747569471597672, 0.02131427824497223, -0.28309524059295654, -0.12288380414247513, 0.19909542798995972, 0.21975752711296082, -0.017180519178509712, 0.0287923626601696, -0.012154670432209969, 0.2784765958786011, -0.06891254335641861, 0.07343100756406784, 0.0893850028514862, 0.11792182922363281, -0.14041444659233093, -0.08740470558404922, -0.10125737637281418, 0.17807288467884064, -0.09981309622526169, 0.2712976634502411, -0.3731158375740051, -0.19162853062152863, -0.05543733388185501, -0.07324808090925217, 0.026851387694478035, -0.4089146852493286, 0.08541911095380783, 0.04059161990880966, 2.5461313724517822, 0.11344345659017563, 0.017464710399508476, -0.0460030622780323, 0.23652519285678864, 0.177691251039505, -0.034942250698804855, 0.14084769785404205, 1.8469005823135376, -0.1432032734155655, -0.006621289066970348, -0.020538313314318657, -0.09633170813322067, 0.03535287827253342, 0.061050496995449066, 0.5036689043045044, -0.07669902592897415, 0.087934210896492, -0.12804672122001648, -0.0032744845375418663, 0.2514764070510864, -0.36954134702682495, 0.29693037271499634, -0.14011834561824799, 0.01646992191672325, -0.15092234313488007, -0.07568401843309402, -0.3084881603717804, 0.15616190433502197, -0.4762154817581177, -0.048913806676864624, 0.2520805597305298, -0.023442914709448814, 1.0793920755386353, 0.038161274045705795, 0.15887130796909332, 0.31911978125572205, 0.056379012763500214, -0.08934176713228226, -0.1711527556180954, -0.17320632934570312, -0.1197255328297615, -0.5458168387413025, 0.483032763004303, -0.18618300557136536, 0.05224571004509926, -0.15025334060192108, -0.2981490194797516, -0.10069430619478226, 0.04088946431875229, -0.04369768872857094, -0.4027251601219177, -0.054952170699834824, 0.21860744059085846, 0.13343097269535065, -0.026023365557193756, -0.6957510113716125, -0.09413041919469833, 0.1847998946905136, -0.044463127851486206, -0.018214015290141106, 0.32496529817581177, -0.21447737514972687, -0.07579468190670013, -0.1400853842496872, -0.08568444103002548, 0.280724436044693, -0.32766926288604736, -0.1798037737607956, -0.361111581325531, -0.09627096354961395, 0.2481752336025238, -2.4010274410247803, -0.1876715123653412, -0.11756961047649384, -0.43930506706237793, -0.5123299360275269, -0.19772762060165405, 0.17447510361671448, 0.06809956580400467, 0.00023066348512656987, 0.2959710955619812, -0.14655396342277527, 1.9510115385055542, -0.26164209842681885, -0.10157206654548645, -0.18914856016635895, -0.2609066069126129, 0.12158027291297913, -0.00470420578494668, -0.19820982217788696, -0.4573025703430176, -0.03141186758875847, 1.5827313661575317, 0.23782256245613098, 0.2474748194217682, 0.5014286637306213, -0.24083562195301056, 0.055540330708026886, 0.035065654665231705, 0.026920875534415245, -0.09439288079738617, -0.08262118697166443, -0.1333182007074356, -0.1136942133307457]\n",
            "Word 1 --> Embedding [-0.10998474061489105, -0.33142420649528503, 0.1734708845615387, -0.05309842899441719, -0.06954023987054825, 0.12371432036161423, 0.32168999314308167, -0.032586585730314255, -0.03923679515719414, 0.14668984711170197, 0.5215024948120117, 0.08870863914489746, 0.15050797164440155, 0.3305102586746216, -0.05105011165142059, 0.6153252720832825, -0.1757945567369461, -0.0382671058177948, -0.11434736847877502, -0.22966060042381287, 0.02496352605521679, -0.08588706701993942, -0.27019423246383667, -0.2338194102048874, 0.08395261317491531, -0.5158079266548157, 0.21066971123218536, 0.201982781291008, -0.05757836252450943, 0.24015505611896515, -0.07056259363889694, 0.2556729018688202, 0.051302310079336166, -0.018165554851293564, -0.1569673866033554, 0.1336483657360077, 0.3356335461139679, -0.10422327369451523, 0.11221753060817719, 0.28943219780921936, 0.4624388515949249, 0.024072572588920593, -0.16889140009880066, -0.05935866758227348, 0.2312406748533249, -0.15424507856369019, 0.52076256275177, 0.17322103679180145, -0.30575108528137207, -0.3583471477031708, 0.19345854222774506, 0.02693818137049675, -0.20637358725070953, -0.08808070421218872, 0.3256850242614746, -0.11562269926071167, -0.18127426505088806, 0.27412348985671997, 0.20631520450115204, 0.3036726117134094, -0.06187371537089348, 0.2851475775241852, 0.0460946299135685, -0.21787112951278687, 0.02239867113530636, 0.4234497845172882, 0.5227398872375488, 0.07531213760375977, 0.06456093490123749, 0.2642527222633362, -0.35903555154800415, 0.3231505751609802, 0.3333030641078949, -0.05885905772447586, 0.09116321057081223, -0.3413914740085602, 0.2386336624622345, -0.004167784936726093, 0.07574266940355301, -0.16749659180641174, -0.03481177240610123, -0.2732606828212738, 0.12580707669258118, 0.37891802191734314, -0.05995453894138336, -0.3280899226665497, -0.29562532901763916, -0.3037530779838562, 0.015582624822854996, -0.16515274345874786, -0.20682293176651, -0.1056082546710968, 0.24994361400604248, -0.24222975969314575, 0.3163186013698578, 0.03784910961985588, 0.14485986530780792, -0.1879701316356659, -0.5077065825462341, 0.06066872924566269, -0.05298226699233055, 0.030290158465504646, -0.27904844284057617, 0.28997260332107544, 0.39415380358695984, 0.15370714664459229, -0.0626981258392334, -0.022815601900219917, 0.25510314106941223, 0.13695146143436432, 0.2112475037574768, 0.12068147212266922, 0.1624239981174469, -0.5300852060317993, 0.15962724387645721, 0.014514034613966942, -0.025836031883955002, 0.2649177312850952, 0.3498125672340393, -0.03884277492761612, -0.2002989500761032, 0.10693199932575226, -0.13874517381191254, 0.1425553858280182, 0.2543087303638458, 0.29137933254241943, 0.08213548362255096, -0.0052832355722785, 0.3021461069583893, -0.08936858177185059, -0.3135470449924469, -0.11038797348737717, 0.24724623560905457, -0.1644703894853592, -0.18389414250850677, 0.4461202025413513, -0.12122685462236404, 0.09577276557683945, -0.6100755929946899, -0.21350249648094177, -0.11585565656423569, -0.20111803710460663, 0.18357913196086884, -0.03315717354416847, 0.23170964419841766, -0.01194698829203844, 0.06176174059510231, 0.10615532845258713, -0.16899541020393372, 0.673524796962738, -0.082954540848732, 0.03822127357125282, 0.16782474517822266, -0.13105462491512299, -0.12043491750955582, -0.30036166310310364, 0.08483471721410751, 0.4326833188533783, -0.1553274244070053, 0.26388049125671387, -0.03981592133641243, -0.17670544981956482, 0.015877200290560722, 0.17391134798526764, -0.4029201865196228, -0.11719125509262085, -0.46865442395210266, 0.25602927803993225, 0.014189341105520725, 0.6148748397827148, -0.0025798336137086153, 0.2402375340461731, -0.26718199253082275, -0.19107232987880707, -0.012610765174031258, -0.10587716102600098, 0.41034987568855286, -0.044141363352537155, 0.5590654611587524, 0.03209841251373291, -0.21920286118984222, 0.19043733179569244, 0.20767584443092346, 0.3367295563220978, -0.11084369570016861, -0.1854190230369568, 0.4581916928291321, 0.2719259560108185, 0.03922726958990097, -0.12519021332263947, 0.0705992802977562, 0.1461157649755478, -0.031134052202105522, 0.30496644973754883, -0.10473502427339554, -0.46986645460128784, 0.05010132119059563, 0.055565766990184784, 0.08637594431638718, -0.08229908347129822, 0.06562397629022598, 0.41247907280921936, -0.2797296643257141, -0.02473359741270542, 0.16598889231681824, 0.2692856192588806, 0.39049965143203735, -0.26153868436813354, -0.26273012161254883, -0.1584712415933609, -0.25081729888916016, -0.16416305303573608, 0.18852919340133667, 0.2717696726322174, 0.05531273037195206, -0.048907067626714706, -0.22893886268138885, 0.08955767750740051, 0.13489003479480743, -0.2740684449672699, 0.5617131590843201, -0.30274632573127747, 0.1770022213459015, 0.22388193011283875, 0.03446556627750397, -0.5197386741638184, 0.04203762859106064, 0.18536776304244995, 0.24271632730960846, 0.06944625079631805, -0.0006775273941457272, 0.13660722970962524, 0.1849280744791031, -0.07770524173974991, -0.11347872763872147, -0.1057959794998169, -0.6625973582267761, 0.0824718326330185, -0.021788548678159714, -0.020805008709430695, -0.32212239503860474, 0.0559346042573452, -0.053766004741191864, -0.047907210886478424, 0.055271800607442856, -0.215129092335701, -0.23742496967315674, 0.3281254470348358, 0.663741409778595, -0.07000691443681717, 0.5234825611114502, -0.019172215834259987, -0.34200507402420044, 0.009693999774754047, 0.28383544087409973, 0.30676060914993286, 0.11679301410913467, -0.04358913004398346, 0.037130557000637054, -0.378059059381485, -0.13062697649002075, 0.20412327349185944, -0.09768376499414444, -0.1681511253118515, 0.15965473651885986, 0.11051610112190247, 0.06902530044317245, -0.1704993098974228, -0.08664480596780777, -0.4510192275047302, -0.1390257477760315, -0.25070813298225403, 0.006761930417269468, 0.3137781620025635, -0.26215821504592896, -0.1306418925523758, 0.09159345179796219, 0.11470545828342438, 0.1914462447166443, -0.6631591320037842, 0.030460407957434654, 0.037423718720674515, -0.22302217781543732, 0.3078960180282593, -0.03576137125492096, -0.04280698299407959, 0.017278237268328667, 0.4414740204811096, 0.2267923802137375, -0.001862850273028016, -0.07115485519170761, 0.20288673043251038, -0.19822002947330475, 0.2091929167509079, 0.14561119675636292, 0.3484390079975128, -0.012201490812003613, 0.06164173781871796, -0.33989548683166504, -0.014298605732619762, 0.3167293965816498, -0.061203427612781525, 0.23288579285144806, 0.042871516197919846, 0.11295071244239807, -0.037171777337789536, -0.0970943495631218, 0.1667991429567337, 0.041250284761190414, -0.15296000242233276, -0.37756624817848206, 0.10399647057056427, -0.18200838565826416, -0.019436364993453026, 0.04432699456810951, -0.20463930070400238, 0.00552384415641427, 0.39881789684295654, 0.2163367122411728, -0.2553700804710388, -0.08245525509119034, 0.15198342502117157, -0.09816775470972061, -0.23203463852405548, -0.007873356342315674, -0.07807603478431702, 0.08034628629684448, -0.3771727979183197, 0.11201498657464981, -0.2556001842021942, -0.08558207750320435, -0.12728124856948853, -0.3724457323551178, 0.006027949042618275, -0.011395599693059921, -0.16036385297775269, -0.14281263947486877, -0.10743911564350128, -0.12070124596357346, 0.1373084932565689, -0.19737716019153595, 0.21793168783187866, -0.15913723409175873, 0.2426125407218933, 0.06759585440158844, 0.3277055025100708, -0.3315579295158386, 0.011442129500210285, -0.10180746763944626, -0.08792468905448914, 0.31142422556877136, -0.25560736656188965, -0.3796207904815674, 0.1025044322013855, 0.18236109614372253, -0.17311371862888336, -0.09825857728719711, 0.2251279503107071, 0.016637517139315605, -0.07413099706172943, 0.14125704765319824, -0.3067971467971802, 0.0775008350610733, 0.0921047106385231, 0.07283993065357208, 0.511841893196106, 0.09252510964870453, 0.04006659612059593, -0.07731923460960388, 0.08403830975294113, 0.22604705393314362, -0.22356881201267242, 0.1896769404411316, 0.797426164150238, -0.15600918233394623, 0.12914684414863586, 0.0054354434832930565, 0.03747811168432236, -0.11478013545274734, -0.39670008420944214, -0.23912639915943146, -0.1988276094198227, -0.265065997838974, 0.26189345121383667, -0.03683134540915489, 0.10929381102323532, 0.4151381552219391, -0.23283052444458008, 0.028829816728830338, 0.3723924160003662, -0.2504273056983948, 0.11836592108011246, -0.1754763126373291, -0.143400639295578, -0.04356475546956062, -0.35350650548934937, 0.08708617836236954, 0.1983482986688614, -0.3153388500213623, -0.43078574538230896, -0.39349955320358276, 0.15342436730861664, -0.23637254536151886, 0.2842458188533783, 0.015049535781145096, -0.40316686034202576, -0.24520321190357208, 0.17978575825691223, 0.0914028137922287, -0.125610813498497, 0.4046176075935364, -0.006062195636332035, 0.17563873529434204, -0.070447638630867, -0.18292538821697235, 0.049992043524980545, -0.0571940541267395, 0.5982983112335205, 0.047369182109832764, 0.3448387682437897, -0.10487174242734909, -0.30087313055992126, -0.032610468566417694, 0.28555673360824585, 0.23868969082832336, -0.07181185483932495, -0.44132906198501587, 0.2078714370727539, -0.1835990697145462, -0.26197633147239685, 0.28799763321876526, -0.2942942976951599, 0.005438314750790596, -0.3557240664958954, 0.3703785836696625, 0.24383197724819183, -0.3046906888484955, 0.05461934581398964, -0.20132899284362793, -0.23503591120243073, -0.2314876914024353, 0.25591185688972473, -0.34971511363983154, 0.345001220703125, 0.17670074105262756, 0.38999828696250916, 0.1554686576128006, 0.06391167640686035, 0.2721465826034546, -0.003133776132017374, -0.23720765113830566, -0.3943690359592438, -0.03937111049890518, -0.11943257600069046, 0.26415082812309265, 0.26914075016975403, 0.13166582584381104, 0.03203478455543518, -0.10061377286911011, 0.028520308434963226, 0.20497804880142212, 0.308960884809494, -0.0755591094493866, -0.2063826620578766, 0.047456808388233185, 0.116238534450531, -0.01856677606701851, 0.32074156403541565, -0.014598567970097065, 0.04548439010977745, 0.03354902192950249, 0.253915399312973, 0.4475598633289337, 0.3593518137931824, -0.10085073858499527, 0.4605408310890198, 0.004698492586612701, 0.3540622591972351, -0.1675889492034912, 0.16443045437335968, 0.2408779114484787, 0.2011004388332367, 0.05297299847006798, -0.0014568911865353584, 0.043176550418138504, -0.2832771837711334, 0.09482523798942566, -0.2306814044713974, -0.09225011616945267, 0.1429535299539566, -0.15564168989658356, 0.16196209192276, -0.3424094617366791, 0.27179592847824097, -0.028408152982592583, -0.25111305713653564, 0.004361563827842474, -0.10200224071741104, -0.09060916304588318, -0.22910377383232117, -0.01524084061384201, 0.07196011394262314, 0.007253542076796293, 0.22403377294540405, 0.030732102692127228, 0.3532417118549347, 0.06599989533424377, 0.17209666967391968, 0.3955661952495575, -0.6627879738807678, -0.024820290505886078, -0.05400950089097023, -0.2325470745563507, -0.10218467563390732, -0.17686283588409424, -0.2548081874847412, 0.11981390416622162, 0.039438292384147644, -0.09873500466346741, -0.012968113645911217, 0.01818835735321045, -0.29376789927482605, 0.06580449640750885, -0.10426227003335953, -0.057097021490335464, -0.5612044930458069, 0.07531310617923737, 0.19215057790279388, 0.1553710401058197, 0.2988963723182678, -0.4155805706977844, -0.36235901713371277, -0.04052461311221123, -0.14626674354076385, 0.13097921013832092, 0.10016407817602158, 0.21487146615982056, -0.05157458409667015, 0.15715210139751434, 0.31369566917419434, 0.32667839527130127, 0.011183315888047218, -0.2443118393421173, -0.1104782223701477, -0.1713535338640213, 0.1465674787759781, 0.10865078121423721, -0.11285354197025299, 0.4273028075695038, -0.14999498426914215, 0.41045844554901123, 0.4615408182144165, 0.03937305510044098, 0.03647759556770325, 0.49065208435058594, 0.3554793894290924, -0.1735675036907196, -9.305317878723145, 0.1155439093708992, -0.04398046433925629, -0.052445925772190094, -0.07318880409002304, 0.017471130937337875, 0.1393619030714035, -0.09258159250020981, -0.011014720425009727, 0.2583569884300232, -0.03276990354061127, -0.018731502816081047, 0.030278246849775314, -0.15320491790771484, 0.13389672338962555, -0.2671873867511749, 0.2177206426858902, 0.11165805906057358, 0.04848869889974594, 0.061037544161081314, -0.14126330614089966, 0.07936971634626389, 0.06862704455852509, 0.329298198223114, 0.14301906526088715, 0.43127912282943726, -0.1955481320619583, -0.2814154624938965, 0.001605690224096179, -0.38123205304145813, -0.19441336393356323, 0.10481023043394089, -0.06418832391500473, -0.01676647923886776, -0.18425744771957397, -0.3126146197319031, 0.2282286286354065, -0.23676857352256775, -0.13486704230308533, -0.20416097342967987, 0.6404905915260315, 0.38474735617637634, 0.16134724020957947, 0.23046541213989258, 0.018976625055074692, -0.05288328975439072, 0.4239657521247864, -0.11565437912940979, -0.2015635073184967, -0.18661682307720184, 0.33503714203834534, 0.24917174875736237, -0.4586959183216095, -0.0006636068574152887, -0.5188227295875549, 0.03259468823671341, -0.11591929942369461, -0.04046041890978813, -0.13765299320220947, 0.14400659501552582, 0.11064078658819199, -0.33439937233924866, -0.13449764251708984, -0.15993094444274902, -0.010265997610986233, 0.06977113336324692, -0.10077869892120361, -0.08147038519382477, -0.003298627445474267, 0.2108163982629776, -0.07353886216878891, 0.17705178260803223, -0.30912527441978455, -0.19609703123569489, 0.24511149525642395, -0.2700941562652588, 0.20619453489780426, -0.024796368554234505, 0.011365207843482494, 0.5002884268760681, -0.22240689396858215, -0.13924573361873627, 0.37502047419548035, -0.19645489752292633, -0.24225173890590668, 0.053272172808647156, -0.026588473469018936, 0.08244987577199936, 0.06488972902297974, 0.2197996824979782, 0.3454199433326721, 0.011398840695619583, -0.23125086724758148, -0.26225411891937256, -0.2066643238067627, 0.057164546102285385, 0.06041422486305237, 0.09060680866241455, -0.2361585944890976, -0.10854945331811905, 0.06844115257263184, 0.21037030220031738, -0.010758421383798122, -0.35174956917762756, 0.3837110996246338, 0.04873077571392059, -0.15207356214523315, -0.30826106667518616, 0.20831428468227386, -0.3018774092197418, 0.0993906781077385, -0.3099476993083954, -0.1544279009103775, 0.10412739962339401, -0.24654452502727509, -0.01414695754647255, 0.27475154399871826, -0.2896379232406616, -0.04164573550224304, -0.08840518444776535, 0.30202025175094604, -0.005258586257696152, 0.1308121383190155, 0.044234778732061386, 0.3108840584754944, 0.002790117170661688, -0.37833327054977417, 0.06053505092859268, -0.21187907457351685, -0.21631982922554016, 0.22378568351268768, 0.23769845068454742, 0.12749417126178741, -0.06909830868244171, 0.3650553822517395, -0.36476728320121765, -0.17298360168933868, -0.04695845767855644, 0.0678018182516098, -0.2923421859741211, 0.025518059730529785, -0.007595959585160017, -0.012614426203072071, 0.42641833424568176, 0.04023654758930206, 0.24310517311096191, -0.2705301344394684, -0.15450334548950195, -0.18102893233299255, 0.2884548604488373, 0.1658855378627777, 0.38022881746292114, 0.38563090562820435, -0.06375661492347717, -0.1390029788017273, 0.3320542573928833, 0.16593964397907257, -0.06069299206137657, 0.20312277972698212, -0.1401573121547699, 0.04046804457902908, 0.02021794766187668, 0.4835384488105774, 0.11184528470039368, 0.0007649771869182587, -0.2760472297668457, -0.0952313095331192, 0.061866890639066696, -0.04604828730225563, -0.525844931602478, -0.2693521976470947, 0.02324647456407547, 0.126861572265625, -0.2749176621437073, 0.14105826616287231, -0.1413291096687317, -0.13098715245723724, 0.09109852463006973, -0.12794122099876404, 0.08084168285131454, -0.3392797112464905, 0.009387107565999031, 0.14745177328586578, 0.23727527260780334, -0.17407472431659698, -0.17382918298244476, -0.17220641672611237, -0.0645281970500946, 0.3283856213092804, 0.034374382346868515, -0.22509931027889252, 0.0005385656259022653, -0.23700177669525146, -0.011443541385233402, -0.31202733516693115, 0.0069908020086586475, -0.5088176131248474, -0.012975695542991161, 0.14533576369285583, 0.14094465970993042, -0.16265447437763214, -0.05793404206633568, 0.8060117959976196, -0.2743362486362457, -0.1530340015888214, -0.26832136511802673, 0.21709361672401428, 0.14293360710144043, -0.3456273376941681, 0.0376216396689415, -0.1955309361219406]\n",
            "Word 2 --> Embedding [-0.0011092450004070997, -0.049794215708971024, 0.17496955394744873, 0.01542781013995409, -0.07817702740430832, -0.0669550821185112, 0.2542223036289215, 0.43784305453300476, -0.1331081986427307, 0.2495402693748474, 0.1354435533285141, 0.11918121576309204, -0.0856018140912056, 0.2527084946632385, 0.19074304401874542, 0.6343353390693665, -0.2730795741081238, 0.42119625210762024, -0.09035442769527435, -0.06828062236309052, -0.1509842872619629, -0.1592971235513687, -0.33487433195114136, -0.13384266197681427, 0.3268246054649353, -0.39284849166870117, 0.4281986355781555, 0.477556973695755, -0.27594417333602905, 0.04892199486494064, -0.2112451195716858, 0.4130956828594208, 0.14802511036396027, 0.16993004083633423, -0.226033553481102, -0.22069548070430756, 0.6019240617752075, -0.02459254488348961, 0.2271907925605774, 0.14642708003520966, -0.07106243818998337, 0.0791722759604454, -0.35940051078796387, 0.04968145489692688, 0.21544982492923737, 0.20906123518943787, 0.5015398859977722, 0.1857469081878662, 0.028322629630565643, 0.07299119979143143, 0.14099298417568207, -0.07655047625303268, -0.10205740481615067, 0.22855840623378754, -0.01757965050637722, 0.21344023942947388, -0.07003283500671387, 0.0019476577872410417, -0.1891508400440216, 0.7134254574775696, -0.09483812004327774, 0.19341328740119934, 0.22053906321525574, -0.27069318294525146, -0.09207893908023834, 0.28533512353897095, 0.5795324444770813, -0.04509413242340088, 0.11436351388692856, 0.3644952178001404, -0.45112985372543335, 0.05419624224305153, -0.11919807642698288, -0.09082773327827454, 0.00903285201638937, 0.053663961589336395, 0.1090473160147667, -0.15141363441944122, -0.15082573890686035, -0.2259238213300705, 0.12418435513973236, -0.5263423919677734, -0.03966057673096657, 0.2637788653373718, 0.046625420451164246, -0.3891541361808777, -0.2510296702384949, -0.1748870462179184, 0.020419728010892868, 0.09085987508296967, -0.27707046270370483, -0.09724375605583191, -0.013424218632280827, -0.2946951389312744, 0.116856649518013, 0.10829219967126846, 0.0498049221932888, -0.47084805369377136, -0.17875972390174866, -0.17507167160511017, -0.36323586106300354, 0.13490046560764313, -0.16019509732723236, 0.37986892461776733, 0.033553652465343475, -0.12214765697717667, -0.023170331493020058, -0.11952224373817444, 0.006556838750839233, 0.29417315125465393, 0.5515158176422119, 0.08105435967445374, -0.2582034468650818, -0.2098059207201004, -0.09694595634937286, -0.06674546003341675, 0.04737071692943573, -0.08710666745901108, -0.1706923395395279, -0.03750148415565491, 0.2227068990468979, 0.022719264030456543, 0.23872648179531097, 0.26989519596099854, 0.18327130377292633, 0.21406222879886627, 0.09044811129570007, -0.1293220967054367, 0.22766733169555664, 0.10591648519039154, -0.1919812262058258, -0.15358495712280273, 0.2705860137939453, 0.27726221084594727, 0.019963081926107407, 0.2417728751897812, -0.14232023060321808, 0.48654094338417053, -0.8221915364265442, -0.18691815435886383, -0.4771375358104706, -0.07913532108068466, 0.01810554414987564, -0.0017882047686725855, -0.10025400668382645, -0.2902615964412689, -0.21603316068649292, -0.14959362149238586, 0.03266305476427078, 0.21655036509037018, 0.1560811698436737, -0.1775006204843521, -0.0003293052432127297, 0.03231044113636017, 0.005966731812804937, -0.212666854262352, 0.18944011628627777, 0.19927068054676056, 0.17147816717624664, 0.11161314696073532, 0.03621617332100868, -0.4668015241622925, -0.002229750156402588, -0.0716378316283226, -0.10629771649837494, -0.06250593066215515, -0.13432946801185608, 0.1665201038122177, -0.059884656220674515, 0.5735435485839844, 0.09468381106853485, 0.2964920401573181, -0.22468221187591553, 0.016124989837408066, -0.36425289511680603, -0.17077532410621643, 0.15801142156124115, 0.12814565002918243, 0.41662293672561646, 0.09343951940536499, 0.15740783512592316, 0.07942958921194077, 0.05656115710735321, 0.23544645309448242, -0.251382976770401, -0.1098666563630104, 0.1700960248708725, 0.21935489773750305, -0.07591614127159119, 0.008178690448403358, -0.03279409930109978, 0.03557330369949341, -0.3247917890548706, 0.30427101254463196, 0.2538702189922333, -0.5844917893409729, -0.15066738426685333, -0.002266007475554943, 0.05443036928772926, -0.04338691011071205, -0.09652634710073471, 0.15131185948848724, 0.0358901210129261, 0.010789896361529827, 0.5287512540817261, -0.23052659630775452, 0.11437608301639557, -0.17659521102905273, -0.23819951713085175, 0.08121444284915924, -0.12258022278547287, -0.17800335586071014, 0.42870593070983887, 0.11361723393201828, 0.40220165252685547, -0.2928221523761749, -0.08022891730070114, 0.1323000192642212, 0.14456310868263245, -0.13657869398593903, 0.037963204085826874, 0.24363277852535248, 0.34606027603149414, 0.5363922715187073, 0.13829608261585236, -0.19156119227409363, -0.14329451322555542, -0.004938152153044939, 0.19074097275733948, 0.017338329926133156, 0.0892014354467392, -0.005923714488744736, 0.23423337936401367, 0.1219308003783226, 0.3336033225059509, -0.2538584768772125, -0.3752593398094177, 0.08909329771995544, -0.3364018499851227, -0.007355038542300463, -0.22800828516483307, 0.13262447714805603, -0.24156644940376282, 0.17007187008857727, 0.03779857978224754, -0.07434141635894775, -0.18422582745552063, 0.12934958934783936, 0.42614343762397766, 0.11118552088737488, 0.21872445940971375, 0.08104988932609558, -0.07961952686309814, 0.018492480739951134, -0.035602256655693054, 0.11759060621261597, -0.14354489743709564, -0.012361460365355015, 0.09845378249883652, -0.38348424434661865, 0.1276565045118332, 0.03274640068411827, -0.035354893654584885, -0.24147112667560577, -0.10464293509721756, -0.36915597319602966, 0.06251432001590729, 0.05275841802358627, 0.2298847883939743, -0.1991334855556488, 0.09040072560310364, -0.19540920853614807, -0.2808699905872345, 0.06065160036087036, 0.11189661175012589, -0.0013271430507302284, 0.05883762240409851, 0.20498476922512054, 0.0021611927077174187, -0.42828652262687683, 0.337885320186615, 0.054945122450590134, -0.11002834141254425, -0.02345714531838894, -0.2699952721595764, -0.25536635518074036, 0.1342976689338684, -0.007946020923554897, -0.07056078314781189, -0.11981963366270065, 0.0017535868100821972, -0.1272146850824356, -0.3819473087787628, -0.03496278449892998, 0.04364854097366333, 0.09077821671962738, -0.23161680996418, 0.23817148804664612, -0.1351538896560669, 0.04480760917067528, 0.14593248069286346, 0.037392158061265945, 0.1948685497045517, -0.09015021473169327, 0.00034062907798215747, 0.16237777471542358, 0.06274158507585526, 0.24720771610736847, 0.052207089960575104, -0.0725097730755806, -0.425644189119339, -0.006070785690099001, -0.22108419239521027, -0.07059647142887115, -0.04324222356081009, -0.15051411092281342, 0.038551997393369675, 0.4049435257911682, 0.2480868548154831, -0.23748457431793213, 0.20997461676597595, 0.21169878542423248, -0.16760095953941345, -0.40579813718795776, -0.02610127255320549, -0.08131508529186249, 0.01077035441994667, -0.1697915643453598, -0.05830609053373337, -0.1812419444322586, 0.05543225258588791, 0.10435417294502258, -0.27550995349884033, -0.12014812231063843, 0.1584615707397461, -0.17539070546627045, 0.1780967265367508, -0.13055062294006348, 0.059319451451301575, 0.13343803584575653, -0.011129097081720829, 0.22255538403987885, -0.06027749180793762, 0.2986743748188019, 0.1576433926820755, 0.3171137273311615, -0.28632378578186035, -0.010157872922718525, -0.20159663259983063, -0.21897953748703003, 0.2857310175895691, -0.17132560908794403, -0.43628939986228943, 0.23767192661762238, 0.14228405058383942, 0.1447651982307434, -0.31865090131759644, -0.035678062587976456, -0.12340924888849258, 0.07808861136436462, -0.1792955994606018, -0.16025370359420776, 0.1501653641462326, 0.2781357169151306, 0.25094279646873474, 0.2965174913406372, -0.13297034800052643, 0.03605760633945465, -0.2124614715576172, 0.10085082054138184, -0.19859451055526733, -0.44749709963798523, 0.17302252352237701, 0.34147125482559204, -0.14773444831371307, 0.3697296380996704, 0.11719194054603577, 0.014116458594799042, -0.025803381577134132, -0.2247234731912613, 0.07089591026306152, -0.09019821882247925, -0.15004941821098328, 0.23140737414360046, -0.0650140568614006, -0.09688886255025864, 0.2954898476600647, -0.4116738736629486, 0.4238708019256592, 0.10902595520019531, -0.12804701924324036, 0.031156247481703758, 0.1662793606519699, 0.10642358660697937, -0.27360454201698303, -0.08464927971363068, 0.03209219500422478, -0.06156652420759201, -0.24541743099689484, -0.20528313517570496, -0.06937798112630844, 0.23492632806301117, 0.05953335762023926, 0.2488785684108734, -0.08204648643732071, -0.05303679779171944, 0.0008010281599126756, 0.005525232292711735, 0.06431405246257782, 0.1300961673259735, 0.2973669469356537, -0.49178966879844666, 0.005416898988187313, -0.09207797050476074, 0.13102443516254425, -0.016619758680462837, -0.14385206997394562, 0.6417708396911621, 0.17566059529781342, 0.17667970061302185, -0.35230308771133423, -0.16104742884635925, 0.12836235761642456, 0.3028327524662018, 0.11372361332178116, 0.25595948100090027, -0.46236738562583923, 0.37302258610725403, -0.37689703702926636, -0.2290726900100708, 0.06772223114967346, -0.320485383272171, 0.036122940480709076, -0.3328472971916199, 0.15812022984027863, 0.35067617893218994, -0.1680171638727188, -0.21925613284111023, -0.12618030607700348, -0.14127427339553833, -0.31614983081817627, 0.19746072590351105, -0.006326364818960428, 0.34551891684532166, -0.12589015066623688, 0.3104771077632904, 0.05590485781431198, 0.02293587103486061, 0.3259977400302887, 0.41344207525253296, -0.28657984733581543, -0.06626510620117188, 0.17716547846794128, 0.3034657835960388, 0.46177253127098083, -0.10032349824905396, 0.1618504375219345, -0.2065725177526474, -0.12904492020606995, 0.12702058255672455, 0.16425149142742157, 0.11124935001134872, -0.18333610892295837, -0.27419617772102356, 0.2959333062171936, 0.05315687507390976, -0.07060886174440384, 0.4761480391025543, 0.2820000648498535, -0.25514477491378784, 0.14345672726631165, 0.3246883749961853, 0.30315354466438293, 0.141404926776886, 0.05679171904921532, 0.6376618146896362, -0.2679508328437805, 0.30406272411346436, 0.02397715300321579, -0.038499049842357635, 0.12418042123317719, -0.2123163491487503, 0.1791338175535202, 0.20748412609100342, 0.2776598632335663, -0.260912150144577, 0.052771035581827164, 0.07116392254829407, -0.07025928795337677, 0.2475525438785553, -0.16010986268520355, -0.27479812502861023, -0.27969154715538025, -0.09437466412782669, 0.17549343407154083, 0.08820143342018127, 0.22048431634902954, 0.08043982833623886, -0.2510826289653778, -0.2382570505142212, -0.1904195249080658, 0.26188284158706665, 0.03767988830804825, 0.10583478957414627, 0.014441054314374924, 0.7314244508743286, -0.13750942051410675, 0.31922975182533264, 0.26676926016807556, -0.5732147097587585, 0.014096741564571857, -0.21470430493354797, -0.1056179478764534, 0.08160246908664703, -0.14330561459064484, -0.2248745858669281, -0.18037211894989014, 0.44147899746894836, -0.2156820446252823, -0.10097090154886246, -0.21876731514930725, -0.18471574783325195, 0.08439307659864426, -0.13875682651996613, -0.07211022078990936, -0.2669314444065094, -0.007960562594234943, 0.3558432161808014, 0.34812426567077637, 0.11252432316541672, -0.2885146141052246, -0.4050157368183136, -0.031789906322956085, -0.25694650411605835, 0.28027763962745667, 0.10203324258327484, 0.20265625417232513, -0.0011415142798796296, 0.2585054636001587, 0.21658962965011597, 0.15909311175346375, -0.010930411517620087, -0.2060316950082779, -0.285281777381897, -0.07247564941644669, -0.1435302197933197, -0.13135768473148346, -0.23620674014091492, 0.4352997839450836, -0.01668730191886425, 0.2500605285167694, 0.33599868416786194, -0.014718832448124886, -0.11082515120506287, 0.4230532646179199, -0.03300405293703079, -0.45532476902008057, -9.310831069946289, -0.10587138682603836, 0.16728763282299042, 0.06255462765693665, -0.03685665503144264, -0.13347689807415009, 0.18826308846473694, -0.43612179160118103, 0.11929884552955627, 0.08139298111200333, -0.19391591846942902, 0.10867048054933548, 0.051837097853422165, -0.15390872955322266, 0.0343155674636364, -0.18110279738903046, 0.23120273649692535, 0.08078557252883911, -0.007731087971478701, 0.05231497064232826, 0.20885063707828522, 0.0942528247833252, 0.18299120664596558, 0.24955128133296967, 0.2346004843711853, 0.2024085819721222, -0.09688750654459, -0.24223342537879944, 0.21298924088478088, -0.2962295711040497, -5.758400948252529e-05, 0.04260896518826485, 0.007631578017026186, -0.023854315280914307, 0.14045609533786774, -0.4251619875431061, -0.09520351886749268, -0.12443006783723831, 0.20186670124530792, -0.16593387722969055, 0.10597459226846695, 0.22331024706363678, -0.17123772203922272, -0.03563356399536133, 0.20346349477767944, -0.28277990221977234, 0.2151585966348648, -0.13308624923229218, 0.19748665392398834, 0.08825752139091492, 0.6341565251350403, -0.04760771617293358, -0.5337530374526978, 0.09720713645219803, -0.5827416181564331, -0.008163764141499996, -0.0444517619907856, 0.13128910958766937, -0.6568324565887451, 0.09361818432807922, 0.20282715559005737, -0.0023788735270500183, -0.07412832975387573, 0.1830788105726242, 0.12538139522075653, 0.22174113988876343, -0.3411634862422943, -0.24887791275978088, 0.14600783586502075, -0.2088087946176529, -0.25709670782089233, -0.11113183200359344, -0.2872069478034973, 0.06165812537074089, 0.3333871066570282, -0.3131743371486664, 0.35441675782203674, 0.2549717128276825, 0.057748157531023026, 0.5081936120986938, -0.1226954311132431, -0.036062296479940414, 0.08991381525993347, 0.04213002324104309, -0.1767122596502304, 0.4822854995727539, -0.17206905782222748, 0.14858590066432953, 0.06332427263259888, 0.08076676726341248, -0.01910502091050148, 0.20166169106960297, -0.2255273461341858, -0.006535704713314772, -0.3089946508407593, 0.24600492417812347, -0.06042565405368805, 0.3339717388153076, -0.38312873244285583, 0.15575869381427765, -0.12080413848161697, 0.2555050551891327, 0.2220582813024521, -0.40093761682510376, 0.4320874512195587, 0.01673838496208191, 0.2834118604660034, -0.2928130328655243, 0.22204621136188507, -0.21700769662857056, 0.14940613508224487, -0.21054382622241974, 0.21337890625, 0.047355521470308304, -0.4558980464935303, -0.31818464398384094, 0.20306076109409332, -0.19895081222057343, 0.13414521515369415, 0.2464045286178589, 0.06740619242191315, 0.016499077901244164, 0.26014581322669983, -0.06560434401035309, -0.06950322538614273, 0.31513479351997375, -0.23372747004032135, 0.18452616035938263, 0.09647732973098755, -0.10936111211776733, 0.11889970302581787, 0.10559555143117905, 0.13834333419799805, -0.0995960682630539, 0.27189913392066956, -0.1618015468120575, -0.37240806221961975, 0.18501928448677063, -0.05499904975295067, -0.0009808436734601855, 0.18443797528743744, -0.08965843170881271, 0.216852068901062, 0.43757668137550354, 0.12397466599941254, 0.1962827891111374, -0.16778941452503204, -0.2055046111345291, -0.025468474254012108, -0.0684141293168068, -0.3225118815898895, 0.4595012366771698, 0.28108564019203186, 0.1876470297574997, -0.3978492021560669, 0.5156583189964294, 0.13640327751636505, -0.10139194130897522, -0.13385915756225586, -0.3565361797809601, 0.1585340052843094, 0.055246274918317795, 0.1857677847146988, 0.09456659853458405, 0.07497014850378036, -0.20922085642814636, -0.0941716805100441, 0.5150665044784546, -0.11284015327692032, -0.09471141546964645, -0.5506564378738403, -0.292357861995697, 0.2723187208175659, -0.4526878595352173, -0.09874939918518066, -0.10484076291322708, -0.24550288915634155, 0.2452016919851303, 0.1673475056886673, 0.05624930560588837, -0.3398309051990509, -0.060057781636714935, -0.17384903132915497, 0.0695369765162468, 0.038497839123010635, -0.11590839922428131, -0.29535752534866333, -0.11126641929149628, 0.09122712910175323, 0.2530798316001892, -0.179859921336174, -0.1279437243938446, 0.16691650450229645, 0.12455734610557556, -0.149166539311409, -0.231414332985878, -0.578320324420929, -0.08697915077209473, -0.091497503221035, 0.10443350672721863, -0.1501915156841278, -0.09743370115756989, 0.5666713118553162, -0.3355374038219452, -0.1574428826570511, -0.21315063536167145, 0.13188280165195465, -0.1147441565990448, 0.13142333924770355, 0.29516419768333435, -0.24187101423740387]\n",
            "Word 3 --> Embedding [0.37928226590156555, -0.18511220812797546, -0.08071262389421463, 0.1708262413740158, 0.2141835242509842, -0.32656624913215637, 0.4436526894569397, -0.2434597909450531, -0.15807968378067017, -0.4387343227863312, 0.013409310020506382, 1.1401077508926392, 0.07058127224445343, 0.3352513909339905, 0.07713261991739273, 0.02316407673060894, -0.2213762253522873, 0.05634265020489693, 0.06277429312467575, 0.09640269726514816, -0.1841283142566681, -0.38450634479522705, -0.24779677391052246, 0.0444374606013298, 0.16479645669460297, -0.28061264753341675, 0.18062733113765717, 0.8685852885246277, 0.0015114734414964914, 0.5454890131950378, -0.0953381210565567, 0.1738351434469223, 0.14846879243850708, 0.09550884366035461, 0.20122982561588287, -0.04354102537035942, 0.16604024171829224, -0.1536388397216797, 0.5423964858055115, 0.5260871052742004, 0.29019808769226074, 0.07394547015428543, -0.389090359210968, 0.33920979499816895, 0.6409944295883179, 0.15124955773353577, 0.5782787203788757, 0.3582489788532257, -0.31042957305908203, 0.0981849879026413, 0.07715465128421783, -0.3678041696548462, 0.18343648314476013, -0.38163524866104126, 0.40693268179893494, -0.15963084995746613, 0.0827224999666214, -0.06487969309091568, 0.22523468732833862, 0.9096490740776062, -0.3378961682319641, -0.32843345403671265, 0.25891122221946716, 0.04847992584109306, -0.34863731265068054, 0.3878350257873535, 0.49822962284088135, -0.3473930358886719, 0.23454251885414124, -0.034426670521497726, -0.1193685531616211, -0.020681653171777725, -0.12806980311870575, -0.20426428318023682, -0.17899522185325623, -0.9052345752716064, 0.47814708948135376, -0.3669082224369049, -0.2233719676733017, -0.7072177529335022, 0.1519022136926651, -0.06821365654468536, -0.6320116519927979, 1.0889438390731812, 0.20582012832164764, 0.13146571815013885, -0.2845776081085205, 0.7870078086853027, 0.08531627058982849, 0.3936845362186432, -0.341422975063324, -0.6241432428359985, 0.6164218187332153, -0.43038731813430786, 0.3349948525428772, 0.1653057336807251, -0.2544228136539459, -0.13515017926692963, -0.28870534896850586, -0.4468739926815033, 0.09244238585233688, 0.14614006876945496, -0.22867925465106964, 0.09589345753192902, -0.00589973758906126, -0.16876672208309174, 0.4862358868122101, -0.11599832028150558, 0.2244657278060913, 0.5952488780021667, 0.21836304664611816, 0.07707604020833969, 0.11770210415124893, -0.6302158236503601, -0.37171444296836853, -0.06659445911645889, 0.09455911070108414, 0.033950284123420715, 0.23895062506198883, -0.0277094803750515, 0.09200931340456009, 0.09290952235460281, -0.2645852863788605, -0.08691996335983276, 0.18931664526462555, 0.2698465883731842, -0.09989890456199646, -0.24116897583007812, 0.8943027853965759, 0.040660712867975235, -0.7896484136581421, -0.3691333532333374, 0.6317154765129089, 0.27942073345184326, 0.2921939492225647, 0.4045049250125885, -0.8816574811935425, 0.5993990302085876, -1.0871336460113525, 0.019490396603941917, -0.6982297897338867, 0.2602301836013794, -0.16263970732688904, -0.522667407989502, -0.08616527169942856, -0.12900732457637787, -0.5945221781730652, -0.20235641300678253, 0.12274160981178284, 0.2018529176712036, -0.6560364365577698, -0.1643272489309311, 0.4838709533214569, -0.5635501146316528, -0.25319722294807434, -0.4534919261932373, 0.06860813498497009, 0.01768689602613449, 0.407729834318161, -0.6752374768257141, 0.3009244203567505, -0.5549119114875793, -0.04960097372531891, 0.04305247217416763, 0.11669828742742538, -0.8862605094909668, 0.38621029257774353, 0.20763371884822845, 0.04304559901356697, 0.43552276492118835, 0.08374466747045517, -0.005412515252828598, 0.021103857085108757, 0.02517310157418251, 0.05535418540239334, -0.2558518350124359, 0.5079015493392944, 0.23266765475273132, 0.05222868174314499, 0.05303717032074928, 0.6674824953079224, -0.3050824701786041, -0.27272093296051025, 0.7114441394805908, 0.030667398124933243, -0.13589133322238922, -0.22901961207389832, 0.547389805316925, 0.2132483720779419, 0.5994722247123718, 0.4155431389808655, -0.6144133806228638, 0.06039115786552429, 0.042995862662792206, -0.48594412207603455, -0.29015329480171204, -0.19838330149650574, -0.39819175004959106, -0.17698422074317932, 0.24834389984607697, -0.08582156896591187, 0.28285619616508484, -0.3604995906352997, -0.2578725218772888, 0.25333842635154724, -0.3527357578277588, 0.334259957075119, 0.15594233572483063, -0.18282978236675262, -0.3657076954841614, 0.26493075489997864, -0.2592412531375885, 0.4605594575405121, 0.4060114622116089, -0.1340998411178589, 0.17335551977157593, -0.1088259369134903, -0.3420217037200928, -0.22032687067985535, 0.3955673277378082, 0.3961504101753235, 0.6851757764816284, 0.12570033967494965, 0.5520034432411194, -0.3045876622200012, -0.16142964363098145, 0.13655319809913635, 0.22853036224842072, 0.8465052843093872, -0.14562807977199554, -0.2127077877521515, 0.007168377749621868, 0.6829320192337036, 0.2831580340862274, -0.19377334415912628, -0.011025731451809406, -0.13519147038459778, 0.28374913334846497, -0.49526455998420715, 0.374854177236557, -0.15314123034477234, 0.10106098651885986, 0.1338038295507431, 0.3093295097351074, 0.0038121656980365515, 0.22093565762043, 0.06634596735239029, 0.07684478908777237, -0.18307889997959137, -0.11698799580335617, 0.31324321031570435, -0.2655743658542633, -0.07326487451791763, 0.022119877859950066, 0.5434649586677551, 0.055997349321842194, -0.0817585438489914, 0.3138859272003174, -0.35398006439208984, -0.15748609602451324, -0.29266998171806335, 0.1777196079492569, -0.13322138786315918, -0.025275807827711105, -0.3118959069252014, -0.05521976202726364, 0.2828328013420105, -0.49661898612976074, -0.5971004962921143, -0.4186238944530487, -0.3718697130680084, -0.15430311858654022, -0.6078319549560547, 0.0008874529739841819, -0.4445342421531677, -0.23164740204811096, -0.24868351221084595, -0.17422586679458618, 0.07123599946498871, -0.6381118297576904, 0.8027355670928955, 0.7691895961761475, 0.405510276556015, -0.037146806716918945, 0.07332541793584824, 0.32669416069984436, -0.3120184540748596, 0.062324799597263336, 0.08801377564668655, -0.3203246295452118, -0.32656964659690857, 0.09025675058364868, -0.34109240770339966, 0.13128609955310822, -0.12562067806720734, 0.04093748331069946, 0.09084630012512207, 0.5939396023750305, 0.31727421283721924, 0.6233339905738831, 0.8535728454589844, 0.009323985315859318, -0.15486547350883484, -0.12206203490495682, 0.23321537673473358, -0.34617722034454346, 0.28852447867393494, 0.7653868794441223, 0.2188575714826584, 0.26071885228157043, -0.22094450891017914, 0.5625742673873901, -0.20600341260433197, -0.24513210356235504, -0.8944280743598938, 0.2976440191268921, 0.1137394830584526, 0.31519806385040283, -0.0757048949599266, 0.1745111644268036, 0.3991841971874237, 0.3813990354537964, -0.31165871024131775, -0.08555775880813599, -0.14939159154891968, -0.005035522393882275, 0.046028491109609604, -0.03448913246393204, 0.20676888525485992, -0.07852423936128616, -0.09529286623001099, -0.4188081622123718, -0.1374344676733017, -0.04328753054141998, 0.6528707146644592, 0.51643967628479, 0.37852922081947327, 0.5056628584861755, 0.5841254591941833, 0.2743701934814453, 0.2529612183570862, 0.13914310932159424, 0.05699140205979347, 0.39014315605163574, 0.17328406870365143, 0.2566623389720917, 0.10307765752077103, -0.4593994915485382, -0.15497834980487823, 0.09826421737670898, 0.38868477940559387, -0.5068075060844421, 0.2313186675310135, -0.06276863813400269, 0.2254563570022583, 0.36902162432670593, 0.10812431573867798, -0.00833811704069376, 0.4583517909049988, 0.21444746851921082, -0.10839418321847916, -0.29785898327827454, -0.5030636787414551, 0.15678484737873077, 0.08135906606912613, -0.22658738493919373, -0.014018242247402668, -0.2788934111595154, 0.037238407880067825, -0.053514547646045685, 0.44043025374412537, -0.5792567729949951, 0.20997034013271332, 0.3807636499404907, -0.49382284283638, 0.2844693958759308, -0.004042444750666618, -0.13558568060398102, 0.049882128834724426, -0.8314180970191956, 0.025080151855945587, -0.267894446849823, -0.06811949610710144, -0.0998709574341774, 0.25267207622528076, -0.05242358520627022, -0.21592776477336884, 0.1579533815383911, 0.3890797197818756, 0.02361811324954033, 0.10100221633911133, 0.22878938913345337, 0.3640444576740265, -0.34737628698349, -0.016633199527859688, 0.23842552304267883, -0.4115235209465027, -0.4041825830936432, 0.17200174927711487, -0.22208303213119507, -0.4704347252845764, 0.18969862163066864, -0.05496643856167793, -0.24375087022781372, 0.01354384608566761, -0.14001204073429108, -0.11403162777423859, -0.43794170022010803, 0.26750195026397705, 0.1582077592611313, -0.3595530688762665, -0.06994887441396713, 0.6187032461166382, 0.22381244599819183, 0.07276587188243866, -0.3597401976585388, 0.5501877069473267, 0.5329447984695435, -0.07111545652151108, -0.1116681769490242, -0.025030869990587234, -0.09118147194385529, -0.394052654504776, 0.2202821671962738, 0.3798202574253082, 0.34563472867012024, -0.1926259696483612, -0.10328763723373413, -0.1748632937669754, 0.4988640248775482, 0.459153950214386, 0.023412568494677544, 0.1755056381225586, 0.18717274069786072, 0.20402401685714722, -0.2189451903104782, 0.16188305616378784, -0.3125070035457611, -0.7670441269874573, -0.18146495521068573, -0.25982823967933655, -0.0555165596306324, 0.22986194491386414, 0.16639770567417145, -0.3824690878391266, 0.028341500088572502, -0.14782428741455078, -0.10242671519517899, -0.09557511657476425, -0.2552388310432434, 0.36270490288734436, -0.1828645020723343, -0.24088065326213837, 0.5600248575210571, 0.3616952896118164, -0.7518681287765503, -0.07991040498018265, -0.3621743619441986, -0.3117522597312927, 0.0162439476698637, -0.14949579536914825, 0.19244123995304108, -0.427396684885025, -0.028525130823254585, 0.5304197072982788, -0.13003799319267273, -0.05124054104089737, 0.7438586950302124, -0.23802854120731354, -0.5661768317222595, -0.1215456873178482, 0.09776483476161957, 0.5215425491333008, -0.013407672755420208, -0.6325166821479797, 0.4867394268512726, -0.1368192583322525, 0.018854454159736633, -0.2660384476184845, -0.08639127761125565, -0.18421560525894165, 0.005930725485086441, -0.11294413357973099, -0.3594999611377716, 0.7403789162635803, 0.09494569152593613, 0.04454036429524422, 0.06630611419677734, 0.3463970720767975, 1.1114624738693237, -0.29686546325683594, 0.5621912479400635, -0.15648765861988068, 0.1323520392179489, 0.053429022431373596, 0.12553690373897552, 0.23585201799869537, -0.10122109204530716, -0.07273321598768234, -0.05184617266058922, 0.003820930141955614, -0.15397877991199493, -0.1900937259197235, 0.4183599054813385, 0.3105134963989258, 0.8791788816452026, -0.4510510563850403, -0.07133448123931885, 0.03158639371395111, -0.21983133256435394, 0.08760596066713333, -0.5833830833435059, 0.12236130982637405, -0.4423956274986267, 0.0019884195644408464, -0.11193376034498215, -0.5052183866500854, 0.3083373010158539, 0.05009377747774124, 0.4406476616859436, 0.24847592413425446, 0.05285777896642685, -0.4071657657623291, -0.05742373690009117, -0.023165874183177948, 0.6088144183158875, 0.4075166881084442, 0.10401534289121628, -0.1306965947151184, 0.31666767597198486, 0.15676435828208923, -0.08454437553882599, -0.23376576602458954, -0.36332473158836365, 0.5450311899185181, -0.2014778107404709, 0.060338959097862244, 0.15925100445747375, -0.23677784204483032, 0.5707665681838989, 0.11094547063112259, -0.13949958980083466, 0.0025530920829623938, -0.23233187198638916, 0.5543509125709534, 0.013323620893061161, -0.2970409095287323, -0.44951364398002625, 0.18268266320228577, 0.3810257911682129, 0.3537961542606354, 0.3444627523422241, 0.5327582359313965, -0.316725492477417, 0.08696740865707397, 0.30351340770721436, -0.6021963953971863, -8.657143592834473, -0.03853897750377655, -0.023546507582068443, 0.35228070616722107, 0.08580541610717773, -0.30700284242630005, -0.0865621417760849, 0.049977581948041916, 0.008011572062969208, 0.13083165884017944, 0.42798903584480286, 0.09805876761674881, 0.16845647990703583, 0.2852592170238495, -0.3574444353580475, -0.1724911630153656, 0.2880500555038452, 0.67137610912323, -0.5727201700210571, -0.19217050075531006, -0.3232535123825073, 0.09533776342868805, 0.4774852395057678, 0.9589387774467468, 0.23933015763759613, 0.5095753073692322, 0.14520719647407532, 0.02578260377049446, 0.24775083363056183, -0.2795616686344147, -0.48299700021743774, -0.2769051194190979, -0.8965105414390564, 0.1603100448846817, 0.22842538356781006, -0.18018068373203278, 0.44913652539253235, 0.011227596551179886, -0.16284792125225067, -0.5770586133003235, 0.18902574479579926, 0.5707638263702393, -0.39475855231285095, -0.5412805080413818, -0.10039786994457245, -0.624413788318634, 0.19166235625743866, 0.1066519245505333, -0.6014482378959656, -0.23485031723976135, 0.9033300280570984, 0.24130161106586456, -0.69496089220047, 0.022396285086870193, -0.18954892456531525, 0.28376877307891846, 0.5734253525733948, -0.21758945286273956, -0.10601752996444702, 0.13262875378131866, -0.3120908737182617, -0.06663917005062103, 0.029699714854359627, 0.1725773811340332, 0.29876405000686646, 0.19900161027908325, -0.2724767327308655, -0.2600434422492981, 0.0296724084764719, 0.5029872059822083, -0.019800806418061256, -0.6196359992027283, -0.29526495933532715, -0.03078145533800125, -0.187774196267128, -0.549933910369873, -0.44562092423439026, 0.24963392317295074, 0.07357781380414963, 0.19475053250789642, -0.09911759942770004, 0.13215000927448273, 0.01383463479578495, -0.06029580906033516, -0.4126068651676178, 0.12121441960334778, 0.2076040804386139, 0.774039089679718, 0.03895898908376694, -0.13654901087284088, -0.04686187952756882, -0.08324660360813141, -0.4639110565185547, -0.08621849119663239, -0.4500234127044678, 0.15549339354038239, -0.3050921559333801, 0.30974191427230835, -0.17298761010169983, -0.07111969590187073, -0.3468141555786133, -0.9169312715530396, -0.25724074244499207, -0.3521694839000702, -0.17839621007442474, -0.02434130758047104, -0.2027435004711151, -0.6775436401367188, -0.10400881618261337, -0.18785029649734497, 0.1953793317079544, -0.01893792860209942, 0.5076390504837036, -0.012200340628623962, 0.6324225664138794, -0.056984446942806244, 0.32819846272468567, -0.1711830049753189, 0.1061835065484047, -0.4016346037387848, -0.06279128789901733, -0.06107349693775177, -0.08303554356098175, -0.48317545652389526, -0.23870965838432312, 0.16056972742080688, -0.2362406998872757, -0.2440308928489685, 0.7419386506080627, -0.2873057425022125, 0.21989071369171143, -0.02403206191956997, 0.13651692867279053, 0.4406583309173584, -0.09537998586893082, -0.7062197923660278, -0.28290310502052307, 0.04692952707409859, -0.0484321303665638, 0.10751916468143463, -0.054171789437532425, -0.20682404935359955, 0.5831405520439148, 0.37162208557128906, 0.20877525210380554, 0.7299730181694031, -0.35324618220329285, -0.5524268746376038, -0.0024431601632386446, -0.22499427199363708, -0.12289713323116302, 0.5040670037269592, 0.6088759899139404, -0.27521494030952454, -0.33515462279319763, -0.21678052842617035, 0.18457084894180298, 0.03753291815519333, 0.25614133477211, -0.054605986922979355, 0.4639776945114136, -0.3075564205646515, 0.00791656132787466, -0.4750768840312958, 0.34863796830177307, 0.18112580478191376, 0.2572599947452545, 0.5273773670196533, -0.12761084735393524, 0.27755191922187805, -0.42390185594558716, -0.18401581048965454, 0.15022443234920502, -0.18261806666851044, -0.4813130795955658, -0.3055148720741272, 0.3246648609638214, 0.15778212249279022, -0.06366007030010223, 0.16998495161533356, -0.03961975499987602, 0.24020561575889587, -0.6749724745750427, -0.3852066695690155, -0.40243688225746155, 0.4601303040981293, -0.559751570224762, -0.010046649724245071, -0.11819116026163101, 0.13164907693862915, 0.0307303536683321, 0.17589983344078064, -0.5428410172462463, -0.037221841514110565, -0.16000771522521973, 0.2860891819000244, -0.897771418094635, -0.059517618268728256, 0.2793160378932953, -0.11229779571294785, 0.6335110068321228, -0.2768453359603882, 0.5714120268821716, -0.36412233114242554, -0.4967058300971985, 0.2347705215215683, -0.02972797118127346, -0.29631006717681885, -0.00012350564065854996, 0.11481820791959763, -0.48445379734039307]\n",
            "Word 4 --> Embedding [-0.15381576120853424, -0.3786543309688568, 0.21807339787483215, -0.23675128817558289, 0.06860584765672684, 0.16114473342895508, 0.20201946794986725, 0.015087930485606194, -0.040127500891685486, 0.11000956594944, 0.4780358374118805, 0.13995879888534546, -0.155220627784729, 0.36645743250846863, 0.1121964305639267, 0.6563241481781006, -0.3907426595687866, -0.06176749989390373, 0.023824777454137802, 0.02623354084789753, -0.09885626286268234, 0.037371937185525894, -0.12468495965003967, -0.0881376713514328, 0.17587405443191528, -0.3804529309272766, 0.26332318782806396, 0.31749778985977173, -0.025875570252537727, 0.13951058685779572, -0.20424334704875946, 0.23645900189876556, 0.13669493794441223, -0.06092553585767746, 0.029032699763774872, 0.1470034122467041, 0.3028643727302551, -0.0030335038900375366, 0.23536591231822968, 0.14317338168621063, 0.3262214958667755, -0.10243359953165054, -0.2636595368385315, -0.009719759225845337, 0.45268020033836365, -0.17219212651252747, 0.43009689450263977, 0.034907516092061996, -0.20297576487064362, -0.3271838426589966, 0.28646138310432434, 0.10912332683801651, -0.2214002013206482, -0.08982031792402267, 0.4150809347629547, -0.10560514777898788, -0.10415266454219818, 0.06234809756278992, 0.1676945686340332, 0.3588535189628601, -0.019621483981609344, 0.31324952840805054, -0.0394241139292717, -0.24928203225135803, -0.021902618929743767, 0.2975359559059143, 0.5865818858146667, 0.07090699672698975, 0.11130613088607788, 0.18828216195106506, -0.2569964826107025, 0.2086694836616516, 0.15010760724544525, -0.22359499335289001, -0.029522599652409554, -0.24875324964523315, 0.20805463194847107, -0.021732095628976822, 0.01623946614563465, -0.06298395991325378, 0.029441585764288902, -0.3168729841709137, 0.003256298368796706, 0.39670541882514954, -0.0899597704410553, -0.40466511249542236, -0.2795991003513336, -0.2937469482421875, -0.010636958293616772, -0.06086933985352516, -0.39984533190727234, -0.11737830191850662, 0.19040575623512268, -0.23975352942943573, 0.2665325105190277, 0.07390792667865753, 0.1341378390789032, -0.32425346970558167, -0.43905046582221985, 0.014717950485646725, -0.10190454870462418, 0.006702627055346966, -0.3797019124031067, 0.3015763461589813, 0.3738129734992981, 0.2735899090766907, -0.0438753180205822, 0.043663784861564636, 0.34188735485076904, 0.15554678440093994, 0.2562336325645447, 0.21015921235084534, 0.13609005510807037, -0.5475027561187744, 0.004172732587903738, -0.14192235469818115, 0.02437908947467804, 0.21545448899269104, 0.3015454113483429, 0.1334540992975235, -0.0750780701637268, 0.24123527109622955, -0.20364224910736084, 0.29132214188575745, 0.260862797498703, 0.3061040937900543, -0.013617416843771935, -0.054802194237709045, 0.3001823425292969, 0.0855923444032669, -0.34177258610725403, -0.23237352073192596, -0.029843250289559364, 0.14423073828220367, -0.07569029927253723, 0.5548360347747803, -0.011143866926431656, 0.139226034283638, -0.6271278858184814, -0.1715451329946518, 0.06325366348028183, 0.08681979030370712, 0.0844767764210701, -0.08312264084815979, 0.2059519737958908, -0.13180921971797943, -0.046687934547662735, 0.078192338347435, -0.17384976148605347, 0.6767642498016357, -0.19643506407737732, -0.008045709691941738, 0.1753428429365158, -0.023068683221936226, -0.05469219386577606, -0.42335402965545654, -0.10160935670137405, 0.2765651047229767, -0.14707188308238983, 0.2100505530834198, 0.2834552824497223, -0.17535465955734253, -0.08357503265142441, 0.06107248365879059, -0.17791788280010223, -0.01237404253333807, -0.40967029333114624, 0.10550015419721603, 0.04466436058282852, 0.444193035364151, -0.008307592943310738, 0.19820134341716766, 0.053600627928972244, -0.1792648732662201, -0.10548343509435654, -0.10241065174341202, 0.37888267636299133, -0.03969503939151764, 0.6796900033950806, 0.006520048249512911, -0.29165539145469666, 0.24721629917621613, 0.02617192454636097, 0.5014472007751465, 0.003295578993856907, -0.20648619532585144, 0.3061225116252899, 0.15995758771896362, -0.02290460094809532, 0.0030065702740103006, 0.18506532907485962, 0.1598297506570816, -0.15581998229026794, 0.4159086048603058, -0.17018453776836395, -0.541991114616394, -0.037077490240335464, 0.01895381137728691, -0.14084377884864807, -0.13094933331012726, 0.04598487541079521, 0.5272120237350464, -0.3019134998321533, -0.049217548221349716, 0.20447182655334473, 0.24774523079395294, 0.2792169451713562, -0.28494954109191895, -0.28362467885017395, -0.13099409639835358, -0.2863219082355499, -0.3716467320919037, 0.29355257749557495, 0.24597352743148804, 0.05174059048295021, -0.11402834951877594, -0.17444412410259247, 0.13274817168712616, -0.022646645084023476, -0.10220436751842499, 0.5238255858421326, -0.2720855474472046, -0.004491991363465786, 0.28111305832862854, 0.024225078523159027, -0.23661884665489197, 0.03108140081167221, 0.2530614137649536, 0.03625417500734329, 0.026241831481456757, 0.11472349613904953, 0.09349390864372253, 0.21665777266025543, -0.016881516203284264, -0.11994381248950958, -0.04758092388510704, -0.5419171452522278, 0.13964132964611053, -0.05036543682217598, -0.13660100102424622, -0.3002767860889435, 0.016879046335816383, 0.07483316212892532, 0.04394260048866272, -0.06661844253540039, -0.19915051758289337, -0.22511476278305054, 0.4136442244052887, 0.7780634164810181, -0.012301638722419739, 0.6095744371414185, 0.09924846142530441, -0.26534977555274963, 0.056588590145111084, 0.32703670859336853, 0.30630573630332947, 0.06769520789384842, -0.07034186273813248, -0.0070503889583051205, -0.35481035709381104, -0.1599893718957901, 0.14861078560352325, -0.21299782395362854, -0.2606699466705322, 0.12202072143554688, 0.03506904095411301, 0.06841759383678436, -0.24544072151184082, -0.2144617736339569, -0.48784884810447693, -0.18712016940116882, -0.09960902482271194, 0.0655038058757782, 0.3787977993488312, -0.22972290217876434, -0.09672383964061737, 0.07976856827735901, -0.045193493366241455, 0.115437813103199, -0.5567110776901245, 0.041162583976984024, -0.07997122406959534, -0.24390077590942383, 0.22894319891929626, 0.01849415898323059, -0.05846458300948143, 0.007952618412673473, 0.37458914518356323, 0.12954367697238922, 0.032213907688856125, -0.15860949456691742, 0.2119452953338623, -0.3085728585720062, 0.2888047397136688, 0.05696392059326172, 0.3290408253669739, -0.1719265580177307, 0.06301284581422806, -0.2420448362827301, 0.018667321652173996, 0.11316556483507156, 0.06899531930685043, 0.17760811746120453, -0.029745860025286674, 0.12954671680927277, -0.04784576594829559, -0.06979871541261673, 0.1072273850440979, 0.03615687042474747, -0.1592591404914856, -0.2858103811740875, 0.08922097831964493, -0.13585039973258972, 0.1612287163734436, 0.10782503336668015, -0.2031131237745285, -0.031418923288583755, 0.3160041868686676, 0.07176586240530014, -0.26288679242134094, -0.1451791524887085, 0.2394392192363739, -0.27690190076828003, -0.328676700592041, 0.020287536084651947, 0.005543988198041916, 0.03704483434557915, -0.20765288174152374, 0.23337405920028687, -0.27789196372032166, -0.08615408092737198, 0.011821150779724121, -0.2944644093513489, -0.10871051996946335, 0.14540638029575348, -0.017617419362068176, -0.17206338047981262, -0.15033239126205444, -0.10347913205623627, 0.07302901148796082, -0.1597917079925537, 0.42040783166885376, -0.09619595855474472, 0.17828063666820526, 0.1658884435892105, 0.3150576651096344, -0.25896182656288147, -0.040165554732084274, -0.16877976059913635, -0.08000735193490982, 0.26497045159339905, -0.27450308203697205, -0.3661380112171173, 0.022450683638453484, 0.12606176733970642, -0.1704455465078354, -0.1084977462887764, 0.2718970477581024, -0.1298018842935562, 0.042419079691171646, 0.009265733882784843, -0.2261715829372406, -0.0892166718840599, -0.04033295065164566, 0.03696451708674431, 0.5590459704399109, 0.015986602753400803, 0.32849183678627014, -0.28584712743759155, 0.00020398876222316176, 0.13475778698921204, -0.13958264887332916, -0.048117998987436295, 0.611177921295166, -0.24052055180072784, 0.23376980423927307, -0.02965690940618515, 0.06315198540687561, -0.1586506962776184, -0.38720807433128357, -0.1992335319519043, -0.1492406129837036, -0.2025512158870697, 0.3462807536125183, 0.08534438908100128, 0.3383856415748596, 0.3091026246547699, -0.2782452404499054, 0.07887466996908188, 0.41020631790161133, -0.2917499840259552, 0.008347617462277412, -0.11891009658575058, -0.08278976380825043, 0.06160440668463707, -0.1726200133562088, 0.04663926362991333, 0.29969269037246704, -0.23653273284435272, -0.44116318225860596, -0.4190785586833954, 0.05428190529346466, -0.2041623890399933, 0.12606234848499298, -0.1590290069580078, -0.31161069869995117, -0.16155070066452026, 0.15500521659851074, 0.024860935285687447, 0.03882351145148277, 0.3157724142074585, 0.06941526383161545, -0.0073030428029596806, -0.2120075225830078, -0.2806592583656311, 0.08234719187021255, -0.14061923325061798, 0.5245463848114014, -0.07158853113651276, 0.33113089203834534, -0.05497095733880997, -0.37786903977394104, 0.13462409377098083, 0.44634172320365906, 0.27968329191207886, -0.15100708603858948, -0.41236671805381775, 0.3390025198459625, -0.24162110686302185, -0.2977977395057678, 0.3061240315437317, -0.41427016258239746, 0.03677811473608017, -0.42371296882629395, 0.43437090516090393, 0.25831475853919983, -0.21581518650054932, 0.10439878702163696, -0.17234566807746887, -0.43790367245674133, -0.16037686169147491, 0.23671740293502808, -0.20874981582164764, 0.2451760172843933, 0.22441309690475464, 0.4071250557899475, 0.05287067964673042, 3.411819488974288e-05, 0.2933902442455292, 0.023341676220297813, -0.278562992811203, -0.34110647439956665, -0.1087207943201065, 0.11507104337215424, 0.313804566860199, 0.10510816425085068, 0.17145268619060516, 0.17277227342128754, -0.09525123983621597, 0.06873524934053421, 0.17346718907356262, 0.2651311755180359, -0.017684413120150566, -0.09160009026527405, 0.0022039092145860195, 0.21304188668727875, 0.04521455988287926, 0.3663654327392578, 0.07632626593112946, 0.08393917232751846, 0.0038861881475895643, 0.2918945252895355, 0.4057307541370392, 0.32290229201316833, -0.22644390165805817, 0.46349233388900757, 0.050786811858415604, 0.481133371591568, 0.018269862979650497, 0.12467458844184875, 0.09687565267086029, 0.012365843169391155, 0.04032132029533386, -0.05476418137550354, -0.09701140224933624, -0.294639527797699, 0.24329665303230286, -0.16001079976558685, -0.1984693855047226, 0.30222222208976746, -0.2959063649177551, 0.18038222193717957, -0.2673455774784088, 0.22969472408294678, -0.20153823494911194, -0.24825167655944824, 0.1586397886276245, -0.07620631158351898, -0.2556520700454712, -0.07593788206577301, -0.08999205380678177, 0.24472609162330627, -0.1097346842288971, 0.29512932896614075, 0.04499967396259308, 0.3765040338039398, -0.1550229787826538, 0.11842568963766098, 0.5379907488822937, -0.6644278168678284, -0.027738183736801147, 0.03955735266208649, -0.2545483410358429, -0.1284153014421463, -0.22246918082237244, -0.24794712662696838, 0.10767198354005814, 0.02905498817563057, -0.19205862283706665, 0.01955302059650421, -0.017398597672581673, -0.3942299783229828, 0.0392211377620697, -0.20117706060409546, -0.1973319798707962, -0.3375539183616638, 0.2233397513628006, 0.12524989247322083, 0.13037320971488953, 0.40938323736190796, -0.26988741755485535, -0.27804338932037354, -0.04963282123208046, -0.17652437090873718, 0.03244897350668907, 0.1577788144350052, 0.2733342945575714, -0.08732200413942337, 0.14055171608924866, 0.3241840898990631, 0.23867802321910858, -0.2220737487077713, -0.24272283911705017, -0.05866912752389908, -0.22244441509246826, 0.12483805418014526, -0.02052716165781021, -0.24764037132263184, 0.3960919678211212, -0.044327039271593094, 0.42701858282089233, 0.3845697045326233, 0.12053868174552917, 0.00735221104696393, 0.5715973973274231, 0.5129067301750183, -0.2348128855228424, -9.287545204162598, 0.06320950388908386, -0.05559972673654556, -0.0703427791595459, -0.0018493006937205791, 0.06476252526044846, 0.21502165496349335, -0.1773877590894699, 0.009253941476345062, 0.35473233461380005, -0.029267583042383194, -0.03529459610581398, -0.020818712189793587, -0.1156461238861084, 0.14955256879329681, -0.21086345613002777, 0.09434656798839569, 0.04934021458029747, 0.09152372926473618, 0.14440295100212097, -0.07242937386035919, -0.005956170614808798, 0.09450199455022812, 0.2420586198568344, 0.20831820368766785, 0.3123232424259186, -0.2668614387512207, -0.21157898008823395, 0.008520752191543579, -0.44113290309906006, -0.22815237939357758, 0.1847354620695114, -0.026296811178326607, -0.17919450998306274, -0.09259513765573502, -0.23296552896499634, 0.18805307149887085, -0.28617194294929504, 0.0702291876077652, -0.16665156185626984, 0.5565111041069031, 0.48661187291145325, 0.16314028203487396, 0.1199641078710556, 0.17218686640262604, -0.024171270430088043, 0.37443074584007263, -0.2694040536880493, -0.1409461498260498, -0.12181294709444046, 0.4496338665485382, 0.23706281185150146, -0.4385245442390442, 0.21275433897972107, -0.580625593662262, 0.10796909034252167, -0.17340174317359924, -0.054337941110134125, -0.08099919557571411, 0.327900767326355, 0.22380544245243073, -0.24897955358028412, -0.11644305288791656, -0.02259308099746704, 0.02085842378437519, 0.15766641497612, -0.11743099987506866, -0.12032542377710342, -0.0067750681191682816, 0.12634851038455963, -0.05287566035985947, 0.1805318295955658, -0.23038187623023987, -0.14500486850738525, 0.1804971992969513, -0.33234891295433044, 0.09852038323879242, 0.015231670811772346, -0.0771443322300911, 0.3968488872051239, -0.19317859411239624, -0.3769379258155823, 0.5064365863800049, -0.1427774578332901, -0.23514747619628906, 0.13903304934501648, 0.06943410634994507, 0.13821882009506226, 0.2931007742881775, 0.12535451352596283, 0.3056319057941437, 0.10243288427591324, -0.23615771532058716, -0.44588690996170044, -0.21087975800037384, -0.04409126564860344, 0.18405918776988983, 0.030911024659872055, -0.3988407850265503, -0.10383784770965576, 0.1853209286928177, 0.26851779222488403, 0.020976120606064796, -0.20672591030597687, 0.28572967648506165, 0.1011628583073616, -0.1571834832429886, -0.42896541953086853, 0.2905946671962738, -0.17998868227005005, -0.08457441627979279, -0.34388014674186707, -0.13081204891204834, 0.03878786042332649, -0.3037952780723572, 0.04867701604962349, 0.336708664894104, -0.292792946100235, 0.04998241364955902, -0.11178736388683319, 0.25034135580062866, -0.009572324343025684, 0.16268084943294525, -0.10912864655256271, 0.3296249210834503, -0.08614851534366608, -0.19172418117523193, 0.16859149932861328, -0.02477087825536728, -0.11499379575252533, 0.05703277513384819, 0.1547667533159256, 0.34390872716903687, -0.1473183035850525, 0.3788948655128479, -0.39453932642936707, -0.18925227224826813, -0.07612335681915283, 0.18068565428256989, -0.29345378279685974, -0.006436408497393131, -0.13168324530124664, 0.10043352097272873, 0.41878312826156616, -0.01586790382862091, 0.24464355409145355, -0.28890925645828247, -0.2904593348503113, 0.07880736142396927, 0.2566806972026825, 0.04280278831720352, 0.3366180658340454, 0.3331582844257355, -0.17560386657714844, -0.1614246517419815, 0.16457462310791016, 0.313250869512558, -0.04746798425912857, 0.18742628395557404, -0.09117473661899567, 0.09858749806880951, -0.043840162456035614, 0.2662194073200226, 0.21920067071914673, 0.0596330352127552, -0.14697185158729553, -0.029345544055104256, 0.22710034251213074, -0.0806138888001442, -0.4390714466571808, -0.22052225470542908, 0.000879727303981781, 0.07528381049633026, -0.406719833612442, 0.22546730935573578, -0.18525931239128113, -0.061257876455783844, 0.024855714291334152, 0.023042185232043266, 0.07516968250274658, -0.35051873326301575, -0.11449582129716873, 0.1454288214445114, 0.08513905853033066, -0.1727776974439621, -0.08436762541532516, -0.346927672624588, -0.018136346712708473, 0.33652788400650024, 0.01433616317808628, -0.23077701032161713, -0.06101861968636513, -0.0999775305390358, -0.17228247225284576, -0.47200313210487366, 0.09651686996221542, -0.41047197580337524, 0.1216144785284996, 0.1352672278881073, -0.10591603070497513, -0.20081759989261627, -0.021252086386084557, 0.6150157451629639, -0.08662194758653641, -0.20415295660495758, -0.22670632600784302, 0.2079693078994751, 0.05308280885219574, -0.17912542819976807, 0.05183864384889603, -0.3916654586791992]\n",
            "Word 5 --> Embedding [-0.011643554084002972, -0.03241585195064545, 0.22154885530471802, 0.03855019435286522, 0.048536110669374466, -0.10547344386577606, 0.22447091341018677, 0.5137424468994141, -0.08533931523561478, 0.2908566892147064, 0.18861137330532074, 0.07860672473907471, -0.19362065196037292, 0.18430641293525696, 0.17151565849781036, 0.6299524307250977, -0.38938090205192566, 0.3616895079612732, -0.10453564673662186, -0.062494900077581406, -0.13812455534934998, -0.19904202222824097, -0.2803196310997009, -0.06516845524311066, 0.38080012798309326, -0.29561346769332886, 0.36357811093330383, 0.4901881217956543, -0.308304101228714, -0.019258154556155205, -0.28323128819465637, 0.3681541681289673, 0.09082363545894623, 0.0671004205942154, -0.06330297142267227, -0.16374312341213226, 0.6860522031784058, 0.1636277437210083, 0.2768261730670929, 0.14708979427814484, -0.10967808961868286, 0.10849463939666748, -0.4601653218269348, 0.09365597367286682, 0.4074717164039612, 0.2411452978849411, 0.5371281504631042, 0.3789963722229004, 0.10364308208227158, 0.08919688314199448, 0.24328133463859558, -0.19571387767791748, -0.07855167239904404, 0.29106712341308594, -0.09878556430339813, 0.31569257378578186, 0.02022860199213028, -0.043505653738975525, -0.18937623500823975, 0.7379481792449951, -0.08975215256214142, 0.2031155526638031, 0.22702719271183014, -0.14178341627120972, -0.047514885663986206, 0.02957935445010662, 0.7278475165367126, -0.03403851389884949, 0.1882498413324356, 0.33406952023506165, -0.4541729688644409, -0.08566594868898392, -0.06672926992177963, -0.13728508353233337, -0.0337415486574173, 0.019570663571357727, 0.13365451991558075, -0.19058266282081604, -0.2423713207244873, -0.178252711892128, 0.2318403273820877, -0.5574742555618286, -0.11096042394638062, 0.283793568611145, 0.07530006766319275, -0.35275429487228394, -0.31130409240722656, -0.11525218188762665, 0.045550376176834106, 0.11489926278591156, -0.3950325548648834, -0.07656220346689224, -0.10652109980583191, -0.24941611289978027, 0.06829727441072464, 0.1902380883693695, 0.09970076382160187, -0.600541889667511, 0.023582052439451218, -0.18640220165252686, -0.33768653869628906, 0.0510251484811306, -0.11582939326763153, 0.43904271721839905, -0.0010699887061491609, 0.11076532304286957, -0.051941677927970886, 0.016164584085345268, 0.022920751944184303, 0.2603234648704529, 0.5447693467140198, 0.09484299272298813, -0.06402426213026047, -0.32324573397636414, -0.175557941198349, -0.10327860713005066, -0.08555763214826584, -0.06385460495948792, -0.1654229313135147, -0.1043437123298645, 0.20193766057491302, 0.11606334894895554, 0.2501143515110016, 0.2395409792661667, 0.230942964553833, 0.2770669758319855, -0.06548713892698288, -0.057594846934080124, 0.12462276965379715, 0.16660666465759277, -0.35434919595718384, -0.14308200776576996, -0.027786796912550926, 0.318660169839859, 0.15015369653701782, 0.19137310981750488, -0.08063792437314987, 0.42113661766052246, -0.9755523800849915, -0.2406788319349289, -0.4028770327568054, -0.12046007812023163, 0.021306119859218597, -0.044591184705495834, -0.13662387430667877, -0.26996222138404846, -0.21626238524913788, -0.24914683401584625, 0.00032620845013298094, 0.2608982026576996, 0.30916595458984375, -0.26711657643318176, 0.03012809343636036, -0.02432963065803051, 0.004202467389404774, -0.2846529185771942, 0.12379616498947144, 0.21112118661403656, 0.1474509984254837, 0.09703124314546585, 0.2880774140357971, -0.43450087308883667, -0.0246479082852602, -0.3715517520904541, -0.09821219742298126, -0.12477371096611023, -0.11457784473896027, 0.1012737974524498, -0.11805424839258194, 0.5865678787231445, 0.1780310869216919, 0.32613876461982727, -0.2014470100402832, 0.15672418475151062, -0.4233253598213196, -0.20153622329235077, 0.2551804184913635, 0.0587238073348999, 0.5339722037315369, 0.09879051893949509, 0.07686769217252731, 0.0716584101319313, -0.04666544869542122, 0.20476998388767242, -0.1475657820701599, -0.02171417325735092, 0.12437574565410614, 0.02493397146463394, 0.006959605496376753, -0.05964811518788338, -0.06460440903902054, -0.014116406440734863, -0.311821848154068, 0.25625091791152954, 0.2687855660915375, -0.509197473526001, -0.21435514092445374, 0.008108788169920444, -0.034377820789813995, -0.11711358278989792, -0.08388568460941315, 0.30099910497665405, -0.0356624573469162, -0.001515208394266665, 0.6546748280525208, -0.08151069283485413, 0.111234650015831, -0.1396862417459488, -0.31012874841690063, 0.1608303040266037, -0.17785729467868805, -0.16239124536514282, 0.5365912318229675, 0.13704435527324677, 0.47322797775268555, -0.32333067059516907, -0.08109236508607864, 0.22413720190525055, 0.059255264699459076, -0.10003245621919632, -0.02316967211663723, 0.2647479474544525, 0.4216417372226715, 0.47055861353874207, 0.09524273872375488, -0.07319749146699905, -0.19365735352039337, 0.10807634890079498, 0.1669938713312149, 0.02875775843858719, 0.2846377193927765, 0.010280591435730457, 0.24902665615081787, 0.18210694193840027, 0.33972883224487305, -0.18708884716033936, -0.4027860164642334, -0.013035560958087444, -0.3940284550189972, -0.02868734486401081, -0.38101884722709656, 0.07225729525089264, -0.03231809660792351, 0.27122384309768677, 0.05939069017767906, -0.02516941912472248, -0.12605410814285278, 0.1678849756717682, 0.46308571100234985, 0.06203316152095795, 0.1786491423845291, 0.16417916119098663, -0.20238633453845978, 0.052087947726249695, -0.01644669473171234, 0.054510634392499924, -0.13456426560878754, 0.046047624200582504, 0.10773760825395584, -0.4312600791454315, 0.10533719509840012, 0.011511820368468761, 0.0369601733982563, -0.2007906287908554, -0.03234287351369858, -0.4138607680797577, 0.2464844137430191, 0.10614512860774994, 0.28392723202705383, -0.2236487716436386, -0.06329171359539032, -0.24721206724643707, -0.23128734529018402, 0.12291904538869858, 0.2624172866344452, -0.11128001660108566, 0.1721794754266739, 0.08816434442996979, -0.09013881534337997, -0.517871081829071, 0.31686827540397644, 0.1373235136270523, -0.19418035447597504, 0.03677967190742493, -0.30803439021110535, -0.19240929186344147, 0.06176530569791794, -0.13499027490615845, -0.007536702789366245, -0.2264467179775238, -0.09865272045135498, -0.08559102565050125, -0.3614518642425537, -0.07770466804504395, 0.0744091346859932, 0.1497524380683899, -0.22967618703842163, 0.21248646080493927, -0.011868528090417385, 0.1197640672326088, 0.0036433327477425337, 0.1880587786436081, 0.18087570369243622, -0.16595475375652313, 0.05349335819482803, 0.1420425921678543, 0.06213779374957085, 0.3127160966396332, 0.09271270036697388, -0.03816528245806694, -0.3417792022228241, -0.0074583496898412704, -0.14639948308467865, -0.12014845758676529, -0.2086745798587799, -0.09798046946525574, -0.004888998810201883, 0.3128204047679901, 0.29430246353149414, -0.2801286280155182, 0.27416497468948364, 0.13434839248657227, -0.23392993211746216, -0.35738489031791687, -0.16777968406677246, 0.031132923439145088, -0.10665322095155716, -0.11515089869499207, -0.18781428039073944, -0.113126739859581, -0.11595386266708374, 0.2110196202993393, -0.24401630461215973, -0.22545480728149414, 0.13379140198230743, -0.08763672411441803, 0.213589608669281, -0.10230832546949387, 0.1232568547129631, 0.04754754155874252, -0.022432468831539154, 0.2661033570766449, 0.0676201730966568, 0.2623463571071625, 0.15422534942626953, 0.32518449425697327, -0.2847115397453308, -0.0875004380941391, -0.21247752010822296, -0.1359209418296814, 0.33669203519821167, -0.10660362988710403, -0.5517359972000122, 0.17128050327301025, 0.07321285456418991, 0.058112699538469315, -0.38868436217308044, -0.13465829193592072, -0.13200408220291138, 0.019945168867707253, -0.11215748637914658, -0.18745577335357666, 0.21259479224681854, 0.2197975367307663, 0.30209019780158997, 0.31841960549354553, -0.25794556736946106, 0.12585212290287018, -0.31313440203666687, 0.08025866746902466, -0.2281716912984848, -0.41059768199920654, 0.18813075125217438, 0.24019049108028412, -0.27975213527679443, 0.34968993067741394, 0.059093985706567764, -0.04484910890460014, 0.02146613411605358, -0.26349642872810364, -0.011532449163496494, -0.03988424688577652, -0.17526504397392273, 0.21501922607421875, 0.048058655112981796, -0.0016277794493362308, 0.3061373829841614, -0.4808746874332428, 0.4018256962299347, 0.04851404204964638, -0.18095839023590088, 0.05066952481865883, 0.1964598298072815, 0.024007154628634453, -0.2408336102962494, 0.07570682466030121, 0.016591817140579224, -0.014379255473613739, -0.17039640247821808, -0.0010556732304394245, -0.11071649193763733, 0.11824139952659607, 0.12969137728214264, 0.2055215686559677, -0.1456533968448639, -0.07659785449504852, 0.04080155864357948, -0.2065298855304718, 0.00333522935397923, 0.03723760321736336, 0.29671117663383484, -0.55594402551651, -0.26346245408058167, -0.1612214297056198, 0.09318295121192932, 0.04604504629969597, -0.11188868433237076, 0.6213971972465515, 0.32036861777305603, 0.2042524814605713, -0.3017686903476715, -0.221499502658844, 0.07502803951501846, 0.32278916239738464, 0.09278205037117004, 0.30261629819869995, -0.48557189106941223, 0.4200371503829956, -0.4036484956741333, -0.15320678055286407, -0.003756946884095669, -0.3694336712360382, -0.07014394551515579, -0.22114136815071106, 0.20006802678108215, 0.2540101110935211, -0.2798582911491394, -0.17462895810604095, -0.12138285487890244, -0.15564806759357452, -0.13124391436576843, 0.21274231374263763, 0.050683777779340744, 0.2457665205001831, -0.13084861636161804, 0.3553517162799835, 0.12222713232040405, 0.06601974368095398, 0.2728295624256134, 0.42447173595428467, -0.3323115110397339, -0.08404609560966492, 0.19293980300426483, 0.4489268362522125, 0.39993488788604736, -0.05696627497673035, 0.0428348034620285, -0.1884293556213379, -0.08663259446620941, 0.2906932532787323, 0.10080067813396454, 0.06178819760680199, -0.18871423602104187, -0.19491031765937805, 0.2908245623111725, 0.14372609555721283, -0.014987735077738762, 0.5019053220748901, 0.22580298781394958, -0.04330481216311455, 0.052839308977127075, 0.23002249002456665, 0.2065012902021408, 0.046007417142391205, 0.00011405423720134422, 0.7173787951469421, -0.3485494554042816, 0.3908316195011139, 0.20152722299098969, -0.15618103742599487, 0.010052727535367012, -0.3190978467464447, 0.24318458139896393, 0.2837018370628357, 0.2917865216732025, -0.288718581199646, 0.219419464468956, 0.09545344114303589, -0.2302541732788086, 0.22122444212436676, -0.1741047352552414, -0.11453502625226974, -0.1374386101961136, -0.1080634742975235, 0.06297359615564346, 0.024376310408115387, 0.2862277328968048, 0.0013437585439532995, -0.3485877513885498, -0.19721075892448425, -0.12465283274650574, 0.2988322675228119, -0.05954812839627266, 0.03612876683473587, 0.16202275454998016, 0.8144519329071045, -0.15090690553188324, 0.2686287760734558, 0.3226845860481262, -0.4662546217441559, 0.026186678558588028, -0.22846022248268127, -0.12358088791370392, 0.11273684352636337, -0.057452812790870667, -0.2781630754470825, -0.30213671922683716, 0.3919539749622345, -0.30415642261505127, -0.02584519237279892, -0.07271669059991837, -0.2795441448688507, 0.011332366615533829, -0.140554279088974, 0.008601921610534191, -0.2485261857509613, 0.007996800355613232, 0.4206351935863495, 0.3496840000152588, 0.13040940463542938, -0.3859909772872925, -0.39971861243247986, -0.06440149992704391, -0.31600552797317505, 0.30536872148513794, 0.11163375526666641, 0.2789038419723511, 0.028863457962870598, 0.3625585734844208, 0.25879427790641785, 0.05910094454884529, -0.1556604504585266, -0.1520625799894333, -0.24350544810295105, -0.06744854152202606, -0.0021788468584418297, -0.22106701135635376, -0.2557886838912964, 0.3020009994506836, 0.027720024809241295, 0.18885208666324615, 0.336492121219635, -0.020871302112936974, -0.04436694458127022, 0.5233839750289917, 0.00090216682292521, -0.5468205809593201, -9.234200477600098, -0.10180631279945374, 0.2129003256559372, -0.06583194434642792, 0.03710854798555374, -0.20261944830417633, 0.10907882452011108, -0.5026870965957642, 0.16230115294456482, 0.19623105227947235, -0.23302024602890015, 0.17035125195980072, -0.019038701429963112, -0.017532451078295708, 0.014308902435004711, -0.226739302277565, 0.11930953711271286, 0.030334994196891785, -0.00347364810295403, 0.14835771918296814, 0.16941602528095245, 0.01415929663926363, 0.2955380976200104, 0.3471148610115051, 0.39989370107650757, 0.21352238953113556, 0.024888115003705025, -0.1259433776140213, 0.17295707762241364, -0.2705346345901489, 0.12850221991539001, 0.05167960375547409, -0.1693662405014038, -0.3235645890235901, 0.11506840586662292, -0.5315007567405701, 0.009621204808354378, -0.15018655359745026, 0.43565866351127625, -0.2005443125963211, 0.00978209637105465, 0.1539645493030548, -0.14831016957759857, -0.16769783198833466, 0.19479161500930786, -0.408515602350235, 0.07218024134635925, -0.005608675070106983, 0.11434756964445114, 0.2624112367630005, 0.7419422268867493, -0.04473385214805603, -0.522840678691864, 0.14517441391944885, -0.612284243106842, -0.038657303899526596, -0.031741913408041, 0.09714551270008087, -0.502490758895874, 0.1471814513206482, 0.1936691254377365, -0.06651759892702103, 0.016003694385290146, 0.3248990476131439, 0.15302503108978271, 0.10298123210668564, -0.4826127290725708, -0.12213888019323349, 0.1510774791240692, -0.30631136894226074, -0.27987322211265564, -0.025048183277249336, -0.23836955428123474, 0.0701940506696701, 0.4180583655834198, -0.1295807957649231, 0.2823239266872406, 0.27221861481666565, 0.16298797726631165, 0.3962264060974121, -0.2525993585586548, -0.10123417526483536, 0.18753735721111298, 0.15544798970222473, -0.13317306339740753, 0.6377375721931458, -0.13940174877643585, 0.22383765876293182, 0.1602916717529297, 0.10694316029548645, -0.02043052203953266, 0.13846780359745026, -0.2565438747406006, 0.005475114099681377, -0.4455377757549286, 0.18794511258602142, 0.021855074912309647, 0.3291304409503937, -0.48739615082740784, 0.26758530735969543, -0.14214125275611877, 0.2113022357225418, 0.22241222858428955, -0.4239917993545532, 0.4560337960720062, 0.011024907231330872, 0.2034425437450409, -0.32835516333580017, 0.35047873854637146, -0.30916500091552734, 0.04985626041889191, -0.17440743744373322, 0.4144763946533203, 0.08200067281723022, -0.4730828106403351, -0.26549696922302246, 0.29282310605049133, -0.18442657589912415, 0.3470226228237152, 0.2870674133300781, 0.059490785002708435, 0.037931133061647415, 0.2432873547077179, -0.1476346254348755, -0.20190346240997314, 0.32133230566978455, -0.052179284393787384, 0.09422890841960907, 0.1944596916437149, -0.13467516005039215, 0.01787617616355419, 0.10207421332597733, 0.07622363418340683, -0.1946527063846588, 0.19155451655387878, -0.25021353363990784, -0.4284452497959137, 0.10521242767572403, -0.01451397780328989, 0.09467368572950363, 0.17013221979141235, -0.19234523177146912, 0.1531139761209488, 0.49129247665405273, 0.2564724385738373, 0.08361296355724335, -0.01481612864881754, -0.4386548399925232, -0.025098763406276703, -0.13633030652999878, -0.3879811465740204, 0.5562655925750732, 0.2326623648405075, 0.2655356228351593, -0.3533957302570343, 0.4117595851421356, 0.23865926265716553, -0.1150151789188385, -0.11694583296775818, -0.35636112093925476, 0.08095221221446991, -0.053372904658317566, 0.054960235953330994, 0.16788946092128754, 0.015339977107942104, -0.3259143829345703, -0.06067594140768051, 0.48684415221214294, -0.11315120756626129, -0.2292003035545349, -0.6307164430618286, -0.41366562247276306, 0.30994629859924316, -0.5482889413833618, -0.11276330798864365, -0.12368486076593399, -0.32789433002471924, 0.24846337735652924, 0.21488581597805023, 0.06233074143528938, -0.28691110014915466, -0.0322483591735363, -0.26902374625205994, -0.05870547518134117, 0.1234181746840477, -0.09502320736646652, -0.312541127204895, 0.047498203814029694, 0.2331925928592682, 0.3144401013851166, -0.2614959180355072, -0.10445541143417358, 0.23444072902202606, 0.04629645496606827, -0.11720943450927734, -0.22751010954380035, -0.5847348570823669, -0.028019044548273087, -0.07015447318553925, -0.022949576377868652, -0.14448045194149017, -0.1419549584388733, 0.4536159336566925, -0.3802095651626587, -0.14917363226413727, -0.08593819290399551, 0.117525614798069, -0.19937926530838013, 0.2622765004634857, 0.2057861089706421, -0.28127768635749817]\n",
            "Word 6 --> Embedding [0.1136130765080452, -0.0997527539730072, -0.18713369965553284, 0.5867875218391418, 0.5931723117828369, -0.029781699180603027, 0.5218859910964966, 0.524994432926178, -0.2585071623325348, -0.42748159170150757, 0.21619576215744019, 0.4864598512649536, -0.2953886091709137, 0.7485062479972839, -0.10895237326622009, 0.01775538921356201, -0.546739935874939, -0.33390992879867554, 0.07563003152608871, -0.030095567926764488, -0.06680125743150711, 0.13813085854053497, -0.3120791018009186, 0.05344479903578758, 0.18474629521369934, -0.03232545405626297, 0.2620217800140381, 0.7366300821304321, 0.043397095054388046, 0.5431808829307556, -0.17885252833366394, -0.11339308321475983, -0.09252368658781052, 0.05039051175117493, -0.21991272270679474, -0.04666296765208244, 0.22963888943195343, 0.23420830070972443, 0.30667296051979065, 0.47670164704322815, 0.4077593684196472, 0.2275366336107254, 0.3328900635242462, 0.5199245810508728, 0.1746954619884491, -0.05634036660194397, 0.5406988859176636, 0.1763610988855362, -0.19256989657878876, -0.09192328155040741, 0.012779023498296738, -0.21206417679786682, 0.2987443506717682, -0.03664923831820488, 0.3079371154308319, -0.20532479882240295, 0.07737056165933609, -0.6512517929077148, 0.2071535289287567, 1.2223495244979858, -0.08538579940795898, -0.12658829987049103, -0.21432150900363922, 0.41926416754722595, 0.25737693905830383, 0.34712129831314087, 0.5288962721824646, 0.11418445408344269, 0.13137464225292206, -0.24061061441898346, -0.5826790928840637, -0.3325248658657074, -0.1380709707736969, -0.15826821327209473, 0.12651579082012177, -0.5563725829124451, 0.40323927998542786, -0.06919889897108078, -0.06837630271911621, -0.6874944567680359, 0.4878554344177246, -0.18288131058216095, -0.4395201802253723, 0.5667408108711243, 0.4907688498497009, -0.3480125367641449, -0.43701672554016113, 0.6083688139915466, -0.06156042590737343, 0.1149507462978363, -0.5384055972099304, -0.1543896496295929, 0.45944058895111084, -0.11397666484117508, 0.3076575994491577, -0.17277397215366364, -0.35243430733680725, -0.1610173135995865, -0.6554530262947083, 0.01709149405360222, 0.26619359850883484, -0.1772191822528839, 0.09851023554801941, 0.5021785497665405, 0.1807498335838318, -0.10020869970321655, 0.09330929070711136, -0.05656762793660164, -0.1706022322177887, 0.1434907764196396, 0.324383944272995, 0.11503216624259949, -0.33244451880455017, -0.0404396690428257, -0.09993436187505722, -0.12845730781555176, 0.3341626822948456, 0.07690571248531342, 0.3966359496116638, -0.08561553061008453, 0.2678995728492737, -0.26094532012939453, -0.15121452510356903, -0.18183204531669617, -0.1563786417245865, 0.14898870885372162, -0.24627701938152313, -0.1568114459514618, 0.701107382774353, 0.3047361969947815, -0.6570447683334351, -0.08769945055246353, 0.6139883399009705, 0.589246928691864, 0.1711377054452896, 0.01752042956650257, -0.7424086332321167, 0.6324009895324707, -1.1246130466461182, -0.5104056596755981, -0.560966432094574, 0.09280021488666534, 0.00028137239860370755, -0.2732965648174286, 0.27241358160972595, -0.5241696238517761, -0.11490429937839508, -0.20753920078277588, 0.030882051214575768, 0.08917798846960068, -0.032052911818027496, -0.21740393340587616, 0.3784783184528351, -0.4198877215385437, -0.3800834119319916, -0.24917186796665192, -0.24161213636398315, 0.11241269111633301, 0.35354673862457275, -0.0698997899889946, -0.2055090069770813, -0.2140609174966812, 0.07266097515821457, 0.17685255408287048, -0.10314664989709854, -0.8515943884849548, 0.42516469955444336, 0.48797693848609924, 0.3122980296611786, 0.14668534696102142, 0.2556975185871124, -0.1628570407629013, 0.4347569942474365, 0.02108502760529518, 0.2948242127895355, -0.34040817618370056, 0.544786810874939, 0.4282684326171875, -0.01483298558741808, 0.4206980764865875, 0.4544317424297333, 0.20687595009803772, -0.2633867561817169, -0.07591581344604492, 0.46339327096939087, -0.284795880317688, -0.4649726152420044, 0.1452099233865738, 0.2298363894224167, 0.20087333023548126, 0.36337846517562866, -0.469225138425827, -0.1537238210439682, -0.023167014122009277, -0.8055919408798218, -0.02179773338139057, -0.19152586162090302, -0.40843847393989563, -0.02695522829890251, 0.06727735698223114, 0.01584002561867237, 0.20047613978385925, 0.07991350442171097, 0.2173389196395874, -0.06596038490533829, -0.421784371137619, -0.5382569432258606, 0.6294885277748108, -0.24302361905574799, -0.19129113852977753, 0.48900216817855835, -0.4434639513492584, 0.2831974923610687, 0.4796770215034485, -0.14938978850841522, 0.02506774477660656, -0.11491148918867111, -0.46570858359336853, 0.31643691658973694, 0.33516597747802734, -0.014944534748792648, 0.7572092413902283, 0.24374458193778992, 0.4445212483406067, 0.14524199068546295, -0.14844805002212524, 0.13293568789958954, 0.32281699776649475, 0.2157491147518158, -0.22467803955078125, 0.26869186758995056, 0.11321555823087692, -0.08476664125919342, 0.05174917355179787, -0.15788200497627258, -0.4979064464569092, -0.8136316537857056, 0.19648976624011993, -0.8565899133682251, 0.3407071530818939, -0.24157826602458954, -0.15449103713035583, -0.1821933388710022, 0.46227604150772095, 0.13126212358474731, 0.26028791069984436, 0.31601035594940186, -0.016736403107643127, 0.31732699275016785, -0.27351173758506775, -0.22337606549263, 0.09957674890756607, -0.334646999835968, 0.20775723457336426, -0.19469615817070007, 0.06458006799221039, 0.2711915671825409, 0.05181796848773956, 0.3490956425666809, -0.37221673130989075, -0.5729284882545471, 0.5714054703712463, 0.14814089238643646, -0.2906039357185364, -0.7007235288619995, -0.1749645471572876, 0.1825374960899353, -0.32819607853889465, -0.6954715251922607, -0.1831068992614746, -0.01576971262693405, -0.17633415758609772, -0.12560227513313293, 0.31957340240478516, 0.3236519694328308, -0.1218835785984993, 0.3365800380706787, -0.33863458037376404, 0.4572635293006897, -0.7922003269195557, 0.4405129551887512, 0.675467312335968, 0.44010603427886963, 0.1583230346441269, -0.06281576305627823, -0.2527996301651001, -0.0755915641784668, 0.02926328033208847, 0.09452831000089645, -0.46189042925834656, -0.39559173583984375, -0.44250282645225525, -0.1967923641204834, -0.2523513436317444, -0.20048636198043823, 0.42155060172080994, -0.4559609293937683, 0.46073248982429504, -0.09535952657461166, 0.44894739985466003, 0.5761025547981262, 0.597920298576355, -0.3330344557762146, -0.4482690691947937, 0.02496211603283882, -0.13709846138954163, 0.18684227764606476, 0.5048539042472839, 0.443061500787735, 0.43245095014572144, 0.3798035979270935, 0.27922526001930237, 0.11021748185157776, -0.44404706358909607, -0.2170504331588745, 0.24429954588413239, -0.16451174020767212, 0.42252084612846375, 0.1212933287024498, 0.10307248681783676, 0.3376631438732147, 0.2218186855316162, -0.18419064581394196, 0.39238008856773376, 0.14180690050125122, 0.6040652990341187, 0.06729459017515182, -0.3021077513694763, 0.011291535571217537, -0.33467578887939453, -0.32696136832237244, -0.24669423699378967, -0.4312025308609009, -0.06505042314529419, -0.13683749735355377, 0.1774044930934906, 0.041696567088365555, 0.3391258716583252, 0.4455007314682007, -0.15192236006259918, 0.17160223424434662, 0.26684680581092834, -0.12090149521827698, 0.06349446624517441, 0.5436028838157654, 0.2351633757352829, -0.3414311408996582, -0.09435521811246872, -0.3695351779460907, -0.13429109752178192, -0.04715800657868385, -0.09149900823831558, -0.12891533970832825, 0.06431136280298233, 0.0015598770696669817, 0.3081092834472656, 0.18808096647262573, -0.2555350363254547, 0.7752061486244202, -0.13020704686641693, 0.27008214592933655, 0.07533738017082214, 0.09897512942552567, 0.24587948620319366, -0.18495212495326996, -0.4736253619194031, 0.00618865666911006, -0.2963765859603882, -0.13823668658733368, -0.019552063196897507, 0.2752974033355713, -0.37946000695228577, 0.20618398487567902, 0.23093152046203613, -0.22431793808937073, 0.062468916177749634, -0.41591876745224, -0.07207085937261581, 0.029204336926341057, -1.05500328540802, 0.243399977684021, -0.0594039261341095, -0.07020262628793716, -0.45361328125, 0.07612194120883942, 0.25209763646125793, -0.2908662259578705, 0.12556301057338715, 0.2671389877796173, -0.18551772832870483, -0.272333562374115, -0.08892236649990082, 0.37662962079048157, -0.08630267530679703, 0.11685813963413239, -0.04779980331659317, -0.6023511290550232, 0.2783869802951813, -0.5414404273033142, 0.3711828291416168, 0.044529207050800323, 0.2754357159137726, -0.34703055024147034, 0.1351969987154007, -0.3155648112297058, -0.5308038592338562, -0.4333108961582184, -0.1776764690876007, 0.1864243596792221, -0.07662779837846756, 0.148017019033432, -0.20368017256259918, 0.5492144227027893, 0.27424100041389465, 0.4872264564037323, -0.3188081681728363, -0.022256076335906982, 0.706566333770752, 0.09758256375789642, -0.12620289623737335, -0.5430549383163452, -0.330410361289978, 0.22002007067203522, 0.3286515176296234, 0.2743539810180664, 0.3532510995864868, -0.7345587015151978, 0.20957183837890625, -0.1811722218990326, -0.21023979783058167, 0.07541857659816742, 0.217952698469162, 0.27066078782081604, 0.0918099656701088, 0.1837386190891266, -0.21083910763263702, 0.026992948725819588, 0.1530701071023941, -0.4096422493457794, -0.4968247711658478, 0.18726074695587158, 0.12293194234371185, -0.17374971508979797, 0.027929076924920082, -0.22257034480571747, 0.2125949114561081, -0.2631866931915283, -0.4925726354122162, 0.0018659825436770916, -0.36756792664527893, 0.5892512798309326, 0.14310623705387115, -0.2772914469242096, 0.6340872049331665, -0.0023654571268707514, -0.6526308059692383, -0.22116419672966003, -0.24000592529773712, -0.4556937515735626, 0.2969185709953308, -0.3896024525165558, -0.12151504307985306, -0.22670280933380127, 0.18995806574821472, 0.5997505784034729, -0.2781054675579071, -0.19776619970798492, 0.7137793898582458, 0.16794636845588684, -0.5824729800224304, 0.1234176829457283, 0.20162980258464813, 0.11512691527605057, 0.002821411471813917, -0.42952483892440796, 0.508865475654602, -0.01963992416858673, 0.523075520992279, -0.08091545104980469, 0.14290493726730347, 0.026746703311800957, 0.004249580670148134, -0.08179783821105957, -0.22086983919143677, 0.2960212230682373, 0.4583285450935364, 0.2969611883163452, 0.09144071489572525, 0.08933709561824799, 1.1778959035873413, -0.00432088365778327, 0.4465448260307312, -0.1938258558511734, 0.4803526997566223, 0.0042282878421247005, 0.05798867717385292, 0.045298296958208084, -0.1603948175907135, -0.20665644109249115, -0.27455246448516846, -0.2371634542942047, 0.06767299026250839, -0.01669538952410221, 0.04079516977071762, 0.41697680950164795, 0.7884423732757568, -0.260446697473526, 0.09856623411178589, 0.015109297819435596, -0.3797566294670105, 0.2633918523788452, -0.2692529261112213, -0.15611428022384644, 0.12169605493545532, -0.1213538870215416, -0.45258525013923645, 0.30126243829727173, 0.49735212326049805, 0.2869946360588074, 0.10510946810245514, 0.5915765762329102, -0.2998434603214264, -0.4396878778934479, -0.20543980598449707, 0.08451113104820251, 0.488653302192688, 0.7124110460281372, 0.4040006101131439, -0.35231345891952515, 0.926119863986969, -0.3462478220462799, 0.17613916099071503, -0.31229448318481445, -0.6446554660797119, 1.1856971979141235, -0.5606033802032471, 0.15671680867671967, 0.25179409980773926, 0.11174627393484116, 0.200938418507576, -0.3655725419521332, -0.16186824440956116, -0.02512916922569275, 0.09304583072662354, 0.022259898483753204, 0.1624952107667923, -0.24443456530570984, -0.28496015071868896, -0.3894953727722168, 0.3760174512863159, 0.19050104916095734, 0.7354486584663391, 0.015258646570146084, 0.10122914612293243, -0.11236157268285751, -0.2045423537492752, 0.004407076630741358, -8.679109573364258, -0.03138278052210808, 0.06087752804160118, -0.625190794467926, 0.37178412079811096, -0.520737886428833, -0.5633730888366699, 0.2759408950805664, -0.5668795704841614, -0.10968112200498581, -0.16785182058811188, -0.06515350192785263, 0.7194012999534607, 0.08902245759963989, -0.07487837970256805, -0.2059611827135086, -0.29280316829681396, 0.16318900883197784, -0.17944200336933136, -0.45220687985420227, -0.0507483147084713, 0.35578233003616333, 0.4227662980556488, 0.6416730880737305, 0.4682775139808655, 0.6597388982772827, -0.11655393242835999, 0.631030261516571, 0.10709332674741745, -0.1438148319721222, -0.10557946562767029, 0.3127688467502594, -0.2306211143732071, -0.28323090076446533, 0.020590482279658318, -0.002778224181383848, 0.23545300960540771, -0.2960563898086548, 0.7731989622116089, -0.5777060389518738, -0.003513457952067256, 0.34555819630622864, -0.4153119921684265, -0.24300380051136017, -0.1526850163936615, -0.49887487292289734, 0.2538226842880249, 0.18705038726329803, -0.21383678913116455, -0.17314158380031586, 0.82928067445755, -0.00803226139396429, -0.3336011469364166, -0.11323483288288116, -0.5052152276039124, 0.0538804791867733, 0.0734320729970932, -0.04914078488945961, 0.07554631680250168, 0.008402233943343163, 0.2088756114244461, -0.5753347277641296, -0.022170746698975563, 0.27140212059020996, -0.1403149515390396, 0.38842055201530457, -0.2759730815887451, -0.2624739706516266, -0.3106902241706848, -0.10418020933866501, -0.342658668756485, -0.07352997362613678, -0.05008397623896599, -0.2525310814380646, -0.3175194561481476, -0.2876206636428833, -0.30589041113853455, -0.4040061831474304, 0.2505483031272888, 0.2936426103115082, -0.11296629160642624, 0.3471815586090088, -0.042448222637176514, -0.23790894448757172, -0.04669703170657158, -0.23948703706264496, -0.5737082958221436, 0.5185766816139221, 0.0497315339744091, -0.08672671020030975, -0.15038591623306274, 0.45197394490242004, 0.13710951805114746, -0.25544294714927673, -0.28214091062545776, 0.23052668571472168, -0.15962176024913788, 0.32511839270591736, -0.38892292976379395, 0.020022805780172348, -0.5218795537948608, -0.22579580545425415, -0.13817955553531647, -0.08737301826477051, 0.41250208020210266, 0.19954000413417816, -0.08621401339769363, -0.5191419124603271, 0.4324965178966522, -0.014030393213033676, 0.13365019857883453, 0.31971514225006104, 0.276688814163208, 0.02961277775466442, 0.4349188506603241, 0.07014303654432297, 0.21529388427734375, -0.17143870890140533, -0.10394700616598129, -0.11254686862230301, 0.2248089462518692, -0.11435718834400177, -0.34768956899642944, -0.44320443272590637, 0.21283218264579773, -0.04947530850768089, -0.3817208409309387, -0.6540612578392029, 0.518312931060791, -0.3716374337673187, 0.35753321647644043, -0.05850004404783249, 0.18609002232551575, 0.16698327660560608, -0.6239496469497681, -0.22868861258029938, -0.369168758392334, 0.3560032546520233, 0.03432585299015045, 0.19682976603507996, -0.20887254178524017, -0.08521252870559692, 0.4244791567325592, 0.12931863963603973, 0.045552387833595276, 0.30918222665786743, -0.04480040445923805, -0.9829714894294739, 0.40090078115463257, -0.3724122941493988, -0.15032197535037994, 0.5459195375442505, 0.36260586977005005, -0.08185059577226639, -0.18283340334892273, -0.1418759822845459, 0.13654930889606476, 0.3374425768852234, 0.08867896348237991, -0.18412697315216064, 0.5504516363143921, -0.09910842776298523, 0.1492834836244583, -0.25239333510398865, -0.08786601573228836, 0.21977536380290985, 0.4394688606262207, 0.077290378510952, -0.28849679231643677, 0.027284465730190277, -0.012939363718032837, -0.34631583094596863, 0.373401403427124, 0.05062714219093323, -0.5873183012008667, -0.6533014178276062, 0.3574751019477844, -0.016109324991703033, 0.1624458134174347, -0.13058091700077057, 0.2594970464706421, 0.2862801253795624, 0.009143931791186333, 0.025684885680675507, -0.4416426420211792, -0.08874136954545975, -0.3936258554458618, -0.30335086584091187, 0.15573248267173767, -0.3255852162837982, 0.15374331176280975, 0.12660938501358032, -0.22033996880054474, 0.2687603533267975, 0.0879422277212143, 0.27947476506233215, -0.5041244626045227, -0.3060501515865326, 0.6250603199005127, -0.1902509182691574, 0.3296991288661957, -0.4013765752315521, 0.11945237964391708, -0.4895305037498474, -0.20782360434532166, 0.21886073052883148, 0.15326622128486633, -0.15643927454948425, 0.41189637780189514, -0.15537400543689728, -0.07999029010534286]\n",
            "Word 7 --> Embedding [-0.1264389157295227, -0.14018197357654572, -0.20328468084335327, 0.6698552370071411, 0.7482185959815979, 0.24394699931144714, 0.7409597635269165, 0.4951355457305908, 0.060366008430719376, -0.26058316230773926, 0.5394973158836365, 0.35125496983528137, -0.005789363756775856, 0.9853277206420898, -0.2694608271121979, 0.09038706868886948, -0.3260076642036438, -0.3112049698829651, 0.14099343121051788, -0.2275221198797226, -0.13323025405406952, 0.47755271196365356, -0.27562853693962097, 0.5015149712562561, -0.06434372812509537, 0.14855538308620453, 0.1565210372209549, 0.7170782685279846, 0.40243327617645264, 0.8090363144874573, 0.006755891256034374, -0.1984415501356125, -0.20146553218364716, 0.16715916991233826, 0.1467711478471756, -0.029698945581912994, 0.4461423456668854, 0.4752499759197235, 0.38178032636642456, 0.37395113706588745, 0.10469800233840942, 0.18845117092132568, 0.3993956744670868, 0.4503144919872284, 0.26777222752571106, 0.03209904208779335, 0.3457159399986267, -0.15383318066596985, 0.055090636014938354, -0.13180579245090485, 0.013524959795176983, -0.08519398421049118, 0.20882859826087952, -0.007463778834789991, 0.0780557245016098, -0.5407487154006958, 0.17269431054592133, -0.6874029040336609, 0.3948252499103546, 0.9201232194900513, 0.03568186238408089, -0.06993790715932846, 0.24363653361797333, 0.4955882430076599, 0.20971065759658813, 0.2652551233768463, 0.4177955687046051, -0.2741091251373291, 0.04800359904766083, -0.30012965202331543, -1.0280362367630005, 0.029229244217276573, -0.13325928151607513, -0.4474336802959442, -0.11431477963924408, -0.7811310291290283, 0.5951361656188965, 0.1694043129682541, 0.07665155827999115, -0.7687491178512573, 0.370683491230011, -0.17570436000823975, -0.26724645495414734, 0.5668964385986328, 0.6044350266456604, -0.3756799101829529, -0.7465261220932007, 0.6685086488723755, 0.29068177938461304, 0.5411888360977173, -0.6834427118301392, -0.29725930094718933, 0.9190529584884644, -0.3102780878543854, 0.3849445879459381, -0.5943068861961365, -0.25288209319114685, -0.2521515190601349, -1.1020156145095825, 0.3131389915943146, 0.04712723195552826, 0.08321138471364975, -0.3296896815299988, 0.2838670611381531, 0.08360470831394196, 0.14484384655952454, 0.10393606871366501, -0.3607395887374878, -0.20747768878936768, 0.4595109820365906, 0.24852029979228973, -0.022292237728834152, -0.42882785201072693, -0.12276975810527802, -0.13819384574890137, -0.44478538632392883, 0.03308612480759621, 0.004709039349108934, 0.3257083594799042, -0.22511178255081177, 0.3199961483478546, -0.36645373702049255, -0.531744122505188, -0.09961318224668503, -0.10148866474628448, -0.10637442767620087, -0.7547644376754761, -0.2732110023498535, 0.7534868121147156, 0.3208658993244171, -0.8308929204940796, -0.0012895562686026096, 0.420178085565567, 0.8064684271812439, -0.13532403111457825, 0.10560057312250137, -0.7694891095161438, 0.7459005117416382, -1.240134358406067, -0.4051212966442108, -0.5982722043991089, -0.06303395330905914, -0.024414999410510063, -0.5917647480964661, 0.3891960382461548, -0.3310528099536896, -0.17691455781459808, -0.3278758227825165, 0.08263644576072693, 0.09719707816839218, 0.2859886586666107, -0.024268871173262596, 0.7583854794502258, -0.33184558153152466, -0.3423241078853607, -0.4927402436733246, -0.6118497252464294, 0.2557152807712555, 0.43605685234069824, 0.06269421428442001, -0.17187093198299408, 0.36504441499710083, 0.04506225511431694, 0.40232881903648376, -0.19493164122104645, -0.6519328951835632, 0.6047782897949219, 0.6030331254005432, 0.3945029675960541, 0.0539274588227272, 0.020125724375247955, 0.03108351118862629, 0.6211469769477844, -0.24695149064064026, 0.15094812214374542, -0.5981768369674683, 0.6582013964653015, 0.6114041805267334, -0.06663487106561661, 0.17688190937042236, 0.29219019412994385, -0.17020906507968903, -0.21629880368709564, -0.1846485435962677, 0.3245776295661926, -0.436493456363678, -0.7224718332290649, 0.3271288573741913, 0.5283229947090149, -0.001245497027412057, 0.060770366340875626, -0.7362649440765381, -0.02920715883374214, -0.045912496745586395, -0.49150198698043823, 0.016670644283294678, 0.09106498211622238, -0.42992934584617615, 0.3345610797405243, -0.1540178805589676, 0.026210149750113487, -0.00036981067387387156, -0.36231034994125366, 0.17017115652561188, 0.08441698551177979, -0.5732141137123108, -0.7090288996696472, 0.32385551929473877, -0.3968692123889923, -0.2577914893627167, 0.4908723831176758, -0.5564418435096741, -0.10371806472539902, 0.5620249509811401, -0.48483461141586304, 0.07135215401649475, 0.0030345357954502106, -0.5423262715339661, 0.2399945855140686, 0.23277638852596283, 0.26566392183303833, 1.0131096839904785, 0.13059911131858826, 0.44629228115081787, 0.09498728811740875, -0.2733015716075897, -0.36748144030570984, 0.7227789163589478, 0.4194619059562683, -0.27417176961898804, 0.3815034329891205, 0.19841839373111725, -0.09707174450159073, -0.07289449125528336, 0.14561280608177185, -0.7857811450958252, -0.6882136464118958, 0.21602441370487213, -0.7227969169616699, 0.2505532205104828, -0.36637359857559204, 0.04110219329595566, 0.3169529139995575, 0.803252100944519, 0.20099930465221405, 0.6202349066734314, 0.15117843449115753, -0.2677510976791382, 0.20339173078536987, -0.22284641861915588, -0.20445185899734497, -0.19832144677639008, -0.6897537708282471, 0.5061873197555542, 0.37455955147743225, 0.023653460666537285, 0.3003261685371399, 0.12844006717205048, 0.458085298538208, -0.3710688352584839, -0.12918637692928314, 0.9165566563606262, 0.12593013048171997, -0.27774298191070557, -0.881584882736206, -0.44260621070861816, 0.2141130268573761, -0.5710492730140686, -0.5809042453765869, -0.05828765779733658, 0.14100006222724915, -0.5573874115943909, 0.27178195118904114, 0.5534867644309998, 0.12478073686361313, 0.15080277621746063, 0.24363480508327484, -0.2666999101638794, 0.32805219292640686, -0.5418200492858887, 0.5169738531112671, 0.3718194365501404, 0.584135115146637, 0.3548577129840851, 0.16660241782665253, 0.04504243656992912, -0.31445515155792236, 0.11957497894763947, 0.04357461258769035, -0.9413072466850281, -0.41391903162002563, -0.2542003095149994, -0.39020028710365295, -0.061804939061403275, -0.1309303492307663, 0.4072059988975525, -0.3825676143169403, 0.5874897241592407, 0.09993704408407211, 0.6119199991226196, 0.29797789454460144, 0.9764437675476074, -0.5296095609664917, -0.6142329573631287, -0.048513129353523254, -0.043215829879045486, 0.3759475648403168, 0.2805565297603607, 0.6805818676948547, 0.4577060639858246, 0.4112306237220764, 0.1916135549545288, -0.11475880444049835, -0.18063712120056152, -0.20541442930698395, 0.3284435570240021, 0.2403355985879898, 0.6346114873886108, 0.38248154520988464, 0.13587193191051483, 0.2804078459739685, 0.2352011650800705, -0.2559366524219513, 0.10640173405408859, 0.2149888128042221, 0.49529722332954407, 0.40003904700279236, 0.04726344719529152, 0.05948856472969055, -0.3999527096748352, -0.3555207848548889, -0.6160070300102234, -0.22590528428554535, 0.14716951549053192, 0.1711680144071579, 0.1565886288881302, -0.2564423978328705, 0.3492835462093353, -0.16852501034736633, 0.3526252806186676, 0.4272880554199219, -0.3497523069381714, 0.07499217987060547, -0.21698236465454102, 0.5924950242042542, -0.06712178885936737, -0.0034792085643857718, 0.14522774517536163, -0.4514477252960205, -0.08962371945381165, 0.04573078826069832, -0.3920498788356781, -0.2919560372829437, -0.08523394167423248, -0.11228089779615402, 0.4525735676288605, 0.024952391162514687, -0.11198080331087112, 0.5882365703582764, -0.10597821325063705, -0.020290406420826912, 0.20551307499408722, 0.36843445897102356, 0.4476940929889679, -0.028176864609122276, -0.6591563820838928, -0.24692557752132416, -0.6612868309020996, -0.09365198016166687, 0.1736363023519516, 0.5830357670783997, -0.3171824514865875, 0.229364812374115, 0.3698273301124573, -0.2514340579509735, 0.045801520347595215, -0.7837877869606018, -0.1371031552553177, -0.16326653957366943, -1.1117640733718872, 0.20849297940731049, -0.2810947597026825, -0.3829146921634674, -0.03466374799609184, -0.12387851625680923, 0.11770886182785034, -0.13103199005126953, 0.10891454666852951, 0.28210166096687317, -0.21389169991016388, -0.11585745215415955, -0.5058050751686096, 0.3424031138420105, -0.06730081140995026, 0.2068134844303131, 0.09406663477420807, -0.5490208864212036, 0.22234095633029938, -0.7671673893928528, 0.31087106466293335, 0.07843892276287079, 0.05834680795669556, -0.15622372925281525, 0.24370965361595154, -0.3255958557128906, -0.424282968044281, -0.49081000685691833, -0.2321411818265915, 0.3385295569896698, -0.25000184774398804, 0.1502532958984375, -0.23562844097614288, 0.41613781452178955, 0.314180850982666, 0.23803293704986572, -0.19522273540496826, -0.12033247202634811, 0.9835367798805237, -0.10475140064954758, 0.08901436626911163, -0.4094429612159729, -0.41645267605781555, 0.01168145053088665, 0.5631060600280762, 0.3124231696128845, 0.34877362847328186, -0.3052947521209717, -0.07156552374362946, -0.14390778541564941, 0.09136539697647095, 0.45356884598731995, 0.46202126145362854, 0.2010190784931183, 0.16331756114959717, 0.3430131673812866, 0.02602173015475273, -0.4395153522491455, 0.1628466546535492, -0.20507535338401794, -0.2615897059440613, -0.21646873652935028, 0.24212627112865448, -0.014871654100716114, 0.039785392582416534, -0.5265651941299438, 0.16377252340316772, -0.143523171544075, -0.2080213725566864, -0.22146306931972504, -0.4732135534286499, 0.6946073770523071, 0.04467543214559555, -0.38634416460990906, 0.6705854535102844, 0.03651908040046692, -0.8881397843360901, -0.18482741713523865, -0.5399914383888245, -0.3049834668636322, 0.6018731594085693, -0.7149325609207153, 0.008433369919657707, -0.24146448075771332, 0.15595071017742157, 0.5161021947860718, -0.3760167062282562, 0.0569857656955719, 0.5019634962081909, 0.1501007080078125, -0.5988155603408813, 0.10096442699432373, -0.045287396758794785, 0.23528456687927246, 0.11953799426555634, -0.4651356339454651, 0.20805059373378754, -0.19430534541606903, 0.30485326051712036, -0.13114629685878754, 0.2727844715118408, -0.21965092420578003, 0.13039530813694, -0.18803530931472778, -0.14775165915489197, 0.1559075117111206, 0.2855517268180847, 0.09280122816562653, 0.09271612763404846, 0.13424275815486908, 0.9174002408981323, -0.529924213886261, 0.26847410202026367, -0.06002715975046158, 0.487444669008255, -0.3273313343524933, 0.11442326009273529, 0.24636635184288025, -0.1760173887014389, -0.38272133469581604, -0.5352211594581604, -0.04305024445056915, -0.24484889209270477, -0.009821605868637562, -0.07484757155179977, 0.22410176694393158, 1.0571035146713257, -0.30944857001304626, -0.15201322734355927, 0.02459026128053665, -0.13919280469417572, 0.2986837327480316, -0.31188318133354187, -0.0388883613049984, -0.04894699901342392, -0.24860811233520508, -0.46652600169181824, 0.0528184249997139, 0.5231014490127563, 0.37220942974090576, 0.3385525047779083, 0.35444605350494385, 0.2843708097934723, -0.5722715854644775, 0.3851214647293091, 0.3892334997653961, 0.6540336608886719, 0.5563376545906067, 0.38392186164855957, -0.605520486831665, 0.8750030994415283, -0.15203912556171417, 0.533500611782074, -0.3587972819805145, -0.049067188054323196, 0.8029424548149109, -0.5796068906784058, 0.28269246220588684, 0.09006807208061218, 0.19301453232765198, 0.1741887629032135, -0.4913908541202545, -0.36716172099113464, -0.04404319450259209, 0.0008533842628821731, 0.06795832514762878, 0.4720994532108307, -0.26911216974258423, -0.6198033094406128, -0.3564046025276184, 0.41787317395210266, 0.47402316331863403, 0.7487298846244812, -0.10125163197517395, -0.061951249837875366, -0.24514614045619965, 0.10402756184339523, -0.1124798133969307, -8.32363224029541, -0.01663106121122837, -0.27325645089149475, -0.16094473004341125, 0.5457705855369568, -0.40899017453193665, -0.3634440302848816, -0.03916795179247856, -0.5442967414855957, -0.3540861904621124, -0.28068992495536804, -0.2009153515100479, 0.3873329162597656, -0.13411514461040497, -0.039203789085149765, -0.35685813426971436, -0.3784598410129547, -0.10649401694536209, -0.3082510530948639, -0.6777716279029846, 0.04905332252383232, 0.29522114992141724, 0.27588367462158203, 0.8493173718452454, 0.28077995777130127, 0.9207305908203125, 0.205568328499794, 0.5665492415428162, 0.20920604467391968, -0.09543909132480621, -0.4885098338127136, 0.46357616782188416, 0.13200929760932922, -0.21834300458431244, -0.08017314970493317, -0.16094203293323517, 0.7440651059150696, -0.6101452708244324, 0.16226635873317719, -0.5385463833808899, 0.04803406074643135, 0.3024981617927551, -0.2896459996700287, -0.49612900614738464, -0.005830598529428244, -0.5089432597160339, 0.3715874254703522, -0.3760165572166443, -0.6832951903343201, 0.11817031353712082, 0.5923807621002197, -0.14703646302223206, -0.09440966695547104, 0.23282481729984283, -0.20683839917182922, 0.04241698980331421, 0.06367845088243484, -0.1718599498271942, 0.5224152207374573, 0.1631714403629303, -0.02307996153831482, -0.5557831525802612, 0.1945355236530304, 0.3172929286956787, -0.023629549890756607, 0.40462327003479004, -0.3595869243144989, -0.3709120452404022, -0.09710478782653809, -0.2664424180984497, 0.10466060042381287, -0.07921326905488968, -0.028603622689843178, -0.4673706889152527, -0.13037025928497314, -0.4476383328437805, -0.5338078737258911, 0.21478413045406342, 0.08317895978689194, 0.244585782289505, 0.026849187910556793, 0.37380605936050415, -0.28262022137641907, -0.09207767248153687, -0.1586974859237671, -0.044517096132040024, -0.7073512077331543, 0.05496001988649368, 0.4364626109600067, 0.03355216607451439, 0.08635594695806503, 0.47193145751953125, -0.24286392331123352, -0.4893430769443512, -0.4482317566871643, 0.5587814450263977, -0.20363299548625946, 0.2751365005970001, -0.12977644801139832, -0.14588262140750885, -0.3685261309146881, 0.12351316958665848, -0.22585706412792206, -0.43552839756011963, 0.3161112070083618, 0.13138452172279358, -0.2877839505672455, -0.6022946238517761, 0.7001751661300659, 0.25046318769454956, 0.1224471852183342, -0.013070037588477135, 0.5143572092056274, 0.06105787307024002, 0.34071457386016846, 0.0390876941382885, 0.3510541021823883, -0.2661752700805664, -0.13862521946430206, -0.24429437518119812, -0.1613246202468872, 0.1341005265712738, -0.4029000997543335, -0.32283350825309753, 0.27911481261253357, 0.13533398509025574, -0.2274688333272934, -0.29745516180992126, 0.7003527879714966, -0.4380132257938385, 0.8808070421218872, -0.04300868138670921, 0.21522846817970276, 0.3358083665370941, -0.7157378196716309, -0.17586638033390045, -0.38550838828086853, 0.1966496706008911, -0.08964650332927704, 0.3343416452407837, -0.1704796999692917, -0.2521057724952698, 0.746451735496521, 0.23124763369560242, 0.07136258482933044, 0.3383135497570038, -0.11695381253957748, -0.8361852765083313, 0.1955656260251999, -0.36158496141433716, -0.30590367317199707, 0.3079339563846588, 0.5471364855766296, 0.12502332031726837, -0.17374883592128754, 0.04861345514655113, 0.20478558540344238, 0.82096266746521, -0.16150613129138947, 0.06266508996486664, 0.5158073902130127, -0.4596136808395386, -0.3118880093097687, -0.08617459982633591, -0.5050848126411438, 0.17612379789352417, 0.493274986743927, 0.2404855191707611, -0.3401491343975067, 0.1762903332710266, 0.07621902972459793, -0.2567404508590698, 0.17166411876678467, 0.058308690786361694, -0.4235672056674957, -0.582095742225647, 0.046616729348897934, -0.3061469495296478, 0.13173392415046692, -0.1755555123090744, -0.20194070041179657, 0.44846299290657043, -0.38469982147216797, -0.38018468022346497, -0.07478750497102737, 0.07906202226877213, -0.39058125019073486, -0.4052717387676239, 0.09720513969659805, -0.3190116286277771, 0.37648817896842957, 0.12203002721071243, -0.4232184588909149, 0.3363942503929138, -0.08861030638217926, 0.459306001663208, -0.6314409375190735, 0.044135790318250656, 0.6058115363121033, -0.332236111164093, 0.11467237770557404, -0.2637004852294922, 0.367905855178833, -0.27194496989250183, -0.25971996784210205, 0.16776110231876373, 0.1529630720615387, -0.219317227602005, 0.6701523661613464, -0.060387540608644485, -0.2917037606239319]\n",
            "Word 8 --> Embedding [-0.4356258511543274, -0.07609079033136368, -0.12187269330024719, 0.49591299891471863, 0.31246817111968994, 0.12497714906930923, 0.3809506297111511, 0.3643932640552521, 0.06415661424398422, -0.0953686535358429, 0.19542410969734192, -0.27335768938064575, -0.15609322488307953, 0.5847209692001343, 0.017500128597021103, 0.22061707079410553, -0.20261885225772858, -0.04249536991119385, 0.020298169925808907, -0.11638064682483673, -0.04648878425359726, 0.13738574087619781, -0.4183681309223175, 0.29862672090530396, 0.2754194140434265, -0.03333784639835358, 0.08056441694498062, 0.9809062480926514, 0.41016146540641785, 0.3775094449520111, 0.22161909937858582, -0.11669735610485077, -0.15297295153141022, -0.022341225296258926, 0.1184113398194313, -0.030792638659477234, 0.054294731467962265, 0.3316625654697418, 0.367543488740921, 0.04313686117529869, -0.12712474167346954, 0.0018389836186543107, 0.025859450921416283, 0.268267422914505, 0.2598363161087036, 0.08458340167999268, 0.14077959954738617, 0.37752828001976013, -0.015538646839559078, -0.1817217916250229, 0.7701753377914429, -0.189418226480484, 0.4292982518672943, 0.07848501950502396, -0.005018414463847876, 0.03878890722990036, 0.36306652426719666, 0.004564080387353897, 0.2708275318145752, 0.2984358072280884, -0.11664178967475891, 0.15489107370376587, 0.21401666104793549, 0.12418951839208603, 0.18498708307743073, 0.09926042705774307, 0.28181520104408264, 0.2153542935848236, -0.06556933373212814, -0.5732155442237854, -0.4845637083053589, -0.2610648274421692, -0.20687523484230042, 0.02158323861658573, -0.1459767371416092, -0.6046379804611206, 0.345408171415329, -0.007538363803178072, -0.4109768569469452, -0.7057525515556335, 0.19355140626430511, 0.2880314588546753, -0.10825496912002563, 0.19347986578941345, 0.4247533082962036, -0.6801179647445679, -0.46175417304039, 0.2883520722389221, -0.16423361003398895, 0.5011986494064331, -0.14001721143722534, -0.005462292581796646, 0.43993809819221497, -0.19047552347183228, 0.2210548222064972, -0.15016795694828033, -0.2558290958404541, -0.19844649732112885, -0.011169462464749813, 0.10262981057167053, 0.3997296094894409, 0.2993188202381134, -0.10489066690206528, 0.41277003288269043, 0.06684789806604385, 0.357086718082428, 0.1318153738975525, 0.06657040119171143, -0.47540485858917236, 0.31488028168678284, -0.27253249287605286, -0.08198065310716629, -0.2020857334136963, -0.19472642242908478, -0.35488998889923096, -0.2929316461086273, -0.14273448288440704, 0.4273833632469177, 0.2548646032810211, -0.5105497241020203, 0.35834556818008423, 0.20659089088439941, -0.24860060214996338, -0.18226294219493866, -0.4367169439792633, -0.14197085797786713, -0.3908071517944336, -0.3007945418357849, 0.33775752782821655, 0.3445594012737274, -0.4522320330142975, -0.050860073417425156, 0.07051124423742294, 0.4177612066268921, 0.07769693434238434, 0.5103549957275391, -0.9991839528083801, 0.532589316368103, -0.8392444252967834, -0.5549687147140503, -0.713292121887207, 0.05323176085948944, 0.09932384639978409, -0.016022689640522003, 0.3753036856651306, -0.22516769170761108, -0.11156567931175232, -0.45859402418136597, -0.07154512405395508, -0.023504748940467834, 0.22505030035972595, 0.0008266909280791879, 0.5356535315513611, -0.1986912339925766, -0.6331378221511841, -0.3041013181209564, -0.2830219268798828, 0.26643118262290955, 0.2571197748184204, 0.17452557384967804, 0.1944442242383957, 0.3076092302799225, -0.052357472479343414, 0.09919912368059158, -0.22216524183750153, -0.548880398273468, 0.540985107421875, 0.22252832353115082, -0.02593662403523922, -0.0944303423166275, -0.24571575224399567, -0.05589095875620842, 0.029769249260425568, -0.321135014295578, -0.3240750730037689, -0.2681858241558075, 0.3501562774181366, 0.5719890594482422, 0.24777701497077942, -0.07076944410800934, 0.2930937707424164, -0.1759600043296814, -0.3129207193851471, 0.5321661829948425, 0.36995890736579895, -0.19555485248565674, -0.4889431297779083, 0.1867797076702118, 0.2872837483882904, 0.2574518918991089, 0.06804294884204865, -0.24217557907104492, 0.18323175609111786, -0.1706283837556839, -0.44283679127693176, -0.16464993357658386, -0.058718591928482056, -0.33414775133132935, 0.17972609400749207, -0.138373464345932, -0.4906977117061615, 0.2880263328552246, 0.006785047706216574, -0.002001191023737192, -0.23322495818138123, -0.36923423409461975, -0.7036838531494141, -0.23508115112781525, -0.15489381551742554, -0.05325363203883171, 0.08738594502210617, -0.517693042755127, -0.07794994860887527, 0.3335089087486267, -0.10679102689027786, -0.5610829591751099, -0.8847848773002625, -0.17000576853752136, 0.024170882999897003, 0.0681867003440857, 0.17241136729717255, 0.3477329909801483, 0.1894560605287552, -0.003125909948721528, 0.23064415156841278, 0.09055531024932861, -0.3241864740848541, 0.4015190303325653, 0.4110211133956909, -0.13802087306976318, -0.08123241364955902, 0.24297811090946198, 0.161918044090271, 0.14345557987689972, 0.0199208315461874, -0.5898395776748657, -0.439278244972229, -0.11863058060407639, -0.6734220385551453, 0.3490181267261505, -0.2389475703239441, -0.14421872794628143, 0.24212691187858582, 0.19193536043167114, -0.02509930543601513, 0.36615923047065735, -0.058910418301820755, 0.022006897255778313, 0.3028240203857422, -0.49838536977767944, -0.02091836929321289, -0.012964039109647274, -0.3720584809780121, 0.005803720559924841, -0.08849544823169708, -0.5477317571640015, 0.2589195966720581, 0.14411082863807678, 0.17965805530548096, -0.47720396518707275, -0.1065320074558258, 0.14519159495830536, 0.45220595598220825, -0.3473190665245056, -0.3499096930027008, -0.44051477313041687, -0.054230835288763046, -0.10905908793210983, -0.655560314655304, 0.1450236737728119, -0.30191731452941895, -0.6590219140052795, -0.2656594514846802, 0.2034938931465149, -0.20125296711921692, -0.2665579915046692, 0.2291204333305359, -0.10023002326488495, -0.2766209542751312, -0.45129305124282837, 0.5312323570251465, -0.018266970291733742, 0.46093136072158813, -0.07415453344583511, 0.1312309056520462, -0.0647566094994545, -0.4179314374923706, 0.18200092017650604, 0.2581041157245636, -0.7443241477012634, 0.006734659895300865, -0.005120742134749889, -0.28926217555999756, 0.2448388636112213, 0.28524038195610046, 0.3412315547466278, -0.30704736709594727, 0.670254647731781, 0.049193933606147766, 0.4435313045978546, 0.5193553566932678, 0.24993115663528442, -0.34905266761779785, -0.002315712394192815, -0.09901215881109238, 0.16412292420864105, 0.046324655413627625, 0.07450460642576218, 0.4756976068019867, 0.12144366651773453, 0.5650219917297363, 0.214974045753479, -0.059483516961336136, 0.05303756147623062, -0.3601685166358948, -0.1572115123271942, 0.07362069934606552, 0.3150668144226074, 0.07493311911821365, 0.3206303119659424, 0.10824859887361526, 0.14792846143245697, 0.08378979563713074, 0.3055218458175659, 0.3399326503276825, 0.1717281937599182, 0.3219212591648102, 0.10795130580663681, 0.24235959351062775, 0.0032610257621854544, -0.22935128211975098, -0.20418113470077515, -0.24105823040008545, 0.39815419912338257, 0.03589015454053879, 0.3034282624721527, -0.2580484449863434, 0.48205453157424927, -0.3163214921951294, 0.43914157152175903, 0.10433535277843475, -0.05671953409910202, -0.11088830977678299, 0.09924405813217163, 0.08755318075418472, 0.07541530579328537, 0.09853539615869522, 0.09718155860900879, -0.1112208217382431, 0.011673294007778168, -0.05544394627213478, -0.49803072214126587, -0.27039283514022827, 0.11517602950334549, 0.09450053423643112, 0.1858598291873932, -0.14648884534835815, -0.3604004681110382, 0.26721107959747314, 0.14889772236347198, -0.0651097223162651, 0.3564714193344116, 0.14864158630371094, 0.012566774152219296, -0.10096016526222229, -0.37479931116104126, -0.404977411031723, -0.4196467399597168, -0.23962083458900452, -0.29006707668304443, 0.1940467655658722, -0.21422718465328217, 0.22362029552459717, 0.25599032640457153, 0.03651207685470581, 0.21253462135791779, -0.415693074464798, 0.35666680335998535, -0.20013952255249023, -0.4498407244682312, 0.2573382556438446, -0.24403607845306396, -0.48865875601768494, 0.3108774423599243, -0.2663995921611786, 0.15473641455173492, -0.25794118642807007, 0.05669606104493141, 0.4618777334690094, -0.07095712423324585, -0.015407933853566647, -0.21649269759655, -0.035645488649606705, 0.19525094330310822, -0.01991645060479641, 0.17956353724002838, -0.601245105266571, 0.4713194668292999, -0.09841824322938919, 8.833841275190935e-05, -0.11533786356449127, 0.2014697939157486, 0.012900955975055695, 0.4342479705810547, -0.21786338090896606, -0.4033014178276062, -0.44404664635658264, 0.5210358500480652, 0.49228110909461975, -0.48723113536834717, 0.20757752656936646, -0.09941735863685608, 0.34264662861824036, 0.42877432703971863, 0.49498018622398376, -0.10931248217821121, -0.05468863248825073, 0.49364811182022095, 0.23694077134132385, 0.27360790967941284, -0.33847951889038086, -0.40611180663108826, -0.4725421369075775, -0.0038724548649042845, 0.3650881350040436, 0.2405124008655548, -0.34253019094467163, 0.30240651965141296, -0.07527732849121094, 0.15569302439689636, 0.3209398090839386, -0.15849217772483826, 0.3584980070590973, 0.4298228919506073, 0.09730840474367142, -0.009986547753214836, -0.2909137010574341, 0.21246367692947388, -0.33333858847618103, -0.6002686619758606, -0.3809713125228882, -0.12872619926929474, 0.5435615181922913, 0.038159023970365524, -0.6019709706306458, 0.06168406084179878, -0.09977441281080246, -0.18309447169303894, 0.19559860229492188, -0.032013021409511566, 0.4056292474269867, -0.042261406779289246, -0.44922634959220886, 0.26787465810775757, 0.054806992411613464, -0.2363429218530655, -0.23684336245059967, -0.46598929166793823, -0.26988720893859863, 0.23166579008102417, -0.49016278982162476, -0.08237481862306595, 0.1672910749912262, 0.22641460597515106, 0.18362678587436676, 0.06102853640913963, -0.05717972293496132, 0.5331434607505798, 0.11738278716802597, 0.013379835523664951, 0.045482516288757324, 0.10199183970689774, -0.016623632982373238, 0.45063281059265137, 0.07061298936605453, 0.604748010635376, 0.22891293466091156, 0.09367433190345764, 0.04275747761130333, 0.13370110094547272, -0.31683412194252014, 0.06602742522954941, -0.35700878500938416, -0.20767267048358917, 0.08863469213247299, -0.09938190132379532, 0.10530297458171844, 0.15543518960475922, 0.22508470714092255, 0.48132210969924927, -0.4807625710964203, 0.3599289059638977, -0.022325467318296432, 0.45981043577194214, -0.2502361536026001, 0.42787325382232666, 0.19702167809009552, 0.2788020968437195, -0.18551281094551086, -0.24634785950183868, -0.13496848940849304, 0.2686597406864166, 0.19650432467460632, 0.20132653415203094, 0.3552485704421997, 0.8068073987960815, 0.3269357681274414, -0.18194648623466492, 0.2511528432369232, -0.048017196357250214, 0.2649577856063843, -0.08751056343317032, 0.08970800042152405, -0.5449010729789734, -0.17187048494815826, -0.21548053622245789, 0.6535952687263489, 0.3833529055118561, 0.20502318441867828, 0.35974088311195374, 0.4427044987678528, -0.08931143581867218, -0.14924432337284088, 0.9514999389648438, 0.40367648005485535, 0.11397580802440643, 0.3461468517780304, 0.18187764286994934, -0.4338684380054474, 0.20872926712036133, -0.40947267413139343, 0.16224405169487, -0.32687780261039734, -0.24353201687335968, 0.4467124938964844, -0.40636059641838074, 0.2929561138153076, -0.09493425488471985, 0.12897104024887085, -0.11473823338747025, -0.5805588364601135, 0.16218937933444977, -0.03169522061944008, 0.07885383069515228, -0.12254099547863007, 0.32230180501937866, -0.2448642998933792, -0.2828524708747864, -0.22371657192707062, 0.517936110496521, 0.4219081401824951, 0.6352222561836243, -0.10182195901870728, -0.1152595803141594, 0.20122180879116058, 0.025357894599437714, -0.11717100441455841, -8.926346778869629, -0.2589871883392334, 0.1042226031422615, 0.23136524856090546, 0.009351531974971294, -0.25898227095603943, -0.45164570212364197, -0.2297012209892273, -0.06912616640329361, -0.1710985153913498, -0.08333244174718857, -0.10324345529079437, -0.04567079618573189, 0.031648293137550354, 0.38721221685409546, -0.23666654527187347, -0.2883523106575012, -0.05646488815546036, -0.23275333642959595, -0.5525466203689575, -0.24593357741832733, 0.10011449456214905, 0.6222658753395081, 0.332468718290329, -0.017098931595683098, 0.30699896812438965, 0.1913634091615677, 0.006968701723963022, 0.006086340639740229, -0.11746404320001602, -0.215534046292305, 0.1662435233592987, -0.010055086575448513, 0.0044502317905426025, 0.1427372545003891, 0.0411323681473732, 0.3665607273578644, -0.08357295393943787, -0.23589465022087097, -0.21615974605083466, 0.5478487610816956, 0.07406886667013168, -0.15370692312717438, -0.18185779452323914, 0.15592144429683685, -0.30564379692077637, 0.28233879804611206, -0.1372336745262146, -0.3603678345680237, 0.1674453765153885, 0.3527613580226898, -0.03323501721024513, 0.28434446454048157, -0.24097685515880585, -0.3741680383682251, -0.214637890458107, -0.29237526655197144, 0.06794904917478561, -0.09123755991458893, 0.40334683656692505, -0.011792768724262714, -0.5215815305709839, -0.23651085793972015, -0.02870108373463154, -0.4161019027233124, 0.49728769063949585, -0.09302567690610886, -0.3236260712146759, 0.28886228799819946, -0.019146855920553207, -0.0931473970413208, -0.2283332794904709, 0.08675424009561539, -0.29445135593414307, 0.09065830707550049, -0.3157627284526825, -0.36448872089385986, -0.01734928786754608, -0.30470332503318787, 0.11326136440038681, -0.23819641768932343, 0.2315339893102646, -0.02886258251965046, -0.21396872401237488, -0.1854131817817688, 0.15640133619308472, -0.20008248090744019, 0.19858554005622864, 0.024451512843370438, 0.1566198617219925, 0.07820916920900345, 0.041528452187776566, 0.08313444256782532, -0.09325059503316879, -0.14433470368385315, 0.15777964890003204, 0.2379762828350067, 0.3549528419971466, 0.10969097912311554, -0.20638510584831238, 0.09731434285640717, 0.6977083086967468, -0.36869147419929504, 0.2349862903356552, 0.4059413969516754, -0.2799341082572937, -0.31101980805397034, -0.20297840237617493, 0.20227545499801636, 0.2636013329029083, 0.3279608190059662, 0.2801865339279175, 0.5850733518600464, -0.15523682534694672, 0.27618247270584106, -0.03363877907395363, 0.22481252253055573, 0.16744358837604523, -0.006023949943482876, 0.05027298629283905, 0.15541626513004303, -0.1803636997938156, -0.31843823194503784, -0.27622100710868835, 0.0913710668683052, -0.20457260310649872, -0.10845788568258286, -0.24309222400188446, 0.382673054933548, -0.4991787374019623, 0.5499639511108398, -0.014002454467117786, -0.18320418894290924, 0.3950712978839874, -0.5464569926261902, -0.09060528874397278, -0.18440350890159607, 0.1873610019683838, -0.04224281758069992, 0.31207016110420227, -0.5661561489105225, -0.11736760288476944, 0.5847293734550476, 0.28131023049354553, 0.22522325813770294, -0.012959040701389313, -0.033271145075559616, -0.4294419586658478, 0.07857561111450195, -0.21677173674106598, -0.03340046852827072, 0.4898811876773834, 0.4456285238265991, -0.07372775673866272, -0.3065871298313141, 0.07806025445461273, 0.34451866149902344, 0.2627828121185303, 0.008469809778034687, 0.03308284655213356, 0.3672797381877899, -0.14318250119686127, 0.055729951709508896, 0.11193720251321793, -0.2548135221004486, -0.09090394526720047, -0.08036566525697708, 0.33461183309555054, -0.06191132590174675, 0.1828060746192932, 0.2736091613769531, -0.1450410932302475, -0.32841557264328003, -0.08637518435716629, -0.4235413074493408, 0.3094155788421631, 0.1627833992242813, -0.17562399804592133, 0.6977358460426331, -0.1916252225637436, 0.3687407374382019, 0.5860496759414673, -0.4593460261821747, -0.6082255244255066, -0.2640535533428192, 0.002223589224740863, 0.056196779012680054, 0.06844104826450348, 0.35475608706474304, -0.15955564379692078, -0.011763462796807289, -0.2381405085325241, -0.20919454097747803, -0.10270720720291138, -0.21269869804382324, 0.14037306606769562, -0.12615320086479187, 0.23124533891677856, 0.17564097046852112, -0.20390070974826813, -0.13383542001247406, -0.669524610042572, 0.06585696339607239, -0.15783068537712097, 0.01247281115502119, -0.186933696269989, 0.24398712813854218, 0.38380908966064453, 0.6941089034080505, 0.09930635988712311, -0.39202430844306946]\n",
            "Word 9 --> Embedding [0.07784326374530792, 0.0902470201253891, -0.14272233843803406, 0.23779885470867157, 0.47698792815208435, 0.014235548675060272, 0.41396763920783997, 0.04144825041294098, -0.027057357132434845, -0.560275137424469, 0.3006240427494049, 0.08786631375551224, -0.49341046810150146, 0.5631337761878967, 0.28236308693885803, 0.0024540345184504986, -0.3288291096687317, -0.14882582426071167, 0.23657837510108948, 0.18635009229183197, -0.15312929451465607, 0.2675122320652008, -0.03224454075098038, -0.015898440033197403, 0.12102140486240387, -0.03364452347159386, 0.5544837117195129, 0.5938392281532288, 0.2539306581020355, 0.3620925843715668, 0.3036291301250458, -0.24258270859718323, -0.29111847281455994, -0.0428384505212307, -0.1704213172197342, -0.09398816525936127, -0.07041066139936447, 0.37753158807754517, 0.20351777970790863, 0.2250250279903412, -0.22900539636611938, -0.27500438690185547, 0.2840844392776489, 0.09951397776603699, 0.18890327215194702, 0.07033462822437286, 0.09256768971681595, 0.31504809856414795, -0.7492628693580627, -0.024519799277186394, 0.5805160999298096, 0.07790102809667587, 0.49989649653434753, 0.2003573626279831, -0.19848281145095825, -0.10033190250396729, 0.003675049403682351, -0.6256093382835388, 0.07670324295759201, 0.475992351770401, -0.13747572898864746, -0.17271742224693298, 0.10222798585891724, 0.15565022826194763, 0.14294245839118958, 0.2862362563610077, 0.47043564915657043, 0.22224535048007965, 0.19479846954345703, 0.09117249399423599, -0.5674017667770386, -0.5419692397117615, -0.3343653082847595, 0.024569809436798096, 0.17445704340934753, -0.3952937424182892, 0.23729686439037323, -0.30917853116989136, -0.5130334496498108, -0.47017455101013184, 0.2554566264152527, 0.012333860620856285, -0.3201463222503662, 0.6270910501480103, 0.46545717120170593, -0.0750485360622406, -0.28901201486587524, 0.6650881767272949, 0.12023523449897766, 0.46011847257614136, -0.784615695476532, -0.2228543907403946, 0.6980947852134705, -0.12612497806549072, 0.22776977717876434, 0.010988544672727585, -0.16958248615264893, -0.15935884416103363, -0.6660226583480835, 0.23334220051765442, 0.008304990828037262, -0.17006531357765198, 0.25314033031463623, 0.5853034853935242, 0.24614956974983215, 0.28540462255477905, 0.4574359953403473, -0.5947369337081909, -0.07735033333301544, 0.4709639251232147, 0.23032881319522858, -0.25246894359588623, 0.7043295502662659, -0.35765430331230164, -0.04481157660484314, -0.5164544582366943, -0.34176382422447205, -0.0903613492846489, 0.00871288776397705, -0.2226143181324005, 0.6158246994018555, 0.4324638843536377, -0.8932017683982849, -0.08311117440462112, -0.09932278096675873, -0.06861457973718643, -0.07399999350309372, -0.05518745630979538, 0.49185338616371155, 0.10207770764827728, -0.36344173550605774, 0.16743245720863342, 0.4793834984302521, 0.23696337640285492, -0.3294723927974701, 0.6119500994682312, -0.8946368098258972, 0.690301775932312, -0.7626208066940308, -0.31874385476112366, -0.5836133360862732, 0.11645792424678802, 0.06591346859931946, -0.08710958808660507, 0.3206842243671417, -0.43984824419021606, 0.27581849694252014, -0.3709433376789093, 0.10305985063314438, -0.027284109964966774, 0.1817430555820465, -0.10939983278512955, 0.2559973895549774, 0.06298696994781494, -0.09326540678739548, -0.2742534875869751, -0.6867704391479492, -0.29135748744010925, -0.08435840904712677, -0.09923016279935837, -0.18061186373233795, 0.05823612958192825, 0.027681810781359673, 0.04895726963877678, -0.25094547867774963, -0.8371792435646057, 0.5053300857543945, 0.16111087799072266, 0.0863846018910408, -0.2809755504131317, -0.09357982873916626, 0.0035707871429622173, 0.06634882092475891, -0.06396226584911346, -0.09196212887763977, -0.47207018733024597, 0.2980263829231262, -0.0185250211507082, 0.11055423319339752, 0.1936585158109665, 0.3375743627548218, 0.032384082674980164, -0.04400460422039032, -0.2019481360912323, -0.07432162761688232, 0.061362020671367645, -0.19598688185214996, 0.25075170397758484, 0.22294674813747406, 0.3536013066768646, -0.08390507847070694, -0.48134636878967285, -0.07526475191116333, -0.1423899531364441, -0.3030327558517456, -0.174915611743927, -0.13222695887088776, -0.1975691318511963, 0.6460012197494507, -0.0425187386572361, 0.21750801801681519, 0.22598758339881897, -0.05202338844537735, 0.30878937244415283, -0.014732453040778637, -0.26468712091445923, -0.46333253383636475, 0.028118187561631203, -0.06291612237691879, -0.06336309015750885, 0.4184515178203583, -0.2883687913417816, -0.38138824701309204, 0.2590137720108032, -0.13718394935131073, 0.15387970209121704, 0.0013026875676587224, -0.2255059778690338, 0.3019072711467743, 0.3118981122970581, 0.4158342182636261, 0.47010937333106995, -0.2438589185476303, 0.20870248973369598, -0.06763118505477905, -0.2718923091888428, -0.5127578377723694, -0.09384365379810333, 0.37081825733184814, 0.0019693050999194384, 0.030093416571617126, 0.8545961380004883, 0.8236058950424194, 0.11103882640600204, -0.22403404116630554, -0.6502864360809326, -0.29996538162231445, 0.13269492983818054, -0.8020076155662537, 0.251014769077301, -0.09767365455627441, -0.16368289291858673, 0.06464286148548126, 0.7323575019836426, -0.14708133041858673, 0.44793763756752014, 0.27700749039649963, -0.144166499376297, 0.1561066210269928, -0.576157808303833, 0.13150985538959503, -0.1309421956539154, -0.09992731362581253, 0.18827378749847412, 0.5072207450866699, 0.2038375586271286, -0.008476919494569302, 0.2301619052886963, 0.13874149322509766, -0.2395557016134262, 0.18423694372177124, 0.5116164684295654, 0.24087433516979218, -0.2725394070148468, -0.7325300574302673, -0.4086521565914154, 0.3633236587047577, -0.20761482417583466, -0.5924871563911438, -0.40346312522888184, 0.039131514728069305, -0.4628574252128601, -0.4879329204559326, 0.4244837164878845, 0.06245781481266022, -0.29576995968818665, 0.053275372833013535, -0.05393372103571892, -0.2473357915878296, -0.3801116645336151, 0.4102974534034729, 0.7039960622787476, 0.5459610819816589, 0.05759929120540619, 0.029657749459147453, 0.23852360248565674, -0.2491101771593094, -0.048420339822769165, 0.20950272679328918, -0.8322633504867554, 0.3208593726158142, -0.10989140719175339, -0.2316536009311676, 0.08589348942041397, -0.07004135847091675, 0.27165237069129944, -0.4695913791656494, 0.35992586612701416, 0.012843785807490349, 0.2896498441696167, 0.38789552450180054, 0.7112131714820862, -0.4888332188129425, -0.711755096912384, 0.19381752610206604, 0.1443587839603424, 0.15201310813426971, 0.0030090678483247757, 1.0069904327392578, 0.2141130119562149, 0.5174434781074524, -0.0973459854722023, 0.6046149134635925, -0.11263085156679153, -0.4691457450389862, 0.47689753770828247, 0.3086286187171936, 0.42361801862716675, -0.41267701983451843, 0.01301198173314333, 0.15026205778121948, 0.7602556943893433, -0.1688334047794342, 0.035521987825632095, 0.07117629051208496, 0.24461111426353455, 0.3888620138168335, 0.32173213362693787, 0.0420440249145031, -0.024204062297940254, -0.4140235483646393, -0.11060052365064621, -0.2107996642589569, 0.044205985963344574, -0.16098225116729736, 0.2905513346195221, 0.013141422532498837, 0.30649852752685547, 0.08674373477697372, 0.3915277123451233, -0.026064656674861908, -0.8060592412948608, -0.20089839398860931, 0.06340682506561279, 0.1806008517742157, -0.2131880521774292, -0.4893565773963928, -0.5212964415550232, -0.5068107843399048, 0.25548645853996277, 0.33333659172058105, -0.2058921605348587, -0.13395294547080994, -0.0821031704545021, 0.1770336925983429, 0.5348747372627258, -0.20333833992481232, -0.3710209131240845, 0.11671018600463867, 0.47772422432899475, -0.2297634780406952, 0.4056515693664551, -0.17133215069770813, -0.18322457373142242, 0.0722479447722435, -0.5695335865020752, -0.19866403937339783, -0.5065019726753235, 0.05680316686630249, -0.2896502912044525, 0.01587790809571743, -0.5350574254989624, 0.18507780134677887, 0.23028387129306793, -0.3110108971595764, 0.038687556982040405, -0.5714702010154724, -0.3406164050102234, -0.22555427253246307, -0.5214025378227234, 0.05220299959182739, -0.01637125201523304, 0.20002178847789764, 0.09591037780046463, -0.19760765135288239, 0.20665696263313293, -0.3092959225177765, 0.3284311592578888, 0.39485377073287964, -0.1474512815475464, -0.5163804888725281, -0.2686338722705841, 0.1598127782344818, 0.010279851965606213, 0.08569721132516861, 0.33439797163009644, -0.6587406396865845, 0.16125142574310303, 0.028717122972011566, 0.26611047983169556, -0.06008203327655792, 0.014229963533580303, -0.014959222637116909, 0.026912832632660866, 0.05184422433376312, -0.32283955812454224, -0.3630104959011078, -0.07981912791728973, 0.008409748785197735, 0.08221862465143204, 0.3042623996734619, -0.3302636742591858, 0.6194541454315186, 0.023774294182658195, 0.17483827471733093, -0.18855920433998108, 0.28686389327049255, 0.6805306673049927, 0.3446469008922577, 0.07207244634628296, -0.34712955355644226, -0.26344001293182373, 0.1176503598690033, 0.2186046987771988, 0.44904235005378723, 0.3237779438495636, -0.226139098405838, -0.010135095566511154, -0.16652919352054596, -0.12587058544158936, 0.5530899167060852, 0.5245791673660278, 0.04875868558883667, -0.0015559484018012881, 0.11677341163158417, -0.4756624400615692, 0.17327287793159485, 0.18541288375854492, -0.15688331425189972, 0.14217568933963776, 0.188786119222641, 0.013383797369897366, 0.016857115551829338, -0.07154915481805801, -0.23995743691921234, 6.988948007347062e-05, -0.2484106719493866, -0.03126842528581619, 0.14139467477798462, -0.050273001194000244, 0.4397687315940857, -0.07428107410669327, -0.5103958249092102, 0.3726516664028168, 0.5375646352767944, -0.36690554022789, -0.3663747012615204, 0.060011159628629684, -0.2122936099767685, 0.5089384317398071, -0.5056876540184021, -0.12962323427200317, 0.21916478872299194, 0.31093862652778625, 0.41479071974754333, -0.38114020228385925, 0.07583192735910416, 0.9156336188316345, 0.22966870665550232, -0.42728960514068604, 0.0684768557548523, 0.080999955534935, 0.2583407461643219, 0.379852831363678, -0.3496965169906616, 0.15657539665699005, 0.0028485716320574284, -0.20650066435337067, -0.08291911333799362, 0.5514922142028809, -0.37119603157043457, -0.07934680581092834, -0.5164877772331238, 0.09400372952222824, 0.5537445545196533, -0.08544643968343735, 0.8274747729301453, -0.03800750896334648, 0.13799405097961426, -0.027784673497080803, -0.4644337296485901, -0.08721762150526047, -0.4576491117477417, 0.6115868091583252, -0.07403229922056198, 0.4079854190349579, 0.25251635909080505, 0.3317517042160034, -0.4119183421134949, -0.13451670110225677, -0.3866717219352722, 0.09924345463514328, 0.05063779279589653, 0.12682212889194489, 0.120661661028862, 0.3747525215148926, -0.05493447929620743, -0.12642021477222443, 0.08313709497451782, -0.4204464256763458, 0.025157969444990158, 0.0064681172370910645, -0.1625918745994568, 0.014438755810260773, -0.13163505494594574, 0.14485342800617218, 0.025654947385191917, 0.4207341969013214, 0.0016233494970947504, 0.13950367271900177, 0.40730857849121094, 0.09999941289424896, -0.5924215316772461, 0.8657524585723877, 0.25044018030166626, 0.56118243932724, 0.9621977806091309, 0.31450995802879333, -0.20764438807964325, 0.4326344132423401, -0.6113699078559875, 0.2977614402770996, -0.053638946264982224, -0.07627055794000626, 0.33685871958732605, -0.39680084586143494, 0.3289370834827423, 0.23101799190044403, -0.02164941094815731, 0.1291522979736328, -0.3660394549369812, -0.26578792929649353, -0.09217118471860886, 0.0383673720061779, -0.27596527338027954, 0.8858451247215271, -0.33627554774284363, -0.10479895770549774, -0.1465189903974533, 0.13425429165363312, 0.1467231959104538, 0.4587171971797943, -0.5622962117195129, 0.0032755618449300528, 0.07355847209692001, 0.2862885892391205, 0.23734697699546814, -8.724342346191406, 0.19490990042686462, 0.3190328776836395, 0.27959105372428894, 0.4888060986995697, -0.38407132029533386, -0.20466209948062897, -0.36001482605934143, -0.4493526518344879, 0.013498611748218536, -0.17997156083583832, 0.07519464939832687, 0.040495242923498154, 0.13571029901504517, 0.1603768765926361, -0.6400971412658691, -0.24439239501953125, -0.41492727398872375, -0.24975234270095825, -0.1438935250043869, -0.2351180613040924, 0.2362944334745407, 0.2976187467575073, 1.194127082824707, -0.271131694316864, 0.1653290092945099, 0.12597519159317017, 0.014690584503114223, -0.11058460921049118, -0.10085637867450714, -0.17349199950695038, 0.062273990362882614, 0.1427624523639679, -0.5985239744186401, 0.1514359414577484, 0.07575874775648117, 0.4254268705844879, -0.17580187320709229, 0.4466906189918518, -0.03445371612906456, 0.3244372010231018, 0.3336961269378662, -0.6107468605041504, -0.2192295491695404, -0.06365596503019333, -0.38178303837776184, -0.07802517712116241, -0.02011001482605934, -0.42795756459236145, -0.33375152945518494, 0.3043741285800934, -0.13257871568202972, 0.49790042638778687, -0.024894945323467255, -0.5481064319610596, 0.033110473304986954, 0.1874515861272812, -0.3517308533191681, 0.10898856818675995, 0.14366553723812103, 0.38033726811408997, -0.5979269742965698, 0.05021752044558525, 0.3283577263355255, -0.3402755558490753, 0.2986389994621277, -0.14256535470485687, 0.07115863263607025, -0.29982882738113403, 0.00493360823020339, -0.5734113454818726, -0.02338453382253647, 0.3762687146663666, -0.6237834095954895, -0.041651178151369095, -0.11412461847066879, -0.5062673687934875, 0.1115371361374855, -0.05735066533088684, 0.16091232001781464, 0.06838590651750565, 0.5677337646484375, 0.4892416000366211, -0.6109160780906677, -0.17207370698451996, -0.08861909806728363, -0.23463499546051025, 0.36785271763801575, 0.05320886895060539, 0.08428162336349487, 0.4305444657802582, 0.4012511968612671, 0.2436254322528839, -0.2049156129360199, -0.2565200924873352, 0.14127974212169647, 0.10343817621469498, 0.22002993524074554, -0.11552444100379944, -0.6241016983985901, -0.015428828075528145, 0.014636551029980183, -0.6416292786598206, 0.1916888803243637, 0.06616019457578659, -0.6626551747322083, -0.3145197331905365, -0.48638004064559937, 0.3059859275817871, 0.1658083200454712, 0.24708347022533417, 0.19424359500408173, -0.07353413850069046, -0.41779011487960815, 0.4553748667240143, 0.27456021308898926, 0.28122591972351074, -0.27302807569503784, 0.3106023371219635, -0.07761891931295395, -0.1788651943206787, 0.07017897069454193, -0.392980694770813, -0.08379058539867401, -0.0562070794403553, -0.3928739130496979, -0.4704297184944153, -0.2131105661392212, 0.46726375818252563, -0.3684655725955963, 0.5033457279205322, 0.22440537810325623, 0.1333131343126297, 0.45391249656677246, -0.3075612187385559, 0.04924672469496727, -0.24691292643547058, 0.39571017026901245, -0.35614311695098877, 0.2745167315006256, 0.12715207040309906, -0.5980927348136902, 0.28071144223213196, 0.019578315317630768, -0.1039654091000557, -0.18363426625728607, -0.047302957624197006, -0.0767839103937149, 0.24849377572536469, -0.24963577091693878, 0.02004929818212986, 0.16241168975830078, 0.21230366826057434, -0.12545683979988098, -0.13448184728622437, -0.15005388855934143, 0.34180086851119995, 0.0678805261850357, -0.12264120578765869, -0.3857547640800476, 0.035392723977565765, 0.11727967858314514, 0.217403382062912, -0.4359489977359772, -0.0720168724656105, 0.37429487705230713, 0.2638724744319916, 0.3664079010486603, 0.007019390817731619, 0.21600103378295898, 0.275042861700058, -0.37372487783432007, 0.2527764141559601, 0.09970605373382568, -0.7943590879440308, -0.15437941253185272, 0.17472825944423676, -0.07076269388198853, -0.15313036739826202, 0.1789056807756424, 0.45202550292015076, 0.17237402498722076, -0.2798062860965729, -0.3361903131008148, -0.9949078559875488, 0.40858298540115356, -0.7078100442886353, -0.350458562374115, 0.3335917890071869, -0.3377142548561096, 0.3210502564907074, 0.42641302943229675, -0.3806803524494171, 0.3284465968608856, 0.03175419941544533, 0.36329448223114014, -0.17460393905639648, 0.3557361960411072, 0.2502913475036621, -0.338474303483963, -0.06387245655059814, -0.25148338079452515, 0.2692057192325592, 0.013906720094382763, -0.41388362646102905, -0.0432322733104229, 0.0494324192404747, -0.0961797833442688, 0.6410495042800903, 0.19446472823619843, -0.3334469795227051]\n",
            "Word 10 --> Embedding [-0.08246924728155136, -0.016932010650634766, -0.11403117328882217, 0.3089824914932251, 0.30967992544174194, -0.1651282161474228, 0.4409165382385254, 0.3708744943141937, -0.3119177222251892, -0.044996000826358795, 0.46818554401397705, -0.1534726917743683, -0.33272090554237366, 0.16713489592075348, 0.3643970787525177, 0.05276521295309067, -0.08237216621637344, -0.2278979867696762, 0.00620089890435338, -0.4942052662372589, -0.20336420834064484, -0.25376543402671814, -0.10355393588542938, 0.3788873851299286, 0.017168527469038963, -0.3276047706604004, 0.49199867248535156, 0.9482158422470093, 0.2582678198814392, 0.7722567319869995, 0.0049936468712985516, 0.20150060951709747, 0.24869932234287262, 0.049580976366996765, 0.3988993763923645, -0.22797465324401855, 0.2577655613422394, 0.3821606934070587, 0.23195898532867432, 0.5814890265464783, -0.15255257487297058, 0.02632320672273636, 0.08986158668994904, 0.2304348647594452, 0.4331479072570801, 0.5113845467567444, 0.34851500391960144, 0.23286353051662445, 0.2564829885959625, 0.006583247799426317, -0.022339699789881706, -0.04470163583755493, 0.10667431354522705, 0.2832925319671631, 0.0001769091613823548, 0.09835691004991531, -0.06573519855737686, 0.19650472700595856, -0.1829124540090561, 0.30157119035720825, 0.06691838800907135, 0.20953543484210968, 0.5745959281921387, 0.32451510429382324, 0.1255977898836136, -0.08294393867254257, 0.823234498500824, 0.2193126380443573, -0.2774330675601959, -0.11499237269163132, -0.8459520936012268, -0.11708565801382065, -0.11505406349897385, -0.26042845845222473, 0.09076102823019028, -0.35828983783721924, 0.042438868433237076, -0.041350580751895905, -0.27918723225593567, -0.7650347948074341, 0.26321011781692505, -0.11310186982154846, -0.05454034358263016, -0.0993427187204361, 0.6327708959579468, -0.40378645062446594, -0.39661505818367004, 0.0038186549209058285, 0.29238149523735046, 0.6031654477119446, -0.11593879014253616, -0.36171814799308777, 0.21758082509040833, -0.433903306722641, 0.12816286087036133, 0.15843430161476135, -0.12119992077350616, -0.02803671546280384, -0.6626301407814026, 0.27041271328926086, 0.3873952329158783, 0.1850391924381256, 0.04233540967106819, 0.8935782313346863, 0.25300881266593933, 0.315509557723999, -0.13504186272621155, -0.09134355932474136, -0.35604116320610046, 0.32256418466567993, -0.07557612657546997, 0.08383002877235413, 0.3502497375011444, -0.39184555411338806, -0.2844372093677521, -0.11446844786405563, -0.12377829104661942, 0.05304238200187683, 0.14238159358501434, -0.7524095773696899, 0.1889246106147766, 0.09634113311767578, -0.039088983088731766, 0.17608480155467987, 0.29149606823921204, 0.3608979284763336, -0.19133438169956207, -0.21697546541690826, 0.5547500252723694, 0.13320231437683105, -0.4610615372657776, -0.07323714345693588, 0.14091666042804718, 0.20172178745269775, -0.03482827544212341, 0.37544071674346924, -0.903863251209259, 0.7929909229278564, -1.1819311380386353, -0.2730328142642975, -0.5616855621337891, 0.03446507081389427, 0.20894990861415863, -0.15134233236312866, 0.4567740261554718, -0.07756446301937103, -0.1084565594792366, -0.05919376760721207, -0.02864677459001541, 0.31503069400787354, 0.3080303966999054, -0.3147731423377991, 0.5165104269981384, -0.09624011069536209, -0.4496294856071472, -0.604205310344696, -0.345109224319458, 0.3091557025909424, 0.2824469804763794, 0.07169439643621445, 0.18348991870880127, 0.16293606162071228, -0.16874727606773376, 0.0492023229598999, 0.03873124718666077, -0.589776337146759, 0.6686040163040161, 0.2279987633228302, 0.16105565428733826, 0.36299338936805725, 0.029607737436890602, 0.3464023172855377, -0.18300090730190277, -0.14343012869358063, -0.22043952345848083, -0.1393434703350067, 0.5638406872749329, 0.008602140471339226, 0.05681866407394409, 0.10189055651426315, 0.07524809241294861, -0.11115054041147232, -0.4543134570121765, 0.43652451038360596, 0.23516686260700226, -0.17822563648223877, -0.3409349322319031, 0.12235169112682343, 0.11214740574359894, -0.04762492701411247, 0.29180416464805603, -0.46163785457611084, 0.17610101401805878, -0.38399913907051086, -0.11904902011156082, 0.23427943885326385, 0.30677691102027893, -0.00633462006226182, 0.01757090352475643, 0.5091333389282227, -0.13840895891189575, 0.04137058183550835, -0.348347544670105, 0.29956403374671936, 0.2583063244819641, -0.08274226635694504, 0.03383783623576164, -0.1642080545425415, -0.5525721311569214, 0.11191070079803467, 0.3345801830291748, -0.2840556502342224, 0.24468618631362915, 0.3067360818386078, -0.11130501329898834, 0.05726781114935875, -0.39721083641052246, 0.1020217314362526, -0.4378870129585266, 0.2490614652633667, 0.3523198664188385, 0.23488786816596985, -0.07391370087862015, -0.33355674147605896, -0.038308169692754745, -0.05663490667939186, 0.03475416451692581, 0.5333892703056335, 0.5269420742988586, -0.11918822675943375, 0.28435713052749634, 0.012147071771323681, 0.13834044337272644, 0.01984977535903454, -0.09691406786441803, -0.6578553318977356, -0.3203294575214386, -0.33352455496788025, -0.7926636338233948, 0.373566597700119, -0.35124272108078003, -0.2237822413444519, 0.1394829899072647, 0.37265244126319885, -0.09548088908195496, 0.16247817873954773, -0.05683910474181175, 0.2667836546897888, 0.16862499713897705, -0.20335018634796143, -0.1857854425907135, -0.18185798823833466, -0.3239174485206604, 0.5073454976081848, 0.15410594642162323, -0.27713096141815186, 0.21688133478164673, 0.0023055707570165396, 0.20257450640201569, -0.2958036959171295, -0.163406103849411, -0.002983800834044814, 0.18019704520702362, -0.4309982657432556, -0.39754539728164673, -0.27172622084617615, 0.22650779783725739, -0.39879345893859863, -0.4998921751976013, 0.048419106751680374, 0.2217593491077423, -0.489984393119812, -0.0348699726164341, 0.5194939374923706, 0.07552096992731094, -0.019171711057424545, -0.11203321814537048, -0.41334667801856995, -0.07531146705150604, -0.31662383675575256, 0.6769131422042847, 0.14843778312206268, 0.16157390177249908, 0.11654522269964218, 0.11249898374080658, 0.0538448765873909, -0.18401995301246643, 0.39563319087028503, 0.3185998201370239, -0.7478641867637634, -0.22660009562969208, -0.4716995358467102, -0.16513507068157196, -0.05756162106990814, 0.03392364829778671, 0.6029537320137024, -0.6196190118789673, 0.5036478638648987, 0.5156100988388062, 0.12133156508207321, 0.15628468990325928, 0.5517791509628296, 0.06649113446474075, -0.3903668224811554, -0.09172800183296204, 0.022931324318051338, 0.062257248908281326, 0.5544313788414001, 0.4082699120044708, 0.0782797709107399, 0.04533221200108528, 0.4528699219226837, -0.05028853565454483, -0.1797853708267212, -0.5219244956970215, 0.4123663306236267, 0.05026908963918686, 0.2143889218568802, 0.35326725244522095, 0.10724954307079315, 0.4461019039154053, 0.27315306663513184, -0.004728023428469896, -0.11486966162919998, -0.08618581295013428, 0.10003150254487991, -0.2013629674911499, 0.3447318375110626, -0.007302327547222376, -0.16980427503585815, -0.1379469484090805, -0.0532919280230999, -0.4175027012825012, 0.1749895215034485, 0.07966327667236328, 0.26356610655784607, 0.14467595517635345, 0.2277938425540924, -0.43929949402809143, 0.00902007706463337, -0.09272757172584534, 0.06162459775805473, -0.11459100246429443, 0.3685492277145386, 0.09120339900255203, 0.4648264944553375, 0.00529269315302372, -0.0697261244058609, -0.7828581929206848, -0.08443976938724518, 0.16260702908039093, -0.37250998616218567, -0.3123793601989746, 0.17200496792793274, 0.16289189457893372, 0.28716593980789185, -0.015568086877465248, -0.6068547964096069, -0.010718489065766335, -0.08476898819208145, -0.17390218377113342, 0.10179825127124786, -0.10698659718036652, 0.2472614198923111, 0.16840200126171112, 0.30786609649658203, -0.1550155133008957, -0.5540626645088196, 0.30560606718063354, -0.17099818587303162, 0.28199851512908936, -0.2266848087310791, 0.12095276266336441, 0.07654866576194763, -0.2413753718137741, 0.11452707648277283, -0.008812209591269493, -0.2715136408805847, -0.24915699660778046, -0.6797704100608826, 0.16485542058944702, -0.32923415303230286, -0.4699392020702362, 0.007933049462735653, -0.3870577812194824, 0.47491714358329773, 0.09079476445913315, 0.03597458824515343, 0.26973792910575867, 0.19359366595745087, 0.41152510046958923, 0.020285191014409065, -0.005175663623958826, -0.29544132947921753, 0.44646790623664856, 0.13932839035987854, -0.17304351925849915, -0.16889122128486633, -0.23580242693424225, -0.3040822744369507, 0.02354053407907486, -0.09137500822544098, -0.3136375844478607, 0.263667494058609, 0.18992823362350464, -0.003410062752664089, -0.2359117716550827, 0.004769457504153252, 0.2444533109664917, -0.126552015542984, -0.014913506805896759, -0.4091218411922455, 0.0982833206653595, 0.21024806797504425, -0.18957313895225525, -0.1650146245956421, -0.0022921240888535976, 0.6238334774971008, 0.0691874548792839, -0.12363345175981522, -0.48324525356292725, 0.10860655456781387, -0.19439511001110077, 0.409075528383255, 0.3536546528339386, 0.344672292470932, -0.41693854331970215, 0.22132264077663422, -0.2744109630584717, 0.4779217839241028, 0.04011113941669464, -0.15177935361862183, 0.22585561871528625, -0.05441249534487724, 0.3526455760002136, 0.7267310619354248, -0.2954597771167755, 0.06447506695985794, -0.35768359899520874, -0.19277727603912354, -0.10049746185541153, 0.26590895652770996, 0.10150762647390366, 0.4057888090610504, -0.5387008190155029, 0.027489084750413895, -0.2909283936023712, 0.0712633803486824, 0.013099339790642262, 0.000504524854477495, 0.2343902736902237, -0.15782500803470612, -0.43521445989608765, 0.15938562154769897, 0.233642578125, -0.40526437759399414, -0.09509690850973129, -0.06046430394053459, 0.15723741054534912, 0.07088052481412888, -0.3364953100681305, 0.12223107367753983, -0.15282361209392548, 0.1824386566877365, 0.736072301864624, -0.16794829070568085, 0.19922827184200287, 0.4193563759326935, 0.42406758666038513, -0.24023807048797607, -0.4019480347633362, -0.23855678737163544, 0.5257081389427185, 0.26359784603118896, -0.45458984375, 0.6118564605712891, 0.1460476815700531, 0.3499177396297455, -0.13953834772109985, -0.081374891102314, -0.2276078164577484, -0.09423157572746277, -0.4787571132183075, 0.1312507688999176, 0.18011373281478882, 0.19455508887767792, 0.4563681185245514, -0.1092953011393547, 0.30563923716545105, 0.6269583702087402, -0.24183660745620728, 0.24948899447917938, -0.10331254452466965, 0.4342160224914551, -0.01948564499616623, 0.025149956345558167, 0.10254958271980286, -0.30484890937805176, -0.11882273852825165, -0.16520562767982483, -0.21051405370235443, 0.4053994119167328, 0.27079281210899353, 0.2957116961479187, -0.018251905217766762, 0.8034653067588806, -0.08267994225025177, 0.000924707914236933, 0.11886917054653168, -0.2958439886569977, 0.43834322690963745, -0.03810255229473114, 0.09905319660902023, -0.47348177433013916, 0.011404817923903465, -0.15192344784736633, 0.12685629725456238, 0.5619092583656311, 0.012175881303846836, -0.0711204782128334, 0.4673006236553192, 0.09921866655349731, -0.11823935061693192, 0.13332071900367737, 0.07512451708316803, 0.0341668576002121, 0.5072051286697388, 0.0757344663143158, -0.5331088900566101, 0.48092517256736755, -0.5763839483261108, 0.23548105359077454, -0.16638825833797455, -0.20195792615413666, 0.5682732462882996, 0.32544100284576416, 0.22192855179309845, -0.020775746554136276, 0.11522563546895981, 0.11348510533571243, 0.26227566599845886, -0.10625578463077545, -0.05396484583616257, -0.15595930814743042, 0.12788459658622742, 0.24560540914535522, -0.2582065761089325, -0.542600691318512, -0.061963897198438644, -0.28154295682907104, 0.3319273591041565, 0.36494389176368713, -0.5645233988761902, -0.07054509967565536, 0.11505740880966187, 0.17728595435619354, -0.2930793762207031, -8.9274263381958, 0.007923433557152748, -0.10279092192649841, -0.09973549097776413, 0.16945166885852814, -0.5284417271614075, 0.0293626356869936, -0.09868746250867844, -0.2604312300682068, -0.28055861592292786, -0.13735391199588776, 0.0204301904886961, -0.29086557030677795, 0.18788811564445496, 0.22975090146064758, -0.37789610028266907, -0.068226657807827, 0.6298283338546753, -0.37489935755729675, -0.19174730777740479, 0.22585074603557587, -0.2864282429218292, 0.1818857192993164, 0.4722851812839508, 0.07997582852840424, 0.5284432172775269, 0.47217249870300293, 0.2763722240924835, 0.16000577807426453, -0.0702652856707573, -0.1844508796930313, 0.5054053068161011, -0.41186395287513733, 0.2664710581302643, 0.32109951972961426, -0.12083971500396729, 0.308504581451416, -0.2758844792842865, 0.11759649962186813, -0.36190158128738403, 0.39760711789131165, 0.23084813356399536, -0.19758446514606476, -0.5217476487159729, -0.08309729397296906, -0.5162723660469055, 0.24160052835941315, 0.057143036276102066, -0.0640416145324707, -0.005503707565367222, 0.45545822381973267, -0.2738206684589386, -0.28990688920021057, -0.05938845872879028, -0.09282028675079346, 0.004800797440111637, -0.0796094611287117, -0.006719387602061033, 0.0888071358203888, 0.05488285422325134, -0.3917436897754669, -0.3850002884864807, -0.3307854235172272, 0.17081870138645172, 0.008460675366222858, 0.3727376461029053, -0.33160486817359924, -0.02110900729894638, 0.18094967305660248, -0.07796666026115417, -0.3863163888454437, -0.14272440969944, 0.0521271750330925, -0.19752755761146545, 0.12053894996643066, -0.3305917978286743, 0.05186014622449875, 0.23217730224132538, -0.16127333045005798, -0.1859104484319687, -0.4184642434120178, -0.17770349979400635, -0.11620165407657623, -0.09021901339292526, -0.5119141340255737, 0.09129220247268677, -0.2966424822807312, 0.16164347529411316, 0.18769098818302155, -0.022822683677077293, 0.24478447437286377, -0.560263454914093, 0.1380825787782669, -0.36981138586997986, -0.2984659671783447, 0.10349088162183762, 0.025114107877016068, 0.048787921667099, -0.021926602348685265, 0.2163764387369156, 0.2883281409740448, -0.13426795601844788, 0.43970951437950134, -0.17886243760585785, 0.03293575718998909, 0.3023512065410614, -0.12704339623451233, -0.17104768753051758, 0.26165056228637695, 0.02783237211406231, 0.7767221331596375, 0.03846747428178787, 0.2765335142612457, -0.39671576023101807, 0.2907241880893707, -0.2940967082977295, 0.09294462949037552, -0.18179982900619507, -0.10049885511398315, -0.03422733396291733, 0.1368163526058197, 0.21075069904327393, -0.07666125893592834, -0.2520422637462616, 0.03923463076353073, 0.08116330206394196, -0.3272329568862915, 0.08437421917915344, 0.29257017374038696, -0.26241713762283325, 0.6350657939910889, 0.23377493023872375, 0.5571515560150146, 0.47357723116874695, -0.42714425921440125, -0.06350971758365631, -0.40134841203689575, 0.1953025907278061, 0.14180582761764526, 0.304758757352829, 0.04844752326607704, -0.04564644768834114, 0.47754165530204773, 0.3054087460041046, 0.25814077258110046, -0.05386069044470787, -0.12287289649248123, -0.39698028564453125, -0.1987873911857605, -0.38543835282325745, -0.5239830613136292, 0.04461928457021713, 0.14475120604038239, -0.07634372264146805, -0.34491676092147827, -0.2716647684574127, 0.2690671682357788, -0.18108147382736206, 0.29649531841278076, 0.054733604192733765, 0.36920619010925293, -0.13496237993240356, -0.07607200741767883, -0.2700517773628235, -0.36603474617004395, -0.06084475293755531, 0.2478267401456833, 0.025626854971051216, -0.2783225178718567, -0.044214483350515366, -0.16545520722866058, -0.15633951127529144, -0.24397315084934235, -0.10948394984006882, -0.7573193311691284, -0.3723001778125763, 0.032930612564086914, 0.34902119636535645, -0.11559019982814789, 0.009763704612851143, 0.023188287392258644, 0.25468775629997253, -0.5119156241416931, -0.5043824315071106, -0.2182261347770691, -0.06929189711809158, 0.0708017349243164, -0.041519444435834885, 0.07395196706056595, -0.13620828092098236, -0.1563471108675003, -0.22667795419692993, -0.09374488145112991, 0.1552537977695465, -0.3279067277908325, -0.3406547009944916, -0.0008289684192277491, -0.3388078510761261, 0.14164632558822632, -0.2687976062297821, 0.24083799123764038, -0.45357373356819153, 0.21262913942337036, -0.07448023557662964, -0.07349307090044022, 0.29755541682243347, -0.06069304421544075, -0.6093881130218506, 0.5994542241096497, -0.2861112356185913, -0.06855595856904984]\n",
            "Word 11 --> Embedding [-0.3959466218948364, -0.16549506783485413, -0.818644642829895, 0.78988116979599, 0.6369072794914246, -0.5624698996543884, 0.365585595369339, 0.6273065805435181, 0.15432822704315186, -0.15954449772834778, 0.9580051898956299, 0.17546486854553223, -0.051470596343278885, 0.6532235145568848, -0.2885521650314331, -0.1536669284105301, -0.061056949198246, -0.33803173899650574, -0.19514697790145874, -0.6095603108406067, -0.009772179648280144, 0.37604913115501404, 0.11634545028209686, 0.17982150614261627, -0.134956493973732, -0.5134784579277039, 0.12770545482635498, 0.6044278740882874, -0.31558600068092346, 0.1784379482269287, -0.1815497726202011, -0.03424264118075371, -0.19692669808864594, 0.027815010398626328, 0.6239612102508545, -0.0807596892118454, -0.11034928262233734, 0.36867833137512207, 0.15721020102500916, -0.023029079660773277, 0.2655080258846283, -0.02812756411731243, 0.029613664373755455, 0.02276841178536415, 0.3140416741371155, 0.1154407411813736, 0.3175307810306549, 0.5009667873382568, -0.127404123544693, 0.044742412865161896, 0.30727070569992065, 0.26166191697120667, 0.4692917764186859, 0.14178627729415894, -0.08334283530712128, -0.08709593862295151, 0.09301142394542694, -0.09082192182540894, 0.2760191559791565, 0.2637965679168701, 0.2107691466808319, 0.443048357963562, 0.39966127276420593, -0.27571243047714233, -0.07831692695617676, -0.04392550513148308, 0.3684563636779785, -0.6478601098060608, -0.1185506135225296, -0.40807074308395386, -1.0953816175460815, 0.2713334560394287, -0.28403356671333313, 0.0343460850417614, -0.27519330382347107, -0.966741144657135, 0.20811781287193298, 0.44089236855506897, -0.3974097669124603, -0.6756123900413513, 0.11134956032037735, -0.39530912041664124, -0.19431708753108978, 0.5542742013931274, 0.6679065227508545, 0.2556505799293518, -0.5957613587379456, 0.077425017952919, 0.35860949754714966, 0.33149516582489014, -0.37985095381736755, -0.19152411818504333, 0.6200518608093262, 0.24734729528427124, 0.21128608286380768, -0.1304081231355667, -0.1408192366361618, 0.36963868141174316, -0.4736608862876892, 0.23918813467025757, -0.06641004234552383, 0.5301096439361572, -0.4071371853351593, 0.35476553440093994, 0.3626887798309326, -5.5063450417947024e-05, -0.09242364019155502, -0.13144448399543762, 0.32282155752182007, 0.2860887348651886, 0.4194793105125427, 0.0764968991279602, 0.19254422187805176, -0.16895151138305664, -0.07697775214910507, -0.21523526310920715, -0.11762735992670059, -0.2777852416038513, 0.09256802499294281, -0.17403671145439148, -0.18719004094600677, 0.2521267533302307, -0.47543057799339294, 0.18234659731388092, 0.05676944926381111, 0.3427503705024719, -0.33441388607025146, -0.12902633845806122, 0.5589286088943481, 0.21362154185771942, -0.4289521872997284, -0.4345264434814453, 0.03839688375592232, 0.44353964924812317, 0.08397673070430756, -0.019137872382998466, -0.9503380656242371, 0.5743590593338013, -1.3131920099258423, -0.35783272981643677, -0.3274722993373871, 0.4690583050251007, 0.14846883714199066, -0.40167534351348877, 0.34968850016593933, -0.40017321705818176, 0.47742700576782227, -0.49733608961105347, 0.02089570090174675, -0.11088990420103073, -0.21595674753189087, -0.26922494173049927, 0.46431466937065125, -0.31549736857414246, -0.0031446514185518026, -0.829444169998169, -0.2665804922580719, -0.03241731971502304, 0.058456066995859146, 0.10934566706418991, -0.19690419733524323, -0.2925262153148651, 0.1805599331855774, 0.41993677616119385, 0.11838606745004654, -0.6322020888328552, 0.3661304712295532, 0.13410674035549164, 0.1800038069486618, 0.2398090809583664, 0.2596147358417511, -0.07847455888986588, -0.5545579791069031, -0.5362613201141357, 0.2225307673215866, -0.3907586634159088, 0.8705478310585022, 0.2077997773885727, -0.021969983354210854, 0.21668823063373566, 0.24826101958751678, 0.09541692584753036, -0.3109954297542572, -0.0002766560937743634, -0.1222771406173706, -0.5523128509521484, -0.2932150065898895, 0.4549998641014099, 0.07475368678569794, -0.31188148260116577, 0.000811958103440702, -0.44582879543304443, 0.4867103099822998, 0.2561320960521698, -0.2918732762336731, 0.11449524015188217, 0.051896076649427414, -0.10888003557920456, -0.14190258085727692, 0.5417782664299011, -0.20757520198822021, 0.14246225357055664, -0.4536173641681671, 0.23100429773330688, -0.04586435481905937, -0.19632260501384735, -0.232733353972435, 0.4323677122592926, -0.14722473919391632, -0.22415244579315186, 0.2605704367160797, -0.03134116902947426, 0.3914998173713684, 0.24975161254405975, -0.5319048762321472, 0.03129949793219566, -0.2792486846446991, -0.22169573605060577, -0.21496650576591492, 0.9254999756813049, 0.582529604434967, 0.0803745910525322, -0.4720035195350647, 0.42649656534194946, 0.15997488796710968, 0.11206711083650589, 0.3265904188156128, 0.2663661539554596, 0.6141119003295898, -0.27217352390289307, 0.18266403675079346, 0.35068029165267944, -0.320758581161499, 0.15374846756458282, -0.058326028287410736, -0.34994322061538696, 0.07716920971870422, -0.13160593807697296, -0.8374106884002686, 0.24254286289215088, -0.17291833460330963, -0.1831078976392746, 0.30297496914863586, 0.2494165301322937, 0.023999447003006935, 0.1292261928319931, -0.027404801920056343, 0.48735949397087097, -0.08843745291233063, 0.4279620349407196, -0.08187873661518097, -0.5389298796653748, -0.44175589084625244, 0.6588752865791321, 0.4055628180503845, 0.35925936698913574, 0.007332824170589447, 0.2943710684776306, 0.2770160436630249, -0.20481140911579132, -0.31162843108177185, 0.4068920314311981, 0.14294368028640747, 0.025868212804198265, -0.003297066781669855, 0.05861011892557144, 0.3519342839717865, -0.48609036207199097, -0.5728099942207336, 0.20104211568832397, 0.12422090023756027, -0.49927785992622375, 0.5920525193214417, 0.6396702527999878, 0.15014418959617615, -0.050439994782209396, -0.059906285256147385, -0.38554251194000244, 0.04117584973573685, -0.0686187818646431, 0.8095367550849915, 0.40276122093200684, 0.6635265350341797, 0.3062856197357178, 0.18510928750038147, -0.04374603182077408, -0.23782488703727722, 0.3535920977592468, 0.29879191517829895, -0.17389996349811554, 0.3157787024974823, -0.14827358722686768, -0.22093912959098816, 0.615882396697998, 0.33321836590766907, 0.21009139716625214, -0.7676842212677002, 0.5391710996627808, -0.1893528699874878, 0.4991800785064697, -0.04797617346048355, 0.1722324639558792, -0.20454660058021545, -0.13296571373939514, 0.16117334365844727, -0.034603051841259, 0.0777309313416481, 0.3181059658527374, 0.4000142812728882, 0.2912319302558899, 0.7268558740615845, 0.14324921369552612, -0.2843768894672394, -0.2045971304178238, -0.32217836380004883, 0.10715585201978683, 0.2974846363067627, 0.03959161415696144, 0.4667714238166809, -0.5866453051567078, 0.32030192017555237, 0.05965994670987129, -0.3581697940826416, -0.05811414122581482, 0.29748913645744324, 0.6985909938812256, -0.16446295380592346, 0.30300748348236084, 0.3488803207874298, -0.1808154284954071, -0.05675191059708595, -0.21911153197288513, -0.4698393940925598, 0.13160356879234314, -0.04583967849612236, -0.06871717423200607, -0.4037873446941376, -0.0766201913356781, -0.04489138349890709, 0.11719261854887009, 0.3443153202533722, 0.305302232503891, 0.33132654428482056, 0.19687476754188538, 0.2952115535736084, 0.3830734193325043, -0.24247430264949799, -0.5216129422187805, 0.03222477436065674, 0.07284030318260193, 0.4276868999004364, -0.48130953311920166, -0.4544525444507599, -0.00812985934317112, 0.1887814700603485, 0.35812926292419434, -0.18508553504943848, -0.38235729932785034, 0.11701720207929611, -0.14066281914710999, -0.18325960636138916, -0.04673493653535843, 0.4011669158935547, 0.137645423412323, 0.08018432557582855, 0.06044537574052811, 0.059180110692977905, 0.1468273252248764, -0.31548652052879333, -0.04115946218371391, 0.15929624438285828, 0.006753123365342617, 0.39673444628715515, -0.020744651556015015, -0.23771603405475616, 0.24000313878059387, -0.23691467940807343, -0.21474729478359222, -0.2785978317260742, -0.9007130861282349, -0.1286880522966385, 0.057542070746421814, -0.1752687394618988, 0.2590387463569641, 0.09863274544477463, -0.16886968910694122, 0.04797598719596863, -0.20708923041820526, 0.3035071790218353, -0.015125864185392857, -0.02677793800830841, -0.3566661477088928, -0.16425403952598572, -0.14669010043144226, 0.33750036358833313, 0.41246068477630615, -0.3288305997848511, -0.1361498087644577, -0.13863001763820648, -0.114732526242733, -0.18212264776229858, -0.12093840539455414, -0.1599472612142563, -0.42935582995414734, 0.48861387372016907, -0.14669756591320038, -0.5494723320007324, -0.6857064366340637, 0.27943024039268494, 0.013445692136883736, 0.0998280942440033, -0.3013479709625244, 0.49653708934783936, 0.9137407541275024, 0.2534257769584656, -0.42017897963523865, -0.013324573636054993, 0.8156257271766663, 0.11010158807039261, -0.21005670726299286, -0.19239851832389832, -0.25453969836235046, 0.0176777895539999, 0.4283580183982849, 0.12657815217971802, 0.2564992606639862, -0.41051799058914185, -0.163816899061203, -0.7267088294029236, 0.76956707239151, 0.2314300239086151, 0.5295126438140869, 0.2336200475692749, -0.26305484771728516, -0.2657358646392822, 0.08942054212093353, -0.25459182262420654, 0.37622249126434326, -0.24869747459888458, -0.19154800474643707, 0.31369349360466003, 0.009501496329903603, 0.09336240589618683, 0.010511333122849464, -0.3225420117378235, -0.36131784319877625, -0.28314441442489624, -0.03207327425479889, -0.11505170166492462, -0.11223423480987549, 0.31728649139404297, 0.1701892614364624, -0.12318297475576401, 0.40889590978622437, 0.07881002128124237, -0.9843916893005371, -0.05476216971874237, 0.043103232979774475, 0.2883952260017395, -0.06229184567928314, -0.3748704791069031, -0.22303138673305511, -0.3213900625705719, 0.23746423423290253, 0.03126395493745804, 0.18312855064868927, -0.3503560423851013, -0.1170237809419632, 0.2219133824110031, 0.01952085644006729, 0.0845337063074112, -0.22548270225524902, 0.6580342054367065, 0.21354801952838898, -0.061138544231653214, 0.35588353872299194, 0.44230952858924866, 0.549083411693573, 0.012140600942075253, 0.4148964583873749, -0.16485905647277832, -0.2222553938627243, -0.039215076714754105, -0.016476185992360115, 0.3654986619949341, 0.14948098361492157, 0.23991014063358307, 0.39984843134880066, 0.3519231677055359, 0.8886943459510803, -0.5175363421440125, 0.09104631096124649, -0.4012252688407898, 0.1398596316576004, 0.12861086428165436, -0.4528087079524994, 0.01617078110575676, -0.18280431628227234, 0.017347322776913643, -0.23243562877178192, -0.3710829019546509, -0.2675129771232605, -0.2222510576248169, 0.4351937472820282, 0.0771445631980896, 0.3782150447368622, -0.310673326253891, 0.25987404584884644, -0.06144452467560768, -0.22120168805122375, -0.06977955996990204, -0.29395708441734314, -0.21359634399414062, -0.41607847809791565, 0.034364163875579834, -0.4364132285118103, 0.152565598487854, 0.4414544999599457, 0.3312655985355377, -0.3318025767803192, 0.7471690773963928, -0.481492280960083, -0.4897737205028534, 0.4785524606704712, 0.14565509557724, 0.2811233401298523, 0.4967256188392639, -0.05847930163145065, -0.4356217384338379, 0.2779034376144409, -0.2964785397052765, 0.39007407426834106, -0.07470887899398804, -0.36623647809028625, 0.3158641457557678, -0.04079654440283775, 0.4929114878177643, -0.10932683944702148, 0.513681948184967, 0.8238983154296875, -0.2867898643016815, 0.1262412816286087, 0.053145743906497955, 0.04016482084989548, -0.25946319103240967, 0.4988185167312622, -0.16753453016281128, -0.751936674118042, -0.07586479187011719, 0.05269728600978851, 0.7166765928268433, 0.2759406864643097, -0.17499272525310516, 0.07356467843055725, 0.3966614007949829, 0.20414474606513977, -0.4118063747882843, -8.680490493774414, -0.10099351406097412, -0.22350063920021057, -0.02106582187116146, 0.17616041004657745, -0.48350784182548523, 0.39491280913352966, 0.426265686750412, -0.41720718145370483, -0.18356426060199738, 0.020029084756970406, 0.19711439311504364, -0.39400890469551086, -0.1451031118631363, 0.05209914967417717, -0.4288678765296936, -0.33353012800216675, 0.7148171067237854, -0.4299696683883667, -0.5467898845672607, 0.02035369910299778, -0.2707614600658417, 0.2999890446662903, 0.8644533753395081, 0.7661792039871216, 0.08799799531698227, 0.40953025221824646, -0.03789067268371582, 0.3364614248275757, -0.2063007354736328, -0.5823093056678772, 0.38496869802474976, 0.060071516782045364, -0.11173948645591736, 0.2834104597568512, 0.04522211477160454, 0.10928111523389816, -0.1500488966703415, 0.2812390923500061, 0.047167662531137466, -0.01937674544751644, 0.1838293820619583, 0.010264856740832329, -0.9444196224212646, -0.12520812451839447, -0.26038455963134766, 0.02904122695326805, -0.29988893866539, -0.4803977608680725, 0.10113818198442459, 0.6157604455947876, 0.16324786841869354, 0.5053581595420837, -0.11003708094358444, -0.12957574427127838, 0.3527640700340271, 0.1109078973531723, 0.2974371612071991, 0.3227267265319824, -0.52813321352005, -0.4430956244468689, -0.22494645416736603, -0.05655469372868538, -0.022766027599573135, -0.3001556992530823, 0.30168020725250244, -0.1454002857208252, -0.019662313163280487, 0.33774247765541077, 0.0030985481571406126, -0.639100193977356, -0.26554757356643677, -0.07382313162088394, 0.19803525507450104, -0.11007902771234512, -0.2035244107246399, 0.18456481397151947, -0.020816104486584663, -0.16419000923633575, 0.5518503785133362, -0.19307570159435272, 0.25373566150665283, 0.0037330472841858864, -0.06973154097795486, -0.11930286884307861, -0.062338199466466904, -0.24077606201171875, 0.10035520792007446, -0.5157994031906128, -0.20884281396865845, 0.007708343211561441, -0.3391391634941101, 0.1183786541223526, -0.14258284866809845, 0.39490652084350586, -0.11548826098442078, -0.036665890365839005, -0.23611104488372803, -0.26202937960624695, 0.26978570222854614, -0.4462313950061798, -0.29387110471725464, -0.0422169491648674, -0.46794167160987854, 0.01561562530696392, -0.04307948797941208, -0.28055649995803833, -0.2109486311674118, 0.05989634618163109, -0.001754030934534967, 0.36102479696273804, 0.24641744792461395, -0.17330284416675568, -0.7624160051345825, 0.5542269945144653, -0.29676946997642517, 0.3173205256462097, -0.3977595865726471, -0.27364787459373474, 0.20807570219039917, 0.1358249932527542, -0.07415107637643814, -0.25223827362060547, -0.2801585793495178, -0.00928922276943922, 0.07919085770845413, -0.48681673407554626, 0.1165999248623848, 0.13931898772716522, -0.38446325063705444, 0.837883710861206, 0.27977195382118225, 0.6478123664855957, 0.45343488454818726, -0.526279628276825, -0.08442173898220062, -0.2634122967720032, 0.3494316637516022, 0.5049039125442505, 0.16684536635875702, 0.33064156770706177, 0.12502650916576385, 0.6229823231697083, 0.07027827948331833, -0.0942450761795044, -0.07432056963443756, -0.3499498665332794, -0.6689109802246094, 0.5673374533653259, -0.18575812876224518, -0.4272225499153137, 0.06577511131763458, -0.016450170427560806, -0.21191644668579102, -0.42160332202911377, -0.03777315095067024, 0.09568468481302261, -0.08737211674451828, 0.11817095428705215, 0.46629127860069275, 0.4355580508708954, 0.22353945672512054, -0.37290236353874207, -0.35892248153686523, 0.16188697516918182, 0.1227172240614891, 0.07725869119167328, 0.4315468966960907, -0.14688026905059814, 0.297693133354187, -0.35460394620895386, -0.17011389136314392, 0.18679499626159668, 0.203325092792511, -0.2541719377040863, -0.33553817868232727, -0.012922483496367931, -0.18403859436511993, 0.17280466854572296, -0.37035632133483887, -0.11629904806613922, -0.4037770628929138, -0.4683142900466919, 0.20778143405914307, -0.4666089713573456, 0.1500520408153534, 0.021422334015369415, 0.055376820266246796, 0.07814983278512955, -0.4230636656284332, 0.14134156703948975, -0.35761335492134094, -0.4605410099029541, 0.46461448073387146, 0.03718267008662224, 0.05252135545015335, -0.6152468323707581, 0.33080336451530457, 0.11434390395879745, -0.19059039652347565, 0.33675530552864075, -0.4675702750682831, -0.013898305594921112, -0.21957235038280487, -0.3982049822807312, 0.34371042251586914, -0.08757120370864868, -0.6326596140861511, 0.32932886481285095, -0.28525012731552124, -0.18028123676776886]\n",
            "Word 12 --> Embedding [-0.40190812945365906, -0.360353946685791, -0.7080437541007996, 0.15113316476345062, 0.3326057493686676, -0.12442304939031601, 0.4363759160041809, 0.21587444841861725, -0.20472149550914764, -0.2041652947664261, 0.5840575098991394, 0.18874967098236084, 0.10229524224996567, 0.48107948899269104, -0.09944967925548553, -0.060628741979599, -0.056395675987005234, -0.3442884087562561, -0.047768060117959976, -0.2144748568534851, -0.3036976158618927, 0.2178385853767395, -0.09841307997703552, 0.33223286271095276, 0.01492681447416544, -0.5088544487953186, -0.1307183802127838, 0.21899500489234924, 0.15455111861228943, 0.4078153967857361, -0.08920174837112427, -0.002743129851296544, -0.08111206442117691, 0.22495630383491516, 0.5596577525138855, 0.07842215895652771, 0.10690287500619888, 0.5195257067680359, 0.3796432316303253, 0.2074347585439682, 0.25329601764678955, 0.03523744270205498, 0.3564571738243103, -0.04930713027715683, 0.03207549825310707, 0.15158507227897644, 0.19450391829013824, 0.0896446630358696, -0.5956627130508423, 0.12691187858581543, 0.35314008593559265, 0.09805476665496826, 0.16704465448856354, -0.07598483562469482, -0.020302923396229744, -0.18630479276180267, 0.11877942085266113, -0.6100966334342957, 0.31742390990257263, 0.3386870324611664, 0.18100222945213318, 0.24676431715488434, 0.12515348196029663, -0.12531128525733948, 0.05584084615111351, 0.292522668838501, 0.3895355463027954, -0.4676828384399414, -0.11244934797286987, -0.3810873329639435, -1.062501311302185, 0.5321148633956909, -0.46984440088272095, -0.06731065362691879, -0.0846480280160904, -0.7480626702308655, 0.34649205207824707, 0.4021264314651489, -0.16234448552131653, -0.26982879638671875, 0.40854623913764954, -0.31026339530944824, -0.20683376491069794, 0.508703351020813, 0.6736996173858643, 0.22276784479618073, -0.5697349905967712, 0.22208262979984283, 0.2543780207633972, 0.03039180114865303, -0.32639965415000916, -0.30977317690849304, 0.4677090346813202, 0.0019575348123908043, 0.38080984354019165, -0.19625148177146912, -0.1512935757637024, -0.044543731957674026, -0.7163711786270142, 0.40317267179489136, -0.010418802499771118, 0.340923935174942, -0.7085115909576416, 0.17740757763385773, 0.04271170496940613, 0.17809616029262543, -0.2893669009208679, -0.20487748086452484, 0.1148916631937027, 0.18627400696277618, 0.27181559801101685, 0.1313137412071228, 0.16158217191696167, -0.23613150417804718, -0.2601645588874817, -0.45744794607162476, -0.11086927354335785, 0.1195783019065857, 0.08610373735427856, -0.23931416869163513, 0.08974681794643402, -0.07401077449321747, -0.6037582159042358, 0.007785319350659847, 0.3934062421321869, -0.1655907928943634, -0.551568865776062, 0.08926557749509811, 0.8840269446372986, 0.350282222032547, -0.4486044645309448, -0.034840162843465805, 0.2542823851108551, 0.5235928893089294, -0.33570483326911926, -0.025257525965571404, -0.9384539127349854, 0.6721059083938599, -1.2366572618484497, 0.09822828322649002, 0.1482815444469452, 0.40040433406829834, -0.027004363015294075, -0.39290735125541687, 0.34129318594932556, -0.2873678207397461, 0.2559857666492462, -0.09997943043708801, 0.23364374041557312, 0.30357423424720764, -0.5322443842887878, -0.09138103574514389, 0.6407254338264465, -0.2443540245294571, 0.18738660216331482, -0.8583502173423767, -0.44632822275161743, 0.3301360607147217, 0.11753938347101212, 0.1687353253364563, 0.004910976625978947, -0.09708855301141739, 0.0324694961309433, 0.4455554783344269, -0.009023819118738174, -0.4010479748249054, 0.4254678189754486, 0.19794200360774994, 0.12339815497398376, 0.4016101658344269, 0.34102126955986023, 0.004999471362680197, -0.1507590115070343, -0.25774654746055603, 0.18182538449764252, -0.4017854928970337, 0.7649447321891785, 0.10125424712896347, -0.1303609162569046, -0.030484769493341446, 0.19775496423244476, -0.2392374724149704, -0.15184028446674347, -0.26588743925094604, 0.17969952523708344, -0.6121957302093506, -0.5135413408279419, 0.21422243118286133, 0.14750947058200836, -0.21851399540901184, 0.501042366027832, -0.4424866735935211, 0.5355444550514221, 0.18149283528327942, -0.3040308356285095, 0.0896417424082756, -0.21022604405879974, -0.11318816989660263, 0.08246858417987823, 0.15264792740345, -0.024788929149508476, 0.4947783946990967, -0.3040650188922882, 0.5216630101203918, 0.15507389605045319, -0.06209582835435867, -0.20996826887130737, 0.5463103652000427, -0.21279798448085785, -0.3414791226387024, 0.04452899470925331, -0.009826112538576126, 0.3285451829433441, 0.14143182337284088, -0.6178796291351318, 0.2261696755886078, -0.13274119794368744, -0.11768942326307297, 0.0015711744781583548, 0.6235659718513489, 0.5831252932548523, 0.2019067257642746, -0.2580796182155609, 0.43315011262893677, 0.05506785213947296, -0.30320361256599426, 0.014295552857220173, 0.16827185451984406, 0.511978268623352, -0.4408493638038635, 0.2355099320411682, -0.044698622077703476, -0.09101691097021103, 0.028331195935606956, 0.29520606994628906, -0.5803383588790894, -0.3304162621498108, 0.1265358179807663, -0.4684872627258301, 0.18474771082401276, -0.042743079364299774, 0.03858698531985283, 0.05859440937638283, 0.306128591299057, 0.10184066742658615, 0.19664466381072998, -0.32423919439315796, -0.06673253327608109, 0.010444833897054195, 0.07439732551574707, 0.23294371366500854, -0.40262994170188904, -0.630531370639801, 0.6857428550720215, 0.6564298868179321, 0.32219254970550537, 0.18206064403057098, 0.1654885858297348, 0.09137983620166779, -0.303864061832428, -0.24298183619976044, 0.3622651994228363, 0.24718885123729706, 0.20096410810947418, -0.4216088652610779, 0.010784905403852463, 0.09452150762081146, -0.17426644265651703, -0.45225703716278076, -0.09510886669158936, 0.3579522967338562, -0.45687490701675415, 0.37290579080581665, 0.3930589258670807, -0.06829147785902023, -0.06829405575990677, 0.15075348317623138, -0.24310694634914398, 0.14838533103466034, 0.03950418531894684, 0.9485572576522827, 0.5242554545402527, 0.6134878396987915, 0.2582224905490875, -0.17710301280021667, -0.11510620266199112, -0.33609169721603394, 0.1858137845993042, 0.0296524316072464, -0.3031826317310333, -0.15676641464233398, -0.12757562100887299, -0.03573712706565857, 0.3859531581401825, 0.0027530656661838293, 0.37146878242492676, -0.4397002160549164, 0.4831690490245819, 0.09793110191822052, 0.45226436853408813, 0.09091716259717941, 0.23831111192703247, -0.3858819305896759, -0.08223852515220642, -0.07389263063669205, 0.036584943532943726, 0.2553398907184601, 0.19733892381191254, 0.32166025042533875, 0.11246517300605774, 0.24408547580242157, 0.066472627222538, -0.38103383779525757, -0.41362035274505615, -0.4322008192539215, 0.10897582769393921, 0.27579963207244873, 0.13421647250652313, 0.06822677701711655, -0.2420485019683838, -0.14673203229904175, 0.2086026817560196, -0.4968412518501282, -0.03737945482134819, 0.11838558316230774, 0.4229792654514313, 0.09062423557043076, 0.47093909978866577, -0.004980374127626419, -0.058929502964019775, 0.1380065232515335, -0.306162029504776, -0.3834431767463684, -0.02773149125277996, -0.16295944154262543, -0.3111940920352936, -0.39906907081604004, 0.12596042454242706, -0.3999929130077362, 0.2519789934158325, 0.2503640353679657, 0.4021656811237335, 0.00204396597109735, 0.10651423037052155, 0.4920644164085388, 0.364986777305603, -0.25967398285865784, -0.1984136700630188, 0.06723803281784058, -0.07345765084028244, 0.18392182886600494, -0.4327769875526428, -0.43303200602531433, -0.15089504420757294, 0.23633228242397308, 0.3687938451766968, 0.10180118680000305, -0.31293949484825134, 0.16925983130931854, 0.09054688364267349, 0.17148861289024353, 0.20172055065631866, 0.22554711997509003, 0.21331492066383362, -0.07547332346439362, -0.07115547358989716, -0.0748945027589798, -0.0013289311900734901, -0.1496978998184204, -0.10586845129728317, 0.3772655129432678, -0.07828081399202347, 0.21101811528205872, 0.09303296357393265, -0.05367588996887207, -0.07168294489383698, -0.20101512968540192, -0.2097283899784088, -0.09233029186725616, -0.666103184223175, 0.25025972723960876, -0.09706505388021469, -0.21699212491512299, -0.20706751942634583, 0.04583201929926872, 0.0035511439200490713, -0.11163030564785004, -0.10874135792255402, 0.2329767644405365, -0.04382067918777466, 0.2331503927707672, -0.3670818507671356, 0.19542939960956573, -0.17825573682785034, 0.26653140783309937, 0.48318567872047424, -0.38261890411376953, 0.0077219754457473755, -0.29655367136001587, 0.264315664768219, -0.15795496106147766, 0.11142601817846298, -0.2669863700866699, -0.2657850682735443, 0.013574612326920033, -0.07720895111560822, -0.3292315602302551, -0.46243613958358765, 0.3247113823890686, -0.15521110594272614, -0.1009431779384613, -0.2869429886341095, 0.28764796257019043, 0.5559837818145752, 0.20102858543395996, -0.34975841641426086, 0.04394710436463356, 0.8887847661972046, -0.31960299611091614, 0.059868935495615005, -0.025355828925967216, -0.04036109149456024, 0.0009592451970092952, 0.1968817263841629, 0.06183553487062454, 0.08380571752786636, -0.017256172373890877, -0.32768434286117554, -0.5686030983924866, 0.4262827932834625, 0.474361777305603, 0.4367992579936981, 0.13955406844615936, 0.09074557572603226, -0.08280503749847412, 0.09099255502223969, -0.11343471705913544, 0.31384748220443726, -0.3870672583580017, -0.13298608362674713, -0.18443314731121063, 0.07951312512159348, -0.021563006564974785, 0.04819924756884575, -0.3143512010574341, -0.21330176293849945, 0.014978154562413692, -0.08151742815971375, -0.21975241601467133, -0.4374280571937561, 0.2393534779548645, -0.05133999139070511, -0.1041659563779831, 0.5137460231781006, 0.13346369564533234, -0.9898791909217834, -0.17686641216278076, -0.26559799909591675, 0.16414982080459595, 0.1334480494260788, -0.5875152349472046, -0.017928939312696457, -0.2100505381822586, 0.5023680925369263, 0.30501168966293335, 0.03135593608021736, -0.1913699209690094, 0.31125423312187195, 0.20828232169151306, -0.23527415096759796, -0.033062152564525604, 0.10029754787683487, 0.04789506271481514, 0.11108896136283875, -0.13979393243789673, 0.24704241752624512, 0.164125457406044, 0.16034331917762756, 0.03895089402794838, 0.16377626359462738, -0.295471727848053, -0.17571556568145752, 0.0722692459821701, -0.1771813929080963, 0.01275664009153843, 0.19547176361083984, 0.23348678648471832, 0.26667097210884094, -0.2568884491920471, 0.8336273431777954, -0.6000224351882935, 0.017676478251814842, -0.43866291642189026, 0.3748311996459961, 0.05816291272640228, -0.22303643822669983, -0.09085032343864441, -0.13276422023773193, -0.076081283390522, -0.57550048828125, -0.16116560995578766, -0.2957112491130829, -0.18053612112998962, 0.20017096400260925, 0.25459054112434387, 0.3317908048629761, -0.4522944986820221, -0.006883370224386454, 0.12181071192026138, -0.3195474147796631, 0.0794849619269371, -0.36762291193008423, 0.02837829850614071, -0.1754142791032791, -0.016782334074378014, -0.41690942645072937, -0.09399941563606262, 0.7093395590782166, 0.2944698631763458, -0.12632007896900177, 0.2798188626766205, -0.36831068992614746, -0.3427298069000244, 0.2615111768245697, 0.12462236732244492, 0.5315371751785278, 0.3278944194316864, 0.11709435284137726, -0.40905800461769104, 0.4254153370857239, -0.19892451167106628, 0.19113880395889282, -0.3554074764251709, -0.1665474772453308, 0.30976933240890503, -0.17068301141262054, 0.20723794400691986, -0.17159634828567505, 0.7428322434425354, 0.5999521613121033, -0.3965326249599457, 0.14546571671962738, 0.18548674881458282, 0.046996861696243286, -0.14076964557170868, 0.12718571722507477, -0.18404607474803925, -0.7841351628303528, -0.15313328802585602, 0.08532951027154922, 0.3734705150127411, 0.42524927854537964, 0.08833272010087967, -0.1721758097410202, 0.2101936936378479, -0.09754790365695953, -0.42928799986839294, -8.89148235321045, 0.2039465755224228, -0.3108145296573639, 0.12782657146453857, 0.04165142774581909, -0.34778088331222534, 0.1655896157026291, -0.14677631855010986, -0.419793039560318, -0.3131864070892334, -0.24055901169776917, 0.18360663950443268, 0.3332892060279846, -0.40826424956321716, -0.10792457312345505, -0.3734097182750702, -0.32016944885253906, 0.4744377136230469, -0.31439030170440674, -0.22349153459072113, 0.2693989872932434, -0.14225666224956512, 0.15438273549079895, 1.1076405048370361, 0.38612595200538635, 0.004338554572314024, 0.16220855712890625, -0.02398950606584549, 0.326960951089859, -0.051634080708026886, -0.4596409499645233, 0.3126687705516815, -0.0013849616516381502, -0.17643176019191742, 0.1676167994737625, 0.22327950596809387, 0.13434216380119324, -0.08938252925872803, -0.09480547159910202, -0.22617784142494202, -0.07776591181755066, 0.24564452469348907, -0.3526078164577484, -0.5892397165298462, -0.25632551312446594, -0.28832101821899414, 0.07814136892557144, -0.10017146915197372, -0.7260072827339172, 0.16281940042972565, 0.6647124886512756, -0.05257077515125275, 0.35423702001571655, 0.0968857929110527, -0.17711621522903442, 0.059210799634456635, 0.06059085577726364, -0.09739013761281967, 0.1242862194776535, -0.14109477400779724, -0.29343172907829285, -0.40343040227890015, 0.5517142415046692, 0.3234962821006775, 0.005048145540058613, 0.23180341720581055, -0.1437377631664276, -0.06544895470142365, 0.3103812038898468, -0.1685647964477539, -0.15518629550933838, -0.39660194516181946, -0.1612154245376587, -0.3190487325191498, 0.1273384690284729, -0.013726302422583103, 0.06822621822357178, 0.32348498702049255, 0.1064060628414154, 0.3477380871772766, 0.07235407829284668, 0.5301859378814697, 0.09613896906375885, 0.09189818799495697, -0.34254974126815796, 0.02326934039592743, -0.363614946603775, -0.018475783988833427, -0.18094632029533386, -0.212454155087471, 0.20545053482055664, 0.16877301037311554, -0.12581343948841095, -0.14593511819839478, -0.07171735912561417, 0.2661617398262024, -0.033522021025419235, 0.18056736886501312, -0.07710994780063629, 0.2844387888908386, -0.18574056029319763, -0.04495205357670784, -0.20403534173965454, -0.043709561228752136, 0.18982456624507904, 0.3028463125228882, -0.311003714799881, -0.23961825668811798, 0.3584020733833313, 0.17533449828624725, 0.4078335165977478, -0.08895225822925568, -0.24640865623950958, 0.06441450864076614, 0.2509804368019104, 0.1907242238521576, 0.5550231337547302, -0.28336718678474426, -0.1288887858390808, -0.06003890559077263, -0.22939331829547882, 0.16552112996578217, 0.30413901805877686, -0.19752830266952515, 0.3745613694190979, 0.5875345468521118, -0.49636656045913696, 0.19597092270851135, 0.2648698687553406, -0.13161621987819672, 0.7292724847793579, 0.3037434220314026, 0.0527338907122612, 0.14699816703796387, -0.32589831948280334, -0.274242103099823, -0.3631504476070404, -0.03565732017159462, 0.33916255831718445, -0.17429889738559723, 0.0957103744149208, 0.08086764067411423, 0.535395085811615, 0.32018840312957764, -0.09596573561429977, -0.10257171839475632, -0.3320889174938202, -0.470071941614151, 0.15912966430187225, 0.1680126041173935, -0.17640718817710876, 0.2803293764591217, 0.22224950790405273, 0.10680072754621506, -0.259097695350647, 0.3123328685760498, 0.314328670501709, -0.05831917002797127, 0.43612149357795715, 0.4669361710548401, 0.39368194341659546, 0.21480195224285126, -0.28912273049354553, -0.2059001922607422, -0.12988194823265076, 0.3724249005317688, -0.05075480788946152, 0.29561519622802734, -0.15611132979393005, 0.004209370817989111, -0.4906966984272003, 0.015384495258331299, 0.1464693397283554, 0.05293748155236244, -0.20954759418964386, -0.3932090997695923, -0.283139705657959, -0.003143586916849017, 0.230608731508255, -0.33390533924102783, -0.14704276621341705, -0.28091394901275635, -0.7156080007553101, 0.0051841228269040585, -0.1556967943906784, -0.0856071338057518, 0.15517137944698334, -0.018172822892665863, 0.12871424853801727, -0.4128607213497162, 0.20125159621238708, -0.30784904956817627, -0.3561178743839264, 0.024552837014198303, -0.05212942510843277, 0.11954929679632187, -0.6385998725891113, 0.5811965465545654, 0.1550862193107605, -0.09632214903831482, 0.5286948680877686, -0.423771470785141, 0.2746310532093048, 0.03339681401848793, -0.3003723919391632, 0.12011608481407166, 0.11185120046138763, -0.01095875259488821, 0.2735912501811981, -0.12307221442461014, -0.11152608692646027]\n",
            "Word 13 --> Embedding [-0.31077054142951965, -0.4992825388908386, -0.4911773204803467, -0.04397236183285713, -0.356458842754364, 0.06799830496311188, 0.47253379225730896, -0.043923135846853256, 0.01692415587604046, 0.32282009720802307, 0.3421379327774048, -0.18378227949142456, 0.1311352252960205, 0.3776688873767853, 0.05627281591296196, 0.4157995581626892, 0.1579587310552597, 0.02249111607670784, -0.07403790205717087, -0.23064105212688446, -0.24503400921821594, -0.14083118736743927, -0.2732619047164917, -0.019956335425376892, -0.1533382683992386, -0.25859373807907104, 0.2753182649612427, -0.10758056491613388, -0.20923446118831635, 0.142883762717247, 0.16777543723583221, 0.06606168299913406, -0.07032154500484467, 0.3707159757614136, 0.13730566203594208, 0.07426343858242035, 0.38235899806022644, 0.1884465515613556, 0.30378371477127075, 0.26231324672698975, -0.1503063291311264, 0.03308195620775223, 0.13946585357189178, -0.21705681085586548, -0.2933594286441803, 0.23799191415309906, 0.2582925856113434, 0.4179343283176422, -0.5357350707054138, 0.2698427736759186, 0.495534211397171, 0.4291875958442688, 0.1440192312002182, 0.19204489886760712, -0.03929835557937622, 0.09748252481222153, -0.2891155183315277, -0.10635125637054443, 0.15771491825580597, -0.03984595090150833, -0.1373576670885086, 0.42206594347953796, -0.0811915248632431, -0.3214292526245117, -0.08489196002483368, 0.27950724959373474, 0.4048321843147278, -0.1978917270898819, -0.29388362169265747, -0.26147839426994324, -0.38208115100860596, 0.1406252682209015, -0.08310030400753021, 0.2062651515007019, -0.27030932903289795, -0.4946467876434326, 0.21892957389354706, 0.05456399917602539, -0.2168153077363968, -0.2748469114303589, 0.04230162128806114, -0.5020278096199036, -0.07117130607366562, 0.11917836964130402, 0.7905018329620361, -0.21113121509552002, -0.2558535039424896, -0.4057749807834625, -0.21691171824932098, 0.1653415411710739, -0.29531916975975037, -0.20934909582138062, -0.333906888961792, -0.06859330832958221, -0.13786128163337708, 0.32686951756477356, 0.13422656059265137, 0.1501946896314621, -0.3982854187488556, 0.09232459962368011, 0.29463890194892883, 0.15902362763881683, -0.532740592956543, 0.19140709936618805, 0.06022384390234947, 0.19538094103336334, -0.3014201819896698, 0.18805396556854248, 0.3136506676673889, -0.3301517069339752, 0.05918964743614197, -0.0026928093284368515, -0.11272801458835602, -0.31716591119766235, 0.16850140690803528, -0.3760201632976532, -0.25491902232170105, -0.01832355000078678, 0.030028924345970154, 0.19902095198631287, 0.24684475362300873, -0.06446495652198792, -0.31836190819740295, 0.13219791650772095, -0.12089426815509796, -0.0317855142056942, -0.20442263782024384, -0.17912916839122772, 0.5243436098098755, -0.20759111642837524, -0.29221299290657043, 0.16518205404281616, 0.3188006579875946, 0.03552132472395897, -0.018962545320391655, -0.15710482001304626, -0.5367834568023682, 0.27770087122917175, -0.8361460566520691, -0.10130860656499863, -0.1971634030342102, 0.17449860274791718, -0.1069292426109314, -0.022911908105015755, 0.21312540769577026, -0.07127059996128082, 0.505487859249115, 0.22152242064476013, -0.056803781539201736, 0.19824913144111633, -0.28773364424705505, 0.025059599429368973, 0.08496345579624176, -0.2975243330001831, -0.05739718675613403, -0.7552120685577393, -0.5560033321380615, 0.26146411895751953, -0.17742204666137695, 0.005381299648433924, 0.008674775250256062, -0.5121078491210938, -0.258318156003952, 0.14534270763397217, 0.10670799762010574, -0.4989217519760132, -0.06306447833776474, -0.2825179994106293, 0.36864230036735535, 0.2310318946838379, 0.10974971950054169, 0.25527364015579224, -0.49530577659606934, -0.054871391505002975, 0.2493422031402588, 0.05716163292527199, 0.8634639978408813, 0.23950397968292236, 0.3659360706806183, -0.05622989684343338, -0.18687063455581665, 0.06943339109420776, 0.18265685439109802, 0.028283577412366867, 0.1747565120458603, -0.312042772769928, -0.2440282702445984, 0.07539093494415283, -0.24742235243320465, -0.11252770572900772, 0.48650801181793213, -0.15319488942623138, 0.40805503726005554, 0.11368374526500702, -0.28812721371650696, 0.5665910243988037, -0.25726795196533203, 0.1630886197090149, 0.1580342799425125, 0.12693122029304504, -0.05760740116238594, 0.40469685196876526, -0.07578258216381073, 0.043248992413282394, 0.2610038220882416, 0.12165501713752747, 0.20444010198116302, 0.011802245862782001, -0.12851089239120483, -0.2736532390117645, -0.08492046594619751, -0.003695711260661483, 0.23460541665554047, 0.06629114598035812, -0.38156551122665405, -0.07202126830816269, -0.12747542560100555, 0.10929600894451141, -0.18176701664924622, 0.02798466570675373, 0.3502006232738495, 0.03892098367214203, -0.1708439439535141, 0.4158459007740021, -0.04517963156104088, -0.36658918857574463, 0.08632918447256088, 0.07570919394493103, 0.08185670524835587, 0.14445017278194427, 0.12804366648197174, 0.2153608202934265, 0.09395582973957062, -0.011148815974593163, 0.14781410992145538, -0.4381709098815918, -0.03360512852668762, 0.11195075511932373, -0.2598923146724701, -0.010506941936910152, 0.025073908269405365, 0.10822843015193939, -0.20710870623588562, 0.26805880665779114, 0.19672656059265137, 0.1844196766614914, 0.11828535050153732, 0.2651005983352661, 0.104106105864048, -0.10466189682483673, 0.5789451599121094, -0.10517910122871399, -0.18314826488494873, 0.5250265002250671, 0.27583882212638855, 0.10420236736536026, 0.19597983360290527, -0.00035891184234060347, 0.1768602877855301, -0.4199610948562622, -0.0037839810829609632, -0.06779490411281586, 0.060328856110572815, 0.25405997037887573, 0.12800070643424988, 0.08618881553411484, -0.03595420718193054, 0.024697059765458107, -0.10078419744968414, -0.15508916974067688, 0.2713157832622528, 0.025641264393925667, -0.21137118339538574, 0.2507081627845764, -0.07358429580926895, -0.12095451354980469, 0.052646998316049576, 0.2701800465583801, -0.06961390376091003, -0.046369392424821854, 0.31558138132095337, 0.05511225759983063, 0.04896862059831619, 0.0008242693147622049, -0.0017905093263834715, 0.1351383477449417, 0.01850629597902298, 0.09788556396961212, 0.3465043306350708, -0.36669036746025085, 0.21264125406742096, -0.1348789781332016, -0.03833799809217453, 0.17315787076950073, 0.027935868129134178, 0.3577288091182709, -0.40075448155403137, 0.24022875726222992, -0.1457299143075943, 0.06926800310611725, -0.10152290016412735, -0.06725838780403137, -0.25005200505256653, -0.11401771754026413, -0.01753474771976471, -0.05580741912126541, -0.11747408658266068, 0.35854941606521606, 0.18204912543296814, 0.12164846062660217, -0.12767964601516724, 0.10179741680622101, -0.35368481278419495, -0.08440648764371872, -0.2633729577064514, 0.07984529435634613, -0.1295408308506012, 0.47201693058013916, -0.034237079322338104, -0.006177099421620369, -0.24594463407993317, 0.011866462416946888, -0.22138755023479462, -0.10841722041368484, -0.1257900893688202, 0.2992013990879059, 0.07057902216911316, 0.14337646961212158, -0.048268549144268036, -0.18227392435073853, 0.2008170783519745, 0.135999396443367, -0.6603464484214783, -0.28885722160339355, -0.5135913491249084, -0.17184977233409882, -0.31450724601745605, 0.2283099889755249, -0.9526253938674927, 0.08113174140453339, 0.060015276074409485, 0.23029133677482605, -0.268846720457077, 0.08740577101707458, 0.10675937682390213, -0.03464445471763611, -0.18081380426883698, -0.24083754420280457, 0.020642146468162537, -0.038464248180389404, 0.18543945252895355, -0.04157746955752373, -0.48984894156455994, 0.0959131047129631, 0.13241732120513916, 0.25180476903915405, -0.1662091612815857, -0.48855060338974, 0.16237537562847137, 0.18196846544742584, 0.15410752594470978, 0.18334819376468658, 0.18055963516235352, -0.17354200780391693, -0.0057538156397640705, 0.27254393696784973, 0.10626939684152603, 0.3326839804649353, 0.03246481344103813, -0.24132032692432404, 0.1129978820681572, -0.07516546547412872, -0.11757545173168182, 0.18300752341747284, -0.06131814792752266, 0.3025089502334595, 0.18067041039466858, -0.18484048545360565, -0.03284258022904396, -0.1641206592321396, 0.31569620966911316, -0.020019233226776123, -0.23632192611694336, 0.3286735415458679, -0.050888240337371826, 0.12138122320175171, 0.2567308247089386, -0.22989915311336517, 0.05389830470085144, 0.20366401970386505, 0.18972009420394897, -0.28436270356178284, 0.14551706612110138, 0.033423975110054016, 0.17081134021282196, 0.1918899565935135, -0.10787668824195862, 0.06195428967475891, -0.1820850372314453, 0.19883999228477478, -0.14191575348377228, 0.3449524939060211, -0.042319513857364655, -0.13642090559005737, 0.029225096106529236, 0.15269158780574799, -0.47215259075164795, -0.046532005071640015, 0.3245724141597748, 0.07229804247617722, -0.055523212999105453, -0.043286439031362534, 0.07830089330673218, 0.31771793961524963, -0.16730546951293945, -0.18360736966133118, 0.00669228145852685, 0.8330423831939697, -0.24924473464488983, 0.22577302157878876, 0.10198085755109787, -0.23633220791816711, -0.07294972240924835, 0.14184260368347168, 0.20744721591472626, 0.04877319186925888, -0.28151628375053406, 0.04379141703248024, -0.7730933427810669, -0.1298576444387436, 0.0891793817281723, 0.23159366846084595, 0.16129067540168762, -0.2943130135536194, 0.09085105359554291, -0.22540681064128876, 0.22545236349105835, -0.27431514859199524, -0.6948906779289246, 0.024066470563411713, 0.09372832626104355, -0.01800231821835041, 0.013718881644308567, 0.3382531702518463, 0.2795005440711975, 0.024394884705543518, 0.36278393864631653, -0.0757201537489891, 0.31321945786476135, -0.06681086122989655, 0.11898809671401978, 0.0909639447927475, -0.12468058615922928, 0.4505779445171356, 0.3591943085193634, -0.33679142594337463, -0.21789340674877167, -0.03940539062023163, -0.01587578095495701, 0.050695423036813736, 0.05925612896680832, 0.04633631929755211, -0.02849636785686016, 0.19604118168354034, 0.0725879892706871, 0.0936269760131836, 0.30554458498954773, 0.48993563652038574, 0.16850870847702026, -0.006758891046047211, -0.14817321300506592, 0.3512563705444336, -0.13573716580867767, 0.14371280372142792, 0.4884518086910248, 0.3667548894882202, 0.3424944281578064, -0.07951508462429047, 0.05596297234296799, 0.1274760663509369, -0.17105548083782196, -0.02097143791615963, 0.010067654773592949, -0.06812794506549835, 0.4593406319618225, -0.03544967249035835, 0.18653316795825958, 0.18508562445640564, 0.05758500471711159, 0.08591827005147934, -0.30409225821495056, 0.20178605616092682, -0.5649644732475281, 0.21812723577022552, 0.1538042277097702, -0.07291950285434723, -0.1610841304063797, 0.016645390540361404, -0.0905749499797821, -0.3637373745441437, -0.4767613410949707, -0.0637127012014389, -0.046081703156232834, 0.06896752119064331, 0.24294760823249817, -0.07498091459274292, 0.03955567628145218, -0.040744323283433914, -0.14055471122264862, -0.1967586874961853, 0.010780949145555496, -0.3386487364768982, 0.07627858221530914, -0.3098347783088684, -0.19529074430465698, -0.5396806001663208, 0.13356991112232208, 0.3682492673397064, -0.2224317193031311, -0.44625037908554077, 0.29498565196990967, -0.3906749188899994, -0.20033547282218933, 0.1836605668067932, 0.3135715425014496, 0.1630311757326126, 0.20381708443164825, 0.2738916575908661, -0.026355547830462456, 0.43275389075279236, -0.3875349462032318, 0.08813076466321945, 0.10041740536689758, 0.10395419597625732, 0.47217971086502075, 0.03806006908416748, 0.18270418047904968, -0.39081889390945435, 0.3995340168476105, 0.1666373461484909, -0.04622086137533188, 0.42654553055763245, 0.06479039788246155, -0.13086235523223877, -0.4690832495689392, 0.09963244944810867, -0.07136327028274536, -0.41862085461616516, -0.11443358659744263, -0.5195505619049072, 0.2624850869178772, 0.440885454416275, -0.22503986954689026, -0.3656742572784424, 0.2677776515483856, -0.21905553340911865, -0.26372230052948, -9.212255477905273, -0.053166262805461884, -0.017250368371605873, 0.17887169122695923, 0.08279959857463837, -0.25037291646003723, 0.06297031790018082, -0.1043570414185524, -0.2865367531776428, 0.17602738738059998, -0.18200857937335968, 0.3169196546077728, -0.01805468089878559, -0.3452635407447815, 0.15241919457912445, -0.05116106569766998, 0.16842907667160034, 0.34903717041015625, -0.20482797920703888, -0.306897908449173, -0.026743309572339058, -0.17237144708633423, 0.1720821112394333, 0.4351288080215454, 0.06191578134894371, -0.019685985520482063, -0.5721980929374695, -0.17588484287261963, -0.04277237504720688, 0.05171246826648712, -0.2706719636917114, 0.0060533820651471615, 0.1853882074356079, 0.1027224063873291, 0.14814722537994385, 0.03273516520857811, -0.28182142972946167, 0.11325743794441223, 0.09029612690210342, 0.20667193830013275, 0.3944937586784363, 0.2409689724445343, 0.23699036240577698, -0.09217323362827301, 0.12085061520338058, -0.013752603903412819, 0.3066628873348236, 0.047064218670129776, -0.28551778197288513, -0.08766970038414001, 0.5495783090591431, 0.0260530523955822, 0.4637693762779236, 0.20395642518997192, -0.0068464274518191814, 0.32485872507095337, 0.12402310222387314, -0.24645797908306122, -0.49650177359580994, -0.10137668251991272, -0.22159786522388458, -0.6134672164916992, 0.16979260742664337, -0.09334566444158554, 0.14608365297317505, 0.1979023814201355, -0.11911843717098236, 0.3916758596897125, 0.24554744362831116, 0.021883301436901093, -0.18844397366046906, -0.16006307303905487, -0.23435744643211365, 0.06431860476732254, 0.3020889461040497, 0.24281463027000427, 0.12836824357509613, 0.11521058529615402, -0.15009380877017975, 0.160715714097023, -0.005726379808038473, 0.28757190704345703, 0.38922441005706787, -0.03934885933995247, -0.38101667165756226, 0.17457138001918793, -0.24366486072540283, -0.07379207015037537, -0.048810925334692, -0.04265206307172775, 0.5537559986114502, 0.21398845314979553, -0.274177223443985, 0.0008235753630287945, -0.011223344132304192, 0.19958050549030304, 0.12202770262956619, -0.0005755973979830742, -0.27761927247047424, -0.13562831282615662, 0.07928406447172165, 0.34042054414749146, -0.15091876685619354, 0.0914333313703537, 0.1721363365650177, -0.058582425117492676, 0.024227146059274673, 0.20527414977550507, 0.12336702644824982, 0.1943909376859665, 0.19347521662712097, -0.07292710989713669, -0.34841087460517883, 0.320907860994339, 0.29712921380996704, -0.07182896882295609, -0.010372141376137733, 0.11497758328914642, 0.1785808950662613, 0.08116064965724945, -0.2653658092021942, -0.11691074818372726, 0.5930731892585754, -0.10382694751024246, 0.13388478755950928, 0.23676016926765442, -0.5511295199394226, 0.30071818828582764, -0.011520358733832836, -0.31507766246795654, 0.46528926491737366, 0.1786956936120987, 0.1076926663517952, 0.08753115683794022, -0.07499267905950546, -0.10198256373405457, -0.05416048318147659, -0.03151499480009079, 0.2500205338001251, 0.19637693464756012, 0.3115398585796356, 0.10663345456123352, -0.1063019409775734, 0.326979398727417, 0.37545230984687805, -0.10490206629037857, -0.16508792340755463, -0.4310949146747589, -0.16130471229553223, -0.1441008746623993, 0.3085901439189911, 0.47609177231788635, -0.11715150624513626, 0.08375094830989838, -0.26366138458251953, 0.17628352344036102, 0.09394169598817825, -0.31952232122421265, 0.5585863590240479, 0.3439013361930847, 0.23061035573482513, 0.22505581378936768, -0.02611435204744339, -0.3262019157409668, 0.14265379309654236, -0.08879508823156357, -0.03981786593794823, 0.26075661182403564, 0.06317984312772751, -0.5354916453361511, -0.1285492479801178, 0.15138697624206543, 0.08947673439979553, -0.4234124422073364, -0.23458519577980042, -0.26833656430244446, -0.22201062738895416, 0.08882652968168259, 0.01898701675236225, -0.010059360414743423, -0.046473219990730286, -0.26650935411453247, -0.16037951409816742, 0.0015498327556997538, -0.0858675166964531, -0.2007794827222824, 0.16825447976589203, -0.15321260690689087, 0.27069932222366333, -0.16927973926067352, -0.03737073019146919, -0.37706831097602844, -0.21267886459827423, -0.34720084071159363, -0.0044351438991725445, -0.1624354124069214, -0.5032170414924622, 0.4300188720226288, -0.39473992586135864, 0.11127389222383499, 0.306905061006546, -0.10186732560396194, 0.3414303958415985, -0.14097462594509125, 0.001913642161525786, -0.3145495653152466, 0.23367922008037567, 0.23214946687221527, 0.18868084251880646, 0.2305596023797989, 0.023055439814925194]\n",
            "Word 14 --> Embedding [-0.005387783516198397, -0.22146864235401154, -0.19191661477088928, 0.09628075361251831, -0.13459379971027374, 0.03347066044807434, 0.4254738986492157, 0.1671287715435028, -0.24133439362049103, 0.15036045014858246, 0.32423436641693115, -0.08701149374246597, 0.08160021901130676, 0.17854800820350647, 0.30948606133461, 0.06837734580039978, -0.10181615501642227, 0.20026177167892456, 0.2541828453540802, -0.35531118512153625, -0.18067336082458496, -0.09444790333509445, -0.13446129858493805, 0.12762141227722168, -0.07674016058444977, -0.6165148615837097, 0.33877643942832947, 0.2511273920536041, -0.05900957062840462, 0.2126794010400772, -0.12652495503425598, 0.3898848295211792, 0.1120961606502533, 0.16636748611927032, 0.29911863803863525, -0.03242572396993637, 0.46000197529792786, 0.2304162234067917, 0.2872227430343628, 0.3724678158760071, -0.27764615416526794, 0.05184377357363701, 0.22620061039924622, -0.2892207205295563, 0.19615289568901062, 0.19489450752735138, 0.43478429317474365, 0.16001860797405243, -0.0922202467918396, 0.14654852449893951, 0.318768173456192, -0.20235705375671387, 0.15455295145511627, 0.23429280519485474, 0.1592681109905243, -0.1754446029663086, -0.4064822793006897, -0.23053297400474548, -0.07196658104658127, 0.4594488739967346, 0.020055385306477547, 0.12240716814994812, 0.01794273406267166, 0.14985792338848114, 0.08416476845741272, -0.0003776398953050375, 0.2591755986213684, -0.011014784686267376, 0.1412147730588913, -0.08540841937065125, -0.5992847084999084, -0.04549666494131088, 0.009912008419632912, 0.011252649128437042, 0.07987962663173676, -0.3343261778354645, -0.13471294939517975, 0.059012122452259064, -0.4648559093475342, -0.14716677367687225, -0.006405137944966555, -0.19332526624202728, -0.288271427154541, 0.10724771022796631, 0.5754272937774658, -0.2615310251712799, -0.10876940190792084, 0.059086982160806656, 0.08164847642183304, 0.03709928318858147, -0.18109004199504852, -0.08004091680049896, -0.29886534810066223, -0.5236745476722717, -0.3535565435886383, 0.5506179928779602, 0.14530299603939056, -0.2142530232667923, -0.37619125843048096, 0.2058979868888855, 0.17118795216083527, 0.07999545335769653, -0.405659943819046, 0.4119518995285034, -0.11203954368829727, 0.3506622612476349, -0.40801504254341125, 0.29499009251594543, 0.14005613327026367, 0.12363980710506439, 0.3998412787914276, 0.3189237415790558, -0.03627993166446686, -0.48157960176467896, -0.22983722388744354, -0.3462921977043152, -0.20041106641292572, 0.4572840929031372, 0.025257831439375877, -0.3481062650680542, 0.27559247612953186, -0.2478754222393036, -0.06938452273607254, 0.14321711659431458, 0.18566550314426422, 0.1962209939956665, -0.05886910483241081, -0.14931993186473846, 0.14705346524715424, 0.05492105334997177, 0.06672900915145874, -0.02362104132771492, 0.4578471779823303, 0.1262555718421936, 0.03684315085411072, 0.052297454327344894, -0.5406923294067383, 0.6610094308853149, -0.6308788061141968, -0.11545822024345398, -0.27344441413879395, -0.04325937479734421, -0.09203647822141647, -0.049968086183071136, 0.3846215605735779, -0.22431448101997375, 0.43113234639167786, -0.23298311233520508, -0.34258323907852173, 0.16093727946281433, -0.0734420120716095, -0.03394234552979469, 0.01677624136209488, 0.3185039162635803, 0.19335035979747772, -0.4414213299751282, -0.21836207807064056, 0.07660319656133652, 0.14768117666244507, -0.01730038970708847, -0.030676916241645813, -0.22613823413848877, 0.10365165770053864, 0.1436646431684494, 0.04457048326730728, -0.4823899567127228, -0.02084502764046192, -0.22575506567955017, 0.12963952124118805, 0.052057743072509766, 0.19243797659873962, 0.21214888989925385, -0.319387286901474, -0.4324171245098114, 0.11640304327011108, -0.3545963764190674, 0.495307981967926, -0.058611951768398285, -0.04990778863430023, -0.23251454532146454, 0.01574527472257614, 0.11426801979541779, 0.019803328439593315, 0.21845866739749908, -0.07051082700490952, -0.1289639174938202, -0.23438076674938202, 0.1320168375968933, -0.3723304569721222, -0.10786167532205582, 0.04578116163611412, -0.19323943555355072, 0.3027611970901489, 0.050035275518894196, -0.009289230220019817, 0.019271012395620346, -0.2622109651565552, -0.07559450715780258, -0.04351234436035156, -0.09609634429216385, -0.4296051561832428, -0.0005655162967741489, -0.07354389876127243, 0.0775175467133522, 0.35714849829673767, 0.3394154906272888, 0.06237656995654106, 0.3281882405281067, 0.02554658055305481, 0.2264517992734909, 0.03856239095330238, 0.059189096093177795, 0.2901143729686737, 0.2637404203414917, -0.09790187329053879, -0.06152411177754402, 0.02055426873266697, 0.33497992157936096, -0.09240312874317169, 0.3116348385810852, 0.2408643364906311, 0.11868436634540558, 0.0314505435526371, 0.22956199944019318, -0.10504207760095596, -0.18513044714927673, -0.194365456700325, -0.21596603095531464, 0.027544401586055756, 0.08044800907373428, 0.2483636885881424, 0.10116450488567352, 0.3334427773952484, 0.19254237413406372, 0.16645416617393494, -0.45489582419395447, 0.10125945508480072, 0.13995668292045593, -0.2508453130722046, 0.1149551123380661, -0.10100676119327545, -0.13040494918823242, -0.2008957713842392, 0.8406630754470825, -0.017910515889525414, 0.2581426203250885, -0.010008416138589382, 0.2637472450733185, -0.21116361021995544, -0.061587780714035034, 0.33229100704193115, 0.2963390052318573, -0.3784538805484772, 0.37292763590812683, -0.03445057570934296, -0.023237720131874084, 0.05877205356955528, -0.04722411185503006, -0.08852776139974594, -0.4006093442440033, 0.06231418624520302, 0.04476580768823624, 0.21272318065166473, -0.07658367604017258, 0.32473284006118774, 0.17009636759757996, 0.20860043168067932, -0.17724601924419403, -0.10516143590211868, 0.15141640603542328, 0.37732240557670593, 0.05010836943984032, -0.426045298576355, 0.3396837115287781, 0.1256900131702423, -0.22500212490558624, 0.04205617308616638, 0.17468015849590302, 0.025543976575136185, -0.17442573606967926, 0.6386799812316895, 0.05268041417002678, 0.16512076556682587, 0.13597969710826874, -0.132367804646492, 0.2196473628282547, 0.12418844550848007, -0.04514508321881294, 0.19461292028427124, -0.3670203387737274, -0.08392823487520218, -0.10626428574323654, -0.01932213455438614, -0.21091029047966003, 0.02300562523305416, 0.2252996563911438, -0.18031536042690277, 0.10526685416698456, 0.2662646472454071, 0.07053782790899277, 0.13188353180885315, -0.06769818812608719, -0.25356078147888184, 0.09939190000295639, 0.019664008170366287, 0.13201755285263062, -0.13242575526237488, 0.09658993035554886, 0.1307220309972763, 0.022719595581293106, -0.01913776621222496, -0.10962249338626862, -0.03733928129076958, -0.3441292345523834, -0.20483045279979706, -0.009874891489744186, 0.01649925485253334, 0.3508458733558655, -0.17965397238731384, -0.2017918825149536, -0.22759796679019928, 0.20555539429187775, -0.10422438383102417, -0.03643520176410675, -0.03745005652308464, -0.03729122877120972, 0.003379728179425001, 0.0939672589302063, -0.23260009288787842, -0.24053829908370972, 0.17115196585655212, -0.06748390942811966, -0.573738157749176, -0.48453372716903687, -0.27782049775123596, 0.034464575350284576, 0.039902497082948685, 0.42688554525375366, -0.20845654606819153, 0.21459685266017914, 0.051196180284023285, 0.11624119430780411, -0.28425994515419006, -0.12315817922353745, 0.07566782087087631, 0.4245971441268921, -0.3490373194217682, -0.38456353545188904, -0.08455107361078262, -0.07432083040475845, 0.27223584055900574, -0.23110106587409973, -0.41951754689216614, -0.14750991761684418, 0.14493687450885773, 0.2277417629957199, -0.0061503201723098755, -0.4422997236251831, 0.22681216895580292, 0.1160760149359703, 0.2116963416337967, 0.09046066552400589, 0.15326811373233795, -0.032920703291893005, -0.0554230622947216, 0.4510912299156189, 0.06429272890090942, 0.010848220437765121, -0.14110463857650757, -0.2215811163187027, 0.007209247909486294, -0.24285805225372314, -0.15546055138111115, 0.1533292680978775, -0.15687844157218933, 0.13756950199604034, 0.09874306619167328, -0.046713899821043015, 0.12370055913925171, -0.03249352052807808, 0.06826618313789368, 0.014866942539811134, -0.12255775183439255, 0.17368537187576294, -0.3256668448448181, 0.09027209877967834, 0.06377983838319778, 0.02393663488328457, 0.40335384011268616, -0.07055038958787918, 0.11966171115636826, -0.24167533218860626, 0.34862563014030457, 0.12325605005025864, 0.027805261313915253, 0.17209503054618835, -0.1106484979391098, -0.3000466823577881, -0.329696387052536, -0.08010323345661163, 0.3362385034561157, 0.1748468577861786, -0.10057306289672852, 0.06736066192388535, -0.15519389510154724, 0.002607049187645316, -0.06032600253820419, -0.12692272663116455, 0.16691650450229645, -0.1766957938671112, -0.021676573902368546, -0.2936687767505646, 0.08135861158370972, 0.2642671763896942, 0.1695130169391632, -0.1939944326877594, -0.042769670486450195, 0.7139702439308167, -0.4727983772754669, -0.2794799208641052, 0.14203131198883057, 0.002336678095161915, -0.02728564478456974, 0.02749074436724186, 0.3670976758003235, 0.0733451247215271, -0.33303192257881165, 0.050776418298482895, -0.47898489236831665, 0.09351303428411484, -0.18755893409252167, -0.012190925888717175, 0.21146942675113678, -0.18287456035614014, 0.16466182470321655, 0.08712208271026611, 0.10868013650178909, 0.048526715487241745, -0.25761696696281433, 0.20699378848075867, 0.16174829006195068, -0.056388553231954575, -0.030548803508281708, 0.28008583188056946, -0.042615436017513275, -0.05425863713026047, -0.07213020324707031, 0.24639888107776642, -0.15863479673862457, 0.057812776416540146, -0.03968193382024765, 0.009804719127714634, -0.09476866573095322, 0.19934532046318054, 0.3276793658733368, -0.7022830843925476, -0.24955566227436066, -0.14520980417728424, 0.10470093786716461, 0.20740048587322235, -0.07034068554639816, -0.1115855947136879, -0.008419506251811981, -0.0675288513302803, 0.33118557929992676, -0.10412821173667908, 0.20285895466804504, 0.19883327186107635, 0.16152174770832062, -0.025535376742482185, 0.021840384230017662, 0.3932684063911438, 0.21018970012664795, 0.2586548924446106, 0.17439816892147064, 0.9424623847007751, 0.24810627102851868, -0.12137839943170547, 0.24519750475883484, 0.0958026796579361, -0.267989844083786, -0.08200277388095856, 0.128946915268898, 0.20344610512256622, 0.4067540466785431, 0.07000433653593063, 0.1771502047777176, 0.4672450125217438, -0.09266795963048935, 0.07007918506860733, -0.21210692822933197, -0.43669822812080383, -0.028146136552095413, 0.09302505850791931, -0.030381152406334877, -0.1650649607181549, -0.2172708362340927, -0.09851095825433731, -0.10429850965738297, -0.39455553889274597, -0.15744447708129883, 0.03931509330868721, -0.021062778308987617, 0.21988846361637115, -0.16198420524597168, 0.24910679459571838, -0.286867618560791, 0.1457187682390213, -0.04186275973916054, -0.36597421765327454, -0.002527330769225955, 0.0016995379701256752, 0.3045122027397156, -0.10329418629407883, 0.08846966177225113, 0.004649813752621412, -0.06381723284721375, 0.6407925486564636, -0.5235936641693115, 0.004617240279912949, 0.507142961025238, -0.5391422510147095, -0.5131083130836487, -0.38051965832710266, 0.162302166223526, 0.10246164351701736, 0.6000522375106812, 0.04953407496213913, 0.021092362701892853, 0.10905037820339203, -0.2565683126449585, 0.2821553349494934, -0.46303802728652954, -0.02295958809554577, 0.4161320626735687, 0.44684699177742004, 0.05129213258624077, -0.2955593764781952, 0.46780553460121155, 0.37565016746520996, -0.09830871224403381, 0.37863853573799133, 0.008570355363190174, 0.10819576680660248, -0.2908796966075897, 0.05856376141309738, -0.2611822783946991, -0.5410605669021606, 0.1469603031873703, 0.2078213095664978, 0.035950686782598495, 0.16823343932628632, -0.22605109214782715, -0.16910237073898315, 0.245829775929451, -0.3382152318954468, -0.29753923416137695, -9.232658386230469, 0.17089684307575226, 0.012381387874484062, 0.15607428550720215, -0.2571662366390228, -0.5562275052070618, -0.10756151378154755, -0.046312365680933, 0.13671919703483582, -0.09262694418430328, -0.25194019079208374, 0.23684987425804138, 0.12225906550884247, -0.2841418385505676, 0.5858612060546875, -0.39672091603279114, -0.08480259031057358, 0.022736255079507828, -0.48443543910980225, 0.01026325672864914, 0.06567834317684174, -0.15210282802581787, -0.2061542272567749, 0.7084654569625854, 0.6519345045089722, -0.1429278701543808, -0.25187429785728455, 0.14125794172286987, 0.2025274932384491, -0.01142113097012043, -0.24146129190921783, 0.04968709126114845, 0.2951872944831848, -0.13637542724609375, 0.0478099025785923, -0.1254044473171234, 0.07074511051177979, 0.1584620475769043, 0.203219473361969, -0.2498239129781723, 0.2693919539451599, 0.09674730896949768, -0.0858934298157692, -0.35404765605926514, -0.3550218343734741, -0.2297121286392212, 0.10239680856466293, 0.37636929750442505, -0.015416642650961876, 0.10984580218791962, 0.4972032904624939, -0.04460180178284645, -0.11570606380701065, 0.23004846274852753, -0.06472362577915192, 0.04932450130581856, 0.15190845727920532, -0.03327254578471184, -0.4294649660587311, -0.10913597047328949, -0.5256911516189575, -0.3735003173351288, -0.06369490921497345, 0.4523165225982666, 0.06431348621845245, 0.11616558581590652, -0.29958754777908325, 0.14309145510196686, 0.180707648396492, -0.043194886296987534, -0.09458962082862854, 0.03376960754394531, -0.5189957022666931, 0.27792733907699585, 0.14669404923915863, 0.30066317319869995, -0.21579796075820923, 0.2942466735839844, -0.18518081307411194, 0.5119137167930603, -0.15756602585315704, 0.3941090703010559, 0.25461462140083313, 0.03391342610120773, -0.09264609962701797, 0.35454002022743225, -0.10177531093358994, -0.2508828043937683, -0.11990749090909958, -0.12629330158233643, 0.13500532507896423, 0.10679600387811661, 0.007828013971447945, 0.07209668308496475, -0.03390752524137497, 0.31392282247543335, 0.04615437984466553, 0.217864990234375, -0.012215869501233101, 0.18920864164829254, 5.980773948977003e-06, 0.07112743705511093, -0.04710740968585014, 0.2504027783870697, 0.20555050671100616, -0.14175046980381012, 0.06085134670138359, -0.20944209396839142, -0.1942085325717926, 0.2510856091976166, 0.2727448046207428, -0.16732390224933624, -0.6126375198364258, -0.12873868644237518, 0.05864579603075981, 0.15132799744606018, 0.5101686716079712, -0.02702498249709606, 0.20713113248348236, 0.012882232666015625, 0.016697637736797333, -0.1925310343503952, 0.31447339057922363, -0.09324844181537628, 0.2905006408691406, 0.30225247144699097, 0.012086977250874043, 0.5123539566993713, 0.17674164474010468, 0.08204983919858932, 0.1020125225186348, 0.23658423125743866, 0.2955005466938019, 0.008127482607960701, -0.027923762798309326, -0.08212242275476456, -0.007551585789769888, -0.09796030074357986, 0.04898464307188988, -0.29817938804626465, 0.12945091724395752, 0.11630331724882126, -0.2817753255367279, 0.46231862902641296, 0.06914720684289932, 0.24718284606933594, -0.4531775712966919, -0.25029605627059937, 0.10178432613611221, 0.11648707091808319, -0.303842693567276, 0.3857617974281311, -0.11335249990224838, -0.09986961632966995, -0.4687160551548004, 0.23148828744888306, -0.2779357135295868, -0.1820531189441681, 0.16745518147945404, 0.2320166528224945, 0.3933665454387665, 0.30070987343788147, -0.09136765450239182, -0.16216887533664703, 0.12137138098478317, 0.19127407670021057, -0.07644981145858765, 0.23434053361415863, 0.03023953177034855, 0.1391824632883072, -0.47774285078048706, 0.04173607751727104, 0.06566852331161499, -0.13607224822044373, -0.3772411346435547, -0.3174029588699341, -0.4920077323913574, -0.06584176421165466, 0.2207990437746048, -0.2913593351840973, 0.01849726215004921, -0.20479948818683624, -0.46117573976516724, -0.10436804592609406, 0.20607611536979675, -0.04940160736441612, -0.0849129781126976, 0.09282459318637848, 0.04636238142848015, 0.16559050977230072, -0.22165092825889587, -0.7860344648361206, -0.2072986662387848, -0.25879329442977905, 0.3687644600868225, -0.12134405225515366, -0.42250049114227295, 0.09337154030799866, -0.3771584630012512, 0.177551731467247, 0.3743654191493988, -0.028065141290426254, 0.2838455140590668, 0.21461798250675201, -0.4249955713748932, -0.2723686695098877, 0.13798286020755768, 0.3596063256263733, -0.10906592011451721, 0.05136396363377571, -0.2113199532032013]\n",
            "Word 15 --> Embedding [0.35902878642082214, -0.5125411748886108, -0.1889687180519104, 0.955291211605072, 0.9335155487060547, -0.7847620248794556, 0.31480100750923157, -0.024415811523795128, 0.3302572965621948, -0.6216670274734497, -0.2752135694026947, 0.37648630142211914, -0.791297972202301, 0.1719229817390442, -0.17267701029777527, 0.1285097748041153, -0.06874944269657135, 0.23322981595993042, 0.2716687321662903, -0.4536558985710144, -0.3284360468387604, 0.31931859254837036, -0.09136761724948883, 0.205799400806427, 1.0249017477035522, -0.2755025327205658, 0.8883059620857239, 1.2820615768432617, 0.08357306569814682, 0.28316614031791687, 0.17839552462100983, 0.9088504314422607, -0.2463025599718094, 0.46788299083709717, 0.16498662531375885, 0.24528680741786957, 0.15397024154663086, 0.1519024819135666, -0.28259167075157166, 0.19691219925880432, -0.13059793412685394, 0.5876842141151428, 0.9396515488624573, 0.055713873356580734, 0.3232705593109131, 0.23690836131572723, 0.03923828527331352, 0.7908420562744141, -0.44179245829582214, 1.1661540269851685, -0.47132056951522827, -1.2300922870635986, 0.4797534942626953, -0.07756119221448898, 0.8261994123458862, 0.23621390759944916, 0.11293981969356537, 0.09792301803827286, 0.18967629969120026, 0.39975473284721375, 0.7890837788581848, 0.3789466321468353, 0.6745667457580566, 0.7217333316802979, -1.0400859117507935, 1.177511215209961, 0.7500622868537903, -0.9252564311027527, -0.5926575660705566, -0.5736398100852966, -0.05794437229633331, 0.45198506116867065, 0.14622487127780914, 0.10510033369064331, 0.26331889629364014, -1.3547332286834717, 1.1399507522583008, -0.08973484486341476, -0.7580944299697876, -0.12792843580245972, 0.9542059898376465, -0.7091208696365356, -0.9603011608123779, 0.685103714466095, 1.7022978067398071, -0.07804708927869797, -1.0945998430252075, 0.25348514318466187, 0.03016570396721363, 0.5041779279708862, -0.2888377010822296, -0.19068893790245056, -0.02482413314282894, -0.3444783687591553, 0.5463435649871826, -0.6485055685043335, -0.03289361670613289, 0.18807561695575714, -1.2344675064086914, -0.23691733181476593, -0.23471662402153015, 0.5033437013626099, 0.40792879462242126, 1.208857536315918, 0.7323606014251709, -0.33163127303123474, -0.30517175793647766, -0.3716181218624115, 0.02419913373887539, 0.989121675491333, 0.1557789146900177, 0.18663062155246735, -0.1912773698568344, -1.1131516695022583, 0.005530528258532286, 0.2445438653230667, -0.07077586650848389, 0.01567227579653263, 0.4999317228794098, -0.1906592845916748, -0.423304945230484, 0.3450794517993927, -0.39696183800697327, 0.8713764548301697, 0.7501667141914368, 0.8268510699272156, -0.6734171509742737, 0.5488033294677734, 1.7486152648925781, -0.1621251255273819, -1.109776496887207, -0.4931867718696594, 1.0350620746612549, 1.4222209453582764, 0.16148774325847626, -0.25571000576019287, -0.6938256025314331, 0.6727166771888733, -5.2278828620910645, -0.9966570734977722, -0.49383530020713806, -0.5236228704452515, 0.6720049381256104, -0.6883315443992615, -0.16680093109607697, 0.4830101430416107, -0.010617820546030998, 0.2517435848712921, -0.6153149008750916, 0.7276310920715332, -0.25951769948005676, -0.04561968520283699, 0.7545393109321594, -0.8620328903198242, 0.2356695532798767, -0.5070052742958069, 0.3349817395210266, -0.007869552820920944, 0.356280654668808, 0.005994112696498632, -0.35378435254096985, -0.17696940898895264, -0.7589729428291321, -0.054780907928943634, -0.43657156825065613, -0.8135607838630676, 0.8248500227928162, 0.48447611927986145, 0.07247789204120636, 1.006835699081421, -0.3550899922847748, -0.47111955285072327, -0.9070630669593811, -0.6060584187507629, 0.9059589505195618, -0.22588616609573364, 0.5293108224868774, 0.10166795551776886, 0.4435768723487854, -0.4976722002029419, -0.07734579592943192, 0.026844246312975883, -0.33020615577697754, 0.14631058275699615, 0.3341555595397949, 0.006537870969623327, -0.2684986889362335, 2.018667697906494, 1.006075143814087, -0.1658085286617279, 0.12449289113283157, -1.3421133756637573, 0.09780754894018173, -0.03989482298493385, -0.0871342122554779, -0.09485015273094177, -1.0769447088241577, -0.24960654973983765, 0.14053352177143097, 0.7294687032699585, -0.76401287317276, -0.02537745051085949, -0.833323061466217, -0.01828227937221527, 0.4290012717247009, -1.0463937520980835, 0.1066502034664154, -0.19249951839447021, -0.6182326674461365, -0.7184517979621887, -0.4860630929470062, 0.5950316190719604, 0.06673227995634079, 0.36606723070144653, -0.07554996758699417, -0.6799749135971069, -0.656284511089325, 0.7150056958198547, 0.2883599102497101, 0.3148077726364136, -0.03905516490340233, 0.0022428480442613363, 0.025888757780194283, 0.10020994395017624, 0.2494698464870453, 0.10918509215116501, 0.3523109257221222, 0.5896608829498291, 1.246925950050354, 0.26779747009277344, 0.8221542239189148, -0.4253498613834381, -0.16915196180343628, -0.31324678659439087, -0.5485370755195618, 0.5259551405906677, -0.9657546281814575, 0.5281936526298523, -0.47281214594841003, 0.4004233181476593, -0.8520854115486145, 0.6379682421684265, 0.5368183851242065, 0.24395059049129486, 0.15615200996398926, -0.08491652458906174, 0.6291688680648804, 0.08837432414293289, 0.4272856116294861, 0.1826646327972412, 0.8701879978179932, 0.059142399579286575, -0.3654193580150604, -0.009419222362339497, 0.01706237904727459, 0.09870009869337082, -0.2608238756656647, -0.5887675285339355, -0.6504397392272949, -0.5352141857147217, -1.124467372894287, 0.7781000733375549, 0.7355398535728455, -0.17305706441402435, -0.3857647776603699, -0.08272866904735565, -0.21164216101169586, 0.41621243953704834, 0.09060507267713547, 0.2323530912399292, 0.4833051562309265, -1.175415277481079, -0.280310720205307, 0.15992186963558197, -0.19812148809432983, 0.2894579768180847, 0.08183450251817703, -0.05314746871590614, 0.5475584864616394, -1.3066872358322144, -0.22827966511249542, 0.6040275692939758, -0.43861934542655945, 0.45242083072662354, -0.035562414675951004, 0.24622845649719238, -0.7109566330909729, 0.7529711723327637, 0.25007879734039307, -0.3580092191696167, -0.30341604351997375, -0.6527457237243652, -0.8731812834739685, 0.33047330379486084, -0.3701864778995514, 0.15204407274723053, -0.08037188649177551, 0.2283034324645996, 0.334102064371109, 0.6439036726951599, 1.544547438621521, 0.4402654469013214, -0.24748434126377106, 0.04685837775468826, -6.506580352783203, -0.020784540101885796, 0.087313212454319, 1.11061429977417, 0.10094895213842392, 0.9255896210670471, 1.2681248188018799, 0.9853591918945312, -0.9352681040763855, -0.22169172763824463, -0.09839680045843124, -0.1041499674320221, -0.1024165153503418, 1.4024633169174194, -0.20326144993305206, -0.5158926844596863, 0.06395197659730911, 0.6630719304084778, -0.6380940079689026, -0.24410755932331085, -0.5936077833175659, 0.4460415542125702, -0.675029456615448, 0.0887736976146698, -0.12002027034759521, -0.8695716857910156, -0.1983644664287567, -0.8857408165931702, -1.2534312009811401, -0.05480794981122017, -0.29406192898750305, 0.3271091878414154, 0.296482652425766, 0.3644581139087677, -0.164275124669075, -0.448678582906723, 0.415420800447464, 0.8317245841026306, -0.6836575865745544, -0.2788708508014679, 0.29315289855003357, 0.6622833013534546, -0.20491494238376617, -0.5488566160202026, -0.42289549112319946, -0.08316075056791306, 0.4937184453010559, -0.6946494579315186, -0.7331470847129822, -0.9503384232521057, -0.04711778089404106, -1.0685310363769531, 0.02008526399731636, -1.1310715675354004, 0.2999100089073181, 0.3222476840019226, -0.032392699271440506, -0.45786532759666443, 0.5711573362350464, 0.40957292914390564, -0.3051217496395111, -0.2289808988571167, -0.43576112389564514, -0.08423686027526855, 0.20625877380371094, 0.585707426071167, 0.5418536067008972, -0.7552249431610107, 0.3108747601509094, 0.0020219094585627317, -0.6758754849433899, 0.8927658200263977, 0.8162606358528137, 0.20551306009292603, -0.8340525031089783, -2.030426025390625, 0.2397627830505371, -0.04310338944196701, -0.7821672558784485, -0.1815403550863266, -0.20691734552383423, 0.44075796008110046, -0.5981605648994446, 0.35399100184440613, 1.3701128959655762, 1.5452170372009277, 0.19062696397304535, -0.02872040495276451, 0.4484153687953949, -1.2695257663726807, -1.4007118940353394, 0.0956679955124855, -0.7218871712684631, 0.5186190009117126, -0.6072088479995728, -0.681187629699707, -0.5418938994407654, 0.3053737282752991, -0.811596155166626, 0.05312466621398926, -0.14746485650539398, -0.12259361147880554, -0.6766698360443115, 0.16493287682533264, -0.5680249333381653, 0.5182671546936035, 0.39295896887779236, -1.0203006267547607, 0.3209920823574066, 0.8419767022132874, 0.0425151102244854, -0.5609742403030396, 0.36393627524375916, 1.3807374238967896, -0.6651410460472107, 0.8278295397758484, 0.05783959850668907, -0.39982253313064575, 0.38063928484916687, 0.507083535194397, 1.3783702850341797, 0.7769734859466553, -0.6694667935371399, -0.4270893931388855, 0.3501901626586914, 0.4450838565826416, 0.8919559717178345, -0.14900313317775726, -0.3455089330673218, -0.20345374941825867, -0.15469153225421906, 0.16401559114456177, 0.09470435231924057, 0.8174952268600464, -1.342729091644287, -0.345978319644928, -0.35303187370300293, -0.1616480052471161, -0.18982352316379547, -1.0294957160949707, 0.02630501426756382, -0.4956854581832886, -1.18887197971344, 0.3099450170993805, -0.04468420892953873, -0.622552752494812, 0.1192876324057579, 0.8987101912498474, -0.058313220739364624, 0.15175163745880127, 0.4031114876270294, 0.6162923574447632, 0.7269160747528076, -0.11026762425899506, 0.10091876983642578, 0.9860511422157288, -1.2230794429779053, 1.341092824935913, -1.0277565717697144, 0.8208363056182861, 5.2290496826171875, -0.05773042514920235, 0.07554664462804794, 1.2051576375961304, -0.43200886249542236, -0.8612560033798218, -0.29852551221847534, 0.1310703158378601, 1.2899577617645264, 0.6105644702911377, 0.041940368711948395, 0.981489896774292, -0.2967735826969147, 0.1484965831041336, 0.3769782781600952, 0.3329094350337982, 1.1684898138046265, -0.11517153680324554, 0.2010457068681717, 0.24217775464057922, 0.7657470107078552, 0.5125154852867126, -0.18038694560527802, 0.5509943962097168, -0.2606544494628906, 1.4618449211120605, 0.15939690172672272, 0.8447532653808594, -1.4377638101577759, 0.31206539273262024, 0.4073927402496338, 0.5045710206031799, 0.7920679450035095, -0.7049533724784851, -0.021298721432685852, -0.07864836603403091, -0.37695932388305664, -0.34692448377609253, -0.06612319499254227, 0.1170959621667862, 0.4641982913017273, 1.7420581579208374, 0.1046566367149353, -1.3132447004318237, -0.4958551526069641, -1.7941161394119263, 0.5358511209487915, -1.2257909774780273, -0.6932794451713562, -0.614651083946228, 0.20542190968990326, -0.002537402091547847, 0.3185407817363739, 0.5084351301193237, -0.29244646430015564, 0.0021027792245149612, -0.3700439929962158, -0.19769072532653809, -1.4232532978057861, -0.8499999046325684, 0.3128603398799896, -0.13632360100746155, 0.24288217723369598, 0.39929473400115967, 0.0972364991903305, 0.5371589660644531, -1.1105241775512695, 0.05401633679866791, -0.5630955100059509, -0.19292308390140533, 0.8766849040985107, -0.3485863506793976, 0.3080989420413971, -0.30545520782470703, 0.5903424024581909, 0.6437237858772278, 0.259817898273468, 0.1319158673286438, 0.01436364371329546, -0.7469090223312378, -0.19192659854888916, 0.4945996105670929, -0.5872030258178711, -0.6643019318580627, 0.050012994557619095, 0.4542172849178314, 0.8695005178451538, 1.0144641399383545, -1.0429024696350098, -0.05366694554686546, -0.26593509316444397, 0.17057561874389648, -1.2698566913604736, -1.2625808715820312, -0.48110100626945496, 0.33922532200813293, -0.35368889570236206, -0.08151466399431229, -0.12389770895242691, -0.48522523045539856, 0.0374947264790535, -0.4451557397842407, -0.08789362758398056, -0.3675462305545807, 0.382369726896286, -0.25440749526023865, -0.28130266070365906, -0.38267311453819275, -0.6122378706932068, -0.45122087001800537, 0.39788955450057983, 0.008755127899348736, 0.29204151034355164, -0.10278919339179993, 0.4177928566932678, -0.049011506140232086, 0.42193394899368286, 0.9536699652671814, 1.2420350313186646, -0.48374229669570923, 0.5288015604019165, -0.2919270992279053, -0.7950220108032227, -0.8905265927314758, 0.793867826461792, -0.2883045971393585, -0.14342738687992096, 0.17926262319087982, -0.24357934296131134, 0.5691719651222229, 0.01813390851020813, 0.22014904022216797, -1.0869297981262207, 0.44937801361083984, 0.2241702377796173, -1.5001211166381836, 0.7000129222869873, -0.24028269946575165, -0.6192625761032104, -1.235355019569397, -0.12884896993637085, -0.2431827336549759, 0.40668466687202454, 5.145255088806152, -0.12216971814632416, -0.5731531977653503, -0.8599815964698792, -0.8051460385322571, 0.3435831069946289, -0.7202433347702026, -0.09990239888429642, 0.5397157073020935, 0.27722859382629395, -0.11418043076992035, -1.1456619501113892, -0.6215532422065735, 0.02530580945312977, -0.30796656012535095, 0.3204653561115265, -1.1036553382873535, 0.052973672747612, 1.0097640752792358, 0.11572384834289551, 0.48114731907844543, -0.07557070255279541, -0.5641064047813416, -0.47095051407814026, 0.1971285045146942, -0.13535135984420776, -1.1095818281173706, -0.2087668925523758, -0.275220662355423, -0.2107158601284027, -0.23116669058799744, 0.47966814041137695, 0.2144482135772705, -0.2559511363506317, -0.33353111147880554, 0.47770044207572937, -0.2557986378669739, -0.02500295266509056, 0.1796635091304779, 1.0550638437271118, 0.88240647315979, -0.2738747298717499, -0.8966622352600098, 0.23895247280597687, -0.41424760222435, -0.07674659788608551, -0.47456321120262146, 0.8286510705947876, 0.027127612382173538, -0.23175887763500214, -0.32271891832351685, 0.023014254868030548, -0.878585696220398, -0.30973103642463684, 1.1764453649520874, 0.029471728950738907, 0.7996416687965393, -0.8933145999908447, -0.4219337999820709, 0.7629926204681396, 0.9713016748428345, 0.25569674372673035, -0.230905219912529, 0.09421142935752869, -0.20150570571422577, -0.22689718008041382, 1.6437228918075562, -0.681980550289154, -0.23769913613796234, 0.4942181706428528, 0.3903193771839142, 0.018979204818606377, 0.8694509267807007, -0.3620266020298004, -0.4677685499191284, -0.04689355567097664, 0.1397472620010376, -0.6694891452789307, 0.5302711129188538, -0.8644334077835083, 0.6503005027770996, 0.08977141976356506, 0.4474906623363495, -0.262235552072525, -0.025862326845526695, -0.3717503249645233, -0.6884716749191284, -0.44052770733833313, -0.16465088725090027, 0.4414982795715332, 0.3228727877140045, -0.5577208399772644, 0.4714963734149933, 0.8672043085098267, 0.3335200548171997, 0.6940814256668091, 0.34169721603393555, -1.491912841796875, -0.6751431226730347, 1.1605393886566162, -0.3639572560787201, -0.12424463778734207, -0.0811912789940834, -0.485658198595047, -0.4853265583515167, 0.03791065141558647, -0.6463485360145569, -0.015765247866511345, 0.49351704120635986, -0.5599605441093445, 0.9326533675193787, -0.8629123568534851, -0.15351185202598572, -1.2767313718795776, -0.07047887146472931, -0.1874638944864273, -0.1173253133893013, 0.23591996729373932, -0.35497432947158813, 0.5013346076011658, -0.4161823093891144, -1.0511560440063477, 0.8375372886657715, -0.21409600973129272, -1.0563548803329468, -0.7890620231628418, 0.5207352042198181, 0.2990207374095917, 0.139317587018013, 0.2650448977947235, -0.5596541166305542, -0.2002982646226883, -0.7980372309684753, -0.0031948965042829514, 0.41439005732536316, 0.3135512173175812, -0.6527714133262634, 0.283054381608963, -0.4327460825443268, -0.30850842595100403, -0.29532164335250854, -0.5592841506004333, -0.7162310481071472, 0.09352797269821167, 0.06268135458230972, -0.20263582468032837, -0.8963353633880615, -0.4966759979724884, -0.24583958089351654, 0.76240074634552, 1.2516347169876099, -0.8977439403533936, 0.9043746590614319, -0.7704964280128479, -0.025601699948310852, -0.17982283234596252, -0.04990951716899872, 0.009805613197386265, -0.030283614993095398, 0.4672173857688904, -0.9838320016860962]\n",
            "Word 16 --> Embedding [0.3180912733078003, -0.5200275778770447, -0.11725752800703049, 0.8960917592048645, 1.0270049571990967, -0.8029856085777283, 0.2922162711620331, 0.04300610348582268, 0.221577987074852, -0.5934454798698425, -0.3027794063091278, 0.33911916613578796, -0.798447847366333, 0.22515690326690674, -0.19850504398345947, 0.15011416375637054, -0.05781351029872894, 0.25816890597343445, 0.233843132853508, -0.5470320582389832, -0.38665154576301575, 0.26444298028945923, -0.13636544346809387, 0.24176537990570068, 1.0656242370605469, -0.2671542465686798, 0.8849362134933472, 1.187734842300415, 0.0446278415620327, 0.34227678179740906, 0.08550338447093964, 0.8108817934989929, -0.02873046137392521, 0.435644268989563, 0.07496906071901321, 0.2597329020500183, 0.2398221790790558, 0.07573842257261276, -0.14097347855567932, 0.1533770114183426, -0.19259783625602722, 0.5448371171951294, 1.0383554697036743, 0.0004798363661393523, 0.3390970230102539, 0.08264593780040741, 0.0827004536986351, 0.875751256942749, -0.43975651264190674, 1.1602991819381714, -0.5107448101043701, -1.2866932153701782, 0.49667102098464966, 0.13878044486045837, 0.8109185099601746, 0.27990150451660156, 0.06805239617824554, 0.11535844951868057, 0.17655271291732788, 0.4312910735607147, 0.8101970553398132, 0.40950554609298706, 0.5826762914657593, 0.8186202049255371, -1.1186283826828003, 1.2319159507751465, 0.733577311038971, -0.8019165992736816, -0.5650259852409363, -0.7410850524902344, 0.006028452888131142, 0.5304290056228638, 0.0824417993426323, 0.13448984920978546, 0.2054848074913025, -1.3914661407470703, 1.2430837154388428, -0.15857183933258057, -0.777182936668396, -0.15909400582313538, 0.9079867601394653, -0.7998625040054321, -0.9715844392776489, 0.7324948310852051, 1.7967784404754639, -0.20797401666641235, -1.1946039199829102, 0.18401917815208435, -0.05845866724848747, 0.44315266609191895, -0.3469850718975067, -0.31939366459846497, -0.026995576918125153, -0.4403166174888611, 0.6241586208343506, -0.6229615807533264, 0.09304169565439224, 0.348550945520401, -1.1288251876831055, -0.1595354825258255, -0.13013875484466553, 0.5444597005844116, 0.39883866906166077, 1.2598340511322021, 0.8408507108688354, -0.31345510482788086, -0.2805401384830475, -0.38127362728118896, 0.128581240773201, 1.075900673866272, 0.30132994055747986, 0.2074870616197586, -0.11898583918809891, -1.1607427597045898, -0.09374086558818817, 0.20663514733314514, -0.08522099256515503, -0.0015971915563568473, 0.3406986594200134, -0.27745577692985535, -0.4446181356906891, 0.2847462594509125, -0.41483139991760254, 0.9281379580497742, 0.681312620639801, 0.8085915446281433, -0.6432585120201111, 0.6747216582298279, 1.766892433166504, -0.2355261594057083, -1.0495878458023071, -0.5490877032279968, 1.0193077325820923, 1.4012163877487183, 0.3548743724822998, -0.37474697828292847, -0.8363876938819885, 0.7143329977989197, -4.995773792266846, -0.9728643894195557, -0.5930213928222656, -0.5280939936637878, 0.7101956605911255, -0.6502817273139954, -0.17645753920078278, 0.5575671195983887, -0.11442387104034424, 0.2505073547363281, -0.5195563435554504, 0.7345279455184937, -0.22239066660404205, -0.04334969446063042, 0.8061863780021667, -0.8197530508041382, 0.12908798456192017, -0.40379929542541504, 0.210261270403862, 0.0009121783077716827, 0.37689200043678284, -0.008618899621069431, -0.26536285877227783, -0.20747582614421844, -0.831129252910614, -0.10918372124433517, -0.47708573937416077, -0.768129825592041, 0.9175567030906677, 0.4486772119998932, 0.05112222209572792, 1.1519207954406738, -0.3846382200717926, -0.4752857983112335, -1.0856363773345947, -0.6989288926124573, 0.822765052318573, -0.29579031467437744, 0.6612101793289185, 0.04900630936026573, 0.4625653326511383, -0.5308988690376282, -0.15200263261795044, 0.042883533984422684, -0.3105758726596832, 0.200692817568779, 0.4738553464412689, 0.041705451905727386, -0.20482832193374634, 1.964008092880249, 0.8921554088592529, -0.25127676129341125, 0.10423117130994797, -1.538172960281372, 0.0899118110537529, 0.018744733184576035, 0.00563073018565774, -0.047836292535066605, -1.0664485692977905, -0.31252551078796387, 0.09840140491724014, 0.7341193556785583, -0.6535210609436035, -0.16356928646564484, -0.8806420564651489, 0.02252950519323349, 0.4693276584148407, -1.147135853767395, 0.10168027877807617, -0.2203288972377777, -0.5832443833351135, -0.592401385307312, -0.5307987928390503, 0.618427038192749, 0.05693584308028221, 0.3760964572429657, -0.0700361356139183, -0.6367710828781128, -0.6663700342178345, 0.7595269083976746, 0.23962457478046417, 0.3991864323616028, -0.002416427945718169, 0.0024638816248625517, 0.014476857148110867, 0.20119495689868927, 0.3264497220516205, 0.0468747653067112, 0.3466660976409912, 0.5817661881446838, 1.2952313423156738, 0.2704653739929199, 0.7946540713310242, -0.43713676929473877, -0.028940612450242043, -0.2699557840824127, -0.6268507838249207, 0.38092872500419617, -1.0664952993392944, 0.5139692425727844, -0.587135374546051, 0.3894488215446472, -0.8944054245948792, 0.632922351360321, 0.4652458727359772, 0.18029868602752686, 0.17699329555034637, 0.02010895311832428, 0.6012711524963379, 0.08263122290372849, 0.47779521346092224, 0.13974781334400177, 0.8019353747367859, 0.014555159024894238, -0.34925901889801025, 0.005243134684860706, -0.1190548688173294, 0.11551934480667114, -0.24196134507656097, -0.7018386721611023, -0.700764000415802, -0.6283891797065735, -1.213880181312561, 0.7808277010917664, 0.7013575434684753, -0.1506463587284088, -0.38180869817733765, -0.03844756260514259, -0.15910585224628448, 0.39078032970428467, -0.005413140635937452, 0.22469958662986755, 0.44298017024993896, -1.2103503942489624, -0.45334917306900024, 0.22964149713516235, -0.26448482275009155, 0.33078956604003906, 0.08693598955869675, -0.08418061584234238, 0.5735102295875549, -1.165033221244812, -0.19733606278896332, 0.5380522608757019, -0.3831959664821625, 0.7345313429832458, -0.06934958696365356, 0.33382806181907654, -0.6978524327278137, 0.8290631175041199, 0.25146204233169556, -0.338256299495697, -0.2907502353191376, -0.719943106174469, -0.995396614074707, 0.42503979802131653, -0.298946738243103, 0.24413493275642395, -0.17883345484733582, 0.42923209071159363, 0.28068944811820984, 0.6128990650177002, 1.5160621404647827, 0.44043126702308655, -0.34895673394203186, 0.04032602906227112, -6.361015796661377, -0.0073493835516273975, 0.08120841532945633, 1.0833590030670166, 0.16584067046642303, 0.8805269002914429, 1.2105164527893066, 0.821306049823761, -1.04132878780365, -0.38972190022468567, -0.11140502244234085, -0.12854577600955963, -0.15339335799217224, 1.438352346420288, -0.25903141498565674, -0.4872651696205139, 0.12515752017498016, 0.6108725070953369, -0.6812649965286255, -0.18268585205078125, -0.5427870750427246, 0.5288861989974976, -0.6938260197639465, 0.07362142205238342, -0.12120739370584488, -0.9840342998504639, -0.150261789560318, -0.768038272857666, -1.3366644382476807, -0.1501283496618271, -0.3674381971359253, 0.39670154452323914, 0.2971597909927368, 0.49137192964553833, -0.24900192022323608, -0.4749611020088196, 0.4206292927265167, 0.8478279113769531, -0.7148545384407043, -0.2959078848361969, 0.2743338644504547, 0.8251221179962158, -0.23607948422431946, -0.5745392441749573, -0.3570914566516876, -0.04615478962659836, 0.45971617102622986, -0.5969876050949097, -0.7528979778289795, -0.9214593172073364, 0.0476640909910202, -1.0223326683044434, 0.02206462249159813, -1.135177493095398, 0.3616338074207306, 0.37518978118896484, 0.030480042099952698, -0.5330446362495422, 0.5780885219573975, 0.4561391770839691, -0.2685351073741913, -0.2488575130701065, -0.41092807054519653, -0.033551376312971115, 0.12724396586418152, 0.4595370590686798, 0.5999186635017395, -0.7795529365539551, 0.21274295449256897, 0.03905193507671356, -0.6487228274345398, 0.9020257592201233, 0.7395870089530945, 0.20608943700790405, -0.7874186635017395, -2.1114609241485596, 0.23598916828632355, 0.06674493849277496, -0.7132657170295715, -0.15891185402870178, -0.07830926030874252, 0.6372307538986206, -0.6179233193397522, 0.3481811583042145, 1.3573373556137085, 1.680057168006897, 0.029304105788469315, 0.09080676734447479, 0.441898912191391, -1.367916226387024, -1.4296767711639404, 0.12385724484920502, -0.7626262903213501, 0.5214248299598694, -0.5543878078460693, -0.7439152598381042, -0.6053880453109741, 0.2430277317762375, -0.7602477669715881, -0.01194834429770708, -0.02753342129290104, -0.11597812175750732, -0.6830535531044006, 0.208597332239151, -0.5365003347396851, 0.5613164901733398, 0.4954269528388977, -0.9162226319313049, 0.24710984528064728, 0.7691900134086609, 0.06162969395518303, -0.6647822856903076, 0.3898971974849701, 1.314130187034607, -0.6836541295051575, 1.039623737335205, 0.09351812303066254, -0.42463868856430054, 0.44428011775016785, 0.46694859862327576, 1.338463544845581, 0.7740530371665955, -0.780879020690918, -0.35714250802993774, 0.3183061480522156, 0.36326518654823303, 0.9849782586097717, -0.00017834034224506468, -0.3332470655441284, -0.29694274067878723, -0.083857960999012, 0.2123585343360901, 0.05196993425488472, 0.9174934029579163, -1.4352701902389526, -0.3067324757575989, -0.3876042068004608, 0.056640639901161194, -0.1661512553691864, -1.0372850894927979, 0.047159042209386826, -0.44228240847587585, -1.231163501739502, 0.38297176361083984, -0.0915277898311615, -0.6316496133804321, 0.2316899597644806, 0.8197411894798279, -0.15886236727237701, 0.1962405890226364, 0.588475227355957, 0.6610692143440247, 0.6571371555328369, -0.1300824135541916, 0.13123753666877747, 1.090026617050171, -1.1717615127563477, 1.3059102296829224, -1.0249192714691162, 0.7155846357345581, 5.26911735534668, -0.0491907112300396, 0.09794676303863525, 1.1828562021255493, -0.4605424106121063, -0.9107016921043396, -0.41014349460601807, 0.1322733461856842, 1.2597540616989136, 0.6610472202301025, 0.019215039908885956, 1.0799657106399536, -0.2618466317653656, 0.151144877076149, 0.32730889320373535, 0.30753999948501587, 1.155996322631836, -0.1354704201221466, 0.24970199167728424, 0.15556731820106506, 0.6699445843696594, 0.5396012663841248, -0.31029853224754333, 0.5954694747924805, -0.2967120110988617, 1.2925902605056763, 0.13630682229995728, 0.7042283415794373, -1.4715449810028076, 0.42219334840774536, 0.37323862314224243, 0.5623035430908203, 0.7100433111190796, -0.7400910258293152, 0.007128339726477861, 0.0672731027007103, -0.4304622411727905, -0.349517285823822, -0.11202268302440643, 0.04937402904033661, 0.5639208555221558, 1.7072489261627197, 0.08248406648635864, -1.435487985610962, -0.47371596097946167, -1.9044370651245117, 0.6270623803138733, -1.1284819841384888, -0.7698760032653809, -0.5778523683547974, 0.2523687779903412, -0.08250805735588074, 0.19064661860466003, 0.5484710931777954, -0.2691464126110077, -0.005119648762047291, -0.2676323652267456, -0.14502312242984772, -1.4290577173233032, -0.8631194829940796, 0.2875664532184601, -0.06894783675670624, 0.34050387144088745, 0.41227298974990845, 0.017225613817572594, 0.4968999922275543, -1.1643092632293701, 0.061284106224775314, -0.4768028259277344, -0.2666235864162445, 0.8309358954429626, -0.4071311950683594, 0.2521837651729584, -0.28246939182281494, 0.6036038994789124, 0.7167766690254211, 0.2714451849460602, 0.17472317814826965, -0.060509588569402695, -0.7208782434463501, -0.3280523419380188, 0.38361144065856934, -0.4952283799648285, -0.695422351360321, 0.07697473466396332, 0.4136134386062622, 0.8087244033813477, 1.0227528810501099, -1.1112868785858154, -0.15927395224571228, -0.3512110710144043, 0.14762477576732635, -1.296339750289917, -0.8535885214805603, -0.4004868268966675, 0.27562758326530457, -0.2752152979373932, -0.07052166014909744, -0.19751805067062378, -0.5428311824798584, 0.10710155218839645, -0.4512116014957428, -0.0793379470705986, -0.3954147696495056, 0.40998655557632446, -0.3338651657104492, -0.3431384265422821, -0.33437803387641907, -0.62786465883255, -0.4440060555934906, 0.46512582898139954, -0.09672100096940994, 0.35894736647605896, -0.14304521679878235, 0.3468140959739685, 0.0660819262266159, 0.3773099184036255, 0.890830934047699, 1.4093540906906128, -0.5319847464561462, 0.4602627754211426, -0.16706803441047668, -0.7593904137611389, -0.8350526690483093, 0.6930896043777466, -0.34999147057533264, -0.09907711297273636, 0.08329430967569351, -0.26914867758750916, 0.700380265712738, -0.06988479942083359, 0.2906323969364166, -1.1712011098861694, 0.5108814239501953, 0.2582285702228546, -1.629443883895874, 0.7097078561782837, -0.25427183508872986, -0.597353458404541, -1.18894624710083, -0.18470671772956848, -0.24122591316699982, 0.4467235803604126, 5.014540672302246, -0.07097785919904709, -0.6886043548583984, -0.9025471210479736, -0.8308276534080505, 0.473524808883667, -0.6557914614677429, -0.11023891717195511, 0.4599246084690094, 0.36639055609703064, -0.05781472474336624, -1.1191591024398804, -0.5400320887565613, 0.0023141351994127035, -0.17846596240997314, 0.4571530222892761, -1.2466703653335571, 0.009026262909173965, 0.9534832835197449, 0.10706884413957596, 0.5156394839286804, -0.09339447319507599, -0.7089169025421143, -0.4759657382965088, 0.243719682097435, -0.17270097136497498, -1.0191261768341064, -0.21254287660121918, -0.18138724565505981, -0.2000577449798584, -0.20874828100204468, 0.5384422540664673, 0.38741135597229004, -0.2721662223339081, -0.24607178568840027, 0.5127295255661011, -0.30003154277801514, 0.03817298635840416, 0.17773814499378204, 1.0996156930923462, 0.9200367331504822, -0.1536342203617096, -0.9671766757965088, 0.20229525864124298, -0.4158974289894104, -0.09058846533298492, -0.48572707176208496, 0.8222141861915588, 0.01316857524216175, -0.3425638675689697, -0.2570928931236267, 0.08817166835069656, -0.7908012866973877, -0.36315643787384033, 1.2702522277832031, 0.03478815779089928, 0.9085588455200195, -0.7791667580604553, -0.2453942745923996, 0.6391184329986572, 1.0175731182098389, 0.2419782131910324, -0.23911646008491516, 0.08825322985649109, -0.061167847365140915, -0.2795249819755554, 1.5676769018173218, -0.7025220394134521, -0.1619798094034195, 0.5503389835357666, 0.4518999755382538, 0.08178011327981949, 0.794233500957489, -0.3617965877056122, -0.48572149872779846, -0.04443742334842682, 0.03010484203696251, -0.6708003878593445, 0.5119563341140747, -0.8553049564361572, 0.6064614653587341, 0.20628581941127777, 0.5266838073730469, -0.30981573462486267, 0.05261974036693573, -0.41846340894699097, -0.7365504503250122, -0.3762907087802887, -0.21565529704093933, 0.40416836738586426, 0.44353750348091125, -0.6598221063613892, 0.4903528094291687, 0.8680586218833923, 0.21057568490505219, 0.7120800018310547, 0.284975528717041, -1.578498363494873, -0.7139211297035217, 1.1161056756973267, -0.41595301032066345, -0.08182190358638763, -0.1304144263267517, -0.474173903465271, -0.4138532876968384, -0.09868034720420837, -0.6828607320785522, -0.10125645250082016, 0.31771421432495117, -0.5879590511322021, 0.9132843613624573, -0.7885698676109314, -0.10139444470405579, -1.3770294189453125, -0.1851901113986969, -0.17365334928035736, -0.0723901242017746, 0.24620546400547028, -0.41881290078163147, 0.3280263841152191, -0.5832495093345642, -1.1798503398895264, 0.8826069831848145, -0.3597346246242523, -1.044039011001587, -0.8120381832122803, 0.4040302038192749, 0.3643786609172821, 0.1285412460565567, 0.22042401134967804, -0.5559495687484741, -0.19876042008399963, -0.9221028089523315, -0.0925697386264801, 0.4443034827709198, 0.38876792788505554, -0.6636470556259155, 0.23302744328975677, -0.3862612247467041, -0.24709302186965942, -0.2608134150505066, -0.5824901461601257, -0.5929635763168335, 0.06003081053495407, 0.06036623194813728, -0.22574791312217712, -0.9551053643226624, -0.5398101806640625, -0.1827080249786377, 0.7853090763092041, 1.3298330307006836, -0.8725144267082214, 0.9431695938110352, -0.7888236045837402, -0.04056263715028763, -0.21762141585350037, -0.03815091401338577, -0.0395936444401741, 0.045466043055057526, 0.5328858494758606, -0.934002161026001]\n",
            "Word 17 --> Embedding [-0.33840882778167725, -0.12443699687719345, -0.4026905298233032, 0.08599870651960373, 0.16161580383777618, 0.034648239612579346, 0.49595901370048523, -0.05961569398641586, -0.18319353461265564, 0.00818686094135046, 0.34193357825279236, 0.05189220607280731, -0.20828700065612793, 0.1915253847837448, -0.04523429647088051, 0.3146069347858429, 0.11193554848432541, 0.027007384225726128, 0.09594257920980453, -0.12683898210525513, -0.28051650524139404, 0.11835011094808578, -0.30716511607170105, -0.11010940372943878, 0.23487195372581482, -0.5209214091300964, 0.07740852236747742, 0.34578263759613037, -0.026544779539108276, -0.011160013265907764, -0.16559606790542603, 0.2847121059894562, -0.04638262465596199, 0.15816569328308105, -0.11297396570444107, 0.1682257205247879, 0.10559334605932236, 0.3568185865879059, 0.2945070266723633, 0.27960020303726196, -0.011832738295197487, 0.07050169259309769, -0.18126478791236877, -0.0843958780169487, 0.13012142479419708, 0.40278348326683044, 0.2438846379518509, 0.24707889556884766, -0.19061830639839172, 0.08895660191774368, 0.1934729367494583, -0.10916390269994736, -0.12893757224082947, -0.07542825490236282, 0.0841626301407814, -0.1357741504907608, 0.06461067497730255, 0.06730709224939346, 0.1656438410282135, 0.20332780480384827, -0.10591913014650345, 0.21415220201015472, -0.02725391462445259, -0.07405071705579758, 0.12367294728755951, 0.2565652132034302, 0.44650891423225403, 0.14652177691459656, 0.012861957773566246, 0.006026844494044781, -0.43345415592193604, 0.21233008801937103, -0.05269818753004074, -0.0911928042769432, 0.023862233385443687, -0.518377959728241, -0.011158154346048832, -0.014319277368485928, -0.24498789012432098, -0.15543945133686066, 0.22873413562774658, -0.33242326974868774, 0.06095623970031738, 0.09371242672204971, 0.20000281929969788, -0.28553175926208496, -0.1468030959367752, 0.18512997031211853, -0.11503578722476959, -0.08958395570516586, -0.32092198729515076, -0.05750191956758499, 0.14895686507225037, -0.012722298502922058, 0.07196029275655746, 0.10864359885454178, 0.10180924087762833, -0.14940489828586578, -0.21258218586444855, 0.14253774285316467, 0.07832969725131989, -0.005319490097463131, -0.2290283888578415, 0.31922221183776855, 0.08885541558265686, -0.006119221914559603, -0.40469855070114136, 0.3523421585559845, 0.11186704784631729, 0.19023212790489197, 0.4011141359806061, 0.0025096703320741653, 0.19924619793891907, -0.4017717242240906, -0.11089278012514114, 0.022188985720276833, -0.295013427734375, 0.36365556716918945, -0.003429351607337594, -0.027695855125784874, 0.15573260188102722, -0.18938298523426056, -0.3872637450695038, 0.014147244393825531, 0.006098995916545391, 0.29757338762283325, -0.073807492852211, 0.04970642551779747, 0.32680800557136536, -0.037022463977336884, -0.10599962621927261, 0.00023319614410866052, 0.24680617451667786, 0.24795383214950562, 0.3262195587158203, 0.05449662357568741, -0.11431405693292618, 0.4437047839164734, -0.8345462083816528, -0.05540142580866814, -0.24422520399093628, -0.2582898736000061, 0.027235709130764008, -0.11574197560548782, 0.16224506497383118, -0.2887718379497528, 0.10752660036087036, -0.13159914314746857, 0.17820444703102112, 0.6525434255599976, 0.04610610380768776, 0.06447450816631317, -0.06715981662273407, 0.22388659417629242, -0.05509011819958687, -0.5008353590965271, -0.07337511330842972, 0.36438751220703125, -0.16530323028564453, 0.08889751881361008, -0.20514999330043793, -0.32528746128082275, 0.0350484699010849, 0.2906665503978729, -0.17329692840576172, -0.3417826294898987, 0.061338018625974655, 0.00874678511172533, -0.15854521095752716, 0.3046431541442871, 0.19885051250457764, -0.010386970825493336, 0.0034158213529735804, -0.4792734384536743, 0.03203407675027847, -0.18311408162117004, 0.20819947123527527, 0.28669464588165283, 0.48168373107910156, -0.16451534628868103, 0.0814400315284729, -0.0659937858581543, 0.24312454462051392, 0.06678411364555359, -0.15500998497009277, -0.1303902268409729, -0.09565989673137665, 0.13880464434623718, -0.0007047018152661622, -0.1111777126789093, 0.2561913728713989, -0.2053508758544922, -0.02621893770992756, -0.15850134193897247, -0.15288875997066498, -0.3241870105266571, 0.0034452350810170174, -0.021740173920989037, 0.343698114156723, 0.0500388965010643, -0.1511359065771103, 0.06489847600460052, -0.16873100399971008, 0.014235221780836582, 0.029105491936206818, -0.03700713813304901, 0.26611992716789246, 0.295887291431427, -0.0009964704513549805, 0.11700310558080673, 5.914336725254543e-05, -0.11814453452825546, 0.22279340028762817, 0.23397928476333618, 0.08416423946619034, -0.23311176896095276, -0.13281749188899994, 0.10610604286193848, 0.10173672437667847, -0.17386560142040253, 0.31912660598754883, -0.08214499801397324, 0.05698688328266144, 0.3515789806842804, 0.034695953130722046, -0.3306528925895691, -0.18033887445926666, 0.11175001412630081, 0.23389405012130737, -0.034214962273836136, 0.0643150806427002, -0.07735811918973923, -0.10176409780979156, 0.2343345433473587, 0.09026719629764557, -0.07661488652229309, -0.4113505780696869, 0.09844429045915604, -0.18599249422550201, 0.1911184936761856, -0.043265942484140396, 0.041978780180215836, -0.1784869283437729, 0.21142446994781494, 0.08348198980093002, 0.06232358142733574, -0.03944781795144081, 0.21130210161209106, 0.1734100580215454, -0.2977033257484436, 0.2712705135345459, -0.08275783061981201, -0.45660799741744995, 0.2766890525817871, 0.01836148463189602, 0.05176867917180061, 0.2976340353488922, -0.09574750065803528, -0.10019993036985397, -0.14150144159793854, 0.021372299641370773, 0.31349727511405945, 0.09264782816171646, -0.23133477568626404, -0.011914761736989021, 0.07473836094141006, -0.049630310386419296, -0.006996860262006521, 0.037768058478832245, 0.09270026534795761, 0.028304297477006912, -0.17459164559841156, 0.015012226998806, 0.13978826999664307, -0.21862617135047913, -0.17044304311275482, 0.06363636255264282, -0.0276823528110981, 0.255056768655777, -0.25468188524246216, 0.2522410452365875, -0.10940318554639816, 0.038701482117176056, 0.10557372123003006, 0.21592646837234497, -0.09817291051149368, -0.024268947541713715, 0.19749322533607483, 0.07088080048561096, -0.32934463024139404, -0.19656461477279663, -0.4117733836174011, -0.08026721328496933, 0.2219618707895279, 0.2864350378513336, 0.19314607977867126, -0.44067665934562683, 0.3138273358345032, -0.19224227964878082, 0.23553979396820068, 0.1433161050081253, -0.13364367187023163, -0.0799952894449234, 0.17193707823753357, -0.057597823441028595, 0.1933107227087021, 0.06820574402809143, 0.37374645471572876, 0.04441765323281288, 0.01878923363983631, 0.10059058666229248, 0.14097261428833008, -0.11346762627363205, -0.16478081047534943, -0.03812006115913391, -0.2167092114686966, -0.047210942953825, 0.2864008843898773, 0.39661291241645813, -0.06269347667694092, -0.0955893024802208, 0.2996920347213745, -0.13149291276931763, 0.034412793815135956, -0.15716561675071716, 0.3175342381000519, -0.03885456919670105, -0.26552531123161316, -0.05968031659722328, -0.12440022081136703, -0.14687161147594452, -0.10576539486646652, -0.40534156560897827, -0.18323655426502228, -0.05786851793527603, -0.037234533578157425, -0.09923937916755676, -0.017553064972162247, -0.014753291383385658, 0.12707410752773285, 0.018348928540945053, 0.04891161620616913, -0.24091464281082153, -0.006771997548639774, -0.1308169811964035, 0.2065553367137909, 0.0017811701400205493, 0.027164947241544724, -0.20685479044914246, -0.0595809668302536, 0.41142746806144714, 0.015617580153048038, -0.30395376682281494, -0.0991569310426712, 0.14591312408447266, -0.05282582715153694, -0.09022177755832672, -0.09682018309831619, 0.2876581847667694, 0.08609483391046524, 0.04984781891107559, 0.027780260890722275, 0.3501657247543335, 0.06713126599788666, 0.07884474098682404, 0.30741143226623535, 0.16269046068191528, -0.20317509770393372, -0.027880532667040825, 0.04260168597102165, 0.0275823213160038, -0.22144311666488647, 0.17321227490901947, 0.25826019048690796, -0.17103311419487, 0.40003547072410583, 0.16346460580825806, 0.10000679641962051, -0.08465873450040817, -0.12046729773283005, 0.2655695080757141, 0.015560940839350224, 0.0226355642080307, 0.09082162380218506, -0.27887097001075745, -0.060071688145399094, 0.20910170674324036, -0.2741905450820923, 0.3817019760608673, 0.1947089284658432, 0.10791828483343124, -0.1326259821653366, 0.17553691565990448, 0.0028454679995775223, -0.029966432601213455, -0.23721656203269958, -0.01072335708886385, 0.06582614034414291, -0.3035627007484436, 0.19575266540050507, -0.10678653419017792, 0.26491647958755493, -0.09833117574453354, 0.26866281032562256, -0.016131307929754257, -0.06398872286081314, -0.04524657875299454, 0.022223901003599167, 0.18945170938968658, -0.026904486119747162, 0.23478080332279205, -0.3838450014591217, 0.2535400688648224, 0.3262607455253601, 0.18397749960422516, -0.03029615618288517, -0.14584526419639587, 0.5209952592849731, -0.05736330896615982, -0.12601575255393982, -0.01318932231515646, -0.22443613409996033, -0.15456359088420868, 0.14538009464740753, 0.08569058775901794, -0.10212157666683197, -0.15193964540958405, -0.04405808821320534, -0.25764644145965576, -0.18173852562904358, 0.33389338850975037, -0.05634111911058426, 0.07816999405622482, -0.1971907764673233, 0.14943628013134003, 0.16425232589244843, 0.00044340433669276536, -0.0558994822204113, -0.2043408900499344, 0.025117505341768265, -0.11281880736351013, 0.02847100794315338, -0.024281248450279236, 0.23487615585327148, 0.11223871260881424, 0.26429030299186707, 0.03546423837542534, 0.15521971881389618, 0.020788786932826042, 0.08895599097013474, 0.03561561554670334, -0.15718916058540344, -0.03191717714071274, 0.0863746777176857, 0.3235572874546051, -0.17530179023742676, 0.17793680727481842, 0.004963231272995472, -0.03699418157339096, 0.1814471185207367, 0.14045029878616333, 0.12404055893421173, 0.01795845292508602, 0.23364965617656708, 0.14837193489074707, 0.005554343108087778, 0.050223223865032196, 0.690060019493103, 0.028797976672649384, -0.32278522849082947, -0.07479285448789597, 0.45844629406929016, 0.015732109546661377, 0.25490105152130127, 0.10298963636159897, 0.4912567734718323, 0.1494661420583725, 0.06968975812196732, -0.06981856375932693, 0.2731759250164032, -0.13524039089679718, -0.1226765438914299, 0.1335648000240326, 0.0069406055845320225, 0.27301129698753357, 0.05356793478131294, 0.12164836376905441, 0.15178744494915009, -0.020676342770457268, -0.07988455891609192, -0.06340492516756058, 0.06742178648710251, -0.04174652695655823, 0.1332455724477768, 0.06193274259567261, -0.09210775047540665, 0.007956311106681824, -0.031579721719026566, -0.21276649832725525, -0.20930816233158112, -0.14334547519683838, -0.18473780155181885, -0.13527442514896393, 0.016282569617033005, 0.03431050106883049, 0.26932987570762634, 0.011025412939488888, 0.2327391356229782, -0.0069054351188242435, 0.03229379281401634, -0.11864932626485825, -0.23011434078216553, 0.008702602237462997, -0.13600090146064758, -0.0876970961689949, -0.0061563001945614815, 0.39595475792884827, 0.3284092843532562, -0.2735876142978668, -0.02915944717824459, 0.2780623137950897, -0.3409231901168823, -0.21104271709918976, -0.1825254112482071, 0.1892295479774475, -0.2836439907550812, 0.3392290771007538, 0.08099835366010666, 0.14162921905517578, 0.218465194106102, -0.26871004700660706, 0.09832607209682465, -0.22093328833580017, -0.3354637324810028, 0.5109608173370361, 0.03809797391295433, -0.06369341164827347, -0.1185709536075592, 0.3261772394180298, 0.043528661131858826, 0.05945763364434242, 0.1296275109052658, 0.07376821339130402, -0.16244541108608246, -0.32141929864883423, -0.10653271526098251, -0.13277673721313477, -0.28110092878341675, 0.13503684103488922, -0.010166723281145096, 0.2908833920955658, 0.18492092192173004, 0.01571139506995678, 0.05599420517683029, 0.3884982466697693, 0.05582781136035919, -0.06724637001752853, -9.42620849609375, -0.14870604872703552, 0.11984726041555405, 0.20766863226890564, 0.03363241255283356, -0.232578307390213, -0.01650882326066494, 0.024799751117825508, 0.073606476187706, -0.02408514730632305, -0.1921233981847763, 0.07585258036851883, 0.17086981236934662, -0.23647302389144897, 0.11902596801519394, -0.28521445393562317, 0.21738813817501068, 0.17104913294315338, -0.03305196762084961, -0.165592759847641, 0.15389291942119598, 0.04800485447049141, -0.06476134806871414, 0.31352102756500244, 0.29654380679130554, -0.12568064033985138, -0.1499704122543335, -0.11569081991910934, 0.14159874618053436, -0.08861269056797028, -0.2667349874973297, 0.058689478784799576, -0.039894867688417435, -0.11030962318181992, 0.13031059503555298, -0.2690410614013672, 0.3079495131969452, -0.07740192860364914, -0.08811917901039124, 0.047929391264915466, 0.1459939330816269, 0.23925037682056427, -0.04942800849676132, 0.013864965178072453, -0.05197816714644432, -0.30851322412490845, 0.30250412225723267, 0.2111324518918991, -0.049075208604335785, -0.08650144189596176, 0.41779589653015137, -0.08538229763507843, -0.3593807816505432, -0.09107398986816406, -0.5123550295829773, 0.15196767449378967, -0.009965304285287857, -0.2946584224700928, -0.11193694919347763, 0.2896384000778198, 0.2431299388408661, -0.46660351753234863, -0.027214709669351578, 0.49402686953544617, 0.08367841690778732, -0.043975893408060074, -0.10534193366765976, -0.14314493536949158, 0.1808418184518814, 0.23031097650527954, -0.29172077775001526, -0.11449208855628967, -0.5036423802375793, -0.07262751460075378, 0.1426224410533905, -0.12360627949237823, 0.12341301888227463, 0.21528634428977966, -0.04553639143705368, 0.3200457990169525, -0.022452324628829956, 0.31041011214256287, 0.13953807950019836, -0.2352263331413269, -0.11771060526371002, 0.08622530847787857, -0.2353077530860901, -0.0010243803262710571, 0.07283435761928558, 0.1659144163131714, 0.04645774886012077, 0.0601063072681427, -0.20341144502162933, -0.21640226244926453, -0.1733817756175995, 0.10450127720832825, -0.09072350710630417, 0.14795151352882385, -0.29896363615989685, 0.10136844962835312, -0.23604604601860046, 0.03717491403222084, -0.17239004373550415, -0.11156962066888809, 0.1778133064508438, -0.12616609036922455, -0.2384389042854309, -0.04539746418595314, -0.07712452858686447, -0.062373436987400055, 0.1862078756093979, 0.049204807728528976, -0.2980625033378601, -0.11539497971534729, -0.10401986539363861, -0.02830468863248825, 0.08807110041379929, -0.28526386618614197, -0.3010202646255493, -0.012022743001580238, 0.20644904673099518, -0.1573701649904251, 0.42976364493370056, 0.040421292185783386, 0.13060876727104187, 0.041745930910110474, 0.07127025723457336, 0.12376998364925385, 0.07665426284074783, -0.1818069964647293, 0.6307588815689087, 0.13305146992206573, 0.2327859252691269, -0.013020738959312439, 0.24578554928302765, -0.3362971544265747, -0.21701782941818237, -0.19581212103366852, 0.05515463277697563, -0.11793582886457443, 0.24127916991710663, -0.0885402113199234, 0.02610938437283039, 0.22886033356189728, 0.019016368314623833, 0.42563164234161377, -0.27907928824424744, -0.1384367197751999, -0.09277795255184174, 0.07681836932897568, -0.20234708487987518, 0.3518582880496979, 0.29342755675315857, -0.15509380400180817, -0.29688817262649536, 0.4487735629081726, 0.16258147358894348, -0.12997020781040192, 0.1043347641825676, 0.20144152641296387, 0.2596885859966278, 0.038664087653160095, -0.058515265583992004, -0.13625063002109528, 0.1521153450012207, -0.09548627585172653, -0.1408093124628067, 0.17102128267288208, -0.07401823997497559, -0.042187560349702835, -0.046138618141412735, -0.012972582131624222, 0.12223219126462936, -0.31730207800865173, 0.020833391696214676, -0.15296487510204315, -0.36852240562438965, 0.11329980194568634, -0.022494077682495117, -0.2524946630001068, -0.11501339823007584, 0.028473636135458946, -0.2611277997493744, 0.0625905841588974, -0.04718216136097908, -0.1105109229683876, -0.2771432101726532, 0.11107537895441055, -0.14250034093856812, -0.32381415367126465, 0.01868409477174282, -0.3164912462234497, -0.2304859459400177, 0.023927031084895134, 0.11191511899232864, -0.03862994536757469, -0.27013474702835083, 0.19677698612213135, -0.07568802684545517, 0.09414459019899368, 0.35872358083724976, -0.2154252678155899, 0.47022363543510437, -0.045430585741996765, -0.11389415711164474, -0.3104577958583832, 0.18697676062583923, 0.021402684971690178, -0.006923785898834467, 0.008742304518818855, -0.21116338670253754]\n",
            "Word 18 --> Embedding [-0.13801324367523193, -0.058894675225019455, -0.3055686056613922, 0.08709140866994858, 0.2569001317024231, 0.03304031118750572, 0.4677598178386688, 0.1080453097820282, -0.24189648032188416, -0.14930778741836548, 0.4070722162723541, 0.13659138977527618, -0.2396107017993927, 0.22537028789520264, -0.017395494505763054, 0.30997681617736816, 0.08718574047088623, -0.015880795195698738, 0.1972736269235611, 0.00875245500355959, -0.3089562952518463, 0.07243890315294266, -0.3228425979614258, -0.16740518808364868, 0.29576051235198975, -0.4851367175579071, 0.07199183106422424, 0.42658981680870056, -0.08184904605150223, 0.014826511032879353, -0.14954622089862823, 0.36077579855918884, -0.05063231289386749, 0.08259899914264679, -0.10196830332279205, 0.09218329191207886, 0.19636157155036926, 0.22748033702373505, 0.19214759767055511, 0.27652764320373535, -0.039363425225019455, 0.08533386141061783, -0.2796356976032257, -0.05866216495633125, 0.1944628357887268, 0.44486162066459656, 0.1961684376001358, 0.19267936050891876, -0.0645373985171318, 0.18884848058223724, 0.17389152944087982, -0.27160605788230896, -0.09814627468585968, -0.06777362525463104, 0.02350183203816414, -0.04946446791291237, 0.14101070165634155, 0.056678012013435364, 0.14186613261699677, 0.33120787143707275, -0.10804028064012527, 0.15685145556926727, 0.02009868063032627, -0.03499342501163483, 0.1500317007303238, 0.23362860083580017, 0.4988413453102112, 0.16666387021541595, 0.09467805922031403, 0.13903065025806427, -0.4990854263305664, 0.11485448479652405, -0.058837492018938065, -0.0538560152053833, 0.057117488235235214, -0.4598107933998108, 0.04719366505742073, -0.04591098427772522, -0.303008109331131, -0.32750290632247925, 0.3036641478538513, -0.31706860661506653, 0.0669901892542839, 0.06405313313007355, 0.11920482665300369, -0.3214745819568634, -0.16875286400318146, 0.23176653683185577, -0.039888519793748856, -0.054020531475543976, -0.2760004997253418, 0.012863764539361, 0.11985178291797638, 0.012373609468340874, 0.12138066440820694, 0.1258077174425125, 0.04307146742939949, -0.20858199894428253, -0.13279226422309875, 0.0911376029253006, 0.10538432747125626, -0.0886652022600174, -0.15333591401576996, 0.3071826994419098, 0.1051589623093605, -0.02057756297290325, -0.37400534749031067, 0.3313077688217163, 0.019934337586164474, 0.17491650581359863, 0.45228955149650574, -0.01835019513964653, 0.14303003251552582, -0.3389536738395691, -0.2027343362569809, 0.03620743378996849, -0.3084428310394287, 0.33414384722709656, -0.0011815230827778578, -0.11631278693675995, 0.10706707090139389, -0.19172894954681396, -0.23383468389511108, 0.05121061950922012, 0.01674935221672058, 0.33087486028671265, -0.0388033464550972, 0.017025241628289223, 0.37044695019721985, 0.03403429314494133, -0.1402302235364914, -0.023687193170189857, 0.29502370953559875, 0.37899768352508545, 0.3437964618206024, 0.06067749485373497, -0.053123947232961655, 0.5350460410118103, -0.8224498629570007, -0.11719736456871033, -0.3561365604400635, -0.19533543288707733, 0.08142148703336716, -0.17770113050937653, 0.11613422632217407, -0.30935484170913696, 0.06824247539043427, -0.03748568147420883, 0.1918172687292099, 0.5614809393882751, 0.0449383445084095, 0.02051328495144844, -0.07637494802474976, 0.2256546914577484, -0.015919525176286697, -0.4546700119972229, 0.021830815821886063, 0.2733175456523895, -0.11228141188621521, 0.048720844089984894, -0.24305756390094757, -0.43472370505332947, -0.05280506983399391, 0.3403685390949249, -0.26229652762413025, -0.33476749062538147, 0.18905091285705566, 0.029178913682699203, -0.24211987853050232, 0.35596373677253723, 0.29261234402656555, -0.016367390751838684, -0.07451586425304413, -0.5188076496124268, 0.06288173794746399, -0.13805265724658966, 0.069732166826725, 0.36527061462402344, 0.35929134488105774, -0.11741960793733597, 0.17408260703086853, -0.012828865088522434, 0.20380568504333496, 0.07146604359149933, -0.25762712955474854, -0.08241485059261322, 0.012421933934092522, 0.06436630338430405, 0.11907373368740082, -0.11663638055324554, 0.21128754317760468, -0.19396649301052094, -0.1952679604291916, -0.12893521785736084, -0.09098038077354431, -0.41834086179733276, 0.047986000776290894, 0.035134702920913696, 0.2649630904197693, 0.16638652980327606, -0.26197394728660583, -0.027417920529842377, -0.07645424455404282, 0.008303854614496231, 0.21370097994804382, -0.13794158399105072, 0.11024992913007736, 0.259106308221817, -0.06974627077579498, 0.051575738936662674, 0.008812102489173412, -0.16972866654396057, 0.23236112296581268, 0.3726787567138672, 0.20639930665493011, -0.25659269094467163, -0.17951224744319916, 0.02483048476278782, 0.06687361001968384, -0.14934997260570526, 0.21814215183258057, 0.08982318639755249, 0.06599415093660355, 0.3838958144187927, 0.07599852979183197, -0.2683008313179016, -0.18739864230155945, 0.06617540866136551, 0.20046240091323853, -0.10042762756347656, 0.0003060103044845164, -0.019103461876511574, -0.04435329511761665, 0.2986993193626404, 0.10870600491762161, -0.017719322815537453, -0.3207172751426697, 0.06880509853363037, -0.31731000542640686, 0.11580429971218109, 0.03424340486526489, -0.03552146628499031, -0.09283626824617386, 0.3068687319755554, 0.04258637875318527, 0.15230733156204224, 0.0035824025981128216, 0.21843668818473816, 0.13754035532474518, -0.1953483521938324, 0.23014675080776215, -0.10487380623817444, -0.4453212320804596, 0.26129356026649475, -0.0817364826798439, -0.015527648851275444, 0.22563931345939636, -0.07785343378782272, -0.06287066638469696, -0.19444414973258972, -0.05713175609707832, 0.3898385167121887, 0.17565104365348816, -0.13916249573230743, 0.03188708424568176, 0.013283454813063145, -0.030070504173636436, 0.09537326544523239, -0.07338451594114304, 0.18413260579109192, 0.09695760160684586, -0.22903215885162354, -0.050927672535181046, 0.0940844938158989, -0.1556745022535324, -0.18447080254554749, 0.08712383359670639, -0.10489657521247864, 0.2747246026992798, -0.22455447912216187, 0.27794888615608215, -0.15188650786876678, 0.019151294603943825, 0.1046048030257225, 0.011023811995983124, -0.18017955124378204, -0.038858987390995026, 0.05050305649638176, 0.00206551980227232, -0.32286185026168823, -0.15628033876419067, -0.3811865746974945, -0.12579646706581116, 0.08061794191598892, 0.19353626668453217, 0.09758131206035614, -0.37932196259498596, 0.3002733886241913, -0.13109050691127777, 0.25090986490249634, 0.18778236210346222, -0.050346776843070984, -0.06574074178934097, 0.18167340755462646, -0.17983686923980713, 0.1742800772190094, 0.020693616941571236, 0.3774607181549072, 0.10373255610466003, 0.03438372164964676, 0.14446206390857697, 0.2371024787425995, -0.09404153376817703, -0.14433656632900238, -0.04744518920779228, -0.25313568115234375, 0.025559695437550545, 0.2369527965784073, 0.5046620965003967, -0.03878333792090416, -0.051520224660634995, 0.3613002598285675, -0.21796101331710815, 0.0447462759912014, -0.10571577399969101, 0.29608356952667236, -0.07683228701353073, -0.311509370803833, -0.0908297747373581, -0.006481126882135868, -0.1114361360669136, -0.040951669216156006, -0.3288012742996216, -0.16018912196159363, 0.06873263418674469, -0.04940151795744896, -0.13766202330589294, 0.03754107654094696, 0.19967864453792572, 0.14208762347698212, 0.06397554278373718, -0.055308274924755096, -0.311406672000885, 0.005052820313721895, -0.12261486798524857, 0.19062277674674988, 0.030180461704730988, -0.04533087834715843, -0.25674307346343994, 0.030863044783473015, 0.44493672251701355, 0.009161585941910744, -0.3409881889820099, -0.06631380319595337, 0.27136144042015076, 0.06298249959945679, -0.10387963056564331, -0.06727906316518784, 0.19459328055381775, 0.10137935727834702, -0.016486769542098045, -0.07184925675392151, 0.31916382908821106, 0.12804043292999268, 0.10792809724807739, 0.19690172374248505, 0.11778627336025238, -0.18790088593959808, -0.021553779020905495, 0.1633545607328415, -0.02320268005132675, -0.2953057587146759, 0.13999994099140167, 0.19928231835365295, -0.24740396440029144, 0.3965107798576355, 0.09144026786088943, 0.05945175513625145, -0.0018468174384906888, -0.057179179042577744, 0.3403208553791046, -0.006642531603574753, 0.009044310078024864, -0.02532728761434555, -0.3338682949542999, -0.08602356165647507, 0.12992976605892181, -0.3284777104854584, 0.44042715430259705, 0.1850208044052124, 0.17339545488357544, -0.041407112032175064, 0.18552818894386292, 0.04608982056379318, -0.1213437169790268, -0.16634173691272736, -0.04294933006167412, 0.06220197677612305, -0.3313610553741455, 0.23517487943172455, -0.051389068365097046, 0.29866868257522583, -0.061369962990283966, 0.43288320302963257, -0.00755119975656271, 0.007831367664039135, 0.05246933922171593, -0.0519220195710659, 0.16168725490570068, 0.017994483932852745, 0.2275831252336502, -0.5251965522766113, 0.2803570330142975, 0.2907293140888214, 0.17604923248291016, -0.06277529895305634, -0.13626720011234283, 0.40396231412887573, -0.071416474878788, -0.25500035285949707, 0.006087156478315592, -0.2493724226951599, -0.08124300837516785, 0.15988050401210785, 0.10178627073764801, -0.06399939954280853, -0.16672316193580627, -0.030293768271803856, -0.1982080191373825, -0.157516747713089, 0.2565012574195862, -0.013950406573712826, 0.13697074353694916, -0.218577578663826, 0.1608610451221466, 0.07896988093852997, -0.027736907824873924, -0.10414183139801025, -0.12217819690704346, -0.008807112462818623, -0.09629236161708832, 0.01142837293446064, 0.024293038994073868, 0.165257528424263, 0.09875928610563278, 0.2951072156429291, -0.016475860029459, 0.09238366037607193, -0.028183193877339363, 0.11212851107120514, -0.0929860845208168, -0.03241414576768875, 0.0570586696267128, 0.10945606231689453, 0.2556612491607666, -0.1573597639799118, 0.18065877258777618, -0.03151213377714157, -0.22520489990711212, 0.2731274962425232, 0.19593708217144012, 0.20081694424152374, -0.006221846677362919, 0.12300954759120941, 0.2401546835899353, 0.02094922587275505, 0.058755479753017426, 0.8698964715003967, 0.08632010966539383, -0.4716261625289917, -0.11509887129068375, 0.3600084185600281, 0.043627168983221054, 0.19660449028015137, 0.08154342323541641, 0.36852261424064636, 0.06594505161046982, 0.06919845938682556, -0.061376992613077164, 0.16854329407215118, -0.14441417157649994, -0.24903728067874908, 0.07776164263486862, 0.022947391495108604, 0.26225703954696655, 0.05281824618577957, 0.14417529106140137, 0.1415579617023468, -0.06401931494474411, -0.06558169424533844, 0.10147951543331146, 0.041138581931591034, 0.04755578935146332, 0.01297008153051138, 0.2506296634674072, -0.10663828253746033, 0.12845319509506226, -0.008770041167736053, -0.193925678730011, -0.2163446545600891, -0.21340197324752808, -0.19341214001178741, -0.18745234608650208, 0.047242648899555206, -0.013991965912282467, 0.42989489436149597, 0.017413973808288574, 0.260866641998291, 0.11886600404977798, -0.07116646319627762, -0.04891760274767876, -0.2349432408809662, 0.005995272193104029, -0.12988024950027466, -0.013290094211697578, -0.035246748477220535, 0.24182100594043732, 0.311357319355011, -0.275151789188385, -0.026270592585206032, 0.14442645013332367, -0.30214178562164307, -0.15841247141361237, -0.28007057309150696, 0.06158224493265152, -0.35739925503730774, 0.45506083965301514, 0.04958926886320114, 0.1751319169998169, 0.1484750360250473, -0.3087042272090912, 0.04601425677537918, -0.23936638236045837, -0.3952517807483673, 0.571515679359436, -0.014265832491219044, -0.15329082310199738, 0.002135197864845395, 0.23877502977848053, 0.057366251945495605, 0.09357591718435287, 0.19467052817344666, 0.07166946679353714, -0.21166813373565674, -0.2078239619731903, -0.20845407247543335, -0.0926021859049797, -0.22402729094028473, 0.14542216062545776, 0.022773129865527153, 0.23839275538921356, 0.21868182718753815, 0.013175219297409058, 0.02777811884880066, 0.3433457612991333, -0.07458893209695816, -0.08817455917596817, -9.41612720489502, -0.17915789783000946, 0.2622533142566681, 0.126173734664917, 0.019675007089972496, -0.2082611471414566, -0.035778895020484924, 0.01227636355906725, 0.1633683145046234, 0.04469068720936775, -0.15250658988952637, 0.10029487311840057, 0.15389607846736908, -0.10009963065385818, 0.08914605528116226, -0.19858860969543457, 0.25114691257476807, 0.09300389885902405, -0.08866087347269058, -0.08851801604032516, 0.20769710838794708, 0.0674436166882515, 0.08037149161100388, 0.2898917496204376, 0.3043663203716278, -0.11958539485931396, -0.16982068121433258, -0.02065454237163067, 0.11781320720911026, -0.202462300658226, -0.1711440533399582, 0.14021439850330353, -0.0694759264588356, -0.05691845715045929, 0.040378302335739136, -0.3624068796634674, 0.2453378289937973, -0.13043582439422607, -0.08743590861558914, 0.004397083073854446, 0.10211082547903061, 0.30017170310020447, -0.07271147519350052, 0.049182575196027756, -0.06406257301568985, -0.42254090309143066, 0.3898243010044098, 0.2180067002773285, 0.04038627818226814, -0.0924401581287384, 0.4568202793598175, -0.09432419389486313, -0.5431426763534546, -0.16599789261817932, -0.6173829436302185, 0.09524756669998169, -0.02259925752878189, -0.2088128626346588, -0.05470145866274834, 0.2637673020362854, 0.30585452914237976, -0.40431341528892517, -0.06636054813861847, 0.46598267555236816, 0.05131673812866211, -0.01934504136443138, -0.13736052811145782, -0.14736798405647278, 0.18182247877120972, 0.13602253794670105, -0.37761518359184265, -0.16214899718761444, -0.45347779989242554, -0.04533231258392334, 0.23867614567279816, -0.12237323075532913, 0.11583395302295685, 0.2347887009382248, -0.01582367718219757, 0.33291319012641907, 0.022152947261929512, 0.3514806926250458, 0.1405489444732666, -0.1290644258260727, -0.08670752495527267, 0.13256680965423584, -0.2729871869087219, 0.04945417866110802, 0.0955851674079895, 0.20853155851364136, -0.1056031584739685, 0.04338214173913002, -0.09956954419612885, -0.21076317131519318, -0.20279183983802795, 0.08583303540945053, -0.052106332033872604, 0.25520196557044983, -0.4241793155670166, 0.13955794274806976, -0.22752469778060913, -0.11631052196025848, -0.21577201783657074, -0.167756125330925, 0.1547771841287613, -0.07082092016935349, -0.15569202601909637, -0.1836027055978775, -0.14209726452827454, -0.073235422372818, 0.19749657809734344, 0.09362170845270157, -0.18075761198997498, -0.03470010310411453, -0.15074025094509125, -0.10721591114997864, 0.09263026714324951, -0.33953964710235596, -0.3350287973880768, 0.02058359421789646, 0.18572072684764862, -0.14338745176792145, 0.3357778787612915, 0.0543694943189621, 0.03563263267278671, -0.09578877687454224, 0.06525963544845581, -0.05754188075661659, 0.13535110652446747, -0.24578262865543365, 0.5760324597358704, 0.14942730963230133, 0.14557337760925293, 0.05965660139918327, 0.12011236697435379, -0.28357043862342834, -0.20899610221385956, -0.07778653502464294, 0.03975817561149597, -0.09825923293828964, 0.19926884770393372, -0.1929515302181244, 0.018845483660697937, 0.10933428257703781, 0.03632691875100136, 0.39373040199279785, -0.18905401229858398, -0.2336490899324417, -0.09352997690439224, 0.0008835212793201208, -0.27915120124816895, 0.4085674583911896, 0.2690049409866333, -0.20105230808258057, -0.2467469424009323, 0.4298425018787384, 0.19628512859344482, -0.10977896302938461, 0.0013340486912056804, 0.0628194808959961, 0.29747605323791504, -0.01140320673584938, 0.025554224848747253, -0.12882688641548157, 0.15354856848716736, -0.09204582870006561, -0.14537954330444336, 0.21822352707386017, -0.0839620903134346, 0.01809348538517952, -0.08173367381095886, -0.0726703479886055, 0.15238018333911896, -0.3565603792667389, -0.024896034970879555, -0.15965551137924194, -0.31973564624786377, 0.1782710701227188, 0.10694978386163712, -0.2027779370546341, -0.08486548811197281, 0.05918041989207268, -0.3661133646965027, 0.0016129369614645839, -0.07837434113025665, -0.012869593687355518, -0.2706684172153473, 0.217320516705513, -0.11107504367828369, -0.25691843032836914, 0.04597388580441475, -0.26819148659706116, -0.11245721578598022, 0.07244136929512024, 0.19432295858860016, -0.06415177881717682, -0.2550666630268097, 0.15214653313159943, -0.020729636773467064, 0.15012679994106293, 0.2585693895816803, -0.11761226505041122, 0.34576213359832764, -0.14580529928207397, -0.16832904517650604, -0.17958424985408783, 0.19690550863742828, -0.14271049201488495, 0.01969962567090988, -0.013363398611545563, -0.16995775699615479]\n",
            "Word 19 --> Embedding [-0.1395343691110611, -0.08262205123901367, -0.2665258049964905, -0.006580923683941364, 0.17469242215156555, 0.0333259254693985, 0.45581331849098206, 0.04798520356416702, -0.3139524757862091, -0.11588365584611893, 0.44000259041786194, 0.14657007157802582, -0.22210732102394104, 0.18025214970111847, 0.05246244743466377, 0.3334827125072479, -0.07410568743944168, 0.005703479051589966, 0.1596681922674179, -0.0035290438681840897, -0.22138287127017975, 0.023370658978819847, -0.3033822178840637, -0.1929854154586792, 0.21569450199604034, -0.37711527943611145, 0.09155330806970596, 0.3976840078830719, -0.044714879244565964, -0.0635622888803482, -0.08399756252765656, 0.2880159020423889, -0.07277444005012512, 0.00035754128475673497, -0.10590942203998566, 0.17881596088409424, 0.06568305939435959, 0.20358239114284515, 0.14295819401741028, 0.2389959990978241, 0.10773696005344391, 0.12390542030334473, -0.2683599293231964, -0.052323877811431885, 0.09540679305791855, 0.3525794446468353, 0.2689710259437561, 0.22540783882141113, -0.14434917271137238, 0.0403478667140007, 0.17436230182647705, -0.20446622371673584, -0.2573530673980713, -0.18768464028835297, -0.04390012100338936, -0.0774863064289093, 0.14399448037147522, 0.12438758462667465, 0.10264487564563751, 0.31447675824165344, -0.21408097445964813, 0.3083236813545227, -0.04435846582055092, -0.16144004464149475, 0.07536935061216354, 0.192511186003685, 0.5002524852752686, 0.28964391350746155, 0.02606925368309021, 0.04234721511602402, -0.4156758189201355, 0.26716333627700806, 0.028319163247942924, -0.0341646783053875, -0.1127033680677414, -0.46317046880722046, 0.11014104634523392, -0.10315686464309692, -0.2559475302696228, -0.3844904899597168, 0.19338667392730713, -0.27765196561813354, 0.1889716237783432, 0.14944669604301453, 0.05788835883140564, -0.2831016480922699, -0.2628846764564514, 0.09122102707624435, -0.20032595098018646, -0.04237949848175049, -0.3122859597206116, 0.004279096145182848, 0.2875974178314209, 0.08146228641271591, 0.21213294565677643, -0.021113306283950806, 0.07388094812631607, -0.21836180984973907, -0.1871212273836136, 0.03638165071606636, 0.1356741040945053, -0.032226357609033585, -0.1624768227338791, 0.10845913738012314, 0.22986596822738647, 0.017881222069263458, -0.09280307590961456, 0.32824963331222534, 0.0948844701051712, 0.22919584810733795, 0.3962624967098236, -0.1352509707212448, 0.18039925396442413, -0.3627389371395111, -0.06817950308322906, 0.07356830686330795, -0.3090081512928009, 0.2629765272140503, -0.056960247457027435, 0.003325393656268716, -0.00997090246528387, -0.016169032081961632, -0.311910480260849, 0.06324931979179382, 0.15487360954284668, 0.2622859477996826, -0.09381067752838135, 0.03994627669453621, 0.3506159484386444, 0.07926671206951141, -0.2732458710670471, -0.0881335586309433, 0.2234233021736145, 0.40142422914505005, 0.22737906873226166, 0.2623959481716156, -0.0801108106970787, 0.43286260962486267, -0.8410972356796265, -0.21877893805503845, -0.26742926239967346, -0.25656658411026, 0.12510588765144348, -0.11803009361028671, 0.16325993835926056, -0.18459725379943848, -0.02836020663380623, -0.09608861804008484, 0.25271737575531006, 0.6007972359657288, 0.027514411136507988, 0.06537126004695892, -0.062738336622715, 0.15870754420757294, -0.09689731895923615, -0.4472188651561737, -0.03932785242795944, 0.41426825523376465, -0.1285247653722763, 0.057087089866399765, -0.20645099878311157, -0.39726537466049194, 0.16023313999176025, 0.2593134045600891, -0.28736764192581177, -0.2544177174568176, 0.17139557003974915, -0.004420064389705658, -0.24427801370620728, 0.3629709482192993, 0.18165422976016998, -0.017953891307115555, -0.03769306465983391, -0.33147332072257996, 0.01670149154961109, -0.03917772322893143, 0.22724483907222748, 0.45792001485824585, 0.5446591973304749, -0.10909150540828705, 0.1041136309504509, 0.028348326683044434, 0.24531830847263336, 0.10304202139377594, -0.17259851098060608, -0.0999591276049614, 0.19410458207130432, -0.03768516704440117, 0.04774954542517662, -0.12445016205310822, 0.20899896323680878, -0.12324855476617813, -0.2050880640745163, -0.11774726212024689, -0.12160015106201172, -0.5019536018371582, 0.00478209787979722, 0.012460128404200077, 0.29417648911476135, 0.06317746639251709, -0.10239798575639725, -0.03994685411453247, -0.15320593118667603, 0.05147162079811096, 0.09484069794416428, -0.07709994912147522, 0.22042810916900635, 0.09698973596096039, -0.2777930498123169, 0.09339176118373871, -0.09523003548383713, -0.23468799889087677, 0.2824022173881531, 0.308788537979126, 0.17095306515693665, -0.23443816602230072, -0.22451019287109375, 0.04347147047519684, 0.10186462849378586, -0.25201115012168884, 0.42733845114707947, 0.04383210837841034, 0.15024513006210327, 0.3017268478870392, 0.037363868206739426, -0.14920759201049805, -0.058766815811395645, 0.08139684796333313, 0.23992221057415009, -0.2044786959886551, -0.05600959062576294, -0.11052601039409637, -0.020324788987636566, 0.42456820607185364, 0.055045079439878464, -0.02981855534017086, -0.545257568359375, 0.16063299775123596, -0.2016671597957611, 0.17336297035217285, -0.04503893107175827, -0.02215825766324997, 0.0451187901198864, 0.10382597148418427, 0.1243101954460144, -0.05474424734711647, 0.07176665216684341, 0.21184979379177094, 0.3316418528556824, -0.2066398561000824, 0.24331460893154144, -0.056205954402685165, -0.5186651945114136, 0.35113972425460815, -0.09905603528022766, 0.0746200755238533, 0.2899497151374817, -0.01636253483593464, -0.010888081043958664, -0.05131332576274872, -0.04452887177467346, 0.4742320477962494, 0.012006275355815887, -0.19171558320522308, -0.1043999195098877, -0.05734457075595856, -0.10137084126472473, 0.13491380214691162, -0.1273670643568039, -0.059789303690195084, -0.0006670496659353375, -0.2833668291568756, -0.08252504467964172, 0.10767309367656708, -0.20142701268196106, -0.15148282051086426, 0.0575028732419014, -0.09872757643461227, 0.22238291800022125, -0.3543623685836792, 0.21586906909942627, -0.0921076089143753, 0.013539834879338741, 0.1341269612312317, 0.2986876666545868, -0.10573244839906693, -0.0783330649137497, 0.19566020369529724, -0.05327253043651581, -0.17592208087444305, -0.05366969853639603, -0.4432165324687958, -0.02243613451719284, 0.20288796722888947, 0.1315685659646988, 0.31764698028564453, -0.31896963715553284, 0.3269861340522766, -0.2748526632785797, 0.22422060370445251, 0.1555917114019394, -0.02510027401149273, 0.026185177266597748, 0.20554988086223602, -0.09685274958610535, 0.25141555070877075, 0.03160661458969116, 0.36749985814094543, 0.049006398767232895, -0.02379930019378662, 0.00040154464659281075, 0.16483831405639648, -0.10709386318922043, 0.0035948464646935463, -0.010440889745950699, -0.2680414021015167, -0.07054121792316437, 0.24065926671028137, 0.44853806495666504, -0.09267741441726685, -0.0778215155005455, 0.37476953864097595, -0.15120729804039001, -0.005004228558391333, -0.1545630842447281, 0.22046881914138794, -0.1659603863954544, -0.39057058095932007, 0.0015900313155725598, -0.007016528397798538, -0.13592936098575592, -0.1478641778230667, -0.2618834674358368, -0.1585664004087448, -0.03457131236791611, -0.06948058307170868, -0.291636198759079, -0.0012555669527500868, 0.15406547486782074, 0.14481908082962036, -0.01906500570476055, 0.02338045835494995, -0.1259782314300537, 0.03918147087097168, -0.128437802195549, 0.10189863294363022, -0.06427405774593353, 0.07066205888986588, -0.2888820469379425, -0.0932978093624115, 0.4508246183395386, 0.03294298052787781, -0.3048601448535919, 0.012253107503056526, 0.16842131316661835, -0.10282750427722931, -0.12026294320821762, 0.1524544209241867, 0.194094717502594, 0.044321220368146896, 0.11189157515764236, -0.013092598877847195, 0.30298471450805664, 0.17094799876213074, 0.13809515535831451, 0.2977237403392792, 0.16678155958652496, -0.24056366086006165, -0.031576190143823624, 0.16243775188922882, 0.031892139464616776, -0.24454337358474731, 0.2434149980545044, 0.380391001701355, -0.18521210551261902, 0.41449782252311707, 0.0972500666975975, 0.07826803624629974, -0.07162986695766449, -0.04252885654568672, 0.2603914737701416, -0.017566299065947533, 0.020537277683615685, -0.08882352709770203, -0.27518200874328613, -0.10090550035238266, 0.27389997243881226, -0.38730892539024353, 0.3326943814754486, 0.31993818283081055, 0.028134629130363464, -0.05040544271469116, 0.10556726902723312, -0.1677481234073639, -0.08543913811445236, -0.22202734649181366, -0.05410216003656387, 0.10787230730056763, -0.3141697347164154, 0.2122931033372879, -0.21379762887954712, 0.2471523880958557, -0.14598840475082397, 0.4114844501018524, -0.07756786793470383, -0.12829820811748505, 0.10145176202058792, -0.11056263744831085, 0.04836726188659668, 0.03951772674918175, 0.2237369567155838, -0.42458048462867737, 0.2676622271537781, 0.18886087834835052, 0.07681941986083984, 0.1547684669494629, -0.047250423580408096, 0.40880048274993896, -0.06102598458528519, -0.05456044524908066, -0.03547963872551918, -0.21582157909870148, -0.01867794804275036, 0.20490477979183197, 0.18677401542663574, -0.13639022409915924, -0.1259639412164688, -0.07139959931373596, -0.14759612083435059, -0.16567455232143402, 0.41645994782447815, -0.04257979243993759, -0.007102960254997015, -0.15012724697589874, 0.12920354306697845, 0.1368957906961441, -0.09418698400259018, -0.09734968841075897, -0.07669995725154877, 0.029603758826851845, -0.08025075495243073, 0.12404860556125641, -0.13380363583564758, 0.3168105185031891, 0.10711147636175156, 0.5132267475128174, 0.018086180090904236, 0.06489239633083344, 0.018140403553843498, 0.05443326011300087, 0.0468817837536335, -0.13249817490577698, 0.04162057489156723, 0.05404319241642952, 0.21428124606609344, 0.004473239649087191, 0.20618751645088196, 0.008294571191072464, -0.2394808977842331, 0.33820703625679016, 0.15359263122081757, 0.04130313917994499, -0.009372265078127384, 0.07033265382051468, 0.178224578499794, 0.03251957148313522, 0.036313217133283615, 0.7403528690338135, 0.016974875703454018, -0.37839335203170776, -0.10890696197748184, 0.30924052000045776, 0.17631448805332184, 0.12308347225189209, 0.07481730729341507, 0.3638191521167755, -0.10411562770605087, 0.007790849544107914, -0.24170400202274323, 0.20694737136363983, -0.11966554075479507, -0.09728474169969559, 0.11178780347108841, 0.02551399916410446, 0.21367335319519043, -0.0598745234310627, 0.13184140622615814, -0.058787260204553604, 0.00865991786122322, -0.06747317314147949, -0.03847245126962662, 0.10028519481420517, -0.0765521451830864, 0.23444001376628876, 0.17164944112300873, 0.049100328236818314, 0.1544959843158722, -0.04939444735646248, -0.19697506725788116, -0.07313291728496552, -0.1326424777507782, -0.1546168178319931, -0.1460881233215332, -0.003802514635026455, -0.0014501586556434631, 0.5638568997383118, 0.04240339621901512, 0.17678707838058472, 0.22013117372989655, -0.0986461266875267, -0.04106106236577034, -0.1443808227777481, -0.07658951729536057, -0.05502639338374138, -0.008627734147012234, -0.18654556572437286, 0.10127094388008118, 0.17450657486915588, -0.14297743141651154, 0.02422059327363968, 0.03579959645867348, -0.23046687245368958, -0.08996997028589249, -0.2887682020664215, 0.08424632251262665, -0.41068872809410095, 0.23761282861232758, 0.05261481553316116, 0.22781357169151306, 0.33630800247192383, -0.2867119014263153, -0.15628722310066223, -0.24871417880058289, -0.33484014868736267, 0.5081800222396851, -0.08999449759721756, -0.11702468246221542, 0.0073149679228663445, 0.2073245346546173, 0.008898132480680943, 0.15052305161952972, 0.059682685881853104, -0.031634919345378876, -0.33875906467437744, -0.11994986236095428, -0.174136221408844, -0.07977212220430374, -0.15524812042713165, 0.2370639443397522, -0.046404968947172165, 0.3307914435863495, 0.174285426735878, 0.10586436837911606, 0.05081997811794281, 0.40432778000831604, 0.14667227864265442, -0.06529820710420609, -9.414679527282715, -0.19727428257465363, 0.15428969264030457, 0.18390412628650665, 0.12563708424568176, -0.04294116050004959, -0.040033530443906784, -0.009898689575493336, 0.24415113031864166, 0.14083805680274963, -0.20382533967494965, 0.08370094001293182, 0.03762571141123772, -0.0957004651427269, -0.028499828651547432, -0.12537971138954163, 0.32578375935554504, 0.10465331375598907, -0.010790329426527023, -0.038162779062986374, 0.17077569663524628, 0.1472281664609909, 0.010678073391318321, 0.11945462226867676, 0.3504197895526886, -0.026456981897354126, -0.12519848346710205, 0.004159816540777683, 0.1316739022731781, -0.14559805393218994, -0.15065351128578186, 0.06059139221906662, -0.2510449290275574, -0.042393140494823456, 0.02160165086388588, -0.3731328248977661, 0.3849233388900757, -0.09556601196527481, -0.06694447249174118, -0.16229280829429626, 0.3264201283454895, 0.3144875764846802, -0.039379991590976715, 0.044241923838853836, -0.00037322455318644643, -0.3224111497402191, 0.45171794295310974, 0.03792202100157738, 0.007646193262189627, -0.15550704300403595, 0.3026404082775116, -0.03461804986000061, -0.5502927303314209, -0.14875847101211548, -0.5350384712219238, 0.018709907308220863, -0.04551525413990021, -0.3000057637691498, -0.0447995699942112, 0.3929325342178345, 0.4673706293106079, -0.3459976017475128, -0.11989763379096985, 0.41100889444351196, 0.050130605697631836, 0.12402774393558502, -0.047181881964206696, -0.3109622597694397, 0.10284612327814102, 0.07489369809627533, -0.4223603308200836, -0.05984394997358322, -0.3284432291984558, -0.11814722418785095, 0.1854078471660614, -0.23842278122901917, 0.09793345630168915, 0.21090100705623627, 0.00942062959074974, 0.28048625588417053, 0.01808425970375538, 0.0849292203783989, 0.16537219285964966, -0.02186799980700016, -0.13011354207992554, 0.0530160516500473, -0.20556645095348358, 0.1911708265542984, 0.13048332929611206, 0.2796018123626709, -0.020523926243185997, 0.0289008691906929, -0.135539710521698, -0.39726951718330383, -0.1969914734363556, -0.031541381031274796, -0.01366626750677824, 0.23402799665927887, -0.3646143674850464, -0.014384221285581589, -0.13830368220806122, 0.039210788905620575, -0.2475913017988205, -0.268327921628952, 0.2613510191440582, -0.006474579218775034, -0.24243995547294617, -0.19953855872154236, 0.10142137110233307, -0.12333828955888748, 0.11781098693609238, 0.06643705070018768, -0.15309423208236694, -0.08525272458791733, -0.07507771253585815, -0.15122659504413605, 0.008591939695179462, -0.37813612818717957, -0.37588074803352356, -0.018119240179657936, 0.24541527032852173, -0.07536881417036057, 0.3019917905330658, 0.05123691260814667, 0.033174920827150345, -0.11139275133609772, 0.09293919801712036, -0.07845180481672287, -0.001024062861688435, -0.2906358540058136, 0.5775721073150635, 0.054622940719127655, -0.0641518235206604, -0.014159421436488628, 0.31782013177871704, -0.2965623736381531, -0.3478899598121643, -0.05654485523700714, 0.06903445720672607, -0.12447809427976608, 0.22404256463050842, -0.13318343460559845, 0.15364432334899902, 0.09989047050476074, 0.08215603977441788, 0.3421260714530945, -0.214262455701828, -0.14726904034614563, -0.12328550219535828, -0.027209952473640442, -0.09607885777950287, 0.3467766344547272, 0.401763379573822, -0.1282569169998169, -0.21596872806549072, 0.4700643718242645, 0.2261498123407364, -0.06688530743122101, -0.060662560164928436, 0.007928198203444481, 0.18157730996608734, -0.11014612764120102, 0.16785918176174164, -0.05233553797006607, 0.2373565286397934, -0.06528175622224808, -0.020552262663841248, 0.16459065675735474, -0.11456373333930969, -0.1359696388244629, -0.05665983259677887, -0.0807710811495781, 0.1741872876882553, -0.4830828309059143, 0.06400388479232788, -0.04915893077850342, -0.31477904319763184, 0.11738487333059311, 0.022647935897111893, -0.19978216290473938, -0.19378836452960968, 0.029084283858537674, -0.1612163484096527, 0.09966743737459183, -0.12132047861814499, -0.0029028768185526133, -0.346368670463562, 0.09616991877555847, -0.0988246500492096, -0.27718761563301086, -0.07875033468008041, -0.1346733570098877, -0.03338788077235222, 0.061843957751989365, -0.04627569764852524, 0.05666762590408325, -0.34576448798179626, 0.08482857793569565, 0.02132084034383297, 0.09500934928655624, 0.1498151272535324, -0.132762148976326, 0.4905109405517578, -0.1637037843465805, 0.004479401279240847, -0.21975155174732208, 0.22767961025238037, -0.07887892425060272, 0.09967634826898575, 0.1312762200832367, -0.19235986471176147]\n",
            "Word 20 --> Embedding [-0.16797921061515808, -0.1612178534269333, -0.17847661674022675, -0.06436073780059814, 0.07993091642856598, 0.06159384921193123, 0.3382175862789154, 0.08564310520887375, -0.26471441984176636, -0.007416574750095606, 0.4667451083660126, 0.1512657105922699, -0.17681483924388885, 0.2558744251728058, 0.08230532705783844, 0.3912442624568939, -0.22502118349075317, 0.12989376485347748, 0.022275244817137718, -0.0558181069791317, -0.06536038964986801, 0.01730445772409439, -0.2148316353559494, -0.18426266312599182, 0.23835407197475433, -0.3165914714336395, 0.2145932912826538, 0.40076324343681335, -0.08448672294616699, 0.013509475626051426, -0.20350854098796844, 0.31860536336898804, 0.0229382012039423, -0.0058068218640983105, -0.15566323697566986, 0.10667285323143005, 0.052798204123973846, 0.14167241752147675, 0.17947067320346832, 0.1587856262922287, 0.14894740283489227, 0.1332363337278366, -0.1939808577299118, -0.041114628314971924, 0.19244498014450073, 0.25275275111198425, 0.35452792048454285, 0.20376157760620117, -0.1836097687482834, -0.023838208988308907, 0.18756476044654846, -0.05074867978692055, -0.23785455524921417, -0.1427455097436905, 0.0014044969575479627, -0.05011366680264473, 0.025284364819526672, 0.1441739946603775, 0.06933308392763138, 0.314416766166687, -0.19133299589157104, 0.4279985725879669, -0.10643777251243591, -0.28238657116889954, 0.014934866689145565, 0.19169095158576965, 0.5895481705665588, 0.2719810903072357, -0.06888509541749954, 0.1181069016456604, -0.34776589274406433, 0.29383108019828796, 0.07414943724870682, -0.09056635946035385, -0.08632713556289673, -0.3578149378299713, 0.13457554578781128, -0.11796101927757263, -0.1734010875225067, -0.24090032279491425, 0.1256975531578064, -0.2940816879272461, 0.22965987026691437, 0.21357662975788116, 0.017732610926032066, -0.41252461075782776, -0.28766512870788574, -0.12368085980415344, -0.211185485124588, 0.007183365989476442, -0.34004417061805725, -0.041088737547397614, 0.32832443714141846, 0.024905070662498474, 0.26999762654304504, -0.0020367249380797148, 0.03397320955991745, -0.2649710774421692, -0.1972539722919464, -0.050362326204776764, 0.035479627549648285, 0.005048177670687437, -0.225810706615448, 0.14151743054389954, 0.2574586868286133, 0.1254402995109558, -0.037267230451107025, 0.22431032359600067, 0.22990809381008148, 0.26811346411705017, 0.3803885579109192, -0.09623177349567413, 0.17321546375751495, -0.4477229416370392, 0.06386123597621918, -0.02829735539853573, -0.18960949778556824, 0.24772587418556213, -0.04218761622905731, 0.08420591056346893, 0.0346023254096508, 0.051092445850372314, -0.2795428931713104, 0.1676967889070511, 0.27262017130851746, 0.22233451902866364, -0.09718498587608337, 0.03680776432156563, 0.23795408010482788, 0.1450747400522232, -0.33854568004608154, -0.11117370426654816, 0.18884046375751495, 0.3433576226234436, 0.1784408837556839, 0.4079127311706543, -0.025912858545780182, 0.3224243223667145, -0.8308188915252686, -0.3075333535671234, -0.2695971727371216, -0.20470426976680756, 0.04521577060222626, -0.07847565412521362, 0.11066649109125137, -0.10284598916769028, -0.12218838185071945, -0.12862296402454376, 0.20607148110866547, 0.6351717710494995, 0.09277601540088654, 0.014337814413011074, -0.0026514686178416014, 0.13673904538154602, -0.08088984340429306, -0.4108618199825287, -0.024475498124957085, 0.4094882309436798, -0.14619284868240356, 0.016328521072864532, -0.13696712255477905, -0.37319955229759216, 0.2311871498823166, 0.1298428177833557, -0.2782333791255951, -0.22833798825740814, -0.04810333251953125, 0.03730016201734543, -0.1781550794839859, 0.42768824100494385, 0.0842532366514206, 0.08469066023826599, 0.03889697045087814, -0.2901790142059326, -0.09247131645679474, -0.015453909523785114, 0.35590648651123047, 0.3619488477706909, 0.6909054517745972, -0.049162834882736206, -0.041647106409072876, 0.05142635852098465, 0.23257111012935638, 0.14016225934028625, -0.08171573281288147, -0.11714475601911545, 0.2638142704963684, 0.011196920648217201, -0.0050698332488536835, -0.13544799387454987, 0.1715087741613388, -0.08631904423236847, -0.18881751596927643, -0.003945466596633196, -0.04524599015712738, -0.5459280014038086, -0.06705876439809799, 0.011903970502316952, 0.16579270362854004, 0.025129733607172966, -0.018248645588755608, 0.14110316336154938, -0.2772187888622284, -0.052833907306194305, 0.020227057859301567, 0.016823435202240944, 0.22834420204162598, -0.005934830754995346, -0.290963739156723, 0.10782285034656525, -0.20814678072929382, -0.24588192999362946, 0.36633244156837463, 0.20840533077716827, 0.2521921992301941, -0.2463853359222412, -0.2631756663322449, 0.1127977967262268, 0.12476866692304611, -0.3549725413322449, 0.5296218991279602, -0.05245897173881531, 0.12081263959407806, 0.2557390630245209, 0.024758029729127884, -0.057296738028526306, 0.028394823893904686, 0.12551535665988922, 0.18227073550224304, -0.13808012008666992, -0.06731358915567398, -0.06188430264592171, 0.017612693831324577, 0.33434781432151794, -0.014375453814864159, -0.03530571237206459, -0.5866217017173767, 0.18516406416893005, -0.12554572522640228, 0.06917189061641693, -0.18093879520893097, 0.014463775791227818, 0.034378740936517715, -0.015494721941649914, 0.12882839143276215, -0.20892563462257385, -0.06698250770568848, 0.19113220274448395, 0.4949653148651123, -0.21486160159111023, 0.2903802692890167, 0.03224403038620949, -0.5771203637123108, 0.26978984475135803, -0.04291735589504242, 0.1412283182144165, 0.30866435170173645, -0.053967174142599106, 0.0840916857123375, -0.07262913137674332, 0.01982421800494194, 0.5409354567527771, -0.08806516975164413, -0.2503041923046112, -0.11020635813474655, -0.05449178069829941, -0.14524707198143005, 0.08565502613782883, -0.09166429191827774, -0.27666357159614563, -0.13641144335269928, -0.19700579345226288, -0.01586674526333809, 0.26785579323768616, -0.26131194829940796, -0.09676272422075272, 0.0555550791323185, -0.04902087152004242, 0.19245116412639618, -0.41033098101615906, 0.17373579740524292, -0.05532098188996315, -0.03423791751265526, 0.21709226071834564, 0.29742875695228577, -0.11540424078702927, -0.03297517076134682, 0.24128100275993347, -0.038294609636068344, -0.14770057797431946, -0.0011521140113472939, -0.3581025302410126, -0.08553387224674225, 0.31598174571990967, 0.16241195797920227, 0.41267848014831543, -0.30589401721954346, 0.2908785045146942, -0.3807756304740906, 0.12043889611959457, 0.09898058325052261, -0.0022885389626026154, 0.13987551629543304, 0.12952011823654175, 0.045981694012880325, 0.22924217581748962, 0.054069310426712036, 0.3928839862346649, -0.007818679325282574, -0.05454364791512489, -0.150564506649971, 0.05605257302522659, -0.11913257092237473, 0.10691934823989868, 0.07654403895139694, -0.21188147366046906, -0.10581889748573303, 0.3163332939147949, 0.377688467502594, -0.1400969922542572, -0.07768882066011429, 0.2899084687232971, -0.20995193719863892, -0.1443716138601303, -0.16892102360725403, 0.1289694905281067, -0.14561988413333893, -0.4149036705493927, 0.05128365382552147, -0.05299622565507889, -0.11047331988811493, -0.13521072268486023, -0.23510099947452545, -0.2198808342218399, -0.10360877215862274, -0.08935850113630295, -0.2769712805747986, -0.07452164590358734, 0.06949415057897568, -0.004821362905204296, -0.09477180987596512, 0.19299697875976562, -0.009878885000944138, 0.13127166032791138, -0.07432837784290314, 0.11888016760349274, -0.20445725321769714, 0.1061108335852623, -0.2557762563228607, -0.24913641810417175, 0.3962571620941162, 0.04416894167661667, -0.2980183959007263, 0.057979390025138855, 0.0969400405883789, -0.13794755935668945, -0.145268514752388, 0.28632232546806335, 0.11541088670492172, -0.00851486623287201, 0.1391204595565796, -0.01881595142185688, 0.25000113248825073, 0.20553642511367798, 0.13067497313022614, 0.40809667110443115, 0.13787825405597687, -0.13610777258872986, -0.1019834578037262, 0.14348572492599487, -0.06755568087100983, -0.18697136640548706, 0.27559155225753784, 0.5733743906021118, -0.15697020292282104, 0.4492562413215637, 0.07778286933898926, 0.083647720515728, -0.13169457018375397, -0.11523349583148956, 0.13352276384830475, -0.10055667161941528, 0.0184028297662735, 0.0012977407313883305, -0.21937230229377747, -0.007537775672972202, 0.3796814978122711, -0.34171077609062195, 0.27497103810310364, 0.3489510118961334, -0.08651190996170044, -0.05634096637368202, 0.024516217410564423, -0.21995839476585388, -0.016325362026691437, -0.20482486486434937, -0.00288011715747416, 0.1702992171049118, -0.29706764221191406, 0.08124218136072159, -0.1921972930431366, 0.1079418957233429, -0.1659410297870636, 0.3924734592437744, -0.12331561744213104, -0.12471910566091537, 0.08898883312940598, -0.095463827252388, 0.026938308030366898, 0.07179637253284454, 0.2608596682548523, -0.30549222230911255, 0.1753191500902176, 0.01872231625020504, 0.0016693908255547285, 0.27220988273620605, -0.12080894410610199, 0.49001240730285645, -0.01165507361292839, 0.15514351427555084, -0.1449473649263382, -0.22967126965522766, 0.08202772587537766, 0.2641911804676056, 0.23351149260997772, -0.21941453218460083, -0.21962019801139832, 0.02234494872391224, -0.14228905737400055, -0.18904531002044678, 0.44387179613113403, -0.15098191797733307, -0.011010991409420967, -0.18019211292266846, 0.17916114628314972, 0.2096184492111206, -0.12302681803703308, -0.05183480679988861, -0.06728070974349976, -0.015613004565238953, -0.06882864981889725, 0.24247966706752777, -0.15102502703666687, 0.3805120885372162, 0.10502009838819504, 0.5063166618347168, -0.005907965824007988, 0.07357301563024521, 0.16244465112686157, 0.15596649050712585, -0.023510804399847984, -0.20977574586868286, 0.002372116781771183, 0.12648597359657288, 0.310834139585495, 0.046706754714250565, 0.23332129418849945, -0.0179532989859581, -0.16492952406406403, 0.25893375277519226, 0.14406132698059082, 0.008064206689596176, -0.047804903239011765, 0.028142958879470825, 0.09808504581451416, 0.08772044628858566, 0.038628824055194855, 0.6274623870849609, 0.06740757822990417, -0.2557944357395172, -0.029001960530877113, 0.3616897165775299, 0.2381308674812317, 0.08305482566356659, 0.022824276238679886, 0.4304673671722412, -0.1757194548845291, 0.15303580462932587, -0.14585360884666443, 0.3060360252857208, -0.02258022129535675, -0.11281927675008774, 0.17260859906673431, -0.04070853441953659, 0.25258922576904297, -0.1576615422964096, 0.1505022495985031, -0.1889764964580536, 0.012280874885618687, 0.02478395588696003, -0.1667308360338211, 0.05379408970475197, -0.16422754526138306, 0.27867335081100464, 0.06648348271846771, -0.037257030606269836, 0.1599874347448349, -0.04848910868167877, -0.2260500192642212, -0.05831191688776016, -0.0766979530453682, -0.06418000906705856, -0.06524015218019485, 0.10646247118711472, 0.04632168635725975, 0.5080779194831848, 0.012230259366333485, 0.23653222620487213, 0.22128430008888245, -0.2140612006187439, -0.1620999425649643, -0.09860560297966003, -0.12918071448802948, -0.02515089139342308, -0.09006880968809128, -0.18409961462020874, 0.0012853008229285479, 0.10752934962511063, -0.11676042526960373, 0.04178455099463463, -0.027537234127521515, -0.22329096496105194, -0.09382972866296768, -0.1689523458480835, 0.024128222838044167, -0.41313791275024414, 0.06779636442661285, 0.08245597034692764, 0.2847769260406494, 0.338733434677124, -0.29399991035461426, -0.2679748237133026, -0.18829403817653656, -0.2575659155845642, 0.4000602066516876, -0.02740464359521866, 0.030134668573737144, 0.01154619175940752, 0.24973240494728088, 0.07413093000650406, 0.21837705373764038, -0.07146815955638885, -0.11386623978614807, -0.3167684078216553, -0.2476174682378769, -0.0817381739616394, -0.14024780690670013, -0.15723270177841187, 0.30517175793647766, -0.04683364927768707, 0.36049965023994446, 0.1704171746969223, 0.10059835016727448, 0.05992133170366287, 0.45085200667381287, 0.2907710671424866, -0.16656745970249176, -9.38852310180664, -0.11048965901136398, 0.009862139821052551, 0.13339641690254211, 0.09024644643068314, -0.021466879174113274, 0.049626413732767105, -0.10636497288942337, 0.20044852793216705, 0.22872687876224518, -0.26216188073158264, 0.04686468467116356, -0.0451582670211792, -0.06670019030570984, -0.05886177718639374, -0.16752959787845612, 0.2503501772880554, 0.03550354391336441, 0.017270240932703018, -0.03269408270716667, 0.11897111684083939, 0.11417239904403687, 0.018801916390657425, 0.001953303348273039, 0.2682822644710541, 0.0431034192442894, -0.07576435059309006, -0.09472540020942688, 0.14364957809448242, -0.21566656231880188, -0.09389080107212067, 0.009111079387366772, -0.2793215215206146, -0.11289281398057938, 0.02369072660803795, -0.3917247951030731, 0.3920910954475403, -0.11252860724925995, -0.026734739542007446, -0.2335161715745926, 0.3349732458591461, 0.3149426579475403, 0.00829207245260477, 0.0293036550283432, 0.11289578676223755, -0.2454221248626709, 0.41268667578697205, -0.035640548914670944, 0.018479526042938232, -0.16008345782756805, 0.291720986366272, 0.01095910370349884, -0.5631176829338074, -0.02328047901391983, -0.5623753666877747, -0.02729055844247341, -0.06098074093461037, -0.2899010181427002, -0.13315647840499878, 0.44064971804618835, 0.4843067526817322, -0.3059248924255371, -0.11204982548952103, 0.3402920961380005, 0.06004992499947548, 0.18604514002799988, -0.044177617877721786, -0.2657109498977661, 0.16969668865203857, 0.13147693872451782, -0.316130131483078, -0.00458440650254488, -0.375824511051178, -0.20736061036586761, 0.2600630223751068, -0.29660096764564514, 0.1405659168958664, 0.16743125021457672, 0.02656610682606697, 0.3034204840660095, -0.04234966263175011, -0.13334649801254272, 0.2548297941684723, -0.03117210417985916, -0.1570892632007599, 0.12731578946113586, -0.11625907570123672, 0.254265159368515, 0.20314034819602966, 0.290802925825119, 0.06604719161987305, 0.045938633382320404, -0.20783616602420807, -0.36567455530166626, -0.232910618185997, -0.09124332666397095, -0.024139896035194397, 0.21651852130889893, -0.3818548917770386, -0.0380573570728302, -0.07384616136550903, 0.22182366251945496, -0.14462532103061676, -0.2904004752635956, 0.29615190625190735, 0.02457517385482788, -0.212196946144104, -0.2412804216146469, 0.18167541921138763, -0.17484229803085327, 0.06575498729944229, -0.0690205842256546, -0.17527399957180023, -0.0496075265109539, -0.17483215034008026, -0.16102561354637146, 0.06997980177402496, -0.4790213704109192, -0.21775342524051666, -0.06166239082813263, 0.27036988735198975, -0.0072408681735396385, 0.27714431285858154, 0.02600688673555851, 0.07875597476959229, -0.05928398296236992, 0.07103978097438812, 0.0329120010137558, 0.013325856998562813, -0.25943711400032043, 0.45333072543144226, -0.017966702580451965, -0.017122674733400345, -0.10992082208395004, 0.3699193298816681, -0.30760473012924194, -0.47453728318214417, -0.10231299698352814, 0.13096705079078674, -0.05264675244688988, 0.25343558192253113, -0.1255863606929779, 0.13995380699634552, 0.24036982655525208, 0.05320701375603676, 0.346196711063385, -0.2518133223056793, -0.09823701530694962, -0.11076443642377853, 0.001659643603488803, -0.01170177012681961, 0.3006564676761627, 0.43417254090309143, -0.08336851745843887, -0.22583703696727753, 0.4455735683441162, 0.18459807336330414, -0.017874479293823242, -0.006025224458426237, -0.09741369634866714, 0.14746633172035217, -0.13782517611980438, 0.24189577996730804, 0.02618054859340191, 0.20488323271274567, -0.09699998050928116, 0.004012583754956722, 0.2391538769006729, -0.08856311440467834, -0.2489020973443985, -0.18904094398021698, -0.14351050555706024, 0.16225746273994446, -0.5349978804588318, 0.09477009624242783, -0.046809349209070206, -0.30007457733154297, 0.0048829298466444016, -0.003690074197947979, -0.15911641716957092, -0.37188443541526794, -0.03383062034845352, -0.020022058859467506, 0.13099277019500732, -0.021771401166915894, -0.09386063367128372, -0.4144396483898163, 0.04522543027997017, -0.04982534423470497, -0.14273689687252045, -0.1694209724664688, -0.1126309186220169, 0.10302220284938812, -0.014023798517882824, -0.20432274043560028, 0.10583996772766113, -0.35888534784317017, 0.046191565692424774, 0.07854670286178589, 0.0707339271903038, 0.048599548637866974, -0.15459570288658142, 0.5309210419654846, -0.24188166856765747, 0.02883354388177395, -0.2501669228076935, 0.2876769006252289, -0.04432012513279915, 0.014088539406657219, 0.1934479922056198, -0.2740701735019684]\n",
            "Word 21 --> Embedding [0.01209426298737526, -0.05354048311710358, 0.025332966819405556, 0.012755169533193111, 0.2034938782453537, 0.0009327593143098056, 0.34612149000167847, 0.37444859743118286, -0.19874994456768036, 0.03951037675142288, 0.3845672309398651, 0.17237284779548645, -0.22889180481433868, 0.27847519516944885, 0.07695630937814713, 0.48974642157554626, -0.1325283795595169, 0.13266973197460175, 0.08249212056398392, 0.06405068188905716, -0.17584002017974854, -0.02208685129880905, -0.2712888717651367, -0.18335668742656708, 0.2763725221157074, -0.4173203706741333, 0.32249191403388977, 0.4609900712966919, -0.2745398283004761, 0.09123571217060089, -0.27682504057884216, 0.47244635224342346, 0.09608079493045807, 0.004265913274139166, -0.20275454223155975, -0.15686145424842834, 0.336172491312027, 0.01787268929183483, 0.16533736884593964, 0.17346471548080444, 0.028194589540362358, 0.11847884207963943, -0.25379687547683716, 0.054110992699861526, 0.33004212379455566, 0.3614879250526428, 0.30166488885879517, 0.08105314522981644, 0.03249962627887726, 0.15067437291145325, 0.18880298733711243, -0.2045234590768814, -0.11617522686719894, 0.08862453699111938, -0.12687137722969055, 0.12013079971075058, 0.08431009203195572, 0.07436960190534592, 0.08689442276954651, 0.47782889008522034, -0.06824535876512527, 0.21036924421787262, 0.035899143666028976, -0.10473263263702393, 0.07817965745925903, 0.17087122797966003, 0.5875305533409119, 0.14805322885513306, 0.05284193530678749, 0.3387526869773865, -0.3969901204109192, -0.005859788972884417, -0.1089029535651207, -0.07692014425992966, 0.00877370685338974, -0.18545794486999512, 0.13415399193763733, -0.17228186130523682, -0.25244396924972534, -0.34635093808174133, 0.22994977235794067, -0.3272152841091156, 0.12926693260669708, 0.10777860134840012, -0.03298473730683327, -0.46255776286125183, -0.28602272272109985, 0.03791439160704613, -0.021291764453053474, 0.03582240268588066, -0.22715775668621063, -0.07583298534154892, 0.005697210785001516, -0.06183427944779396, 0.15634100139141083, 0.10496682673692703, -0.025066927075386047, -0.39049607515335083, -0.02130136266350746, -0.0792926624417305, -0.10929220914840698, -0.10105771571397781, -0.14595897495746613, 0.3100997507572174, 0.08908301591873169, 0.0292125903069973, -0.11374852806329727, 0.06626994907855988, 0.05907583236694336, 0.24026791751384735, 0.4371282458305359, -0.03967910632491112, 0.08411615341901779, -0.27270805835723877, -0.088197261095047, -0.017705406993627548, -0.09687461704015732, 0.17187201976776123, -0.05538444221019745, -0.08395269513130188, 0.15021966397762299, -0.12548956274986267, -0.04613162577152252, 0.18118321895599365, 0.12192636728286743, 0.3097630739212036, -0.050627775490283966, -0.05120258778333664, 0.2473154217004776, 0.14423656463623047, -0.26537513732910156, -0.07412231713533401, 0.21564623713493347, 0.49554556608200073, 0.19413764774799347, 0.2447744458913803, 0.007602495141327381, 0.5171098113059998, -0.8383954763412476, -0.35495299100875854, -0.49214741587638855, -0.0538623221218586, -0.055241845548152924, -0.15068113803863525, -0.011315829120576382, -0.24508200585842133, -0.07083722949028015, -0.024844083935022354, 0.24563373625278473, 0.5654157996177673, 0.19038064777851105, -0.08458777517080307, -0.09352479875087738, 0.08190495520830154, 0.041038647294044495, -0.2953093647956848, 0.07716106623411179, 0.17114192247390747, -0.035472821444272995, -0.08050680160522461, -0.18586991727352142, -0.4630524814128876, -0.11761385947465897, 0.059274762868881226, -0.27159354090690613, -0.2542685568332672, -0.020302973687648773, 0.12445995211601257, -0.2676531970500946, 0.4659726917743683, 0.21700969338417053, 0.05692065879702568, -0.07941465079784393, -0.3581382632255554, -0.11473328620195389, -0.15668649971485138, 0.13608241081237793, 0.2626956105232239, 0.3737040162086487, 0.034845925867557526, 0.12137392908334732, -0.024409867823123932, 0.18497751653194427, 0.11490489542484283, -0.2708775997161865, -0.016296513378620148, 0.16027037799358368, 0.09706167876720428, 0.19386866688728333, -0.16967344284057617, 0.0995384231209755, -0.17051152884960175, -0.2790428102016449, 0.030342871323227882, 0.11826388537883759, -0.5395539999008179, -0.12414117902517319, 0.08789382874965668, 0.14325712621212006, 0.09546788036823273, -0.19938242435455322, 0.1511877477169037, -0.09718411415815353, -0.07006368041038513, 0.3765566349029541, -0.1605064570903778, 0.04081904888153076, 0.0548248365521431, -0.11536131799221039, 0.024923104792833328, -0.1659555733203888, -0.17031192779541016, 0.3577187955379486, 0.3215908408164978, 0.3928384482860565, -0.29477205872535706, -0.22453610599040985, 0.06152964383363724, 0.07616066932678223, -0.33870595693588257, 0.05265478789806366, 0.13145393133163452, 0.17962606251239777, 0.4121195673942566, 0.037792377173900604, -0.14453481137752533, -0.08247260749340057, 0.09272593259811401, 0.1725587695837021, -0.09991037100553513, -0.00813495833426714, 0.02941238321363926, 0.015911908820271492, 0.3219688832759857, 0.14758579432964325, -0.07457876205444336, -0.36770012974739075, 0.025714803487062454, -0.4212491810321808, -0.06601890921592712, -0.07512467354536057, 0.025563886389136314, -0.0523262694478035, 0.2601725161075592, 0.04502034932374954, 0.0005454223719425499, -0.07646294683218002, 0.16285401582717896, 0.214582622051239, -0.19294771552085876, 0.08995218575000763, -0.11407452821731567, -0.4038149416446686, 0.1390012502670288, -0.07386873662471771, 0.06452234834432602, 0.13970911502838135, 0.017909161746501923, 0.1176501214504242, -0.34232065081596375, -0.027618614956736565, 0.4327215850353241, 0.12011383473873138, -0.15492454171180725, 0.037481050938367844, -0.23164382576942444, -0.0025271151680499315, 0.134144589304924, -0.03853977844119072, -0.0029837144538760185, 0.009136546403169632, -0.24067603051662445, -0.08401896804571152, 0.12035653740167618, -0.1381053924560547, -0.13941821455955505, 0.23635844886302948, -0.01180204562842846, 0.2059217244386673, -0.30531132221221924, 0.26258909702301025, -0.013776940293610096, -0.1332015097141266, 0.15092651546001434, -0.1914960741996765, -0.170039102435112, 0.0846521332859993, -0.0033916053362190723, -0.03219759836792946, -0.3458902835845947, -0.07498650252819061, -0.22910527884960175, -0.19978781044483185, 0.11720500886440277, 0.25398823618888855, 0.10009925812482834, -0.30564478039741516, 0.2649957835674286, -0.21212182939052582, 0.1698348969221115, 0.15232907235622406, 0.03226081281900406, 0.12878571450710297, 0.09822957217693329, -0.07217997312545776, 0.13569432497024536, -0.010448315180838108, 0.33750802278518677, 0.14246061444282532, -0.0724334865808487, -0.09428875148296356, 0.14862312376499176, -0.1297326534986496, -0.010861971415579319, -0.016175178810954094, -0.19157774746418, 0.01129917986690998, 0.2650860846042633, 0.46588701009750366, -0.09437999874353409, 0.04563479498028755, 0.44628486037254333, -0.27807050943374634, -0.09090609103441238, -0.17846477031707764, 0.13725920021533966, -0.06513803452253342, -0.3021741211414337, -0.0863712951540947, 0.02456442080438137, -0.09164264053106308, 0.041071243584156036, -0.13850076496601105, -0.17988009750843048, 0.09062670171260834, -0.09623755514621735, -0.12416438013315201, 0.019222484901547432, 0.2740878462791443, 0.08236604928970337, 0.04493582621216774, 0.09794402122497559, -0.1933262199163437, 0.17530584335327148, -0.016623757779598236, 0.1636248528957367, -0.1864681988954544, -0.05896066129207611, -0.2007187455892563, -0.07115896791219711, 0.4792036712169647, 0.06645547598600388, -0.39448246359825134, 0.07070630043745041, 0.23697452247142792, 0.07384869456291199, -0.25547540187835693, 0.098635233938694, 0.10577696561813354, 0.06270049512386322, 0.06171053647994995, -0.1465584635734558, 0.27138346433639526, 0.26372742652893066, 0.2580553889274597, 0.1998022347688675, -0.0436822846531868, -0.009954327717423439, -0.12863850593566895, 0.21284721791744232, -0.2826159596443176, -0.3572610318660736, 0.2201271653175354, 0.3916464149951935, -0.2260858118534088, 0.3578156530857086, 0.04973292350769043, 0.024309558793902397, 0.05257369577884674, -0.11169672012329102, 0.21345780789852142, -0.06577572226524353, -0.022382978349924088, 0.10911783576011658, -0.3225539028644562, -0.007085255812853575, 0.24928735196590424, -0.34181976318359375, 0.5290951132774353, 0.26034530997276306, 0.0845879316329956, 0.010932221077382565, 0.11545852571725845, 0.054506365209817886, -0.2172393500804901, -0.009799685329198837, 0.0347566157579422, 0.04530848190188408, -0.3227141201496124, 0.13137783110141754, 0.045559853315353394, 0.20205116271972656, -0.0006681963568553329, 0.46674636006355286, -0.07812891900539398, -0.02111504226922989, 0.013426854275166988, -0.19512604176998138, 0.14049771428108215, 0.024308444932103157, 0.2221929281949997, -0.5725198984146118, 0.12823250889778137, 0.10952112078666687, 0.11262482404708862, 0.08027834445238113, -0.1065669134259224, 0.48923107981681824, 0.1434914618730545, -0.16789370775222778, -0.09530774503946304, -0.28094837069511414, 0.07184939086437225, 0.30573320388793945, 0.08870163559913635, -0.0565909817814827, -0.3751826584339142, 0.20292367041110992, -0.2660679221153259, -0.11556027084589005, 0.24041691422462463, -0.13070745766162872, 0.14593496918678284, -0.23191380500793457, 0.16590842604637146, 0.14751030504703522, -0.15182454884052277, -0.15679813921451569, -0.040567781776189804, -0.03906956687569618, -0.12169450521469116, 0.20695540308952332, 0.09029853343963623, 0.17736072838306427, 0.0913059338927269, 0.32304057478904724, -0.034500278532505035, 0.08584056049585342, 0.1892119199037552, 0.27019450068473816, -0.32021450996398926, 0.010207765735685825, 0.10176591575145721, 0.24191710352897644, 0.23552992939949036, -0.026020130142569542, 0.1744360774755478, -0.1135847195982933, -0.17032870650291443, 0.28501662611961365, 0.16638925671577454, 0.10942071676254272, -0.001549063134007156, -0.03050285577774048, 0.18231825530529022, 0.09991808235645294, 0.028544731438159943, 0.9240345358848572, 0.1978253424167633, -0.41009974479675293, -0.02211379073560238, 0.278904527425766, 0.1307370662689209, 0.15254080295562744, 0.00946100614964962, 0.42898306250572205, -0.23085269331932068, 0.2040378749370575, 0.06042025610804558, 0.15850067138671875, -0.08748481422662735, -0.3472365438938141, 0.04195621609687805, 0.06183658167719841, 0.27378860116004944, -0.15741635859012604, 0.19004814326763153, -0.04469219967722893, -0.1563308835029602, -0.06560663133859634, 0.05348058044910431, -0.04830841347575188, -0.07183327525854111, -0.027514491230249405, 0.1996210664510727, -0.1412903368473053, 0.23598089814186096, 0.07987438142299652, -0.23315049707889557, -0.1567479968070984, -0.1766786128282547, 0.020034372806549072, -0.1261768490076065, 0.12424732744693756, 0.07803288847208023, 0.6204349994659424, -0.015647565945982933, 0.34399423003196716, 0.2164001613855362, -0.31098470091819763, -0.08472342789173126, -0.2530681788921356, -0.03134208545088768, -0.02269192971289158, -0.017042195424437523, -0.1520196497440338, -0.13323040306568146, 0.38031846284866333, -0.18785227835178375, -0.0075065274722874165, 0.011004381813108921, -0.15638338029384613, 0.019990580156445503, -0.1597396284341812, -0.08296471834182739, -0.43626299500465393, 0.2421242594718933, 0.2012595236301422, 0.2923556864261627, -0.027785461395978928, -0.34122490882873535, -0.26921361684799194, -0.13882136344909668, -0.33059197664260864, 0.46348172426223755, -0.06109403818845749, 0.06746336817741394, 0.15904785692691803, 0.20595930516719818, 0.1026403084397316, 0.15628594160079956, 0.0035470882430672646, -0.08793550729751587, -0.2931042015552521, -0.1722842901945114, -0.11643712967634201, -0.17584726214408875, -0.18363013863563538, 0.2808508276939392, -0.06954076141119003, 0.22509798407554626, 0.1700090914964676, 0.024271657690405846, -0.07472790777683258, 0.3609396815299988, 0.011811017990112305, -0.21854133903980255, -9.398411750793457, -0.18976175785064697, 0.2196287363767624, -0.005762290675193071, 0.03761250525712967, -0.10636232048273087, -0.02883436344563961, -0.18464072048664093, 0.2002669721841812, 0.199251189827919, -0.20718133449554443, 0.13248896598815918, 0.03236054629087448, -0.015238570980727673, -0.0253866259008646, -0.1348184198141098, 0.17989061772823334, -0.025168754160404205, -0.08761373162269592, -0.01265739556401968, 0.2787747383117676, 0.02533859945833683, 0.19911566376686096, 0.2522810995578766, 0.20609404146671295, -0.04436592385172844, -0.00471307011321187, -0.13479463756084442, 0.04808679595589638, -0.3344789147377014, -0.0666569247841835, 0.10043526440858841, -0.16111180186271667, -0.06418214738368988, 0.008213558234274387, -0.39459922909736633, 0.13776220381259918, -0.1128251776099205, -0.023940231651067734, -0.16458402574062347, 0.061739929020404816, 0.24035367369651794, -0.11085454374551773, -0.020773034542798996, 0.060416121035814285, -0.3762051463127136, 0.4236016273498535, 0.1367506980895996, 0.08538804203271866, -0.07572920620441437, 0.5183290839195251, -0.014056901447474957, -0.5965006351470947, -0.07626993954181671, -0.6600361466407776, 0.0018661823123693466, -0.06533170491456985, -0.12530165910720825, -0.25656238198280334, 0.1922551393508911, 0.3882675766944885, -0.31850317120552063, -0.030665583908557892, 0.40172505378723145, 0.0835995301604271, 0.08927462995052338, -0.21700726449489594, -0.12792102992534637, 0.16972166299819946, -0.049728360027074814, -0.38705068826675415, -0.2125808596611023, -0.39555296301841736, -0.002288674935698509, 0.38770416378974915, -0.15597672760486603, 0.20117071270942688, 0.26285287737846375, 0.041026521474123, 0.4438825845718384, -0.052394792437553406, 0.10145054757595062, 0.1815020889043808, 0.04788213223218918, -0.07382307201623917, 0.26325494050979614, -0.24703897535800934, 0.208762064576149, 0.22567154467105865, 0.19320271909236908, -0.10725689679384232, 0.044255152344703674, -0.1489844173192978, -0.10781323164701462, -0.31962651014328003, -0.024127230048179626, 0.03828970715403557, 0.30200451612472534, -0.5936098694801331, 0.10160279273986816, -0.16228501498699188, 0.07684711366891861, -0.04739530384540558, -0.2546817362308502, 0.2574356198310852, -0.004077149089425802, -0.014188027009367943, -0.26779186725616455, -0.0015547582879662514, -0.09948086738586426, 0.0724906399846077, 0.044672686606645584, -0.005036834627389908, 0.06276001036167145, -0.36701861023902893, -0.23703132569789886, 0.2516773045063019, -0.3838733434677124, -0.04655017703771591, 0.05202804133296013, 0.12206260859966278, -0.028046883642673492, 0.3016301989555359, -0.029381990432739258, -0.01367887295782566, -0.017945678904652596, 0.05641838163137436, -0.022589346393942833, 0.21144993603229523, -0.24519775807857513, 0.4233018159866333, 0.019280267879366875, 0.027224482968449593, -0.023204071447253227, 0.09428199380636215, -0.25426673889160156, -0.46785977482795715, 0.026899399235844612, 0.048598937690258026, 0.018053287640213966, 0.2213106006383896, -0.266216516494751, -0.01949472725391388, 0.30333179235458374, 0.03470863029360771, 0.3262712359428406, 0.04112452268600464, -0.20113618671894073, -0.036939237266778946, -0.131849005818367, -0.3514019250869751, 0.39686477184295654, 0.210837259888649, -0.05604276806116104, -0.2141033560037613, 0.472868412733078, 0.16322638094425201, -0.10105717927217484, -0.11341032385826111, -0.18437735736370087, 0.19569246470928192, -0.02967885136604309, 0.13791590929031372, 0.08515402674674988, 0.07106244564056396, -0.18705740571022034, -0.014992565847933292, 0.36982646584510803, -0.03207127004861832, -0.13009171187877655, -0.2848537862300873, -0.20267750322818756, 0.2195470929145813, -0.4206693470478058, -0.02444400265812874, -0.2106701284646988, -0.2699025571346283, 0.11895062029361725, 0.16156631708145142, -0.15974511206150055, -0.26054123044013977, 0.12111575901508331, -0.2701491415500641, -0.05498388409614563, 0.0176282599568367, 0.06833867728710175, -0.3185262978076935, 0.10745538026094437, 0.06893804669380188, 0.05409814789891243, 0.02433985471725464, -0.1577049344778061, 0.18839089572429657, 0.09658865630626678, 0.06851768493652344, -0.05454772338271141, -0.26775315403938293, 0.020827334374189377, -0.06218353658914566, 0.14087510108947754, -0.021303445100784302, -0.014140969142317772, 0.29590174555778503, -0.2955784201622009, -0.11322589963674545, -0.019299840554594994, 0.2345353066921234, -0.2152646780014038, 0.10028880089521408, -0.0009160087793134153, -0.2571149170398712]\n",
            "Word 22 --> Embedding [-0.045902855694293976, -0.08549129217863083, -0.07756587117910385, 0.061957426369190216, 0.31063488125801086, 0.02516954392194748, 0.40770089626312256, 0.2640600800514221, -0.21826136112213135, -0.020262688398361206, 0.4453650712966919, 0.17761746048927307, -0.2183300107717514, 0.29704901576042175, -0.0066749523393809795, 0.40597859025001526, -0.006771671120077372, 0.0012580979382619262, 0.18818004429340363, 0.0036805386189371347, -0.2457713633775711, 0.016065029427409172, -0.27435949444770813, -0.1635953038930893, 0.20538832247257233, -0.3431442081928253, 0.24061736464500427, 0.4636910557746887, -0.17232535779476166, 0.09996823966503143, -0.19244837760925293, 0.38327556848526, 0.03624522313475609, -0.026298267766833305, -0.11952932178974152, -0.05607011541724205, 0.211093470454216, 0.1268928050994873, 0.18759219348430634, 0.20040296018123627, -0.035473696887493134, 0.02557452954351902, -0.20504848659038544, 0.08608503639698029, 0.24998551607131958, 0.40480130910873413, 0.1829623281955719, 0.07122499495744705, 0.005430025048553944, 0.14677377045154572, 0.12206840515136719, -0.2450529932975769, -0.10658324509859085, -0.039134833961725235, -0.08679039776325226, -0.0014682741602882743, 0.18359513580799103, 0.07605089247226715, 0.17870771884918213, 0.4174213111400604, -0.08698839694261551, 0.15838837623596191, 0.036179251968860626, -0.03236138075590134, 0.1574021875858307, 0.12610501050949097, 0.5165156126022339, 0.20581679046154022, 0.07044617831707001, 0.23647138476371765, -0.4187999963760376, 0.05537613853812218, -0.05751442536711693, -0.0637902095913887, -0.04961115121841431, -0.3460315763950348, 0.12239325791597366, -0.055961087346076965, -0.303516149520874, -0.37505143880844116, 0.32060402631759644, -0.2600063979625702, 0.13431888818740845, 0.038380637764930725, 0.09978435933589935, -0.42159348726272583, -0.2321188598871231, 0.1717311292886734, 0.06462819129228592, 0.03328181803226471, -0.3269936442375183, -0.06419534236192703, 0.07174064218997955, 0.022492218762636185, 0.1631193310022354, 0.01210143230855465, -0.0033226702362298965, -0.2685191035270691, -0.09823605418205261, 0.031921207904815674, 0.09820257872343063, -0.07531816512346268, -0.1499534696340561, 0.24595607817173004, 0.13455252349376678, 0.0665990561246872, -0.1435219794511795, 0.12028321623802185, -0.006512774620205164, 0.26972225308418274, 0.3926563560962677, -0.12850657105445862, 0.14028681814670563, -0.3157714605331421, -0.12499383836984634, 0.01759093441069126, -0.16735579073429108, 0.2468683123588562, -0.04521491006016731, -0.11950934678316116, 0.06433071941137314, -0.08558864146471024, -0.14215219020843506, 0.1290370374917984, 0.022121096029877663, 0.3377138674259186, -0.08054765313863754, -0.02552398294210434, 0.28311246633529663, 0.1004553735256195, -0.2804822027683258, -0.06859937310218811, 0.27379918098449707, 0.441355437040329, 0.1787073314189911, 0.1782955676317215, 0.06787379086017609, 0.5080243945121765, -0.8079971671104431, -0.3441736400127411, -0.47669368982315063, -0.05988753214478493, 0.023072214797139168, -0.17594237625598907, 0.07543351501226425, -0.25029346346855164, -0.007062260992825031, -0.07311724871397018, 0.27340462803840637, 0.49249550700187683, 0.14827503263950348, -0.058826036751270294, -0.03292754665017128, 0.10653193295001984, -0.003108692355453968, -0.39440709352493286, 0.012472724542021751, 0.16172726452350616, -0.0595947802066803, -0.04978369176387787, -0.24572043120861053, -0.4268741309642792, -0.11410082131624222, 0.1702549308538437, -0.335151731967926, -0.32262536883354187, 0.1764419823884964, 0.1001269519329071, -0.20566508173942566, 0.3299529552459717, 0.23302145302295685, -0.008424309082329273, -0.039598967880010605, -0.43164828419685364, -0.023450208827853203, -0.12671998143196106, 0.10256046801805496, 0.328835666179657, 0.3708602488040924, -0.009884337894618511, 0.16227813065052032, -0.025250960141420364, 0.20178136229515076, 0.12015700340270996, -0.2445661872625351, -0.043704692274332047, 0.06661990284919739, 0.0897454023361206, 0.21952149271965027, -0.09541407227516174, 0.13059404492378235, -0.24008813500404358, -0.22311531007289886, -0.08364803344011307, -0.007052616216242313, -0.405901163816452, -0.046175189316272736, 0.06310363858938217, 0.21250784397125244, 0.13463619351387024, -0.2346714287996292, 0.005418764427304268, -0.1437472701072693, -0.06683775782585144, 0.29144978523254395, -0.11568807065486908, -0.03152724355459213, 0.1729324609041214, -0.16280481219291687, 0.06547269225120544, -0.07734530419111252, -0.22052700817584991, 0.2585143446922302, 0.37788450717926025, 0.26723361015319824, -0.27229392528533936, -0.24682509899139404, -0.022674638777971268, 0.016083642840385437, -0.2861933708190918, 0.08835013210773468, 0.11536979675292969, 0.053286708891391754, 0.3626019060611725, 0.030873436480760574, -0.1656510978937149, -0.1353229582309723, 0.18267302215099335, 0.18015116453170776, -0.15765875577926636, -0.014285768382251263, 0.017090070992708206, -0.044660236686468124, 0.31635746359825134, 0.05907393991947174, -0.08346714824438095, -0.34072259068489075, 0.034728311002254486, -0.4083643853664398, 0.03009764477610588, -0.01811332069337368, -0.039223846048116684, -0.010867984965443611, 0.29287466406822205, 0.06571713089942932, 0.12740394473075867, 0.03815033659338951, 0.14573253691196442, 0.16745106875896454, -0.2732603847980499, 0.09690175950527191, -0.15737847983837128, -0.44855934381484985, 0.2496458888053894, -0.044226519763469696, 0.019970349967479706, 0.13421502709388733, -0.026629680767655373, 0.07125993818044662, -0.21684639155864716, -0.050413161516189575, 0.47011107206344604, 0.23811349272727966, -0.13804863393306732, 0.023835837841033936, -0.1325494945049286, -0.015682855620980263, 0.12600427865982056, -0.16874101758003235, 0.1518753468990326, 0.04781739413738251, -0.2546123266220093, -0.011156106367707253, 0.0842207670211792, -0.12799802422523499, -0.18240275979042053, 0.18508002161979675, -0.09933622926473618, 0.192901149392128, -0.20519819855690002, 0.2357819378376007, -0.1646307408809662, -0.006069354712963104, 0.18474093079566956, -0.09534433484077454, -0.1480671763420105, 0.01682782731950283, 0.0283844955265522, -0.026639506220817566, -0.3744763433933258, -0.06722509115934372, -0.27812111377716064, -0.12625767290592194, 0.12000255286693573, 0.18357905745506287, 0.10057316720485687, -0.319320946931839, 0.3179384768009186, -0.19363084435462952, 0.21004146337509155, 0.24524584412574768, 0.06504126638174057, 0.030069053173065186, 0.0813877061009407, -0.1529819220304489, 0.13579769432544708, -0.04103735461831093, 0.40415889024734497, 0.17254555225372314, -0.013756426982581615, 0.028144439682364464, 0.18507020175457, -0.0787007287144661, -0.03464211896061897, -0.016790365800261497, -0.21466884016990662, 0.00477984081953764, 0.13754017651081085, 0.479633629322052, 0.005600778851658106, 0.0008693333948031068, 0.47003117203712463, -0.2597159147262573, 0.12191182374954224, -0.13109217584133148, 0.25854942202568054, -0.08363319933414459, -0.3018677234649658, -0.07375447452068329, 0.07947739213705063, -0.12395700067281723, -0.06311047077178955, -0.2168196737766266, -0.13318973779678345, 0.04721454903483391, 0.00044647432514466345, -0.18707656860351562, 0.1515483260154724, 0.27818813920021057, 0.119476318359375, 0.08402746915817261, -0.07941730320453644, -0.2651614248752594, 0.10879797488451004, -0.06834576278924942, 0.10147377103567123, -0.04221222549676895, -0.09028888493776321, -0.20003488659858704, 0.014570199884474277, 0.5258278250694275, 0.07828622311353683, -0.35186901688575745, 0.0012792007764801383, 0.20765401422977448, 0.10648416727781296, -0.1558472067117691, 0.06313130259513855, 0.20629999041557312, 0.0720636174082756, 0.07072363048791885, -0.08573851734399796, 0.31656304001808167, 0.16914872825145721, 0.23568370938301086, 0.13310542702674866, -0.008120346814393997, -0.19506745040416718, -0.0485478974878788, 0.20708225667476654, -0.10629540681838989, -0.2905394434928894, 0.208394393324852, 0.23920010030269623, -0.25635626912117004, 0.3607834279537201, 0.028296751901507378, 0.007208654657006264, 0.059714872390031815, -0.12046109884977341, 0.27685481309890747, -0.0459444634616375, -0.056642793118953705, 0.015138636343181133, -0.38197511434555054, 0.019075732678174973, 0.18363545835018158, -0.31626299023628235, 0.47747769951820374, 0.25946682691574097, 0.13973677158355713, -0.07955335080623627, 0.1260778158903122, 0.02988564409315586, -0.15535596013069153, -0.09139127284288406, -0.04215087741613388, 0.10056349635124207, -0.34819987416267395, 0.18343670666217804, 0.0206880122423172, 0.17611025273799896, -0.00640835240483284, 0.5170577168464661, -0.023066258057951927, -0.01729034073650837, -0.025368185713887215, -0.11553975194692612, 0.13508975505828857, 0.020237628370523453, 0.1570000946521759, -0.5473288297653198, 0.27836671471595764, 0.22456279397010803, 0.1257137507200241, 0.07489099353551865, -0.0954892635345459, 0.4274583160877228, 0.04285288229584694, -0.24584393203258514, 0.034723617136478424, -0.27107203006744385, -0.03397781774401665, 0.2964281737804413, 0.11654314398765564, -0.06563327461481094, -0.29747501015663147, 0.03752987086772919, -0.20667587220668793, -0.06732066720724106, 0.32445859909057617, 0.009274076670408249, 0.1878015697002411, -0.20723406970500946, 0.14860990643501282, 0.11046881973743439, -0.1702543944120407, -0.08483278751373291, -0.05696463957428932, -0.029579943045973778, -0.05074911192059517, 0.06658856570720673, 0.11314290016889572, 0.1843232810497284, 0.0729234516620636, 0.2567950487136841, -0.06825397908687592, 0.024639355018734932, 0.05431267246603966, 0.14841967821121216, -0.18644671142101288, 0.06542254239320755, 0.02286538854241371, 0.2171662151813507, 0.20800355076789856, -0.034129343926906586, 0.17075186967849731, -0.0738573893904686, -0.2750120460987091, 0.29489123821258545, 0.19244495034217834, 0.16459351778030396, 0.017082946375012398, 0.08002183586359024, 0.22031119465827942, 0.02424672245979309, 0.08367974311113358, 0.926419734954834, 0.17415305972099304, -0.4547789990901947, -0.09255842119455338, 0.201918363571167, 0.07364372164011002, 0.15786583721637726, -0.022425644099712372, 0.28888899087905884, -0.10951945185661316, 0.08790834993124008, -0.04072520509362221, 0.14957517385482788, -0.19331945478916168, -0.23182782530784607, -0.009595519863069057, -0.007834678515791893, 0.25836122035980225, -0.036087725311517715, 0.26376405358314514, -0.007287560496479273, -0.08109495043754578, -0.12137477844953537, 0.07179219275712967, 0.08155310153961182, -0.00601051514968276, 0.034207358956336975, 0.20407190918922424, -0.11676806211471558, 0.27614739537239075, 0.018062463030219078, -0.1705504208803177, -0.15264500677585602, -0.21602514386177063, -0.0996924415230751, -0.14520683884620667, 0.07926824688911438, 0.07044009119272232, 0.532965362071991, 0.008740176446735859, 0.24811780452728271, 0.14034827053546906, -0.17206917703151703, -0.06592070311307907, -0.175319105386734, -0.017304491251707077, -0.09886860847473145, 0.07028273493051529, -0.09136812388896942, 0.0548100508749485, 0.3944627046585083, -0.17286327481269836, 0.008517120033502579, 0.08560166507959366, -0.11283619701862335, -0.055054500699043274, -0.16455747187137604, -0.023435870185494423, -0.4044269919395447, 0.40419745445251465, 0.1298115849494934, 0.21149395406246185, 0.03497737646102905, -0.34237396717071533, -0.12751977145671844, -0.19882619380950928, -0.3115001916885376, 0.5236226916313171, -0.19100335240364075, -0.01771998032927513, 0.11172520369291306, 0.12411919981241226, 0.01572318561375141, 0.09903544187545776, 0.06611201167106628, -0.036724165081977844, -0.28364241123199463, -0.12474272400140762, -0.1525820940732956, -0.11556632816791534, -0.21013279259204865, 0.21512511372566223, -0.0048784371465444565, 0.2933671474456787, 0.11216268688440323, -0.013677665032446384, -0.05958684906363487, 0.24449342489242554, -0.02235143817961216, -0.120696522295475, -9.438145637512207, -0.23689238727092743, 0.1734553724527359, 0.019566239789128304, 0.08651339262723923, -0.1322615146636963, -0.11382594704627991, -0.055267564952373505, 0.11742892116308212, 0.09050463885068893, -0.20317168533802032, 0.15308229625225067, 0.042360518127679825, 0.028571484610438347, 0.01690787635743618, -0.09830545634031296, 0.20973172783851624, -0.04852338507771492, -0.07865937054157257, -0.04399370402097702, 0.20804892480373383, 0.10396343469619751, 0.18470029532909393, 0.2805369794368744, 0.2123962640762329, -0.09914445877075195, -0.01923977956175804, 0.026797523722052574, 0.08224476873874664, -0.2190457284450531, -0.16045643389225006, 0.10556032508611679, -0.10567371547222137, 0.0029418200720101595, -0.02281411923468113, -0.32412633299827576, 0.2344600409269333, -0.12655946612358093, -0.05015244334936142, -0.06450952589511871, 0.07710500061511993, 0.3199453353881836, -0.0911172404885292, -0.03330431133508682, -0.01824614591896534, -0.4124094247817993, 0.43966397643089294, 0.19308091700077057, 0.07338568568229675, -0.11564727872610092, 0.3701936602592468, -0.038460321724414825, -0.5818114280700684, -0.17070066928863525, -0.5836831331253052, -0.00158335966989398, -0.030663063749670982, -0.19683080911636353, -0.052830036729574203, 0.22496303915977478, 0.3495444655418396, -0.35800597071647644, -0.06769769638776779, 0.3978430926799774, 0.02895256131887436, 0.086155466735363, -0.10125510394573212, -0.1755077838897705, 0.12606722116470337, 0.02560877986252308, -0.4364321529865265, -0.2830911874771118, -0.3897886276245117, -0.030408458784222603, 0.25809428095817566, -0.11656152456998825, 0.1326766461133957, 0.19834421575069427, -0.004359230864793062, 0.31934335827827454, -0.0455685518682003, 0.18394789099693298, 0.13776442408561707, -0.014144293032586575, -0.024581685662269592, 0.11984094977378845, -0.23804257810115814, 0.1425166130065918, 0.2253905087709427, 0.22869111597537994, -0.11412996053695679, 0.014339829795062542, -0.08141504228115082, -0.20914512872695923, -0.2199949324131012, -0.03796429932117462, 0.03563261777162552, 0.2851184606552124, -0.4953767657279968, 0.08896452933549881, -0.18758288025856018, -0.021006185561418533, -0.15892720222473145, -0.2523810863494873, 0.1545715630054474, -0.047907158732414246, -0.07386229187250137, -0.1580875664949417, -0.06008036807179451, -0.023751981556415558, 0.12337108701467514, 0.10279268771409988, -0.0891442745923996, -0.004104060586541891, -0.22342975437641144, -0.18346795439720154, 0.20134080946445465, -0.30715081095695496, -0.22699175775051117, 0.03416907414793968, 0.23658859729766846, -0.08823314309120178, 0.25061431527137756, 0.040917638689279556, -0.005609616637229919, -0.12491431832313538, 0.0770677849650383, -0.10860051959753036, 0.20410354435443878, -0.24419471621513367, 0.5245839953422546, 0.05931592360138893, 0.05499301850795746, 0.03779277577996254, -0.015439348295331001, -0.23084530234336853, -0.3742271065711975, 0.011992719024419785, 0.027122342959046364, -0.03700103238224983, 0.18110547959804535, -0.30672264099121094, 0.03981814160943031, 0.11467685550451279, 0.05252600833773613, 0.30049917101860046, -0.007902907207608223, -0.22244609892368317, -0.11583047360181808, -0.17732371389865875, -0.2936716377735138, 0.39834699034690857, 0.1653416007757187, -0.17959687113761902, -0.1931544691324234, 0.3525253236293793, 0.22952961921691895, -0.07347329705953598, -0.09511537849903107, -0.0643412247300148, 0.2294704020023346, -0.06774285435676575, 0.11532361805438995, -0.030282406136393547, 0.08563000708818436, -0.1026226058602333, 0.047563884407281876, 0.2209928184747696, 0.01955401338636875, -0.09253037720918655, -0.10006198287010193, -0.13258828222751617, 0.2165777087211609, -0.3841433823108673, -0.03886081278324127, -0.18656159937381744, -0.20733468234539032, 0.16258439421653748, 0.12033785134553909, -0.194729745388031, -0.08969855308532715, 0.1296861320734024, -0.3292456865310669, -0.05924256145954132, -0.14208723604679108, 0.09363189339637756, -0.329925537109375, 0.17091231048107147, 0.029576605185866356, -0.11581705510616302, 0.04490892216563225, -0.12286480516195297, 0.0407838448882103, 0.14821237325668335, 0.1266648918390274, -0.0013560012448579073, -0.10205201059579849, 0.006506664678454399, -0.012708543799817562, 0.15833906829357147, 0.14199255406856537, -0.029907850548624992, 0.26833972334861755, -0.17605628073215485, -0.10545943677425385, -0.04885212332010269, 0.2638249099254608, -0.22945384681224823, 0.12394419312477112, -0.023014342412352562, -0.2936631739139557]\n",
            "Word 23 --> Embedding [-0.14323405921459198, -0.15092892944812775, -0.1652604341506958, 0.13626649975776672, 0.39754536747932434, 0.03885013237595558, 0.4079941511154175, 0.13763630390167236, -0.201767235994339, 0.04672902449965477, 0.39974409341812134, 0.05628727003931999, -0.17254307866096497, 0.2770378589630127, -0.04155902937054634, 0.3752422332763672, 0.1409067064523697, -0.12150189280509949, 0.19734984636306763, -0.130409836769104, -0.35676053166389465, 0.08015028387308121, -0.2292627990245819, -0.014154142700135708, 0.07497790455818176, -0.12304212152957916, 0.21518713235855103, 0.32412856817245483, -0.015925955027341843, 0.1083642914891243, -0.1060432493686676, 0.11299043893814087, 0.03847205266356468, -0.0011901229154318571, -0.12043226510286331, -0.0388033464550972, -0.002193691208958626, 0.21475398540496826, 0.1947597712278366, 0.19380253553390503, -0.10328198224306107, -0.037020668387413025, -0.021944688633084297, 0.13284946978092194, 0.1823023557662964, 0.4022059440612793, 0.0914316400885582, 0.165315181016922, -0.1053214818239212, 0.07345167547464371, 0.11427853256464005, -0.05966411903500557, -0.16648049652576447, -0.042512957006692886, -0.13344302773475647, -0.1611233502626419, 0.3344024121761322, -0.03458500653505325, 0.30187737941741943, 0.2353474199771881, -0.1735415905714035, 0.17164315283298492, 0.08746524155139923, -0.003980894573032856, 0.15687142312526703, 0.054498929530382156, 0.449420690536499, 0.17117932438850403, 0.12322809547185898, -0.03041864186525345, -0.3884892761707306, 0.09668316692113876, -0.06525435298681259, -0.09172127395868301, -0.22019298374652863, -0.5150384902954102, 0.24236948788166046, 0.05946755036711693, -0.4050036370754242, -0.30808478593826294, 0.2678201496601105, -0.18797644972801208, 0.23153527081012726, 0.09723427146673203, 0.3711625337600708, -0.4091479480266571, -0.22359317541122437, 0.28601574897766113, 0.10369850695133209, 0.12245108932256699, -0.3742431104183197, -0.0511760339140892, 0.2226257622241974, -0.08029398322105408, 0.0749875083565712, -0.23425424098968506, 0.07188702374696732, -0.06433560699224472, -0.22846251726150513, 0.18846353888511658, 0.16725558042526245, -0.021083176136016846, -0.15620340406894684, 0.1397247165441513, 0.17341019213199615, 0.04855404421687126, 0.02229965850710869, 0.01433645561337471, -0.03441046550869942, 0.4456900358200073, 0.26645374298095703, -0.33312785625457764, 0.22872832417488098, -0.39711442589759827, 0.04399602860212326, 0.018520282581448555, -0.15434429049491882, 0.20163126289844513, -0.11261481791734695, -0.18634116649627686, 0.009403470903635025, 0.0013233895879238844, -0.3066904544830322, 0.05652345344424248, -0.184694305062294, 0.3134828209877014, -0.16356317698955536, -0.08787830919027328, 0.2724975347518921, 0.01609913818538189, -0.3909458816051483, -0.0994744524359703, 0.2763403356075287, 0.374322772026062, 0.11357738077640533, 0.17359939217567444, 0.14384904503822327, 0.41243764758110046, -0.6609204411506653, -0.2901630103588104, -0.441837877035141, -0.1268523931503296, 0.044562987983226776, -0.21309469640254974, 0.17337429523468018, -0.2022864818572998, 0.02296840026974678, -0.1715155988931656, 0.22673678398132324, 0.3581259548664093, 0.2380824238061905, 0.004235363565385342, 0.08307269960641861, 0.12476620078086853, -0.14597024023532867, -0.44824865460395813, -0.2052982598543167, 0.18406547605991364, -0.0681418925523758, 0.11015914380550385, -0.2550273537635803, -0.13714490830898285, -0.10798379778862, 0.1996840238571167, -0.2597372233867645, -0.36674341559410095, 0.3910660445690155, 0.09528032690286636, -0.03569060564041138, 0.1351020783185959, 0.11000937968492508, -0.08362117409706116, 0.051301196217536926, -0.5166691541671753, 0.11441788077354431, -0.146708145737648, 0.1738310158252716, 0.3511067032814026, 0.5504278540611267, -0.0662364736199379, 0.2165406197309494, -0.05644582211971283, 0.2690277099609375, 0.06813297420740128, -0.07490947842597961, -0.1470266729593277, -0.16898198425769806, 0.1518683284521103, 0.09157468378543854, 0.07895251363515854, 0.15492130815982819, -0.3541537821292877, -0.06949823349714279, -0.20377157628536224, -0.08441504836082458, -0.16534218192100525, 0.09894397854804993, -0.0015940533485263586, 0.3268311321735382, 0.05051378533244133, -0.08915655314922333, -0.06187257915735245, -0.34763044118881226, -0.10429912060499191, 0.09234990924596786, -0.07790540158748627, -0.10184549540281296, 0.3087230324745178, -0.27701428532600403, 0.22149930894374847, -0.1481396108865738, -0.2386084794998169, 0.1285705268383026, 0.36863458156585693, -0.060419999063014984, -0.26317980885505676, -0.27575913071632385, 0.007553598843514919, 0.06163827329874039, -0.23842455446720123, 0.13562217354774475, 0.19543229043483734, 0.03220703452825546, 0.29785555601119995, 0.13107697665691376, -0.12739801406860352, -0.1980195939540863, 0.32436221837997437, 0.15544401109218597, -0.18796692788600922, 0.11130987852811813, -0.03607651963829994, -0.12397446483373642, 0.2875579297542572, 0.030680373311042786, -0.3316009044647217, -0.3996566832065582, 0.10305739939212799, -0.3941892087459564, 0.23198221623897552, -0.05459780991077423, -0.13217470049858093, 0.0990716889500618, 0.17931833863258362, 0.0434037484228611, 0.24670763313770294, 0.30277660489082336, 0.0974481850862503, 0.04843103885650635, -0.47746267914772034, 0.12371078878641129, -0.14667509496212006, -0.5882537961006165, 0.46871697902679443, 0.0193344634026289, -0.010494072921574116, 0.10821675509214401, -0.09849324077367783, 0.025908540934324265, -0.09910009056329727, 0.008807923644781113, 0.4493268132209778, 0.24764040112495422, -0.1389158070087433, -0.14699415862560272, -0.18944750726222992, -0.010155213996767998, 0.1482316553592682, -0.23936672508716583, 0.1307668536901474, 0.038641124963760376, -0.31064853072166443, 0.014022291637957096, 0.0724821537733078, -0.12039950489997864, -0.271384060382843, 0.0828913077712059, -0.17454588413238525, 0.044723883271217346, -0.07420442253351212, 0.26128748059272766, -0.3380700945854187, 0.21495895087718964, 0.1627347320318222, 0.17679080367088318, 0.00048648822121322155, -0.10051999241113663, 0.2152925431728363, 0.05346186086535454, -0.3652154505252838, -0.023694029077887535, -0.3827113211154938, 0.013213501311838627, 0.26326003670692444, 0.11696670949459076, 0.2138686180114746, -0.3937741816043854, 0.5163283348083496, -0.12575675547122955, 0.27138981223106384, 0.2850140929222107, 0.14595414698123932, -0.19976751506328583, 0.00894912239164114, -0.13676410913467407, 0.14009451866149902, -0.040671445429325104, 0.45167723298072815, 0.1946081668138504, 0.06317394226789474, 0.029658164829015732, 0.04911285266280174, 0.012637658976018429, -0.05446432903409004, -0.06061146408319473, -0.09924642741680145, 0.026617109775543213, 0.1326850950717926, 0.4659619629383087, 0.04338604584336281, 0.04921016842126846, 0.44780606031417847, -0.07340642809867859, 0.2441527098417282, -0.08685771375894547, 0.35634633898735046, -0.06038537621498108, -0.20682941377162933, -0.03853420168161392, 0.06459570676088333, -0.32050424814224243, -0.1989983767271042, -0.2959277629852295, 0.04737570509314537, -0.04450115188956261, 0.09905670583248138, -0.11160871386528015, 0.20302033424377441, 0.0989285260438919, 0.1260669082403183, 0.18776659667491913, -0.2625281810760498, -0.16388216614723206, 0.052164774388074875, -0.08002107590436935, 0.0017719098832458258, 0.16727215051651, 0.05120156332850456, -0.22011123597621918, 0.024909190833568573, 0.503581702709198, 0.07165031880140305, -0.24797779321670532, -0.06337448954582214, 0.05767672508955002, 0.08248592168092728, -0.15502654016017914, -0.013080822303891182, 0.30602017045021057, 0.08678772300481796, 0.16669832170009613, 0.06599242240190506, 0.3825841248035431, 0.10369773954153061, 0.18217697739601135, -0.02161913737654686, -0.11221222579479218, -0.35103777050971985, -0.0334506519138813, 0.05914575979113579, 0.18105719983577728, -0.19197222590446472, 0.24548277258872986, 0.18375684320926666, -0.27126991748809814, 0.33909276127815247, -0.06658370047807693, -0.01582685112953186, -0.032187569886446, -0.2822583317756653, 0.23405994474887848, -0.06279323995113373, -0.03963765874505043, 0.04715082049369812, -0.42568978667259216, 0.0029818997718393803, 0.27542397379875183, -0.2773595452308655, 0.2960761785507202, 0.18244297802448273, 0.11822716146707535, -0.27564483880996704, 0.11014213413000107, -0.06959716230630875, -0.07231415808200836, -0.16844865679740906, -0.08752254396677017, 0.19780892133712769, -0.39631369709968567, 0.20173202455043793, -0.21354784071445465, 0.10900945961475372, 0.09447992593050003, 0.41884133219718933, -0.040727902203798294, -0.10921923816204071, -0.17879687249660492, 0.0764148086309433, 0.20893283188343048, -0.10538094490766525, 0.10832703113555908, -0.3673916757106781, 0.32389453053474426, 0.2811323404312134, 0.21089865267276764, 0.08826793730258942, -0.06366706639528275, 0.4445011019706726, -0.04256722703576088, -0.24310727417469025, 0.12196534872055054, -0.31436121463775635, -0.14737573266029358, 0.2699066996574402, 0.22058454155921936, -0.00262784818187356, -0.19331803917884827, -0.11685388535261154, -0.11749964207410812, -0.09862801432609558, 0.4270482063293457, 0.1280813068151474, 0.27585068345069885, -0.21860112249851227, 0.10177379846572876, 0.18526588380336761, -0.15849731862545013, 0.03721751645207405, -0.14979715645313263, 0.0499749630689621, -0.020178142935037613, 0.03951292857527733, 0.18416935205459595, 0.2355772852897644, -0.11103522777557373, 0.22125065326690674, -0.12071449309587479, -0.04730769619345665, 0.018856137990951538, 0.0844397097826004, 0.17438064515590668, 0.08893332630395889, -0.14866504073143005, 0.2641908526420593, 0.18768709897994995, 0.030316820368170738, 0.12690109014511108, -0.03992785885930061, -0.2773734927177429, 0.29978740215301514, 0.05710490792989731, 0.17403079569339752, 0.014464763924479485, 0.21919557452201843, 0.09635435789823532, -0.07520314306020737, 0.14053012430667877, 0.8024700284004211, 0.12889361381530762, -0.3825424611568451, -0.13787908852100372, 0.17179271578788757, 0.09245756268501282, 0.20537273585796356, -0.0655878409743309, 0.2865477502346039, 0.021502075716853142, -0.09293313324451447, -0.1929420530796051, 0.22019419074058533, -0.224058136343956, 0.028445415198802948, -0.03773126378655434, -0.0937509685754776, 0.20749039947986603, 0.07156071066856384, 0.29860424995422363, 0.10027185827493668, 0.10106261074542999, -0.201328843832016, -0.10850027203559875, 0.19087034463882446, 0.015341837890446186, 0.20480501651763916, 0.0953088253736496, 0.08742184191942215, 0.33653900027275085, -0.10628349334001541, -0.2412867546081543, -0.05563955754041672, -0.20859435200691223, -0.06950052082538605, -0.06537789851427078, -0.09511696547269821, 0.11361906677484512, 0.36702993512153625, -0.0400395393371582, -0.0060238949954509735, 0.04757441207766533, -0.05226752907037735, -0.03634951263666153, 0.04018726944923401, -0.0387837253510952, -0.17969870567321777, 0.1051604226231575, 0.08610264956951141, 0.31113630533218384, 0.4664872884750366, -0.02085798606276512, -0.015754634514451027, 0.21010805666446686, 0.021267609670758247, -0.19818703830242157, 0.07509387284517288, 0.25936955213546753, -0.10286296159029007, 0.3410802185535431, 0.10153831541538239, 0.03043658472597599, 0.15383806824684143, -0.2650138735771179, 0.08888840675354004, -0.25217702984809875, -0.16314759850502014, 0.4696485102176666, -0.2894012928009033, 0.07292478531599045, 0.057225268334150314, 0.134110227227211, -0.064509816467762, -0.0987645611166954, 0.13351315259933472, -0.10386845469474792, -0.2147827297449112, -0.010264727286994457, -0.07532301545143127, -0.09439308196306229, -0.16523432731628418, 0.13500216603279114, 0.10898557305335999, 0.38947147130966187, 0.11155834794044495, 0.00577844213694334, -0.0571000836789608, 0.10282748937606812, 0.09863165020942688, 0.021399006247520447, -9.411619186401367, -0.3052935004234314, 0.018662607297301292, 0.2243247777223587, 0.30280089378356934, -0.2324901819229126, -0.18074889481067657, 0.055905669927597046, -0.13702696561813354, -0.06944046914577484, -0.23146973550319672, 0.2564021050930023, -0.07470174133777618, 0.026013441383838654, 0.006259274203330278, -0.22154080867767334, 0.060860782861709595, 0.028386248275637627, -0.02641698718070984, -0.09884225577116013, 0.07465178519487381, 0.19667431712150574, 0.10037130117416382, 0.39471298456192017, 0.21916425228118896, -0.0667484924197197, 0.09716980904340744, 0.17223447561264038, 0.03369739651679993, 0.08847100287675858, -0.3754625618457794, 0.020901380106806755, -0.03703577443957329, 0.06889503449201584, 0.05668926611542702, -0.07065725326538086, 0.399549663066864, -0.03396917134523392, -0.03746581822633743, 0.14420929551124573, 0.14818841218948364, 0.26548999547958374, -0.14417827129364014, -0.26771602034568787, -0.14421257376670837, -0.3487706780433655, 0.35887646675109863, 0.16959050297737122, -0.022537771612405777, -0.16725274920463562, 0.055306337773799896, -0.1158810555934906, -0.2908554673194885, -0.02661867067217827, -0.3771328628063202, -0.07656856626272202, -0.03246727213263512, -0.28038105368614197, 0.11918357014656067, 0.25375083088874817, 0.18518880009651184, -0.42552539706230164, -0.11406060308218002, 0.2927320897579193, -0.10552582144737244, 0.03436853736639023, 0.01822850853204727, -0.21777783334255219, 0.01894950494170189, 0.09147912263870239, -0.37347298860549927, -0.30160820484161377, -0.3113594055175781, 0.06777091324329376, 0.017833227291703224, -0.12948952615261078, 0.031511832028627396, 0.17090560495853424, -0.13312047719955444, 0.18385450541973114, -0.04276236146688461, 0.16776904463768005, -0.002329014940187335, -0.21348927915096283, -0.03653106465935707, -0.046537939459085464, -0.25806665420532227, 0.08463643491268158, 0.18014386296272278, 0.2527734935283661, 0.03884712979197502, 0.030681807547807693, -0.08021347224712372, -0.3346197009086609, -0.2125270515680313, -0.015373227186501026, 0.032662950456142426, 0.2734045088291168, -0.2705945372581482, -0.09185338020324707, -0.14833204448223114, -0.0061026974581182, -0.3190530836582184, -0.33923980593681335, 0.06087476387619972, -0.18172667920589447, -0.20120644569396973, 0.007963817566633224, 0.06957947462797165, 0.09543296694755554, 0.20979316532611847, 0.15009288489818573, -0.10611135512590408, -0.21641919016838074, -0.040811896324157715, -0.05437327176332474, 0.16221697628498077, -0.011426180601119995, -0.3652462065219879, 0.03440549969673157, 0.25904732942581177, -0.14860190451145172, 0.1313479095697403, -0.06516099721193314, 0.01134138647466898, -0.22676753997802734, 0.113282211124897, -0.062460243701934814, 0.24219249188899994, -0.17842787504196167, 0.7439260482788086, 0.04988342151045799, 0.08679215610027313, 0.018389739096164703, 0.0025029880926012993, -0.08761928975582123, -0.3042125701904297, -0.05932585895061493, -0.11587271094322205, 0.09384218603372574, 0.21174459159374237, -0.28514841198921204, 0.14374397695064545, -0.014126365073025227, 0.18647541105747223, 0.19929391145706177, -0.07792898267507553, -0.2489558458328247, -0.19339966773986816, -0.39312052726745605, -0.13200350105762482, 0.37097176909446716, 0.11695873737335205, -0.28324663639068604, -0.29843223094940186, 0.2062542587518692, 0.22320005297660828, -0.018555717542767525, -0.13883812725543976, 0.1106882318854332, 0.12847381830215454, -0.037002891302108765, 0.07691219449043274, -0.05693097040057182, -0.0033180159516632557, -0.12012325972318649, 0.12420792877674103, 0.08088064938783646, -0.11235534399747849, -0.2057543396949768, 0.16851523518562317, 0.039306674152612686, 0.20698508620262146, -0.38678091764450073, -0.053545109927654266, -0.1217203214764595, -0.18735051155090332, -0.017691997811198235, -0.014458101242780685, -0.22744666039943695, 0.003441888140514493, 0.1777094006538391, -0.32447317242622375, -0.04085623100399971, -0.201712965965271, 0.1398756206035614, -0.42824992537498474, 0.15557031333446503, 0.01600106991827488, -0.30706050992012024, -0.028639433905482292, -0.09491045773029327, -0.1423025131225586, 0.17464938759803772, 0.06208205223083496, 0.1725376844406128, 0.1155676543712616, -0.05758992210030556, 0.011028846725821495, 0.0810978040099144, 0.3763989508152008, -0.13797535002231598, 0.2546887993812561, -0.00013836179277859628, 0.009501182474195957, -0.17467889189720154, 0.3394991457462311, -0.19284723699092865, 0.31018751859664917, -0.06545499712228775, -0.4545113444328308]\n",
            "Word 24 --> Embedding [-0.16437166929244995, -0.21608921885490417, -0.27971166372299194, 0.2582700848579407, 0.23297786712646484, 0.10962886363267899, 0.4050942659378052, 0.02473205141723156, -0.01923999935388565, -0.022435631603002548, 0.23468150198459625, -0.2452457845211029, -0.06159690394997597, 0.2834704518318176, -0.07680346816778183, 0.5160921812057495, 0.309042751789093, -0.24397613108158112, 0.0893038660287857, -0.10353926569223404, -0.23155568540096283, 0.07466991990804672, -0.1353728026151657, 0.14852756261825562, -0.09119274467229843, -0.11624492704868317, 0.20543162524700165, 0.24054662883281708, 0.09723060578107834, 0.34247341752052307, -0.05761491134762764, -0.03299947455525398, 0.11997297406196594, 0.07345680147409439, -0.3219330906867981, -0.025437328964471817, -0.05785910412669182, 0.23245811462402344, 0.2842901945114136, 0.18708257377147675, -0.18485142290592194, -0.12145441025495529, 0.24408245086669922, 0.14759282767772675, 0.24365729093551636, 0.281689316034317, 0.08369296044111252, 0.2666715979576111, -0.28950050473213196, 0.010933980345726013, 0.17613835632801056, 0.2624506652355194, -0.02698739618062973, 0.15396639704704285, -0.18615427613258362, -0.21953974664211273, 0.30390381813049316, -0.07013073563575745, 0.3371427655220032, 0.08302523195743561, -0.23411209881305695, 0.08965051174163818, 0.058542825281620026, -0.04878278821706772, 0.07445532083511353, 0.24132758378982544, 0.4357732832431793, -0.06247849762439728, 0.12899084389209747, -0.020841378718614578, -0.40102046728134155, -0.0321490503847599, -0.1061667948961258, -0.10597701370716095, -0.2654990553855896, -0.3320658206939697, 0.24480263888835907, 0.1345684677362442, -0.4392228126525879, -0.22409996390342712, -0.0017523393034934998, -0.22561617195606232, 0.15699177980422974, 0.059222716838121414, 0.4750848114490509, -0.376514196395874, -0.2863006591796875, 0.2551671266555786, 0.03755173459649086, 0.25242021679878235, -0.22434236109256744, -0.10886630415916443, 0.3255719542503357, -0.2503300607204437, 0.0847107544541359, -0.17195314168930054, 0.17076751589775085, -0.08213870972394943, -0.19892100989818573, 0.2239174246788025, 0.1551397740840912, -0.01121053472161293, -0.14930394291877747, 0.16723237931728363, 0.07259265333414078, 0.03411969542503357, 0.11967851221561432, -0.19256466627120972, 0.06770576536655426, 0.3904833197593689, 0.06073503941297531, -0.5307317972183228, 0.08702200651168823, -0.32413870096206665, 0.21676793694496155, -0.18625777959823608, -0.08545256406068802, 0.22908103466033936, -0.020309774205088615, -0.32536447048187256, 0.2056756615638733, 0.03339172154664993, -0.29818710684776306, 0.0845743790268898, -0.3598298728466034, 0.21854348480701447, -0.21871474385261536, -0.12346012145280838, 0.18317943811416626, -0.015828125178813934, -0.32791227102279663, -0.06563560664653778, 0.1703375279903412, 0.21829837560653687, 0.08998499065637589, 0.24412675201892853, 0.06576838344335556, 0.21472322940826416, -0.42694729566574097, -0.3352055847644806, -0.46039658784866333, -0.14676038920879364, 0.08694788813591003, -0.2867702841758728, 0.09753929078578949, -0.41713830828666687, 0.017578113824129105, -0.24485744535923004, 0.11024908721446991, 0.2268960177898407, 0.46642011404037476, 0.0667608454823494, 0.07241559773683548, 0.26537975668907166, -0.16571898758411407, -0.44522902369499207, -0.35864976048469543, 0.1791227161884308, -0.049201447516679764, 0.11689594388008118, -0.18991149961948395, -0.022715624421834946, -0.17650112509727478, 0.12321601063013077, -0.12816354632377625, -0.4563499093055725, 0.3368019759654999, 0.011931435205042362, 0.15420159697532654, -0.01583976298570633, 0.06190396100282669, 0.019450144842267036, 0.0066484445706009865, -0.5992571711540222, -0.013311748392879963, -0.21810705959796906, 0.260863721370697, 0.3399442434310913, 0.5644664168357849, -0.11977318674325943, 0.07487669587135315, -0.07939454913139343, 0.19060391187667847, 0.007753391284495592, 0.13705408573150635, -0.13761301338672638, -0.319568395614624, 0.22400057315826416, 0.0561402402818203, 0.19625799357891083, 0.1648474782705307, -0.4263005554676056, 0.02267879992723465, -0.1606568992137909, 0.08494366705417633, 0.18440008163452148, 0.014473721385002136, -0.11314786225557327, 0.21099717915058136, -0.02147522382438183, -0.13602662086486816, 0.03261943906545639, -0.4385732412338257, -0.3638802766799927, -0.0011026168940588832, 0.0631159096956253, -0.09363282471895218, 0.275652140378952, -0.23306256532669067, 0.10978081077337265, -0.3238339424133301, -0.07370835542678833, 0.05212976783514023, 0.3079582452774048, -0.16998235881328583, -0.2618032693862915, -0.387374609708786, 0.05642135441303253, 0.18703509867191315, -0.25987687706947327, 0.11170662939548492, 0.24530257284641266, -0.032053567469120026, 0.4285138249397278, 0.36155036091804504, -0.12387505173683167, -0.17747996747493744, 0.39077067375183105, 0.18629442155361176, -0.08708976954221725, 0.15679389238357544, 0.10097315907478333, 0.02328573167324066, 0.06362638622522354, 0.05562426149845123, -0.4754064083099365, -0.2983701527118683, 0.13163265585899353, -0.3088182508945465, 0.12860512733459473, -0.14379604160785675, -0.21794083714485168, 0.12283039838075638, 0.04715219512581825, -0.015169055201113224, 0.34511300921440125, 0.23635825514793396, 0.05824125558137894, 0.10391242802143097, -0.5856471061706543, 0.1914873719215393, -0.22784742712974548, -0.6153002381324768, 0.3284398019313812, 0.10981960594654083, 0.1693638414144516, -0.005759187042713165, -0.3034745156764984, 0.052598677575588226, -0.066491037607193, 0.16429691016674042, 0.17390570044517517, 0.3085523545742035, -0.2397346794605255, -0.14519022405147552, -0.31114381551742554, -0.10414929687976837, 0.2556968629360199, -0.15862102806568146, -0.06709710508584976, -0.17768685519695282, -0.39365896582603455, 0.024546360597014427, 0.14301495254039764, -0.06299331039190292, -0.34004470705986023, 0.036011263728141785, -0.03447960317134857, -0.19022151827812195, -0.02975146472454071, 0.20784452557563782, -0.26501643657684326, 0.373273104429245, 0.19736957550048828, 0.18671303987503052, 0.14300094544887543, -0.1146584004163742, 0.18941953778266907, 0.27674195170402527, -0.31505313515663147, 0.17061622440814972, -0.26539644598960876, 0.18743471801280975, 0.25354647636413574, 0.13965465128421783, 0.31554168462753296, -0.4252704381942749, 0.6580972671508789, 0.00598207488656044, 0.32574304938316345, 0.33464574813842773, 0.12443982064723969, -0.49456480145454407, -0.011526362039148808, 0.02316134050488472, 0.1722365915775299, 0.011439429596066475, 0.44556742906570435, 0.22355997562408447, 0.16551220417022705, 0.20399966835975647, 0.0015483801253139973, -0.09187078475952148, -0.041987888514995575, -0.11344408243894577, 0.011493833735585213, 0.17323683202266693, 0.45208629965782166, 0.38266071677207947, -0.030928093940019608, 0.07880048453807831, 0.45930156111717224, 0.11223358660936356, 0.20325402915477753, 0.031647827476263046, 0.22349725663661957, 0.07207894325256348, -0.08593869209289551, 0.00265263463370502, -0.04223235324025154, -0.33975470066070557, -0.0647001564502716, -0.31540510058403015, 0.17456087470054626, -0.18882374465465546, 0.11475871503353119, 0.06268531084060669, 0.1904298961162567, -0.22775079309940338, 0.10453454405069351, 0.16180558502674103, -0.27755075693130493, -0.2057914435863495, 0.09915053844451904, -0.11557900160551071, -0.06973189860582352, 0.2221481055021286, 0.1284538209438324, -0.08324212580919266, 0.06405732780694962, 0.33017638325691223, 0.019412079825997353, -0.2546975314617157, 0.016326017677783966, -0.08356205374002457, 0.08753003925085068, -0.19367088377475739, -0.11161138862371445, 0.3561607003211975, 0.07441031187772751, 0.08988197892904282, 0.20506629347801208, 0.21043549478054047, -0.11626274883747101, 0.13884428143501282, -0.19132433831691742, -0.2087344080209732, -0.29453426599502563, -0.02779100090265274, -0.1348782628774643, 0.13211017847061157, 0.02177758328616619, 0.17743563652038574, 0.1636570394039154, -0.19078560173511505, 0.3805675804615021, -0.2508685886859894, -0.1398017257452011, -0.048892490565776825, -0.38104379177093506, 0.12157057970762253, -0.11262194812297821, 0.036211613565683365, 0.5404866337776184, -0.34869828820228577, 0.016448432579636574, 0.28204450011253357, -0.15587253868579865, 0.3524155616760254, 0.05601685866713524, -0.04715343564748764, -0.31068429350852966, 0.16952359676361084, -0.07902305573225021, -0.029187224805355072, -0.13088329136371613, -0.08129119127988815, 0.3113136291503906, -0.3991437554359436, 0.10315307974815369, -0.12143047153949738, 0.14116020500659943, 0.20184901356697083, 0.3428947925567627, -0.13144731521606445, -0.08649405092000961, -0.24877962470054626, 0.27553024888038635, 0.19467608630657196, -0.1572350412607193, 0.10127361118793488, -0.06913826614618301, 0.30844804644584656, 0.41414231061935425, 0.06760934740304947, 0.07715170830488205, -0.06734330952167511, 0.5511788129806519, -0.026551034301519394, -0.2578395903110504, 0.07820015400648117, -0.30714330077171326, -0.20901213586330414, 0.24069321155548096, 0.4025569558143616, 0.2528098225593567, -0.2362600713968277, 0.007909544743597507, -0.09699203073978424, -0.24225856363773346, 0.32319098711013794, 0.16449983417987823, 0.2486935257911682, -0.33484798669815063, 0.2866114377975464, 0.05867502838373184, -0.1768077313899994, 0.183999165892601, -0.15941980481147766, -0.04692567512392998, -0.03400876745581627, 0.1092165932059288, 0.17672517895698547, 0.3145645260810852, -0.10321816802024841, 0.2037465125322342, -0.014111765660345554, -0.07897264510393143, 0.26869386434555054, 0.13083165884017944, 0.29524052143096924, 0.052259817719459534, -0.2973785400390625, 0.48300594091415405, 0.32004231214523315, -0.008276043459773064, 0.05284624546766281, -0.10999257862567902, -0.11787974089384079, 0.2512952983379364, -0.008076897822320461, 0.08521261811256409, 0.03974198177456856, 0.3364567458629608, 0.09181055426597595, 0.04080691561102867, 0.14490920305252075, 0.6026822924613953, 0.07006815075874329, -0.24642856419086456, -0.020815396681427956, 0.23070606589317322, 0.17379145324230194, 0.23544274270534515, -0.03283124417066574, 0.43996742367744446, 0.06900263577699661, -0.043819110840559006, -0.11622744798660278, 0.35366034507751465, -0.15724393725395203, 0.27370139956474304, -0.11878375709056854, -0.14014290273189545, 0.2484823614358902, 0.02432602271437645, 0.32972726225852966, 0.24863728880882263, 0.08314206451177597, -0.1626758575439453, -0.24819722771644592, 0.2661375403404236, -0.19130004942417145, 0.2878776788711548, -0.015756867825984955, 0.10768052935600281, 0.20421472191810608, -0.12729983031749725, -0.4178873300552368, 0.024017540737986565, -0.23652221262454987, 0.03827947750687599, -0.027054401114583015, -0.10257551819086075, 0.13683348894119263, 0.21606525778770447, -0.010939309373497963, -0.03189106658101082, -0.06356025487184525, -0.1674095243215561, -0.041994065046310425, 0.1457722783088684, -0.03797771781682968, -0.12688367068767548, -0.003425420029088855, 0.0005944097647443414, 0.6514996886253357, 0.38255345821380615, 0.0652410238981247, 0.011050714179873466, 0.2785235345363617, -0.04566657915711403, -0.31467369198799133, 0.41341471672058105, 0.47743532061576843, 0.12444402277469635, 0.3742755949497223, -0.05140813812613487, -0.1453894078731537, 0.12604020535945892, -0.36518895626068115, 0.135336771607399, -0.16954533755779266, 0.09938956797122955, 0.29378026723861694, -0.27480384707450867, 0.2479281723499298, 0.051313385367393494, 0.15326282382011414, 0.011382745578885078, -0.3060780167579651, 0.005878294352442026, -0.28210708498954773, -0.24529728293418884, -0.08675563335418701, 0.22021472454071045, -0.1319647580385208, -0.23888075351715088, 0.002263533417135477, 0.19674666225910187, 0.34523943066596985, 0.1558578461408615, 0.0035922396928071976, -0.18603867292404175, 0.18406257033348083, 0.03553072735667229, -0.03948935866355896, -9.32620620727539, -0.19540531933307648, -0.03151922672986984, 0.2951214015483856, 0.4055328071117401, -0.31756243109703064, -0.06674764305353165, -0.128597691655159, -0.33487850427627563, -0.20066218078136444, -0.2475551962852478, 0.34865808486938477, -0.20887507498264313, -0.010999378748238087, 0.01709897816181183, -0.35718780755996704, -0.10956873744726181, 0.03047598898410797, -0.023985108360648155, -0.1604936271905899, -0.01779324933886528, 0.30050718784332275, 0.07686737179756165, 0.49201393127441406, 0.11075232923030853, 0.058060359209775925, 0.11652708798646927, 0.15424120426177979, -0.04239882156252861, 0.20652417838573456, -0.40096601843833923, 0.004937315359711647, 0.11567550152540207, 0.07295654714107513, 0.11283699423074722, 0.0796714499592781, 0.3182786703109741, -0.13487692177295685, -0.0038496500346809626, 0.24552257359027863, 0.12040011584758759, 0.22847218811511993, -0.24419648945331573, -0.2806140184402466, -0.10656238347291946, -0.2561415731906891, 0.16068671643733978, 0.18840891122817993, -0.2633914649486542, -0.15657788515090942, -0.005245987791568041, -0.09797893464565277, 0.17601913213729858, 0.18084590137004852, -0.3073686361312866, -0.06252911686897278, -0.13138020038604736, -0.22877056896686554, -0.15314313769340515, 0.1583627313375473, -0.16438965499401093, -0.5668765306472778, -0.07393000274896622, 0.08252431452274323, -0.26108479499816895, -0.013470652513206005, 0.04629325866699219, 0.0799417644739151, -0.06852566450834274, 0.08773008733987808, -0.39864087104797363, -0.2611033618450165, -0.2790975570678711, 0.07975964993238449, -0.015076007694005966, -0.1402517855167389, -0.10032626986503601, 0.007530769798904657, -0.3123699426651001, 0.08474018424749374, -0.038588639348745346, 0.40781477093696594, 0.012306991033256054, -0.46781158447265625, -0.08112803101539612, -0.07469813525676727, -0.3474156856536865, -0.04699743166565895, 0.23301301896572113, 0.19981549680233002, 0.177219957113266, 0.07967834174633026, -0.059731315821409225, -0.3199096918106079, -0.2382824569940567, 0.016068611294031143, 0.039522912353277206, 0.19682617485523224, -0.2966291308403015, -0.3191605508327484, -0.15428303182125092, 0.15750260651111603, -0.3924630582332611, -0.4795229434967041, 0.16746655106544495, -0.19087892770767212, -0.19685818254947662, 0.07563753426074982, 0.030837897211313248, 0.17041058838367462, 0.2633572220802307, 0.11397591233253479, 0.0002183352771680802, -0.3076689541339874, -0.046844564378261566, 0.17315560579299927, 0.27820953726768494, 0.21815527975559235, -0.08856842666864395, 0.029260415583848953, 0.21147949993610382, -0.13922631740570068, 0.02879706583917141, -0.24393148720264435, 0.11052684485912323, -0.26425454020500183, -0.0109271090477705, 0.09466365724802017, 0.429714560508728, -0.2967849671840668, 0.7883872389793396, 0.0890812799334526, 0.23186030983924866, 0.05209444835782051, 0.04874209314584732, 0.05831589922308922, -0.2182966023683548, -0.2487635314464569, -0.25001245737075806, 0.23680910468101501, 0.24718870222568512, -0.35414746403694153, -0.021194932982325554, 0.06218314170837402, 0.18395882844924927, 0.22868916392326355, -0.1107676699757576, -0.14128217101097107, -0.11776068061590195, -0.5569835305213928, 0.039589885622262955, 0.44838523864746094, -0.0017504673451185226, -0.2502608299255371, -0.28586098551750183, 0.05058055371046066, 0.1027381494641304, 0.03454669937491417, 0.01903216540813446, 0.225509911775589, 0.051676515489816666, 0.09262924641370773, 0.016899632290005684, -0.06978989392518997, -0.051806338131427765, -0.3158603012561798, 0.07737447321414948, 0.16742882132530212, -0.26637282967567444, -0.18967454135417938, 0.27696505188941956, 0.08074547350406647, 0.1763620227575302, -0.39743733406066895, -0.1309347003698349, -0.06939803063869476, -0.2295825481414795, -0.14884762465953827, 0.05956345424056053, -0.2349388748407364, 0.2241184413433075, 0.3281244933605194, -0.1445188671350479, -0.12501616775989532, -0.025396274402737617, 0.18855363130569458, -0.3790718615055084, -0.05391169711947441, 0.12135100364685059, -0.39474183320999146, -0.057224467396736145, -0.09747178852558136, -0.21422114968299866, 0.0005550268688239157, -0.05676419660449028, 0.2721301317214966, 0.16318930685520172, 0.035646189004182816, -0.04719248041510582, -0.016571668907999992, 0.4427447021007538, -0.2541826665401459, 0.3033328652381897, -0.0648549273610115, -0.07464330643415451, -0.4132903814315796, 0.4106732904911041, -0.04007190838456154, 0.44387921690940857, -0.05803588405251503, -0.46406954526901245]\n",
            "Word 25 --> Embedding [-0.2269170731306076, -0.2814607620239258, -0.30322518944740295, 0.1664867401123047, 0.24276866018772125, -0.007078375201672316, 0.46333765983581543, 0.09268473833799362, -0.10003291815519333, 0.09260797500610352, 0.33986368775367737, -0.17424176633358002, -0.13163021206855774, 0.2428516447544098, -0.08461528271436691, 0.45779845118522644, 0.3250691890716553, -0.2024182230234146, 0.09179531782865524, -0.1716502159833908, -0.29674214124679565, 0.19694697856903076, -0.15716050565242767, 0.09535516053438187, -0.007042253855615854, -0.24709676206111908, 0.2650015950202942, 0.2753528654575348, 0.07122331857681274, 0.17527993023395538, -0.16655512154102325, 0.054697342216968536, 0.14200283586978912, 0.08250857144594193, -0.23604732751846313, -0.07838447391986847, -0.03756558522582054, 0.2416551560163498, 0.2749854028224945, 0.22445431351661682, -0.21158473193645477, -0.09105584770441055, 0.10516774654388428, 0.17753329873085022, 0.2679806649684906, 0.4452936351299286, 0.1266743242740631, 0.2354995459318161, -0.2018221616744995, 0.07491212338209152, 0.13503694534301758, 0.19756631553173065, -0.05843235179781914, 0.05568034201860428, -0.13194097578525543, -0.16739287972450256, 0.19887365400791168, -0.01283879391849041, 0.3747101426124573, 0.0690307468175888, -0.21514847874641418, 0.15195952355861664, 0.05653314292430878, -0.03321804851293564, 0.06502756476402283, 0.2037418931722641, 0.4411863088607788, 0.017136432230472565, 0.023156700655817986, 0.02853112667798996, -0.4328603446483612, 0.06299038976430893, -0.18077532947063446, -0.15793657302856445, -0.18671485781669617, -0.441720575094223, 0.13019663095474243, 0.05542641505599022, -0.3983854055404663, -0.16137255728244781, 0.0915825217962265, -0.2538297474384308, 0.17776183784008026, 0.022524338215589523, 0.43533432483673096, -0.36643967032432556, -0.2251386195421219, 0.22449296712875366, 0.09196500480175018, 0.14422383904457092, -0.2690991759300232, -0.10172085464000702, 0.21793922781944275, -0.18676255643367767, 0.052267156541347504, -0.1202130913734436, 0.1309136301279068, 0.02581598237156868, -0.3353554606437683, 0.22527939081192017, 0.17433923482894897, 0.0007547736749984324, -0.1773427426815033, 0.29862770438194275, 0.13071787357330322, 0.03591721132397652, -0.05940892919898033, -0.04672643169760704, 0.043482813984155655, 0.36549869179725647, 0.13056492805480957, -0.35541146993637085, 0.22769656777381897, -0.3329668343067169, 0.10692833364009857, -0.1671643853187561, -0.10578811168670654, 0.20200230181217194, -0.10187618434429169, -0.2819136381149292, 0.11578098684549332, 0.06111769378185272, -0.3925153315067291, 0.10976821929216385, -0.3030198812484741, 0.31871482729911804, -0.19983752071857452, -0.013776564970612526, 0.2341613918542862, -0.015966415405273438, -0.2212388664484024, -0.03321219980716705, 0.203091099858284, 0.19396968185901642, 0.07724207639694214, 0.15925829112529755, 0.05699411779642105, 0.37611404061317444, -0.5594175457954407, -0.33508801460266113, -0.4370405673980713, -0.055779848247766495, 0.058594297617673874, -0.25343483686447144, 0.17675073444843292, -0.3984222412109375, 0.09433457255363464, -0.24254481494426727, 0.20208485424518585, 0.35769686102867126, 0.4442395269870758, 0.043536677956581116, 0.0699954628944397, 0.19472961127758026, -0.11889427900314331, -0.5016694068908691, -0.2606221139431, 0.1881466656923294, -0.10000669956207275, 0.16246330738067627, -0.29175370931625366, -0.0858873799443245, -0.16214336454868317, 0.20332872867584229, -0.17565537989139557, -0.4721146523952484, 0.32164907455444336, 0.04790215194225311, 0.14934952557086945, 0.09221667051315308, 0.08727595210075378, 0.04203863814473152, 0.02169439196586609, -0.6063178777694702, 0.03452168405056, -0.20275278389453888, 0.23322460055351257, 0.24516494572162628, 0.4927110970020294, -0.16327354311943054, 0.07865025103092194, -0.06281433999538422, 0.2075774371623993, -0.032839275896549225, 0.026210041716694832, -0.129178985953331, -0.27604901790618896, 0.21880215406417847, 0.11183241009712219, 0.13478174805641174, 0.21527211368083954, -0.40407487750053406, 0.031713780015707016, -0.1842464655637741, -0.02040378749370575, 0.09294597059488297, -0.0017465761629864573, -0.03683936223387718, 0.31573888659477234, 0.015090280212461948, -0.14490331709384918, 0.009581660851836205, -0.42111608386039734, -0.25354987382888794, 0.009039364755153656, 0.020496869459748268, -0.04755164682865143, 0.35563358664512634, -0.1467636227607727, 0.16060766577720642, -0.14874085783958435, -0.08326166868209839, 0.1071225255727768, 0.2937624752521515, -0.1395539939403534, -0.17881609499454498, -0.3083062767982483, 0.0793113186955452, 0.12784498929977417, -0.2833624482154846, 0.04364210367202759, 0.1738291233778, -0.07435321062803268, 0.37002044916152954, 0.23309552669525146, -0.13933485746383667, -0.2519148290157318, 0.3368346691131592, 0.19953128695487976, -0.09250622242689133, 0.130232036113739, 0.039591286331415176, -0.1193714365363121, 0.13187751173973083, 0.04843081906437874, -0.3904842734336853, -0.2635088562965393, 0.08989491313695908, -0.3400813639163971, 0.12108001112937927, -0.06779460608959198, -0.1909380704164505, 0.042300622910261154, 0.04286493733525276, -0.029608754441142082, 0.18777219951152802, 0.2093888372182846, 0.14324907958507538, 0.0566081665456295, -0.5686980485916138, 0.18801046907901764, -0.19142812490463257, -0.6012544631958008, 0.4626876413822174, 0.09601116180419922, 0.08207031339406967, 0.11379308998584747, -0.27131956815719604, 0.020308343693614006, -0.13046208024024963, 0.14263471961021423, 0.20708027482032776, 0.28412652015686035, -0.19239434599876404, -0.08882399648427963, -0.2331184446811676, -0.08145064115524292, 0.23157194256782532, -0.17821109294891357, 0.03958086296916008, -0.044675495475530624, -0.3014945983886719, 0.14201003313064575, 0.1249738335609436, -0.1372208446264267, -0.30842190980911255, 0.05684317275881767, -0.06040656194090843, -0.036093518137931824, -0.02881705015897751, 0.23246493935585022, -0.25298982858657837, 0.26124876737594604, 0.164617121219635, 0.15083514153957367, 0.07065990567207336, -0.1351604014635086, 0.25043579936027527, 0.17919577658176422, -0.36271730065345764, 0.06066220998764038, -0.31269150972366333, 0.12972350418567657, 0.3212357461452484, 0.22076566517353058, 0.2944735288619995, -0.48002874851226807, 0.5596129894256592, 0.029612157493829727, 0.24712559580802917, 0.3335697054862976, 0.004494460299611092, -0.2847856283187866, 0.02715304121375084, -0.011562719941139221, 0.0913894921541214, 0.0024243814405053854, 0.44776347279548645, 0.28102409839630127, 0.047075171023607254, 0.17874881625175476, 0.05926361680030823, -0.10986331105232239, -0.05327795445919037, -0.09634590148925781, 0.005328100174665451, 0.06895262002944946, 0.3666320741176605, 0.4100407660007477, -0.002833993872627616, 0.11283097416162491, 0.46925750374794006, -0.02450720965862274, 0.1768820881843567, -0.008254313841462135, 0.3171026110649109, -0.014105959795415401, -0.028203057125210762, -0.09514384716749191, -0.028995737433433533, -0.3083592355251312, -0.10026512295007706, -0.3874734938144684, 0.04537077620625496, -0.15708470344543457, 0.1473231166601181, 0.012395141646265984, 0.2180345207452774, -0.1302085518836975, 0.07912907749414444, 0.13696624338626862, -0.16589877009391785, -0.2439604550600052, 0.15918537974357605, -0.06744373589754105, 0.007936124689877033, 0.1415632665157318, 0.017707889899611473, -0.11341936141252518, 0.05757085606455803, 0.4451647996902466, 0.03619317710399628, -0.30216675996780396, -0.05124545842409134, 0.04879406839609146, 0.184843048453331, -0.10448085516691208, -0.1623569130897522, 0.35366877913475037, 0.11183779686689377, 0.0892733484506607, 0.1747279316186905, 0.2800241708755493, -0.028572577983140945, 0.11639212816953659, -0.02558380737900734, -0.11305613070726395, -0.3261575996875763, 0.008754384703934193, -0.0321723073720932, 0.10426643490791321, -0.09778106957674026, 0.16759228706359863, 0.08086147904396057, -0.18037733435630798, 0.35826608538627625, -0.17911329865455627, -0.13443303108215332, -0.06200685352087021, -0.3165530860424042, 0.20909738540649414, -0.02620205096900463, -0.030036509037017822, 0.4528366029262543, -0.34785541892051697, 0.012578224763274193, 0.27989113330841064, -0.11429984122514725, 0.308437705039978, 0.10590255260467529, 0.07900358736515045, -0.28286856412887573, 0.13788031041622162, -0.10299629718065262, -0.01613597944378853, -0.05435160547494888, -0.10475748777389526, 0.19593946635723114, -0.37837815284729004, 0.05596727505326271, -0.13946078717708588, 0.1449352502822876, 0.08884336799383163, 0.29049378633499146, 0.0046499804593622684, -0.04823222756385803, -0.24806614220142365, 0.20485243201255798, 0.17634420096874237, -0.12013263255357742, 0.11055765300989151, -0.2555639147758484, 0.34341713786125183, 0.4639180898666382, 0.21003006398677826, 0.023776665329933167, -0.07342337816953659, 0.580689549446106, -0.0744880735874176, -0.2560909688472748, 0.0961940735578537, -0.27737197279930115, -0.2548116147518158, 0.25153017044067383, 0.3483602702617645, 0.18191634118556976, -0.2829342484474182, -0.03502297401428223, -0.20927251875400543, -0.10862436890602112, 0.3419562876224518, 0.14562322199344635, 0.2650378942489624, -0.3323260247707367, 0.17696090042591095, 0.14409640431404114, -0.19331783056259155, 0.20618771016597748, -0.1464879810810089, 0.026721566915512085, 0.004429895430803299, 0.06724272668361664, 0.20916470885276794, 0.2942042350769043, -0.06971749663352966, 0.10562168806791306, -0.09607315808534622, -0.031098417937755585, 0.16717039048671722, 0.17421887814998627, 0.23936183750629425, 0.10524728894233704, -0.23818747699260712, 0.4519574046134949, 0.3658064305782318, -0.03235974907875061, 0.11824925243854523, -0.06717289984226227, -0.03170157968997955, 0.1893787384033203, -0.03039354458451271, 0.15085816383361816, 0.09464091807603836, 0.36107608675956726, 0.10203398019075394, -0.021460993215441704, 0.0974358320236206, 0.6756759285926819, 0.08492044359445572, -0.29671815037727356, -0.06731949746608734, 0.2920007109642029, 0.07162166386842728, 0.25818416476249695, -0.03350123390555382, 0.3597904145717621, 0.09649645537137985, -0.08783496916294098, -0.11742717027664185, 0.3168655335903168, -0.20285366475582123, 0.14915724098682404, -0.06811535358428955, -0.06331007182598114, 0.3021482229232788, 0.15920284390449524, 0.31743842363357544, 0.24328504502773285, -0.026424501091241837, -0.17317982017993927, -0.19911247491836548, 0.2291889786720276, -0.17329305410385132, 0.18573373556137085, -0.016237281262874603, 0.046580616384744644, 0.2614787518978119, -0.074649378657341, -0.2843221127986908, -0.06765911728143692, -0.2796603739261627, 0.02616153098642826, -0.045334409922361374, -0.034030888229608536, 0.16087846457958221, 0.1885022073984146, 0.027734089642763138, 0.058641836047172546, -0.09171394258737564, -0.17645655572414398, -0.0631319135427475, 0.08713281899690628, -0.049573540687561035, -0.16799525916576385, 0.014503355138003826, 0.08607757836580276, 0.5870883464813232, 0.4977194666862488, -0.015293681062757969, -0.05121530592441559, 0.3203742504119873, -0.07102595269680023, -0.2538883686065674, 0.3186386227607727, 0.30929893255233765, 0.012182679027318954, 0.37693431973457336, 0.03312670439481735, -0.0787777379155159, 0.06358334422111511, -0.3513847589492798, 0.13623568415641785, -0.21728475391864777, -0.028720902279019356, 0.3762185573577881, -0.2408415824174881, 0.18805071711540222, 0.03355509042739868, 0.17861604690551758, 0.03353755921125412, -0.24470680952072144, 0.12561634182929993, -0.19952714443206787, -0.1434064507484436, -0.19431352615356445, 0.15956144034862518, -0.09391206502914429, -0.3220473527908325, 0.08030932396650314, 0.07683496177196503, 0.3737741708755493, 0.14631901681423187, 0.01358103659003973, -0.119214728474617, 0.15788565576076508, 0.09306067228317261, 0.0009664391400292516, -9.366255760192871, -0.2662394940853119, -0.058097679167985916, 0.25238335132598877, 0.31049224734306335, -0.3522182106971741, -0.094972163438797, -0.007204251363873482, -0.3028348684310913, -0.1710340529680252, -0.2687889039516449, 0.346341609954834, -0.16653934121131897, -0.06362143158912659, 0.0059456839226186275, -0.39319750666618347, 0.010829757899045944, 0.05054188892245293, -0.01848447322845459, -0.16903996467590332, 0.049720101058483124, 0.16876816749572754, 0.05686188489198685, 0.4948016107082367, 0.13336510956287384, 0.007673792075365782, 0.14108872413635254, 0.029077891260385513, -0.04604600369930267, 0.11156637221574783, -0.442025750875473, 0.10128392279148102, -0.02807820402085781, 0.025857415050268173, 0.13489386439323425, 0.002114170929417014, 0.29594412446022034, -0.13580092787742615, -0.014186377637088299, 0.25441962480545044, 0.06531315296888351, 0.26715606451034546, -0.17651993036270142, -0.25311279296875, -0.08545535057783127, -0.2803921103477478, 0.21518103778362274, 0.19267666339874268, -0.21914002299308777, -0.13487371802330017, 0.01737176813185215, -0.1293632686138153, 0.01721150055527687, 0.03758331760764122, -0.36361047625541687, -0.06569619476795197, -0.09875242412090302, -0.266425222158432, -0.04080314561724663, 0.1490059345960617, -0.051701031625270844, -0.5910077095031738, -0.032659754157066345, 0.21221090853214264, -0.1656220406293869, 0.03625136986374855, 0.07696124911308289, -0.002406634856015444, 0.03767776116728783, 0.11236348748207092, -0.3861248195171356, -0.3227458596229553, -0.42027944326400757, 0.11127220094203949, 0.07969796657562256, -0.12858696281909943, -0.003660684684291482, 0.029697993770241737, -0.28347569704055786, 0.16528163850307465, -0.023620400577783585, 0.32615116238594055, 0.05314544215798378, -0.4250016510486603, -0.155297189950943, -0.06756728142499924, -0.2798236906528473, -0.07460065186023712, 0.15438738465309143, 0.18424351513385773, 0.13506419956684113, 0.08820196986198425, -0.09153305739164352, -0.2694664001464844, -0.1812330037355423, -0.005944644100964069, 0.025336090475320816, 0.2386859655380249, -0.268716961145401, -0.16640906035900116, -0.1913311928510666, 0.10544127225875854, -0.29341062903404236, -0.404472678899765, 0.14722062647342682, -0.17188671231269836, -0.20092666149139404, 0.0679369643330574, -0.01409430056810379, 0.10965333878993988, 0.25842317938804626, 0.15964801609516144, -0.14812639355659485, -0.3022690415382385, -0.034736476838588715, 0.10197527706623077, 0.20986342430114746, 0.10102826356887817, -0.2348937839269638, -0.002580869710072875, 0.27198511362075806, -0.08869300037622452, 0.14986079931259155, -0.2046707719564438, 0.11840569227933884, -0.19642096757888794, 0.05845596641302109, 0.10947199165821075, 0.3432190716266632, -0.2756574749946594, 0.804366409778595, 0.11224309355020523, 0.2226138710975647, 0.03483990952372551, 0.02508053369820118, -0.0210601557046175, -0.3268527388572693, -0.1580338180065155, -0.1989802122116089, 0.17813153564929962, 0.2414693385362625, -0.39236360788345337, -0.0041303131729364395, 0.07989640533924103, 0.16688068211078644, 0.2782270014286041, -0.08585575968027115, -0.13805973529815674, -0.16571985185146332, -0.4032830595970154, -0.10794635117053986, 0.4149222671985626, 0.05339972302317619, -0.2789742052555084, -0.3358830213546753, 0.11887365579605103, 0.16300557553768158, -0.06540746986865997, 0.015822498127818108, 0.25543802976608276, 0.10542210191488266, 0.18713559210300446, 0.051911935210227966, -0.11349112540483475, -0.04727032035589218, -0.22107678651809692, 0.06694074720144272, 0.12700676918029785, -0.16732390224933624, -0.1853313148021698, 0.1932651400566101, 0.061234261840581894, 0.1980845034122467, -0.37603291869163513, -0.12630197405815125, -0.06063636764883995, -0.23242579400539398, -0.07694415003061295, -0.006119523663073778, -0.2590494751930237, 0.08602100610733032, 0.18706192076206207, -0.28640246391296387, -0.08194821327924728, -0.12074276804924011, 0.15345804393291473, -0.3602488040924072, 0.02712906338274479, 0.03359440714120865, -0.41020163893699646, -0.0009190766140818596, -0.11830568313598633, -0.2389669269323349, 0.07273197919130325, 0.021359354257583618, 0.13596601784229279, 0.18433980643749237, -0.008307669311761856, -0.07480372488498688, 0.014853118918836117, 0.4310399293899536, -0.25086450576782227, 0.26240965723991394, 0.0017189360223710537, -0.07294269651174545, -0.3602936267852783, 0.33663076162338257, -0.13690194487571716, 0.3142226040363312, -0.08235006034374237, -0.3945208191871643]\n"
          ],
          "name": "stdout"
        }
      ]
    },
    {
      "cell_type": "markdown",
      "metadata": {
        "id": "bsHX-jM_6uCI",
        "colab_type": "text"
      },
      "source": [
        "# Text Summarization"
      ]
    },
    {
      "cell_type": "code",
      "metadata": {
        "id": "nOZEPbUW6Fp2",
        "colab_type": "code",
        "colab": {
          "base_uri": "https://localhost:8080/",
          "height": 269,
          "referenced_widgets": [
            "1a5b19553c7f4e8fa2a6590b1d5fd15f",
            "3f14e754d5e84b2d8e2e02dd18a6e2e4",
            "2472b64dedf44c9a9e951449c6d0c570",
            "425ec9a1e8bc4a9d8e3cb8d354e03604",
            "0c75c022f4a74600be482ff5bf5d8e5d",
            "64788cd57d1548cb9848e973eb0e7894",
            "1a9c8bb9dfb34ac998f48105f73ea1f0",
            "46882153c60a4a9fa86ea48d68c7bf2b",
            "13397ec8663749d7b7e3c6f07c430f1e",
            "d286346a048d45a4b76ef97feff3609e",
            "da9a7e8418db463cbfc42b141f06288f",
            "39e0cfcf2aec4caa9f6e0acbee5edd17",
            "985ca0f4ab9b4457b922b39f43e25ad2",
            "ad234f0c4a564bd5b3cf34ef6bd53ee0",
            "92059c1f632e4142a36eef9403c756c8",
            "f3f54e48f8d54502a88c1d1d5ed27ba2",
            "00336863c5fa4e548ee9689913dc4586",
            "3065da5fb5d94a12975298e706e2fd27",
            "837d4ff16c6c43abb7d47cae87ad09fb",
            "dee0314d6814487b869d947189d2410e",
            "0f487969d6be4c1e82d23cacf47d3855",
            "7c9b5119c3734bb49e4b3614b1295357",
            "08f6fa688c9e4d1d8a028ee79e2f448f",
            "0f2ca31359a14431bfdd33fb61dca5b7",
            "ed0ca5a15d894059bf7a33035576d41b",
            "fdb684c1977b499495981715cb27c571",
            "6098ebcf4049424dbc3a61a2c364e102",
            "f0075ead180744be989e0bc90343eca3",
            "67fd92ff68054de2a6215ed467784325",
            "e2765ce6f6334128a41c11cbcd6823ee",
            "b9aeed46c99540d69945b9394abd578d",
            "ecc9e800b44e48d98d09e27617377893",
            "a25ce9a2caa5437898b057c7ba065713",
            "02b5850cc1194e6cb48cab7b5a04e302",
            "13dcb10064f54281a76b9bde7f42c584",
            "f7589dae49d441ffad94edd425f1ff66",
            "ba3fa1a78d7a460aa35695f05e3b6f3b",
            "d8a95142d3a7452cb5d3b65eb02d1c16",
            "113197f856294cc0baec5a083ae858a1",
            "4a1f2caeb8304bca9c878dd93e0028d9"
          ]
        },
        "outputId": "bca2d5b7-18e7-457a-e641-b6534212a667"
      },
      "source": [
        "summarize = pipeline(\"summarization\")"
      ],
      "execution_count": 39,
      "outputs": [
        {
          "output_type": "display_data",
          "data": {
            "application/vnd.jupyter.widget-view+json": {
              "model_id": "1a5b19553c7f4e8fa2a6590b1d5fd15f",
              "version_minor": 0,
              "version_major": 2
            },
            "text/plain": [
              "HBox(children=(FloatProgress(value=0.0, description='Downloading', max=1621.0, style=ProgressStyle(description…"
            ]
          },
          "metadata": {
            "tags": []
          }
        },
        {
          "output_type": "stream",
          "text": [
            "\n"
          ],
          "name": "stdout"
        },
        {
          "output_type": "display_data",
          "data": {
            "application/vnd.jupyter.widget-view+json": {
              "model_id": "13397ec8663749d7b7e3c6f07c430f1e",
              "version_minor": 0,
              "version_major": 2
            },
            "text/plain": [
              "HBox(children=(FloatProgress(value=0.0, description='Downloading', max=898822.0, style=ProgressStyle(descripti…"
            ]
          },
          "metadata": {
            "tags": []
          }
        },
        {
          "output_type": "stream",
          "text": [
            "\n"
          ],
          "name": "stdout"
        },
        {
          "output_type": "display_data",
          "data": {
            "application/vnd.jupyter.widget-view+json": {
              "model_id": "00336863c5fa4e548ee9689913dc4586",
              "version_minor": 0,
              "version_major": 2
            },
            "text/plain": [
              "HBox(children=(FloatProgress(value=0.0, description='Downloading', max=456318.0, style=ProgressStyle(descripti…"
            ]
          },
          "metadata": {
            "tags": []
          }
        },
        {
          "output_type": "stream",
          "text": [
            "\n"
          ],
          "name": "stdout"
        },
        {
          "output_type": "display_data",
          "data": {
            "application/vnd.jupyter.widget-view+json": {
              "model_id": "ed0ca5a15d894059bf7a33035576d41b",
              "version_minor": 0,
              "version_major": 2
            },
            "text/plain": [
              "HBox(children=(FloatProgress(value=0.0, description='Downloading', max=26.0, style=ProgressStyle(description_w…"
            ]
          },
          "metadata": {
            "tags": []
          }
        },
        {
          "output_type": "stream",
          "text": [
            "\n"
          ],
          "name": "stdout"
        },
        {
          "output_type": "display_data",
          "data": {
            "application/vnd.jupyter.widget-view+json": {
              "model_id": "a25ce9a2caa5437898b057c7ba065713",
              "version_minor": 0,
              "version_major": 2
            },
            "text/plain": [
              "HBox(children=(FloatProgress(value=0.0, description='Downloading', max=1222317369.0, style=ProgressStyle(descr…"
            ]
          },
          "metadata": {
            "tags": []
          }
        },
        {
          "output_type": "stream",
          "text": [
            "\n"
          ],
          "name": "stdout"
        }
      ]
    },
    {
      "cell_type": "code",
      "metadata": {
        "id": "Ha-CUBIZ66FJ",
        "colab_type": "code",
        "colab": {
          "base_uri": "https://localhost:8080/",
          "height": 146
        },
        "outputId": "0ddeeeba-09a4-416f-bd52-dd4d5cda48fe"
      },
      "source": [
        "article = \"The speed of transmission is an important point of difference between the two viruses. Influenza has a shorter median incubation period (the time from infection to appearance of symptoms) and a shorter serial interval (the time between successive cases) than COVID-19 virus. The serial interval for COVID-19 virus is estimated to be 5-6 days, while for influenza virus, the serial interval is 3 days. This means that influenza can spread faster than COVID-19. Further, transmission in the first 3-5 days of illness, or potentially pre-symptomatic transmission –transmission of the virus before the appearance of symptoms – is a major driver of transmission for influenza. In contrast, while we are learning that there are people who can shed COVID-19 virus 24-48 hours prior to symptom onset, at present, this does not appear to be a major driver of transmission.\"\n",
        "article"
      ],
      "execution_count": 40,
      "outputs": [
        {
          "output_type": "execute_result",
          "data": {
            "application/vnd.google.colaboratory.intrinsic+json": {
              "type": "string"
            },
            "text/plain": [
              "'The speed of transmission is an important point of difference between the two viruses. Influenza has a shorter median incubation period (the time from infection to appearance of symptoms) and a shorter serial interval (the time between successive cases) than COVID-19 virus. The serial interval for COVID-19 virus is estimated to be 5-6 days, while for influenza virus, the serial interval is 3 days. This means that influenza can spread faster than COVID-19. Further, transmission in the first 3-5 days of illness, or potentially pre-symptomatic transmission –transmission of the virus before the appearance of symptoms – is a major driver of transmission for influenza. In contrast, while we are learning that there are people who can shed COVID-19 virus 24-48 hours prior to symptom onset, at present, this does not appear to be a major driver of transmission.'"
            ]
          },
          "metadata": {
            "tags": []
          },
          "execution_count": 40
        }
      ]
    },
    {
      "cell_type": "code",
      "metadata": {
        "id": "0u1TKJB77S3x",
        "colab_type": "code",
        "colab": {
          "base_uri": "https://localhost:8080/",
          "height": 55
        },
        "outputId": "081e16f9-b1c2-423e-9c8d-bcd90cfd4b69"
      },
      "source": [
        "summarize(article)"
      ],
      "execution_count": 41,
      "outputs": [
        {
          "output_type": "execute_result",
          "data": {
            "text/plain": [
              "[{'summary_text': ' Influenza has a shorter median incubation period (the time from infection to appearance of symptoms) than COVID-19 virus . The speed of transmission is an important point of difference between the two viruses . This means that influenza can spread faster than the virus that can be shed 24-48 hours prior to symptoms .'}]"
            ]
          },
          "metadata": {
            "tags": []
          },
          "execution_count": 41
        }
      ]
    },
    {
      "cell_type": "code",
      "metadata": {
        "id": "Dynqt1D_7Uov",
        "colab_type": "code",
        "colab": {}
      },
      "source": [
        ""
      ],
      "execution_count": null,
      "outputs": []
    }
  ]
}