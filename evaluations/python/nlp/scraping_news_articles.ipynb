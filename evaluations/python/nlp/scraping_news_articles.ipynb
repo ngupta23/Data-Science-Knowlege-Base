{
 "metadata": {
  "language_info": {
   "codemirror_mode": {
    "name": "ipython",
    "version": 3
   },
   "file_extension": ".py",
   "mimetype": "text/x-python",
   "name": "python",
   "nbconvert_exporter": "python",
   "pygments_lexer": "ipython3",
   "version": "3.6.10-final"
  },
  "orig_nbformat": 2,
  "kernelspec": {
   "name": "python_defaultSpec_1598106017044",
   "display_name": "Python 3.6.10 64-bit ('dl_nlp': conda)"
  }
 },
 "nbformat": 4,
 "nbformat_minor": 2,
 "cells": [
  {
   "cell_type": "markdown",
   "metadata": {},
   "source": [
    "# Scraping News Articles\n",
    "\n",
    "### https://towardsdatascience.com/scraping-news-and-articles-from-public-apis-with-python-be84521d85b9\n",
    "\n",
    "Summary:\n",
    "\n",
    "1. **New York Times**: Only provides meta information about the article, not the article itself.\n",
    "2. "
   ]
  },
  {
   "cell_type": "code",
   "execution_count": 1,
   "metadata": {},
   "outputs": [],
   "source": [
    "import requests\n",
    "import os\n",
    "from pprint import pprint\n",
    "import pandas as pd"
   ]
  },
  {
   "cell_type": "markdown",
   "metadata": {},
   "source": [
    "# New York Times"
   ]
  },
  {
   "cell_type": "code",
   "execution_count": 7,
   "metadata": {},
   "outputs": [],
   "source": [
    "with open('../../../../api_keys/nytimes/api_key.txt') as f:\n",
    "    apikey = f.readline()"
   ]
  },
  {
   "cell_type": "markdown",
   "metadata": {},
   "source": [
    "The simplest query we can do with NY Times API is look up for current top stories. The snippet below is very straightforward. We run a GET request against `topstories/v2` endpoint supplying `section` name and our API key. Section in this case is science, but NY Times provides a lot of other options here, e.g. fashion, health, sports or theater. Full list can be found in the link below. This specific request would produce response that would look something like this:"
   ]
  },
  {
   "cell_type": "code",
   "execution_count": 87,
   "metadata": {
    "tags": []
   },
   "outputs": [],
   "source": [
    "# Top Stories: https://developer.nytimes.com/docs/top-stories-product/1/overview\n",
    "section = \"science\"\n",
    "query_url = f\"https://api.nytimes.com/svc/topstories/v2/{section}.json?api-key={apikey}\"\n",
    "\n",
    "r = requests.get(query_url)\n",
    "# pprint(r.json())"
   ]
  },
  {
   "cell_type": "code",
   "execution_count": 90,
   "metadata": {},
   "outputs": [
    {
     "output_type": "execute_result",
     "data": {
      "text/plain": "dict_keys(['status', 'copyright', 'section', 'last_updated', 'num_results', 'results'])"
     },
     "metadata": {},
     "execution_count": 90
    }
   ],
   "source": [
    "r.json().keys()"
   ]
  },
  {
   "cell_type": "code",
   "execution_count": 94,
   "metadata": {},
   "outputs": [
    {
     "output_type": "execute_result",
     "data": {
      "text/plain": "list"
     },
     "metadata": {},
     "execution_count": 94
    }
   ],
   "source": [
    "type(r.json()['results'])"
   ]
  },
  {
   "cell_type": "code",
   "execution_count": 95,
   "metadata": {
    "tags": []
   },
   "outputs": [
    {
     "output_type": "stream",
     "name": "stdout",
     "text": "<class 'pandas.core.frame.DataFrame'>\nRangeIndex: 25 entries, 0 to 24\nData columns (total 19 columns):\n #   Column               Non-Null Count  Dtype \n---  ------               --------------  ----- \n 0   section              25 non-null     object\n 1   subsection           25 non-null     object\n 2   title                25 non-null     object\n 3   abstract             25 non-null     object\n 4   url                  25 non-null     object\n 5   uri                  25 non-null     object\n 6   byline               25 non-null     object\n 7   item_type            25 non-null     object\n 8   updated_date         25 non-null     object\n 9   created_date         25 non-null     object\n 10  published_date       25 non-null     object\n 11  material_type_facet  25 non-null     object\n 12  kicker               25 non-null     object\n 13  des_facet            25 non-null     object\n 14  org_facet            25 non-null     object\n 15  per_facet            25 non-null     object\n 16  geo_facet            25 non-null     object\n 17  multimedia           25 non-null     object\n 18  short_url            25 non-null     object\ndtypes: object(19)\nmemory usage: 3.8+ KB\n"
    }
   ],
   "source": [
    "data = pd.json_normalize(r.json()['results'])\n",
    "data.info()"
   ]
  },
  {
   "cell_type": "code",
   "execution_count": 97,
   "metadata": {},
   "outputs": [
    {
     "output_type": "execute_result",
     "data": {
      "text/plain": "   section  ...                short_url\n0    world  ...  https://nyti.ms/2Qfhh8Z\n1  science  ...  https://nyti.ms/3aLQtGQ\n2   health  ...  https://nyti.ms/2Qh2hHK\n3   health  ...  https://nyti.ms/2QaUJ9s\n4   health  ...  https://nyti.ms/2YlflQU\n\n[5 rows x 19 columns]",
      "text/html": "<div>\n<style scoped>\n    .dataframe tbody tr th:only-of-type {\n        vertical-align: middle;\n    }\n\n    .dataframe tbody tr th {\n        vertical-align: top;\n    }\n\n    .dataframe thead th {\n        text-align: right;\n    }\n</style>\n<table border=\"1\" class=\"dataframe\">\n  <thead>\n    <tr style=\"text-align: right;\">\n      <th></th>\n      <th>section</th>\n      <th>subsection</th>\n      <th>title</th>\n      <th>abstract</th>\n      <th>url</th>\n      <th>uri</th>\n      <th>byline</th>\n      <th>item_type</th>\n      <th>updated_date</th>\n      <th>created_date</th>\n      <th>published_date</th>\n      <th>material_type_facet</th>\n      <th>kicker</th>\n      <th>des_facet</th>\n      <th>org_facet</th>\n      <th>per_facet</th>\n      <th>geo_facet</th>\n      <th>multimedia</th>\n      <th>short_url</th>\n    </tr>\n  </thead>\n  <tbody>\n    <tr>\n      <th>0</th>\n      <td>world</td>\n      <td></td>\n      <td>Covid-19 Live Updates: 3 States See Cases Link...</td>\n      <td>A judge blocks a couple’s plans to hold a 175-...</td>\n      <td>https://www.nytimes.com/2020/08/22/world/covid...</td>\n      <td>nyt://article/3015e8d5-b401-5109-bd6d-3ba42011...</td>\n      <td></td>\n      <td>Article</td>\n      <td>2020-08-22T10:47:12-04:00</td>\n      <td>2020-08-22T08:01:11-04:00</td>\n      <td>2020-08-22T08:01:11-04:00</td>\n      <td></td>\n      <td></td>\n      <td>[Coronavirus (2019-nCoV)]</td>\n      <td>[]</td>\n      <td>[]</td>\n      <td>[]</td>\n      <td>[{'url': 'https://static01.nyt.com/images/2020...</td>\n      <td>https://nyti.ms/2Qfhh8Z</td>\n    </tr>\n    <tr>\n      <th>1</th>\n      <td>science</td>\n      <td></td>\n      <td>Why Some Tropical Fish Are Gettin’ Squiggly Wi...</td>\n      <td>On occasion, different species of anglerfish p...</td>\n      <td>https://www.nytimes.com/2020/08/22/science/ang...</td>\n      <td>nyt://article/5937698d-a328-5ff6-b73f-8d2f8f0f...</td>\n      <td>By Sabrina Imbler</td>\n      <td>Article</td>\n      <td>2020-08-22T05:00:13-04:00</td>\n      <td>2020-08-22T05:00:13-04:00</td>\n      <td>2020-08-22T05:00:13-04:00</td>\n      <td></td>\n      <td></td>\n      <td>[Reproduction (Biological), Coral, Reefs, Fish...</td>\n      <td>[]</td>\n      <td>[]</td>\n      <td>[]</td>\n      <td>[{'url': 'https://static01.nyt.com/images/2020...</td>\n      <td>https://nyti.ms/3aLQtGQ</td>\n    </tr>\n    <tr>\n      <th>2</th>\n      <td>health</td>\n      <td></td>\n      <td>Cartilage Is Grown in the Arthritic Joints of ...</td>\n      <td>Researchers discovered a way to awaken dormant...</td>\n      <td>https://www.nytimes.com/2020/08/22/health/arth...</td>\n      <td>nyt://article/be31e3aa-d2c1-5a6c-abfa-7f587922...</td>\n      <td>By Gina Kolata</td>\n      <td>Article</td>\n      <td>2020-08-22T05:00:11-04:00</td>\n      <td>2020-08-22T05:00:11-04:00</td>\n      <td>2020-08-22T05:00:11-04:00</td>\n      <td></td>\n      <td></td>\n      <td>[Knees, Bones, Research, Mice, Stem Cells, Art...</td>\n      <td>[Nature Medicine (Journal)]</td>\n      <td>[]</td>\n      <td>[]</td>\n      <td>[{'url': 'https://static01.nyt.com/images/2020...</td>\n      <td>https://nyti.ms/2Qh2hHK</td>\n    </tr>\n    <tr>\n      <th>3</th>\n      <td>health</td>\n      <td></td>\n      <td>Why Antibody Tests Won’t Help You Much</td>\n      <td>Most antibody tests are useful only for large ...</td>\n      <td>https://www.nytimes.com/2020/08/21/health/coro...</td>\n      <td>nyt://article/52a01565-8d75-5473-a681-48026a0d...</td>\n      <td>By Donald G. McNeil Jr.</td>\n      <td>Article</td>\n      <td>2020-08-21T22:55:28-04:00</td>\n      <td>2020-08-21T18:34:31-04:00</td>\n      <td>2020-08-21T18:34:31-04:00</td>\n      <td></td>\n      <td></td>\n      <td>[Coronavirus (2019-nCoV), Antibodies, Tests (M...</td>\n      <td>[Infectious Diseases Society of America, Cente...</td>\n      <td>[Osterholm, Michael T]</td>\n      <td>[]</td>\n      <td>[{'url': 'https://static01.nyt.com/images/2020...</td>\n      <td>https://nyti.ms/2QaUJ9s</td>\n    </tr>\n    <tr>\n      <th>4</th>\n      <td>health</td>\n      <td></td>\n      <td>What to Know About Stuttering</td>\n      <td>The speech disorder can play havoc with sociab...</td>\n      <td>https://www.nytimes.com/2020/08/21/health/stut...</td>\n      <td>nyt://article/f5babc18-419d-50e1-abee-75299973...</td>\n      <td>By Benedict Carey</td>\n      <td>Article</td>\n      <td>2020-08-22T09:12:16-04:00</td>\n      <td>2020-08-21T17:03:59-04:00</td>\n      <td>2020-08-21T17:03:59-04:00</td>\n      <td></td>\n      <td></td>\n      <td>[Stuttering, Anxiety and Stress, Presidential ...</td>\n      <td>[]</td>\n      <td>[Harrington, Brayden]</td>\n      <td>[]</td>\n      <td>[{'url': 'https://static01.nyt.com/images/2020...</td>\n      <td>https://nyti.ms/2YlflQU</td>\n    </tr>\n  </tbody>\n</table>\n</div>"
     },
     "metadata": {},
     "execution_count": 97
    }
   ],
   "source": [
    "data.head()"
   ]
  },
  {
   "cell_type": "markdown",
   "metadata": {},
   "source": [
    "Next and probably the most useful endpoint when you are trying to get some specific set of data is the article search endpoint.\n",
    "\n",
    "This endpoint features lots of filtering options. The only mandatory field is `q (query)`, which is the search term. Beyond that you can mix and match filter query, date range (`begin_date`, `end_date`), page number, sort order and facet fields. The filter query (`fq`) is interesting one, as it allows use of Lucene query syntax, which can be used to create complex filters with logical operators (`AND`, `OR`), negations or wildcards. Nice tutorial can be found in the link below.\n"
   ]
  },
  {
   "cell_type": "code",
   "execution_count": 98,
   "metadata": {
    "tags": []
   },
   "outputs": [],
   "source": [
    "# Article Search: https://developer.nytimes.com/docs/articlesearch-product/1/routes/articlesearch.json/get to explore API\n",
    "# https://api.nytimes.com/svc/search/v2/articlesearch.json?q=<QUERY>&api-key=<APIKEY>\n",
    "\n",
    "query = \"politics\"\n",
    "begin_date = \"20200701\"  # YYYYMMDD\n",
    "filter_query = \"\\\"body:(\\\"Trump\\\") AND glocations:(\\\"WASHINGTON\\\")\\\"\"  # http://www.lucenetutorial.com/lucene-query-syntax.html\n",
    "page = \"0\"  # <0-100>\n",
    "sort = \"relevance\"  # newest, oldest\n",
    "query_url = f\"https://api.nytimes.com/svc/search/v2/articlesearch.json?\" \\\n",
    "            f\"q={query}\" \\\n",
    "            f\"&api-key={apikey}\" \\\n",
    "            f\"&begin_date={begin_date}\" \\\n",
    "            f\"&fq={filter_query}\" \\\n",
    "            f\"&page={page}\" \\\n",
    "            f\"&sort={sort}\"\n",
    "\n",
    "r = requests.get(query_url)\n",
    "# pprint(r.json())"
   ]
  },
  {
   "cell_type": "code",
   "execution_count": 99,
   "metadata": {},
   "outputs": [
    {
     "output_type": "execute_result",
     "data": {
      "text/plain": "dict_keys(['status', 'copyright', 'response'])"
     },
     "metadata": {},
     "execution_count": 99
    }
   ],
   "source": [
    "r.json().keys()"
   ]
  },
  {
   "cell_type": "code",
   "execution_count": 100,
   "metadata": {
    "tags": []
   },
   "outputs": [
    {
     "output_type": "stream",
     "name": "stdout",
     "text": "<class 'pandas.core.frame.DataFrame'>\nRangeIndex: 10 entries, 0 to 9\nData columns (total 28 columns):\n #   Column                   Non-Null Count  Dtype \n---  ------                   --------------  ----- \n 0   abstract                 10 non-null     object\n 1   web_url                  10 non-null     object\n 2   snippet                  10 non-null     object\n 3   lead_paragraph           10 non-null     object\n 4   print_section            4 non-null      object\n 5   print_page               4 non-null      object\n 6   source                   10 non-null     object\n 7   multimedia               10 non-null     object\n 8   keywords                 10 non-null     object\n 9   pub_date                 10 non-null     object\n 10  document_type            10 non-null     object\n 11  news_desk                10 non-null     object\n 12  section_name             10 non-null     object\n 13  type_of_material         10 non-null     object\n 14  _id                      10 non-null     object\n 15  word_count               10 non-null     int64 \n 16  uri                      10 non-null     object\n 17  headline.main            10 non-null     object\n 18  headline.kicker          1 non-null      object\n 19  headline.content_kicker  0 non-null      object\n 20  headline.print_headline  3 non-null      object\n 21  headline.name            0 non-null      object\n 22  headline.seo             0 non-null      object\n 23  headline.sub             0 non-null      object\n 24  byline.original          9 non-null      object\n 25  byline.person            10 non-null     object\n 26  byline.organization      0 non-null      object\n 27  subsection_name          5 non-null      object\ndtypes: int64(1), object(27)\nmemory usage: 2.3+ KB\n"
    }
   ],
   "source": [
    "data = pd.json_normalize(r.json()['response']['docs'])\n",
    "data.info()"
   ]
  },
  {
   "cell_type": "code",
   "execution_count": 101,
   "metadata": {},
   "outputs": [
    {
     "output_type": "execute_result",
     "data": {
      "text/plain": "                                            abstract  ... subsection_name\n0  A backstage fixture at Democratic conventions,...  ...             NaN\n1  Jon Meacham’s remarks at this week’s Democrati...  ...             NaN\n2  She grew up around Berkeley activists but came...  ...        Politics\n3  Party strategists pay a lot of attention to re...  ...             NaN\n4  Ms. Louis-Dreyfus was the final television sta...  ...        Politics\n\n[5 rows x 28 columns]",
      "text/html": "<div>\n<style scoped>\n    .dataframe tbody tr th:only-of-type {\n        vertical-align: middle;\n    }\n\n    .dataframe tbody tr th {\n        vertical-align: top;\n    }\n\n    .dataframe thead th {\n        text-align: right;\n    }\n</style>\n<table border=\"1\" class=\"dataframe\">\n  <thead>\n    <tr style=\"text-align: right;\">\n      <th></th>\n      <th>abstract</th>\n      <th>web_url</th>\n      <th>snippet</th>\n      <th>lead_paragraph</th>\n      <th>print_section</th>\n      <th>print_page</th>\n      <th>source</th>\n      <th>multimedia</th>\n      <th>keywords</th>\n      <th>pub_date</th>\n      <th>document_type</th>\n      <th>news_desk</th>\n      <th>section_name</th>\n      <th>type_of_material</th>\n      <th>_id</th>\n      <th>word_count</th>\n      <th>uri</th>\n      <th>headline.main</th>\n      <th>headline.kicker</th>\n      <th>headline.content_kicker</th>\n      <th>headline.print_headline</th>\n      <th>headline.name</th>\n      <th>headline.seo</th>\n      <th>headline.sub</th>\n      <th>byline.original</th>\n      <th>byline.person</th>\n      <th>byline.organization</th>\n      <th>subsection_name</th>\n    </tr>\n  </thead>\n  <tbody>\n    <tr>\n      <th>0</th>\n      <td>A backstage fixture at Democratic conventions,...</td>\n      <td>https://www.nytimes.com/2020/08/20/us/christin...</td>\n      <td>A backstage fixture at Democratic conventions,...</td>\n      <td>Christine Jahnke, a communications coach who p...</td>\n      <td>B</td>\n      <td>9</td>\n      <td>The New York Times</td>\n      <td>[{'rank': 0, 'subtype': 'xlarge', 'caption': N...</td>\n      <td>[{'name': 'persons', 'value': 'Jahnke, Christi...</td>\n      <td>2020-08-20T22:12:35+0000</td>\n      <td>article</td>\n      <td>Obits</td>\n      <td>U.S.</td>\n      <td>Obituary (Obit)</td>\n      <td>nyt://article/6cad0b2d-6b45-5a73-aac9-5ef08962...</td>\n      <td>1199</td>\n      <td>nyt://article/6cad0b2d-6b45-5a73-aac9-5ef08962...</td>\n      <td>Christine Jahnke, Speech Coach for Women in Po...</td>\n      <td>None</td>\n      <td>None</td>\n      <td>Christine Jahnke, Speech Coach  For Women in P...</td>\n      <td>None</td>\n      <td>None</td>\n      <td>None</td>\n      <td>By Katharine Q. Seelye</td>\n      <td>[{'firstname': 'Katharine', 'middlename': 'Q.'...</td>\n      <td>None</td>\n      <td>NaN</td>\n    </tr>\n    <tr>\n      <th>1</th>\n      <td>Jon Meacham’s remarks at this week’s Democrati...</td>\n      <td>https://www.nytimes.com/2020/08/21/books/jon-m...</td>\n      <td>Jon Meacham’s remarks at this week’s Democrati...</td>\n      <td>Last month, the historian and biographer Jon M...</td>\n      <td>NaN</td>\n      <td>NaN</td>\n      <td>The New York Times</td>\n      <td>[{'rank': 0, 'subtype': 'xlarge', 'caption': N...</td>\n      <td>[{'name': 'subject', 'value': 'Presidential El...</td>\n      <td>2020-08-21T23:24:28+0000</td>\n      <td>article</td>\n      <td>Books</td>\n      <td>Books</td>\n      <td>News</td>\n      <td>nyt://article/8766ce1d-24e0-50ca-b68e-4c249313...</td>\n      <td>1079</td>\n      <td>nyt://article/8766ce1d-24e0-50ca-b68e-4c249313...</td>\n      <td>A Presidential Historian Makes a Rare Appearan...</td>\n      <td>None</td>\n      <td>None</td>\n      <td>None</td>\n      <td>None</td>\n      <td>None</td>\n      <td>None</td>\n      <td>By Alexandra Alter</td>\n      <td>[{'firstname': 'Alexandra', 'middlename': None...</td>\n      <td>None</td>\n      <td>NaN</td>\n    </tr>\n    <tr>\n      <th>2</th>\n      <td>She grew up around Berkeley activists but came...</td>\n      <td>https://www.nytimes.com/2020/08/12/us/politics...</td>\n      <td>She grew up around Berkeley activists but came...</td>\n      <td>Kamala Harris’s first act as a political candi...</td>\n      <td>A</td>\n      <td>1</td>\n      <td>The New York Times</td>\n      <td>[{'rank': 0, 'subtype': 'xlarge', 'caption': N...</td>\n      <td>[{'name': 'persons', 'value': 'Harris, Kamala ...</td>\n      <td>2020-08-12T07:00:07+0000</td>\n      <td>article</td>\n      <td>Politics</td>\n      <td>U.S.</td>\n      <td>News</td>\n      <td>nyt://article/3c71944f-266a-57fa-8ddf-a44e9ff3...</td>\n      <td>1765</td>\n      <td>nyt://article/3c71944f-266a-57fa-8ddf-a44e9ff3...</td>\n      <td>Kamala Harris, a Political Fighter Shaped by L...</td>\n      <td>None</td>\n      <td>None</td>\n      <td>None</td>\n      <td>None</td>\n      <td>None</td>\n      <td>None</td>\n      <td>By Matt Flegenheimer and Lisa Lerer</td>\n      <td>[{'firstname': 'Matt', 'middlename': None, 'la...</td>\n      <td>None</td>\n      <td>Politics</td>\n    </tr>\n    <tr>\n      <th>3</th>\n      <td>Party strategists pay a lot of attention to re...</td>\n      <td>https://www.nytimes.com/2020/08/12/opinion/cen...</td>\n      <td>Party strategists pay a lot of attention to re...</td>\n      <td>Some of the most important developments in pol...</td>\n      <td>NaN</td>\n      <td>NaN</td>\n      <td>The New York Times</td>\n      <td>[{'rank': 0, 'subtype': 'xlarge', 'caption': N...</td>\n      <td>[{'name': 'subject', 'value': 'State Legislatu...</td>\n      <td>2020-08-12T09:00:18+0000</td>\n      <td>article</td>\n      <td>OpEd</td>\n      <td>Opinion</td>\n      <td>Op-Ed</td>\n      <td>nyt://article/74074d0f-51df-568d-962a-d63621ee...</td>\n      <td>2296</td>\n      <td>nyt://article/74074d0f-51df-568d-962a-d63621ee...</td>\n      <td>The Politics We Don’t See Matter as Much as Th...</td>\n      <td>None</td>\n      <td>None</td>\n      <td>None</td>\n      <td>None</td>\n      <td>None</td>\n      <td>None</td>\n      <td>By Thomas B. Edsall</td>\n      <td>[{'firstname': 'Thomas', 'middlename': None, '...</td>\n      <td>None</td>\n      <td>NaN</td>\n    </tr>\n    <tr>\n      <th>4</th>\n      <td>Ms. Louis-Dreyfus was the final television sta...</td>\n      <td>https://www.nytimes.com/2020/08/20/us/politics...</td>\n      <td>Ms. Louis-Dreyfus was the final television sta...</td>\n      <td>Olivia Pope and Selina Meyer are used to findi...</td>\n      <td>A</td>\n      <td>15</td>\n      <td>The New York Times</td>\n      <td>[{'rank': 0, 'subtype': 'xlarge', 'caption': N...</td>\n      <td>[{'name': 'subject', 'value': 'Democratic Nati...</td>\n      <td>2020-08-20T21:27:42+0000</td>\n      <td>article</td>\n      <td>Politics</td>\n      <td>U.S.</td>\n      <td>News</td>\n      <td>nyt://article/ef970cda-17cb-52e9-93e8-28898c30...</td>\n      <td>1439</td>\n      <td>nyt://article/ef970cda-17cb-52e9-93e8-28898c30...</td>\n      <td>Julia Louis-Dreyfus Caps a Week of Starring Ro...</td>\n      <td>None</td>\n      <td>None</td>\n      <td>Four Women Used to Life Onscreen Guided Viewer...</td>\n      <td>None</td>\n      <td>None</td>\n      <td>None</td>\n      <td>By Sydney Ember and Lisa Lerer</td>\n      <td>[{'firstname': 'Sydney', 'middlename': None, '...</td>\n      <td>None</td>\n      <td>Politics</td>\n    </tr>\n  </tbody>\n</table>\n</div>"
     },
     "metadata": {},
     "execution_count": 101
    }
   ],
   "source": [
    "data.head()"
   ]
  },
  {
   "cell_type": "markdown",
   "metadata": {},
   "source": [
    "Last endpoint for NY Times that I will show here is their Archive API which returns list of articles for given month going back all the way to 1851! This can be very useful if you need bulk data and don’t really need to search for specific terms."
   ]
  },
  {
   "cell_type": "code",
   "execution_count": 58,
   "metadata": {
    "tags": []
   },
   "outputs": [],
   "source": [
    "# Archive Search\n",
    "# https://developer.nytimes.com/docs/archive-product/1/overview\n",
    "\n",
    "year = \"2020\"  # <1851 - 2020>\n",
    "month = \"7\"  # <1 - 12>\n",
    "query_url = f\"https://api.nytimes.com/svc/archive/v1/{year}/{month}.json?api-key={apikey}\"\n",
    "\n",
    "r = requests.get(query_url)\n",
    "# pprint(r.json())"
   ]
  },
  {
   "cell_type": "code",
   "execution_count": 59,
   "metadata": {
    "tags": []
   },
   "outputs": [
    {
     "output_type": "stream",
     "name": "stdout",
     "text": "dict_keys(['copyright', 'response'])\ndict_keys(['meta', 'docs'])\n<class 'list'> 6553\n"
    }
   ],
   "source": [
    "print(r.json().keys())\n",
    "print(r.json()['response'].keys())\n",
    "print(type(r.json()['response']['docs']), len(r.json()['response']['docs']))"
   ]
  },
  {
   "cell_type": "code",
   "execution_count": 60,
   "metadata": {
    "tags": []
   },
   "outputs": [
    {
     "output_type": "stream",
     "name": "stdout",
     "text": "<class 'pandas.core.frame.DataFrame'>\nRangeIndex: 6553 entries, 0 to 6552\nData columns (total 29 columns):\n #   Column                   Non-Null Count  Dtype \n---  ------                   --------------  ----- \n 0   abstract                 6553 non-null   object\n 1   web_url                  6553 non-null   object\n 2   snippet                  6553 non-null   object\n 3   lead_paragraph           6553 non-null   object\n 4   print_section            4078 non-null   object\n 5   print_page               4078 non-null   object\n 6   source                   6553 non-null   object\n 7   multimedia               6553 non-null   object\n 8   keywords                 6553 non-null   object\n 9   pub_date                 6553 non-null   object\n 10  document_type            6553 non-null   object\n 11  news_desk                6553 non-null   object\n 12  section_name             6553 non-null   object\n 13  subsection_name          2646 non-null   object\n 14  type_of_material         6445 non-null   object\n 15  _id                      6553 non-null   object\n 16  word_count               6553 non-null   int64 \n 17  uri                      6553 non-null   object\n 18  headline.main            6553 non-null   object\n 19  headline.kicker          1525 non-null   object\n 20  headline.content_kicker  0 non-null      object\n 21  headline.print_headline  4092 non-null   object\n 22  headline.name            0 non-null      object\n 23  headline.seo             0 non-null      object\n 24  headline.sub             0 non-null      object\n 25  byline.original          5893 non-null   object\n 26  byline.person            6553 non-null   object\n 27  byline.organization      174 non-null    object\n 28  slideshow_credits        55 non-null     object\ndtypes: int64(1), object(28)\nmemory usage: 1.4+ MB\n"
    }
   ],
   "source": [
    "data = pd.json_normalize(r.json()['response']['docs'])\n",
    "data.info()"
   ]
  },
  {
   "cell_type": "code",
   "execution_count": 77,
   "metadata": {},
   "outputs": [
    {
     "output_type": "execute_result",
     "data": {
      "text/plain": "                                            abstract  ... slideshow_credits\n0  A small-time businessman became a key middlema...  ...               NaN\n1  The so-called Capitol Hill Organized Protest a...  ...               NaN\n2  Surging outbreaks in the U.S. Embassy and the ...  ...               NaN\n3  Journalists have been wary of Alden Global Cap...  ...               NaN\n4  Adam Hollingsworth, known in Chicago as the Dr...  ...               NaN\n\n[5 rows x 29 columns]",
      "text/html": "<div>\n<style scoped>\n    .dataframe tbody tr th:only-of-type {\n        vertical-align: middle;\n    }\n\n    .dataframe tbody tr th {\n        vertical-align: top;\n    }\n\n    .dataframe thead th {\n        text-align: right;\n    }\n</style>\n<table border=\"1\" class=\"dataframe\">\n  <thead>\n    <tr style=\"text-align: right;\">\n      <th></th>\n      <th>abstract</th>\n      <th>web_url</th>\n      <th>snippet</th>\n      <th>lead_paragraph</th>\n      <th>print_section</th>\n      <th>print_page</th>\n      <th>source</th>\n      <th>multimedia</th>\n      <th>keywords</th>\n      <th>pub_date</th>\n      <th>document_type</th>\n      <th>news_desk</th>\n      <th>section_name</th>\n      <th>subsection_name</th>\n      <th>type_of_material</th>\n      <th>_id</th>\n      <th>word_count</th>\n      <th>uri</th>\n      <th>headline.main</th>\n      <th>headline.kicker</th>\n      <th>headline.content_kicker</th>\n      <th>headline.print_headline</th>\n      <th>headline.name</th>\n      <th>headline.seo</th>\n      <th>headline.sub</th>\n      <th>byline.original</th>\n      <th>byline.person</th>\n      <th>byline.organization</th>\n      <th>slideshow_credits</th>\n    </tr>\n  </thead>\n  <tbody>\n    <tr>\n      <th>0</th>\n      <td>A small-time businessman became a key middlema...</td>\n      <td>https://www.nytimes.com/2020/07/01/world/asia/...</td>\n      <td>A small-time businessman became a key middlema...</td>\n      <td>KABUL, Afghanistan — He was a lowly drug smugg...</td>\n      <td>A</td>\n      <td>18</td>\n      <td>The New York Times</td>\n      <td>[{'rank': 0, 'subtype': 'xlarge', 'caption': N...</td>\n      <td>[{'name': 'glocations', 'value': 'Russia', 'ra...</td>\n      <td>2020-07-01T23:16:05+0000</td>\n      <td>article</td>\n      <td>Foreign</td>\n      <td>World</td>\n      <td>Asia Pacific</td>\n      <td>News</td>\n      <td>nyt://article/00e3dfa6-82b3-5825-bf8a-c144ac1a...</td>\n      <td>1219</td>\n      <td>nyt://article/00e3dfa6-82b3-5825-bf8a-c144ac1a...</td>\n      <td>Afghan Contractor Handed Out Russian Cash to K...</td>\n      <td>None</td>\n      <td>None</td>\n      <td>Afghan Contractor Gave Out Russian Cash, Offic...</td>\n      <td>None</td>\n      <td>None</td>\n      <td>None</td>\n      <td>By Mujib Mashal, Eric Schmitt, Najim Rahim and...</td>\n      <td>[{'firstname': 'Mujib', 'middlename': None, 'l...</td>\n      <td>None</td>\n      <td>NaN</td>\n    </tr>\n    <tr>\n      <th>1</th>\n      <td>The so-called Capitol Hill Organized Protest a...</td>\n      <td>https://www.nytimes.com/2020/07/01/us/seattle-...</td>\n      <td>The so-called Capitol Hill Organized Protest a...</td>\n      <td>SEATTLE — For weeks, officials in Seattle have...</td>\n      <td>A</td>\n      <td>20</td>\n      <td>The New York Times</td>\n      <td>[]</td>\n      <td>[{'name': 'subject', 'value': 'George Floyd Pr...</td>\n      <td>2020-07-01T14:06:12+0000</td>\n      <td>article</td>\n      <td>National</td>\n      <td>U.S.</td>\n      <td>NaN</td>\n      <td>News</td>\n      <td>nyt://article/01ea3048-bbe7-51ab-a366-09770601...</td>\n      <td>1443</td>\n      <td>nyt://article/01ea3048-bbe7-51ab-a366-09770601...</td>\n      <td>Police Clear Seattle’s Protest ‘Autonomous Zone’</td>\n      <td>None</td>\n      <td>None</td>\n      <td>Blaming Gun Violence, Seattle Officials Clear ...</td>\n      <td>None</td>\n      <td>None</td>\n      <td>None</td>\n      <td>By Rachel Abrams</td>\n      <td>[{'firstname': 'Rachel', 'middlename': None, '...</td>\n      <td>None</td>\n      <td>NaN</td>\n    </tr>\n    <tr>\n      <th>2</th>\n      <td>Surging outbreaks in the U.S. Embassy and the ...</td>\n      <td>https://www.nytimes.com/2020/07/01/us/politics...</td>\n      <td>Surging outbreaks in the U.S. Embassy and the ...</td>\n      <td>WASHINGTON — Inside the sprawling American Emb...</td>\n      <td>A</td>\n      <td>1</td>\n      <td>The New York Times</td>\n      <td>[{'rank': 0, 'subtype': 'xlarge', 'caption': N...</td>\n      <td>[{'name': 'subject', 'value': 'Coronavirus (20...</td>\n      <td>2020-07-01T21:21:16+0000</td>\n      <td>article</td>\n      <td>Washington</td>\n      <td>U.S.</td>\n      <td>Politics</td>\n      <td>News</td>\n      <td>nyt://article/02eea957-203b-5824-a81d-a3c8afcf...</td>\n      <td>1675</td>\n      <td>nyt://article/02eea957-203b-5824-a81d-a3c8afcf...</td>\n      <td>Late Action on Virus Prompts Fears Over Safety...</td>\n      <td>None</td>\n      <td>None</td>\n      <td>Embassy Crisis in Riyadh Shows Perils of Diplo...</td>\n      <td>None</td>\n      <td>None</td>\n      <td>None</td>\n      <td>By Mark Mazzetti and Edward Wong</td>\n      <td>[{'firstname': 'Mark', 'middlename': None, 'la...</td>\n      <td>None</td>\n      <td>NaN</td>\n    </tr>\n    <tr>\n      <th>3</th>\n      <td>Journalists have been wary of Alden Global Cap...</td>\n      <td>https://www.nytimes.com/2020/07/02/business/me...</td>\n      <td>Journalists have been wary of Alden Global Cap...</td>\n      <td>Alden Global Capital seemed in position this w...</td>\n      <td>B</td>\n      <td>1</td>\n      <td>The New York Times</td>\n      <td>[{'rank': 0, 'subtype': 'xlarge', 'caption': N...</td>\n      <td>[{'name': 'subject', 'value': 'Newspapers', 'r...</td>\n      <td>2020-07-03T02:13:01+0000</td>\n      <td>article</td>\n      <td>Business</td>\n      <td>Business Day</td>\n      <td>Media</td>\n      <td>News</td>\n      <td>nyt://article/038264a1-04c7-5562-ac8a-1d0d912c...</td>\n      <td>1003</td>\n      <td>nyt://article/038264a1-04c7-5562-ac8a-1d0d912c...</td>\n      <td>Hedge Fund’s Run at Tribune Publishing Ends Wi...</td>\n      <td>None</td>\n      <td>None</td>\n      <td>Hedge Fund Delays Effort To Buy Tribune</td>\n      <td>None</td>\n      <td>None</td>\n      <td>None</td>\n      <td>By Marc Tracy</td>\n      <td>[{'firstname': 'Marc', 'middlename': None, 'la...</td>\n      <td>None</td>\n      <td>NaN</td>\n    </tr>\n    <tr>\n      <th>4</th>\n      <td>Adam Hollingsworth, known in Chicago as the Dr...</td>\n      <td>https://www.nytimes.com/2020/07/01/style/dread...</td>\n      <td>Adam Hollingsworth, known in Chicago as the Dr...</td>\n      <td>In late May, as protests against police brutal...</td>\n      <td>ST</td>\n      <td>2</td>\n      <td>The New York Times</td>\n      <td>[{'rank': 0, 'subtype': 'xlarge', 'caption': N...</td>\n      <td>[{'name': 'persons', 'value': 'Hollingsworth, ...</td>\n      <td>2020-07-01T15:39:53+0000</td>\n      <td>article</td>\n      <td>Styles</td>\n      <td>Style</td>\n      <td>NaN</td>\n      <td>News</td>\n      <td>nyt://article/04c67aa2-2796-56d1-b342-ab16769f...</td>\n      <td>779</td>\n      <td>nyt://article/04c67aa2-2796-56d1-b342-ab16769f...</td>\n      <td>‘You Can’t Just Get Up and Steal a Police Horse’</td>\n      <td>None</td>\n      <td>None</td>\n      <td>‘You Can’t Just Get Up and Steal a Police Horse’</td>\n      <td>None</td>\n      <td>None</td>\n      <td>None</td>\n      <td>By Ximena Larkin</td>\n      <td>[{'firstname': 'Ximena', 'middlename': None, '...</td>\n      <td>None</td>\n      <td>NaN</td>\n    </tr>\n  </tbody>\n</table>\n</div>"
     },
     "metadata": {},
     "execution_count": 77
    }
   ],
   "source": [
    "data.head()"
   ]
  },
  {
   "cell_type": "code",
   "execution_count": 82,
   "metadata": {
    "tags": []
   },
   "outputs": [
    {
     "output_type": "stream",
     "name": "stdout",
     "text": "A small-time businessman became a key middleman for bounties on coalition troops in Afghanistan, U.S. intelligence reports say. Friends saw him grow rich, but didn’t know how.\n"
    }
   ],
   "source": [
    "print(data.iloc[0]['snippet'])"
   ]
  },
  {
   "cell_type": "code",
   "execution_count": 84,
   "metadata": {},
   "outputs": [
    {
     "output_type": "execute_result",
     "data": {
      "text/plain": "'A small-time businessman became a key middleman for bounties on coalition troops in Afghanistan, U.S. intelligence reports say. Friends saw him grow rich, but didn’t know how.'"
     },
     "metadata": {},
     "execution_count": 84
    }
   ],
   "source": [
    "data.iloc[0]['abstract']"
   ]
  },
  {
   "cell_type": "code",
   "execution_count": 85,
   "metadata": {},
   "outputs": [
    {
     "output_type": "execute_result",
     "data": {
      "text/plain": "'KABUL, Afghanistan — He was a lowly drug smuggler, neighbors and relatives say, then ventured into contracting, seeking a slice of the billions of dollars the U.S.-led coalition was funneling into construction projects in Afghanistan.'"
     },
     "metadata": {},
     "execution_count": 85
    }
   ],
   "source": [
    "data.iloc[0]['lead_paragraph']"
   ]
  },
  {
   "cell_type": "code",
   "execution_count": 86,
   "metadata": {},
   "outputs": [
    {
     "output_type": "execute_result",
     "data": {
      "text/plain": "'Afghan Contractor Handed Out Russian Cash to Kill Americans, Officials Say'"
     },
     "metadata": {},
     "execution_count": 86
    }
   ],
   "source": [
    "data.iloc[0]['headline.main']"
   ]
  },
  {
   "cell_type": "markdown",
   "metadata": {},
   "source": [
    "# Guardian"
   ]
  },
  {
   "cell_type": "markdown",
   "metadata": {},
   "source": [
    "Next up is another great source of news and articles — The Guardian. Same as with NY Times, we first need to sign up for an API key. You can do so [here](https://bonobo.capi.gutools.co.uk/register/developer) and you will receive your key in an email. With that out of the way, we can navigate to [API documentation](https://open-platform.theguardian.com/documentation/) and start querying the API."
   ]
  },
  {
   "cell_type": "code",
   "execution_count": 102,
   "metadata": {},
   "outputs": [],
   "source": [
    "with open('../../../../api_keys/guardian/api_key.txt') as f:\n",
    "    apikey = f.readline()"
   ]
  },
  {
   "cell_type": "markdown",
   "metadata": {},
   "source": [
    "Let’s start simply by querying content sections of The Guardian. These sections group content into topics, which can be useful if you are looking for specific type of content, e.g. science or technology. If we omit the query ( q) parameter, we will instead receive full list of sections, which is about 75 records."
   ]
  },
  {
   "cell_type": "code",
   "execution_count": 105,
   "metadata": {
    "tags": []
   },
   "outputs": [],
   "source": [
    "# https://open-platform.theguardian.com/documentation/section\n",
    "query = \"science\"\n",
    "query_url = f\"https://content.guardianapis.com/sections?\" \\\n",
    "            f\"api-key={apikey}\" \\\n",
    "\n",
    "r = requests.get(query_url)\n",
    "# pprint(r.json())"
   ]
  },
  {
   "cell_type": "code",
   "execution_count": 111,
   "metadata": {
    "tags": []
   },
   "outputs": [
    {
     "output_type": "stream",
     "name": "stdout",
     "text": "dict_keys(['response'])\ndict_keys(['status', 'userTier', 'total', 'results'])\n"
    }
   ],
   "source": [
    "print(r.json().keys())\n",
    "print(r.json()['response'].keys())"
   ]
  },
  {
   "cell_type": "code",
   "execution_count": 114,
   "metadata": {
    "tags": []
   },
   "outputs": [
    {
     "output_type": "stream",
     "name": "stdout",
     "text": "<class 'pandas.core.frame.DataFrame'>\nRangeIndex: 75 entries, 0 to 74\nData columns (total 6 columns):\n #   Column              Non-Null Count  Dtype \n---  ------              --------------  ----- \n 0   id                  75 non-null     object\n 1   webTitle            75 non-null     object\n 2   webUrl              75 non-null     object\n 3   apiUrl              75 non-null     object\n 4   editions            75 non-null     object\n 5   activeSponsorships  2 non-null      object\ndtypes: object(6)\nmemory usage: 3.6+ KB\n"
    }
   ],
   "source": [
    "data = pd.json_normalize(r.json()['response']['results'])\n",
    "data.info()"
   ]
  },
  {
   "cell_type": "code",
   "execution_count": 115,
   "metadata": {},
   "outputs": [
    {
     "output_type": "execute_result",
     "data": {
      "text/plain": "                id  ... activeSponsorships\n0            about  ...                NaN\n1   animals-farmed  ...                NaN\n2     artanddesign  ...                NaN\n3   australia-news  ...                NaN\n4  better-business  ...                NaN\n\n[5 rows x 6 columns]",
      "text/html": "<div>\n<style scoped>\n    .dataframe tbody tr th:only-of-type {\n        vertical-align: middle;\n    }\n\n    .dataframe tbody tr th {\n        vertical-align: top;\n    }\n\n    .dataframe thead th {\n        text-align: right;\n    }\n</style>\n<table border=\"1\" class=\"dataframe\">\n  <thead>\n    <tr style=\"text-align: right;\">\n      <th></th>\n      <th>id</th>\n      <th>webTitle</th>\n      <th>webUrl</th>\n      <th>apiUrl</th>\n      <th>editions</th>\n      <th>activeSponsorships</th>\n    </tr>\n  </thead>\n  <tbody>\n    <tr>\n      <th>0</th>\n      <td>about</td>\n      <td>About</td>\n      <td>https://www.theguardian.com/about</td>\n      <td>https://content.guardianapis.com/about</td>\n      <td>[{'id': 'about', 'webTitle': 'About', 'webUrl'...</td>\n      <td>NaN</td>\n    </tr>\n    <tr>\n      <th>1</th>\n      <td>animals-farmed</td>\n      <td>Animals farmed</td>\n      <td>https://www.theguardian.com/animals-farmed</td>\n      <td>https://content.guardianapis.com/animals-farmed</td>\n      <td>[{'id': 'animals-farmed', 'webTitle': 'Animals...</td>\n      <td>NaN</td>\n    </tr>\n    <tr>\n      <th>2</th>\n      <td>artanddesign</td>\n      <td>Art and design</td>\n      <td>https://www.theguardian.com/artanddesign</td>\n      <td>https://content.guardianapis.com/artanddesign</td>\n      <td>[{'id': 'artanddesign', 'webTitle': 'Art and d...</td>\n      <td>NaN</td>\n    </tr>\n    <tr>\n      <th>3</th>\n      <td>australia-news</td>\n      <td>Australia news</td>\n      <td>https://www.theguardian.com/australia-news</td>\n      <td>https://content.guardianapis.com/australia-news</td>\n      <td>[{'id': 'australia-news', 'webTitle': 'Austral...</td>\n      <td>NaN</td>\n    </tr>\n    <tr>\n      <th>4</th>\n      <td>better-business</td>\n      <td>Better Business</td>\n      <td>https://www.theguardian.com/better-business</td>\n      <td>https://content.guardianapis.com/better-business</td>\n      <td>[{'id': 'better-business', 'webTitle': 'Better...</td>\n      <td>NaN</td>\n    </tr>\n  </tbody>\n</table>\n</div>"
     },
     "metadata": {},
     "execution_count": 115
    }
   ],
   "source": [
    "data.head()"
   ]
  },
  {
   "cell_type": "markdown",
   "metadata": {},
   "source": [
    "Moving on to something little more interesting — searching by tags. This query looks quite similar to the previous one and also returns similar kinds of data. Tags also group content into categories, but there are a lot more tags (around 50000) than sections. Each of these tags have structure like for example `world/extreme-weather`. These are very useful when doing search for actual articles, which is what we will do next."
   ]
  },
  {
   "cell_type": "code",
   "execution_count": 117,
   "metadata": {},
   "outputs": [],
   "source": [
    "# https://open-platform.theguardian.com/documentation/tag\n",
    "query = \"weather\"\n",
    "section = \"news\"\n",
    "page = \"1\"\n",
    "query_url = f\"http://content.guardianapis.com/tags?\" \\\n",
    "            f\"api-key={apikey}\" \\\n",
    "            f\"&q={query}\" \\\n",
    "            f\"&page={page}\"\n",
    "\n",
    "r = requests.get(query_url)\n",
    "#pprint(r.json())"
   ]
  },
  {
   "cell_type": "code",
   "execution_count": 119,
   "metadata": {
    "tags": []
   },
   "outputs": [
    {
     "output_type": "stream",
     "name": "stdout",
     "text": "<class 'pandas.core.frame.DataFrame'>\nRangeIndex: 10 entries, 0 to 9\nData columns (total 8 columns):\n #   Column       Non-Null Count  Dtype \n---  ------       --------------  ----- \n 0   id           10 non-null     object\n 1   type         10 non-null     object\n 2   sectionId    9 non-null      object\n 3   sectionName  9 non-null      object\n 4   webTitle     10 non-null     object\n 5   webUrl       10 non-null     object\n 6   apiUrl       10 non-null     object\n 7   description  1 non-null      object\ndtypes: object(8)\nmemory usage: 768.0+ bytes\n"
    }
   ],
   "source": [
    "data = pd.json_normalize(r.json()['response']['results'])\n",
    "data.info()"
   ]
  },
  {
   "cell_type": "code",
   "execution_count": 120,
   "metadata": {},
   "outputs": [
    {
     "output_type": "execute_result",
     "data": {
      "text/plain": "                                 id  ... description\n0  theguardian/mainsection/weather2  ...         NaN\n1                   weather/weather  ...         NaN\n2  australia-news/australia-weather  ...         NaN\n3             world/extreme-weather  ...         NaN\n4                us-news/us-weather  ...         NaN\n\n[5 rows x 8 columns]",
      "text/html": "<div>\n<style scoped>\n    .dataframe tbody tr th:only-of-type {\n        vertical-align: middle;\n    }\n\n    .dataframe tbody tr th {\n        vertical-align: top;\n    }\n\n    .dataframe thead th {\n        text-align: right;\n    }\n</style>\n<table border=\"1\" class=\"dataframe\">\n  <thead>\n    <tr style=\"text-align: right;\">\n      <th></th>\n      <th>id</th>\n      <th>type</th>\n      <th>sectionId</th>\n      <th>sectionName</th>\n      <th>webTitle</th>\n      <th>webUrl</th>\n      <th>apiUrl</th>\n      <th>description</th>\n    </tr>\n  </thead>\n  <tbody>\n    <tr>\n      <th>0</th>\n      <td>theguardian/mainsection/weather2</td>\n      <td>newspaper-book-section</td>\n      <td>weather</td>\n      <td>Weather</td>\n      <td>Weather</td>\n      <td>https://www.theguardian.com/theguardian/mainse...</td>\n      <td>https://content.guardianapis.com/theguardian/m...</td>\n      <td>NaN</td>\n    </tr>\n    <tr>\n      <th>1</th>\n      <td>weather/weather</td>\n      <td>keyword</td>\n      <td>weather</td>\n      <td>Weather</td>\n      <td>Weather</td>\n      <td>https://www.theguardian.com/weather/weather</td>\n      <td>https://content.guardianapis.com/weather/weather</td>\n      <td>NaN</td>\n    </tr>\n    <tr>\n      <th>2</th>\n      <td>australia-news/australia-weather</td>\n      <td>keyword</td>\n      <td>australia-news</td>\n      <td>Australia news</td>\n      <td>Australia weather</td>\n      <td>https://www.theguardian.com/australia-news/aus...</td>\n      <td>https://content.guardianapis.com/australia-new...</td>\n      <td>NaN</td>\n    </tr>\n    <tr>\n      <th>3</th>\n      <td>world/extreme-weather</td>\n      <td>keyword</td>\n      <td>world</td>\n      <td>World news</td>\n      <td>Extreme weather</td>\n      <td>https://www.theguardian.com/world/extreme-weather</td>\n      <td>https://content.guardianapis.com/world/extreme...</td>\n      <td>NaN</td>\n    </tr>\n    <tr>\n      <th>4</th>\n      <td>us-news/us-weather</td>\n      <td>keyword</td>\n      <td>us-news</td>\n      <td>US news</td>\n      <td>US weather</td>\n      <td>https://www.theguardian.com/us-news/us-weather</td>\n      <td>https://content.guardianapis.com/us-news/us-we...</td>\n      <td>NaN</td>\n    </tr>\n  </tbody>\n</table>\n</div>"
     },
     "metadata": {},
     "execution_count": 120
    }
   ],
   "source": [
    "data.head()"
   ]
  },
  {
   "cell_type": "markdown",
   "metadata": {},
   "source": [
    "The one thing you really came here for is article search and for that we will use https://open-platform.theguardian.com/documentation/search.\n",
    "\n",
    "The reason I first showed you section and tag search is that those can be used in the article search. Above you can see that we used `section` and `tag` parameters to narrow down our search, which values can be found using previously shown queries. Apart from these parameters, we also included the obvious `q` parameter for our search query, but also starting date using `from-date` as well as `show-fields` parameter, which allows us to request extra fields related to the content - in this case those would be headline, byline, rating and shortened URL. There's bunch more of those with full list available [here](https://open-platform.theguardian.com/documentation/search)."
   ]
  },
  {
   "cell_type": "code",
   "execution_count": 121,
   "metadata": {},
   "outputs": [],
   "source": [
    "query = \"(hurricane OR storm)\"\n",
    "query_fields = \"body\"\n",
    "section = \"news\"  # https://open-platform.theguardian.com/documentation/section\n",
    "tag = \"world/extreme-weather\"  # https://open-platform.theguardian.com/documentation/tag\n",
    "from_date = \"2019-01-01\"\n",
    "query_url = f\"https://content.guardianapis.com/search?\" \\\n",
    "            f\"api-key={apikey}\" \\\n",
    "            f\"&q={query}\" \\\n",
    "            f\"&query-fields={query_fields}\" \\\n",
    "            f\"&section={section}\" \\\n",
    "            f\"&tag={tag}\" \\\n",
    "            f\"&from-date={from_date}\" \\\n",
    "            f\"&show-fields=headline,byline,starRating,shortUrl\"\n",
    "\n",
    "r = requests.get(query_url)\n",
    "#pprint(r.json())"
   ]
  },
  {
   "cell_type": "code",
   "execution_count": 122,
   "metadata": {},
   "outputs": [
    {
     "output_type": "execute_result",
     "data": {
      "text/plain": "dict_keys(['response'])"
     },
     "metadata": {},
     "execution_count": 122
    }
   ],
   "source": [
    "r.json().keys()"
   ]
  },
  {
   "cell_type": "code",
   "execution_count": 123,
   "metadata": {
    "tags": []
   },
   "outputs": [
    {
     "output_type": "stream",
     "name": "stdout",
     "text": "<class 'pandas.core.frame.DataFrame'>\nRangeIndex: 7 entries, 0 to 6\nData columns (total 14 columns):\n #   Column              Non-Null Count  Dtype \n---  ------              --------------  ----- \n 0   id                  7 non-null      object\n 1   type                7 non-null      object\n 2   sectionId           7 non-null      object\n 3   sectionName         7 non-null      object\n 4   webPublicationDate  7 non-null      object\n 5   webTitle            7 non-null      object\n 6   webUrl              7 non-null      object\n 7   apiUrl              7 non-null      object\n 8   isHosted            7 non-null      bool  \n 9   pillarId            7 non-null      object\n 10  pillarName          7 non-null      object\n 11  fields.headline     7 non-null      object\n 12  fields.byline       7 non-null      object\n 13  fields.shortUrl     7 non-null      object\ndtypes: bool(1), object(13)\nmemory usage: 863.0+ bytes\n"
    }
   ],
   "source": [
    "data = pd.json_normalize(r.json()['response']['results'])\n",
    "data.info()"
   ]
  },
  {
   "cell_type": "code",
   "execution_count": 124,
   "metadata": {},
   "outputs": [
    {
     "output_type": "execute_result",
     "data": {
      "text/plain": "                                                  id  ...         fields.shortUrl\n0  news/2019/dec/19/weatherwatch-storms-hit-franc...  ...  https://gu.com/p/dv4dq\n1  news/2020/jan/31/weatherwatch-how-repeated-flo...  ...  https://gu.com/p/d755m\n2  news/2019/sep/18/weatherwatch-do-30-year-mortg...  ...  https://gu.com/p/cakmm\n3  news/2019/jul/17/weatherwatch-venice-supercell...  ...  https://gu.com/p/bq6ad\n4  news/2019/oct/25/weatherwatch-volunteers-world...  ...  https://gu.com/p/chhdj\n\n[5 rows x 14 columns]",
      "text/html": "<div>\n<style scoped>\n    .dataframe tbody tr th:only-of-type {\n        vertical-align: middle;\n    }\n\n    .dataframe tbody tr th {\n        vertical-align: top;\n    }\n\n    .dataframe thead th {\n        text-align: right;\n    }\n</style>\n<table border=\"1\" class=\"dataframe\">\n  <thead>\n    <tr style=\"text-align: right;\">\n      <th></th>\n      <th>id</th>\n      <th>type</th>\n      <th>sectionId</th>\n      <th>sectionName</th>\n      <th>webPublicationDate</th>\n      <th>webTitle</th>\n      <th>webUrl</th>\n      <th>apiUrl</th>\n      <th>isHosted</th>\n      <th>pillarId</th>\n      <th>pillarName</th>\n      <th>fields.headline</th>\n      <th>fields.byline</th>\n      <th>fields.shortUrl</th>\n    </tr>\n  </thead>\n  <tbody>\n    <tr>\n      <th>0</th>\n      <td>news/2019/dec/19/weatherwatch-storms-hit-franc...</td>\n      <td>article</td>\n      <td>news</td>\n      <td>News</td>\n      <td>2019-12-19T11:33:52Z</td>\n      <td>Weatherwatch: storms hit France and Iceland as...</td>\n      <td>https://www.theguardian.com/news/2019/dec/19/w...</td>\n      <td>https://content.guardianapis.com/news/2019/dec...</td>\n      <td>False</td>\n      <td>pillar/news</td>\n      <td>News</td>\n      <td>Weatherwatch: storms hit France and Iceland as...</td>\n      <td>Daniel Gardner (MetDesk)</td>\n      <td>https://gu.com/p/dv4dq</td>\n    </tr>\n    <tr>\n      <th>1</th>\n      <td>news/2020/jan/31/weatherwatch-how-repeated-flo...</td>\n      <td>article</td>\n      <td>news</td>\n      <td>News</td>\n      <td>2020-01-31T21:30:00Z</td>\n      <td>Weatherwatch: how repeated flooding can shift ...</td>\n      <td>https://www.theguardian.com/news/2020/jan/31/w...</td>\n      <td>https://content.guardianapis.com/news/2020/jan...</td>\n      <td>False</td>\n      <td>pillar/news</td>\n      <td>News</td>\n      <td>Weatherwatch: how repeated flooding can shift ...</td>\n      <td>David Hambling</td>\n      <td>https://gu.com/p/d755m</td>\n    </tr>\n    <tr>\n      <th>2</th>\n      <td>news/2019/sep/18/weatherwatch-do-30-year-mortg...</td>\n      <td>article</td>\n      <td>news</td>\n      <td>News</td>\n      <td>2019-09-18T20:30:09Z</td>\n      <td>Weatherwatch: do 30-year mortgages make sense ...</td>\n      <td>https://www.theguardian.com/news/2019/sep/18/w...</td>\n      <td>https://content.guardianapis.com/news/2019/sep...</td>\n      <td>False</td>\n      <td>pillar/news</td>\n      <td>News</td>\n      <td>Weatherwatch: do 30-year mortgages make sense ...</td>\n      <td>Paul Brown</td>\n      <td>https://gu.com/p/cakmm</td>\n    </tr>\n    <tr>\n      <th>3</th>\n      <td>news/2019/jul/17/weatherwatch-venice-supercell...</td>\n      <td>article</td>\n      <td>news</td>\n      <td>News</td>\n      <td>2019-07-17T20:30:05Z</td>\n      <td>World weatherwatch: Venice supercell storm end...</td>\n      <td>https://www.theguardian.com/news/2019/jul/17/w...</td>\n      <td>https://content.guardianapis.com/news/2019/jul...</td>\n      <td>False</td>\n      <td>pillar/news</td>\n      <td>News</td>\n      <td>World weatherwatch: Venice supercell storm end...</td>\n      <td>Alessio Martini (MetDesk)</td>\n      <td>https://gu.com/p/bq6ad</td>\n    </tr>\n    <tr>\n      <th>4</th>\n      <td>news/2019/oct/25/weatherwatch-volunteers-world...</td>\n      <td>article</td>\n      <td>news</td>\n      <td>News</td>\n      <td>2019-10-25T20:30:29Z</td>\n      <td>Weatherwatch: volunteers worldwide aided rescu...</td>\n      <td>https://www.theguardian.com/news/2019/oct/25/w...</td>\n      <td>https://content.guardianapis.com/news/2019/oct...</td>\n      <td>False</td>\n      <td>pillar/news</td>\n      <td>News</td>\n      <td>Weatherwatch: volunteers worldwide aided rescu...</td>\n      <td>Kate Ravilious</td>\n      <td>https://gu.com/p/chhdj</td>\n    </tr>\n  </tbody>\n</table>\n</div>"
     },
     "metadata": {},
     "execution_count": 124
    }
   ],
   "source": [
    "data.head()"
   ]
  },
  {
   "cell_type": "code",
   "execution_count": 126,
   "metadata": {},
   "outputs": [
    {
     "output_type": "execute_result",
     "data": {
      "text/plain": "'Weatherwatch: do 30-year mortgages make sense as sea levels rise faster annually?'"
     },
     "metadata": {},
     "execution_count": 126
    }
   ],
   "source": [
    "data.iloc[2]['fields.headline']"
   ]
  },
  {
   "cell_type": "markdown",
   "metadata": {},
   "source": [
    "# Currents \n",
    "\n",
    "Finding popular and good quality news API is quite difficult as most classic newspapers don’t have free public API. There are however, sources of aggregate news data which can be used to get articles and news from newspapers like for example Financial Times and Bloomberg which only provide paid API services or like CNN doesn’t expose any API at all.\n",
    "\n",
    "One of these aggregators is called [Currents API](https://currentsapi.services/en). It aggregates data from thousands of sources, 18 languages and over 70 countries and it’s also free.\n",
    "\n",
    "It’s similar to the APIs shown before. We again need to first get API key. To do so, you need to register at https://currentsapi.services/en/register. After that, go to your profile at https://currentsapi.services/en/profile and retrieve your API token.\n",
    "\n",
    "With key (token) ready we can request some data. There’s really just one interesting endpoint and that’s https://api.currentsapi.services/v1/search:"
   ]
  },
  {
   "cell_type": "code",
   "execution_count": 128,
   "metadata": {},
   "outputs": [],
   "source": [
    "with open('../../../../api_keys/currents_news_articles/api_key.txt') as f:\n",
    "    apikey = f.readline()"
   ]
  },
  {
   "cell_type": "code",
   "execution_count": 144,
   "metadata": {
    "tags": []
   },
   "outputs": [
    {
     "output_type": "stream",
     "name": "stdout",
     "text": "{'news': [], 'status': 'ok'}\n"
    }
   ],
   "source": [
    "# https://currentsapi.services/en/docs/search\n",
    "category = \"business\"\n",
    "# language = languages['English']  # Mapping from Language to Code, e.g.: \"English\": \"en\"\n",
    "# country = regions[\"Canada\"]  # Mapping from Country to Code, e.g.: \"Canada\": \"CA\",\n",
    "language = \"en\",\n",
    "country = \"'CA\",\n",
    "keywords = \"bitcoin\"\n",
    "t = \"1\"  # 1 for news, 2 for article and 3 for discussion content\n",
    "domain = \"financialpost.com\"  # website primary domain name (without www or blog prefix)\n",
    "start_date = \"2020-06-01T14:30\"  # YYYY-MM-DDTHH:MM:SS+00:00\n",
    "query_url = f\"https://api.currentsapi.services/v1/search?\" \\\n",
    "            f\"apiKey={apikey}\" \\\n",
    "            f\"&language={language}\" \\\n",
    "            f\"&category={category}\" \\\n",
    "            f\"&country={country}\" \\\n",
    "            f\"&type={t}\" \\\n",
    "            f\"&domain={domain}\" \\\n",
    "            f\"&keywords={keywords}\" \\\n",
    "            f\"&start_date={start_date}\"\n",
    "\n",
    "r = requests.get(query_url)\n",
    "pprint(r.json())"
   ]
  },
  {
   "cell_type": "code",
   "execution_count": 132,
   "metadata": {},
   "outputs": [
    {
     "output_type": "execute_result",
     "data": {
      "text/plain": "dict_keys(['status', 'news'])"
     },
     "metadata": {},
     "execution_count": 132
    }
   ],
   "source": [
    "r.json().keys()"
   ]
  },
  {
   "cell_type": "code",
   "execution_count": 133,
   "metadata": {
    "tags": []
   },
   "outputs": [
    {
     "output_type": "stream",
     "name": "stdout",
     "text": "<class 'pandas.core.frame.DataFrame'>\nIndex: 0 entries\nEmpty DataFrame"
    }
   ],
   "source": [
    "data = pd.json_normalize(r.json()['news'])\n",
    "data.info()"
   ]
  },
  {
   "cell_type": "code",
   "execution_count": 147,
   "metadata": {
    "tags": []
   },
   "outputs": [],
   "source": [
    "# language = languages['English']\n",
    "language = 'en'\n",
    "query_url = f\"https://api.currentsapi.services/v1/latest-news?\" \\\n",
    "            f\"apiKey={apikey}\" \\\n",
    "            f\"&language={language}\"\n",
    "\n",
    "r = requests.get(query_url)\n",
    "# pprint(r.json())"
   ]
  },
  {
   "cell_type": "code",
   "execution_count": 148,
   "metadata": {},
   "outputs": [
    {
     "output_type": "execute_result",
     "data": {
      "text/plain": "dict_keys(['status', 'news', 'page'])"
     },
     "metadata": {},
     "execution_count": 148
    }
   ],
   "source": [
    "r.json().keys()"
   ]
  },
  {
   "cell_type": "code",
   "execution_count": 149,
   "metadata": {
    "tags": []
   },
   "outputs": [
    {
     "output_type": "stream",
     "name": "stdout",
     "text": "<class 'pandas.core.frame.DataFrame'>\nRangeIndex: 30 entries, 0 to 29\nData columns (total 9 columns):\n #   Column       Non-Null Count  Dtype \n---  ------       --------------  ----- \n 0   id           30 non-null     object\n 1   title        30 non-null     object\n 2   description  30 non-null     object\n 3   url          30 non-null     object\n 4   author       30 non-null     object\n 5   image        30 non-null     object\n 6   language     30 non-null     object\n 7   category     30 non-null     object\n 8   published    30 non-null     object\ndtypes: object(9)\nmemory usage: 2.2+ KB\n"
    }
   ],
   "source": [
    "data = pd.json_normalize(r.json()['news'])\n",
    "data.info()"
   ]
  },
  {
   "cell_type": "code",
   "execution_count": 150,
   "metadata": {},
   "outputs": [
    {
     "output_type": "execute_result",
     "data": {
      "text/plain": "                                     id  ...                  published\n0  06d68120-cc63-4ca0-84be-62a104409781  ...  2020-08-22 14:52:36 +0000\n1  66e6ae89-0090-4061-b04b-2b9d5b9d85be  ...  2020-08-22 15:00:56 +0000\n2  85e4dcfc-ad28-4899-9f0b-a2eab0b354a0  ...  2020-08-22 02:36:00 +0000\n3  6985a85c-7072-4130-872f-b1da024d14d6  ...  2020-08-21 03:27:01 +0000\n4  96d996dd-f76a-4640-bcf6-b88230a2dac6  ...  2020-08-22 10:30:07 +0000\n\n[5 rows x 9 columns]",
      "text/html": "<div>\n<style scoped>\n    .dataframe tbody tr th:only-of-type {\n        vertical-align: middle;\n    }\n\n    .dataframe tbody tr th {\n        vertical-align: top;\n    }\n\n    .dataframe thead th {\n        text-align: right;\n    }\n</style>\n<table border=\"1\" class=\"dataframe\">\n  <thead>\n    <tr style=\"text-align: right;\">\n      <th></th>\n      <th>id</th>\n      <th>title</th>\n      <th>description</th>\n      <th>url</th>\n      <th>author</th>\n      <th>image</th>\n      <th>language</th>\n      <th>category</th>\n      <th>published</th>\n    </tr>\n  </thead>\n  <tbody>\n    <tr>\n      <th>0</th>\n      <td>06d68120-cc63-4ca0-84be-62a104409781</td>\n      <td>Robert Trump mourner allegedly punches restaur...</td>\n      <td>An unidentified mourner from Robert Trump's fu...</td>\n      <td>https://nypost.com/2020/08/22/robert-trump-mou...</td>\n      <td>@nypost</td>\n      <td>https://nypost.com/wp-content/uploads/sites/2/...</td>\n      <td>en</td>\n      <td>[general]</td>\n      <td>2020-08-22 14:52:36 +0000</td>\n    </tr>\n    <tr>\n      <th>1</th>\n      <td>66e6ae89-0090-4061-b04b-2b9d5b9d85be</td>\n      <td>How to Watch DC Fandome Online</td>\n      <td>DC fans will have access to over eight hours o...</td>\n      <td>https://variety.com/2020/film/news/dc-fandome-...</td>\n      <td>@Variety</td>\n      <td>https://pmcvariety.files.wordpress.com/2019/04...</td>\n      <td>en</td>\n      <td>[entertainment, celebrity, television, music]</td>\n      <td>2020-08-22 15:00:56 +0000</td>\n    </tr>\n    <tr>\n      <th>2</th>\n      <td>85e4dcfc-ad28-4899-9f0b-a2eab0b354a0</td>\n      <td>Oregon UPS driver arrested in string of inters...</td>\n      <td>Kenneth Ayers is believed to have been involve...</td>\n      <td>https://news.yahoo.com/oregon-ups-driver-arres...</td>\n      <td>yahoo</td>\n      <td>None</td>\n      <td>en</td>\n      <td>[general]</td>\n      <td>2020-08-22 02:36:00 +0000</td>\n    </tr>\n    <tr>\n      <th>3</th>\n      <td>6985a85c-7072-4130-872f-b1da024d14d6</td>\n      <td>Biden asks Americans to judge Trump 'by the fa...</td>\n      <td>Joe Biden is focusing on the devastating numbe...</td>\n      <td>https://news.yahoo.com/biden-asks-americans-ju...</td>\n      <td>yahoo</td>\n      <td>None</td>\n      <td>en</td>\n      <td>[general]</td>\n      <td>2020-08-21 03:27:01 +0000</td>\n    </tr>\n    <tr>\n      <th>4</th>\n      <td>96d996dd-f76a-4640-bcf6-b88230a2dac6</td>\n      <td>Now Is the Time to Force Hezbollah out of Lebanon</td>\n      <td>The horrific August 4 blast in Beirut has expo...</td>\n      <td>https://news.yahoo.com/now-time-force-hezbolla...</td>\n      <td>yahoo</td>\n      <td>None</td>\n      <td>en</td>\n      <td>[general]</td>\n      <td>2020-08-22 10:30:07 +0000</td>\n    </tr>\n  </tbody>\n</table>\n</div>"
     },
     "metadata": {},
     "execution_count": 150
    }
   ],
   "source": [
    "data.head()"
   ]
  },
  {
   "cell_type": "code",
   "execution_count": 152,
   "metadata": {},
   "outputs": [
    {
     "output_type": "execute_result",
     "data": {
      "text/plain": "author\n@BBCNews                                         5\n@Variety                                         1\n@nypost                                          1\nDAN SEWELL and JULIE CARR SMYTH                  1\nEMILY WAGSTER PETTUS                             1\nEmily Peck, Felix Salmon, and Anna Szymanski     1\nJENNIFER PELTZ                                   1\nbbc                                              6\ntimesunion                                       1\nyahoo                                           12\nName: id, dtype: int64"
     },
     "metadata": {},
     "execution_count": 152
    }
   ],
   "source": [
    "data.groupby(\"author\")['id'].count()"
   ]
  }
 ]
}