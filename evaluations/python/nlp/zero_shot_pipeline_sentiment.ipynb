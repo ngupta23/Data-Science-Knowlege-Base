{
  "nbformat": 4,
  "nbformat_minor": 0,
  "metadata": {
    "kernelspec": {
      "display_name": "Python 3",
      "language": "python",
      "name": "python3"
    },
    "language_info": {
      "codemirror_mode": {
        "name": "ipython",
        "version": 2
      },
      "file_extension": ".py",
      "mimetype": "text/x-python",
      "name": "python",
      "nbconvert_exporter": "python",
      "pygments_lexer": "ipython2",
      "version": "2.7.6"
    },
    "colab": {
      "name": "zero-shot-pipeline-sentiment.ipynb",
      "provenance": [],
      "collapsed_sections": [],
      "include_colab_link": true
    },
    "accelerator": "GPU"
  },
  "cells": [
    {
      "cell_type": "markdown",
      "metadata": {
        "id": "view-in-github",
        "colab_type": "text"
      },
      "source": [
        "<a href=\"https://colab.research.google.com/github/ngupta23/gre/blob/master/evaluations/python/nlp/zero_shot_pipeline_sentiment.ipynb\" target=\"_parent\"><img src=\"https://colab.research.google.com/assets/colab-badge.svg\" alt=\"Open In Colab\"/></a>"
      ]
    },
    {
      "cell_type": "markdown",
      "metadata": {
        "id": "I44YUOVsiqqi",
        "colab_type": "text"
      },
      "source": [
        "# Zero Shot Learning for Topic Classification\n",
        "Article: https://towardsdatascience.com/zero-shot-text-classification-with-hugging-face-7f533ba83cd6"
      ]
    },
    {
      "cell_type": "code",
      "metadata": {
        "id": "-_siC10Hfjvb",
        "colab_type": "code",
        "colab": {
          "base_uri": "https://localhost:8080/",
          "height": 586
        },
        "outputId": "e4030456-bc59-464f-f942-1b77181232e6"
      },
      "source": [
        "!pip install git+https://github.com/huggingface/transformers.git\n",
        "!pip install GetOldTweets3"
      ],
      "execution_count": 1,
      "outputs": [
        {
          "output_type": "stream",
          "text": [
            "Collecting git+https://github.com/huggingface/transformers.git\n",
            "  Cloning https://github.com/huggingface/transformers.git to /tmp/pip-req-build-asbh_829\n",
            "  Running command git clone -q https://github.com/huggingface/transformers.git /tmp/pip-req-build-asbh_829\n",
            "Requirement already satisfied (use --upgrade to upgrade): transformers==3.0.2 from git+https://github.com/huggingface/transformers.git in /usr/local/lib/python3.6/dist-packages\n",
            "Requirement already satisfied: numpy in /usr/local/lib/python3.6/dist-packages (from transformers==3.0.2) (1.18.5)\n",
            "Requirement already satisfied: tokenizers==0.8.1.rc2 in /usr/local/lib/python3.6/dist-packages (from transformers==3.0.2) (0.8.1rc2)\n",
            "Requirement already satisfied: packaging in /usr/local/lib/python3.6/dist-packages (from transformers==3.0.2) (20.4)\n",
            "Requirement already satisfied: filelock in /usr/local/lib/python3.6/dist-packages (from transformers==3.0.2) (3.0.12)\n",
            "Requirement already satisfied: requests in /usr/local/lib/python3.6/dist-packages (from transformers==3.0.2) (2.23.0)\n",
            "Requirement already satisfied: tqdm>=4.27 in /usr/local/lib/python3.6/dist-packages (from transformers==3.0.2) (4.41.1)\n",
            "Requirement already satisfied: regex!=2019.12.17 in /usr/local/lib/python3.6/dist-packages (from transformers==3.0.2) (2019.12.20)\n",
            "Requirement already satisfied: sentencepiece!=0.1.92 in /usr/local/lib/python3.6/dist-packages (from transformers==3.0.2) (0.1.91)\n",
            "Requirement already satisfied: sacremoses in /usr/local/lib/python3.6/dist-packages (from transformers==3.0.2) (0.0.43)\n",
            "Requirement already satisfied: dataclasses in /usr/local/lib/python3.6/dist-packages (from transformers==3.0.2) (0.7)\n",
            "Requirement already satisfied: pyparsing>=2.0.2 in /usr/local/lib/python3.6/dist-packages (from packaging->transformers==3.0.2) (2.4.7)\n",
            "Requirement already satisfied: six in /usr/local/lib/python3.6/dist-packages (from packaging->transformers==3.0.2) (1.15.0)\n",
            "Requirement already satisfied: certifi>=2017.4.17 in /usr/local/lib/python3.6/dist-packages (from requests->transformers==3.0.2) (2020.6.20)\n",
            "Requirement already satisfied: chardet<4,>=3.0.2 in /usr/local/lib/python3.6/dist-packages (from requests->transformers==3.0.2) (3.0.4)\n",
            "Requirement already satisfied: urllib3!=1.25.0,!=1.25.1,<1.26,>=1.21.1 in /usr/local/lib/python3.6/dist-packages (from requests->transformers==3.0.2) (1.24.3)\n",
            "Requirement already satisfied: idna<3,>=2.5 in /usr/local/lib/python3.6/dist-packages (from requests->transformers==3.0.2) (2.10)\n",
            "Requirement already satisfied: click in /usr/local/lib/python3.6/dist-packages (from sacremoses->transformers==3.0.2) (7.1.2)\n",
            "Requirement already satisfied: joblib in /usr/local/lib/python3.6/dist-packages (from sacremoses->transformers==3.0.2) (0.16.0)\n",
            "Building wheels for collected packages: transformers\n",
            "  Building wheel for transformers (setup.py) ... \u001b[?25l\u001b[?25hdone\n",
            "  Created wheel for transformers: filename=transformers-3.0.2-cp36-none-any.whl size=868795 sha256=6d193ed502a4ff82c4202be47d68460f38f47d958d20aa582d6ab4adbdb48b2d\n",
            "  Stored in directory: /tmp/pip-ephem-wheel-cache-yej0_fin/wheels/33/eb/3b/4bf5dd835e865e472d4fc0754f35ac0edb08fe852e8f21655f\n",
            "Successfully built transformers\n",
            "Requirement already satisfied: GetOldTweets3 in /usr/local/lib/python3.6/dist-packages (0.0.11)\n",
            "Requirement already satisfied: pyquery>=1.2.10 in /usr/local/lib/python3.6/dist-packages (from GetOldTweets3) (1.4.1)\n",
            "Requirement already satisfied: lxml>=3.5.0 in /usr/local/lib/python3.6/dist-packages (from GetOldTweets3) (4.2.6)\n",
            "Requirement already satisfied: cssselect>0.7.9 in /usr/local/lib/python3.6/dist-packages (from pyquery>=1.2.10->GetOldTweets3) (1.1.0)\n"
          ],
          "name": "stdout"
        }
      ]
    },
    {
      "cell_type": "code",
      "metadata": {
        "id": "J1Zx_W9ZfKI7",
        "colab_type": "code",
        "colab": {
          "base_uri": "https://localhost:8080/",
          "height": 54
        },
        "outputId": "aade4bfd-53a1-4001-987d-1e5dbb7ac43f"
      },
      "source": [
        "import GetOldTweets3 as got\n",
        "import pandas as pd\n",
        "from tqdm import tqdm\n",
        "import matplotlib.pyplot as plt\n",
        "import seaborn as sns\n",
        "\n",
        "from transformers import pipeline"
      ],
      "execution_count": 2,
      "outputs": [
        {
          "output_type": "stream",
          "text": [
            "/usr/local/lib/python3.6/dist-packages/statsmodels/tools/_testing.py:19: FutureWarning: pandas.util.testing is deprecated. Use the functions in the public API at pandas.testing instead.\n",
            "  import pandas.util.testing as tm\n"
          ],
          "name": "stderr"
        }
      ]
    },
    {
      "cell_type": "code",
      "metadata": {
        "id": "MGEaTbH5g_jP",
        "colab_type": "code",
        "colab": {
          "base_uri": "https://localhost:8080/",
          "height": 36
        },
        "outputId": "d51db455-d4da-4f66-8459-e6cd0aa8876a"
      },
      "source": [
        "import transformers\n",
        "transformers.__version__"
      ],
      "execution_count": 3,
      "outputs": [
        {
          "output_type": "execute_result",
          "data": {
            "application/vnd.google.colaboratory.intrinsic+json": {
              "type": "string"
            },
            "text/plain": [
              "'3.0.2'"
            ]
          },
          "metadata": {
            "tags": []
          },
          "execution_count": 3
        }
      ]
    },
    {
      "cell_type": "code",
      "metadata": {
        "pycharm": {
          "name": "#%%\n"
        },
        "id": "SeGFv_dgfKI_",
        "colab_type": "code",
        "colab": {
          "base_uri": "https://localhost:8080/",
          "height": 92
        },
        "outputId": "3c66e524-1aa9-4b11-c4f3-4d938ec04813"
      },
      "source": [
        "classifier = pipeline(\"zero-shot-classification\")"
      ],
      "execution_count": 4,
      "outputs": [
        {
          "output_type": "stream",
          "text": [
            "Some weights of the model checkpoint at facebook/bart-large-mnli were not used when initializing BartForSequenceClassification: ['model.encoder.version', 'model.decoder.version']\n",
            "- This IS expected if you are initializing BartForSequenceClassification from the checkpoint of a model trained on another task or with another architecture (e.g. initializing a BertForSequenceClassification model from a BertForPretraining model).\n",
            "- This IS NOT expected if you are initializing BartForSequenceClassification from the checkpoint of a model that you expect to be exactly identical (initializing a BertForSequenceClassification model from a BertForSequenceClassification model).\n"
          ],
          "name": "stderr"
        }
      ]
    },
    {
      "cell_type": "code",
      "metadata": {
        "pycharm": {
          "name": "#%%\n"
        },
        "id": "1g84ieW0fKJE",
        "colab_type": "code",
        "colab": {}
      },
      "source": [
        "# Function that pulls tweets based on a general search query\n",
        "\n",
        "# Parameters: (text query you want to search), (max number of most recent tweets to pull from)\n",
        "def text_query_to_df(text_query, count):\n",
        "    # Creation of query object\n",
        "    tweetCriteria = got.manager.TweetCriteria().setQuerySearch(text_query)\\\n",
        "                                                .setMaxTweets(count).setLang('en')\n",
        "    # Creation of list that contains all tweets\n",
        "    tweets = got.manager.TweetManager.getTweets(tweetCriteria)\n",
        "\n",
        "    # Creating list of chosen tweet data\n",
        "    text_tweets = [[tweet.date, tweet.text] for tweet in tweets]\n",
        "\n",
        "    # Creation of dataframe from tweets\n",
        "    tweets_df = pd.DataFrame(text_tweets, columns = ['Datetime', 'Text'])\n",
        "\n",
        "    return tweets_df\n",
        "\n",
        "# Input search query to scrape tweets and name csv file\n",
        "# Max recent tweets pulls x amount of most recent tweets from that user\n",
        "txt = 'climate fight'\n",
        "max_recs = 10\n",
        "\n",
        "# Calling function to query X amount of relevant tweets and create a CSV file\n",
        "tweets_df = text_query_to_df(txt, max_recs)"
      ],
      "execution_count": 5,
      "outputs": []
    },
    {
      "cell_type": "code",
      "metadata": {
        "pycharm": {
          "name": "#%%\n"
        },
        "id": "hMp6L9vDfKJG",
        "colab_type": "code",
        "colab": {
          "base_uri": "https://localhost:8080/",
          "height": 363
        },
        "outputId": "f4310a38-9c86-4cff-ef03-e82c7358555e"
      },
      "source": [
        "tweets_df.head(10)"
      ],
      "execution_count": 6,
      "outputs": [
        {
          "output_type": "execute_result",
          "data": {
            "text/html": [
              "<div>\n",
              "<style scoped>\n",
              "    .dataframe tbody tr th:only-of-type {\n",
              "        vertical-align: middle;\n",
              "    }\n",
              "\n",
              "    .dataframe tbody tr th {\n",
              "        vertical-align: top;\n",
              "    }\n",
              "\n",
              "    .dataframe thead th {\n",
              "        text-align: right;\n",
              "    }\n",
              "</style>\n",
              "<table border=\"1\" class=\"dataframe\">\n",
              "  <thead>\n",
              "    <tr style=\"text-align: right;\">\n",
              "      <th></th>\n",
              "      <th>Datetime</th>\n",
              "      <th>Text</th>\n",
              "    </tr>\n",
              "  </thead>\n",
              "  <tbody>\n",
              "    <tr>\n",
              "      <th>0</th>\n",
              "      <td>2020-08-22 23:40:56+00:00</td>\n",
              "      <td>Using slave labor and climate change induced m...</td>\n",
              "    </tr>\n",
              "    <tr>\n",
              "      <th>1</th>\n",
              "      <td>2020-08-22 23:37:08+00:00</td>\n",
              "      <td>If massive fires happened on the East Coast......</td>\n",
              "    </tr>\n",
              "    <tr>\n",
              "      <th>2</th>\n",
              "      <td>2020-08-22 23:33:18+00:00</td>\n",
              "      <td>Guess you are one of the lucky ones that doesn...</td>\n",
              "    </tr>\n",
              "    <tr>\n",
              "      <th>3</th>\n",
              "      <td>2020-08-22 23:32:21+00:00</td>\n",
              "      <td>Climate change and denial of the right to use ...</td>\n",
              "    </tr>\n",
              "    <tr>\n",
              "      <th>4</th>\n",
              "      <td>2020-08-22 23:30:00+00:00</td>\n",
              "      <td>@tomcarnac says our collective response to the...</td>\n",
              "    </tr>\n",
              "    <tr>\n",
              "      <th>5</th>\n",
              "      <td>2020-08-22 23:30:00+00:00</td>\n",
              "      <td>Help us fight the climate crisis. Donate today.</td>\n",
              "    </tr>\n",
              "    <tr>\n",
              "      <th>6</th>\n",
              "      <td>2020-08-22 23:29:16+00:00</td>\n",
              "      <td>Superhero origin: \"Mr. M\" While exploring a sw...</td>\n",
              "    </tr>\n",
              "    <tr>\n",
              "      <th>7</th>\n",
              "      <td>2020-08-22 23:29:01+00:00</td>\n",
              "      <td>\"We need to elect candidates who will protect ...</td>\n",
              "    </tr>\n",
              "    <tr>\n",
              "      <th>8</th>\n",
              "      <td>2020-08-22 23:23:57+00:00</td>\n",
              "      <td>Thinking of all the people across America suff...</td>\n",
              "    </tr>\n",
              "    <tr>\n",
              "      <th>9</th>\n",
              "      <td>2020-08-22 23:21:39+00:00</td>\n",
              "      <td>I think it's safe to say his whole life he's b...</td>\n",
              "    </tr>\n",
              "  </tbody>\n",
              "</table>\n",
              "</div>"
            ],
            "text/plain": [
              "                   Datetime                                               Text\n",
              "0 2020-08-22 23:40:56+00:00  Using slave labor and climate change induced m...\n",
              "1 2020-08-22 23:37:08+00:00  If massive fires happened on the East Coast......\n",
              "2 2020-08-22 23:33:18+00:00  Guess you are one of the lucky ones that doesn...\n",
              "3 2020-08-22 23:32:21+00:00  Climate change and denial of the right to use ...\n",
              "4 2020-08-22 23:30:00+00:00  @tomcarnac says our collective response to the...\n",
              "5 2020-08-22 23:30:00+00:00    Help us fight the climate crisis. Donate today.\n",
              "6 2020-08-22 23:29:16+00:00  Superhero origin: \"Mr. M\" While exploring a sw...\n",
              "7 2020-08-22 23:29:01+00:00  \"We need to elect candidates who will protect ...\n",
              "8 2020-08-22 23:23:57+00:00  Thinking of all the people across America suff...\n",
              "9 2020-08-22 23:21:39+00:00  I think it's safe to say his whole life he's b..."
            ]
          },
          "metadata": {
            "tags": []
          },
          "execution_count": 6
        }
      ]
    },
    {
      "cell_type": "code",
      "metadata": {
        "pycharm": {
          "name": "#%%\n"
        },
        "id": "OXJ-zoTEfKJJ",
        "colab_type": "code",
        "colab": {
          "base_uri": "https://localhost:8080/",
          "height": 533
        },
        "outputId": "2859600e-3a3e-495e-cad0-2c046e4062eb"
      },
      "source": [
        "# Original Notebook had a threshold of 0.5, but since there are 6 classes, I removed this threshold.\n",
        "# Otherwise, we can change this to be 1/6 to be better than a random guess.\n",
        "candidate_labels = [\"renewable\", \"politics\", \"emission\", \"temperature\", \"emergency\", \"advertisment\"]\n",
        "candidate_results = [0, 0, 0, 0, 0, 0]\n",
        "\n",
        "for sent in tqdm(tweets_df['Text'].values):\n",
        "    # To do multi-class classification, simply pass multi_class=True.\n",
        "    # In this case, the scores will be independent, but each will fall between 0 and 1.\n",
        "    res = classifier(sent, candidate_labels)\n",
        "\n",
        "    if res['labels'][0] == 'renewable': # and res['scores'][0] > 0.5:\n",
        "        candidate_results[0] = candidate_results[0] + 1\n",
        "    if res['labels'][0] == 'politics': # and res['scores'][0] > 0.5:\n",
        "        candidate_results[1] = candidate_results[1] + 1\n",
        "    if res['labels'][0] == 'emission': # and res['scores'][0] > 0.5:\n",
        "        candidate_results[2] = candidate_results[2] + 1\n",
        "    if res['labels'][0] == 'temperature': # and res['scores'][0] > 0.5:\n",
        "        candidate_results[3] = candidate_results[3] + 1\n",
        "    if res['labels'][0] == 'emergency': # and res['scores'][0] > 0.5:\n",
        "        candidate_results[4] = candidate_results[4] + 1\n",
        "    if res['labels'][0] == 'advertisment': # and res['scores'][0] > 0.5:\n",
        "        candidate_results[5] = candidate_results[5] + 1\n",
        "\n",
        "    if res['scores'][0] > 0.5:\n",
        "        print(sent)\n",
        "        print(res['labels'])\n",
        "        print(res['scores'])\n",
        "        print('\\n')\n",
        "\n",
        "print(candidate_results)"
      ],
      "execution_count": 7,
      "outputs": [
        {
          "output_type": "stream",
          "text": [
            " 20%|██        | 2/10 [00:07<00:26,  3.34s/it]"
          ],
          "name": "stderr"
        },
        {
          "output_type": "stream",
          "text": [
            "If massive fires happened on the East Coast... we just wouldn't tolerate it. We would just complain and fight and riot against nature. So perhaps this could be a central park jogger in the far future set ablaze by climate change... \n",
            "['emission', 'emergency', 'temperature', 'advertisment', 'politics', 'renewable']\n",
            "[0.6364299058914185, 0.14238451421260834, 0.1200459823012352, 0.05886683613061905, 0.03000856377184391, 0.012264198623597622]\n",
            "\n",
            "\n"
          ],
          "name": "stdout"
        },
        {
          "output_type": "stream",
          "text": [
            "\r 30%|███       | 3/10 [00:12<00:27,  3.96s/it]"
          ],
          "name": "stderr"
        },
        {
          "output_type": "stream",
          "text": [
            "Guess you are one of the lucky ones that doesn't have a problem paying $3.99/lb for tomatoes versus $1.49/lb before Carbon tax. We can fight climate change other than taxing us to death. Most Canadians don't agree on carbon tax when it is a struggle to make ends meet day to day.\n",
            "['emission', 'advertisment', 'politics', 'emergency', 'temperature', 'renewable']\n",
            "[0.7678459882736206, 0.08173207193613052, 0.040527332574129105, 0.0398145355284214, 0.038698550313711166, 0.0313815213739872]\n",
            "\n",
            "\n"
          ],
          "name": "stdout"
        },
        {
          "output_type": "stream",
          "text": [
            " 70%|███████   | 7/10 [00:28<00:11,  3.88s/it]"
          ],
          "name": "stderr"
        },
        {
          "output_type": "stream",
          "text": [
            "Superhero origin: \"Mr. M\" While exploring a swamp he got bit by a radioactive mosquito and gained the power to be cold in any climate. He sought help to control his powers. A scientist gave him a drug that subdued his powers but forced him to fight demons every nightin his dreams\n",
            "['temperature', 'emission', 'renewable', 'emergency', 'advertisment', 'politics']\n",
            "[0.6643426418304443, 0.11791925132274628, 0.0999833345413208, 0.08196435868740082, 0.025218544527888298, 0.010571801103651524]\n",
            "\n",
            "\n"
          ],
          "name": "stdout"
        },
        {
          "output_type": "stream",
          "text": [
            "\r 80%|████████  | 8/10 [00:32<00:08,  4.15s/it]"
          ],
          "name": "stderr"
        },
        {
          "output_type": "stream",
          "text": [
            "\"We need to elect candidates who will protect our communities and keep us safe from the threats of climate change and disease! We need to protect and fight for clean air and water!\" .@SierraClub VOTE! VOTE! VOTE! #BidenHarris2020Landslide\n",
            "['politics', 'emergency', 'emission', 'advertisment', 'renewable', 'temperature']\n",
            "[0.6240353584289551, 0.11893092095851898, 0.09871751070022583, 0.08365602046251297, 0.05160883814096451, 0.023051399737596512]\n",
            "\n",
            "\n"
          ],
          "name": "stdout"
        },
        {
          "output_type": "stream",
          "text": [
            "\r 90%|█████████ | 9/10 [00:36<00:03,  3.87s/it]"
          ],
          "name": "stderr"
        },
        {
          "output_type": "stream",
          "text": [
            "Thinking of all the people across America suffering from the wildfires and tropical storms tonight... This is why we fight. This is why climate and air pollution matter. \n",
            "['emergency', 'emission', 'temperature', 'renewable', 'advertisment', 'politics']\n",
            "[0.5373672246932983, 0.25902536511421204, 0.06903135776519775, 0.06009795516729355, 0.05009990185499191, 0.024378223344683647]\n",
            "\n",
            "\n"
          ],
          "name": "stdout"
        },
        {
          "output_type": "stream",
          "text": [
            "100%|██████████| 10/10 [00:40<00:00,  4.03s/it]"
          ],
          "name": "stderr"
        },
        {
          "output_type": "stream",
          "text": [
            "[0, 1, 3, 2, 4, 0]\n"
          ],
          "name": "stdout"
        },
        {
          "output_type": "stream",
          "text": [
            "\n"
          ],
          "name": "stderr"
        }
      ]
    },
    {
      "cell_type": "code",
      "metadata": {
        "pycharm": {
          "name": "#%%\n"
        },
        "id": "CofyAe26fKJL",
        "colab_type": "code",
        "colab": {
          "base_uri": "https://localhost:8080/",
          "height": 238
        },
        "outputId": "d1f70d98-607d-4be2-fd2d-ba82f6a831a0"
      },
      "source": [
        "data = {'labels': candidate_labels,\n",
        "        'values': candidate_results}\n",
        "\n",
        "df_chart = pd.DataFrame(data, columns=['labels','values'])\n",
        "\n",
        "df_chart.head(10)"
      ],
      "execution_count": 8,
      "outputs": [
        {
          "output_type": "execute_result",
          "data": {
            "text/html": [
              "<div>\n",
              "<style scoped>\n",
              "    .dataframe tbody tr th:only-of-type {\n",
              "        vertical-align: middle;\n",
              "    }\n",
              "\n",
              "    .dataframe tbody tr th {\n",
              "        vertical-align: top;\n",
              "    }\n",
              "\n",
              "    .dataframe thead th {\n",
              "        text-align: right;\n",
              "    }\n",
              "</style>\n",
              "<table border=\"1\" class=\"dataframe\">\n",
              "  <thead>\n",
              "    <tr style=\"text-align: right;\">\n",
              "      <th></th>\n",
              "      <th>labels</th>\n",
              "      <th>values</th>\n",
              "    </tr>\n",
              "  </thead>\n",
              "  <tbody>\n",
              "    <tr>\n",
              "      <th>0</th>\n",
              "      <td>renewable</td>\n",
              "      <td>0</td>\n",
              "    </tr>\n",
              "    <tr>\n",
              "      <th>1</th>\n",
              "      <td>politics</td>\n",
              "      <td>1</td>\n",
              "    </tr>\n",
              "    <tr>\n",
              "      <th>2</th>\n",
              "      <td>emission</td>\n",
              "      <td>3</td>\n",
              "    </tr>\n",
              "    <tr>\n",
              "      <th>3</th>\n",
              "      <td>temperature</td>\n",
              "      <td>2</td>\n",
              "    </tr>\n",
              "    <tr>\n",
              "      <th>4</th>\n",
              "      <td>emergency</td>\n",
              "      <td>4</td>\n",
              "    </tr>\n",
              "    <tr>\n",
              "      <th>5</th>\n",
              "      <td>advertisment</td>\n",
              "      <td>0</td>\n",
              "    </tr>\n",
              "  </tbody>\n",
              "</table>\n",
              "</div>"
            ],
            "text/plain": [
              "         labels  values\n",
              "0     renewable       0\n",
              "1      politics       1\n",
              "2      emission       3\n",
              "3   temperature       2\n",
              "4     emergency       4\n",
              "5  advertisment       0"
            ]
          },
          "metadata": {
            "tags": []
          },
          "execution_count": 8
        }
      ]
    },
    {
      "cell_type": "code",
      "metadata": {
        "pycharm": {
          "name": "#%%\n"
        },
        "id": "CWo0QXpLfKJN",
        "colab_type": "code",
        "colab": {
          "base_uri": "https://localhost:8080/",
          "height": 297
        },
        "outputId": "1f75a240-a502-4b50-939f-1142842413d5"
      },
      "source": [
        "sns.barplot(data = df_chart\n",
        "            ,x = 'labels'\n",
        "            ,y = 'values'\n",
        "            )"
      ],
      "execution_count": 9,
      "outputs": [
        {
          "output_type": "execute_result",
          "data": {
            "text/plain": [
              "<matplotlib.axes._subplots.AxesSubplot at 0x7fa395e113c8>"
            ]
          },
          "metadata": {
            "tags": []
          },
          "execution_count": 9
        },
        {
          "output_type": "display_data",
          "data": {
            "image/png": "[encoded data removed]",
            "text/plain": [
              "<Figure size 432x288 with 1 Axes>"
            ]
          },
          "metadata": {
            "tags": [],
            "needs_background": "light"
          }
        }
      ]
    },
    {
      "cell_type": "code",
      "metadata": {
        "pycharm": {
          "name": "#%%\n"
        },
        "id": "lqxUtcbPfKJQ",
        "colab_type": "code",
        "colab": {}
      },
      "source": [
        ""
      ],
      "execution_count": 9,
      "outputs": []
    }
  ]
}