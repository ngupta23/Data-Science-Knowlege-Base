{
 "metadata": {
  "language_info": {
   "codemirror_mode": {
    "name": "ipython",
    "version": 3
   },
   "file_extension": ".py",
   "mimetype": "text/x-python",
   "name": "python",
   "nbconvert_exporter": "python",
   "pygments_lexer": "ipython3",
   "version": "3.6.10-final"
  },
  "orig_nbformat": 2,
  "kernelspec": {
   "name": "python_defaultSpec_1598146377296",
   "display_name": "Python 3.6.10 64-bit ('dl_nlp': conda)"
  }
 },
 "nbformat": 4,
 "nbformat_minor": 2,
 "cells": [
  {
   "cell_type": "code",
   "execution_count": 1,
   "metadata": {},
   "outputs": [],
   "source": [
    "import requests\n",
    "import os\n",
    "from pprint import pprint\n",
    "import pandas as pd\n",
    "from transformers import pipeline\n",
    "from typing import List, Dict"
   ]
  },
  {
   "cell_type": "code",
   "execution_count": 2,
   "metadata": {},
   "outputs": [],
   "source": [
    "with open('../../../../api_keys/nytimes/api_key.txt') as f:\n",
    "    apikey = f.readline()"
   ]
  },
  {
   "cell_type": "code",
   "execution_count": 3,
   "metadata": {},
   "outputs": [],
   "source": [
    "# # Only returns 10 ata  time (need to explore more)\n",
    "\n",
    "# # Article Search: https://developer.nytimes.com/docs/articlesearch-product/1/routes/articlesearch.json/get to explore API\n",
    "# # https://api.nytimes.com/svc/search/v2/articlesearch.json?q=<QUERY>&api-key=<APIKEY>\n",
    "\n",
    "# query = \"politics\"\n",
    "# begin_date = \"20200101\"  # YYYYMMDD\n",
    "# filter_query = \"\\\"body:(\\\"Trump\\\") AND glocations:(\\\"WASHINGTON\\\")\\\"\"  # http://www.lucenetutorial.com/lucene-query-syntax.html\n",
    "# page = \"0\"  # <0-100>\n",
    "# sort = \"relevance\"  # newest, oldest\n",
    "# query_url = f\"https://api.nytimes.com/svc/search/v2/articlesearch.json?\" \\\n",
    "#             f\"q={query}\" \\\n",
    "#             f\"&api-key={apikey}\" \\\n",
    "#             f\"&begin_date={begin_date}\" \\\n",
    "#             # f\"&fq={filter_query}\" \\\n",
    "#             # f\"&page={page}\" \\\n",
    "#             # f\"&sort={sort}\"\n",
    "\n",
    "# r = requests.get(query_url)\n",
    "# # pprint(r.json())"
   ]
  },
  {
   "cell_type": "code",
   "execution_count": 4,
   "metadata": {},
   "outputs": [],
   "source": [
    "year = \"2020\"  # <1851 - 2020>\n",
    "month = \"7\"  # <1 - 12>\n",
    "query_url = f\"https://api.nytimes.com/svc/archive/v1/{year}/{month}.json?api-key={apikey}\"\n",
    "\n",
    "r = requests.get(query_url)\n",
    "# pprint(r.json())"
   ]
  },
  {
   "cell_type": "code",
   "execution_count": 5,
   "metadata": {
    "tags": []
   },
   "outputs": [
    {
     "output_type": "stream",
     "name": "stdout",
     "text": "<class 'pandas.core.frame.DataFrame'>\nRangeIndex: 6553 entries, 0 to 6552\nData columns (total 29 columns):\n #   Column                   Non-Null Count  Dtype \n---  ------                   --------------  ----- \n 0   abstract                 6553 non-null   object\n 1   web_url                  6553 non-null   object\n 2   snippet                  6553 non-null   object\n 3   lead_paragraph           6553 non-null   object\n 4   print_section            4078 non-null   object\n 5   print_page               4078 non-null   object\n 6   source                   6553 non-null   object\n 7   multimedia               6553 non-null   object\n 8   keywords                 6553 non-null   object\n 9   pub_date                 6553 non-null   object\n 10  document_type            6553 non-null   object\n 11  news_desk                6553 non-null   object\n 12  section_name             6553 non-null   object\n 13  subsection_name          2646 non-null   object\n 14  type_of_material         6445 non-null   object\n 15  _id                      6553 non-null   object\n 16  word_count               6553 non-null   int64 \n 17  uri                      6553 non-null   object\n 18  headline.main            6553 non-null   object\n 19  headline.kicker          1525 non-null   object\n 20  headline.content_kicker  0 non-null      object\n 21  headline.print_headline  4092 non-null   object\n 22  headline.name            0 non-null      object\n 23  headline.seo             0 non-null      object\n 24  headline.sub             0 non-null      object\n 25  byline.original          5893 non-null   object\n 26  byline.person            6553 non-null   object\n 27  byline.organization      174 non-null    object\n 28  slideshow_credits        55 non-null     object\ndtypes: int64(1), object(28)\nmemory usage: 1.4+ MB\n"
    }
   ],
   "source": [
    "data = pd.json_normalize(r.json()['response']['docs'])\n",
    "data.info()"
   ]
  },
  {
   "cell_type": "code",
   "execution_count": 6,
   "metadata": {},
   "outputs": [
    {
     "output_type": "execute_result",
     "data": {
      "text/plain": "                                            abstract  \\\n0  A small-time businessman became a key middlema...   \n1  The so-called Capitol Hill Organized Protest a...   \n2  Surging outbreaks in the U.S. Embassy and the ...   \n3  Journalists have been wary of Alden Global Cap...   \n4  Adam Hollingsworth, known in Chicago as the Dr...   \n\n                                             web_url  \\\n0  https://www.nytimes.com/2020/07/01/world/asia/...   \n1  https://www.nytimes.com/2020/07/01/us/seattle-...   \n2  https://www.nytimes.com/2020/07/01/us/politics...   \n3  https://www.nytimes.com/2020/07/02/business/me...   \n4  https://www.nytimes.com/2020/07/01/style/dread...   \n\n                                             snippet  \\\n0  A small-time businessman became a key middlema...   \n1  The so-called Capitol Hill Organized Protest a...   \n2  Surging outbreaks in the U.S. Embassy and the ...   \n3  Journalists have been wary of Alden Global Cap...   \n4  Adam Hollingsworth, known in Chicago as the Dr...   \n\n                                      lead_paragraph print_section print_page  \\\n0  KABUL, Afghanistan — He was a lowly drug smugg...             A         18   \n1  SEATTLE — For weeks, officials in Seattle have...             A         20   \n2  WASHINGTON — Inside the sprawling American Emb...             A          1   \n3  Alden Global Capital seemed in position this w...             B          1   \n4  In late May, as protests against police brutal...            ST          2   \n\n               source                                         multimedia  \\\n0  The New York Times  [{'rank': 0, 'subtype': 'xlarge', 'caption': N...   \n1  The New York Times                                                 []   \n2  The New York Times  [{'rank': 0, 'subtype': 'xlarge', 'caption': N...   \n3  The New York Times  [{'rank': 0, 'subtype': 'xlarge', 'caption': N...   \n4  The New York Times  [{'rank': 0, 'subtype': 'xlarge', 'caption': N...   \n\n                                            keywords  \\\n0  [{'name': 'glocations', 'value': 'Russia', 'ra...   \n1  [{'name': 'subject', 'value': 'George Floyd Pr...   \n2  [{'name': 'subject', 'value': 'Coronavirus (20...   \n3  [{'name': 'subject', 'value': 'Newspapers', 'r...   \n4  [{'name': 'persons', 'value': 'Hollingsworth, ...   \n\n                   pub_date  ... headline.kicker headline.content_kicker  \\\n0  2020-07-01T23:16:05+0000  ...            None                    None   \n1  2020-07-01T14:06:12+0000  ...            None                    None   \n2  2020-07-01T21:21:16+0000  ...            None                    None   \n3  2020-07-03T02:13:01+0000  ...            None                    None   \n4  2020-07-01T15:39:53+0000  ...            None                    None   \n\n                             headline.print_headline headline.name  \\\n0  Afghan Contractor Gave Out Russian Cash, Offic...          None   \n1  Blaming Gun Violence, Seattle Officials Clear ...          None   \n2  Embassy Crisis in Riyadh Shows Perils of Diplo...          None   \n3            Hedge Fund Delays Effort To Buy Tribune          None   \n4   ‘You Can’t Just Get Up and Steal a Police Horse’          None   \n\n  headline.seo headline.sub  \\\n0         None         None   \n1         None         None   \n2         None         None   \n3         None         None   \n4         None         None   \n\n                                     byline.original  \\\n0  By Mujib Mashal, Eric Schmitt, Najim Rahim and...   \n1                                   By Rachel Abrams   \n2                   By Mark Mazzetti and Edward Wong   \n3                                      By Marc Tracy   \n4                                   By Ximena Larkin   \n\n                                       byline.person byline.organization  \\\n0  [{'firstname': 'Mujib', 'middlename': None, 'l...                None   \n1  [{'firstname': 'Rachel', 'middlename': None, '...                None   \n2  [{'firstname': 'Mark', 'middlename': None, 'la...                None   \n3  [{'firstname': 'Marc', 'middlename': None, 'la...                None   \n4  [{'firstname': 'Ximena', 'middlename': None, '...                None   \n\n  slideshow_credits  \n0               NaN  \n1               NaN  \n2               NaN  \n3               NaN  \n4               NaN  \n\n[5 rows x 29 columns]",
      "text/html": "<div>\n<style scoped>\n    .dataframe tbody tr th:only-of-type {\n        vertical-align: middle;\n    }\n\n    .dataframe tbody tr th {\n        vertical-align: top;\n    }\n\n    .dataframe thead th {\n        text-align: right;\n    }\n</style>\n<table border=\"1\" class=\"dataframe\">\n  <thead>\n    <tr style=\"text-align: right;\">\n      <th></th>\n      <th>abstract</th>\n      <th>web_url</th>\n      <th>snippet</th>\n      <th>lead_paragraph</th>\n      <th>print_section</th>\n      <th>print_page</th>\n      <th>source</th>\n      <th>multimedia</th>\n      <th>keywords</th>\n      <th>pub_date</th>\n      <th>...</th>\n      <th>headline.kicker</th>\n      <th>headline.content_kicker</th>\n      <th>headline.print_headline</th>\n      <th>headline.name</th>\n      <th>headline.seo</th>\n      <th>headline.sub</th>\n      <th>byline.original</th>\n      <th>byline.person</th>\n      <th>byline.organization</th>\n      <th>slideshow_credits</th>\n    </tr>\n  </thead>\n  <tbody>\n    <tr>\n      <th>0</th>\n      <td>A small-time businessman became a key middlema...</td>\n      <td>https://www.nytimes.com/2020/07/01/world/asia/...</td>\n      <td>A small-time businessman became a key middlema...</td>\n      <td>KABUL, Afghanistan — He was a lowly drug smugg...</td>\n      <td>A</td>\n      <td>18</td>\n      <td>The New York Times</td>\n      <td>[{'rank': 0, 'subtype': 'xlarge', 'caption': N...</td>\n      <td>[{'name': 'glocations', 'value': 'Russia', 'ra...</td>\n      <td>2020-07-01T23:16:05+0000</td>\n      <td>...</td>\n      <td>None</td>\n      <td>None</td>\n      <td>Afghan Contractor Gave Out Russian Cash, Offic...</td>\n      <td>None</td>\n      <td>None</td>\n      <td>None</td>\n      <td>By Mujib Mashal, Eric Schmitt, Najim Rahim and...</td>\n      <td>[{'firstname': 'Mujib', 'middlename': None, 'l...</td>\n      <td>None</td>\n      <td>NaN</td>\n    </tr>\n    <tr>\n      <th>1</th>\n      <td>The so-called Capitol Hill Organized Protest a...</td>\n      <td>https://www.nytimes.com/2020/07/01/us/seattle-...</td>\n      <td>The so-called Capitol Hill Organized Protest a...</td>\n      <td>SEATTLE — For weeks, officials in Seattle have...</td>\n      <td>A</td>\n      <td>20</td>\n      <td>The New York Times</td>\n      <td>[]</td>\n      <td>[{'name': 'subject', 'value': 'George Floyd Pr...</td>\n      <td>2020-07-01T14:06:12+0000</td>\n      <td>...</td>\n      <td>None</td>\n      <td>None</td>\n      <td>Blaming Gun Violence, Seattle Officials Clear ...</td>\n      <td>None</td>\n      <td>None</td>\n      <td>None</td>\n      <td>By Rachel Abrams</td>\n      <td>[{'firstname': 'Rachel', 'middlename': None, '...</td>\n      <td>None</td>\n      <td>NaN</td>\n    </tr>\n    <tr>\n      <th>2</th>\n      <td>Surging outbreaks in the U.S. Embassy and the ...</td>\n      <td>https://www.nytimes.com/2020/07/01/us/politics...</td>\n      <td>Surging outbreaks in the U.S. Embassy and the ...</td>\n      <td>WASHINGTON — Inside the sprawling American Emb...</td>\n      <td>A</td>\n      <td>1</td>\n      <td>The New York Times</td>\n      <td>[{'rank': 0, 'subtype': 'xlarge', 'caption': N...</td>\n      <td>[{'name': 'subject', 'value': 'Coronavirus (20...</td>\n      <td>2020-07-01T21:21:16+0000</td>\n      <td>...</td>\n      <td>None</td>\n      <td>None</td>\n      <td>Embassy Crisis in Riyadh Shows Perils of Diplo...</td>\n      <td>None</td>\n      <td>None</td>\n      <td>None</td>\n      <td>By Mark Mazzetti and Edward Wong</td>\n      <td>[{'firstname': 'Mark', 'middlename': None, 'la...</td>\n      <td>None</td>\n      <td>NaN</td>\n    </tr>\n    <tr>\n      <th>3</th>\n      <td>Journalists have been wary of Alden Global Cap...</td>\n      <td>https://www.nytimes.com/2020/07/02/business/me...</td>\n      <td>Journalists have been wary of Alden Global Cap...</td>\n      <td>Alden Global Capital seemed in position this w...</td>\n      <td>B</td>\n      <td>1</td>\n      <td>The New York Times</td>\n      <td>[{'rank': 0, 'subtype': 'xlarge', 'caption': N...</td>\n      <td>[{'name': 'subject', 'value': 'Newspapers', 'r...</td>\n      <td>2020-07-03T02:13:01+0000</td>\n      <td>...</td>\n      <td>None</td>\n      <td>None</td>\n      <td>Hedge Fund Delays Effort To Buy Tribune</td>\n      <td>None</td>\n      <td>None</td>\n      <td>None</td>\n      <td>By Marc Tracy</td>\n      <td>[{'firstname': 'Marc', 'middlename': None, 'la...</td>\n      <td>None</td>\n      <td>NaN</td>\n    </tr>\n    <tr>\n      <th>4</th>\n      <td>Adam Hollingsworth, known in Chicago as the Dr...</td>\n      <td>https://www.nytimes.com/2020/07/01/style/dread...</td>\n      <td>Adam Hollingsworth, known in Chicago as the Dr...</td>\n      <td>In late May, as protests against police brutal...</td>\n      <td>ST</td>\n      <td>2</td>\n      <td>The New York Times</td>\n      <td>[{'rank': 0, 'subtype': 'xlarge', 'caption': N...</td>\n      <td>[{'name': 'persons', 'value': 'Hollingsworth, ...</td>\n      <td>2020-07-01T15:39:53+0000</td>\n      <td>...</td>\n      <td>None</td>\n      <td>None</td>\n      <td>‘You Can’t Just Get Up and Steal a Police Horse’</td>\n      <td>None</td>\n      <td>None</td>\n      <td>None</td>\n      <td>By Ximena Larkin</td>\n      <td>[{'firstname': 'Ximena', 'middlename': None, '...</td>\n      <td>None</td>\n      <td>NaN</td>\n    </tr>\n  </tbody>\n</table>\n<p>5 rows × 29 columns</p>\n</div>"
     },
     "metadata": {},
     "execution_count": 6
    }
   ],
   "source": [
    "data.head()"
   ]
  },
  {
   "cell_type": "code",
   "execution_count": 7,
   "metadata": {
    "tags": []
   },
   "outputs": [
    {
     "output_type": "stream",
     "name": "stdout",
     "text": "<class 'pandas.core.frame.DataFrame'>\nRangeIndex: 6553 entries, 0 to 6552\nData columns (total 29 columns):\n #   Column                   Non-Null Count  Dtype              \n---  ------                   --------------  -----              \n 0   abstract                 6553 non-null   object             \n 1   web_url                  6553 non-null   object             \n 2   snippet                  6553 non-null   object             \n 3   lead_paragraph           6553 non-null   object             \n 4   print_section            4078 non-null   object             \n 5   print_page               4078 non-null   object             \n 6   source                   6553 non-null   object             \n 7   multimedia               6553 non-null   object             \n 8   keywords                 6553 non-null   object             \n 9   pub_date                 6553 non-null   datetime64[ns, UTC]\n 10  document_type            6553 non-null   object             \n 11  news_desk                6553 non-null   object             \n 12  section_name             6553 non-null   object             \n 13  subsection_name          2646 non-null   object             \n 14  type_of_material         6445 non-null   object             \n 15  _id                      6553 non-null   object             \n 16  word_count               6553 non-null   int64              \n 17  uri                      6553 non-null   object             \n 18  headline.main            6553 non-null   object             \n 19  headline.kicker          1525 non-null   object             \n 20  headline.content_kicker  0 non-null      object             \n 21  headline.print_headline  4092 non-null   object             \n 22  headline.name            0 non-null      object             \n 23  headline.seo             0 non-null      object             \n 24  headline.sub             0 non-null      object             \n 25  byline.original          5893 non-null   object             \n 26  byline.person            6553 non-null   object             \n 27  byline.organization      174 non-null    object             \n 28  slideshow_credits        55 non-null     object             \ndtypes: datetime64[ns, UTC](1), int64(1), object(27)\nmemory usage: 1.4+ MB\n"
    }
   ],
   "source": [
    "data['pub_date'] = pd.to_datetime(data['pub_date'])\n",
    "data.info()"
   ]
  },
  {
   "cell_type": "code",
   "execution_count": 8,
   "metadata": {},
   "outputs": [
    {
     "output_type": "execute_result",
     "data": {
      "text/plain": "             name                                      value  rank major\n0      glocations                                     Russia     1     N\n1   organizations                                    Taliban     2     N\n2         persons                         Azizi, Rahmatullah     3     N\n3      glocations                                AFGHANISTAN     4     N\n4         subject                   Afghanistan War (2001- )     5     N\n5         subject  United States Defense and Military Forces     6     N\n6   organizations                               GRU (Russia)     7     N\n7         subject        Espionage and Intelligence Services     8     N\n8         persons                            Trump, Donald J     9     N\n9         subject      United States International Relations    10     N\n10        subject      United States Politics and Government    11     N",
      "text/html": "<div>\n<style scoped>\n    .dataframe tbody tr th:only-of-type {\n        vertical-align: middle;\n    }\n\n    .dataframe tbody tr th {\n        vertical-align: top;\n    }\n\n    .dataframe thead th {\n        text-align: right;\n    }\n</style>\n<table border=\"1\" class=\"dataframe\">\n  <thead>\n    <tr style=\"text-align: right;\">\n      <th></th>\n      <th>name</th>\n      <th>value</th>\n      <th>rank</th>\n      <th>major</th>\n    </tr>\n  </thead>\n  <tbody>\n    <tr>\n      <th>0</th>\n      <td>glocations</td>\n      <td>Russia</td>\n      <td>1</td>\n      <td>N</td>\n    </tr>\n    <tr>\n      <th>1</th>\n      <td>organizations</td>\n      <td>Taliban</td>\n      <td>2</td>\n      <td>N</td>\n    </tr>\n    <tr>\n      <th>2</th>\n      <td>persons</td>\n      <td>Azizi, Rahmatullah</td>\n      <td>3</td>\n      <td>N</td>\n    </tr>\n    <tr>\n      <th>3</th>\n      <td>glocations</td>\n      <td>AFGHANISTAN</td>\n      <td>4</td>\n      <td>N</td>\n    </tr>\n    <tr>\n      <th>4</th>\n      <td>subject</td>\n      <td>Afghanistan War (2001- )</td>\n      <td>5</td>\n      <td>N</td>\n    </tr>\n    <tr>\n      <th>5</th>\n      <td>subject</td>\n      <td>United States Defense and Military Forces</td>\n      <td>6</td>\n      <td>N</td>\n    </tr>\n    <tr>\n      <th>6</th>\n      <td>organizations</td>\n      <td>GRU (Russia)</td>\n      <td>7</td>\n      <td>N</td>\n    </tr>\n    <tr>\n      <th>7</th>\n      <td>subject</td>\n      <td>Espionage and Intelligence Services</td>\n      <td>8</td>\n      <td>N</td>\n    </tr>\n    <tr>\n      <th>8</th>\n      <td>persons</td>\n      <td>Trump, Donald J</td>\n      <td>9</td>\n      <td>N</td>\n    </tr>\n    <tr>\n      <th>9</th>\n      <td>subject</td>\n      <td>United States International Relations</td>\n      <td>10</td>\n      <td>N</td>\n    </tr>\n    <tr>\n      <th>10</th>\n      <td>subject</td>\n      <td>United States Politics and Government</td>\n      <td>11</td>\n      <td>N</td>\n    </tr>\n  </tbody>\n</table>\n</div>"
     },
     "metadata": {},
     "execution_count": 8
    }
   ],
   "source": [
    "pd.json_normalize(data.iloc[0]['keywords'])"
   ]
  },
  {
   "cell_type": "code",
   "execution_count": 9,
   "metadata": {
    "tags": []
   },
   "outputs": [],
   "source": [
    "def entity_present(keywords: List[Dict[str, str]], entity: str) -> int:\n",
    "    temp = pd.json_normalize(keywords)\n",
    "    if 'value' in temp.columns:\n",
    "        return temp['value'].isin([entity]).sum()\n",
    "    else:\n",
    "        return 0\n",
    "\n",
    "def biden_present(keywords: List[Dict[str, str]]) -> int:\n",
    "    return entity_present(keywords=keywords, entity='Biden, Joseph R Jr')\n",
    "    \n",
    "def trump_present(keywords: List[Dict[str, str]]) -> int:\n",
    "    return entity_present(keywords=keywords, entity='Trump, Donald J')"
   ]
  },
  {
   "cell_type": "code",
   "execution_count": 10,
   "metadata": {},
   "outputs": [
    {
     "output_type": "execute_result",
     "data": {
      "text/plain": "                                            abstract  \\\n0  A small-time businessman became a key middlema...   \n1  The so-called Capitol Hill Organized Protest a...   \n2  Surging outbreaks in the U.S. Embassy and the ...   \n3  Journalists have been wary of Alden Global Cap...   \n4  Adam Hollingsworth, known in Chicago as the Dr...   \n\n                                             web_url  \\\n0  https://www.nytimes.com/2020/07/01/world/asia/...   \n1  https://www.nytimes.com/2020/07/01/us/seattle-...   \n2  https://www.nytimes.com/2020/07/01/us/politics...   \n3  https://www.nytimes.com/2020/07/02/business/me...   \n4  https://www.nytimes.com/2020/07/01/style/dread...   \n\n                                             snippet  \\\n0  A small-time businessman became a key middlema...   \n1  The so-called Capitol Hill Organized Protest a...   \n2  Surging outbreaks in the U.S. Embassy and the ...   \n3  Journalists have been wary of Alden Global Cap...   \n4  Adam Hollingsworth, known in Chicago as the Dr...   \n\n                                      lead_paragraph print_section print_page  \\\n0  KABUL, Afghanistan — He was a lowly drug smugg...             A         18   \n1  SEATTLE — For weeks, officials in Seattle have...             A         20   \n2  WASHINGTON — Inside the sprawling American Emb...             A          1   \n3  Alden Global Capital seemed in position this w...             B          1   \n4  In late May, as protests against police brutal...            ST          2   \n\n               source                                         multimedia  \\\n0  The New York Times  [{'rank': 0, 'subtype': 'xlarge', 'caption': N...   \n1  The New York Times                                                 []   \n2  The New York Times  [{'rank': 0, 'subtype': 'xlarge', 'caption': N...   \n3  The New York Times  [{'rank': 0, 'subtype': 'xlarge', 'caption': N...   \n4  The New York Times  [{'rank': 0, 'subtype': 'xlarge', 'caption': N...   \n\n                                            keywords  \\\n0  [{'name': 'glocations', 'value': 'Russia', 'ra...   \n1  [{'name': 'subject', 'value': 'George Floyd Pr...   \n2  [{'name': 'subject', 'value': 'Coronavirus (20...   \n3  [{'name': 'subject', 'value': 'Newspapers', 'r...   \n4  [{'name': 'persons', 'value': 'Hollingsworth, ...   \n\n                   pub_date  ... headline.sub  \\\n0 2020-07-01 23:16:05+00:00  ...         None   \n1 2020-07-01 14:06:12+00:00  ...         None   \n2 2020-07-01 21:21:16+00:00  ...         None   \n3 2020-07-03 02:13:01+00:00  ...         None   \n4 2020-07-01 15:39:53+00:00  ...         None   \n\n                                     byline.original  \\\n0  By Mujib Mashal, Eric Schmitt, Najim Rahim and...   \n1                                   By Rachel Abrams   \n2                   By Mark Mazzetti and Edward Wong   \n3                                      By Marc Tracy   \n4                                   By Ximena Larkin   \n\n                                       byline.person byline.organization  \\\n0  [{'firstname': 'Mujib', 'middlename': None, 'l...                None   \n1  [{'firstname': 'Rachel', 'middlename': None, '...                None   \n2  [{'firstname': 'Mark', 'middlename': None, 'la...                None   \n3  [{'firstname': 'Marc', 'middlename': None, 'la...                None   \n4  [{'firstname': 'Ximena', 'middlename': None, '...                None   \n\n  slideshow_credits biden_present  trump_present both_present  \\\n0               NaN             0              1            0   \n1               NaN             0              0            0   \n2               NaN             0              0            0   \n3               NaN             0              0            0   \n4               NaN             0              0            0   \n\n  only_biden_present only_trump_present  \n0                  0                  1  \n1                  0                  0  \n2                  0                  0  \n3                  0                  0  \n4                  0                  0  \n\n[5 rows x 34 columns]",
      "text/html": "<div>\n<style scoped>\n    .dataframe tbody tr th:only-of-type {\n        vertical-align: middle;\n    }\n\n    .dataframe tbody tr th {\n        vertical-align: top;\n    }\n\n    .dataframe thead th {\n        text-align: right;\n    }\n</style>\n<table border=\"1\" class=\"dataframe\">\n  <thead>\n    <tr style=\"text-align: right;\">\n      <th></th>\n      <th>abstract</th>\n      <th>web_url</th>\n      <th>snippet</th>\n      <th>lead_paragraph</th>\n      <th>print_section</th>\n      <th>print_page</th>\n      <th>source</th>\n      <th>multimedia</th>\n      <th>keywords</th>\n      <th>pub_date</th>\n      <th>...</th>\n      <th>headline.sub</th>\n      <th>byline.original</th>\n      <th>byline.person</th>\n      <th>byline.organization</th>\n      <th>slideshow_credits</th>\n      <th>biden_present</th>\n      <th>trump_present</th>\n      <th>both_present</th>\n      <th>only_biden_present</th>\n      <th>only_trump_present</th>\n    </tr>\n  </thead>\n  <tbody>\n    <tr>\n      <th>0</th>\n      <td>A small-time businessman became a key middlema...</td>\n      <td>https://www.nytimes.com/2020/07/01/world/asia/...</td>\n      <td>A small-time businessman became a key middlema...</td>\n      <td>KABUL, Afghanistan — He was a lowly drug smugg...</td>\n      <td>A</td>\n      <td>18</td>\n      <td>The New York Times</td>\n      <td>[{'rank': 0, 'subtype': 'xlarge', 'caption': N...</td>\n      <td>[{'name': 'glocations', 'value': 'Russia', 'ra...</td>\n      <td>2020-07-01 23:16:05+00:00</td>\n      <td>...</td>\n      <td>None</td>\n      <td>By Mujib Mashal, Eric Schmitt, Najim Rahim and...</td>\n      <td>[{'firstname': 'Mujib', 'middlename': None, 'l...</td>\n      <td>None</td>\n      <td>NaN</td>\n      <td>0</td>\n      <td>1</td>\n      <td>0</td>\n      <td>0</td>\n      <td>1</td>\n    </tr>\n    <tr>\n      <th>1</th>\n      <td>The so-called Capitol Hill Organized Protest a...</td>\n      <td>https://www.nytimes.com/2020/07/01/us/seattle-...</td>\n      <td>The so-called Capitol Hill Organized Protest a...</td>\n      <td>SEATTLE — For weeks, officials in Seattle have...</td>\n      <td>A</td>\n      <td>20</td>\n      <td>The New York Times</td>\n      <td>[]</td>\n      <td>[{'name': 'subject', 'value': 'George Floyd Pr...</td>\n      <td>2020-07-01 14:06:12+00:00</td>\n      <td>...</td>\n      <td>None</td>\n      <td>By Rachel Abrams</td>\n      <td>[{'firstname': 'Rachel', 'middlename': None, '...</td>\n      <td>None</td>\n      <td>NaN</td>\n      <td>0</td>\n      <td>0</td>\n      <td>0</td>\n      <td>0</td>\n      <td>0</td>\n    </tr>\n    <tr>\n      <th>2</th>\n      <td>Surging outbreaks in the U.S. Embassy and the ...</td>\n      <td>https://www.nytimes.com/2020/07/01/us/politics...</td>\n      <td>Surging outbreaks in the U.S. Embassy and the ...</td>\n      <td>WASHINGTON — Inside the sprawling American Emb...</td>\n      <td>A</td>\n      <td>1</td>\n      <td>The New York Times</td>\n      <td>[{'rank': 0, 'subtype': 'xlarge', 'caption': N...</td>\n      <td>[{'name': 'subject', 'value': 'Coronavirus (20...</td>\n      <td>2020-07-01 21:21:16+00:00</td>\n      <td>...</td>\n      <td>None</td>\n      <td>By Mark Mazzetti and Edward Wong</td>\n      <td>[{'firstname': 'Mark', 'middlename': None, 'la...</td>\n      <td>None</td>\n      <td>NaN</td>\n      <td>0</td>\n      <td>0</td>\n      <td>0</td>\n      <td>0</td>\n      <td>0</td>\n    </tr>\n    <tr>\n      <th>3</th>\n      <td>Journalists have been wary of Alden Global Cap...</td>\n      <td>https://www.nytimes.com/2020/07/02/business/me...</td>\n      <td>Journalists have been wary of Alden Global Cap...</td>\n      <td>Alden Global Capital seemed in position this w...</td>\n      <td>B</td>\n      <td>1</td>\n      <td>The New York Times</td>\n      <td>[{'rank': 0, 'subtype': 'xlarge', 'caption': N...</td>\n      <td>[{'name': 'subject', 'value': 'Newspapers', 'r...</td>\n      <td>2020-07-03 02:13:01+00:00</td>\n      <td>...</td>\n      <td>None</td>\n      <td>By Marc Tracy</td>\n      <td>[{'firstname': 'Marc', 'middlename': None, 'la...</td>\n      <td>None</td>\n      <td>NaN</td>\n      <td>0</td>\n      <td>0</td>\n      <td>0</td>\n      <td>0</td>\n      <td>0</td>\n    </tr>\n    <tr>\n      <th>4</th>\n      <td>Adam Hollingsworth, known in Chicago as the Dr...</td>\n      <td>https://www.nytimes.com/2020/07/01/style/dread...</td>\n      <td>Adam Hollingsworth, known in Chicago as the Dr...</td>\n      <td>In late May, as protests against police brutal...</td>\n      <td>ST</td>\n      <td>2</td>\n      <td>The New York Times</td>\n      <td>[{'rank': 0, 'subtype': 'xlarge', 'caption': N...</td>\n      <td>[{'name': 'persons', 'value': 'Hollingsworth, ...</td>\n      <td>2020-07-01 15:39:53+00:00</td>\n      <td>...</td>\n      <td>None</td>\n      <td>By Ximena Larkin</td>\n      <td>[{'firstname': 'Ximena', 'middlename': None, '...</td>\n      <td>None</td>\n      <td>NaN</td>\n      <td>0</td>\n      <td>0</td>\n      <td>0</td>\n      <td>0</td>\n      <td>0</td>\n    </tr>\n  </tbody>\n</table>\n<p>5 rows × 34 columns</p>\n</div>"
     },
     "metadata": {},
     "execution_count": 10
    }
   ],
   "source": [
    "data['biden_present'] = data.apply(lambda row: biden_present(keywords=row['keywords']), axis=1)\n",
    "data['trump_present'] = data.apply(lambda row: trump_present(keywords=row['keywords']), axis=1)\n",
    "\n",
    "data['both_present'] = data['biden_present'] * data['trump_present']\n",
    "data['only_biden_present'] = data['biden_present'] * (1-data['both_present'])\n",
    "data['only_trump_present'] = data['trump_present'] * (1-data['both_present'])\n",
    "data.head()"
   ]
  },
  {
   "cell_type": "code",
   "execution_count": 11,
   "metadata": {
    "tags": []
   },
   "outputs": [
    {
     "output_type": "stream",
     "name": "stdout",
     "text": "(915, 34)\n"
    },
    {
     "output_type": "execute_result",
     "data": {
      "text/plain": "                                            abstract  \\\n0  A small-time businessman became a key middlema...   \n1  A reader offers an idea to spice up the Democr...   \n2  The decision reversed a lower court’s ruling t...   \n3  The experience of Representative Elissa Slotki...   \n4  There’s a persuasive argument that the 2020 el...   \n\n                                             web_url  \\\n0  https://www.nytimes.com/2020/07/01/world/asia/...   \n1  https://www.nytimes.com/2020/07/02/opinion/let...   \n2  https://www.nytimes.com/2020/07/01/us/politics...   \n3  https://www.nytimes.com/2020/07/01/us/politics...   \n4  https://www.nytimes.com/2020/07/01/opinion/tru...   \n\n                                             snippet  \\\n0  A small-time businessman became a key middlema...   \n1  A reader offers an idea to spice up the Democr...   \n2  The decision reversed a lower court’s ruling t...   \n3  The experience of Representative Elissa Slotki...   \n4  There’s a persuasive argument that the 2020 el...   \n\n                                      lead_paragraph print_section print_page  \\\n0  KABUL, Afghanistan — He was a lowly drug smugg...             A         18   \n1                                     To the Editor:             A         22   \n2  A New York appellate judge ruled on Wednesday ...             A         21   \n3  WASHINGTON — From the moment President Trump p...             A         18   \n4  Only two of the past six presidents before Don...           NaN        NaN   \n\n               source                                         multimedia  \\\n0  The New York Times  [{'rank': 0, 'subtype': 'xlarge', 'caption': N...   \n1  The New York Times  [{'rank': 0, 'subtype': 'xlarge', 'caption': N...   \n2  The New York Times  [{'rank': 0, 'subtype': 'xlarge', 'caption': N...   \n3  The New York Times  [{'rank': 0, 'subtype': 'xlarge', 'caption': N...   \n4  The New York Times  [{'rank': 0, 'subtype': 'xlarge', 'caption': N...   \n\n                                            keywords  \\\n0  [{'name': 'glocations', 'value': 'Russia', 'ra...   \n1  [{'name': 'subject', 'value': 'Presidential El...   \n2  [{'name': 'creative_works', 'value': 'Too Much...   \n3  [{'name': 'subject', 'value': 'United States D...   \n4  [{'name': 'subject', 'value': 'Presidential El...   \n\n                   pub_date  ... headline.sub  \\\n0 2020-07-01 23:16:05+00:00  ...         None   \n1 2020-07-02 17:00:22+00:00  ...         None   \n2 2020-07-01 22:56:01+00:00  ...         None   \n3 2020-07-01 22:56:21+00:00  ...         None   \n4 2020-07-01 09:00:20+00:00  ...         None   \n\n                                     byline.original  \\\n0  By Mujib Mashal, Eric Schmitt, Najim Rahim and...   \n1                                               None   \n2                  By Maggie Haberman and Alan Feuer   \n3                                  By Emily Cochrane   \n4                                     By Frank Bruni   \n\n                                       byline.person byline.organization  \\\n0  [{'firstname': 'Mujib', 'middlename': None, 'l...                None   \n1                                                 []                None   \n2  [{'firstname': 'Maggie', 'middlename': None, '...                None   \n3  [{'firstname': 'Emily', 'middlename': None, 'l...                None   \n4  [{'firstname': 'Frank', 'middlename': None, 'l...                None   \n\n  slideshow_credits biden_present  trump_present both_present  \\\n0               NaN             0              1            0   \n1               NaN             1              0            0   \n2               NaN             0              1            0   \n3               NaN             0              1            0   \n4               NaN             1              1            1   \n\n  only_biden_present only_trump_present  \n0                  0                  1  \n1                  1                  0  \n2                  0                  1  \n3                  0                  1  \n4                  0                  0  \n\n[5 rows x 34 columns]",
      "text/html": "<div>\n<style scoped>\n    .dataframe tbody tr th:only-of-type {\n        vertical-align: middle;\n    }\n\n    .dataframe tbody tr th {\n        vertical-align: top;\n    }\n\n    .dataframe thead th {\n        text-align: right;\n    }\n</style>\n<table border=\"1\" class=\"dataframe\">\n  <thead>\n    <tr style=\"text-align: right;\">\n      <th></th>\n      <th>abstract</th>\n      <th>web_url</th>\n      <th>snippet</th>\n      <th>lead_paragraph</th>\n      <th>print_section</th>\n      <th>print_page</th>\n      <th>source</th>\n      <th>multimedia</th>\n      <th>keywords</th>\n      <th>pub_date</th>\n      <th>...</th>\n      <th>headline.sub</th>\n      <th>byline.original</th>\n      <th>byline.person</th>\n      <th>byline.organization</th>\n      <th>slideshow_credits</th>\n      <th>biden_present</th>\n      <th>trump_present</th>\n      <th>both_present</th>\n      <th>only_biden_present</th>\n      <th>only_trump_present</th>\n    </tr>\n  </thead>\n  <tbody>\n    <tr>\n      <th>0</th>\n      <td>A small-time businessman became a key middlema...</td>\n      <td>https://www.nytimes.com/2020/07/01/world/asia/...</td>\n      <td>A small-time businessman became a key middlema...</td>\n      <td>KABUL, Afghanistan — He was a lowly drug smugg...</td>\n      <td>A</td>\n      <td>18</td>\n      <td>The New York Times</td>\n      <td>[{'rank': 0, 'subtype': 'xlarge', 'caption': N...</td>\n      <td>[{'name': 'glocations', 'value': 'Russia', 'ra...</td>\n      <td>2020-07-01 23:16:05+00:00</td>\n      <td>...</td>\n      <td>None</td>\n      <td>By Mujib Mashal, Eric Schmitt, Najim Rahim and...</td>\n      <td>[{'firstname': 'Mujib', 'middlename': None, 'l...</td>\n      <td>None</td>\n      <td>NaN</td>\n      <td>0</td>\n      <td>1</td>\n      <td>0</td>\n      <td>0</td>\n      <td>1</td>\n    </tr>\n    <tr>\n      <th>1</th>\n      <td>A reader offers an idea to spice up the Democr...</td>\n      <td>https://www.nytimes.com/2020/07/02/opinion/let...</td>\n      <td>A reader offers an idea to spice up the Democr...</td>\n      <td>To the Editor:</td>\n      <td>A</td>\n      <td>22</td>\n      <td>The New York Times</td>\n      <td>[{'rank': 0, 'subtype': 'xlarge', 'caption': N...</td>\n      <td>[{'name': 'subject', 'value': 'Presidential El...</td>\n      <td>2020-07-02 17:00:22+00:00</td>\n      <td>...</td>\n      <td>None</td>\n      <td>None</td>\n      <td>[]</td>\n      <td>None</td>\n      <td>NaN</td>\n      <td>1</td>\n      <td>0</td>\n      <td>0</td>\n      <td>1</td>\n      <td>0</td>\n    </tr>\n    <tr>\n      <th>2</th>\n      <td>The decision reversed a lower court’s ruling t...</td>\n      <td>https://www.nytimes.com/2020/07/01/us/politics...</td>\n      <td>The decision reversed a lower court’s ruling t...</td>\n      <td>A New York appellate judge ruled on Wednesday ...</td>\n      <td>A</td>\n      <td>21</td>\n      <td>The New York Times</td>\n      <td>[{'rank': 0, 'subtype': 'xlarge', 'caption': N...</td>\n      <td>[{'name': 'creative_works', 'value': 'Too Much...</td>\n      <td>2020-07-01 22:56:01+00:00</td>\n      <td>...</td>\n      <td>None</td>\n      <td>By Maggie Haberman and Alan Feuer</td>\n      <td>[{'firstname': 'Maggie', 'middlename': None, '...</td>\n      <td>None</td>\n      <td>NaN</td>\n      <td>0</td>\n      <td>1</td>\n      <td>0</td>\n      <td>0</td>\n      <td>1</td>\n    </tr>\n    <tr>\n      <th>3</th>\n      <td>The experience of Representative Elissa Slotki...</td>\n      <td>https://www.nytimes.com/2020/07/01/us/politics...</td>\n      <td>The experience of Representative Elissa Slotki...</td>\n      <td>WASHINGTON — From the moment President Trump p...</td>\n      <td>A</td>\n      <td>18</td>\n      <td>The New York Times</td>\n      <td>[{'rank': 0, 'subtype': 'xlarge', 'caption': N...</td>\n      <td>[{'name': 'subject', 'value': 'United States D...</td>\n      <td>2020-07-01 22:56:21+00:00</td>\n      <td>...</td>\n      <td>None</td>\n      <td>By Emily Cochrane</td>\n      <td>[{'firstname': 'Emily', 'middlename': None, 'l...</td>\n      <td>None</td>\n      <td>NaN</td>\n      <td>0</td>\n      <td>1</td>\n      <td>0</td>\n      <td>0</td>\n      <td>1</td>\n    </tr>\n    <tr>\n      <th>4</th>\n      <td>There’s a persuasive argument that the 2020 el...</td>\n      <td>https://www.nytimes.com/2020/07/01/opinion/tru...</td>\n      <td>There’s a persuasive argument that the 2020 el...</td>\n      <td>Only two of the past six presidents before Don...</td>\n      <td>NaN</td>\n      <td>NaN</td>\n      <td>The New York Times</td>\n      <td>[{'rank': 0, 'subtype': 'xlarge', 'caption': N...</td>\n      <td>[{'name': 'subject', 'value': 'Presidential El...</td>\n      <td>2020-07-01 09:00:20+00:00</td>\n      <td>...</td>\n      <td>None</td>\n      <td>By Frank Bruni</td>\n      <td>[{'firstname': 'Frank', 'middlename': None, 'l...</td>\n      <td>None</td>\n      <td>NaN</td>\n      <td>1</td>\n      <td>1</td>\n      <td>1</td>\n      <td>0</td>\n      <td>0</td>\n    </tr>\n  </tbody>\n</table>\n<p>5 rows × 34 columns</p>\n</div>"
     },
     "metadata": {},
     "execution_count": 11
    }
   ],
   "source": [
    "data = data[(data['biden_present'] == 1) | (data['trump_present'] == 1)].reset_index(drop=True)\n",
    "print(data.shape)\n",
    "data.head()"
   ]
  },
  {
   "cell_type": "markdown",
   "metadata": {},
   "source": [
    "# Sentiment Analysis"
   ]
  },
  {
   "cell_type": "code",
   "execution_count": 12,
   "metadata": {},
   "outputs": [],
   "source": [
    "column_for_analysis = 'headline.main'\n",
    "# column_for_analysis = 'abstract'"
   ]
  },
  {
   "cell_type": "code",
   "execution_count": 13,
   "metadata": {
    "tags": []
   },
   "outputs": [],
   "source": [
    "sentiment = pipeline(\"sentiment-analysis\")"
   ]
  },
  {
   "cell_type": "code",
   "execution_count": 14,
   "metadata": {},
   "outputs": [],
   "source": [
    "results = sentiment(data[column_for_analysis].tolist())"
   ]
  },
  {
   "cell_type": "code",
   "execution_count": 15,
   "metadata": {},
   "outputs": [],
   "source": [
    "results = pd.json_normalize(results)"
   ]
  },
  {
   "cell_type": "code",
   "execution_count": 16,
   "metadata": {
    "tags": []
   },
   "outputs": [
    {
     "output_type": "execute_result",
     "data": {
      "text/plain": "                   pub_date  \\\n0 2020-07-01 23:16:05+00:00   \n1 2020-07-02 17:00:22+00:00   \n2 2020-07-01 22:56:01+00:00   \n3 2020-07-01 22:56:21+00:00   \n4 2020-07-01 09:00:20+00:00   \n\n                                       headline.main  biden_present  \\\n0  Afghan Contractor Handed Out Russian Cash to K...              0   \n1         Let the Delegates Help Choose Biden’s V.P.              1   \n2  Tell-All Book on Trump Can Move Forward Pendin...              0   \n3  Slotkin, Former Intelligence Briefer, Presses ...              0   \n4                                    Is Trump Toast?              1   \n\n   trump_present  only_biden_present  only_trump_present  both_present  \\\n0              1                   0                   1             0   \n1              0                   1                   0             0   \n2              1                   0                   1             0   \n3              1                   0                   1             0   \n4              1                   0                   0             1   \n\n      label     score  \n0  NEGATIVE  0.987241  \n1  POSITIVE  0.966687  \n2  POSITIVE  0.944482  \n3  NEGATIVE  0.908681  \n4  POSITIVE  0.954712  ",
      "text/html": "<div>\n<style scoped>\n    .dataframe tbody tr th:only-of-type {\n        vertical-align: middle;\n    }\n\n    .dataframe tbody tr th {\n        vertical-align: top;\n    }\n\n    .dataframe thead th {\n        text-align: right;\n    }\n</style>\n<table border=\"1\" class=\"dataframe\">\n  <thead>\n    <tr style=\"text-align: right;\">\n      <th></th>\n      <th>pub_date</th>\n      <th>headline.main</th>\n      <th>biden_present</th>\n      <th>trump_present</th>\n      <th>only_biden_present</th>\n      <th>only_trump_present</th>\n      <th>both_present</th>\n      <th>label</th>\n      <th>score</th>\n    </tr>\n  </thead>\n  <tbody>\n    <tr>\n      <th>0</th>\n      <td>2020-07-01 23:16:05+00:00</td>\n      <td>Afghan Contractor Handed Out Russian Cash to K...</td>\n      <td>0</td>\n      <td>1</td>\n      <td>0</td>\n      <td>1</td>\n      <td>0</td>\n      <td>NEGATIVE</td>\n      <td>0.987241</td>\n    </tr>\n    <tr>\n      <th>1</th>\n      <td>2020-07-02 17:00:22+00:00</td>\n      <td>Let the Delegates Help Choose Biden’s V.P.</td>\n      <td>1</td>\n      <td>0</td>\n      <td>1</td>\n      <td>0</td>\n      <td>0</td>\n      <td>POSITIVE</td>\n      <td>0.966687</td>\n    </tr>\n    <tr>\n      <th>2</th>\n      <td>2020-07-01 22:56:01+00:00</td>\n      <td>Tell-All Book on Trump Can Move Forward Pendin...</td>\n      <td>0</td>\n      <td>1</td>\n      <td>0</td>\n      <td>1</td>\n      <td>0</td>\n      <td>POSITIVE</td>\n      <td>0.944482</td>\n    </tr>\n    <tr>\n      <th>3</th>\n      <td>2020-07-01 22:56:21+00:00</td>\n      <td>Slotkin, Former Intelligence Briefer, Presses ...</td>\n      <td>0</td>\n      <td>1</td>\n      <td>0</td>\n      <td>1</td>\n      <td>0</td>\n      <td>NEGATIVE</td>\n      <td>0.908681</td>\n    </tr>\n    <tr>\n      <th>4</th>\n      <td>2020-07-01 09:00:20+00:00</td>\n      <td>Is Trump Toast?</td>\n      <td>1</td>\n      <td>1</td>\n      <td>0</td>\n      <td>0</td>\n      <td>1</td>\n      <td>POSITIVE</td>\n      <td>0.954712</td>\n    </tr>\n  </tbody>\n</table>\n</div>"
     },
     "metadata": {},
     "execution_count": 16
    }
   ],
   "source": [
    "dfs = [data[['pub_date', column_for_analysis, 'biden_present', 'trump_present', 'only_biden_present', 'only_trump_present', 'both_present']], results]\n",
    "sentiment = pd.concat(dfs, axis=1)\n",
    "sentiment.head()"
   ]
  },
  {
   "cell_type": "code",
   "execution_count": 17,
   "metadata": {},
   "outputs": [
    {
     "output_type": "execute_result",
     "data": {
      "text/plain": "                   pub_date  \\\n0 2020-07-01 23:16:05+00:00   \n1 2020-07-02 17:00:22+00:00   \n2 2020-07-01 22:56:01+00:00   \n3 2020-07-01 22:56:21+00:00   \n4 2020-07-01 09:00:20+00:00   \n\n                                       headline.main  biden_present  \\\n0  Afghan Contractor Handed Out Russian Cash to K...              0   \n1         Let the Delegates Help Choose Biden’s V.P.              1   \n2  Tell-All Book on Trump Can Move Forward Pendin...              0   \n3  Slotkin, Former Intelligence Briefer, Presses ...              0   \n4                                    Is Trump Toast?              1   \n\n   trump_present  only_biden_present  only_trump_present  both_present  \\\n0              1                   0                   1             0   \n1              0                   1                   0             0   \n2              1                   0                   1             0   \n3              1                   0                   1             0   \n4              1                   0                   0             1   \n\n      label     score  \n0  NEGATIVE -0.987241  \n1  POSITIVE  0.966687  \n2  POSITIVE  0.944482  \n3  NEGATIVE -0.908681  \n4  POSITIVE  0.954712  ",
      "text/html": "<div>\n<style scoped>\n    .dataframe tbody tr th:only-of-type {\n        vertical-align: middle;\n    }\n\n    .dataframe tbody tr th {\n        vertical-align: top;\n    }\n\n    .dataframe thead th {\n        text-align: right;\n    }\n</style>\n<table border=\"1\" class=\"dataframe\">\n  <thead>\n    <tr style=\"text-align: right;\">\n      <th></th>\n      <th>pub_date</th>\n      <th>headline.main</th>\n      <th>biden_present</th>\n      <th>trump_present</th>\n      <th>only_biden_present</th>\n      <th>only_trump_present</th>\n      <th>both_present</th>\n      <th>label</th>\n      <th>score</th>\n    </tr>\n  </thead>\n  <tbody>\n    <tr>\n      <th>0</th>\n      <td>2020-07-01 23:16:05+00:00</td>\n      <td>Afghan Contractor Handed Out Russian Cash to K...</td>\n      <td>0</td>\n      <td>1</td>\n      <td>0</td>\n      <td>1</td>\n      <td>0</td>\n      <td>NEGATIVE</td>\n      <td>-0.987241</td>\n    </tr>\n    <tr>\n      <th>1</th>\n      <td>2020-07-02 17:00:22+00:00</td>\n      <td>Let the Delegates Help Choose Biden’s V.P.</td>\n      <td>1</td>\n      <td>0</td>\n      <td>1</td>\n      <td>0</td>\n      <td>0</td>\n      <td>POSITIVE</td>\n      <td>0.966687</td>\n    </tr>\n    <tr>\n      <th>2</th>\n      <td>2020-07-01 22:56:01+00:00</td>\n      <td>Tell-All Book on Trump Can Move Forward Pendin...</td>\n      <td>0</td>\n      <td>1</td>\n      <td>0</td>\n      <td>1</td>\n      <td>0</td>\n      <td>POSITIVE</td>\n      <td>0.944482</td>\n    </tr>\n    <tr>\n      <th>3</th>\n      <td>2020-07-01 22:56:21+00:00</td>\n      <td>Slotkin, Former Intelligence Briefer, Presses ...</td>\n      <td>0</td>\n      <td>1</td>\n      <td>0</td>\n      <td>1</td>\n      <td>0</td>\n      <td>NEGATIVE</td>\n      <td>-0.908681</td>\n    </tr>\n    <tr>\n      <th>4</th>\n      <td>2020-07-01 09:00:20+00:00</td>\n      <td>Is Trump Toast?</td>\n      <td>1</td>\n      <td>1</td>\n      <td>0</td>\n      <td>0</td>\n      <td>1</td>\n      <td>POSITIVE</td>\n      <td>0.954712</td>\n    </tr>\n  </tbody>\n</table>\n</div>"
     },
     "metadata": {},
     "execution_count": 17
    }
   ],
   "source": [
    "def add_sign_to_score(row: pd.Series) -> float:\n",
    "    if row['label'] == 'NEGATIVE':\n",
    "        return row['score'] * -1\n",
    "    else:\n",
    "        return row['score']\n",
    "\n",
    "sentiment['score'] = sentiment.apply(lambda row: add_sign_to_score(row=row), axis=1)\n",
    "sentiment.head()"
   ]
  },
  {
   "cell_type": "code",
   "execution_count": 18,
   "metadata": {
    "tags": []
   },
   "outputs": [
    {
     "output_type": "stream",
     "name": "stdout",
     "text": "mean  count\nonly_biden_present                 \n0                  -0.464167    853\n1                   0.158128     62\n                        mean  count\nonly_trump_present                 \n0                  -0.252974    205\n1                  -0.470804    710\n                  mean  count\nboth_present                 \n0            -0.420294    772\n1            -0.431214    143\n"
    }
   ],
   "source": [
    "print(sentiment.groupby('only_biden_present')['score'].agg(['mean', 'count']))\n",
    "print(sentiment.groupby('only_trump_present')['score'].agg(['mean', 'count']))\n",
    "print(sentiment.groupby('both_present')['score'].agg(['mean', 'count']))"
   ]
  },
  {
   "cell_type": "markdown",
   "metadata": {},
   "source": [
    "# Conclusion\n",
    "\n",
    "New York Times writes more articles with Trump as the subject than Biden (710+143 vs. 62+143). In general, when Trump is subject in in the article and not Biden, the article tends to have a negative sentiment (score: -0.47). When only Biden is the subject and not Trump, the sentimentiment is slightly positive (score: 0.15). When both are present as subjects, the tone is generally negative (score = -0.43)."
   ]
  },
  {
   "cell_type": "markdown",
   "metadata": {},
   "source": [
    "# Exploration"
   ]
  },
  {
   "cell_type": "code",
   "execution_count": 19,
   "metadata": {},
   "outputs": [
    {
     "output_type": "execute_result",
     "data": {
      "text/plain": "                    pub_date                               headline.main  \\\n1  2020-07-02 17:00:22+00:00  Let the Delegates Help Choose Biden’s V.P.   \n5  2020-07-03 09:00:24+00:00    Symone Sanders Bet on Biden, and Herself   \n28 2020-07-01 15:41:47+00:00                Your Democratic ‘Dream Team’   \n37 2020-07-02 23:25:03+00:00                      The View From Waukesha   \n60 2020-07-03 09:00:24+00:00    Symone Sanders Bet on Biden, and Herself   \n\n    biden_present  trump_present  only_biden_present  only_trump_present  \\\n1               1              0                   1                   0   \n5               1              0                   1                   0   \n28              1              0                   1                   0   \n37              1              0                   1                   0   \n60              1              0                   1                   0   \n\n    both_present     label     score  \n1              0  POSITIVE  0.966687  \n5              0  POSITIVE  0.821591  \n28             0  POSITIVE  0.998486  \n37             0  POSITIVE  0.999181  \n60             0  POSITIVE  0.821591  ",
      "text/html": "<div>\n<style scoped>\n    .dataframe tbody tr th:only-of-type {\n        vertical-align: middle;\n    }\n\n    .dataframe tbody tr th {\n        vertical-align: top;\n    }\n\n    .dataframe thead th {\n        text-align: right;\n    }\n</style>\n<table border=\"1\" class=\"dataframe\">\n  <thead>\n    <tr style=\"text-align: right;\">\n      <th></th>\n      <th>pub_date</th>\n      <th>headline.main</th>\n      <th>biden_present</th>\n      <th>trump_present</th>\n      <th>only_biden_present</th>\n      <th>only_trump_present</th>\n      <th>both_present</th>\n      <th>label</th>\n      <th>score</th>\n    </tr>\n  </thead>\n  <tbody>\n    <tr>\n      <th>1</th>\n      <td>2020-07-02 17:00:22+00:00</td>\n      <td>Let the Delegates Help Choose Biden’s V.P.</td>\n      <td>1</td>\n      <td>0</td>\n      <td>1</td>\n      <td>0</td>\n      <td>0</td>\n      <td>POSITIVE</td>\n      <td>0.966687</td>\n    </tr>\n    <tr>\n      <th>5</th>\n      <td>2020-07-03 09:00:24+00:00</td>\n      <td>Symone Sanders Bet on Biden, and Herself</td>\n      <td>1</td>\n      <td>0</td>\n      <td>1</td>\n      <td>0</td>\n      <td>0</td>\n      <td>POSITIVE</td>\n      <td>0.821591</td>\n    </tr>\n    <tr>\n      <th>28</th>\n      <td>2020-07-01 15:41:47+00:00</td>\n      <td>Your Democratic ‘Dream Team’</td>\n      <td>1</td>\n      <td>0</td>\n      <td>1</td>\n      <td>0</td>\n      <td>0</td>\n      <td>POSITIVE</td>\n      <td>0.998486</td>\n    </tr>\n    <tr>\n      <th>37</th>\n      <td>2020-07-02 23:25:03+00:00</td>\n      <td>The View From Waukesha</td>\n      <td>1</td>\n      <td>0</td>\n      <td>1</td>\n      <td>0</td>\n      <td>0</td>\n      <td>POSITIVE</td>\n      <td>0.999181</td>\n    </tr>\n    <tr>\n      <th>60</th>\n      <td>2020-07-03 09:00:24+00:00</td>\n      <td>Symone Sanders Bet on Biden, and Herself</td>\n      <td>1</td>\n      <td>0</td>\n      <td>1</td>\n      <td>0</td>\n      <td>0</td>\n      <td>POSITIVE</td>\n      <td>0.821591</td>\n    </tr>\n  </tbody>\n</table>\n</div>"
     },
     "metadata": {},
     "execution_count": 19
    }
   ],
   "source": [
    "sentiment.query(\"only_biden_present == 1\").head()"
   ]
  },
  {
   "cell_type": "code",
   "execution_count": 20,
   "metadata": {},
   "outputs": [
    {
     "output_type": "execute_result",
     "data": {
      "text/plain": "                   pub_date  \\\n0 2020-07-01 23:16:05+00:00   \n2 2020-07-01 22:56:01+00:00   \n3 2020-07-01 22:56:21+00:00   \n7 2020-07-03 23:00:29+00:00   \n8 2020-07-02 23:38:33+00:00   \n\n                                       headline.main  biden_present  \\\n0  Afghan Contractor Handed Out Russian Cash to K...              0   \n2  Tell-All Book on Trump Can Move Forward Pendin...              0   \n3  Slotkin, Former Intelligence Briefer, Presses ...              0   \n7              Reading Orwell for the Fourth of July              0   \n8  Bounties Uproar Casts a Shadow Over a Rare Tru...              0   \n\n   trump_present  only_biden_present  only_trump_present  both_present  \\\n0              1                   0                   1             0   \n2              1                   0                   1             0   \n3              1                   0                   1             0   \n7              1                   0                   1             0   \n8              1                   0                   1             0   \n\n      label     score  \n0  NEGATIVE -0.987241  \n2  POSITIVE  0.944482  \n3  NEGATIVE -0.908681  \n7  POSITIVE  0.946267  \n8  POSITIVE  0.997181  ",
      "text/html": "<div>\n<style scoped>\n    .dataframe tbody tr th:only-of-type {\n        vertical-align: middle;\n    }\n\n    .dataframe tbody tr th {\n        vertical-align: top;\n    }\n\n    .dataframe thead th {\n        text-align: right;\n    }\n</style>\n<table border=\"1\" class=\"dataframe\">\n  <thead>\n    <tr style=\"text-align: right;\">\n      <th></th>\n      <th>pub_date</th>\n      <th>headline.main</th>\n      <th>biden_present</th>\n      <th>trump_present</th>\n      <th>only_biden_present</th>\n      <th>only_trump_present</th>\n      <th>both_present</th>\n      <th>label</th>\n      <th>score</th>\n    </tr>\n  </thead>\n  <tbody>\n    <tr>\n      <th>0</th>\n      <td>2020-07-01 23:16:05+00:00</td>\n      <td>Afghan Contractor Handed Out Russian Cash to K...</td>\n      <td>0</td>\n      <td>1</td>\n      <td>0</td>\n      <td>1</td>\n      <td>0</td>\n      <td>NEGATIVE</td>\n      <td>-0.987241</td>\n    </tr>\n    <tr>\n      <th>2</th>\n      <td>2020-07-01 22:56:01+00:00</td>\n      <td>Tell-All Book on Trump Can Move Forward Pendin...</td>\n      <td>0</td>\n      <td>1</td>\n      <td>0</td>\n      <td>1</td>\n      <td>0</td>\n      <td>POSITIVE</td>\n      <td>0.944482</td>\n    </tr>\n    <tr>\n      <th>3</th>\n      <td>2020-07-01 22:56:21+00:00</td>\n      <td>Slotkin, Former Intelligence Briefer, Presses ...</td>\n      <td>0</td>\n      <td>1</td>\n      <td>0</td>\n      <td>1</td>\n      <td>0</td>\n      <td>NEGATIVE</td>\n      <td>-0.908681</td>\n    </tr>\n    <tr>\n      <th>7</th>\n      <td>2020-07-03 23:00:29+00:00</td>\n      <td>Reading Orwell for the Fourth of July</td>\n      <td>0</td>\n      <td>1</td>\n      <td>0</td>\n      <td>1</td>\n      <td>0</td>\n      <td>POSITIVE</td>\n      <td>0.946267</td>\n    </tr>\n    <tr>\n      <th>8</th>\n      <td>2020-07-02 23:38:33+00:00</td>\n      <td>Bounties Uproar Casts a Shadow Over a Rare Tru...</td>\n      <td>0</td>\n      <td>1</td>\n      <td>0</td>\n      <td>1</td>\n      <td>0</td>\n      <td>POSITIVE</td>\n      <td>0.997181</td>\n    </tr>\n  </tbody>\n</table>\n</div>"
     },
     "metadata": {},
     "execution_count": 20
    }
   ],
   "source": [
    "sentiment.query(\"only_trump_present == 1\").head()\n",
    "# You can see that the sentiment classifier is not perfect. The \"Bounty' story is being classified as \"POSITIVE\". If we had more information about the articles, it might be helpful."
   ]
  },
  {
   "cell_type": "markdown",
   "metadata": {},
   "source": [
    "# Backup\n",
    "\n",
    "## Named Entity Recognition\n",
    "\n",
    "### Conclusion: It looks like the NER provided by NYTimes is better since they have access to the full atricle."
   ]
  },
  {
   "cell_type": "code",
   "execution_count": 21,
   "metadata": {
    "tags": []
   },
   "outputs": [],
   "source": [
    "ner = pipeline(\"ner\")"
   ]
  },
  {
   "cell_type": "code",
   "execution_count": 22,
   "metadata": {},
   "outputs": [
    {
     "output_type": "error",
     "ename": "KeyboardInterrupt",
     "evalue": "",
     "traceback": [
      "\u001b[1;31m---------------------------------------------------------------------------\u001b[0m",
      "\u001b[1;31mKeyboardInterrupt\u001b[0m                         Traceback (most recent call last)",
      "\u001b[1;32m<ipython-input-22-ee3465ffade1>\u001b[0m in \u001b[0;36m<module>\u001b[1;34m\u001b[0m\n\u001b[1;32m----> 1\u001b[1;33m \u001b[0mresults\u001b[0m \u001b[1;33m=\u001b[0m \u001b[0mner\u001b[0m\u001b[1;33m(\u001b[0m\u001b[0mdata\u001b[0m\u001b[1;33m[\u001b[0m\u001b[0mcolumn_for_analysis\u001b[0m\u001b[1;33m]\u001b[0m\u001b[1;33m.\u001b[0m\u001b[0mtolist\u001b[0m\u001b[1;33m(\u001b[0m\u001b[1;33m)\u001b[0m\u001b[1;33m)\u001b[0m\u001b[1;33m\u001b[0m\u001b[1;33m\u001b[0m\u001b[0m\n\u001b[0m",
      "\u001b[1;32m~\\.conda\\envs\\dl_nlp\\lib\\site-packages\\transformers\\pipelines.py\u001b[0m in \u001b[0;36m__call__\u001b[1;34m(self, *args, **kwargs)\u001b[0m\n\u001b[0;32m   1358\u001b[0m                     \u001b[1;32mwith\u001b[0m \u001b[0mtorch\u001b[0m\u001b[1;33m.\u001b[0m\u001b[0mno_grad\u001b[0m\u001b[1;33m(\u001b[0m\u001b[1;33m)\u001b[0m\u001b[1;33m:\u001b[0m\u001b[1;33m\u001b[0m\u001b[1;33m\u001b[0m\u001b[0m\n\u001b[0;32m   1359\u001b[0m                         \u001b[0mtokens\u001b[0m \u001b[1;33m=\u001b[0m \u001b[0mself\u001b[0m\u001b[1;33m.\u001b[0m\u001b[0mensure_tensor_on_device\u001b[0m\u001b[1;33m(\u001b[0m\u001b[1;33m**\u001b[0m\u001b[0mtokens\u001b[0m\u001b[1;33m)\u001b[0m\u001b[1;33m\u001b[0m\u001b[1;33m\u001b[0m\u001b[0m\n\u001b[1;32m-> 1360\u001b[1;33m                         \u001b[0mentities\u001b[0m \u001b[1;33m=\u001b[0m \u001b[0mself\u001b[0m\u001b[1;33m.\u001b[0m\u001b[0mmodel\u001b[0m\u001b[1;33m(\u001b[0m\u001b[1;33m**\u001b[0m\u001b[0mtokens\u001b[0m\u001b[1;33m)\u001b[0m\u001b[1;33m[\u001b[0m\u001b[1;36m0\u001b[0m\u001b[1;33m]\u001b[0m\u001b[1;33m[\u001b[0m\u001b[1;36m0\u001b[0m\u001b[1;33m]\u001b[0m\u001b[1;33m.\u001b[0m\u001b[0mcpu\u001b[0m\u001b[1;33m(\u001b[0m\u001b[1;33m)\u001b[0m\u001b[1;33m.\u001b[0m\u001b[0mnumpy\u001b[0m\u001b[1;33m(\u001b[0m\u001b[1;33m)\u001b[0m\u001b[1;33m\u001b[0m\u001b[1;33m\u001b[0m\u001b[0m\n\u001b[0m\u001b[0;32m   1361\u001b[0m                         \u001b[0minput_ids\u001b[0m \u001b[1;33m=\u001b[0m \u001b[0mtokens\u001b[0m\u001b[1;33m[\u001b[0m\u001b[1;34m\"input_ids\"\u001b[0m\u001b[1;33m]\u001b[0m\u001b[1;33m.\u001b[0m\u001b[0mcpu\u001b[0m\u001b[1;33m(\u001b[0m\u001b[1;33m)\u001b[0m\u001b[1;33m.\u001b[0m\u001b[0mnumpy\u001b[0m\u001b[1;33m(\u001b[0m\u001b[1;33m)\u001b[0m\u001b[1;33m[\u001b[0m\u001b[1;36m0\u001b[0m\u001b[1;33m]\u001b[0m\u001b[1;33m\u001b[0m\u001b[1;33m\u001b[0m\u001b[0m\n\u001b[0;32m   1362\u001b[0m \u001b[1;33m\u001b[0m\u001b[0m\n",
      "\u001b[1;32m~\\.conda\\envs\\dl_nlp\\lib\\site-packages\\torch\\nn\\modules\\module.py\u001b[0m in \u001b[0;36m__call__\u001b[1;34m(self, *input, **kwargs)\u001b[0m\n\u001b[0;32m    487\u001b[0m             \u001b[0mresult\u001b[0m \u001b[1;33m=\u001b[0m \u001b[0mself\u001b[0m\u001b[1;33m.\u001b[0m\u001b[0m_slow_forward\u001b[0m\u001b[1;33m(\u001b[0m\u001b[1;33m*\u001b[0m\u001b[0minput\u001b[0m\u001b[1;33m,\u001b[0m \u001b[1;33m**\u001b[0m\u001b[0mkwargs\u001b[0m\u001b[1;33m)\u001b[0m\u001b[1;33m\u001b[0m\u001b[1;33m\u001b[0m\u001b[0m\n\u001b[0;32m    488\u001b[0m         \u001b[1;32melse\u001b[0m\u001b[1;33m:\u001b[0m\u001b[1;33m\u001b[0m\u001b[1;33m\u001b[0m\u001b[0m\n\u001b[1;32m--> 489\u001b[1;33m             \u001b[0mresult\u001b[0m \u001b[1;33m=\u001b[0m \u001b[0mself\u001b[0m\u001b[1;33m.\u001b[0m\u001b[0mforward\u001b[0m\u001b[1;33m(\u001b[0m\u001b[1;33m*\u001b[0m\u001b[0minput\u001b[0m\u001b[1;33m,\u001b[0m \u001b[1;33m**\u001b[0m\u001b[0mkwargs\u001b[0m\u001b[1;33m)\u001b[0m\u001b[1;33m\u001b[0m\u001b[1;33m\u001b[0m\u001b[0m\n\u001b[0m\u001b[0;32m    490\u001b[0m         \u001b[1;32mfor\u001b[0m \u001b[0mhook\u001b[0m \u001b[1;32min\u001b[0m \u001b[0mself\u001b[0m\u001b[1;33m.\u001b[0m\u001b[0m_forward_hooks\u001b[0m\u001b[1;33m.\u001b[0m\u001b[0mvalues\u001b[0m\u001b[1;33m(\u001b[0m\u001b[1;33m)\u001b[0m\u001b[1;33m:\u001b[0m\u001b[1;33m\u001b[0m\u001b[1;33m\u001b[0m\u001b[0m\n\u001b[0;32m    491\u001b[0m             \u001b[0mhook_result\u001b[0m \u001b[1;33m=\u001b[0m \u001b[0mhook\u001b[0m\u001b[1;33m(\u001b[0m\u001b[0mself\u001b[0m\u001b[1;33m,\u001b[0m \u001b[0minput\u001b[0m\u001b[1;33m,\u001b[0m \u001b[0mresult\u001b[0m\u001b[1;33m)\u001b[0m\u001b[1;33m\u001b[0m\u001b[1;33m\u001b[0m\u001b[0m\n",
      "\u001b[1;32m~\\.conda\\envs\\dl_nlp\\lib\\site-packages\\transformers\\modeling_bert.py\u001b[0m in \u001b[0;36mforward\u001b[1;34m(self, input_ids, attention_mask, token_type_ids, position_ids, head_mask, inputs_embeds, labels, output_attentions, output_hidden_states, return_dict)\u001b[0m\n\u001b[0;32m   1479\u001b[0m             \u001b[0moutput_attentions\u001b[0m\u001b[1;33m=\u001b[0m\u001b[0moutput_attentions\u001b[0m\u001b[1;33m,\u001b[0m\u001b[1;33m\u001b[0m\u001b[1;33m\u001b[0m\u001b[0m\n\u001b[0;32m   1480\u001b[0m             \u001b[0moutput_hidden_states\u001b[0m\u001b[1;33m=\u001b[0m\u001b[0moutput_hidden_states\u001b[0m\u001b[1;33m,\u001b[0m\u001b[1;33m\u001b[0m\u001b[1;33m\u001b[0m\u001b[0m\n\u001b[1;32m-> 1481\u001b[1;33m             \u001b[0mreturn_dict\u001b[0m\u001b[1;33m=\u001b[0m\u001b[0mreturn_dict\u001b[0m\u001b[1;33m,\u001b[0m\u001b[1;33m\u001b[0m\u001b[1;33m\u001b[0m\u001b[0m\n\u001b[0m\u001b[0;32m   1482\u001b[0m         )\n\u001b[0;32m   1483\u001b[0m \u001b[1;33m\u001b[0m\u001b[0m\n",
      "\u001b[1;32m~\\.conda\\envs\\dl_nlp\\lib\\site-packages\\torch\\nn\\modules\\module.py\u001b[0m in \u001b[0;36m__call__\u001b[1;34m(self, *input, **kwargs)\u001b[0m\n\u001b[0;32m    487\u001b[0m             \u001b[0mresult\u001b[0m \u001b[1;33m=\u001b[0m \u001b[0mself\u001b[0m\u001b[1;33m.\u001b[0m\u001b[0m_slow_forward\u001b[0m\u001b[1;33m(\u001b[0m\u001b[1;33m*\u001b[0m\u001b[0minput\u001b[0m\u001b[1;33m,\u001b[0m \u001b[1;33m**\u001b[0m\u001b[0mkwargs\u001b[0m\u001b[1;33m)\u001b[0m\u001b[1;33m\u001b[0m\u001b[1;33m\u001b[0m\u001b[0m\n\u001b[0;32m    488\u001b[0m         \u001b[1;32melse\u001b[0m\u001b[1;33m:\u001b[0m\u001b[1;33m\u001b[0m\u001b[1;33m\u001b[0m\u001b[0m\n\u001b[1;32m--> 489\u001b[1;33m             \u001b[0mresult\u001b[0m \u001b[1;33m=\u001b[0m \u001b[0mself\u001b[0m\u001b[1;33m.\u001b[0m\u001b[0mforward\u001b[0m\u001b[1;33m(\u001b[0m\u001b[1;33m*\u001b[0m\u001b[0minput\u001b[0m\u001b[1;33m,\u001b[0m \u001b[1;33m**\u001b[0m\u001b[0mkwargs\u001b[0m\u001b[1;33m)\u001b[0m\u001b[1;33m\u001b[0m\u001b[1;33m\u001b[0m\u001b[0m\n\u001b[0m\u001b[0;32m    490\u001b[0m         \u001b[1;32mfor\u001b[0m \u001b[0mhook\u001b[0m \u001b[1;32min\u001b[0m \u001b[0mself\u001b[0m\u001b[1;33m.\u001b[0m\u001b[0m_forward_hooks\u001b[0m\u001b[1;33m.\u001b[0m\u001b[0mvalues\u001b[0m\u001b[1;33m(\u001b[0m\u001b[1;33m)\u001b[0m\u001b[1;33m:\u001b[0m\u001b[1;33m\u001b[0m\u001b[1;33m\u001b[0m\u001b[0m\n\u001b[0;32m    491\u001b[0m             \u001b[0mhook_result\u001b[0m \u001b[1;33m=\u001b[0m \u001b[0mhook\u001b[0m\u001b[1;33m(\u001b[0m\u001b[0mself\u001b[0m\u001b[1;33m,\u001b[0m \u001b[0minput\u001b[0m\u001b[1;33m,\u001b[0m \u001b[0mresult\u001b[0m\u001b[1;33m)\u001b[0m\u001b[1;33m\u001b[0m\u001b[1;33m\u001b[0m\u001b[0m\n",
      "\u001b[1;32m~\\.conda\\envs\\dl_nlp\\lib\\site-packages\\transformers\\modeling_bert.py\u001b[0m in \u001b[0;36mforward\u001b[1;34m(self, input_ids, attention_mask, token_type_ids, position_ids, head_mask, inputs_embeds, encoder_hidden_states, encoder_attention_mask, output_attentions, output_hidden_states, return_dict)\u001b[0m\n\u001b[0;32m    827\u001b[0m             \u001b[0moutput_attentions\u001b[0m\u001b[1;33m=\u001b[0m\u001b[0moutput_attentions\u001b[0m\u001b[1;33m,\u001b[0m\u001b[1;33m\u001b[0m\u001b[1;33m\u001b[0m\u001b[0m\n\u001b[0;32m    828\u001b[0m             \u001b[0moutput_hidden_states\u001b[0m\u001b[1;33m=\u001b[0m\u001b[0moutput_hidden_states\u001b[0m\u001b[1;33m,\u001b[0m\u001b[1;33m\u001b[0m\u001b[1;33m\u001b[0m\u001b[0m\n\u001b[1;32m--> 829\u001b[1;33m             \u001b[0mreturn_dict\u001b[0m\u001b[1;33m=\u001b[0m\u001b[0mreturn_dict\u001b[0m\u001b[1;33m,\u001b[0m\u001b[1;33m\u001b[0m\u001b[1;33m\u001b[0m\u001b[0m\n\u001b[0m\u001b[0;32m    830\u001b[0m         )\n\u001b[0;32m    831\u001b[0m         \u001b[0msequence_output\u001b[0m \u001b[1;33m=\u001b[0m \u001b[0mencoder_outputs\u001b[0m\u001b[1;33m[\u001b[0m\u001b[1;36m0\u001b[0m\u001b[1;33m]\u001b[0m\u001b[1;33m\u001b[0m\u001b[1;33m\u001b[0m\u001b[0m\n",
      "\u001b[1;32m~\\.conda\\envs\\dl_nlp\\lib\\site-packages\\torch\\nn\\modules\\module.py\u001b[0m in \u001b[0;36m__call__\u001b[1;34m(self, *input, **kwargs)\u001b[0m\n\u001b[0;32m    487\u001b[0m             \u001b[0mresult\u001b[0m \u001b[1;33m=\u001b[0m \u001b[0mself\u001b[0m\u001b[1;33m.\u001b[0m\u001b[0m_slow_forward\u001b[0m\u001b[1;33m(\u001b[0m\u001b[1;33m*\u001b[0m\u001b[0minput\u001b[0m\u001b[1;33m,\u001b[0m \u001b[1;33m**\u001b[0m\u001b[0mkwargs\u001b[0m\u001b[1;33m)\u001b[0m\u001b[1;33m\u001b[0m\u001b[1;33m\u001b[0m\u001b[0m\n\u001b[0;32m    488\u001b[0m         \u001b[1;32melse\u001b[0m\u001b[1;33m:\u001b[0m\u001b[1;33m\u001b[0m\u001b[1;33m\u001b[0m\u001b[0m\n\u001b[1;32m--> 489\u001b[1;33m             \u001b[0mresult\u001b[0m \u001b[1;33m=\u001b[0m \u001b[0mself\u001b[0m\u001b[1;33m.\u001b[0m\u001b[0mforward\u001b[0m\u001b[1;33m(\u001b[0m\u001b[1;33m*\u001b[0m\u001b[0minput\u001b[0m\u001b[1;33m,\u001b[0m \u001b[1;33m**\u001b[0m\u001b[0mkwargs\u001b[0m\u001b[1;33m)\u001b[0m\u001b[1;33m\u001b[0m\u001b[1;33m\u001b[0m\u001b[0m\n\u001b[0m\u001b[0;32m    490\u001b[0m         \u001b[1;32mfor\u001b[0m \u001b[0mhook\u001b[0m \u001b[1;32min\u001b[0m \u001b[0mself\u001b[0m\u001b[1;33m.\u001b[0m\u001b[0m_forward_hooks\u001b[0m\u001b[1;33m.\u001b[0m\u001b[0mvalues\u001b[0m\u001b[1;33m(\u001b[0m\u001b[1;33m)\u001b[0m\u001b[1;33m:\u001b[0m\u001b[1;33m\u001b[0m\u001b[1;33m\u001b[0m\u001b[0m\n\u001b[0;32m    491\u001b[0m             \u001b[0mhook_result\u001b[0m \u001b[1;33m=\u001b[0m \u001b[0mhook\u001b[0m\u001b[1;33m(\u001b[0m\u001b[0mself\u001b[0m\u001b[1;33m,\u001b[0m \u001b[0minput\u001b[0m\u001b[1;33m,\u001b[0m \u001b[0mresult\u001b[0m\u001b[1;33m)\u001b[0m\u001b[1;33m\u001b[0m\u001b[1;33m\u001b[0m\u001b[0m\n",
      "\u001b[1;32m~\\.conda\\envs\\dl_nlp\\lib\\site-packages\\transformers\\modeling_bert.py\u001b[0m in \u001b[0;36mforward\u001b[1;34m(self, hidden_states, attention_mask, head_mask, encoder_hidden_states, encoder_attention_mask, output_attentions, output_hidden_states, return_dict)\u001b[0m\n\u001b[0;32m    482\u001b[0m                     \u001b[0mencoder_hidden_states\u001b[0m\u001b[1;33m,\u001b[0m\u001b[1;33m\u001b[0m\u001b[1;33m\u001b[0m\u001b[0m\n\u001b[0;32m    483\u001b[0m                     \u001b[0mencoder_attention_mask\u001b[0m\u001b[1;33m,\u001b[0m\u001b[1;33m\u001b[0m\u001b[1;33m\u001b[0m\u001b[0m\n\u001b[1;32m--> 484\u001b[1;33m                     \u001b[0moutput_attentions\u001b[0m\u001b[1;33m,\u001b[0m\u001b[1;33m\u001b[0m\u001b[1;33m\u001b[0m\u001b[0m\n\u001b[0m\u001b[0;32m    485\u001b[0m                 )\n\u001b[0;32m    486\u001b[0m             \u001b[0mhidden_states\u001b[0m \u001b[1;33m=\u001b[0m \u001b[0mlayer_outputs\u001b[0m\u001b[1;33m[\u001b[0m\u001b[1;36m0\u001b[0m\u001b[1;33m]\u001b[0m\u001b[1;33m\u001b[0m\u001b[1;33m\u001b[0m\u001b[0m\n",
      "\u001b[1;32m~\\.conda\\envs\\dl_nlp\\lib\\site-packages\\torch\\nn\\modules\\module.py\u001b[0m in \u001b[0;36m__call__\u001b[1;34m(self, *input, **kwargs)\u001b[0m\n\u001b[0;32m    487\u001b[0m             \u001b[0mresult\u001b[0m \u001b[1;33m=\u001b[0m \u001b[0mself\u001b[0m\u001b[1;33m.\u001b[0m\u001b[0m_slow_forward\u001b[0m\u001b[1;33m(\u001b[0m\u001b[1;33m*\u001b[0m\u001b[0minput\u001b[0m\u001b[1;33m,\u001b[0m \u001b[1;33m**\u001b[0m\u001b[0mkwargs\u001b[0m\u001b[1;33m)\u001b[0m\u001b[1;33m\u001b[0m\u001b[1;33m\u001b[0m\u001b[0m\n\u001b[0;32m    488\u001b[0m         \u001b[1;32melse\u001b[0m\u001b[1;33m:\u001b[0m\u001b[1;33m\u001b[0m\u001b[1;33m\u001b[0m\u001b[0m\n\u001b[1;32m--> 489\u001b[1;33m             \u001b[0mresult\u001b[0m \u001b[1;33m=\u001b[0m \u001b[0mself\u001b[0m\u001b[1;33m.\u001b[0m\u001b[0mforward\u001b[0m\u001b[1;33m(\u001b[0m\u001b[1;33m*\u001b[0m\u001b[0minput\u001b[0m\u001b[1;33m,\u001b[0m \u001b[1;33m**\u001b[0m\u001b[0mkwargs\u001b[0m\u001b[1;33m)\u001b[0m\u001b[1;33m\u001b[0m\u001b[1;33m\u001b[0m\u001b[0m\n\u001b[0m\u001b[0;32m    490\u001b[0m         \u001b[1;32mfor\u001b[0m \u001b[0mhook\u001b[0m \u001b[1;32min\u001b[0m \u001b[0mself\u001b[0m\u001b[1;33m.\u001b[0m\u001b[0m_forward_hooks\u001b[0m\u001b[1;33m.\u001b[0m\u001b[0mvalues\u001b[0m\u001b[1;33m(\u001b[0m\u001b[1;33m)\u001b[0m\u001b[1;33m:\u001b[0m\u001b[1;33m\u001b[0m\u001b[1;33m\u001b[0m\u001b[0m\n\u001b[0;32m    491\u001b[0m             \u001b[0mhook_result\u001b[0m \u001b[1;33m=\u001b[0m \u001b[0mhook\u001b[0m\u001b[1;33m(\u001b[0m\u001b[0mself\u001b[0m\u001b[1;33m,\u001b[0m \u001b[0minput\u001b[0m\u001b[1;33m,\u001b[0m \u001b[0mresult\u001b[0m\u001b[1;33m)\u001b[0m\u001b[1;33m\u001b[0m\u001b[1;33m\u001b[0m\u001b[0m\n",
      "\u001b[1;32m~\\.conda\\envs\\dl_nlp\\lib\\site-packages\\transformers\\modeling_bert.py\u001b[0m in \u001b[0;36mforward\u001b[1;34m(self, hidden_states, attention_mask, head_mask, encoder_hidden_states, encoder_attention_mask, output_attentions)\u001b[0m\n\u001b[0;32m    425\u001b[0m \u001b[1;33m\u001b[0m\u001b[0m\n\u001b[0;32m    426\u001b[0m         layer_output = apply_chunking_to_forward(\n\u001b[1;32m--> 427\u001b[1;33m             \u001b[0mself\u001b[0m\u001b[1;33m.\u001b[0m\u001b[0mfeed_forward_chunk\u001b[0m\u001b[1;33m,\u001b[0m \u001b[0mself\u001b[0m\u001b[1;33m.\u001b[0m\u001b[0mchunk_size_feed_forward\u001b[0m\u001b[1;33m,\u001b[0m \u001b[0mself\u001b[0m\u001b[1;33m.\u001b[0m\u001b[0mseq_len_dim\u001b[0m\u001b[1;33m,\u001b[0m \u001b[0mattention_output\u001b[0m\u001b[1;33m\u001b[0m\u001b[1;33m\u001b[0m\u001b[0m\n\u001b[0m\u001b[0;32m    428\u001b[0m         )\n\u001b[0;32m    429\u001b[0m         \u001b[0moutputs\u001b[0m \u001b[1;33m=\u001b[0m \u001b[1;33m(\u001b[0m\u001b[0mlayer_output\u001b[0m\u001b[1;33m,\u001b[0m\u001b[1;33m)\u001b[0m \u001b[1;33m+\u001b[0m \u001b[0moutputs\u001b[0m\u001b[1;33m\u001b[0m\u001b[1;33m\u001b[0m\u001b[0m\n",
      "\u001b[1;32m~\\.conda\\envs\\dl_nlp\\lib\\site-packages\\transformers\\modeling_utils.py\u001b[0m in \u001b[0;36mapply_chunking_to_forward\u001b[1;34m(forward_fn, chunk_size, chunk_dim, *input_tensors)\u001b[0m\n\u001b[0;32m   1584\u001b[0m         \u001b[1;32mreturn\u001b[0m \u001b[0mtorch\u001b[0m\u001b[1;33m.\u001b[0m\u001b[0mcat\u001b[0m\u001b[1;33m(\u001b[0m\u001b[0moutput_chunks\u001b[0m\u001b[1;33m,\u001b[0m \u001b[0mdim\u001b[0m\u001b[1;33m=\u001b[0m\u001b[0mchunk_dim\u001b[0m\u001b[1;33m)\u001b[0m\u001b[1;33m\u001b[0m\u001b[1;33m\u001b[0m\u001b[0m\n\u001b[0;32m   1585\u001b[0m \u001b[1;33m\u001b[0m\u001b[0m\n\u001b[1;32m-> 1586\u001b[1;33m     \u001b[1;32mreturn\u001b[0m \u001b[0mforward_fn\u001b[0m\u001b[1;33m(\u001b[0m\u001b[1;33m*\u001b[0m\u001b[0minput_tensors\u001b[0m\u001b[1;33m)\u001b[0m\u001b[1;33m\u001b[0m\u001b[1;33m\u001b[0m\u001b[0m\n\u001b[0m",
      "\u001b[1;32m~\\.conda\\envs\\dl_nlp\\lib\\site-packages\\transformers\\modeling_bert.py\u001b[0m in \u001b[0;36mfeed_forward_chunk\u001b[1;34m(self, attention_output)\u001b[0m\n\u001b[0;32m    431\u001b[0m \u001b[1;33m\u001b[0m\u001b[0m\n\u001b[0;32m    432\u001b[0m     \u001b[1;32mdef\u001b[0m \u001b[0mfeed_forward_chunk\u001b[0m\u001b[1;33m(\u001b[0m\u001b[0mself\u001b[0m\u001b[1;33m,\u001b[0m \u001b[0mattention_output\u001b[0m\u001b[1;33m)\u001b[0m\u001b[1;33m:\u001b[0m\u001b[1;33m\u001b[0m\u001b[1;33m\u001b[0m\u001b[0m\n\u001b[1;32m--> 433\u001b[1;33m         \u001b[0mintermediate_output\u001b[0m \u001b[1;33m=\u001b[0m \u001b[0mself\u001b[0m\u001b[1;33m.\u001b[0m\u001b[0mintermediate\u001b[0m\u001b[1;33m(\u001b[0m\u001b[0mattention_output\u001b[0m\u001b[1;33m)\u001b[0m\u001b[1;33m\u001b[0m\u001b[1;33m\u001b[0m\u001b[0m\n\u001b[0m\u001b[0;32m    434\u001b[0m         \u001b[0mlayer_output\u001b[0m \u001b[1;33m=\u001b[0m \u001b[0mself\u001b[0m\u001b[1;33m.\u001b[0m\u001b[0moutput\u001b[0m\u001b[1;33m(\u001b[0m\u001b[0mintermediate_output\u001b[0m\u001b[1;33m,\u001b[0m \u001b[0mattention_output\u001b[0m\u001b[1;33m)\u001b[0m\u001b[1;33m\u001b[0m\u001b[1;33m\u001b[0m\u001b[0m\n\u001b[0;32m    435\u001b[0m         \u001b[1;32mreturn\u001b[0m \u001b[0mlayer_output\u001b[0m\u001b[1;33m\u001b[0m\u001b[1;33m\u001b[0m\u001b[0m\n",
      "\u001b[1;32m~\\.conda\\envs\\dl_nlp\\lib\\site-packages\\torch\\nn\\modules\\module.py\u001b[0m in \u001b[0;36m__call__\u001b[1;34m(self, *input, **kwargs)\u001b[0m\n\u001b[0;32m    487\u001b[0m             \u001b[0mresult\u001b[0m \u001b[1;33m=\u001b[0m \u001b[0mself\u001b[0m\u001b[1;33m.\u001b[0m\u001b[0m_slow_forward\u001b[0m\u001b[1;33m(\u001b[0m\u001b[1;33m*\u001b[0m\u001b[0minput\u001b[0m\u001b[1;33m,\u001b[0m \u001b[1;33m**\u001b[0m\u001b[0mkwargs\u001b[0m\u001b[1;33m)\u001b[0m\u001b[1;33m\u001b[0m\u001b[1;33m\u001b[0m\u001b[0m\n\u001b[0;32m    488\u001b[0m         \u001b[1;32melse\u001b[0m\u001b[1;33m:\u001b[0m\u001b[1;33m\u001b[0m\u001b[1;33m\u001b[0m\u001b[0m\n\u001b[1;32m--> 489\u001b[1;33m             \u001b[0mresult\u001b[0m \u001b[1;33m=\u001b[0m \u001b[0mself\u001b[0m\u001b[1;33m.\u001b[0m\u001b[0mforward\u001b[0m\u001b[1;33m(\u001b[0m\u001b[1;33m*\u001b[0m\u001b[0minput\u001b[0m\u001b[1;33m,\u001b[0m \u001b[1;33m**\u001b[0m\u001b[0mkwargs\u001b[0m\u001b[1;33m)\u001b[0m\u001b[1;33m\u001b[0m\u001b[1;33m\u001b[0m\u001b[0m\n\u001b[0m\u001b[0;32m    490\u001b[0m         \u001b[1;32mfor\u001b[0m \u001b[0mhook\u001b[0m \u001b[1;32min\u001b[0m \u001b[0mself\u001b[0m\u001b[1;33m.\u001b[0m\u001b[0m_forward_hooks\u001b[0m\u001b[1;33m.\u001b[0m\u001b[0mvalues\u001b[0m\u001b[1;33m(\u001b[0m\u001b[1;33m)\u001b[0m\u001b[1;33m:\u001b[0m\u001b[1;33m\u001b[0m\u001b[1;33m\u001b[0m\u001b[0m\n\u001b[0;32m    491\u001b[0m             \u001b[0mhook_result\u001b[0m \u001b[1;33m=\u001b[0m \u001b[0mhook\u001b[0m\u001b[1;33m(\u001b[0m\u001b[0mself\u001b[0m\u001b[1;33m,\u001b[0m \u001b[0minput\u001b[0m\u001b[1;33m,\u001b[0m \u001b[0mresult\u001b[0m\u001b[1;33m)\u001b[0m\u001b[1;33m\u001b[0m\u001b[1;33m\u001b[0m\u001b[0m\n",
      "\u001b[1;32m~\\.conda\\envs\\dl_nlp\\lib\\site-packages\\transformers\\modeling_bert.py\u001b[0m in \u001b[0;36mforward\u001b[1;34m(self, hidden_states)\u001b[0m\n\u001b[0;32m    361\u001b[0m \u001b[1;33m\u001b[0m\u001b[0m\n\u001b[0;32m    362\u001b[0m     \u001b[1;32mdef\u001b[0m \u001b[0mforward\u001b[0m\u001b[1;33m(\u001b[0m\u001b[0mself\u001b[0m\u001b[1;33m,\u001b[0m \u001b[0mhidden_states\u001b[0m\u001b[1;33m)\u001b[0m\u001b[1;33m:\u001b[0m\u001b[1;33m\u001b[0m\u001b[1;33m\u001b[0m\u001b[0m\n\u001b[1;32m--> 363\u001b[1;33m         \u001b[0mhidden_states\u001b[0m \u001b[1;33m=\u001b[0m \u001b[0mself\u001b[0m\u001b[1;33m.\u001b[0m\u001b[0mdense\u001b[0m\u001b[1;33m(\u001b[0m\u001b[0mhidden_states\u001b[0m\u001b[1;33m)\u001b[0m\u001b[1;33m\u001b[0m\u001b[1;33m\u001b[0m\u001b[0m\n\u001b[0m\u001b[0;32m    364\u001b[0m         \u001b[0mhidden_states\u001b[0m \u001b[1;33m=\u001b[0m \u001b[0mself\u001b[0m\u001b[1;33m.\u001b[0m\u001b[0mintermediate_act_fn\u001b[0m\u001b[1;33m(\u001b[0m\u001b[0mhidden_states\u001b[0m\u001b[1;33m)\u001b[0m\u001b[1;33m\u001b[0m\u001b[1;33m\u001b[0m\u001b[0m\n\u001b[0;32m    365\u001b[0m         \u001b[1;32mreturn\u001b[0m \u001b[0mhidden_states\u001b[0m\u001b[1;33m\u001b[0m\u001b[1;33m\u001b[0m\u001b[0m\n",
      "\u001b[1;32m~\\.conda\\envs\\dl_nlp\\lib\\site-packages\\torch\\nn\\modules\\module.py\u001b[0m in \u001b[0;36m__call__\u001b[1;34m(self, *input, **kwargs)\u001b[0m\n\u001b[0;32m    487\u001b[0m             \u001b[0mresult\u001b[0m \u001b[1;33m=\u001b[0m \u001b[0mself\u001b[0m\u001b[1;33m.\u001b[0m\u001b[0m_slow_forward\u001b[0m\u001b[1;33m(\u001b[0m\u001b[1;33m*\u001b[0m\u001b[0minput\u001b[0m\u001b[1;33m,\u001b[0m \u001b[1;33m**\u001b[0m\u001b[0mkwargs\u001b[0m\u001b[1;33m)\u001b[0m\u001b[1;33m\u001b[0m\u001b[1;33m\u001b[0m\u001b[0m\n\u001b[0;32m    488\u001b[0m         \u001b[1;32melse\u001b[0m\u001b[1;33m:\u001b[0m\u001b[1;33m\u001b[0m\u001b[1;33m\u001b[0m\u001b[0m\n\u001b[1;32m--> 489\u001b[1;33m             \u001b[0mresult\u001b[0m \u001b[1;33m=\u001b[0m \u001b[0mself\u001b[0m\u001b[1;33m.\u001b[0m\u001b[0mforward\u001b[0m\u001b[1;33m(\u001b[0m\u001b[1;33m*\u001b[0m\u001b[0minput\u001b[0m\u001b[1;33m,\u001b[0m \u001b[1;33m**\u001b[0m\u001b[0mkwargs\u001b[0m\u001b[1;33m)\u001b[0m\u001b[1;33m\u001b[0m\u001b[1;33m\u001b[0m\u001b[0m\n\u001b[0m\u001b[0;32m    490\u001b[0m         \u001b[1;32mfor\u001b[0m \u001b[0mhook\u001b[0m \u001b[1;32min\u001b[0m \u001b[0mself\u001b[0m\u001b[1;33m.\u001b[0m\u001b[0m_forward_hooks\u001b[0m\u001b[1;33m.\u001b[0m\u001b[0mvalues\u001b[0m\u001b[1;33m(\u001b[0m\u001b[1;33m)\u001b[0m\u001b[1;33m:\u001b[0m\u001b[1;33m\u001b[0m\u001b[1;33m\u001b[0m\u001b[0m\n\u001b[0;32m    491\u001b[0m             \u001b[0mhook_result\u001b[0m \u001b[1;33m=\u001b[0m \u001b[0mhook\u001b[0m\u001b[1;33m(\u001b[0m\u001b[0mself\u001b[0m\u001b[1;33m,\u001b[0m \u001b[0minput\u001b[0m\u001b[1;33m,\u001b[0m \u001b[0mresult\u001b[0m\u001b[1;33m)\u001b[0m\u001b[1;33m\u001b[0m\u001b[1;33m\u001b[0m\u001b[0m\n",
      "\u001b[1;32m~\\.conda\\envs\\dl_nlp\\lib\\site-packages\\torch\\nn\\modules\\linear.py\u001b[0m in \u001b[0;36mforward\u001b[1;34m(self, input)\u001b[0m\n\u001b[0;32m     65\u001b[0m     \u001b[1;33m@\u001b[0m\u001b[0mweak_script_method\u001b[0m\u001b[1;33m\u001b[0m\u001b[1;33m\u001b[0m\u001b[0m\n\u001b[0;32m     66\u001b[0m     \u001b[1;32mdef\u001b[0m \u001b[0mforward\u001b[0m\u001b[1;33m(\u001b[0m\u001b[0mself\u001b[0m\u001b[1;33m,\u001b[0m \u001b[0minput\u001b[0m\u001b[1;33m)\u001b[0m\u001b[1;33m:\u001b[0m\u001b[1;33m\u001b[0m\u001b[1;33m\u001b[0m\u001b[0m\n\u001b[1;32m---> 67\u001b[1;33m         \u001b[1;32mreturn\u001b[0m \u001b[0mF\u001b[0m\u001b[1;33m.\u001b[0m\u001b[0mlinear\u001b[0m\u001b[1;33m(\u001b[0m\u001b[0minput\u001b[0m\u001b[1;33m,\u001b[0m \u001b[0mself\u001b[0m\u001b[1;33m.\u001b[0m\u001b[0mweight\u001b[0m\u001b[1;33m,\u001b[0m \u001b[0mself\u001b[0m\u001b[1;33m.\u001b[0m\u001b[0mbias\u001b[0m\u001b[1;33m)\u001b[0m\u001b[1;33m\u001b[0m\u001b[1;33m\u001b[0m\u001b[0m\n\u001b[0m\u001b[0;32m     68\u001b[0m \u001b[1;33m\u001b[0m\u001b[0m\n\u001b[0;32m     69\u001b[0m     \u001b[1;32mdef\u001b[0m \u001b[0mextra_repr\u001b[0m\u001b[1;33m(\u001b[0m\u001b[0mself\u001b[0m\u001b[1;33m)\u001b[0m\u001b[1;33m:\u001b[0m\u001b[1;33m\u001b[0m\u001b[1;33m\u001b[0m\u001b[0m\n",
      "\u001b[1;32m~\\.conda\\envs\\dl_nlp\\lib\\site-packages\\torch\\nn\\functional.py\u001b[0m in \u001b[0;36mlinear\u001b[1;34m(input, weight, bias)\u001b[0m\n\u001b[0;32m   1352\u001b[0m         \u001b[0mret\u001b[0m \u001b[1;33m=\u001b[0m \u001b[0mtorch\u001b[0m\u001b[1;33m.\u001b[0m\u001b[0maddmm\u001b[0m\u001b[1;33m(\u001b[0m\u001b[0mtorch\u001b[0m\u001b[1;33m.\u001b[0m\u001b[0mjit\u001b[0m\u001b[1;33m.\u001b[0m\u001b[0m_unwrap_optional\u001b[0m\u001b[1;33m(\u001b[0m\u001b[0mbias\u001b[0m\u001b[1;33m)\u001b[0m\u001b[1;33m,\u001b[0m \u001b[0minput\u001b[0m\u001b[1;33m,\u001b[0m \u001b[0mweight\u001b[0m\u001b[1;33m.\u001b[0m\u001b[0mt\u001b[0m\u001b[1;33m(\u001b[0m\u001b[1;33m)\u001b[0m\u001b[1;33m)\u001b[0m\u001b[1;33m\u001b[0m\u001b[1;33m\u001b[0m\u001b[0m\n\u001b[0;32m   1353\u001b[0m     \u001b[1;32melse\u001b[0m\u001b[1;33m:\u001b[0m\u001b[1;33m\u001b[0m\u001b[1;33m\u001b[0m\u001b[0m\n\u001b[1;32m-> 1354\u001b[1;33m         \u001b[0moutput\u001b[0m \u001b[1;33m=\u001b[0m \u001b[0minput\u001b[0m\u001b[1;33m.\u001b[0m\u001b[0mmatmul\u001b[0m\u001b[1;33m(\u001b[0m\u001b[0mweight\u001b[0m\u001b[1;33m.\u001b[0m\u001b[0mt\u001b[0m\u001b[1;33m(\u001b[0m\u001b[1;33m)\u001b[0m\u001b[1;33m)\u001b[0m\u001b[1;33m\u001b[0m\u001b[1;33m\u001b[0m\u001b[0m\n\u001b[0m\u001b[0;32m   1355\u001b[0m         \u001b[1;32mif\u001b[0m \u001b[0mbias\u001b[0m \u001b[1;32mis\u001b[0m \u001b[1;32mnot\u001b[0m \u001b[1;32mNone\u001b[0m\u001b[1;33m:\u001b[0m\u001b[1;33m\u001b[0m\u001b[1;33m\u001b[0m\u001b[0m\n\u001b[0;32m   1356\u001b[0m             \u001b[0moutput\u001b[0m \u001b[1;33m+=\u001b[0m \u001b[0mtorch\u001b[0m\u001b[1;33m.\u001b[0m\u001b[0mjit\u001b[0m\u001b[1;33m.\u001b[0m\u001b[0m_unwrap_optional\u001b[0m\u001b[1;33m(\u001b[0m\u001b[0mbias\u001b[0m\u001b[1;33m)\u001b[0m\u001b[1;33m\u001b[0m\u001b[1;33m\u001b[0m\u001b[0m\n",
      "\u001b[1;31mKeyboardInterrupt\u001b[0m: "
     ]
    }
   ],
   "source": [
    "results = ner(data[column_for_analysis].tolist())"
   ]
  },
  {
   "cell_type": "code",
   "execution_count": 22,
   "metadata": {
    "tags": []
   },
   "outputs": [
    {
     "output_type": "stream",
     "name": "stdout",
     "text": "Bounties Uproar Casts a Shadow Over a Rare Trump Foreign Policy Achievement\n    word     score  entity  index\n0  Trump  0.727731  I-MISC     14\n             name                       value  rank major\n0         persons              Orwell, George     1     N\n1         persons             Trump, Donald J     2     N\n2         persons                  Xi Jinping     3     N\n3         persons           Putin, Vladimir V     4     N\n4   organizations                Facebook Inc     5     N\n5         subject                Social Media     6     N\n6         subject        Freedom of the Press     7     N\n7      glocations                       China     8     N\n8      glocations                   Hong Kong     9     N\n9      glocations                      Poland    10     N\n10     glocations                      Russia    11     N\n11     glocations               United States    12     N\n12     glocations  USSR (Former Soviet Union)    13     N\npub_date                                      2020-07-02 23:38:33+00:00\nheadline.main         Bounties Uproar Casts a Shadow Over a Rare Tru...\nbiden_present                                                         0\ntrump_present                                                         1\nonly_biden_present                                                    0\nonly_trump_present                                                    1\nboth_present                                                          0\nlabel                                                          POSITIVE\nscore                                                          0.997181\nName: 8, dtype: object\n"
    }
   ],
   "source": [
    "print(data.iloc[8][column_for_analysis])\n",
    "print(pd.json_normalize(results[8]))\n",
    "print(pd.json_normalize(data.iloc[7]['keywords']))\n",
    "print(sentiment.iloc[8])"
   ]
  }
 ]
}