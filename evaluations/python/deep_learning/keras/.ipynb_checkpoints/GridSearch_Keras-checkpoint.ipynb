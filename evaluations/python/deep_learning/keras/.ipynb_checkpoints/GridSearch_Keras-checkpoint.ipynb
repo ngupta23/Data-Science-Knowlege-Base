{
 "cells": [
  {
   "cell_type": "markdown",
   "metadata": {},
   "source": [
    "https://towardsdatascience.com/hyperparameters-optimization-526348bb8e2d"
   ]
  },
  {
   "cell_type": "code",
   "execution_count": 7,
   "metadata": {},
   "outputs": [],
   "source": [
    "from keras.models import Sequential\n",
    "from keras.layers import Dense, Dropout\n",
    "from keras.wrappers.scikit_learn import KerasClassifier\n",
    "from sklearn.model_selection import GridSearchCV"
   ]
  },
  {
   "cell_type": "code",
   "execution_count": 5,
   "metadata": {},
   "outputs": [],
   "source": [
    "from sklearn import datasets\n",
    "iris = datasets.load_iris()\n",
    "X = iris.data\n",
    "y = iris.target"
   ]
  },
  {
   "cell_type": "code",
   "execution_count": 2,
   "metadata": {},
   "outputs": [],
   "source": [
    "def DL_Model(activation= 'linear', neurons= 5, optimizer='Adam'):\n",
    "    model = Sequential()\n",
    "    model.add(Dense(neurons, input_dim= 4, activation= activation))\n",
    "    model.add(Dense(neurons, activation= activation))\n",
    "    model.add(Dropout(0.3))\n",
    "    model.add(Dense(1, activation='sigmoid'))\n",
    "    model.compile(loss='binary_crossentropy', optimizer= optimizer, metrics=['accuracy'])\n",
    "    return model"
   ]
  },
  {
   "cell_type": "code",
   "execution_count": 16,
   "metadata": {},
   "outputs": [],
   "source": [
    "# Defining grid parameters\n",
    "activation = ['relu', 'sigmoid']\n",
    "neurons = [5, 10]\n",
    "optimizer = ['SGD', 'Adam']\n",
    "param_grid = dict(activation = activation, neurons = neurons, optimizer = optimizer)\n",
    "\n",
    "clf = KerasClassifier(build_fn= DL_Model, epochs= 5, batch_size=32, verbose= 0)"
   ]
  },
  {
   "cell_type": "code",
   "execution_count": 17,
   "metadata": {},
   "outputs": [
    {
     "data": {
      "text/plain": [
       "GridSearchCV(cv='warn', error_score='raise-deprecating',\n",
       "             estimator=<keras.wrappers.scikit_learn.KerasClassifier object at 0x000001D3EA19D978>,\n",
       "             iid='warn', n_jobs=1,\n",
       "             param_grid={'activation': ['relu', 'sigmoid'], 'neurons': [5, 10],\n",
       "                         'optimizer': ['SGD', 'Adam']},\n",
       "             pre_dispatch='2*n_jobs', refit=True, return_train_score=False,\n",
       "             scoring=None, verbose=0)"
      ]
     },
     "execution_count": 17,
     "metadata": {},
     "output_type": "execute_result"
    }
   ],
   "source": [
    "model = GridSearchCV(estimator= clf, param_grid=param_grid, n_jobs=1)  # Reduced Jobs to 1 else GPU runs out of memory\n",
    "model.fit(X,y)"
   ]
  },
  {
   "cell_type": "code",
   "execution_count": 18,
   "metadata": {},
   "outputs": [
    {
     "name": "stdout",
     "output_type": "stream",
     "text": [
      "Max Accuracy Registred: 0.667 using {'activation': 'relu', 'neurons': 5, 'optimizer': 'SGD'}\n"
     ]
    }
   ],
   "source": [
    "print(\"Max Accuracy Registred: {} using {}\".format(round(model.best_score_,3), model.best_params_))"
   ]
  }
 ],
 "metadata": {
  "kernelspec": {
   "display_name": "Python 3",
   "language": "python",
   "name": "python3"
  },
  "language_info": {
   "codemirror_mode": {
    "name": "ipython",
    "version": 3
   },
   "file_extension": ".py",
   "mimetype": "text/x-python",
   "name": "python",
   "nbconvert_exporter": "python",
   "pygments_lexer": "ipython3",
   "version": "3.6.9"
  }
 },
 "nbformat": 4,
 "nbformat_minor": 4
}
