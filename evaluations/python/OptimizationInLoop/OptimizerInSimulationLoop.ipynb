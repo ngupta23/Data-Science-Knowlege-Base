{
 "cells": [
  {
   "cell_type": "markdown",
   "metadata": {},
   "source": [
    "# Background:\n",
    "#### Optimization in a simulation loop is slow. If we could speed up the optimization process (require less number of iterations to find the minima), then we could make it practical to use spice based simulations in an optimization loop. \n",
    "\n",
    "# Goal\n",
    "#### Figure out if there are more efficient ways to do optimization.\n"
   ]
  },
  {
   "cell_type": "code",
   "execution_count": 1,
   "metadata": {},
   "outputs": [],
   "source": [
    "from hyperopt import fmin, tpe, rand, hp, STATUS_OK, Trials"
   ]
  },
  {
   "cell_type": "code",
   "execution_count": 27,
   "metadata": {},
   "outputs": [],
   "source": [
    "from skopt.space import Integer, Categorical, Real\n",
    "from skopt.utils import use_named_args\n",
    "from skopt import gp_minimize, forest_minimize, dummy_minimize\n",
    "from skopt.plots import plot_objective, plot_convergence, plot_evaluations"
   ]
  },
  {
   "cell_type": "code",
   "execution_count": 3,
   "metadata": {},
   "outputs": [],
   "source": [
    "import pandas as pd\n",
    "import numpy as np\n",
    "import random"
   ]
  },
  {
   "cell_type": "code",
   "execution_count": 4,
   "metadata": {},
   "outputs": [],
   "source": [
    "import matplotlib.pyplot as plt\n",
    "import seaborn as sns\n",
    "%matplotlib inline"
   ]
  },
  {
   "cell_type": "code",
   "execution_count": 5,
   "metadata": {},
   "outputs": [],
   "source": [
    "def simulate_circuit(**kwargs):\n",
    "    \"\"\"\n",
    "    Emulates the spice simulation for now.\n",
    "    In production, this function will call Midas or Spectre and return the measurements from these design tools\n",
    "    \"\"\"\n",
    "    sim_dc_gain = dc_gain(**kwargs)\n",
    "    sim_bandwidth = bandwidth(**kwargs)\n",
    "    return [sim_dc_gain, sim_bandwidth]\n",
    "    \n",
    "def dc_gain(**kwargs):\n",
    "    dc_gain = 100*kwargs['w1']/kwargs['l1'] + 50*kwargs['w2']/kwargs['l2'] \n",
    "    return(dc_gain)\n",
    "    \n",
    "def bandwidth(**kwargs):\n",
    "    bandwidth = (100*kwargs['l1']/kwargs['w1'] + 50*kwargs['l1']/kwargs['w1'])*1e5\n",
    "    return(bandwidth)\n",
    "    "
   ]
  },
  {
   "cell_type": "code",
   "execution_count": 94,
   "metadata": {},
   "outputs": [],
   "source": [
    "def optimize_hyperopt(num_points = 1, max_evals = 25, verbose=False, algo=tpe.suggest, plot_sample_hist=False, seed=101):\n",
    "    \n",
    "    def loss(params):\n",
    "        (sim_dc_gain, sim_bandwidth) = simulate_circuit(**params)\n",
    "        loss = abs(target_dc_gain - sim_dc_gain)/target_dc_gain + abs(target_bandwidth - sim_bandwidth)/target_bandwidth + params['w1']*params['l1']/500 + params['w2']*params['l2']/100\n",
    "        # print (params)\n",
    "        # print(\"  --> Sim DC Gain: {} | Sim Bandwidth: {} >> Loss: {}\".format(sim_dc_gain, sim_bandwidth, loss))\n",
    "        return (loss)   \n",
    "\n",
    "\n",
    "    space = {'w1': hp.uniform('w1', 1, 50),\n",
    "             'l1': hp.uniform('l1', 1, 10),\n",
    "             'w2': hp.uniform('w2', 1, 10),\n",
    "             'l2': hp.uniform('l2', 1, 10)}\n",
    "    \n",
    "    target_dc_gain_list = []\n",
    "    target_bw_list = []\n",
    "\n",
    "    optimizer_dc_gain_list = []\n",
    "    optimizer_bw_list = []\n",
    "\n",
    "    np.random.seed(seed)\n",
    "    w1_list = np.random.randint(1,50,num_points) \n",
    "    l1_list = np.random.randint(1,10,num_points) \n",
    "    w2_list = np.random.randint(1,10,num_points) \n",
    "    l2_list = np.random.randint(1,10,num_points) \n",
    "        \n",
    "    for w1, l1, w2, l2 in zip(w1_list,l1_list,w2_list,l2_list): \n",
    "        kwargs = {\"w1\":w1, \"l1\":l1, \"w2\":w2, \"l2\":l2}  # Target Geometries\n",
    "        (sim_dc_gain, sim_bandwidth) = simulate_circuit(**kwargs) # Target Output Values\n",
    "        if (verbose):\n",
    "            print(\"w1: {}, l1: {}, w2:{}, l2: {}: Target DC Gain: {}, Target Bandwidth: {}\".format(w1,l1,w2,l2,sim_dc_gain, sim_bandwidth))\n",
    "\n",
    "        target_dc_gain = sim_dc_gain\n",
    "        target_bandwidth = sim_bandwidth\n",
    "\n",
    "        tpe_trials = Trials()\n",
    "        best = fmin(loss,\n",
    "                space=space,\n",
    "                algo=algo,\n",
    "                rstate=np.random.RandomState(seed=seed),\n",
    "                trials=tpe_trials,\n",
    "                max_evals=max_evals             \n",
    "               )\n",
    "        \n",
    "        if (plot_sample_hist):\n",
    "            plot_hist(tpe_trials)\n",
    "      \n",
    "        (optimizer_dc_gain, optimizer_bandwidth) = simulate_circuit(**best)\n",
    "\n",
    "        target_dc_gain_list.append(target_dc_gain)\n",
    "        target_bw_list.append(target_bandwidth)\n",
    "\n",
    "        optimizer_dc_gain_list.append(optimizer_dc_gain)\n",
    "        optimizer_bw_list.append(optimizer_bandwidth)\n",
    "\n",
    "        if (verbose):\n",
    "            print (\"  --> Best Geometries from Optimizer: {}\".format(best))\n",
    "            print (\"  --> Output with Best Geometries >> DC Gain: {}, Bandwidth: {}\".format(optimizer_dc_gain, optimizer_bandwidth))\n",
    "            print (\" \") \n",
    "\n",
    "    return (tpe_trials, target_dc_gain_list, target_bw_list, optimizer_dc_gain_list, optimizer_bw_list)\n",
    "    \n",
    "\n",
    "def plot_results(target_dc_gain_list, target_bw_list, optimizer_dc_gain_list, optimizer_bw_list):\n",
    "    fig, axes = plt.subplots(1,2,figsize = (10,4))\n",
    "\n",
    "    axes[0].scatter(target_dc_gain_list,optimizer_dc_gain_list)\n",
    "    axes[0].set_xlabel('Target DC Gain')\n",
    "    axes[0].set_ylabel('DC Gain with Optimizer Recommended Values')\n",
    "\n",
    "    axes[1].scatter(target_bw_list,optimizer_bw_list)\n",
    "    axes[1].set_xlabel('Target Bandwidth')\n",
    "    axes[1].set_ylabel('Bandwidth with Optimizer Recommended Values')\n",
    "\n",
    "    plt.tight_layout()\n",
    "    \n",
    "def plot_hist(tpe_trials):\n",
    "    tpe_results = pd.DataFrame({'Loss': [x['loss'] for x in tpe_trials.results], \n",
    "                            'Iteration': tpe_trials.idxs_vals[0]['l1'],\n",
    "                            'w1': tpe_trials.idxs_vals[1]['w1'],\n",
    "                            'l1': tpe_trials.idxs_vals[1]['l1'],\n",
    "                            'w2': tpe_trials.idxs_vals[1]['w2'],\n",
    "                            'l2': tpe_trials.idxs_vals[1]['l2']\n",
    "                           })\n",
    "    geoms = ['w1','l1','w2','l2']\n",
    "    tpe_results[geoms].hist(figsize=(10,8))\n",
    "\n",
    "def plot_loss_by_iter(trials, ax):\n",
    "    results = pd.DataFrame({'Loss': [x['loss'] for x in trials.results], \n",
    "                            'Iteration': trials.idxs_vals[0]['l1'],\n",
    "                            'w1': trials.idxs_vals[1]['w1'],\n",
    "                            'l1': trials.idxs_vals[1]['l1'],\n",
    "                            'w2': trials.idxs_vals[1]['w2'],\n",
    "                            'l2': trials.idxs_vals[1]['l2']\n",
    "                           })\n",
    "    \n",
    "    #fig, axes = plt.subplots(1,1,figsize = (5,4))\n",
    "\n",
    "    ax.scatter(results['Iteration'],results['Loss'])\n",
    "    ax.set_xlabel('Iteration')\n",
    "    ax.set_ylabel('Loss')\n",
    "    \n",
    "    return ax\n",
    "    \n",
    "def plot_loss_by_iter_compare(trials1, trials2, figsize=(10,6)):\n",
    "    # # If using other function\n",
    "    # fig, axes = plt.subplots(1,2,figsize = (10,4))\n",
    "    # axes[0] = plot_loss_by_iter(trials1, axes[0])\n",
    "    # axes[1] = plot_loss_by_iter(trials2, axes[1])\n",
    "       \n",
    "     \n",
    "    results1 = pd.DataFrame({'Loss': [x['loss'] for x in trials1.results], \n",
    "                            'Iteration': trials1.idxs_vals[0]['l1']})\n",
    "    results2 = pd.DataFrame({'Loss': [x['loss'] for x in trials2.results], \n",
    "                            'Iteration': trials2.idxs_vals[0]['l1']})\n",
    "    \n",
    "    fig = plt.figure(figsize=figsize)\n",
    "    ax1 = fig.add_subplot(111)\n",
    "\n",
    "    ax1.scatter(results1['Iteration'],results1['Loss'], s=10, c='r', marker=\"s\", label='first')\n",
    "    ax1.scatter(results2['Iteration'],results2['Loss'], s=10, c='b', marker=\"o\", label='second')\n",
    "    ax1.set_xlabel('Iteration')\n",
    "    ax1.set_ylabel('Loss')\n",
    "    plt.legend(loc=\"best\", prop={'size': 14}, numpoints=1);\n",
    "    \n",
    "def compute_min_loss_by_iter(trails):\n",
    "    results = pd.DataFrame({'Loss': [x['loss'] for x in trails.results], \n",
    "                            'Iteration': trails.idxs_vals[0]['l1']})\n",
    "\n",
    "    global min_loss;\n",
    "    min_loss = 1e6\n",
    "\n",
    "    def rolling_min(row):\n",
    "        global min_loss\n",
    "        if (row['Loss'] < min_loss):\n",
    "            min_loss = row['Loss']\n",
    "        return(min_loss)\n",
    "\n",
    "    results['Min Loss'] = results.apply(rolling_min, axis=1)\n",
    "    return(results)\n",
    "    \n",
    "def plot_min_loss_by_iter_compare(trials1, trials2, figsize=(10,6)):\n",
    "    results1 = compute_min_loss_by_iter(trials1)\n",
    "    results2 = compute_min_loss_by_iter(trials2)\n",
    "    \n",
    "    fig = plt.figure(figsize=figsize)\n",
    "    ax1 = fig.add_subplot(111)\n",
    "\n",
    "    ax1.scatter(results1['Iteration'],results1['Min Loss'], s=10, c='r', marker=\"s\", label='first')\n",
    "    ax1.scatter(results2['Iteration'],results2['Min Loss'], s=10, c='b', marker=\"o\", label='second')\n",
    "    ax1.set_xlabel('Iteration')\n",
    "    ax1.set_ylabel('Min Loss')\n",
    "    plt.legend(loc=\"best\", prop={'size': 14}, numpoints=1);\n",
    "    \n",
    "    min_loss1 = results1['Min Loss'].iloc[-1]\n",
    "    min_loss2 = results2['Min Loss'].iloc[-1]\n",
    "    min_loss_loc1 = results1.index[results1['Loss'] == min_loss1].tolist()[0] + 1\n",
    "    min_loss_loc2 = results2.index[results2['Loss'] == min_loss2].tolist()[0] + 1\n",
    "                                    \n",
    "    \n",
    "    print (\"Trial 1 Min Loss: {} occuring at iteration: {}\".format(min_loss1, min_loss_loc1))\n",
    "    print (\"Trial 2 Min Loss: {} occuring at iteration: {}\".format(min_loss1, min_loss_loc2))\n",
    "    "
   ]
  },
  {
   "cell_type": "code",
   "execution_count": 95,
   "metadata": {},
   "outputs": [],
   "source": [
    "# https://scikit-optimize.github.io/notebooks/strategy-comparison.html\n",
    "\n",
    "def optimize_skopt(num_points=1, n_calls=25, n_random_starts=5, minimizer=gp_minimize, base_estimator=None, acq_func=\"EI\", n_jobs=1, verbose=False, optimizer_verbose=False, seed=101):\n",
    "    \n",
    "    space = [Real(1, 50, name='w1'),\n",
    "             Real(1, 10, name='l1'),\n",
    "             Real(1, 10, name='w2'),\n",
    "             Real(1, 10, name='l2')]\n",
    "    \n",
    "    @use_named_args(space)\n",
    "    def loss(**params):\n",
    "        (sim_dc_gain, sim_bandwidth) = simulate_circuit(**params)\n",
    "        loss = abs(target_dc_gain - sim_dc_gain)/target_dc_gain + abs(target_bandwidth - sim_bandwidth)/target_bandwidth + params['w1']*params['l1']/500 + params['w2']*params['l2']/100\n",
    "        # print (params)\n",
    "        # print(\"  --> Sim DC Gain: {} | Sim Bandwidth: {} >> Loss: {}\".format(sim_dc_gain, sim_bandwidth, loss))\n",
    "        return (loss)   \n",
    "    \n",
    "    target_dc_gain_list = []\n",
    "    target_bw_list = []\n",
    "\n",
    "    optimizer_dc_gain_list = []\n",
    "    optimizer_bw_list = []\n",
    "\n",
    "    np.random.seed(seed)\n",
    "    w1_list = np.random.randint(1,50,num_points) \n",
    "    l1_list = np.random.randint(1,10,num_points) \n",
    "    w2_list = np.random.randint(1,10,num_points) \n",
    "    l2_list = np.random.randint(1,10,num_points) \n",
    "        \n",
    "    for w1, l1, w2, l2 in zip(w1_list,l1_list,w2_list,l2_list): \n",
    "        kwargs = {\"w1\":w1, \"l1\":l1, \"w2\":w2, \"l2\":l2}  # Target Geometries\n",
    "        (sim_dc_gain, sim_bandwidth) = simulate_circuit(**kwargs) # Target Output Values\n",
    "        if (verbose):\n",
    "            print(\"w1: {}, l1: {}, w2:{}, l2: {}: Target DC Gain: {}, Target Bandwidth: {}\".format(w1,l1,w2,l2,sim_dc_gain, sim_bandwidth))\n",
    "\n",
    "        target_dc_gain = sim_dc_gain\n",
    "        target_bandwidth = sim_bandwidth\n",
    "\n",
    "        res = minimizer(loss,                # the function to minimize\n",
    "                        space,               # the bounds on each dimension of x\n",
    "                        acq_func=acq_func,   # the acquisition function\n",
    "                        n_calls=n_calls,     # the number of evaluations of f \n",
    "                        n_random_starts=n_random_starts,   # the number of random initialization points\n",
    "                        base_estimator=base_estimator,\n",
    "                        verbose=optimizer_verbose,\n",
    "                        n_jobs=n_jobs,\n",
    "                        random_state=seed)   # the random seed\n",
    "        \n",
    "      \n",
    "        (optimizer_dc_gain, optimizer_bandwidth) = simulate_circuit(w1=res.x[0], l1=res.x[1], w2=res.x[2], l2=res.x[3])\n",
    "\n",
    "        target_dc_gain_list.append(target_dc_gain)\n",
    "        target_bw_list.append(target_bandwidth)\n",
    "\n",
    "        optimizer_dc_gain_list.append(optimizer_dc_gain)\n",
    "        optimizer_bw_list.append(optimizer_bandwidth)\n",
    "\n",
    "        if (verbose):\n",
    "            print (\"  --> Best Geometries from Optimizer: {}\".format(res.x))\n",
    "            print (\"  --> Output with Best Geometries >> DC Gain: {}, Bandwidth: {}\".format(optimizer_dc_gain, optimizer_bandwidth))\n",
    "            print (\" \") \n",
    "\n",
    "    return (res, target_dc_gain_list, target_bw_list, optimizer_dc_gain_list, optimizer_bw_list)\n"
   ]
  },
  {
   "cell_type": "code",
   "execution_count": 96,
   "metadata": {},
   "outputs": [],
   "source": [
    "num_points = 1 # Number of points to evaluate\n",
    "seed=4101 # determines which ramdom point(s) you pick for evaluation (Change to evaluate a different target value)"
   ]
  },
  {
   "cell_type": "markdown",
   "metadata": {},
   "source": [
    "### Using Hyperopt "
   ]
  },
  {
   "cell_type": "code",
   "execution_count": 97,
   "metadata": {},
   "outputs": [],
   "source": [
    "max_evals=500"
   ]
  },
  {
   "cell_type": "code",
   "execution_count": 98,
   "metadata": {},
   "outputs": [
    {
     "name": "stdout",
     "output_type": "stream",
     "text": [
      "w1: 24, l1: 7, w2:4, l2: 1: Target DC Gain: 542.8571428571429, Target Bandwidth: 4375000.0\n",
      "100%|██████████| 500/500 [00:00<00:00, 762.20it/s, best loss: 0.4819639116275484]\n",
      "  --> Best Geometries from Optimizer: {'l1': 4.733791180816139, 'l2': 2.035784338736751, 'w1': 19.931412121201156, 'w2': 4.694690287877414}\n",
      "  --> Output with Best Geometries >> DC Gain: 536.3496592065138, Bandwidth: 3562560.8100648164\n",
      " \n",
      "Wall time: 673 ms\n"
     ]
    }
   ],
   "source": [
    "%%time\n",
    "# Part 1: Random Search ----\n",
    "rand_trials, target_dc_gain_list, target_bw_list, optimizer_dc_gain_list, optimizer_bw_list  = optimize_hyperopt(num_points=num_points, max_evals=max_evals, verbose=True, algo=rand.suggest, plot_sample_hist=False, seed=seed)"
   ]
  },
  {
   "cell_type": "code",
   "execution_count": 99,
   "metadata": {},
   "outputs": [
    {
     "name": "stdout",
     "output_type": "stream",
     "text": [
      "w1: 24, l1: 7, w2:4, l2: 1: Target DC Gain: 542.8571428571429, Target Bandwidth: 4375000.0\n",
      "100%|██████████| 500/500 [00:07<00:00, 43.92it/s, best loss: 0.1646113131514854] \n",
      "  --> Best Geometries from Optimizer: {'l1': 2.5040432306921705, 'l2': 1.0055155036921617, 'w1': 7.9549899676898495, 'w2': 4.528326349148736}\n",
      "  --> Output with Best Geometries >> DC Gain: 542.8601753066475, Bandwidth: 4721646.238768327\n",
      " \n",
      "Wall time: 7.39 s\n"
     ]
    }
   ],
   "source": [
    "%%time\n",
    "# Part 2: TPE Search ----\n",
    "tpe_trials, target_dc_gain_list, target_bw_list, optimizer_dc_gain_list, optimizer_bw_list  = optimize_hyperopt(num_points=num_points, max_evals=max_evals, verbose=True, algo=tpe.suggest, plot_sample_hist=False, seed=seed)"
   ]
  },
  {
   "cell_type": "code",
   "execution_count": 100,
   "metadata": {},
   "outputs": [
    {
     "data": {
      "image/png": "[encoded data removed]",
      "text/plain": [
       "<Figure size 576x360 with 1 Axes>"
      ]
     },
     "metadata": {
      "needs_background": "light"
     },
     "output_type": "display_data"
    }
   ],
   "source": [
    "plot_loss_by_iter_compare(rand_trials,tpe_trials, figsize=(8,5))"
   ]
  },
  {
   "cell_type": "code",
   "execution_count": 101,
   "metadata": {},
   "outputs": [
    {
     "name": "stdout",
     "output_type": "stream",
     "text": [
      "Trial 1 Min Loss: 0.4819639116275484 occuring at iteration: 259\n",
      "Trial 2 Min Loss: 0.4819639116275484 occuring at iteration: 404\n"
     ]
    },
    {
     "data": {
      "image/png": "[encoded data removed]",
      "text/plain": [
       "<Figure size 576x360 with 1 Axes>"
      ]
     },
     "metadata": {
      "needs_background": "light"
     },
     "output_type": "display_data"
    }
   ],
   "source": [
    "plot_min_loss_by_iter_compare(rand_trials,tpe_trials, figsize=(8,5))"
   ]
  },
  {
   "cell_type": "markdown",
   "metadata": {},
   "source": [
    "#### Takes more than 100 iterations to get to minima !!!"
   ]
  },
  {
   "cell_type": "code",
   "execution_count": 14,
   "metadata": {},
   "outputs": [],
   "source": [
    "if (num_points > 1):\n",
    "    plot_results(target_dc_gain_list, target_bw_list, optimizer_dc_gain_list, optimizer_bw_list)"
   ]
  },
  {
   "cell_type": "markdown",
   "metadata": {},
   "source": [
    "### Using Skopt (allows for Gaussian Process Based Optimization) "
   ]
  },
  {
   "cell_type": "code",
   "execution_count": 30,
   "metadata": {},
   "outputs": [],
   "source": [
    "# For skopt\n",
    "n_calls=50\n",
    "n_random_starts=10\n",
    "n_jobs=-1\n",
    "verbose=True\n",
    "optimizer_verbose=False"
   ]
  },
  {
   "cell_type": "code",
   "execution_count": 31,
   "metadata": {},
   "outputs": [
    {
     "name": "stdout",
     "output_type": "stream",
     "text": [
      "w1: 24, l1: 7, w2:4, l2: 1: Target DC Gain: 542.8571428571429, Target Bandwidth: 4375000.0\n",
      "  --> Best Geometries from Optimizer: [12.948530825804848, 3.9896327753943277, 4.643448227943068, 1.0]\n",
      "  --> Output with Best Geometries >> DC Gain: 556.7268642696998, Bandwidth: 4621720.597957887\n",
      " \n",
      "Wall time: 29.3 s\n"
     ]
    }
   ],
   "source": [
    "%%time\n",
    "res_gp_EI, target_dc_gain_list, target_bw_list, optimizer_dc_gain_list, optimizer_bw_list  = optimize_skopt(num_points=num_points,\n",
    "                                                                                                            n_calls=n_calls, n_random_starts=n_random_starts,\n",
    "                                                                                                            minimizer=gp_minimize, base_estimator=None, acq_func=\"EI\",\n",
    "                                                                                                            n_jobs=n_jobs, verbose=verbose, optimizer_verbose=optimizer_verbose, seed=seed)"
   ]
  },
  {
   "cell_type": "code",
   "execution_count": 32,
   "metadata": {},
   "outputs": [
    {
     "name": "stdout",
     "output_type": "stream",
     "text": [
      "w1: 24, l1: 7, w2:4, l2: 1: Target DC Gain: 542.8571428571429, Target Bandwidth: 4375000.0\n",
      "  --> Best Geometries from Optimizer: [6.523553669732394, 1.820695139915371, 4.106017259766695, 1.0]\n",
      "  --> Output with Best Geometries >> DC Gain: 563.6010268496839, Bandwidth: 4186434.0329480087\n",
      " \n",
      "Wall time: 19.6 s\n"
     ]
    }
   ],
   "source": [
    "%%time\n",
    "res_gp_PI, target_dc_gain_list, target_bw_list, optimizer_dc_gain_list, optimizer_bw_list  = optimize_skopt(num_points=num_points,\n",
    "                                                                                                            n_calls=n_calls, n_random_starts=n_random_starts,\n",
    "                                                                                                            minimizer=gp_minimize, base_estimator=None, acq_func=\"PI\",\n",
    "                                                                                                            n_jobs=n_jobs, verbose=verbose, optimizer_verbose=optimizer_verbose, seed=seed)"
   ]
  },
  {
   "cell_type": "code",
   "execution_count": 33,
   "metadata": {},
   "outputs": [
    {
     "name": "stdout",
     "output_type": "stream",
     "text": [
      "w1: 24, l1: 7, w2:4, l2: 1: Target DC Gain: 542.8571428571429, Target Bandwidth: 4375000.0\n",
      "  --> Best Geometries from Optimizer: [8.767610517255505, 2.396148176854228, 3.9990734061151163, 1.1189752805351378]\n",
      "  --> Output with Best Geometries >> DC Gain: 544.5979089374367, Bandwidth: 4099431.946945596\n",
      " \n",
      "Wall time: 24.1 s\n"
     ]
    }
   ],
   "source": [
    "%%time\n",
    "res_gp_LCB, target_dc_gain_list, target_bw_list, optimizer_dc_gain_list, optimizer_bw_list  = optimize_skopt(num_points=num_points,\n",
    "                                                                                                             n_calls=n_calls, n_random_starts=n_random_starts,\n",
    "                                                                                                             minimizer=gp_minimize, base_estimator=None, acq_func=\"LCB\",\n",
    "                                                                                                             n_jobs=n_jobs, verbose=verbose, optimizer_verbose=optimizer_verbose, seed=seed)"
   ]
  },
  {
   "cell_type": "code",
   "execution_count": 34,
   "metadata": {},
   "outputs": [
    {
     "name": "stdout",
     "output_type": "stream",
     "text": [
      "w1: 24, l1: 7, w2:4, l2: 1: Target DC Gain: 542.8571428571429, Target Bandwidth: 4375000.0\n",
      "  --> Best Geometries from Optimizer: [8.494327589992892, 2.4541842028501244, 6.0340348619731055, 1.4563584452447487]\n",
      "  --> Output with Best Geometries >> DC Gain: 553.2778738622274, Bandwidth: 4333805.431064458\n",
      " \n",
      "Wall time: 23.5 s\n"
     ]
    }
   ],
   "source": [
    "%%time\n",
    "res_gp_hedge, target_dc_gain_list, target_bw_list, optimizer_dc_gain_list, optimizer_bw_list  = optimize_skopt(num_points=num_points,\n",
    "                                                                                                                   n_calls=n_calls, n_random_starts=n_random_starts,\n",
    "                                                                                                                   minimizer=forest_minimize, base_estimator='ET', acq_func=\"gp_hedge\",\n",
    "                                                                                                                   n_jobs=n_jobs, verbose=verbose, optimizer_verbose=optimizer_verbose, seed=seed)"
   ]
  },
  {
   "cell_type": "code",
   "execution_count": 35,
   "metadata": {},
   "outputs": [
    {
     "name": "stdout",
     "output_type": "stream",
     "text": [
      "w1: 24, l1: 7, w2:4, l2: 1: Target DC Gain: 542.8571428571429, Target Bandwidth: 4375000.0\n",
      "  --> Best Geometries from Optimizer: [8.884447786822932, 2.646973339784127, 7.5212854194807495, 1.3588428662258325]\n",
      "  --> Output with Best Geometries >> DC Gain: 612.3988508001603, Bandwidth: 4469000.33062834\n",
      " \n",
      "Wall time: 11.4 s\n"
     ]
    }
   ],
   "source": [
    "%%time\n",
    "res_forest_ET, target_dc_gain_list, target_bw_list, optimizer_dc_gain_list, optimizer_bw_list  = optimize_skopt(num_points=num_points,\n",
    "                                                                                                                n_calls=n_calls, n_random_starts=n_random_starts,\n",
    "                                                                                                                minimizer=forest_minimize, base_estimator='ET', acq_func=\"LCB\",\n",
    "                                                                                                                n_jobs=n_jobs, verbose=verbose, optimizer_verbose=optimizer_verbose, seed=seed)"
   ]
  },
  {
   "cell_type": "code",
   "execution_count": 36,
   "metadata": {},
   "outputs": [
    {
     "name": "stdout",
     "output_type": "stream",
     "text": [
      "w1: 24, l1: 7, w2:4, l2: 1: Target DC Gain: 542.8571428571429, Target Bandwidth: 4375000.0\n",
      "  --> Best Geometries from Optimizer: [8.958082356089992, 2.63369724355133, 3.6685420391710775, 1.1938378596702106]\n",
      "  --> Output with Best Geometries >> DC Gain: 493.7782411759107, Bandwidth: 4410035.215451315\n",
      " \n",
      "Wall time: 10.5 s\n"
     ]
    }
   ],
   "source": [
    "%%time\n",
    "res_forest_RF, target_dc_gain_list, target_bw_list, optimizer_dc_gain_list, optimizer_bw_list  = optimize_skopt(num_points=num_points,\n",
    "                                                                                                                n_calls=n_calls, n_random_starts=n_random_starts,\n",
    "                                                                                                                minimizer=forest_minimize, base_estimator='RF', acq_func=\"LCB\",\n",
    "                                                                                                                n_jobs=n_jobs, verbose=verbose, optimizer_verbose=optimizer_verbose, seed=seed)"
   ]
  },
  {
   "cell_type": "code",
   "execution_count": 37,
   "metadata": {},
   "outputs": [],
   "source": [
    "# %%time\n",
    "# res_dummy, target_dc_gain_list, target_bw_list, optimizer_dc_gain_list, optimizer_bw_list  = optimize_skopt(num_points=num_points,\n",
    "#                                                                                                             n_calls=n_calls, n_random_starts=n_random_starts,\n",
    "#                                                                                                             minimizer=dummy_minimize, base_estimator=None, acq_func=None,\n",
    "#                                                                                                             n_jobs=n_jobs, verbose=verbose, optimizer_verbose=optmize_verbose, seed=seed)"
   ]
  },
  {
   "cell_type": "code",
   "execution_count": 38,
   "metadata": {},
   "outputs": [
    {
     "data": {
      "image/png": "[encoded data removed]",
      "text/plain": [
       "<Figure size 720x432 with 1 Axes>"
      ]
     },
     "metadata": {
      "needs_background": "light"
     },
     "output_type": "display_data"
    }
   ],
   "source": [
    "plt.figure(figsize=(10,6))\n",
    "plot = plot_convergence((\"gp_minimize_EI\", res_gp_EI),\n",
    "                        (\"gp_minimize_PI\", res_gp_PI),\n",
    "                        (\"gp_minimize_LCB\", res_gp_LCB),\n",
    "                        (\"gp_minimize_hedge\", res_gp_hedge),\n",
    "                        (\"forest_minimize('et')\", res_forest_ET),\n",
    "                        (\"forest_minimize('rf)\", res_forest_RF)\n",
    "                        # (\"dummy_minimize\", res_dummy)\n",
    "                       )\n",
    "\n",
    "plot.legend(loc=\"best\", prop={'size': 14}, numpoints=1);"
   ]
  },
  {
   "cell_type": "code",
   "execution_count": 47,
   "metadata": {},
   "outputs": [
    {
     "data": {
      "text/html": [
       "<div>\n",
       "<style scoped>\n",
       "    .dataframe tbody tr th:only-of-type {\n",
       "        vertical-align: middle;\n",
       "    }\n",
       "\n",
       "    .dataframe tbody tr th {\n",
       "        vertical-align: top;\n",
       "    }\n",
       "\n",
       "    .dataframe thead th {\n",
       "        text-align: right;\n",
       "    }\n",
       "</style>\n",
       "<table border=\"1\" class=\"dataframe\">\n",
       "  <thead>\n",
       "    <tr style=\"text-align: right;\">\n",
       "      <th></th>\n",
       "      <th>Loss</th>\n",
       "    </tr>\n",
       "  </thead>\n",
       "  <tbody>\n",
       "    <tr>\n",
       "      <th>gp_minimize_EI</th>\n",
       "      <td>0.231697</td>\n",
       "    </tr>\n",
       "    <tr>\n",
       "      <th>gp_minimize_PI</th>\n",
       "      <td>0.146128</td>\n",
       "    </tr>\n",
       "    <tr>\n",
       "      <th>gp_minimize_LCB</th>\n",
       "      <td>0.152959</td>\n",
       "    </tr>\n",
       "    <tr>\n",
       "      <th>gp_minimize_hedge</th>\n",
       "      <td>0.158182</td>\n",
       "    </tr>\n",
       "    <tr>\n",
       "      <th>forest_minimize('et')</th>\n",
       "      <td>0.298825</td>\n",
       "    </tr>\n",
       "    <tr>\n",
       "      <th>forest_minimize('rf)</th>\n",
       "      <td>0.189399</td>\n",
       "    </tr>\n",
       "  </tbody>\n",
       "</table>\n",
       "</div>"
      ],
      "text/plain": [
       "                           Loss\n",
       "gp_minimize_EI         0.231697\n",
       "gp_minimize_PI         0.146128\n",
       "gp_minimize_LCB        0.152959\n",
       "gp_minimize_hedge      0.158182\n",
       "forest_minimize('et')  0.298825\n",
       "forest_minimize('rf)   0.189399"
      ]
     },
     "execution_count": 47,
     "metadata": {},
     "output_type": "execute_result"
    }
   ],
   "source": [
    "d = {'Loss': [res_gp_EI.fun, res_gp_PI.fun, res_gp_LCB.fun, res_gp_hedge.fun, res_forest_ET.fun, res_forest_RF.fun]}\n",
    "index = [\"gp_minimize_EI\", \"gp_minimize_PI\", \"gp_minimize_LCB\", \"gp_minimize_hedge\", \"forest_minimize('et')\", \"forest_minimize('rf)\"]\n",
    "pd.DataFrame(data=d, index=index)"
   ]
  },
  {
   "cell_type": "markdown",
   "metadata": {},
   "source": [
    "### Conclusion"
   ]
  },
  {
   "cell_type": "markdown",
   "metadata": {},
   "source": [
    "1. TPE search reaches the minima faster than random search. This can be seen from the Min Loss Plot\n",
    "2. At least for this function, it still takes over 150 iterations to get to the minima which may be still too long since we have to wait for the the simulation results after every iteration and each simulation result could be the output of a statitcal run. \n",
    "3. Forest_minimize also not able to converge to the right global minima (may be getting stuck in local minima)\n",
    "4. **GP based Bayesian Optimization offers a much better solution where the output is able to converge to the minimum in 15-20 iterations**. This could offer a practical option for \"Optimization in a Simulation loop\""
   ]
  },
  {
   "cell_type": "markdown",
   "metadata": {},
   "source": [
    "### References"
   ]
  },
  {
   "cell_type": "markdown",
   "metadata": {},
   "source": [
    "1. SKOPT for GP Optimization (https://scikit-optimize.github.io/notebooks/bayesian-optimization.html)"
   ]
  }
 ],
 "metadata": {
  "kernelspec": {
   "display_name": "Python 3",
   "language": "python",
   "name": "python3"
  },
  "language_info": {
   "codemirror_mode": {
    "name": "ipython",
    "version": 3
   },
   "file_extension": ".py",
   "mimetype": "text/x-python",
   "name": "python",
   "nbconvert_exporter": "python",
   "pygments_lexer": "ipython3",
   "version": "3.7.3"
  }
 },
 "nbformat": 4,
 "nbformat_minor": 4
}
