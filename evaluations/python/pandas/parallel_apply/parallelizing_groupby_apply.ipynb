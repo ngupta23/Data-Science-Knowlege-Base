{
 "cells": [
  {
   "source": [
    "### Parallel Apply is about 5x faster for these functions compared to serial apply"
   ],
   "cell_type": "markdown",
   "metadata": {}
  },
  {
   "cell_type": "code",
   "execution_count": 1,
   "metadata": {},
   "outputs": [],
   "source": [
    "import numpy as np\n",
    "import pandas as pd\n",
    "import string\n",
    "import random\n",
    "from collections import Counter\n",
    "from pprint import pprint\n",
    "\n",
    "from parallel_functions import (\n",
    "    stats_return_df,\n",
    "    stats_return_series,\n",
    "    stats_return_tuple_floats,\n",
    "    stats_return_tuple_mixed1,\n",
    "    stats_return_tuple_mixed2\n",
    ")\n",
    "\n",
    "from parallel_apply import apply_grouped_parallel_with_args"
   ]
  },
  {
   "cell_type": "code",
   "execution_count": 2,
   "metadata": {},
   "outputs": [],
   "source": [
    "N = 10000\n",
    "random.seed(42)\n",
    "group = [random.choice(string.ascii_uppercase) for _ in range(N)]\n",
    "value = [random.random() for _ in range(N)]"
   ]
  },
  {
   "cell_type": "code",
   "execution_count": 3,
   "metadata": {},
   "outputs": [
    {
     "output_type": "execute_result",
     "data": {
      "text/plain": [
       "  group     value\n",
       "0     U  0.241823\n",
       "1     D  0.570235\n",
       "2     A  0.099106\n",
       "3     X  0.578134\n",
       "4     I  0.013984"
      ],
      "text/html": "<div>\n<style scoped>\n    .dataframe tbody tr th:only-of-type {\n        vertical-align: middle;\n    }\n\n    .dataframe tbody tr th {\n        vertical-align: top;\n    }\n\n    .dataframe thead th {\n        text-align: right;\n    }\n</style>\n<table border=\"1\" class=\"dataframe\">\n  <thead>\n    <tr style=\"text-align: right;\">\n      <th></th>\n      <th>group</th>\n      <th>value</th>\n    </tr>\n  </thead>\n  <tbody>\n    <tr>\n      <th>0</th>\n      <td>U</td>\n      <td>0.241823</td>\n    </tr>\n    <tr>\n      <th>1</th>\n      <td>D</td>\n      <td>0.570235</td>\n    </tr>\n    <tr>\n      <th>2</th>\n      <td>A</td>\n      <td>0.099106</td>\n    </tr>\n    <tr>\n      <th>3</th>\n      <td>X</td>\n      <td>0.578134</td>\n    </tr>\n    <tr>\n      <th>4</th>\n      <td>I</td>\n      <td>0.013984</td>\n    </tr>\n  </tbody>\n</table>\n</div>"
     },
     "metadata": {},
     "execution_count": 3
    }
   ],
   "source": [
    "data = pd.DataFrame({'group': group, 'value': value})\n",
    "data.head()"
   ]
  },
  {
   "cell_type": "code",
   "execution_count": 4,
   "metadata": {},
   "outputs": [],
   "source": [
    "grouped_data = data.groupby('group')"
   ]
  },
  {
   "cell_type": "markdown",
   "metadata": {},
   "source": [
    "## Expected Values"
   ]
  },
  {
   "cell_type": "code",
   "execution_count": 5,
   "metadata": {},
   "outputs": [
    {
     "output_type": "execute_result",
     "data": {
      "text/plain": [
       "           mean         sum       std\n",
       "group                                \n",
       "A      0.479596  159.225857  0.285855\n",
       "B      0.484120  184.933803  0.284004\n",
       "C      0.508132  203.252864  0.292171\n",
       "D      0.496822  188.792211  0.287715\n",
       "E      0.515183  211.740245  0.293946\n",
       "F      0.492011  182.536244  0.293433\n",
       "G      0.499160  170.712728  0.295912\n",
       "H      0.505211  192.485573  0.281962\n",
       "I      0.477857  172.984186  0.289502\n",
       "J      0.516721  201.521083  0.283455\n",
       "K      0.504095  194.580600  0.298811\n",
       "L      0.514109  192.790874  0.293515\n",
       "M      0.493376  188.469746  0.282166\n",
       "N      0.516540  186.470895  0.286206\n",
       "O      0.497604  199.539198  0.282687\n",
       "P      0.481895  187.939052  0.301165\n",
       "Q      0.523651  188.514481  0.283564\n",
       "R      0.492507  204.390294  0.290840\n",
       "S      0.497021  194.832114  0.282322\n",
       "T      0.518018  199.436901  0.291507\n",
       "U      0.476795  197.393003  0.302543\n",
       "V      0.494015  202.545970  0.283261\n",
       "W      0.514574  205.829490  0.284115\n",
       "X      0.514723  201.256567  0.298357\n",
       "Y      0.514083  204.605166  0.276817\n",
       "Z      0.502469  195.460345  0.290607"
      ],
      "text/html": "<div>\n<style scoped>\n    .dataframe tbody tr th:only-of-type {\n        vertical-align: middle;\n    }\n\n    .dataframe tbody tr th {\n        vertical-align: top;\n    }\n\n    .dataframe thead th {\n        text-align: right;\n    }\n</style>\n<table border=\"1\" class=\"dataframe\">\n  <thead>\n    <tr style=\"text-align: right;\">\n      <th></th>\n      <th>mean</th>\n      <th>sum</th>\n      <th>std</th>\n    </tr>\n    <tr>\n      <th>group</th>\n      <th></th>\n      <th></th>\n      <th></th>\n    </tr>\n  </thead>\n  <tbody>\n    <tr>\n      <th>A</th>\n      <td>0.479596</td>\n      <td>159.225857</td>\n      <td>0.285855</td>\n    </tr>\n    <tr>\n      <th>B</th>\n      <td>0.484120</td>\n      <td>184.933803</td>\n      <td>0.284004</td>\n    </tr>\n    <tr>\n      <th>C</th>\n      <td>0.508132</td>\n      <td>203.252864</td>\n      <td>0.292171</td>\n    </tr>\n    <tr>\n      <th>D</th>\n      <td>0.496822</td>\n      <td>188.792211</td>\n      <td>0.287715</td>\n    </tr>\n    <tr>\n      <th>E</th>\n      <td>0.515183</td>\n      <td>211.740245</td>\n      <td>0.293946</td>\n    </tr>\n    <tr>\n      <th>F</th>\n      <td>0.492011</td>\n      <td>182.536244</td>\n      <td>0.293433</td>\n    </tr>\n    <tr>\n      <th>G</th>\n      <td>0.499160</td>\n      <td>170.712728</td>\n      <td>0.295912</td>\n    </tr>\n    <tr>\n      <th>H</th>\n      <td>0.505211</td>\n      <td>192.485573</td>\n      <td>0.281962</td>\n    </tr>\n    <tr>\n      <th>I</th>\n      <td>0.477857</td>\n      <td>172.984186</td>\n      <td>0.289502</td>\n    </tr>\n    <tr>\n      <th>J</th>\n      <td>0.516721</td>\n      <td>201.521083</td>\n      <td>0.283455</td>\n    </tr>\n    <tr>\n      <th>K</th>\n      <td>0.504095</td>\n      <td>194.580600</td>\n      <td>0.298811</td>\n    </tr>\n    <tr>\n      <th>L</th>\n      <td>0.514109</td>\n      <td>192.790874</td>\n      <td>0.293515</td>\n    </tr>\n    <tr>\n      <th>M</th>\n      <td>0.493376</td>\n      <td>188.469746</td>\n      <td>0.282166</td>\n    </tr>\n    <tr>\n      <th>N</th>\n      <td>0.516540</td>\n      <td>186.470895</td>\n      <td>0.286206</td>\n    </tr>\n    <tr>\n      <th>O</th>\n      <td>0.497604</td>\n      <td>199.539198</td>\n      <td>0.282687</td>\n    </tr>\n    <tr>\n      <th>P</th>\n      <td>0.481895</td>\n      <td>187.939052</td>\n      <td>0.301165</td>\n    </tr>\n    <tr>\n      <th>Q</th>\n      <td>0.523651</td>\n      <td>188.514481</td>\n      <td>0.283564</td>\n    </tr>\n    <tr>\n      <th>R</th>\n      <td>0.492507</td>\n      <td>204.390294</td>\n      <td>0.290840</td>\n    </tr>\n    <tr>\n      <th>S</th>\n      <td>0.497021</td>\n      <td>194.832114</td>\n      <td>0.282322</td>\n    </tr>\n    <tr>\n      <th>T</th>\n      <td>0.518018</td>\n      <td>199.436901</td>\n      <td>0.291507</td>\n    </tr>\n    <tr>\n      <th>U</th>\n      <td>0.476795</td>\n      <td>197.393003</td>\n      <td>0.302543</td>\n    </tr>\n    <tr>\n      <th>V</th>\n      <td>0.494015</td>\n      <td>202.545970</td>\n      <td>0.283261</td>\n    </tr>\n    <tr>\n      <th>W</th>\n      <td>0.514574</td>\n      <td>205.829490</td>\n      <td>0.284115</td>\n    </tr>\n    <tr>\n      <th>X</th>\n      <td>0.514723</td>\n      <td>201.256567</td>\n      <td>0.298357</td>\n    </tr>\n    <tr>\n      <th>Y</th>\n      <td>0.514083</td>\n      <td>204.605166</td>\n      <td>0.276817</td>\n    </tr>\n    <tr>\n      <th>Z</th>\n      <td>0.502469</td>\n      <td>195.460345</td>\n      <td>0.290607</td>\n    </tr>\n  </tbody>\n</table>\n</div>"
     },
     "metadata": {},
     "execution_count": 5
    }
   ],
   "source": [
    "golden = grouped_data.agg({np.mean, np.sum, np.std})['value']\n",
    "golden = golden[['mean', 'sum', 'std']]\n",
    "golden"
   ]
  },
  {
   "cell_type": "markdown",
   "metadata": {},
   "source": [
    "## Verify Speed\n",
    "\n",
    "### Function returning Dataframe"
   ]
  },
  {
   "cell_type": "code",
   "execution_count": 6,
   "metadata": {},
   "outputs": [
    {
     "output_type": "stream",
     "name": "stdout",
     "text": [
      "Wall time: 26.1 s\n"
     ]
    }
   ],
   "source": [
    "%time val1 = grouped_data.apply(stats_return_df)"
   ]
  },
  {
   "cell_type": "code",
   "execution_count": 7,
   "metadata": {},
   "outputs": [
    {
     "output_type": "stream",
     "name": "stdout",
     "text": [
      "Wall time: 6.01 s\n"
     ]
    }
   ],
   "source": [
    "%time val2 = apply_grouped_parallel_with_args(grouped_data, stats_return_df)"
   ]
  },
  {
   "cell_type": "code",
   "execution_count": 8,
   "metadata": {},
   "outputs": [],
   "source": [
    "val1.reset_index(level=1, drop=True, inplace=True)\n",
    "pd.testing.assert_frame_equal(val2, val1, check_names=False)\n",
    "pd.testing.assert_frame_equal(val2, golden, check_names=False)"
   ]
  },
  {
   "cell_type": "markdown",
   "metadata": {},
   "source": [
    "### Function returning Series"
   ]
  },
  {
   "cell_type": "code",
   "execution_count": 9,
   "metadata": {},
   "outputs": [
    {
     "output_type": "stream",
     "name": "stdout",
     "text": [
      "Wall time: 26.1 s\n"
     ]
    }
   ],
   "source": [
    "%time val1 = grouped_data.apply(stats_return_series)"
   ]
  },
  {
   "cell_type": "code",
   "execution_count": 10,
   "metadata": {},
   "outputs": [
    {
     "output_type": "stream",
     "name": "stdout",
     "text": [
      "Wall time: 5.65 s\n"
     ]
    }
   ],
   "source": [
    "%time val2 = apply_grouped_parallel_with_args(grouped_data, stats_return_series)"
   ]
  },
  {
   "cell_type": "code",
   "execution_count": 11,
   "metadata": {},
   "outputs": [],
   "source": [
    "pd.testing.assert_frame_equal(val2, val1, check_names=False)\n",
    "pd.testing.assert_frame_equal(val2, golden, check_names=False)"
   ]
  },
  {
   "cell_type": "markdown",
   "metadata": {},
   "source": [
    "### Function returning tuple (all floats)"
   ]
  },
  {
   "cell_type": "code",
   "execution_count": 12,
   "metadata": {},
   "outputs": [
    {
     "output_type": "stream",
     "name": "stdout",
     "text": [
      "Wall time: 26 s\n"
     ]
    }
   ],
   "source": [
    "%time val1 = grouped_data.apply(stats_return_tuple_floats)"
   ]
  },
  {
   "cell_type": "code",
   "execution_count": 13,
   "metadata": {},
   "outputs": [
    {
     "output_type": "stream",
     "name": "stdout",
     "text": [
      "Wall time: 6.47 s\n"
     ]
    }
   ],
   "source": [
    "%time val2 = apply_grouped_parallel_with_args(grouped_data, stats_return_tuple_floats)"
   ]
  },
  {
   "cell_type": "code",
   "execution_count": 14,
   "metadata": {},
   "outputs": [],
   "source": [
    "pd.testing.assert_series_equal(val2, val1, check_names=False)"
   ]
  },
  {
   "cell_type": "code",
   "execution_count": 15,
   "metadata": {},
   "outputs": [
    {
     "output_type": "execute_result",
     "data": {
      "text/plain": [
       "A    (0.47959595616390266, 159.22585744641583, 0.28...\n",
       "B    (0.48411990308159797, 184.9338029771704, 0.284...\n",
       "C    (0.508132160065169, 203.2528640260677, 0.29217...\n",
       "D    (0.4968216089461155, 188.79221139952386, 0.287...\n",
       "E    (0.5151830775386749, 211.74024486839556, 0.293...\n",
       "F    (0.4920114383827426, 182.53624363999742, 0.293...\n",
       "G    (0.4991600229925111, 170.7127278634388, 0.2959...\n",
       "H    (0.5052114775334176, 192.48557294023203, 0.281...\n",
       "I    (0.4778568684617443, 172.98418638315152, 0.289...\n",
       "J    (0.5167207252617775, 201.5210828520932, 0.2834...\n",
       "K    (0.5040948174719622, 194.58059954417743, 0.298...\n",
       "L    (0.5141089980394153, 192.79087426478083, 0.293...\n",
       "M    (0.49337629937618793, 188.4697463617038, 0.282...\n",
       "N    (0.5165398750192324, 186.47089488194297, 0.286...\n",
       "O    (0.49760398585672916, 199.53919832854854, 0.28...\n",
       "P    (0.4818950050112198, 187.93905195437577, 0.301...\n",
       "Q    (0.5236513367408374, 188.51448122670132, 0.283...\n",
       "R    (0.49250673156922564, 204.39029360122856, 0.29...\n",
       "S    (0.49702069851844133, 194.83211381922897, 0.28...\n",
       "T    (0.5180179253271839, 199.43690125096586, 0.291...\n",
       "U    (0.47679469440036626, 197.39300348175158, 0.30...\n",
       "V    (0.4940145620801235, 202.54597045285044, 0.283...\n",
       "W    (0.5145737256756334, 205.8294902702534, 0.2841...\n",
       "X    (0.5147226770721243, 201.25656673520058, 0.298...\n",
       "Y    (0.5140833324579678, 204.60516631827133, 0.276...\n",
       "Z    (0.5024687529859719, 195.46034491154325, 0.290...\n",
       "dtype: object"
      ]
     },
     "metadata": {},
     "execution_count": 15
    }
   ],
   "source": [
    "# See Format of returned Value --> It is series of tuples, each tuple has the returned values for that group\n",
    "val2"
   ]
  },
  {
   "cell_type": "markdown",
   "metadata": {},
   "source": [
    "### Function returning tuple (mixed values)\n",
    "\n",
    "#### Without Unpacking"
   ]
  },
  {
   "cell_type": "code",
   "execution_count": 16,
   "metadata": {},
   "outputs": [
    {
     "output_type": "stream",
     "name": "stdout",
     "text": [
      "Wall time: 26.1 s\n"
     ]
    }
   ],
   "source": [
    "%time val1 = grouped_data.apply(stats_return_tuple_mixed1)"
   ]
  },
  {
   "cell_type": "code",
   "execution_count": 17,
   "metadata": {},
   "outputs": [
    {
     "output_type": "stream",
     "name": "stdout",
     "text": [
      "Wall time: 5.7 s\n"
     ]
    }
   ],
   "source": [
    "%time val2 = apply_grouped_parallel_with_args(grouped_data, stats_return_tuple_mixed1)"
   ]
  },
  {
   "cell_type": "code",
   "execution_count": 18,
   "metadata": {},
   "outputs": [
    {
     "output_type": "execute_result",
     "data": {
      "text/plain": [
       "A    ([mean], [159.22585744641583], 0.2858545295891...\n",
       "B    ([mean], [184.9338029771704], 0.2840041552895567)\n",
       "C    ([mean], [203.2528640260677], 0.2921714892805938)\n",
       "D    ([mean], [188.79221139952386], 0.2877150581733...\n",
       "E    ([mean], [211.74024486839556], 0.2939455900663...\n",
       "F    ([mean], [182.53624363999742], 0.2934328384317...\n",
       "G    ([mean], [170.7127278634388], 0.2959122715482919)\n",
       "H    ([mean], [192.48557294023203], 0.2819615640612...\n",
       "I    ([mean], [172.98418638315152], 0.289501519793003)\n",
       "J    ([mean], [201.5210828520932], 0.2834551090710788)\n",
       "K    ([mean], [194.58059954417743], 0.2988105829626...\n",
       "L    ([mean], [192.79087426478083], 0.2935148808146...\n",
       "M    ([mean], [188.4697463617038], 0.2821656602782814)\n",
       "N    ([mean], [186.47089488194297], 0.2862064034936...\n",
       "O    ([mean], [199.53919832854854], 0.282687362934946)\n",
       "P    ([mean], [187.93905195437577], 0.3011649150842...\n",
       "Q    ([mean], [188.51448122670132], 0.2835641712497...\n",
       "R    ([mean], [204.39029360122856], 0.2908397417594...\n",
       "S    ([mean], [194.83211381922897], 0.2823218715205...\n",
       "T    ([mean], [199.43690125096586], 0.2915073504051...\n",
       "U    ([mean], [197.39300348175158], 0.3025433975855...\n",
       "V    ([mean], [202.54597045285044], 0.2832614272964...\n",
       "W    ([mean], [205.8294902702534], 0.2841154763246226)\n",
       "X    ([mean], [201.25656673520058], 0.2983570582765...\n",
       "Y    ([mean], [204.60516631827133], 0.2768174756080...\n",
       "Z    ([mean], [195.46034491154325], 0.2906070443924...\n",
       "dtype: object"
      ]
     },
     "metadata": {},
     "execution_count": 18
    }
   ],
   "source": [
    "val2"
   ]
  },
  {
   "cell_type": "code",
   "execution_count": 19,
   "metadata": {},
   "outputs": [
    {
     "output_type": "execute_result",
     "data": {
      "text/plain": [
       "group\n",
       "A    ([mean], [159.22585744641583], 0.2858545295891...\n",
       "B    ([mean], [184.9338029771704], 0.2840041552895567)\n",
       "C    ([mean], [203.2528640260677], 0.2921714892805938)\n",
       "D    ([mean], [188.79221139952386], 0.2877150581733...\n",
       "E    ([mean], [211.74024486839556], 0.2939455900663...\n",
       "F    ([mean], [182.53624363999742], 0.2934328384317...\n",
       "G    ([mean], [170.7127278634388], 0.2959122715482919)\n",
       "H    ([mean], [192.48557294023203], 0.2819615640612...\n",
       "I    ([mean], [172.98418638315152], 0.289501519793003)\n",
       "J    ([mean], [201.5210828520932], 0.2834551090710788)\n",
       "K    ([mean], [194.58059954417743], 0.2988105829626...\n",
       "L    ([mean], [192.79087426478083], 0.2935148808146...\n",
       "M    ([mean], [188.4697463617038], 0.2821656602782814)\n",
       "N    ([mean], [186.47089488194297], 0.2862064034936...\n",
       "O    ([mean], [199.53919832854854], 0.282687362934946)\n",
       "P    ([mean], [187.93905195437577], 0.3011649150842...\n",
       "Q    ([mean], [188.51448122670132], 0.2835641712497...\n",
       "R    ([mean], [204.39029360122856], 0.2908397417594...\n",
       "S    ([mean], [194.83211381922897], 0.2823218715205...\n",
       "T    ([mean], [199.43690125096586], 0.2915073504051...\n",
       "U    ([mean], [197.39300348175158], 0.3025433975855...\n",
       "V    ([mean], [202.54597045285044], 0.2832614272964...\n",
       "W    ([mean], [205.8294902702534], 0.2841154763246226)\n",
       "X    ([mean], [201.25656673520058], 0.2983570582765...\n",
       "Y    ([mean], [204.60516631827133], 0.2768174756080...\n",
       "Z    ([mean], [195.46034491154325], 0.2906070443924...\n",
       "dtype: object"
      ]
     },
     "metadata": {},
     "execution_count": 19
    }
   ],
   "source": [
    "val1"
   ]
  },
  {
   "cell_type": "markdown",
   "metadata": {},
   "source": [
    "#### With unpacking (single row in dataframe for each group)"
   ]
  },
  {
   "cell_type": "code",
   "execution_count": 20,
   "metadata": {},
   "outputs": [
    {
     "output_type": "stream",
     "name": "stdout",
     "text": [
      "Wall time: 5.64 s\n"
     ]
    }
   ],
   "source": [
    "%time val2 = apply_grouped_parallel_with_args(grouped_data, stats_return_tuple_mixed1, unpacked=True)"
   ]
  },
  {
   "cell_type": "code",
   "execution_count": 21,
   "metadata": {},
   "outputs": [
    {
     "output_type": "execute_result",
     "data": {
      "text/plain": [
       "(list, 3)"
      ]
     },
     "metadata": {},
     "execution_count": 21
    }
   ],
   "source": [
    "type(val2), len(val2)"
   ]
  },
  {
   "cell_type": "code",
   "execution_count": 22,
   "metadata": {},
   "outputs": [
    {
     "output_type": "execute_result",
     "data": {
      "text/plain": [
       "             mean    median\n",
       "group                      \n",
       "A     0  0.479596  0.449843\n",
       "B     0  0.484120  0.492872\n",
       "C     0  0.508132  0.498380\n",
       "D     0  0.496822  0.491868\n",
       "E     0  0.515183  0.510880\n",
       "F     0  0.492011  0.497677\n",
       "G     0  0.499160  0.524564\n",
       "H     0  0.505211  0.527550\n",
       "I     0  0.477857  0.443739\n",
       "J     0  0.516721  0.530277\n",
       "K     0  0.504095  0.485155\n",
       "L     0  0.514109  0.523121\n",
       "M     0  0.493376  0.507502\n",
       "N     0  0.516540  0.528321\n",
       "O     0  0.497604  0.472058\n",
       "P     0  0.481895  0.461607\n",
       "Q     0  0.523651  0.538493\n",
       "R     0  0.492507  0.465205\n",
       "S     0  0.497021  0.504777\n",
       "T     0  0.518018  0.532197\n",
       "U     0  0.476795  0.449842\n",
       "V     0  0.494015  0.490610\n",
       "W     0  0.514574  0.533793\n",
       "X     0  0.514723  0.519778\n",
       "Y     0  0.514083  0.516991\n",
       "Z     0  0.502469  0.498588"
      ],
      "text/html": "<div>\n<style scoped>\n    .dataframe tbody tr th:only-of-type {\n        vertical-align: middle;\n    }\n\n    .dataframe tbody tr th {\n        vertical-align: top;\n    }\n\n    .dataframe thead th {\n        text-align: right;\n    }\n</style>\n<table border=\"1\" class=\"dataframe\">\n  <thead>\n    <tr style=\"text-align: right;\">\n      <th></th>\n      <th></th>\n      <th>mean</th>\n      <th>median</th>\n    </tr>\n    <tr>\n      <th>group</th>\n      <th></th>\n      <th></th>\n      <th></th>\n    </tr>\n  </thead>\n  <tbody>\n    <tr>\n      <th>A</th>\n      <th>0</th>\n      <td>0.479596</td>\n      <td>0.449843</td>\n    </tr>\n    <tr>\n      <th>B</th>\n      <th>0</th>\n      <td>0.484120</td>\n      <td>0.492872</td>\n    </tr>\n    <tr>\n      <th>C</th>\n      <th>0</th>\n      <td>0.508132</td>\n      <td>0.498380</td>\n    </tr>\n    <tr>\n      <th>D</th>\n      <th>0</th>\n      <td>0.496822</td>\n      <td>0.491868</td>\n    </tr>\n    <tr>\n      <th>E</th>\n      <th>0</th>\n      <td>0.515183</td>\n      <td>0.510880</td>\n    </tr>\n    <tr>\n      <th>F</th>\n      <th>0</th>\n      <td>0.492011</td>\n      <td>0.497677</td>\n    </tr>\n    <tr>\n      <th>G</th>\n      <th>0</th>\n      <td>0.499160</td>\n      <td>0.524564</td>\n    </tr>\n    <tr>\n      <th>H</th>\n      <th>0</th>\n      <td>0.505211</td>\n      <td>0.527550</td>\n    </tr>\n    <tr>\n      <th>I</th>\n      <th>0</th>\n      <td>0.477857</td>\n      <td>0.443739</td>\n    </tr>\n    <tr>\n      <th>J</th>\n      <th>0</th>\n      <td>0.516721</td>\n      <td>0.530277</td>\n    </tr>\n    <tr>\n      <th>K</th>\n      <th>0</th>\n      <td>0.504095</td>\n      <td>0.485155</td>\n    </tr>\n    <tr>\n      <th>L</th>\n      <th>0</th>\n      <td>0.514109</td>\n      <td>0.523121</td>\n    </tr>\n    <tr>\n      <th>M</th>\n      <th>0</th>\n      <td>0.493376</td>\n      <td>0.507502</td>\n    </tr>\n    <tr>\n      <th>N</th>\n      <th>0</th>\n      <td>0.516540</td>\n      <td>0.528321</td>\n    </tr>\n    <tr>\n      <th>O</th>\n      <th>0</th>\n      <td>0.497604</td>\n      <td>0.472058</td>\n    </tr>\n    <tr>\n      <th>P</th>\n      <th>0</th>\n      <td>0.481895</td>\n      <td>0.461607</td>\n    </tr>\n    <tr>\n      <th>Q</th>\n      <th>0</th>\n      <td>0.523651</td>\n      <td>0.538493</td>\n    </tr>\n    <tr>\n      <th>R</th>\n      <th>0</th>\n      <td>0.492507</td>\n      <td>0.465205</td>\n    </tr>\n    <tr>\n      <th>S</th>\n      <th>0</th>\n      <td>0.497021</td>\n      <td>0.504777</td>\n    </tr>\n    <tr>\n      <th>T</th>\n      <th>0</th>\n      <td>0.518018</td>\n      <td>0.532197</td>\n    </tr>\n    <tr>\n      <th>U</th>\n      <th>0</th>\n      <td>0.476795</td>\n      <td>0.449842</td>\n    </tr>\n    <tr>\n      <th>V</th>\n      <th>0</th>\n      <td>0.494015</td>\n      <td>0.490610</td>\n    </tr>\n    <tr>\n      <th>W</th>\n      <th>0</th>\n      <td>0.514574</td>\n      <td>0.533793</td>\n    </tr>\n    <tr>\n      <th>X</th>\n      <th>0</th>\n      <td>0.514723</td>\n      <td>0.519778</td>\n    </tr>\n    <tr>\n      <th>Y</th>\n      <th>0</th>\n      <td>0.514083</td>\n      <td>0.516991</td>\n    </tr>\n    <tr>\n      <th>Z</th>\n      <th>0</th>\n      <td>0.502469</td>\n      <td>0.498588</td>\n    </tr>\n  </tbody>\n</table>\n</div>"
     },
     "metadata": {},
     "execution_count": 22
    }
   ],
   "source": [
    "val2[0] "
   ]
  },
  {
   "cell_type": "code",
   "execution_count": 23,
   "metadata": {},
   "outputs": [],
   "source": [
    "# val2[1]"
   ]
  },
  {
   "cell_type": "code",
   "execution_count": 24,
   "metadata": {},
   "outputs": [],
   "source": [
    "# val2[2]"
   ]
  },
  {
   "cell_type": "markdown",
   "metadata": {},
   "source": [
    "#### With unpacking (multiple rows in dataframe for each group)"
   ]
  },
  {
   "cell_type": "code",
   "execution_count": 25,
   "metadata": {},
   "outputs": [
    {
     "output_type": "stream",
     "name": "stdout",
     "text": [
      "Wall time: 5.71 s\n"
     ]
    }
   ],
   "source": [
    "%time val2 = apply_grouped_parallel_with_args(grouped_data, stats_return_tuple_mixed2, unpacked=True)"
   ]
  },
  {
   "cell_type": "code",
   "execution_count": 26,
   "metadata": {},
   "outputs": [
    {
     "output_type": "execute_result",
     "data": {
      "text/plain": [
       "(list, 3)"
      ]
     },
     "metadata": {},
     "execution_count": 26
    }
   ],
   "source": [
    "type(val2), len(val2)"
   ]
  },
  {
   "cell_type": "code",
   "execution_count": 27,
   "metadata": {},
   "outputs": [
    {
     "output_type": "execute_result",
     "data": {
      "text/plain": [
       "                 stats\n",
       "group                 \n",
       "A     mean    0.479596\n",
       "      median  0.449843\n",
       "B     mean    0.484120\n",
       "      median  0.492872\n",
       "C     mean    0.508132\n",
       "      median  0.498380\n",
       "D     mean    0.496822\n",
       "      median  0.491868\n",
       "E     mean    0.515183\n",
       "      median  0.510880\n",
       "F     mean    0.492011\n",
       "      median  0.497677\n",
       "G     mean    0.499160\n",
       "      median  0.524564\n",
       "H     mean    0.505211\n",
       "      median  0.527550\n",
       "I     mean    0.477857\n",
       "      median  0.443739\n",
       "J     mean    0.516721\n",
       "      median  0.530277\n",
       "K     mean    0.504095\n",
       "      median  0.485155\n",
       "L     mean    0.514109\n",
       "      median  0.523121\n",
       "M     mean    0.493376\n",
       "      median  0.507502\n",
       "N     mean    0.516540\n",
       "      median  0.528321\n",
       "O     mean    0.497604\n",
       "      median  0.472058\n",
       "P     mean    0.481895\n",
       "      median  0.461607\n",
       "Q     mean    0.523651\n",
       "      median  0.538493\n",
       "R     mean    0.492507\n",
       "      median  0.465205\n",
       "S     mean    0.497021\n",
       "      median  0.504777\n",
       "T     mean    0.518018\n",
       "      median  0.532197\n",
       "U     mean    0.476795\n",
       "      median  0.449842\n",
       "V     mean    0.494015\n",
       "      median  0.490610\n",
       "W     mean    0.514574\n",
       "      median  0.533793\n",
       "X     mean    0.514723\n",
       "      median  0.519778\n",
       "Y     mean    0.514083\n",
       "      median  0.516991\n",
       "Z     mean    0.502469\n",
       "      median  0.498588"
      ],
      "text/html": "<div>\n<style scoped>\n    .dataframe tbody tr th:only-of-type {\n        vertical-align: middle;\n    }\n\n    .dataframe tbody tr th {\n        vertical-align: top;\n    }\n\n    .dataframe thead th {\n        text-align: right;\n    }\n</style>\n<table border=\"1\" class=\"dataframe\">\n  <thead>\n    <tr style=\"text-align: right;\">\n      <th></th>\n      <th></th>\n      <th>stats</th>\n    </tr>\n    <tr>\n      <th>group</th>\n      <th></th>\n      <th></th>\n    </tr>\n  </thead>\n  <tbody>\n    <tr>\n      <th rowspan=\"2\" valign=\"top\">A</th>\n      <th>mean</th>\n      <td>0.479596</td>\n    </tr>\n    <tr>\n      <th>median</th>\n      <td>0.449843</td>\n    </tr>\n    <tr>\n      <th rowspan=\"2\" valign=\"top\">B</th>\n      <th>mean</th>\n      <td>0.484120</td>\n    </tr>\n    <tr>\n      <th>median</th>\n      <td>0.492872</td>\n    </tr>\n    <tr>\n      <th rowspan=\"2\" valign=\"top\">C</th>\n      <th>mean</th>\n      <td>0.508132</td>\n    </tr>\n    <tr>\n      <th>median</th>\n      <td>0.498380</td>\n    </tr>\n    <tr>\n      <th rowspan=\"2\" valign=\"top\">D</th>\n      <th>mean</th>\n      <td>0.496822</td>\n    </tr>\n    <tr>\n      <th>median</th>\n      <td>0.491868</td>\n    </tr>\n    <tr>\n      <th rowspan=\"2\" valign=\"top\">E</th>\n      <th>mean</th>\n      <td>0.515183</td>\n    </tr>\n    <tr>\n      <th>median</th>\n      <td>0.510880</td>\n    </tr>\n    <tr>\n      <th rowspan=\"2\" valign=\"top\">F</th>\n      <th>mean</th>\n      <td>0.492011</td>\n    </tr>\n    <tr>\n      <th>median</th>\n      <td>0.497677</td>\n    </tr>\n    <tr>\n      <th rowspan=\"2\" valign=\"top\">G</th>\n      <th>mean</th>\n      <td>0.499160</td>\n    </tr>\n    <tr>\n      <th>median</th>\n      <td>0.524564</td>\n    </tr>\n    <tr>\n      <th rowspan=\"2\" valign=\"top\">H</th>\n      <th>mean</th>\n      <td>0.505211</td>\n    </tr>\n    <tr>\n      <th>median</th>\n      <td>0.527550</td>\n    </tr>\n    <tr>\n      <th rowspan=\"2\" valign=\"top\">I</th>\n      <th>mean</th>\n      <td>0.477857</td>\n    </tr>\n    <tr>\n      <th>median</th>\n      <td>0.443739</td>\n    </tr>\n    <tr>\n      <th rowspan=\"2\" valign=\"top\">J</th>\n      <th>mean</th>\n      <td>0.516721</td>\n    </tr>\n    <tr>\n      <th>median</th>\n      <td>0.530277</td>\n    </tr>\n    <tr>\n      <th rowspan=\"2\" valign=\"top\">K</th>\n      <th>mean</th>\n      <td>0.504095</td>\n    </tr>\n    <tr>\n      <th>median</th>\n      <td>0.485155</td>\n    </tr>\n    <tr>\n      <th rowspan=\"2\" valign=\"top\">L</th>\n      <th>mean</th>\n      <td>0.514109</td>\n    </tr>\n    <tr>\n      <th>median</th>\n      <td>0.523121</td>\n    </tr>\n    <tr>\n      <th rowspan=\"2\" valign=\"top\">M</th>\n      <th>mean</th>\n      <td>0.493376</td>\n    </tr>\n    <tr>\n      <th>median</th>\n      <td>0.507502</td>\n    </tr>\n    <tr>\n      <th rowspan=\"2\" valign=\"top\">N</th>\n      <th>mean</th>\n      <td>0.516540</td>\n    </tr>\n    <tr>\n      <th>median</th>\n      <td>0.528321</td>\n    </tr>\n    <tr>\n      <th rowspan=\"2\" valign=\"top\">O</th>\n      <th>mean</th>\n      <td>0.497604</td>\n    </tr>\n    <tr>\n      <th>median</th>\n      <td>0.472058</td>\n    </tr>\n    <tr>\n      <th rowspan=\"2\" valign=\"top\">P</th>\n      <th>mean</th>\n      <td>0.481895</td>\n    </tr>\n    <tr>\n      <th>median</th>\n      <td>0.461607</td>\n    </tr>\n    <tr>\n      <th rowspan=\"2\" valign=\"top\">Q</th>\n      <th>mean</th>\n      <td>0.523651</td>\n    </tr>\n    <tr>\n      <th>median</th>\n      <td>0.538493</td>\n    </tr>\n    <tr>\n      <th rowspan=\"2\" valign=\"top\">R</th>\n      <th>mean</th>\n      <td>0.492507</td>\n    </tr>\n    <tr>\n      <th>median</th>\n      <td>0.465205</td>\n    </tr>\n    <tr>\n      <th rowspan=\"2\" valign=\"top\">S</th>\n      <th>mean</th>\n      <td>0.497021</td>\n    </tr>\n    <tr>\n      <th>median</th>\n      <td>0.504777</td>\n    </tr>\n    <tr>\n      <th rowspan=\"2\" valign=\"top\">T</th>\n      <th>mean</th>\n      <td>0.518018</td>\n    </tr>\n    <tr>\n      <th>median</th>\n      <td>0.532197</td>\n    </tr>\n    <tr>\n      <th rowspan=\"2\" valign=\"top\">U</th>\n      <th>mean</th>\n      <td>0.476795</td>\n    </tr>\n    <tr>\n      <th>median</th>\n      <td>0.449842</td>\n    </tr>\n    <tr>\n      <th rowspan=\"2\" valign=\"top\">V</th>\n      <th>mean</th>\n      <td>0.494015</td>\n    </tr>\n    <tr>\n      <th>median</th>\n      <td>0.490610</td>\n    </tr>\n    <tr>\n      <th rowspan=\"2\" valign=\"top\">W</th>\n      <th>mean</th>\n      <td>0.514574</td>\n    </tr>\n    <tr>\n      <th>median</th>\n      <td>0.533793</td>\n    </tr>\n    <tr>\n      <th rowspan=\"2\" valign=\"top\">X</th>\n      <th>mean</th>\n      <td>0.514723</td>\n    </tr>\n    <tr>\n      <th>median</th>\n      <td>0.519778</td>\n    </tr>\n    <tr>\n      <th rowspan=\"2\" valign=\"top\">Y</th>\n      <th>mean</th>\n      <td>0.514083</td>\n    </tr>\n    <tr>\n      <th>median</th>\n      <td>0.516991</td>\n    </tr>\n    <tr>\n      <th rowspan=\"2\" valign=\"top\">Z</th>\n      <th>mean</th>\n      <td>0.502469</td>\n    </tr>\n    <tr>\n      <th>median</th>\n      <td>0.498588</td>\n    </tr>\n  </tbody>\n</table>\n</div>"
     },
     "metadata": {},
     "execution_count": 27
    }
   ],
   "source": [
    "val2[0]"
   ]
  },
  {
   "cell_type": "markdown",
   "metadata": {},
   "source": [
    "### With Additional Arguments passed to the apply function"
   ]
  },
  {
   "cell_type": "code",
   "execution_count": 28,
   "metadata": {},
   "outputs": [
    {
     "output_type": "stream",
     "name": "stdout",
     "text": [
      "Wall time: 5.94 s\n"
     ]
    }
   ],
   "source": [
    "%time val2 = apply_grouped_parallel_with_args(grouped_data, stats_return_tuple_mixed1, unpacked=True, mean_offset=2)"
   ]
  },
  {
   "cell_type": "code",
   "execution_count": 29,
   "metadata": {},
   "outputs": [
    {
     "output_type": "execute_result",
     "data": {
      "text/plain": [
       "             mean    median\n",
       "group                      \n",
       "A     0  2.479596  0.449843\n",
       "B     0  2.484120  0.492872\n",
       "C     0  2.508132  0.498380\n",
       "D     0  2.496822  0.491868\n",
       "E     0  2.515183  0.510880\n",
       "F     0  2.492011  0.497677\n",
       "G     0  2.499160  0.524564\n",
       "H     0  2.505211  0.527550\n",
       "I     0  2.477857  0.443739\n",
       "J     0  2.516721  0.530277\n",
       "K     0  2.504095  0.485155\n",
       "L     0  2.514109  0.523121\n",
       "M     0  2.493376  0.507502\n",
       "N     0  2.516540  0.528321\n",
       "O     0  2.497604  0.472058\n",
       "P     0  2.481895  0.461607\n",
       "Q     0  2.523651  0.538493\n",
       "R     0  2.492507  0.465205\n",
       "S     0  2.497021  0.504777\n",
       "T     0  2.518018  0.532197\n",
       "U     0  2.476795  0.449842\n",
       "V     0  2.494015  0.490610\n",
       "W     0  2.514574  0.533793\n",
       "X     0  2.514723  0.519778\n",
       "Y     0  2.514083  0.516991\n",
       "Z     0  2.502469  0.498588"
      ],
      "text/html": "<div>\n<style scoped>\n    .dataframe tbody tr th:only-of-type {\n        vertical-align: middle;\n    }\n\n    .dataframe tbody tr th {\n        vertical-align: top;\n    }\n\n    .dataframe thead th {\n        text-align: right;\n    }\n</style>\n<table border=\"1\" class=\"dataframe\">\n  <thead>\n    <tr style=\"text-align: right;\">\n      <th></th>\n      <th></th>\n      <th>mean</th>\n      <th>median</th>\n    </tr>\n    <tr>\n      <th>group</th>\n      <th></th>\n      <th></th>\n      <th></th>\n    </tr>\n  </thead>\n  <tbody>\n    <tr>\n      <th>A</th>\n      <th>0</th>\n      <td>2.479596</td>\n      <td>0.449843</td>\n    </tr>\n    <tr>\n      <th>B</th>\n      <th>0</th>\n      <td>2.484120</td>\n      <td>0.492872</td>\n    </tr>\n    <tr>\n      <th>C</th>\n      <th>0</th>\n      <td>2.508132</td>\n      <td>0.498380</td>\n    </tr>\n    <tr>\n      <th>D</th>\n      <th>0</th>\n      <td>2.496822</td>\n      <td>0.491868</td>\n    </tr>\n    <tr>\n      <th>E</th>\n      <th>0</th>\n      <td>2.515183</td>\n      <td>0.510880</td>\n    </tr>\n    <tr>\n      <th>F</th>\n      <th>0</th>\n      <td>2.492011</td>\n      <td>0.497677</td>\n    </tr>\n    <tr>\n      <th>G</th>\n      <th>0</th>\n      <td>2.499160</td>\n      <td>0.524564</td>\n    </tr>\n    <tr>\n      <th>H</th>\n      <th>0</th>\n      <td>2.505211</td>\n      <td>0.527550</td>\n    </tr>\n    <tr>\n      <th>I</th>\n      <th>0</th>\n      <td>2.477857</td>\n      <td>0.443739</td>\n    </tr>\n    <tr>\n      <th>J</th>\n      <th>0</th>\n      <td>2.516721</td>\n      <td>0.530277</td>\n    </tr>\n    <tr>\n      <th>K</th>\n      <th>0</th>\n      <td>2.504095</td>\n      <td>0.485155</td>\n    </tr>\n    <tr>\n      <th>L</th>\n      <th>0</th>\n      <td>2.514109</td>\n      <td>0.523121</td>\n    </tr>\n    <tr>\n      <th>M</th>\n      <th>0</th>\n      <td>2.493376</td>\n      <td>0.507502</td>\n    </tr>\n    <tr>\n      <th>N</th>\n      <th>0</th>\n      <td>2.516540</td>\n      <td>0.528321</td>\n    </tr>\n    <tr>\n      <th>O</th>\n      <th>0</th>\n      <td>2.497604</td>\n      <td>0.472058</td>\n    </tr>\n    <tr>\n      <th>P</th>\n      <th>0</th>\n      <td>2.481895</td>\n      <td>0.461607</td>\n    </tr>\n    <tr>\n      <th>Q</th>\n      <th>0</th>\n      <td>2.523651</td>\n      <td>0.538493</td>\n    </tr>\n    <tr>\n      <th>R</th>\n      <th>0</th>\n      <td>2.492507</td>\n      <td>0.465205</td>\n    </tr>\n    <tr>\n      <th>S</th>\n      <th>0</th>\n      <td>2.497021</td>\n      <td>0.504777</td>\n    </tr>\n    <tr>\n      <th>T</th>\n      <th>0</th>\n      <td>2.518018</td>\n      <td>0.532197</td>\n    </tr>\n    <tr>\n      <th>U</th>\n      <th>0</th>\n      <td>2.476795</td>\n      <td>0.449842</td>\n    </tr>\n    <tr>\n      <th>V</th>\n      <th>0</th>\n      <td>2.494015</td>\n      <td>0.490610</td>\n    </tr>\n    <tr>\n      <th>W</th>\n      <th>0</th>\n      <td>2.514574</td>\n      <td>0.533793</td>\n    </tr>\n    <tr>\n      <th>X</th>\n      <th>0</th>\n      <td>2.514723</td>\n      <td>0.519778</td>\n    </tr>\n    <tr>\n      <th>Y</th>\n      <th>0</th>\n      <td>2.514083</td>\n      <td>0.516991</td>\n    </tr>\n    <tr>\n      <th>Z</th>\n      <th>0</th>\n      <td>2.502469</td>\n      <td>0.498588</td>\n    </tr>\n  </tbody>\n</table>\n</div>"
     },
     "metadata": {},
     "execution_count": 29
    }
   ],
   "source": [
    "val2[0]"
   ]
  }
 ],
 "metadata": {
  "kernelspec": {
   "display_name": "Python 3.6.10 64-bit ('msds_capstone': conda)",
   "language": "python",
   "name": "python361064bitmsdscapstoneconda8d6407b59370461aa891780727d57a0a"
  },
  "language_info": {
   "codemirror_mode": {
    "name": "ipython",
    "version": 3
   },
   "file_extension": ".py",
   "mimetype": "text/x-python",
   "name": "python",
   "nbconvert_exporter": "python",
   "pygments_lexer": "ipython3",
   "version": "3.6.10-final"
  }
 },
 "nbformat": 4,
 "nbformat_minor": 4
}