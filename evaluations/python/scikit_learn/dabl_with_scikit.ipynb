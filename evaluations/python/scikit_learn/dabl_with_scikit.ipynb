{
 "cells": [
  {
   "cell_type": "markdown",
   "metadata": {},
   "source": [
    "# Notes:\n",
    "* **Not anywhere close to production ready**\n",
    "\n",
    "# Links\n",
    "\n",
    "* https://amueller.github.io/dabl/dev/"
   ]
  },
  {
   "cell_type": "code",
   "execution_count": 1,
   "metadata": {},
   "outputs": [],
   "source": [
    "import dabl"
   ]
  },
  {
   "cell_type": "code",
   "execution_count": 2,
   "metadata": {},
   "outputs": [],
   "source": [
    "from sklearn.model_selection import train_test_split\n",
    "from sklearn.datasets import load_digits"
   ]
  },
  {
   "cell_type": "code",
   "execution_count": 3,
   "metadata": {},
   "outputs": [],
   "source": [
    "X, y = load_digits(return_X_y=True)\n",
    "X_train, X_test, y_train, y_test = train_test_split(X, y, random_state=1)"
   ]
  },
  {
   "cell_type": "code",
   "execution_count": 4,
   "metadata": {},
   "outputs": [
    {
     "name": "stderr",
     "output_type": "stream",
     "text": [
      "C:\\ProgramData\\Anaconda3\\envs\\NonTensorFlow\\lib\\site-packages\\dabl\\preprocessing.py:318: UserWarning: Discarding near-constant features: [0, 7, 8, 15, 16, 23, 24, 31, 32, 39, 40, 47, 48, 56]\n",
      "  near_constant.index[near_constant].tolist()))\n"
     ]
    },
    {
     "name": "stdout",
     "output_type": "stream",
     "text": [
      "Running DummyClassifier(strategy='prior')\n",
      "accuracy: 0.106 f1_macro: 0.019 precision_macro: 0.011 recall_macro: 0.100\n",
      "=== new best DummyClassifier(strategy='prior') (using recall_macro):\n",
      "accuracy: 0.106 f1_macro: 0.019 precision_macro: 0.011 recall_macro: 0.100\n",
      "\n",
      "Running GaussianNB()\n",
      "accuracy: 0.819 f1_macro: 0.822 precision_macro: 0.836 recall_macro: 0.820\n",
      "=== new best GaussianNB() (using recall_macro):\n",
      "accuracy: 0.819 f1_macro: 0.822 precision_macro: 0.836 recall_macro: 0.820\n",
      "\n",
      "Running MultinomialNB()\n",
      "accuracy: 0.903 f1_macro: 0.904 precision_macro: 0.908 recall_macro: 0.904\n",
      "=== new best MultinomialNB() (using recall_macro):\n",
      "accuracy: 0.903 f1_macro: 0.904 precision_macro: 0.908 recall_macro: 0.904\n",
      "\n",
      "Running DecisionTreeClassifier(class_weight='balanced', max_depth=1)\n",
      "accuracy: 0.196 f1_macro: 0.100 precision_macro: 0.077 recall_macro: 0.199\n",
      "Running DecisionTreeClassifier(class_weight='balanced', max_depth=10)\n",
      "accuracy: 0.829 f1_macro: 0.829 precision_macro: 0.836 recall_macro: 0.830\n",
      "Running DecisionTreeClassifier(class_weight='balanced', min_impurity_decrease=0.01)\n",
      "accuracy: 0.782 f1_macro: 0.784 precision_macro: 0.794 recall_macro: 0.784\n",
      "Running LogisticRegression(C=0.1, class_weight='balanced', max_iter=1000)\n",
      "accuracy: 0.965 f1_macro: 0.965 precision_macro: 0.967 recall_macro: 0.965\n",
      "=== new best LogisticRegression(C=0.1, class_weight='balanced', max_iter=1000) (using recall_macro):\n",
      "accuracy: 0.965 f1_macro: 0.965 precision_macro: 0.967 recall_macro: 0.965\n",
      "\n",
      "Running LogisticRegression(class_weight='balanced', max_iter=1000)\n",
      "accuracy: 0.970 f1_macro: 0.970 precision_macro: 0.971 recall_macro: 0.970\n",
      "=== new best LogisticRegression(class_weight='balanced', max_iter=1000) (using recall_macro):\n",
      "accuracy: 0.970 f1_macro: 0.970 precision_macro: 0.971 recall_macro: 0.970\n",
      "\n",
      "\n",
      "Best model:\n",
      "LogisticRegression(class_weight='balanced', max_iter=1000)\n",
      "Best Scores:\n",
      "accuracy: 0.970 f1_macro: 0.970 precision_macro: 0.971 recall_macro: 0.970\n",
      "Accuracy score 0.98\n"
     ]
    }
   ],
   "source": [
    "sc = dabl.SimpleClassifier().fit(X_train, y_train)\n",
    "print(\"Accuracy score\", sc.score(X_test, y_test))"
   ]
  },
  {
   "cell_type": "code",
   "execution_count": null,
   "metadata": {},
   "outputs": [],
   "source": []
  }
 ],
 "metadata": {
  "kernelspec": {
   "display_name": "Python 3",
   "language": "python",
   "name": "python3"
  },
  "language_info": {
   "codemirror_mode": {
    "name": "ipython",
    "version": 3
   },
   "file_extension": ".py",
   "mimetype": "text/x-python",
   "name": "python",
   "nbconvert_exporter": "python",
   "pygments_lexer": "ipython3",
   "version": "3.7.2"
  }
 },
 "nbformat": 4,
 "nbformat_minor": 4
}
