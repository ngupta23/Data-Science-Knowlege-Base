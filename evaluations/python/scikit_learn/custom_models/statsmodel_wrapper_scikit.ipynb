{
 "cells": [
  {
   "cell_type": "code",
   "execution_count": 3,
   "metadata": {},
   "outputs": [],
   "source": [
    "import statsmodels.api as sm\n",
    "from sklearn.base import BaseEstimator, RegressorMixin\n",
    "import pandas as pd\n",
    "import numpy as np\n",
    "\n",
    "from sklearn.utils.multiclass import check_classification_targets\n",
    "from sklearn.utils.validation import check_X_y, check_is_fitted, check_array\n",
    "from sklearn.utils.multiclass import unique_labels\n",
    "from sklearn.utils.estimator_checks import check_estimator"
   ]
  },
  {
   "cell_type": "code",
   "execution_count": 4,
   "metadata": {},
   "outputs": [],
   "source": [
    "class MyLinearRegression(BaseEstimator, RegressorMixin):\n",
    "    def __init__(self, fit_intercept=True):\n",
    "\n",
    "        self.fit_intercept = fit_intercept\n",
    "\n",
    "\n",
    "    \"\"\"\n",
    "    Parameters\n",
    "    ------------\n",
    "    column_names: list\n",
    "            It is an optional value, such that this class knows \n",
    "            what is the name of the feature to associate to \n",
    "            each column of X. This is useful if you use the method\n",
    "            summary(), so that it can show the feature name for each\n",
    "            coefficient\n",
    "    \"\"\" \n",
    "    def fit(self, X, y, column_names=() ):\n",
    "\n",
    "        if self.fit_intercept:\n",
    "            X = sm.add_constant(X)\n",
    "\n",
    "        # Check that X and y have correct shape\n",
    "        X, y = check_X_y(X, y)\n",
    "\n",
    "\n",
    "        self.X_ = X\n",
    "        self.y_ = y\n",
    "\n",
    "        if len(column_names) != 0:\n",
    "            cols = column_names.copy()\n",
    "            cols = list(cols)\n",
    "            X = pd.DataFrame(X)\n",
    "            cols = column_names.copy()\n",
    "            cols.insert(0,'intercept')\n",
    "            print('X ', X)\n",
    "            X.columns = cols\n",
    "\n",
    "        self.model_ = sm.OLS(y, X)\n",
    "        self.results_ = self.model_.fit()\n",
    "        return self\n",
    "\n",
    "\n",
    "\n",
    "    def predict(self, X):\n",
    "        # Check is fit had been called\n",
    "        check_is_fitted(self, 'model_')\n",
    "\n",
    "        # Input validation\n",
    "        X = check_array(X)\n",
    "\n",
    "        if self.fit_intercept:\n",
    "            X = sm.add_constant(X)\n",
    "        return self.results_.predict(X)\n",
    "\n",
    "\n",
    "    def get_params(self, deep = False):\n",
    "        return {'fit_intercept':self.fit_intercept}\n",
    "\n",
    "\n",
    "    def summary(self):\n",
    "        print(self.results_.summary() )\n"
   ]
  },
  {
   "cell_type": "code",
   "execution_count": null,
   "metadata": {},
   "outputs": [],
   "source": []
  },
  {
   "cell_type": "code",
   "execution_count": null,
   "metadata": {},
   "outputs": [],
   "source": [
    "Example of use:\n",
    "\n",
    "cols = ['feature1','feature2']\n",
    "X_train = df_train[cols].values\n",
    "X_test = df_test[cols].values\n",
    "y_train = df_train['label']\n",
    "y_test = df_test['label']\n",
    "model = MyLinearRegression()\n",
    "model.fit(X_train, y_train)\n",
    "model.summary()\n",
    "model.predict(X_test)"
   ]
  }
 ],
 "metadata": {
  "kernelspec": {
   "display_name": "Python 3",
   "language": "python",
   "name": "python3"
  },
  "language_info": {
   "codemirror_mode": {
    "name": "ipython",
    "version": 3
   },
   "file_extension": ".py",
   "mimetype": "text/x-python",
   "name": "python",
   "nbconvert_exporter": "python",
   "pygments_lexer": "ipython3",
   "version": "3.7.4"
  }
 },
 "nbformat": 4,
 "nbformat_minor": 2
}
