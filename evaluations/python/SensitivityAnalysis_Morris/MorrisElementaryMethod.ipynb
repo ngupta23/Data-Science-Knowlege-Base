{
 "cells": [
  {
   "cell_type": "code",
   "execution_count": 1,
   "metadata": {},
   "outputs": [],
   "source": [
    "# Basics: https://en.wikipedia.org/wiki/Elementary_effects_method\n",
    "\n",
    "# Sensitivity Analysis Examples: http://www.daetools.com/docs/tutorials-sa.html\n",
    "# SALab: https://github.com/SALib/SALib"
   ]
  },
  {
   "cell_type": "code",
   "execution_count": 2,
   "metadata": {},
   "outputs": [],
   "source": [
    "from SALib.sample import saltelli\n",
    "from SALib.analyze import sobol\n",
    "from SALib.test_functions import Ishigami\n",
    "import numpy as np"
   ]
  },
  {
   "cell_type": "code",
   "execution_count": 3,
   "metadata": {},
   "outputs": [
    {
     "data": {
      "text/plain": [
       "{'num_vars': 3,\n",
       " 'names': ['x1', 'x2', 'x3'],\n",
       " 'bounds': [[-3.141592653589793, 3.141592653589793],\n",
       "  [-3.141592653589793, 3.141592653589793],\n",
       "  [-3.141592653589793, 3.141592653589793]]}"
      ]
     },
     "execution_count": 3,
     "metadata": {},
     "output_type": "execute_result"
    }
   ],
   "source": [
    "problem = {\n",
    "  'num_vars': 3,\n",
    "  'names': ['x1', 'x2', 'x3'],\n",
    "  'bounds': [[-np.pi, np.pi]]*3\n",
    "}\n",
    "problem\n",
    "\n"
   ]
  },
  {
   "cell_type": "code",
   "execution_count": 4,
   "metadata": {},
   "outputs": [
    {
     "data": {
      "text/plain": [
       "(8000, 3)"
      ]
     },
     "execution_count": 4,
     "metadata": {},
     "output_type": "execute_result"
    }
   ],
   "source": [
    "# Generate samples\n",
    "param_values = saltelli.sample(problem, 1000)\n",
    "param_values.shape"
   ]
  },
  {
   "cell_type": "code",
   "execution_count": 5,
   "metadata": {},
   "outputs": [
    {
     "data": {
      "text/plain": [
       "(8000,)"
      ]
     },
     "execution_count": 5,
     "metadata": {},
     "output_type": "execute_result"
    }
   ],
   "source": [
    "# Run model (example)\n",
    "Y = Ishigami.evaluate(param_values)\n",
    "Y.shape"
   ]
  },
  {
   "cell_type": "code",
   "execution_count": 6,
   "metadata": {},
   "outputs": [
    {
     "name": "stdout",
     "output_type": "stream",
     "text": [
      "Parameter S1 S1_conf ST ST_conf\n",
      "x1 0.307975 0.060112 0.560137 0.089964\n",
      "x2 0.447767 0.057053 0.438722 0.042664\n",
      "x3 -0.004255 0.055425 0.242845 0.029605\n",
      "\n",
      "Parameter_1 Parameter_2 S2 S2_conf\n",
      "x1 x2 0.012205 0.089247\n",
      "x1 x3 0.251526 0.111786\n",
      "x2 x3 -0.009954 0.077167\n"
     ]
    }
   ],
   "source": [
    "# Perform analysis\n",
    "Si = sobol.analyze(problem, Y, print_to_console=True)\n",
    "# Returns a dictionary with keys 'S1', 'S1_conf', 'ST', and 'ST_conf'\n",
    "# (first and total-order indices with bootstrap confidence intervals)"
   ]
  },
  {
   "cell_type": "markdown",
   "metadata": {},
   "source": [
    "### Morris Method"
   ]
  },
  {
   "cell_type": "code",
   "execution_count": 7,
   "metadata": {},
   "outputs": [],
   "source": [
    "# https://github.com/SALib/SALib/blob/master/examples/morris/morris.py\n",
    "\n",
    "import sys\n",
    "\n",
    "from SALib.analyze import morris\n",
    "from SALib.sample.morris import sample\n",
    "from SALib.test_functions import Sobol_G\n",
    "from SALib.util import read_param_file\n",
    "from SALib.plotting.morris import horizontal_bar_plot, covariance_plot, \\\n",
    "    sample_histograms\n",
    "import matplotlib.pyplot as plt"
   ]
  },
  {
   "cell_type": "code",
   "execution_count": 8,
   "metadata": {},
   "outputs": [
    {
     "data": {
      "text/plain": [
       "{'num_vars': 8,\n",
       " 'names': ['x1', 'x2', 'x3', 'x4', 'x5', 'x6', 'x7', 'x8'],\n",
       " 'groups': None,\n",
       " 'bounds': [[0.0, 1.0],\n",
       "  [0.0, 1.0],\n",
       "  [0.0, 1.0],\n",
       "  [0.0, 1.0],\n",
       "  [0.0, 1.0],\n",
       "  [0.0, 1.0],\n",
       "  [0.0, 1.0],\n",
       "  [0.0, 1.0]]}"
      ]
     },
     "execution_count": 8,
     "metadata": {},
     "output_type": "execute_result"
    }
   ],
   "source": [
    "# sys.path.append('../..')\n",
    "\n",
    "# # Read the parameter range file and generate samples\n",
    "# problem = read_param_file('../../src/SALib/test_functions/params/Sobol_G.txt')\n",
    "# # or define manually without a parameter file:\n",
    "problem = {\n",
    " 'num_vars': 8,\n",
    " 'names': ['x1', 'x2', 'x3', 'x4', 'x5', 'x6', 'x7', 'x8'],\n",
    " 'groups': None,\n",
    " 'bounds': [[0.0, 1.0],\n",
    "            [0.0, 1.0],\n",
    "            [0.0, 1.0],\n",
    "            [0.0, 1.0],\n",
    "            [0.0, 1.0],\n",
    "            [0.0, 1.0],\n",
    "            [0.0, 1.0],\n",
    "            [0.0, 1.0]]\n",
    "}\n",
    "# Files with a 4th column for \"group name\" will be detected automatically, e.g.\n",
    "# param_file = '../../src/SALib/test_functions/params/Ishigami_groups.txt'\n",
    "problem"
   ]
  },
  {
   "cell_type": "code",
   "execution_count": 93,
   "metadata": {},
   "outputs": [
    {
     "data": {
      "text/plain": [
       "(9000, 8)"
      ]
     },
     "execution_count": 93,
     "metadata": {},
     "output_type": "execute_result"
    }
   ],
   "source": [
    "# Generate samples\n",
    "param_values = sample(problem, N=1000, num_levels=4,\n",
    "                      optimal_trajectories=None)\n",
    "param_values.shape\n",
    "# To use optimized trajectories (brute force method),\n",
    "# give an integer value for optimal_trajectories"
   ]
  },
  {
   "cell_type": "code",
   "execution_count": 10,
   "metadata": {},
   "outputs": [
    {
     "data": {
      "text/plain": [
       "(9000,)"
      ]
     },
     "execution_count": 10,
     "metadata": {},
     "output_type": "execute_result"
    }
   ],
   "source": [
    "# Run the \"model\" -- this will happen offline for external models\n",
    "Y = Sobol_G.evaluate(param_values)\n",
    "Y.shape"
   ]
  },
  {
   "cell_type": "code",
   "execution_count": 22,
   "metadata": {},
   "outputs": [
    {
     "name": "stdout",
     "output_type": "stream",
     "text": [
      "Parameter                         Mu_Star         Mu    Mu_Star_Conf      Sigma\n",
      "x1                                  2.605     -0.000           0.047      2.733\n",
      "x2                                  1.474      0.032           0.050      1.663\n",
      "x3                                  0.595      0.029           0.020      0.696\n",
      "x4                                  0.333     -0.013           0.014      0.388\n",
      "x5                                  0.034      0.001           0.001      0.040\n",
      "x6                                  0.035      0.002           0.001      0.041\n",
      "x7                                  0.035      0.001           0.001      0.041\n",
      "x8                                  0.034     -0.001           0.001      0.040\n"
     ]
    }
   ],
   "source": [
    "# Perform the sensitivity analysis using the model output\n",
    "# Specify which column of the output file to analyze (zero-indexed)\n",
    "Si = morris.analyze(problem, param_values, Y, conf_level=0.95,\n",
    "                    print_to_console=True,\n",
    "                    num_levels=4, num_resamples=100)\n",
    "# Returns a dictionary with keys 'mu', 'mu_star', 'sigma', and 'mu_star_conf'\n",
    "# e.g. Si['mu_star'] contains the mu* value for each parameter, in the\n",
    "# same order as the parameter file"
   ]
  },
  {
   "cell_type": "code",
   "execution_count": 41,
   "metadata": {},
   "outputs": [],
   "source": [
    "#Si"
   ]
  },
  {
   "cell_type": "code",
   "execution_count": 189,
   "metadata": {},
   "outputs": [],
   "source": [
    "def covariance_plot(ax, Si, param_dict, unit=\"\", annot=True):\n",
    "    '''\n",
    "    Plots mu* against sigma or the 95% confidence interval\n",
    "    Modified by Nikhil to annotate the covariance plot with the parameter name\n",
    "    '''\n",
    "\n",
    "    if Si['sigma'] is not None:\n",
    "        # sigma is not present if using morris groups\n",
    "        y = Si['sigma']\n",
    "        out = ax.scatter(Si['mu_star'], y, c=u'k', marker=u'o',\n",
    "                         **param_dict)\n",
    "        \n",
    "        if annot is True:\n",
    "            for i, txt in enumerate(Si['names']):\n",
    "                ax.annotate(txt,\n",
    "                            xy = (Si['mu_star'][i], y[i]),\n",
    "                            xytext=(np.random.randint(-50,50),np.random.randint(-50,50)), \n",
    "                            textcoords='offset points', ha='center', va='bottom',\n",
    "                            bbox=dict(boxstyle='round,pad=0.2', fc='yellow', alpha=0.3),\n",
    "                            arrowprops=dict(arrowstyle='->', connectionstyle='arc3,rad=0.5', color='red')                    \n",
    "                           )\n",
    "            \n",
    "        ax.set_ylabel(r'$\\sigma$')\n",
    "\n",
    "        ax.set_xlim(0,)\n",
    "        ax.set_ylim(0,)\n",
    "\n",
    "        x_axis_bounds = np.array(ax.get_xlim())\n",
    "\n",
    "        line1, = ax.plot(x_axis_bounds, x_axis_bounds, 'k-')\n",
    "        line2, = ax.plot(x_axis_bounds, 0.5 * x_axis_bounds, 'k--')\n",
    "        line3, = ax.plot(x_axis_bounds, 0.1 * x_axis_bounds, 'k-.')\n",
    "\n",
    "        ax.legend((line1, line2, line3), (r'$\\sigma / \\mu^{\\star} = 1.0$',\n",
    "                                          r'$\\sigma / \\mu^{\\star} = 0.5$',\n",
    "                                          r'$\\sigma / \\mu^{\\star} = 0.1$'),\n",
    "                  loc='best')\n",
    "\n",
    "    else:\n",
    "        y = Si['mu_star_conf']\n",
    "        out = ax.scatter(Si['mu_star'], y, c=u'k', marker=u'o',\n",
    "                         **param_dict)\n",
    "        ax.set_ylabel(r'$95\\% CI$')\n",
    "\n",
    "    ax.set_xlabel(r'$\\mu^\\star$ ' + unit)\n",
    "    ax.set_ylim(0-(0.01 * np.array(ax.get_ylim()[1])), )\n",
    "\n",
    "    return out"
   ]
  },
  {
   "cell_type": "code",
   "execution_count": 47,
   "metadata": {},
   "outputs": [
    {
     "data": {
      "image/png": "[encoded data removed]",
      "text/plain": [
       "<Figure size 1152x576 with 4 Axes>"
      ]
     },
     "metadata": {
      "needs_background": "light"
     },
     "output_type": "display_data"
    },
    {
     "data": {
      "image/png": "[encoded data removed]",
      "text/plain": [
       "<Figure size 1152x288 with 8 Axes>"
      ]
     },
     "metadata": {
      "needs_background": "light"
     },
     "output_type": "display_data"
    }
   ],
   "source": [
    "fig, axes = plt.subplots(2, 2, figsize=(16,8))\n",
    "horizontal_bar_plot(axes[0,0], Si, {}, sortby='mu_star', unit=r\"tCO$_2$/year - Sorted by mu_star\")\n",
    "covariance_plot(axes[0,1], Si, {}, unit=r\"tCO$_2$/year\")\n",
    "horizontal_bar_plot(axes[1,0], Si, {}, sortby='mu', unit=r\"tCO$_2$/year - Sorted by mu\")\n",
    "horizontal_bar_plot(axes[1,1], Si, {}, sortby='sigma', unit=r\"tCO$_2$/year  - Sorted by sigma\")\n",
    "\n",
    "\n",
    "fig2 = plt.figure(figsize=(16,4))\n",
    "sample_histograms(fig2, param_values, problem, {'color': 'y'})\n",
    "\n",
    "plt.tight_layout()"
   ]
  },
  {
   "cell_type": "markdown",
   "metadata": {},
   "source": [
    "### For PDK info"
   ]
  },
  {
   "cell_type": "code",
   "execution_count": 50,
   "metadata": {},
   "outputs": [],
   "source": [
    "import pandas as pd"
   ]
  },
  {
   "cell_type": "code",
   "execution_count": 54,
   "metadata": {},
   "outputs": [],
   "source": [
    "params = pd.read_csv(\"C:/Users/a0866893/TI Drive/DataAnalytics/iipp/pdk/lbc9/discrete/nmos/NCH_3V3_109/data/params.csv\")\n",
    "results = pd.read_csv(\"C:/Users/a0866893/TI Drive/DataAnalytics/iipp/pdk/lbc9/discrete/nmos/NCH_3V3_109/data/results.csv\")"
   ]
  },
  {
   "cell_type": "code",
   "execution_count": 55,
   "metadata": {},
   "outputs": [
    {
     "name": "stdout",
     "output_type": "stream",
     "text": [
      "(10000, 21)\n",
      "(10000, 19)\n"
     ]
    }
   ],
   "source": [
    "print(params.shape)\n",
    "print(results.shape)"
   ]
  },
  {
   "cell_type": "code",
   "execution_count": 58,
   "metadata": {},
   "outputs": [
    {
     "name": "stdout",
     "output_type": "stream",
     "text": [
      "Index(['DatasetName', 'JobName', 'CornerName', 'harmony__temp', 'p_length',\n",
      "       'p_vbs', 'p_vds', 'p_vgs', 'p_width', 'LINT1_LBC9_snd', 'NCH_LBC9_snd',\n",
      "       'RSD_LBC9_snd', 'TOX_5V_LBC9_snd', 'WINT_LBC9_snd', 'nVFB_LBC9_snd',\n",
      "       'NCH_3V3_109.top_I0.MN2.MN9999.NCH_LBC9_mm',\n",
      "       'NCH_3V3_109.top_I0.MN2.MN9999.U0_LBC9_mm',\n",
      "       'NCH_3V3_109.top_I0.MN2.MN9999.nVFB_LBC9_mm',\n",
      "       'top_I0.MN0.MN9999.NCH_LBC9_mm', 'top_I0.MN0.MN9999.U0_LBC9_mm',\n",
      "       'top_I0.MN0.MN9999.nVFB_LBC9_mm'],\n",
      "      dtype='object')\n",
      "Index(['DatasetName', 'JobName', 'CornerName', 'NCH_3V3_109.op.cgg',\n",
      "       'NCH_3V3_109.op.gds', 'NCH_3V3_109.op.gm', 'NCH_3V3_109.op.gmbs',\n",
      "       'NCH_3V3_109.op.gmoverid', 'NCH_3V3_109.op.ids', 'NCH_3V3_109.op.idsmm',\n",
      "       'NCH_3V3_109.op.idsrd', 'NCH_3V3_109.op.region', 'NCH_3V3_109.op.rsw',\n",
      "       'NCH_3V3_109.op.vbs', 'NCH_3V3_109.op.vds', 'NCH_3V3_109.op.vdsat',\n",
      "       'NCH_3V3_109.op.vgs', 'NCH_3V3_109.op.vt', 'NCH_3V3_109.op.vtmm'],\n",
      "      dtype='object')\n"
     ]
    }
   ],
   "source": [
    "param_names = params.columns\n",
    "result_names = results.columns\n",
    "print(param_names)\n",
    "print(result_names)"
   ]
  },
  {
   "cell_type": "code",
   "execution_count": 75,
   "metadata": {},
   "outputs": [
    {
     "data": {
      "text/plain": [
       "(10000, 37)"
      ]
     },
     "execution_count": 75,
     "metadata": {},
     "output_type": "execute_result"
    }
   ],
   "source": [
    "join_on = ['JobName', 'DatasetName', 'CornerName']\n",
    "data = pd.merge(params, results, how = \"inner\", on = join_on)\n",
    "data.shape"
   ]
  },
  {
   "cell_type": "code",
   "execution_count": 76,
   "metadata": {},
   "outputs": [
    {
     "data": {
      "text/plain": [
       "Index(['DatasetName', 'JobName', 'CornerName', 'harmony__temp', 'p_length',\n",
       "       'p_vbs', 'p_vds', 'p_vgs', 'p_width', 'LINT1_LBC9_snd', 'NCH_LBC9_snd',\n",
       "       'RSD_LBC9_snd', 'TOX_5V_LBC9_snd', 'WINT_LBC9_snd', 'nVFB_LBC9_snd',\n",
       "       'NCH_3V3_109.top_I0.MN2.MN9999.NCH_LBC9_mm',\n",
       "       'NCH_3V3_109.top_I0.MN2.MN9999.U0_LBC9_mm',\n",
       "       'NCH_3V3_109.top_I0.MN2.MN9999.nVFB_LBC9_mm',\n",
       "       'top_I0.MN0.MN9999.NCH_LBC9_mm', 'top_I0.MN0.MN9999.U0_LBC9_mm',\n",
       "       'top_I0.MN0.MN9999.nVFB_LBC9_mm', 'NCH_3V3_109.op.cgg',\n",
       "       'NCH_3V3_109.op.gds', 'NCH_3V3_109.op.gm', 'NCH_3V3_109.op.gmbs',\n",
       "       'NCH_3V3_109.op.gmoverid', 'NCH_3V3_109.op.ids', 'NCH_3V3_109.op.idsmm',\n",
       "       'NCH_3V3_109.op.idsrd', 'NCH_3V3_109.op.region', 'NCH_3V3_109.op.rsw',\n",
       "       'NCH_3V3_109.op.vbs', 'NCH_3V3_109.op.vds', 'NCH_3V3_109.op.vdsat',\n",
       "       'NCH_3V3_109.op.vgs', 'NCH_3V3_109.op.vt', 'NCH_3V3_109.op.vtmm'],\n",
       "      dtype='object')"
      ]
     },
     "execution_count": 76,
     "metadata": {},
     "output_type": "execute_result"
    }
   ],
   "source": [
    "data.columns"
   ]
  },
  {
   "cell_type": "code",
   "execution_count": 77,
   "metadata": {},
   "outputs": [],
   "source": [
    "data.drop(join_on, axis=1, inplace=True)"
   ]
  },
  {
   "cell_type": "code",
   "execution_count": 82,
   "metadata": {},
   "outputs": [
    {
     "data": {
      "text/plain": [
       "Index(['DatasetName', 'JobName', 'CornerName', 'harmony__temp', 'p_length',\n",
       "       'p_vbs', 'p_vds', 'p_vgs', 'p_width', 'LINT1_LBC9_snd', 'NCH_LBC9_snd',\n",
       "       'RSD_LBC9_snd', 'TOX_5V_LBC9_snd', 'WINT_LBC9_snd', 'nVFB_LBC9_snd',\n",
       "       'NCH_3V3_109.top_I0.MN2.MN9999.NCH_LBC9_mm',\n",
       "       'NCH_3V3_109.top_I0.MN2.MN9999.U0_LBC9_mm',\n",
       "       'NCH_3V3_109.top_I0.MN2.MN9999.nVFB_LBC9_mm',\n",
       "       'top_I0.MN0.MN9999.NCH_LBC9_mm', 'top_I0.MN0.MN9999.U0_LBC9_mm',\n",
       "       'top_I0.MN0.MN9999.nVFB_LBC9_mm'],\n",
       "      dtype='object')"
      ]
     },
     "execution_count": 82,
     "metadata": {},
     "output_type": "execute_result"
    }
   ],
   "source": [
    "param_names"
   ]
  },
  {
   "cell_type": "code",
   "execution_count": 90,
   "metadata": {},
   "outputs": [],
   "source": [
    "param_names = np.intersect1d(param_names, data.columns)\n",
    "result_names = np.intersect1d(result_names, data.columns)"
   ]
  },
  {
   "cell_type": "code",
   "execution_count": 91,
   "metadata": {},
   "outputs": [
    {
     "data": {
      "text/plain": [
       "array(['LINT1_LBC9_snd', 'NCH_3V3_109.top_I0.MN2.MN9999.NCH_LBC9_mm',\n",
       "       'NCH_3V3_109.top_I0.MN2.MN9999.U0_LBC9_mm',\n",
       "       'NCH_3V3_109.top_I0.MN2.MN9999.nVFB_LBC9_mm', 'NCH_LBC9_snd',\n",
       "       'RSD_LBC9_snd', 'TOX_5V_LBC9_snd', 'WINT_LBC9_snd',\n",
       "       'harmony__temp', 'nVFB_LBC9_snd', 'p_length', 'p_vbs', 'p_vds',\n",
       "       'p_vgs', 'p_width', 'top_I0.MN0.MN9999.NCH_LBC9_mm',\n",
       "       'top_I0.MN0.MN9999.U0_LBC9_mm', 'top_I0.MN0.MN9999.nVFB_LBC9_mm'],\n",
       "      dtype=object)"
      ]
     },
     "execution_count": 91,
     "metadata": {},
     "output_type": "execute_result"
    }
   ],
   "source": [
    "param_names"
   ]
  },
  {
   "cell_type": "code",
   "execution_count": 92,
   "metadata": {},
   "outputs": [
    {
     "data": {
      "text/plain": [
       "array(['NCH_3V3_109.op.cgg', 'NCH_3V3_109.op.gds', 'NCH_3V3_109.op.gm',\n",
       "       'NCH_3V3_109.op.gmbs', 'NCH_3V3_109.op.gmoverid',\n",
       "       'NCH_3V3_109.op.ids', 'NCH_3V3_109.op.idsmm',\n",
       "       'NCH_3V3_109.op.idsrd', 'NCH_3V3_109.op.region',\n",
       "       'NCH_3V3_109.op.rsw', 'NCH_3V3_109.op.vbs', 'NCH_3V3_109.op.vds',\n",
       "       'NCH_3V3_109.op.vdsat', 'NCH_3V3_109.op.vgs', 'NCH_3V3_109.op.vt',\n",
       "       'NCH_3V3_109.op.vtmm'], dtype=object)"
      ]
     },
     "execution_count": 92,
     "metadata": {},
     "output_type": "execute_result"
    }
   ],
   "source": [
    "result_names"
   ]
  },
  {
   "cell_type": "code",
   "execution_count": 111,
   "metadata": {},
   "outputs": [],
   "source": [
    "min_param_values = data[param_names].min().values\n",
    "max_param_values = data[param_names].max().values\n",
    "bounds = list(zip(min_param_values, max_param_values))\n",
    "num_vars = len(param_names)"
   ]
  },
  {
   "cell_type": "code",
   "execution_count": 125,
   "metadata": {},
   "outputs": [
    {
     "data": {
      "text/plain": [
       "{'num_vars': 18,\n",
       " 'names': ['LINT1_LBC9_snd',\n",
       "  'NCH_3V3_109.top_I0.MN2.MN9999.NCH_LBC9_mm',\n",
       "  'NCH_3V3_109.top_I0.MN2.MN9999.U0_LBC9_mm',\n",
       "  'NCH_3V3_109.top_I0.MN2.MN9999.nVFB_LBC9_mm',\n",
       "  'NCH_LBC9_snd',\n",
       "  'RSD_LBC9_snd',\n",
       "  'TOX_5V_LBC9_snd',\n",
       "  'WINT_LBC9_snd',\n",
       "  'harmony__temp',\n",
       "  'nVFB_LBC9_snd',\n",
       "  'p_length',\n",
       "  'p_vbs',\n",
       "  'p_vds',\n",
       "  'p_vgs',\n",
       "  'p_width',\n",
       "  'top_I0.MN0.MN9999.NCH_LBC9_mm',\n",
       "  'top_I0.MN0.MN9999.U0_LBC9_mm',\n",
       "  'top_I0.MN0.MN9999.nVFB_LBC9_mm'],\n",
       " 'groups': None,\n",
       " 'bounds': [(-5.99872303, 5.99916697),\n",
       "  (-5.99886847, 5.99767494),\n",
       "  (-5.99967718, 5.99526215),\n",
       "  (-5.99868727, 5.99991274),\n",
       "  (-5.99675083, 5.99826193),\n",
       "  (-5.99989891, 5.99884176),\n",
       "  (-5.99918509, 5.99842358),\n",
       "  (-5.99986315, 5.99777555),\n",
       "  (-54.969409899999995, 199.986511),\n",
       "  (-5.99995327, 5.99553251),\n",
       "  (0.600297689, 24.9983044),\n",
       "  (0.00101587246, 3.59900641),\n",
       "  (0.000139187367, 3.59997845),\n",
       "  (7.17169605e-05, 5.4997406),\n",
       "  (1.00919449, 99.9929428),\n",
       "  (-5.99886847, 5.99767494),\n",
       "  (-5.99967718, 5.99526215),\n",
       "  (-5.99868727, 5.99991274)]}"
      ]
     },
     "execution_count": 125,
     "metadata": {},
     "output_type": "execute_result"
    }
   ],
   "source": [
    "problem = {\n",
    "    'num_vars': num_vars,\n",
    "    'names': list(param_names),\n",
    "    'groups': None,\n",
    "    'bounds': bounds\n",
    "}\n",
    "# Files with a 4th column for \"group name\" will be detected automatically, e.g.\n",
    "# param_file = '../../src/SALib/test_functions/params/Ishigami_groups.txt'\n",
    "problem"
   ]
  },
  {
   "cell_type": "code",
   "execution_count": 136,
   "metadata": {},
   "outputs": [
    {
     "data": {
      "text/plain": [
       "(9500, 34)"
      ]
     },
     "execution_count": 136,
     "metadata": {},
     "output_type": "execute_result"
    }
   ],
   "source": [
    "data_sample = data.sample(n=9500,random_state=101)\n",
    "data_sample.shape"
   ]
  },
  {
   "cell_type": "code",
   "execution_count": 201,
   "metadata": {},
   "outputs": [
    {
     "name": "stdout",
     "output_type": "stream",
     "text": [
      "(9500, 18)\n"
     ]
    }
   ],
   "source": [
    "param_values = data_sample[param_names].values\n",
    "print(param_values.shape)\n",
    "Y = data_sample['NCH_3V3_109.op.vt'].values"
   ]
  },
  {
   "cell_type": "code",
   "execution_count": 215,
   "metadata": {},
   "outputs": [
    {
     "name": "stdout",
     "output_type": "stream",
     "text": [
      "Parameter                         Mu_Star         Mu    Mu_Star_Conf      Sigma\n",
      "LINT1_LBC9_snd                      2.247     -0.188           0.154      2.758\n",
      "NCH_3V3_109.top_I0.MN2.MN9999.NCH_LBC9_mm      2.025      0.053           0.120      2.523\n",
      "NCH_3V3_109.top_I0.MN2.MN9999.U0_LBC9_mm      2.136      0.020           0.140      2.682\n",
      "NCH_3V3_109.top_I0.MN2.MN9999.nVFB_LBC9_mm      2.131      0.028           0.142      2.673\n",
      "NCH_LBC9_snd                        2.206      0.705           0.157      2.737\n",
      "RSD_LBC9_snd                        2.209      0.086           0.150      2.785\n",
      "TOX_5V_LBC9_snd                     2.605      1.596           0.166      2.776\n",
      "WINT_LBC9_snd                       2.246      0.016           0.156      2.826\n",
      "harmony__temp                       2.578     -1.798           0.169      2.616\n",
      "nVFB_LBC9_snd                       2.535      1.631           0.174      2.738\n",
      "p_length                            2.173     -0.154           0.157      2.693\n",
      "p_vbs                               5.823      5.823           0.197      2.231\n",
      "p_vds                               2.176     -0.160           0.148      2.741\n",
      "p_vgs                               2.169      0.123           0.145      2.687\n",
      "p_width                             2.127      0.057           0.153      2.659\n",
      "top_I0.MN0.MN9999.NCH_LBC9_mm       2.025      0.053           0.143      2.523\n",
      "top_I0.MN0.MN9999.U0_LBC9_mm        2.136      0.020           0.143      2.682\n",
      "top_I0.MN0.MN9999.nVFB_LBC9_mm      2.131      0.028           0.140      2.673\n"
     ]
    }
   ],
   "source": [
    "# Perform the sensitivity analysis using the model output\n",
    "# Specify which column of the output file to analyze (zero-indexed)\n",
    "Si = morris.analyze(problem, param_values, Y, conf_level=0.95,\n",
    "                    print_to_console=True,\n",
    "                    num_levels=75, num_resamples=100)  # num_levels changesd to 75 since Franzon's group used between 50 and 100\n",
    "# Returns a dictionary with keys 'mu', 'mu_star', 'sigma', and 'mu_star_conf'\n",
    "# e.g. Si['mu_star'] contains the mu* value for each parameter, in the\n",
    "# same order as the parameter file"
   ]
  },
  {
   "cell_type": "code",
   "execution_count": 216,
   "metadata": {},
   "outputs": [
    {
     "data": {
      "image/png": "[encoded data removed]",
      "text/plain": [
       "<Figure size 1152x432 with 2 Axes>"
      ]
     },
     "metadata": {
      "needs_background": "light"
     },
     "output_type": "display_data"
    }
   ],
   "source": [
    "fig, axes = plt.subplots(1, 2, figsize=(16,6))\n",
    "horizontal_bar_plot(axes[0], Si, {}, sortby='mu_star', unit=r\"Sorted by mu_star\")\n",
    "covariance_plot(axes[1], Si, {}, unit=r\"\", annot=False)\n",
    "plt.tight_layout()"
   ]
  },
  {
   "cell_type": "code",
   "execution_count": 204,
   "metadata": {},
   "outputs": [
    {
     "data": {
      "image/png": "[encoded data removed]",
      "text/plain": [
       "<Figure size 432x288 with 1 Axes>"
      ]
     },
     "metadata": {
      "needs_background": "light"
     },
     "output_type": "display_data"
    }
   ],
   "source": [
    "plt.boxplot(Si['mu_star'])\n",
    "plt.show()"
   ]
  },
  {
   "cell_type": "code",
   "execution_count": null,
   "metadata": {},
   "outputs": [],
   "source": []
  },
  {
   "cell_type": "code",
   "execution_count": null,
   "metadata": {},
   "outputs": [],
   "source": []
  }
 ],
 "metadata": {
  "kernelspec": {
   "display_name": "Python 3",
   "language": "python",
   "name": "python3"
  },
  "language_info": {
   "codemirror_mode": {
    "name": "ipython",
    "version": 3
   },
   "file_extension": ".py",
   "mimetype": "text/x-python",
   "name": "python",
   "nbconvert_exporter": "python",
   "pygments_lexer": "ipython3",
   "version": "3.7.3"
  }
 },
 "nbformat": 4,
 "nbformat_minor": 4
}
